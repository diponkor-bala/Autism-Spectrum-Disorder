{
  "cells": [
    {
      "cell_type": "markdown",
      "metadata": {
        "id": "view-in-github",
        "colab_type": "text"
      },
      "source": [
        "<a href=\"https://colab.research.google.com/github/bsaha205/asd/blob/main/ASD_Detection_Children.ipynb\" target=\"_parent\"><img src=\"https://colab.research.google.com/assets/colab-badge.svg\" alt=\"Open In Colab\"/></a>"
      ]
    },
    {
      "cell_type": "code",
      "execution_count": null,
      "metadata": {
        "id": "mX0ekhHYE-5o",
        "colab": {
          "base_uri": "https://localhost:8080/"
        },
        "outputId": "08dfab8b-5038-48c9-9c41-2a4578ed34c6"
      },
      "outputs": [
        {
          "output_type": "stream",
          "name": "stdout",
          "text": [
            "Mounted at /content/drive/\n"
          ]
        }
      ],
      "source": [
        "from google.colab import drive\n",
        "drive.mount('/content/drive/')"
      ]
    },
    {
      "cell_type": "code",
      "source": [
        "#necessary libraries\n",
        "import pandas as pd\n",
        "import numpy as np\n",
        "import seaborn as sns\n",
        "import matplotlib.pyplot as plt\n",
        "import plotly.express as px\n",
        "from plotly.subplots import make_subplots\n",
        "import plotly.graph_objects as go\n",
        "from sklearn.impute import SimpleImputer\n",
        "import warnings\n",
        "warnings.filterwarnings('ignore')"
      ],
      "metadata": {
        "id": "Ljb4krfFWtOl"
      },
      "execution_count": null,
      "outputs": []
    },
    {
      "cell_type": "code",
      "execution_count": null,
      "metadata": {
        "id": "ickOJDvTUibO"
      },
      "outputs": [],
      "source": [
        "#loading dataset\n",
        "ch = pd.read_csv(\"/content/drive/MyDrive/Autism_disorder/Autism-Child-Data.csv\",na_values=['?'])"
      ]
    },
    {
      "cell_type": "code",
      "execution_count": null,
      "metadata": {
        "colab": {
          "base_uri": "https://localhost:8080/",
          "height": 386
        },
        "id": "5xTbex5RgyIS",
        "outputId": "da4da4d4-f5eb-4075-81de-01c9f88775ce"
      },
      "outputs": [
        {
          "output_type": "execute_result",
          "data": {
            "text/plain": [
              "      id  A1_Score  A2_Score  A3_Score  A4_Score  A5_Score  A6_Score  \\\n",
              "143  144         1         0         1         1         0         1   \n",
              "60    61         1         0         1         0         1         0   \n",
              "109  110         0         0         1         0         1         0   \n",
              "114  115         1         0         1         0         1         1   \n",
              "84    85         0         0         1         0         1         1   \n",
              "\n",
              "     A7_Score  A8_Score  A9_Score  ...  gender    ethnicity jundice austim  \\\n",
              "143         1         1         0  ...       m        Asian      no     no   \n",
              "60          0         0         0  ...       m      Turkish      no     no   \n",
              "109         0         0         0  ...       m        Asian      no     no   \n",
              "114         0         1         0  ...       m  South Asian      no     no   \n",
              "84          1         0         1  ...       m        Asian      no     no   \n",
              "\n",
              "    contry_of_res used_app_before result    age_desc  relation Class/ASD  \n",
              "143         India              no      7  4-11 years  Relative       YES  \n",
              "60         Turkey              no      3  4-11 years  Relative        NO  \n",
              "109         Japan              no      3  4-11 years    Parent        NO  \n",
              "114         India              no      6  4-11 years    Parent        NO  \n",
              "84          India              no      6  4-11 years    Parent        NO  \n",
              "\n",
              "[5 rows x 22 columns]"
            ],
            "text/html": [
              "\n",
              "  <div id=\"df-5dc37386-d09a-4291-85ac-29bb9ad48af7\">\n",
              "    <div class=\"colab-df-container\">\n",
              "      <div>\n",
              "<style scoped>\n",
              "    .dataframe tbody tr th:only-of-type {\n",
              "        vertical-align: middle;\n",
              "    }\n",
              "\n",
              "    .dataframe tbody tr th {\n",
              "        vertical-align: top;\n",
              "    }\n",
              "\n",
              "    .dataframe thead th {\n",
              "        text-align: right;\n",
              "    }\n",
              "</style>\n",
              "<table border=\"1\" class=\"dataframe\">\n",
              "  <thead>\n",
              "    <tr style=\"text-align: right;\">\n",
              "      <th></th>\n",
              "      <th>id</th>\n",
              "      <th>A1_Score</th>\n",
              "      <th>A2_Score</th>\n",
              "      <th>A3_Score</th>\n",
              "      <th>A4_Score</th>\n",
              "      <th>A5_Score</th>\n",
              "      <th>A6_Score</th>\n",
              "      <th>A7_Score</th>\n",
              "      <th>A8_Score</th>\n",
              "      <th>A9_Score</th>\n",
              "      <th>...</th>\n",
              "      <th>gender</th>\n",
              "      <th>ethnicity</th>\n",
              "      <th>jundice</th>\n",
              "      <th>austim</th>\n",
              "      <th>contry_of_res</th>\n",
              "      <th>used_app_before</th>\n",
              "      <th>result</th>\n",
              "      <th>age_desc</th>\n",
              "      <th>relation</th>\n",
              "      <th>Class/ASD</th>\n",
              "    </tr>\n",
              "  </thead>\n",
              "  <tbody>\n",
              "    <tr>\n",
              "      <th>143</th>\n",
              "      <td>144</td>\n",
              "      <td>1</td>\n",
              "      <td>0</td>\n",
              "      <td>1</td>\n",
              "      <td>1</td>\n",
              "      <td>0</td>\n",
              "      <td>1</td>\n",
              "      <td>1</td>\n",
              "      <td>1</td>\n",
              "      <td>0</td>\n",
              "      <td>...</td>\n",
              "      <td>m</td>\n",
              "      <td>Asian</td>\n",
              "      <td>no</td>\n",
              "      <td>no</td>\n",
              "      <td>India</td>\n",
              "      <td>no</td>\n",
              "      <td>7</td>\n",
              "      <td>4-11 years</td>\n",
              "      <td>Relative</td>\n",
              "      <td>YES</td>\n",
              "    </tr>\n",
              "    <tr>\n",
              "      <th>60</th>\n",
              "      <td>61</td>\n",
              "      <td>1</td>\n",
              "      <td>0</td>\n",
              "      <td>1</td>\n",
              "      <td>0</td>\n",
              "      <td>1</td>\n",
              "      <td>0</td>\n",
              "      <td>0</td>\n",
              "      <td>0</td>\n",
              "      <td>0</td>\n",
              "      <td>...</td>\n",
              "      <td>m</td>\n",
              "      <td>Turkish</td>\n",
              "      <td>no</td>\n",
              "      <td>no</td>\n",
              "      <td>Turkey</td>\n",
              "      <td>no</td>\n",
              "      <td>3</td>\n",
              "      <td>4-11 years</td>\n",
              "      <td>Relative</td>\n",
              "      <td>NO</td>\n",
              "    </tr>\n",
              "    <tr>\n",
              "      <th>109</th>\n",
              "      <td>110</td>\n",
              "      <td>0</td>\n",
              "      <td>0</td>\n",
              "      <td>1</td>\n",
              "      <td>0</td>\n",
              "      <td>1</td>\n",
              "      <td>0</td>\n",
              "      <td>0</td>\n",
              "      <td>0</td>\n",
              "      <td>0</td>\n",
              "      <td>...</td>\n",
              "      <td>m</td>\n",
              "      <td>Asian</td>\n",
              "      <td>no</td>\n",
              "      <td>no</td>\n",
              "      <td>Japan</td>\n",
              "      <td>no</td>\n",
              "      <td>3</td>\n",
              "      <td>4-11 years</td>\n",
              "      <td>Parent</td>\n",
              "      <td>NO</td>\n",
              "    </tr>\n",
              "    <tr>\n",
              "      <th>114</th>\n",
              "      <td>115</td>\n",
              "      <td>1</td>\n",
              "      <td>0</td>\n",
              "      <td>1</td>\n",
              "      <td>0</td>\n",
              "      <td>1</td>\n",
              "      <td>1</td>\n",
              "      <td>0</td>\n",
              "      <td>1</td>\n",
              "      <td>0</td>\n",
              "      <td>...</td>\n",
              "      <td>m</td>\n",
              "      <td>South Asian</td>\n",
              "      <td>no</td>\n",
              "      <td>no</td>\n",
              "      <td>India</td>\n",
              "      <td>no</td>\n",
              "      <td>6</td>\n",
              "      <td>4-11 years</td>\n",
              "      <td>Parent</td>\n",
              "      <td>NO</td>\n",
              "    </tr>\n",
              "    <tr>\n",
              "      <th>84</th>\n",
              "      <td>85</td>\n",
              "      <td>0</td>\n",
              "      <td>0</td>\n",
              "      <td>1</td>\n",
              "      <td>0</td>\n",
              "      <td>1</td>\n",
              "      <td>1</td>\n",
              "      <td>1</td>\n",
              "      <td>0</td>\n",
              "      <td>1</td>\n",
              "      <td>...</td>\n",
              "      <td>m</td>\n",
              "      <td>Asian</td>\n",
              "      <td>no</td>\n",
              "      <td>no</td>\n",
              "      <td>India</td>\n",
              "      <td>no</td>\n",
              "      <td>6</td>\n",
              "      <td>4-11 years</td>\n",
              "      <td>Parent</td>\n",
              "      <td>NO</td>\n",
              "    </tr>\n",
              "  </tbody>\n",
              "</table>\n",
              "<p>5 rows × 22 columns</p>\n",
              "</div>\n",
              "      <button class=\"colab-df-convert\" onclick=\"convertToInteractive('df-5dc37386-d09a-4291-85ac-29bb9ad48af7')\"\n",
              "              title=\"Convert this dataframe to an interactive table.\"\n",
              "              style=\"display:none;\">\n",
              "        \n",
              "  <svg xmlns=\"http://www.w3.org/2000/svg\" height=\"24px\"viewBox=\"0 0 24 24\"\n",
              "       width=\"24px\">\n",
              "    <path d=\"M0 0h24v24H0V0z\" fill=\"none\"/>\n",
              "    <path d=\"M18.56 5.44l.94 2.06.94-2.06 2.06-.94-2.06-.94-.94-2.06-.94 2.06-2.06.94zm-11 1L8.5 8.5l.94-2.06 2.06-.94-2.06-.94L8.5 2.5l-.94 2.06-2.06.94zm10 10l.94 2.06.94-2.06 2.06-.94-2.06-.94-.94-2.06-.94 2.06-2.06.94z\"/><path d=\"M17.41 7.96l-1.37-1.37c-.4-.4-.92-.59-1.43-.59-.52 0-1.04.2-1.43.59L10.3 9.45l-7.72 7.72c-.78.78-.78 2.05 0 2.83L4 21.41c.39.39.9.59 1.41.59.51 0 1.02-.2 1.41-.59l7.78-7.78 2.81-2.81c.8-.78.8-2.07 0-2.86zM5.41 20L4 18.59l7.72-7.72 1.47 1.35L5.41 20z\"/>\n",
              "  </svg>\n",
              "      </button>\n",
              "      \n",
              "  <style>\n",
              "    .colab-df-container {\n",
              "      display:flex;\n",
              "      flex-wrap:wrap;\n",
              "      gap: 12px;\n",
              "    }\n",
              "\n",
              "    .colab-df-convert {\n",
              "      background-color: #E8F0FE;\n",
              "      border: none;\n",
              "      border-radius: 50%;\n",
              "      cursor: pointer;\n",
              "      display: none;\n",
              "      fill: #1967D2;\n",
              "      height: 32px;\n",
              "      padding: 0 0 0 0;\n",
              "      width: 32px;\n",
              "    }\n",
              "\n",
              "    .colab-df-convert:hover {\n",
              "      background-color: #E2EBFA;\n",
              "      box-shadow: 0px 1px 2px rgba(60, 64, 67, 0.3), 0px 1px 3px 1px rgba(60, 64, 67, 0.15);\n",
              "      fill: #174EA6;\n",
              "    }\n",
              "\n",
              "    [theme=dark] .colab-df-convert {\n",
              "      background-color: #3B4455;\n",
              "      fill: #D2E3FC;\n",
              "    }\n",
              "\n",
              "    [theme=dark] .colab-df-convert:hover {\n",
              "      background-color: #434B5C;\n",
              "      box-shadow: 0px 1px 3px 1px rgba(0, 0, 0, 0.15);\n",
              "      filter: drop-shadow(0px 1px 2px rgba(0, 0, 0, 0.3));\n",
              "      fill: #FFFFFF;\n",
              "    }\n",
              "  </style>\n",
              "\n",
              "      <script>\n",
              "        const buttonEl =\n",
              "          document.querySelector('#df-5dc37386-d09a-4291-85ac-29bb9ad48af7 button.colab-df-convert');\n",
              "        buttonEl.style.display =\n",
              "          google.colab.kernel.accessAllowed ? 'block' : 'none';\n",
              "\n",
              "        async function convertToInteractive(key) {\n",
              "          const element = document.querySelector('#df-5dc37386-d09a-4291-85ac-29bb9ad48af7');\n",
              "          const dataTable =\n",
              "            await google.colab.kernel.invokeFunction('convertToInteractive',\n",
              "                                                     [key], {});\n",
              "          if (!dataTable) return;\n",
              "\n",
              "          const docLinkHtml = 'Like what you see? Visit the ' +\n",
              "            '<a target=\"_blank\" href=https://colab.research.google.com/notebooks/data_table.ipynb>data table notebook</a>'\n",
              "            + ' to learn more about interactive tables.';\n",
              "          element.innerHTML = '';\n",
              "          dataTable['output_type'] = 'display_data';\n",
              "          await google.colab.output.renderOutput(dataTable, element);\n",
              "          const docLink = document.createElement('div');\n",
              "          docLink.innerHTML = docLinkHtml;\n",
              "          element.appendChild(docLink);\n",
              "        }\n",
              "      </script>\n",
              "    </div>\n",
              "  </div>\n",
              "  "
            ]
          },
          "metadata": {},
          "execution_count": 4
        }
      ],
      "source": [
        "#Children\n",
        "ch.sample(5)"
      ]
    },
    {
      "cell_type": "code",
      "execution_count": null,
      "metadata": {
        "colab": {
          "base_uri": "https://localhost:8080/"
        },
        "id": "cosybTKdI3Ur",
        "outputId": "f01af5e7-7ba2-4270-8086-d8d109dbe4a5"
      },
      "outputs": [
        {
          "output_type": "stream",
          "name": "stdout",
          "text": [
            "Children    : (292, 22)\n"
          ]
        }
      ],
      "source": [
        "# Number of tuples and fields\n",
        "print(\"Children    :\",ch.shape)"
      ]
    },
    {
      "cell_type": "code",
      "execution_count": null,
      "metadata": {
        "colab": {
          "base_uri": "https://localhost:8080/"
        },
        "id": "MXGaYqaxiNA8",
        "outputId": "45a2a5db-5a6c-4957-ff30-0b454c35ab6d"
      },
      "outputs": [
        {
          "output_type": "stream",
          "name": "stdout",
          "text": [
            "<class 'pandas.core.frame.DataFrame'>\n",
            "RangeIndex: 292 entries, 0 to 291\n",
            "Data columns (total 22 columns):\n",
            " #   Column           Non-Null Count  Dtype  \n",
            "---  ------           --------------  -----  \n",
            " 0   id               292 non-null    int64  \n",
            " 1   A1_Score         292 non-null    int64  \n",
            " 2   A2_Score         292 non-null    int64  \n",
            " 3   A3_Score         292 non-null    int64  \n",
            " 4   A4_Score         292 non-null    int64  \n",
            " 5   A5_Score         292 non-null    int64  \n",
            " 6   A6_Score         292 non-null    int64  \n",
            " 7   A7_Score         292 non-null    int64  \n",
            " 8   A8_Score         292 non-null    int64  \n",
            " 9   A9_Score         292 non-null    int64  \n",
            " 10  A10_Score        292 non-null    int64  \n",
            " 11  age              288 non-null    float64\n",
            " 12  gender           292 non-null    object \n",
            " 13  ethnicity        249 non-null    object \n",
            " 14  jundice          292 non-null    object \n",
            " 15  austim           292 non-null    object \n",
            " 16  contry_of_res    292 non-null    object \n",
            " 17  used_app_before  292 non-null    object \n",
            " 18  result           292 non-null    int64  \n",
            " 19  age_desc         292 non-null    object \n",
            " 20  relation         249 non-null    object \n",
            " 21  Class/ASD        292 non-null    object \n",
            "dtypes: float64(1), int64(12), object(9)\n",
            "memory usage: 50.3+ KB\n"
          ]
        }
      ],
      "source": [
        "#children\n",
        "ch.info()"
      ]
    },
    {
      "cell_type": "code",
      "execution_count": null,
      "metadata": {
        "colab": {
          "base_uri": "https://localhost:8080/",
          "height": 300
        },
        "id": "uydTWHqYxuuL",
        "outputId": "a36fb6e9-d0e8-4e9d-974b-07e13a2e7b36"
      },
      "outputs": [
        {
          "output_type": "execute_result",
          "data": {
            "text/plain": [
              "               id    A1_Score    A2_Score    A3_Score    A4_Score    A5_Score  \\\n",
              "count  292.000000  292.000000  292.000000  292.000000  292.000000  292.000000   \n",
              "mean   146.500000    0.633562    0.534247    0.743151    0.551370    0.743151   \n",
              "std     84.437354    0.482658    0.499682    0.437646    0.498208    0.437646   \n",
              "min      1.000000    0.000000    0.000000    0.000000    0.000000    0.000000   \n",
              "25%     73.750000    0.000000    0.000000    0.000000    0.000000    0.000000   \n",
              "50%    146.500000    1.000000    1.000000    1.000000    1.000000    1.000000   \n",
              "75%    219.250000    1.000000    1.000000    1.000000    1.000000    1.000000   \n",
              "max    292.000000    1.000000    1.000000    1.000000    1.000000    1.000000   \n",
              "\n",
              "         A6_Score    A7_Score    A8_Score    A9_Score   A10_Score         age  \\\n",
              "count  292.000000  292.000000  292.000000  292.000000  292.000000  288.000000   \n",
              "mean     0.712329    0.606164    0.496575    0.493151    0.726027    6.354167   \n",
              "std      0.453454    0.489438    0.500847    0.500811    0.446761    2.365456   \n",
              "min      0.000000    0.000000    0.000000    0.000000    0.000000    4.000000   \n",
              "25%      0.000000    0.000000    0.000000    0.000000    0.000000    4.000000   \n",
              "50%      1.000000    1.000000    0.000000    0.000000    1.000000    6.000000   \n",
              "75%      1.000000    1.000000    1.000000    1.000000    1.000000    8.000000   \n",
              "max      1.000000    1.000000    1.000000    1.000000    1.000000   11.000000   \n",
              "\n",
              "           result  \n",
              "count  292.000000  \n",
              "mean     6.239726  \n",
              "std      2.284882  \n",
              "min      0.000000  \n",
              "25%      5.000000  \n",
              "50%      6.000000  \n",
              "75%      8.000000  \n",
              "max     10.000000  "
            ],
            "text/html": [
              "\n",
              "  <div id=\"df-2536643c-8a64-4a83-bc92-276860f9d1ee\">\n",
              "    <div class=\"colab-df-container\">\n",
              "      <div>\n",
              "<style scoped>\n",
              "    .dataframe tbody tr th:only-of-type {\n",
              "        vertical-align: middle;\n",
              "    }\n",
              "\n",
              "    .dataframe tbody tr th {\n",
              "        vertical-align: top;\n",
              "    }\n",
              "\n",
              "    .dataframe thead th {\n",
              "        text-align: right;\n",
              "    }\n",
              "</style>\n",
              "<table border=\"1\" class=\"dataframe\">\n",
              "  <thead>\n",
              "    <tr style=\"text-align: right;\">\n",
              "      <th></th>\n",
              "      <th>id</th>\n",
              "      <th>A1_Score</th>\n",
              "      <th>A2_Score</th>\n",
              "      <th>A3_Score</th>\n",
              "      <th>A4_Score</th>\n",
              "      <th>A5_Score</th>\n",
              "      <th>A6_Score</th>\n",
              "      <th>A7_Score</th>\n",
              "      <th>A8_Score</th>\n",
              "      <th>A9_Score</th>\n",
              "      <th>A10_Score</th>\n",
              "      <th>age</th>\n",
              "      <th>result</th>\n",
              "    </tr>\n",
              "  </thead>\n",
              "  <tbody>\n",
              "    <tr>\n",
              "      <th>count</th>\n",
              "      <td>292.000000</td>\n",
              "      <td>292.000000</td>\n",
              "      <td>292.000000</td>\n",
              "      <td>292.000000</td>\n",
              "      <td>292.000000</td>\n",
              "      <td>292.000000</td>\n",
              "      <td>292.000000</td>\n",
              "      <td>292.000000</td>\n",
              "      <td>292.000000</td>\n",
              "      <td>292.000000</td>\n",
              "      <td>292.000000</td>\n",
              "      <td>288.000000</td>\n",
              "      <td>292.000000</td>\n",
              "    </tr>\n",
              "    <tr>\n",
              "      <th>mean</th>\n",
              "      <td>146.500000</td>\n",
              "      <td>0.633562</td>\n",
              "      <td>0.534247</td>\n",
              "      <td>0.743151</td>\n",
              "      <td>0.551370</td>\n",
              "      <td>0.743151</td>\n",
              "      <td>0.712329</td>\n",
              "      <td>0.606164</td>\n",
              "      <td>0.496575</td>\n",
              "      <td>0.493151</td>\n",
              "      <td>0.726027</td>\n",
              "      <td>6.354167</td>\n",
              "      <td>6.239726</td>\n",
              "    </tr>\n",
              "    <tr>\n",
              "      <th>std</th>\n",
              "      <td>84.437354</td>\n",
              "      <td>0.482658</td>\n",
              "      <td>0.499682</td>\n",
              "      <td>0.437646</td>\n",
              "      <td>0.498208</td>\n",
              "      <td>0.437646</td>\n",
              "      <td>0.453454</td>\n",
              "      <td>0.489438</td>\n",
              "      <td>0.500847</td>\n",
              "      <td>0.500811</td>\n",
              "      <td>0.446761</td>\n",
              "      <td>2.365456</td>\n",
              "      <td>2.284882</td>\n",
              "    </tr>\n",
              "    <tr>\n",
              "      <th>min</th>\n",
              "      <td>1.000000</td>\n",
              "      <td>0.000000</td>\n",
              "      <td>0.000000</td>\n",
              "      <td>0.000000</td>\n",
              "      <td>0.000000</td>\n",
              "      <td>0.000000</td>\n",
              "      <td>0.000000</td>\n",
              "      <td>0.000000</td>\n",
              "      <td>0.000000</td>\n",
              "      <td>0.000000</td>\n",
              "      <td>0.000000</td>\n",
              "      <td>4.000000</td>\n",
              "      <td>0.000000</td>\n",
              "    </tr>\n",
              "    <tr>\n",
              "      <th>25%</th>\n",
              "      <td>73.750000</td>\n",
              "      <td>0.000000</td>\n",
              "      <td>0.000000</td>\n",
              "      <td>0.000000</td>\n",
              "      <td>0.000000</td>\n",
              "      <td>0.000000</td>\n",
              "      <td>0.000000</td>\n",
              "      <td>0.000000</td>\n",
              "      <td>0.000000</td>\n",
              "      <td>0.000000</td>\n",
              "      <td>0.000000</td>\n",
              "      <td>4.000000</td>\n",
              "      <td>5.000000</td>\n",
              "    </tr>\n",
              "    <tr>\n",
              "      <th>50%</th>\n",
              "      <td>146.500000</td>\n",
              "      <td>1.000000</td>\n",
              "      <td>1.000000</td>\n",
              "      <td>1.000000</td>\n",
              "      <td>1.000000</td>\n",
              "      <td>1.000000</td>\n",
              "      <td>1.000000</td>\n",
              "      <td>1.000000</td>\n",
              "      <td>0.000000</td>\n",
              "      <td>0.000000</td>\n",
              "      <td>1.000000</td>\n",
              "      <td>6.000000</td>\n",
              "      <td>6.000000</td>\n",
              "    </tr>\n",
              "    <tr>\n",
              "      <th>75%</th>\n",
              "      <td>219.250000</td>\n",
              "      <td>1.000000</td>\n",
              "      <td>1.000000</td>\n",
              "      <td>1.000000</td>\n",
              "      <td>1.000000</td>\n",
              "      <td>1.000000</td>\n",
              "      <td>1.000000</td>\n",
              "      <td>1.000000</td>\n",
              "      <td>1.000000</td>\n",
              "      <td>1.000000</td>\n",
              "      <td>1.000000</td>\n",
              "      <td>8.000000</td>\n",
              "      <td>8.000000</td>\n",
              "    </tr>\n",
              "    <tr>\n",
              "      <th>max</th>\n",
              "      <td>292.000000</td>\n",
              "      <td>1.000000</td>\n",
              "      <td>1.000000</td>\n",
              "      <td>1.000000</td>\n",
              "      <td>1.000000</td>\n",
              "      <td>1.000000</td>\n",
              "      <td>1.000000</td>\n",
              "      <td>1.000000</td>\n",
              "      <td>1.000000</td>\n",
              "      <td>1.000000</td>\n",
              "      <td>1.000000</td>\n",
              "      <td>11.000000</td>\n",
              "      <td>10.000000</td>\n",
              "    </tr>\n",
              "  </tbody>\n",
              "</table>\n",
              "</div>\n",
              "      <button class=\"colab-df-convert\" onclick=\"convertToInteractive('df-2536643c-8a64-4a83-bc92-276860f9d1ee')\"\n",
              "              title=\"Convert this dataframe to an interactive table.\"\n",
              "              style=\"display:none;\">\n",
              "        \n",
              "  <svg xmlns=\"http://www.w3.org/2000/svg\" height=\"24px\"viewBox=\"0 0 24 24\"\n",
              "       width=\"24px\">\n",
              "    <path d=\"M0 0h24v24H0V0z\" fill=\"none\"/>\n",
              "    <path d=\"M18.56 5.44l.94 2.06.94-2.06 2.06-.94-2.06-.94-.94-2.06-.94 2.06-2.06.94zm-11 1L8.5 8.5l.94-2.06 2.06-.94-2.06-.94L8.5 2.5l-.94 2.06-2.06.94zm10 10l.94 2.06.94-2.06 2.06-.94-2.06-.94-.94-2.06-.94 2.06-2.06.94z\"/><path d=\"M17.41 7.96l-1.37-1.37c-.4-.4-.92-.59-1.43-.59-.52 0-1.04.2-1.43.59L10.3 9.45l-7.72 7.72c-.78.78-.78 2.05 0 2.83L4 21.41c.39.39.9.59 1.41.59.51 0 1.02-.2 1.41-.59l7.78-7.78 2.81-2.81c.8-.78.8-2.07 0-2.86zM5.41 20L4 18.59l7.72-7.72 1.47 1.35L5.41 20z\"/>\n",
              "  </svg>\n",
              "      </button>\n",
              "      \n",
              "  <style>\n",
              "    .colab-df-container {\n",
              "      display:flex;\n",
              "      flex-wrap:wrap;\n",
              "      gap: 12px;\n",
              "    }\n",
              "\n",
              "    .colab-df-convert {\n",
              "      background-color: #E8F0FE;\n",
              "      border: none;\n",
              "      border-radius: 50%;\n",
              "      cursor: pointer;\n",
              "      display: none;\n",
              "      fill: #1967D2;\n",
              "      height: 32px;\n",
              "      padding: 0 0 0 0;\n",
              "      width: 32px;\n",
              "    }\n",
              "\n",
              "    .colab-df-convert:hover {\n",
              "      background-color: #E2EBFA;\n",
              "      box-shadow: 0px 1px 2px rgba(60, 64, 67, 0.3), 0px 1px 3px 1px rgba(60, 64, 67, 0.15);\n",
              "      fill: #174EA6;\n",
              "    }\n",
              "\n",
              "    [theme=dark] .colab-df-convert {\n",
              "      background-color: #3B4455;\n",
              "      fill: #D2E3FC;\n",
              "    }\n",
              "\n",
              "    [theme=dark] .colab-df-convert:hover {\n",
              "      background-color: #434B5C;\n",
              "      box-shadow: 0px 1px 3px 1px rgba(0, 0, 0, 0.15);\n",
              "      filter: drop-shadow(0px 1px 2px rgba(0, 0, 0, 0.3));\n",
              "      fill: #FFFFFF;\n",
              "    }\n",
              "  </style>\n",
              "\n",
              "      <script>\n",
              "        const buttonEl =\n",
              "          document.querySelector('#df-2536643c-8a64-4a83-bc92-276860f9d1ee button.colab-df-convert');\n",
              "        buttonEl.style.display =\n",
              "          google.colab.kernel.accessAllowed ? 'block' : 'none';\n",
              "\n",
              "        async function convertToInteractive(key) {\n",
              "          const element = document.querySelector('#df-2536643c-8a64-4a83-bc92-276860f9d1ee');\n",
              "          const dataTable =\n",
              "            await google.colab.kernel.invokeFunction('convertToInteractive',\n",
              "                                                     [key], {});\n",
              "          if (!dataTable) return;\n",
              "\n",
              "          const docLinkHtml = 'Like what you see? Visit the ' +\n",
              "            '<a target=\"_blank\" href=https://colab.research.google.com/notebooks/data_table.ipynb>data table notebook</a>'\n",
              "            + ' to learn more about interactive tables.';\n",
              "          element.innerHTML = '';\n",
              "          dataTable['output_type'] = 'display_data';\n",
              "          await google.colab.output.renderOutput(dataTable, element);\n",
              "          const docLink = document.createElement('div');\n",
              "          docLink.innerHTML = docLinkHtml;\n",
              "          element.appendChild(docLink);\n",
              "        }\n",
              "      </script>\n",
              "    </div>\n",
              "  </div>\n",
              "  "
            ]
          },
          "metadata": {},
          "execution_count": 7
        }
      ],
      "source": [
        "#Children\n",
        "ch.describe()"
      ]
    },
    {
      "cell_type": "code",
      "execution_count": null,
      "metadata": {
        "colab": {
          "base_uri": "https://localhost:8080/"
        },
        "id": "1w-dVtFfyZiJ",
        "outputId": "a0cd430e-10aa-41c9-9561-acf6efc97f89"
      },
      "outputs": [
        {
          "output_type": "stream",
          "name": "stdout",
          "text": [
            "Total no. of missing values in Children's dataset   :  90\n"
          ]
        }
      ],
      "source": [
        "#Total number of missing values in each dataset\n",
        "print(\"Total no. of missing values in Children's dataset   : \",ch.isnull().sum().sum())"
      ]
    },
    {
      "cell_type": "code",
      "execution_count": null,
      "metadata": {
        "colab": {
          "base_uri": "https://localhost:8080/"
        },
        "id": "ko79c2d0jI_9",
        "outputId": "3570cb47-5585-4d64-871b-5835fc59ddaa"
      },
      "outputs": [
        {
          "output_type": "execute_result",
          "data": {
            "text/plain": [
              "id                  0\n",
              "A1_Score            0\n",
              "A2_Score            0\n",
              "A3_Score            0\n",
              "A4_Score            0\n",
              "A5_Score            0\n",
              "A6_Score            0\n",
              "A7_Score            0\n",
              "A8_Score            0\n",
              "A9_Score            0\n",
              "A10_Score           0\n",
              "age                 4\n",
              "gender              0\n",
              "ethnicity          43\n",
              "jundice             0\n",
              "austim              0\n",
              "contry_of_res       0\n",
              "used_app_before     0\n",
              "result              0\n",
              "age_desc            0\n",
              "relation           43\n",
              "Class/ASD           0\n",
              "dtype: int64"
            ]
          },
          "metadata": {},
          "execution_count": 9
        }
      ],
      "source": [
        "#Children\n",
        "ch.isnull().sum()"
      ]
    },
    {
      "cell_type": "code",
      "execution_count": null,
      "metadata": {
        "colab": {
          "base_uri": "https://localhost:8080/",
          "height": 369
        },
        "id": "oppclSaWI3m8",
        "outputId": "876b23ee-e4fe-4481-d030-8ebeb2cef48b"
      },
      "outputs": [
        {
          "output_type": "display_data",
          "data": {
            "text/plain": [
              "<Figure size 396x360 with 1 Axes>"
            ],
            "image/png": "[encoded data removed]"
          },
          "metadata": {
            "needs_background": "light"
          }
        }
      ],
      "source": [
        "fig, ax = plt.subplots(figsize=(5.5,5))\n",
        "\n",
        "sns.heatmap(ch.isnull(),yticklabels=False,cbar=False,cmap='rocket',ax=ax)\n",
        "ax.set_title(\"Children's dataset\",fontsize = 15)\n",
        "\n",
        "fig.tight_layout()\n",
        "plt.savefig('heatmap_ch.pdf', transparent=True, dpi=300)"
      ]
    },
    {
      "cell_type": "code",
      "execution_count": null,
      "metadata": {
        "colab": {
          "base_uri": "https://localhost:8080/"
        },
        "id": "CkwWk_C2b3rd",
        "outputId": "96459532-0a0b-4bd7-a8fd-c0abb792b223"
      },
      "outputs": [
        {
          "output_type": "stream",
          "name": "stdout",
          "text": [
            "\n",
            "No of children diagonised with ASD =  141\n",
            "No of children not diagonised with ASD =  151\n"
          ]
        }
      ],
      "source": [
        "#ASD or Not\n",
        "print(\"\\nNo of children diagonised with ASD = \",len(ch[ch['Class/ASD'] == 'YES']))\n",
        "print(\"No of children not diagonised with ASD = \",len(ch[ch['Class/ASD'] == 'NO']))"
      ]
    },
    {
      "cell_type": "code",
      "execution_count": null,
      "metadata": {
        "colab": {
          "base_uri": "https://localhost:8080/",
          "height": 369
        },
        "id": "WBfvldgJGn4p",
        "outputId": "18bfb940-176d-408b-ca0a-a46f776967fe"
      },
      "outputs": [
        {
          "output_type": "display_data",
          "data": {
            "text/plain": [
              "<Figure size 360x360 with 1 Axes>"
            ],
            "image/png": "[encoded data removed]"
          },
          "metadata": {
            "needs_background": "light"
          }
        }
      ],
      "source": [
        "#Data distribution\n",
        "fig, ax = plt.subplots(figsize=(5, 5))\n",
        "sns.countplot(ch['Class/ASD'],ax=ax)\n",
        "ax.set_title(\"Children's dataset\",fontsize = 15)\n",
        "fig.tight_layout()\n",
        "plt.savefig('distribution_ch.pdf', transparent=True, dpi=300)"
      ]
    },
    {
      "cell_type": "code",
      "execution_count": null,
      "metadata": {
        "colab": {
          "base_uri": "https://localhost:8080/",
          "height": 513
        },
        "id": "gGHFxQb9ePSv",
        "outputId": "11022bb7-3e38-4d8d-d07b-1f4711a3258d"
      },
      "outputs": [
        {
          "output_type": "display_data",
          "data": {
            "text/plain": [
              "<Figure size 720x504 with 2 Axes>"
            ],
            "image/png": "[encoded data removed]"
          },
          "metadata": {
            "needs_background": "light"
          }
        }
      ],
      "source": [
        "#Correlation\n",
        "fig, ax = plt.subplots(figsize=(10,7))\n",
        "sns.heatmap(ch.corr(),annot=True,cmap='coolwarm',vmin=0, vmax=1,ax=ax)\n",
        "ax.set_title(\"Children's dataset\",fontsize = 15)\n",
        "fig.tight_layout()\n",
        "plt.savefig('correlation_ch.pdf', transparent=True, dpi=300)"
      ]
    },
    {
      "cell_type": "code",
      "execution_count": null,
      "metadata": {
        "colab": {
          "base_uri": "https://localhost:8080/"
        },
        "id": "emuIeb6o3ivZ",
        "outputId": "96548dee-8539-4e72-e219-3b13d4b768e0"
      },
      "outputs": [
        {
          "output_type": "stream",
          "name": "stdout",
          "text": [
            "No of missing values in Children's dataset    =  90\n"
          ]
        }
      ],
      "source": [
        "#Number of missing values in each dataset\n",
        "print(\"No of missing values in Children's dataset    = \",ch.isnull().sum().sum())"
      ]
    },
    {
      "cell_type": "code",
      "execution_count": null,
      "metadata": {
        "id": "0MK70ZQ4oIcJ"
      },
      "outputs": [],
      "source": [
        "#Imputing missing values of categorical features with mode\n",
        "imputer_mode = SimpleImputer(missing_values=np.NaN, strategy='most_frequent')\n",
        "\n",
        "ch.age = imputer_mode.fit_transform(ch.age.values.reshape(-1,1))[:,0]\n",
        "ch.ethnicity = imputer_mode.fit_transform(ch.ethnicity.values.reshape(-1,1))[:,0]\n",
        "ch.relation = imputer_mode.fit_transform(ch.relation.values.reshape(-1,1))[:,0]\n",
        "\n",
        "#Imputing missing values of numerical features with mean\n",
        "imputer_mode = SimpleImputer(missing_values=np.NaN, strategy='mean')\n",
        "\n",
        "ch.age = imputer_mode.fit_transform(ch.age.values.reshape(-1,1))[:,0]"
      ]
    },
    {
      "cell_type": "code",
      "execution_count": null,
      "metadata": {
        "colab": {
          "base_uri": "https://localhost:8080/"
        },
        "id": "2J2wHBBvs2Je",
        "outputId": "b1214a40-e0d3-4a8e-b147-0d1d3bcd596c"
      },
      "outputs": [
        {
          "output_type": "stream",
          "name": "stdout",
          "text": [
            "After imputing,\n",
            "No of missing values in Children's dataset    =  0\n"
          ]
        }
      ],
      "source": [
        "print(\"After imputing,\\nNo of missing values in Children's dataset    = \",ch.isnull().sum().sum())"
      ]
    },
    {
      "cell_type": "code",
      "execution_count": null,
      "metadata": {
        "id": "uoJbz1sQxwSP"
      },
      "outputs": [],
      "source": [
        "#Since age of toddlers are represented in months, age(in years) of children, adolescents and adults is converted to age in months.\n",
        "ch.rename(columns = {'age':'Age_Mons'}, inplace = True)\n",
        "\n",
        "ch['Age_Mons'] = ch['Age_Mons']*12"
      ]
    },
    {
      "cell_type": "code",
      "execution_count": null,
      "metadata": {
        "id": "4ulLZ6dRSmGV"
      },
      "outputs": [],
      "source": [
        "#Making classes of categorical variables same for all datasets\n",
        "ch[\"relation\"] = ch[\"relation\"].replace('self','Self')"
      ]
    },
    {
      "cell_type": "markdown",
      "metadata": {
        "id": "S3DzwzUrn3Qi"
      },
      "source": [
        "### **Model fitting**"
      ]
    },
    {
      "cell_type": "markdown",
      "metadata": {
        "id": "PRLEatQdt1EC"
      },
      "source": [
        "*Spliting dependent and independent features*\n"
      ]
    },
    {
      "cell_type": "code",
      "source": [
        "shuffled_data = ch.sample(frac=1,random_state=4)\n",
        "ASD_data = shuffled_data.loc[shuffled_data['Class/ASD'] == 'YES']\n",
        "non_ASD_data = shuffled_data.loc[shuffled_data['Class/ASD'] == 'NO'].sample(n=151)\n",
        "ch= pd.concat([ASD_data, non_ASD_data])"
      ],
      "metadata": {
        "id": "ty5oEvMBAyZh"
      },
      "execution_count": null,
      "outputs": []
    },
    {
      "cell_type": "code",
      "execution_count": null,
      "metadata": {
        "id": "vUVAqS8GgpyJ"
      },
      "outputs": [],
      "source": [
        "# Split the data into features and target label\n",
        "raw_target= ch['Class/ASD']\n",
        "raw_features = ch[['A1_Score','A2_Score','A3_Score','A4_Score','A5_Score','A6_Score','A7_Score','A8_Score','A9_Score','A10_Score','Age_Mons', 'gender', 'ethnicity', 'jundice', 'austim', 'contry_of_res', 'result','relation']]"
      ]
    },
    {
      "cell_type": "markdown",
      "metadata": {
        "id": "pLVEOpt2uT32"
      },
      "source": [
        "*Feature Scaling*"
      ]
    },
    {
      "cell_type": "code",
      "execution_count": null,
      "metadata": {
        "id": "JAL4Z9Wsgp0O"
      },
      "outputs": [],
      "source": [
        "from sklearn.preprocessing import MinMaxScaler\n",
        "scaler = MinMaxScaler()\n",
        "num_features = ['Age_Mons', 'result']\n",
        "\n",
        "features_minmax_transform = pd.DataFrame(data = raw_features)\n",
        "features_minmax_transform[num_features] = scaler.fit_transform(raw_features[num_features])"
      ]
    },
    {
      "cell_type": "code",
      "execution_count": null,
      "metadata": {
        "colab": {
          "base_uri": "https://localhost:8080/",
          "height": 340
        },
        "id": "FLnD_7lDiSaB",
        "outputId": "1ceca0b3-ff86-43cd-aa9c-8cdfbf94f739"
      },
      "outputs": [
        {
          "output_type": "execute_result",
          "data": {
            "text/plain": [
              "     A1_Score  A2_Score  A3_Score  A4_Score  A5_Score  A6_Score  A7_Score  \\\n",
              "253         1         0         1         1         1         1         1   \n",
              "101         1         1         1         1         0         1         1   \n",
              "169         1         0         1         1         1         1         1   \n",
              "6           1         0         1         1         1         1         0   \n",
              "233         0         1         1         1         1         1         0   \n",
              "\n",
              "     A8_Score  A9_Score  A10_Score  Age_Mons gender        ethnicity jundice  \\\n",
              "253         1         0          1  0.714286      f  Middle Eastern       no   \n",
              "101         0         0          1  0.285714      f            Asian      no   \n",
              "169         1         1          1  1.000000      f   White-European      no   \n",
              "6           1         0          1  0.142857      m   White-European      no   \n",
              "233         1         1          1  0.142857      m   White-European      no   \n",
              "\n",
              "    austim   contry_of_res  result relation  \n",
              "253     no           Egypt     0.8   Parent  \n",
              "101     no     Philippines     0.7   Parent  \n",
              "169     no         Austria     0.9   Parent  \n",
              "6       no  United Kingdom     0.7   Parent  \n",
              "233     no          Russia     0.8   Parent  "
            ],
            "text/html": [
              "\n",
              "  <div id=\"df-d84c4f0d-6652-4e15-aaf7-08f5e689dc0b\">\n",
              "    <div class=\"colab-df-container\">\n",
              "      <div>\n",
              "<style scoped>\n",
              "    .dataframe tbody tr th:only-of-type {\n",
              "        vertical-align: middle;\n",
              "    }\n",
              "\n",
              "    .dataframe tbody tr th {\n",
              "        vertical-align: top;\n",
              "    }\n",
              "\n",
              "    .dataframe thead th {\n",
              "        text-align: right;\n",
              "    }\n",
              "</style>\n",
              "<table border=\"1\" class=\"dataframe\">\n",
              "  <thead>\n",
              "    <tr style=\"text-align: right;\">\n",
              "      <th></th>\n",
              "      <th>A1_Score</th>\n",
              "      <th>A2_Score</th>\n",
              "      <th>A3_Score</th>\n",
              "      <th>A4_Score</th>\n",
              "      <th>A5_Score</th>\n",
              "      <th>A6_Score</th>\n",
              "      <th>A7_Score</th>\n",
              "      <th>A8_Score</th>\n",
              "      <th>A9_Score</th>\n",
              "      <th>A10_Score</th>\n",
              "      <th>Age_Mons</th>\n",
              "      <th>gender</th>\n",
              "      <th>ethnicity</th>\n",
              "      <th>jundice</th>\n",
              "      <th>austim</th>\n",
              "      <th>contry_of_res</th>\n",
              "      <th>result</th>\n",
              "      <th>relation</th>\n",
              "    </tr>\n",
              "  </thead>\n",
              "  <tbody>\n",
              "    <tr>\n",
              "      <th>253</th>\n",
              "      <td>1</td>\n",
              "      <td>0</td>\n",
              "      <td>1</td>\n",
              "      <td>1</td>\n",
              "      <td>1</td>\n",
              "      <td>1</td>\n",
              "      <td>1</td>\n",
              "      <td>1</td>\n",
              "      <td>0</td>\n",
              "      <td>1</td>\n",
              "      <td>0.714286</td>\n",
              "      <td>f</td>\n",
              "      <td>Middle Eastern</td>\n",
              "      <td>no</td>\n",
              "      <td>no</td>\n",
              "      <td>Egypt</td>\n",
              "      <td>0.8</td>\n",
              "      <td>Parent</td>\n",
              "    </tr>\n",
              "    <tr>\n",
              "      <th>101</th>\n",
              "      <td>1</td>\n",
              "      <td>1</td>\n",
              "      <td>1</td>\n",
              "      <td>1</td>\n",
              "      <td>0</td>\n",
              "      <td>1</td>\n",
              "      <td>1</td>\n",
              "      <td>0</td>\n",
              "      <td>0</td>\n",
              "      <td>1</td>\n",
              "      <td>0.285714</td>\n",
              "      <td>f</td>\n",
              "      <td>Asian</td>\n",
              "      <td>no</td>\n",
              "      <td>no</td>\n",
              "      <td>Philippines</td>\n",
              "      <td>0.7</td>\n",
              "      <td>Parent</td>\n",
              "    </tr>\n",
              "    <tr>\n",
              "      <th>169</th>\n",
              "      <td>1</td>\n",
              "      <td>0</td>\n",
              "      <td>1</td>\n",
              "      <td>1</td>\n",
              "      <td>1</td>\n",
              "      <td>1</td>\n",
              "      <td>1</td>\n",
              "      <td>1</td>\n",
              "      <td>1</td>\n",
              "      <td>1</td>\n",
              "      <td>1.000000</td>\n",
              "      <td>f</td>\n",
              "      <td>White-European</td>\n",
              "      <td>no</td>\n",
              "      <td>no</td>\n",
              "      <td>Austria</td>\n",
              "      <td>0.9</td>\n",
              "      <td>Parent</td>\n",
              "    </tr>\n",
              "    <tr>\n",
              "      <th>6</th>\n",
              "      <td>1</td>\n",
              "      <td>0</td>\n",
              "      <td>1</td>\n",
              "      <td>1</td>\n",
              "      <td>1</td>\n",
              "      <td>1</td>\n",
              "      <td>0</td>\n",
              "      <td>1</td>\n",
              "      <td>0</td>\n",
              "      <td>1</td>\n",
              "      <td>0.142857</td>\n",
              "      <td>m</td>\n",
              "      <td>White-European</td>\n",
              "      <td>no</td>\n",
              "      <td>no</td>\n",
              "      <td>United Kingdom</td>\n",
              "      <td>0.7</td>\n",
              "      <td>Parent</td>\n",
              "    </tr>\n",
              "    <tr>\n",
              "      <th>233</th>\n",
              "      <td>0</td>\n",
              "      <td>1</td>\n",
              "      <td>1</td>\n",
              "      <td>1</td>\n",
              "      <td>1</td>\n",
              "      <td>1</td>\n",
              "      <td>0</td>\n",
              "      <td>1</td>\n",
              "      <td>1</td>\n",
              "      <td>1</td>\n",
              "      <td>0.142857</td>\n",
              "      <td>m</td>\n",
              "      <td>White-European</td>\n",
              "      <td>no</td>\n",
              "      <td>no</td>\n",
              "      <td>Russia</td>\n",
              "      <td>0.8</td>\n",
              "      <td>Parent</td>\n",
              "    </tr>\n",
              "  </tbody>\n",
              "</table>\n",
              "</div>\n",
              "      <button class=\"colab-df-convert\" onclick=\"convertToInteractive('df-d84c4f0d-6652-4e15-aaf7-08f5e689dc0b')\"\n",
              "              title=\"Convert this dataframe to an interactive table.\"\n",
              "              style=\"display:none;\">\n",
              "        \n",
              "  <svg xmlns=\"http://www.w3.org/2000/svg\" height=\"24px\"viewBox=\"0 0 24 24\"\n",
              "       width=\"24px\">\n",
              "    <path d=\"M0 0h24v24H0V0z\" fill=\"none\"/>\n",
              "    <path d=\"M18.56 5.44l.94 2.06.94-2.06 2.06-.94-2.06-.94-.94-2.06-.94 2.06-2.06.94zm-11 1L8.5 8.5l.94-2.06 2.06-.94-2.06-.94L8.5 2.5l-.94 2.06-2.06.94zm10 10l.94 2.06.94-2.06 2.06-.94-2.06-.94-.94-2.06-.94 2.06-2.06.94z\"/><path d=\"M17.41 7.96l-1.37-1.37c-.4-.4-.92-.59-1.43-.59-.52 0-1.04.2-1.43.59L10.3 9.45l-7.72 7.72c-.78.78-.78 2.05 0 2.83L4 21.41c.39.39.9.59 1.41.59.51 0 1.02-.2 1.41-.59l7.78-7.78 2.81-2.81c.8-.78.8-2.07 0-2.86zM5.41 20L4 18.59l7.72-7.72 1.47 1.35L5.41 20z\"/>\n",
              "  </svg>\n",
              "      </button>\n",
              "      \n",
              "  <style>\n",
              "    .colab-df-container {\n",
              "      display:flex;\n",
              "      flex-wrap:wrap;\n",
              "      gap: 12px;\n",
              "    }\n",
              "\n",
              "    .colab-df-convert {\n",
              "      background-color: #E8F0FE;\n",
              "      border: none;\n",
              "      border-radius: 50%;\n",
              "      cursor: pointer;\n",
              "      display: none;\n",
              "      fill: #1967D2;\n",
              "      height: 32px;\n",
              "      padding: 0 0 0 0;\n",
              "      width: 32px;\n",
              "    }\n",
              "\n",
              "    .colab-df-convert:hover {\n",
              "      background-color: #E2EBFA;\n",
              "      box-shadow: 0px 1px 2px rgba(60, 64, 67, 0.3), 0px 1px 3px 1px rgba(60, 64, 67, 0.15);\n",
              "      fill: #174EA6;\n",
              "    }\n",
              "\n",
              "    [theme=dark] .colab-df-convert {\n",
              "      background-color: #3B4455;\n",
              "      fill: #D2E3FC;\n",
              "    }\n",
              "\n",
              "    [theme=dark] .colab-df-convert:hover {\n",
              "      background-color: #434B5C;\n",
              "      box-shadow: 0px 1px 3px 1px rgba(0, 0, 0, 0.15);\n",
              "      filter: drop-shadow(0px 1px 2px rgba(0, 0, 0, 0.3));\n",
              "      fill: #FFFFFF;\n",
              "    }\n",
              "  </style>\n",
              "\n",
              "      <script>\n",
              "        const buttonEl =\n",
              "          document.querySelector('#df-d84c4f0d-6652-4e15-aaf7-08f5e689dc0b button.colab-df-convert');\n",
              "        buttonEl.style.display =\n",
              "          google.colab.kernel.accessAllowed ? 'block' : 'none';\n",
              "\n",
              "        async function convertToInteractive(key) {\n",
              "          const element = document.querySelector('#df-d84c4f0d-6652-4e15-aaf7-08f5e689dc0b');\n",
              "          const dataTable =\n",
              "            await google.colab.kernel.invokeFunction('convertToInteractive',\n",
              "                                                     [key], {});\n",
              "          if (!dataTable) return;\n",
              "\n",
              "          const docLinkHtml = 'Like what you see? Visit the ' +\n",
              "            '<a target=\"_blank\" href=https://colab.research.google.com/notebooks/data_table.ipynb>data table notebook</a>'\n",
              "            + ' to learn more about interactive tables.';\n",
              "          element.innerHTML = '';\n",
              "          dataTable['output_type'] = 'display_data';\n",
              "          await google.colab.output.renderOutput(dataTable, element);\n",
              "          const docLink = document.createElement('div');\n",
              "          docLink.innerHTML = docLinkHtml;\n",
              "          element.appendChild(docLink);\n",
              "        }\n",
              "      </script>\n",
              "    </div>\n",
              "  </div>\n",
              "  "
            ]
          },
          "metadata": {},
          "execution_count": 23
        }
      ],
      "source": [
        "features_minmax_transform.head()"
      ]
    },
    {
      "cell_type": "markdown",
      "metadata": {
        "id": "WbB3cr5tuWFk"
      },
      "source": [
        "##Encoding Categorical variables"
      ]
    },
    {
      "cell_type": "code",
      "execution_count": null,
      "metadata": {
        "id": "-3bzzF0_iU90"
      },
      "outputs": [],
      "source": [
        "features = pd.get_dummies(features_minmax_transform)"
      ]
    },
    {
      "cell_type": "code",
      "execution_count": null,
      "metadata": {
        "id": "4iG6Q-QfiY2H"
      },
      "outputs": [],
      "source": [
        "from sklearn.preprocessing import LabelEncoder\n",
        "le = LabelEncoder()\n",
        "target = le.fit_transform(raw_target)"
      ]
    },
    {
      "cell_type": "markdown",
      "metadata": {
        "id": "QjHtc0BbuYMw"
      },
      "source": [
        "*Function for Evaluation*"
      ]
    },
    {
      "cell_type": "code",
      "execution_count": null,
      "metadata": {
        "id": "0LgMP3gAiaBA"
      },
      "outputs": [],
      "source": [
        "def model_report(y_act, y_pred):\n",
        "    from sklearn import metrics\n",
        "    from sklearn.metrics import accuracy_score, f1_score, precision_score, recall_score, cohen_kappa_score, roc_curve, auc, log_loss\n",
        "    print(\"Accuracy = \", accuracy_score(y_act, y_pred))\n",
        "    print(\"Precision = \" ,precision_score(y_act, y_pred))\n",
        "    print(\"Recall\\Sensitivity = \" ,recall_score(y_act, y_pred))\n",
        "    confusion = metrics.confusion_matrix(y_act, y_pred)\n",
        "    #[row, column]\n",
        "    TP = confusion[1, 1]\n",
        "    TN = confusion[0, 0]\n",
        "    FP = confusion[0, 1]\n",
        "    FN = confusion[1, 0]\n",
        "    specificity = TN / (TN + FP)\n",
        "    print(\"Specificity = \" ,specificity)\n",
        "    print(\"F1 Score = \" ,f1_score(y_act, y_pred))\n",
        "    false_positive_rate, true_positive_rate, thresholds = roc_curve(y_act, y_pred)\n",
        "    print(\"AUC Score =\", auc(false_positive_rate, true_positive_rate))\n",
        "    print(\"Kappa score = \",cohen_kappa_score(y_act,y_pred))\n",
        "    print(\"Log Loss = \" ,log_loss(y_act, y_pred),\"\\n\")\n",
        "    pass\n"
      ]
    },
    {
      "cell_type": "code",
      "source": [
        "import numpy as np\n",
        "from sklearn.model_selection import learning_curve\n",
        "from sklearn.model_selection import ShuffleSplit\n",
        "\n",
        "def plot_learning_curve(estimator, title, X, y, ylim=None, cv=None, n_jobs=1, train_sizes=np.linspace(.1, 1.0, 5)):\n",
        "    plt.figure()\n",
        "    plt.title(title)\n",
        "    if ylim is not None:\n",
        "        plt.ylim(*ylim)\n",
        "    plt.xlabel(\"Training examples\")\n",
        "    plt.ylabel(\"AUC\")\n",
        "    train_sizes, train_scores, test_scores = learning_curve(\n",
        "        estimator, X, y, cv=cv, n_jobs=n_jobs, train_sizes=train_sizes, scoring = 'roc_auc')\n",
        "    train_scores_mean = np.mean(train_scores, axis=1)\n",
        "    train_scores_std = np.std(train_scores, axis=1)\n",
        "    test_scores_mean = np.mean(test_scores, axis=1)\n",
        "    test_scores_std = np.std(test_scores, axis=1)\n",
        "\n",
        "    plt.fill_between(train_sizes, train_scores_mean - train_scores_std,\n",
        "                     train_scores_mean + train_scores_std, alpha=0.1,\n",
        "                     color=\"r\")\n",
        "    plt.fill_between(train_sizes, test_scores_mean - test_scores_std,\n",
        "                     test_scores_mean + test_scores_std, alpha=0.1, color=\"b\")\n",
        "    plt.plot(train_sizes, train_scores_mean, 'o-', color=\"r\",\n",
        "             label=\"Training score\")\n",
        "    plt.plot(train_sizes, test_scores_mean, 'o-', color=\"b\",\n",
        "             label=\"Cross-validation score\")\n",
        "\n",
        "    plt.legend(loc=\"lower right\")\n",
        "    return plt"
      ],
      "metadata": {
        "id": "MBdG3uG_khlU"
      },
      "execution_count": null,
      "outputs": []
    },
    {
      "cell_type": "markdown",
      "metadata": {
        "id": "rCEAS01AubVo"
      },
      "source": [
        "\n",
        "##Spliting Data\n"
      ]
    },
    {
      "cell_type": "code",
      "execution_count": null,
      "metadata": {
        "id": "7r1VSSq2iaDM"
      },
      "outputs": [],
      "source": [
        "X = features\n",
        "y = target"
      ]
    },
    {
      "cell_type": "markdown",
      "source": [
        "## Feature Selection"
      ],
      "metadata": {
        "id": "hvDwWEOj_jt2"
      }
    },
    {
      "cell_type": "code",
      "source": [
        "from sklearn.feature_selection import SelectKBest \n",
        "from sklearn.feature_selection import chi2  \n",
        "chi2_features = SelectKBest(chi2,k=75)\n",
        "fit= chi2_features.fit(X, y)\n",
        "scores = pd.DataFrame(fit.scores_)\n",
        "columns = pd.DataFrame(features.columns)\n",
        "featureScores = pd.concat([columns,scores],axis=1)\n",
        "featureScores.columns = ['Features','Score']\n",
        "print(featureScores.nlargest(50,'Score')) "
      ],
      "metadata": {
        "colab": {
          "base_uri": "https://localhost:8080/"
        },
        "id": "r0CWIj02wYKT",
        "outputId": "e8c4da00-57c0-4c4b-bc5a-dd8ac7e92962"
      },
      "execution_count": null,
      "outputs": [
        {
          "output_type": "stream",
          "name": "stdout",
          "text": [
            "                              Features      Score\n",
            "3                             A4_Score  42.338541\n",
            "8                             A9_Score  34.980461\n",
            "7                             A8_Score  28.251186\n",
            "11                              result  17.011055\n",
            "0                             A1_Score  16.570951\n",
            "9                            A10_Score  15.483910\n",
            "5                             A6_Score  14.625696\n",
            "2                             A3_Score  11.734209\n",
            "79         contry_of_res_United States  10.955781\n",
            "4                             A5_Score  10.821959\n",
            "6                             A7_Score   8.630529\n",
            "1                             A2_Score   7.134778\n",
            "77  contry_of_res_United Arab Emirates   6.536424\n",
            "52                contry_of_res_Jordan   4.343619\n",
            "16                  ethnicity_Hispanic   3.926709\n",
            "18           ethnicity_Middle Eastern    3.764138\n",
            "30               contry_of_res_Armenia   3.212766\n",
            "47                  contry_of_res_Iraq   2.801325\n",
            "67                 contry_of_res_Qatar   2.801325\n",
            "82                   relation_Relative   2.425684\n",
            "33               contry_of_res_Bahrain   2.141844\n",
            "36                contry_of_res_Brazil   2.141844\n",
            "71          contry_of_res_South Africa   2.141844\n",
            "22                   ethnicity_Turkish   1.867550\n",
            "28           contry_of_res_Afghanistan   1.867550\n",
            "50                 contry_of_res_Italy   1.867550\n",
            "57              contry_of_res_Malaysia   1.867550\n",
            "75                contry_of_res_Turkey   1.867550\n",
            "38                contry_of_res_Canada   1.501164\n",
            "15                     ethnicity_Black   1.434932\n",
            "41                 contry_of_res_Egypt   1.217463\n",
            "66           contry_of_res_Philippines   1.143018\n",
            "35                contry_of_res_Bhutan   1.070922\n",
            "37              contry_of_res_Bulgaria   1.070922\n",
            "39                 contry_of_res_China   1.070922\n",
            "42                contry_of_res_Europe   1.070922\n",
            "44               contry_of_res_Germany   1.070922\n",
            "48               contry_of_res_Ireland   1.070922\n",
            "49           contry_of_res_Isle of Man   1.070922\n",
            "58                 contry_of_res_Malta   1.070922\n",
            "60                 contry_of_res_Nepal   1.070922\n",
            "63               contry_of_res_Nigeria   1.070922\n",
            "73                contry_of_res_Sweden   1.070922\n",
            "46                 contry_of_res_India   1.026327\n",
            "29             contry_of_res_Argentina   0.933775\n",
            "40            contry_of_res_Costa Rica   0.933775\n",
            "45                 contry_of_res_Ghana   0.933775\n",
            "51                 contry_of_res_Japan   0.933775\n",
            "53                contry_of_res_Kuwait   0.933775\n",
            "54                contry_of_res_Latvia   0.933775\n"
          ]
        }
      ]
    },
    {
      "cell_type": "code",
      "source": [
        "from sklearn.feature_selection import SelectKBest \n",
        "from sklearn.feature_selection import chi2  \n",
        "# 700 features with highest chi-squared statistics are selected \n",
        "chi2_features = SelectKBest(chi2,k=75)\n",
        "X = chi2_features.fit_transform(X, y)\n",
        "y = target"
      ],
      "metadata": {
        "id": "-Qxwi13ewjMC"
      },
      "execution_count": null,
      "outputs": []
    },
    {
      "cell_type": "code",
      "source": [
        "#Splitting the data into train test spit\n",
        "from sklearn.model_selection import train_test_split\n",
        "X_train, X_test, y_train, y_test = train_test_split(X, y, test_size = 0.20, random_state = 42)"
      ],
      "metadata": {
        "id": "3wKst1WOtWis"
      },
      "execution_count": null,
      "outputs": []
    },
    {
      "cell_type": "markdown",
      "source": [
        "##KNeighborsClassifier"
      ],
      "metadata": {
        "id": "LJtr3ZGNHAa5"
      }
    },
    {
      "cell_type": "code",
      "source": [
        "from sklearn.model_selection import RandomizedSearchCV\n",
        "\n",
        "n_neighbors = [int(x) for x in np.linspace(1,1000,10)]\n",
        "weights = ['uniform','distance']\n",
        "algorithm =['auto', 'ball_tree', 'kd_tree', 'brute']\n",
        "leaf_size = [int(x) for x in np.linspace(1,1000,10)]\n",
        "\n",
        "random_grid = {'n_neighbors':n_neighbors,\n",
        "               'weights':weights,\n",
        "               'algorithm':algorithm,\n",
        "               'leaf_size':leaf_size}\n",
        "print(random_grid)"
      ],
      "metadata": {
        "colab": {
          "base_uri": "https://localhost:8080/"
        },
        "id": "YsZl3WITDXUu",
        "outputId": "4ba1bc3b-dff3-4c11-a946-717c7163bfc5"
      },
      "execution_count": null,
      "outputs": [
        {
          "output_type": "stream",
          "name": "stdout",
          "text": [
            "{'n_neighbors': [1, 112, 223, 334, 445, 556, 667, 778, 889, 1000], 'weights': ['uniform', 'distance'], 'algorithm': ['auto', 'ball_tree', 'kd_tree', 'brute'], 'leaf_size': [1, 112, 223, 334, 445, 556, 667, 778, 889, 1000]}\n"
          ]
        }
      ]
    },
    {
      "cell_type": "code",
      "source": [
        "from sklearn import neighbors\n",
        "\n",
        "knn = neighbors.KNeighborsClassifier()\n",
        "knn_randomcv=RandomizedSearchCV(estimator= knn, param_distributions=random_grid, n_iter=100, cv=5, verbose=2,\n",
        "                               random_state=100,n_jobs=-1)\n",
        "#fit the randomized model\n",
        "knn_randomcv.fit(X_train,y_train)"
      ],
      "metadata": {
        "colab": {
          "base_uri": "https://localhost:8080/"
        },
        "id": "SOScqsrsDeTw",
        "outputId": "16a48d21-c612-4ae7-efea-263ed592f627"
      },
      "execution_count": null,
      "outputs": [
        {
          "output_type": "stream",
          "name": "stdout",
          "text": [
            "Fitting 5 folds for each of 100 candidates, totalling 500 fits\n"
          ]
        },
        {
          "output_type": "execute_result",
          "data": {
            "text/plain": [
              "RandomizedSearchCV(cv=5, estimator=KNeighborsClassifier(), n_iter=100,\n",
              "                   n_jobs=-1,\n",
              "                   param_distributions={'algorithm': ['auto', 'ball_tree',\n",
              "                                                      'kd_tree', 'brute'],\n",
              "                                        'leaf_size': [1, 112, 223, 334, 445,\n",
              "                                                      556, 667, 778, 889,\n",
              "                                                      1000],\n",
              "                                        'n_neighbors': [1, 112, 223, 334, 445,\n",
              "                                                        556, 667, 778, 889,\n",
              "                                                        1000],\n",
              "                                        'weights': ['uniform', 'distance']},\n",
              "                   random_state=100, verbose=2)"
            ]
          },
          "metadata": {},
          "execution_count": 33
        }
      ]
    },
    {
      "cell_type": "code",
      "source": [
        "print('\\n All results:')\n",
        "print(knn_randomcv.cv_results_)"
      ],
      "metadata": {
        "colab": {
          "base_uri": "https://localhost:8080/"
        },
        "id": "9u4Zc9WyDi8r",
        "outputId": "720270c2-bff7-4f44-b983-e71e57432244"
      },
      "execution_count": null,
      "outputs": [
        {
          "output_type": "stream",
          "name": "stdout",
          "text": [
            "\n",
            " All results:\n",
            "{'mean_fit_time': array([0.00102077, 0.0020822 , 0.00087533, 0.00054202, 0.00097108,\n",
            "       0.00129156, 0.00163288, 0.00415411, 0.00179596, 0.00221887,\n",
            "       0.00066381, 0.00107112, 0.00093398, 0.00177236, 0.00165205,\n",
            "       0.00189891, 0.00206275, 0.0013185 , 0.0008184 , 0.00162115,\n",
            "       0.00245805, 0.0011137 , 0.00073142, 0.0011888 , 0.00146213,\n",
            "       0.00207863, 0.00203128, 0.00079198, 0.00206594, 0.00094318,\n",
            "       0.00156002, 0.00166588, 0.00086112, 0.00564566, 0.00193038,\n",
            "       0.00216074, 0.00218349, 0.00218849, 0.00204058, 0.00085592,\n",
            "       0.00573764, 0.00108228, 0.00147343, 0.00109172, 0.00146475,\n",
            "       0.00133023, 0.00130816, 0.00079184, 0.00096135, 0.00076785,\n",
            "       0.00056419, 0.00073872, 0.0035428 , 0.00439568, 0.00138044,\n",
            "       0.00139575, 0.00147142, 0.00212607, 0.00112357, 0.00201507,\n",
            "       0.00156922, 0.0036057 , 0.00144649, 0.00159717, 0.00062885,\n",
            "       0.00845428, 0.00347657, 0.00137053, 0.00351672, 0.00223236,\n",
            "       0.00109143, 0.00062995, 0.00064092, 0.00096955, 0.00064263,\n",
            "       0.00085731, 0.00203624, 0.00187674, 0.00154405, 0.00053921,\n",
            "       0.0006063 , 0.00150075, 0.00088382, 0.00111613, 0.00071521,\n",
            "       0.00138483, 0.00176005, 0.00053573, 0.00085254, 0.00088301,\n",
            "       0.00393176, 0.00087914, 0.00081062, 0.00147142, 0.00139341,\n",
            "       0.00156875, 0.00182014, 0.00138316, 0.00052376, 0.00075073]), 'std_fit_time': array([2.77959771e-04, 5.01946222e-04, 1.53166642e-04, 5.83878484e-05,\n",
            "       4.11878815e-04, 8.90111598e-04, 1.16667613e-03, 1.90062097e-03,\n",
            "       5.74862138e-04, 1.98327190e-03, 9.09179046e-05, 6.72502948e-04,\n",
            "       4.47065431e-04, 1.18220604e-03, 1.37924768e-03, 1.67727106e-03,\n",
            "       1.58935604e-03, 1.07826215e-03, 3.09175124e-05, 6.93652239e-04,\n",
            "       2.81336087e-03, 6.74797304e-04, 3.99077418e-04, 5.29638626e-04,\n",
            "       9.62807606e-04, 1.84457431e-03, 1.57684769e-03, 5.02425834e-04,\n",
            "       1.53958836e-03, 4.31451657e-04, 5.05872098e-04, 1.44512132e-03,\n",
            "       7.25889630e-06, 2.83495434e-03, 1.69382732e-03, 1.76839263e-03,\n",
            "       1.70045734e-03, 1.48972378e-03, 1.74171995e-03, 3.44384063e-05,\n",
            "       2.50573623e-03, 4.89344352e-04, 3.38753621e-04, 8.28489544e-04,\n",
            "       1.14564842e-03, 4.85792036e-04, 5.23215716e-04, 3.81782237e-04,\n",
            "       4.06400323e-04, 1.96694467e-04, 5.91100389e-05, 3.59620583e-05,\n",
            "       5.49936054e-03, 4.31240554e-03, 1.61913566e-03, 1.61724374e-03,\n",
            "       9.47288275e-04, 9.14346020e-04, 1.06818168e-03, 1.17326528e-03,\n",
            "       1.23055069e-03, 2.21784020e-03, 6.16521993e-04, 1.00247843e-03,\n",
            "       3.98980795e-05, 4.78750601e-03, 3.55365858e-03, 1.61243826e-03,\n",
            "       2.21089087e-03, 2.00613488e-03, 2.31026811e-04, 2.84094121e-05,\n",
            "       4.08620232e-05, 9.37253244e-05, 3.70940081e-05, 4.11713474e-05,\n",
            "       2.81834080e-03, 2.05312075e-03, 8.58880638e-04, 3.62410671e-05,\n",
            "       5.22744900e-05, 9.27281875e-04, 6.17341716e-04, 6.60727298e-04,\n",
            "       2.71078465e-05, 1.63844223e-03, 1.81528068e-03, 1.46715595e-05,\n",
            "       7.03526784e-04, 7.42361684e-04, 2.24091038e-03, 3.14599313e-04,\n",
            "       1.93457248e-05, 1.26131218e-03, 1.18938634e-03, 1.97873030e-03,\n",
            "       2.04047798e-03, 1.17570099e-03, 4.03172514e-05, 5.58755495e-05]), 'mean_score_time': array([0.00088263, 0.00030246, 0.0010663 , 0.000315  , 0.00172758,\n",
            "       0.00026379, 0.00034432, 0.00051274, 0.00086503, 0.00026798,\n",
            "       0.01038747, 0.00037293, 0.00042405, 0.00038552, 0.00869598,\n",
            "       0.00083637, 0.00083756, 0.00176663, 0.00030012, 0.0059413 ,\n",
            "       0.00364356, 0.00174866, 0.00034432, 0.00027833, 0.01251497,\n",
            "       0.00032229, 0.00027046, 0.00121202, 0.0004427 , 0.00035667,\n",
            "       0.00335903, 0.00063086, 0.00027461, 0.00999064, 0.00029936,\n",
            "       0.00113592, 0.00104017, 0.000249  , 0.00790334, 0.0116291 ,\n",
            "       0.00116448, 0.00045333, 0.00036645, 0.00035625, 0.00028563,\n",
            "       0.00047879, 0.00045128, 0.0004571 , 0.00039186, 0.00038466,\n",
            "       0.00025382, 0.00028515, 0.0003489 , 0.01241608, 0.00110688,\n",
            "       0.00026593, 0.0039083 , 0.00048175, 0.0010859 , 0.00066233,\n",
            "       0.00030136, 0.00753245, 0.0007144 , 0.00620208, 0.00253482,\n",
            "       0.00211353, 0.00200524, 0.0002749 , 0.00033841, 0.00027981,\n",
            "       0.00443053, 0.00025806, 0.00028744, 0.00031219, 0.00027285,\n",
            "       0.00027766, 0.00026731, 0.00027571, 0.00028362, 0.00064125,\n",
            "       0.00188046, 0.00057893, 0.00067825, 0.00057435, 0.000279  ,\n",
            "       0.00026631, 0.00455694, 0.00083513, 0.00149879, 0.00026393,\n",
            "       0.00701895, 0.00637331, 0.00031104, 0.00078559, 0.00604982,\n",
            "       0.00027328, 0.0002758 , 0.00027332, 0.00128741, 0.00027752]), 'std_score_time': array([7.32298123e-04, 3.72594465e-05, 1.55446343e-03, 8.59036930e-05,\n",
            "       2.62925671e-03, 1.68537485e-05, 1.16709964e-04, 3.18552583e-04,\n",
            "       6.49595882e-04, 2.22438273e-05, 1.93418503e-03, 9.78698713e-05,\n",
            "       1.98805278e-04, 1.71077916e-04, 1.96354400e-03, 1.09969702e-03,\n",
            "       8.88350991e-04, 8.70813831e-04, 1.46827135e-05, 5.93164354e-04,\n",
            "       8.90819854e-04, 7.12847783e-04, 1.02687455e-04, 3.02694335e-05,\n",
            "       2.52621286e-03, 2.04420262e-05, 3.44969852e-05, 1.62171405e-03,\n",
            "       1.79167550e-04, 1.74410125e-04, 3.20511174e-04, 6.47898898e-04,\n",
            "       2.04759228e-05, 2.87291433e-03, 2.29470172e-05, 1.68705614e-03,\n",
            "       1.53943898e-03, 1.74242065e-05, 1.38894089e-03, 3.24744343e-03,\n",
            "       1.13520999e-03, 1.55262352e-04, 1.65655658e-04, 1.51851741e-04,\n",
            "       3.60114670e-05, 2.63379587e-04, 1.78419849e-04, 2.13646323e-04,\n",
            "       1.57503695e-04, 1.96096207e-04, 2.65665491e-05, 1.43186188e-05,\n",
            "       1.36430986e-04, 6.04253564e-03, 1.65032488e-03, 1.24650742e-05,\n",
            "       1.72737751e-03, 3.97633892e-04, 1.01051165e-03, 4.94471557e-04,\n",
            "       2.86098321e-05, 3.84883991e-03, 8.17915576e-04, 2.19518842e-03,\n",
            "       1.11826538e-04, 2.59119452e-03, 3.36094529e-03, 9.59971618e-06,\n",
            "       6.91123770e-05, 2.68326738e-05, 1.66056559e-03, 1.59691333e-05,\n",
            "       1.74951807e-05, 1.82832077e-05, 1.50771054e-05, 1.71678595e-05,\n",
            "       1.29269489e-05, 2.29063558e-05, 2.04165390e-05, 7.40394525e-04,\n",
            "       2.57087103e-03, 5.60606851e-04, 8.03611505e-04, 6.10150513e-04,\n",
            "       2.06263904e-05, 3.33278133e-05, 1.71532348e-03, 7.19379702e-04,\n",
            "       2.39577482e-03, 1.80330206e-05, 2.57931908e-03, 2.13090069e-03,\n",
            "       2.54246783e-05, 9.62601152e-04, 1.48845086e-03, 1.79517633e-05,\n",
            "       2.11714624e-05, 1.73234356e-05, 2.01872148e-03, 1.30090056e-05]), 'param_weights': masked_array(data=['uniform', 'uniform', 'distance', 'uniform',\n",
            "                   'distance', 'uniform', 'uniform', 'uniform', 'uniform',\n",
            "                   'distance', 'uniform', 'distance', 'uniform',\n",
            "                   'uniform', 'uniform', 'uniform', 'distance',\n",
            "                   'distance', 'uniform', 'uniform', 'distance',\n",
            "                   'distance', 'uniform', 'distance', 'uniform',\n",
            "                   'distance', 'uniform', 'distance', 'distance',\n",
            "                   'distance', 'distance', 'distance', 'uniform',\n",
            "                   'uniform', 'distance', 'uniform', 'uniform',\n",
            "                   'distance', 'uniform', 'uniform', 'uniform', 'uniform',\n",
            "                   'uniform', 'distance', 'distance', 'distance',\n",
            "                   'uniform', 'uniform', 'uniform', 'distance',\n",
            "                   'distance', 'uniform', 'distance', 'uniform',\n",
            "                   'uniform', 'uniform', 'distance', 'uniform', 'uniform',\n",
            "                   'distance', 'distance', 'distance', 'uniform',\n",
            "                   'uniform', 'uniform', 'uniform', 'uniform', 'distance',\n",
            "                   'distance', 'distance', 'uniform', 'distance',\n",
            "                   'uniform', 'uniform', 'distance', 'distance',\n",
            "                   'distance', 'distance', 'distance', 'uniform',\n",
            "                   'distance', 'distance', 'distance', 'uniform',\n",
            "                   'distance', 'uniform', 'distance', 'distance',\n",
            "                   'uniform', 'distance', 'distance', 'uniform',\n",
            "                   'distance', 'distance', 'uniform', 'distance',\n",
            "                   'distance', 'distance', 'uniform', 'distance'],\n",
            "             mask=[False, False, False, False, False, False, False, False,\n",
            "                   False, False, False, False, False, False, False, False,\n",
            "                   False, False, False, False, False, False, False, False,\n",
            "                   False, False, False, False, False, False, False, False,\n",
            "                   False, False, False, False, False, False, False, False,\n",
            "                   False, False, False, False, False, False, False, False,\n",
            "                   False, False, False, False, False, False, False, False,\n",
            "                   False, False, False, False, False, False, False, False,\n",
            "                   False, False, False, False, False, False, False, False,\n",
            "                   False, False, False, False, False, False, False, False,\n",
            "                   False, False, False, False, False, False, False, False,\n",
            "                   False, False, False, False, False, False, False, False,\n",
            "                   False, False, False, False],\n",
            "       fill_value='?',\n",
            "            dtype=object), 'param_n_neighbors': masked_array(data=[223, 1000, 445, 889, 1000, 223, 556, 334, 889, 889, 1,\n",
            "                   556, 889, 223, 112, 445, 889, 1, 445, 1, 1, 1, 223,\n",
            "                   1000, 1, 556, 223, 778, 223, 1000, 1, 445, 667, 1, 223,\n",
            "                   445, 556, 667, 1, 1, 889, 778, 556, 778, 667, 889, 445,\n",
            "                   334, 1000, 889, 1000, 667, 778, 112, 223, 667, 1, 445,\n",
            "                   778, 667, 445, 112, 667, 1, 1, 667, 445, 667, 889, 445,\n",
            "                   1, 223, 556, 778, 889, 334, 667, 334, 667, 445, 334,\n",
            "                   1000, 1000, 556, 667, 223, 1, 556, 778, 667, 1, 112,\n",
            "                   223, 1000, 1, 223, 445, 889, 223, 556],\n",
            "             mask=[False, False, False, False, False, False, False, False,\n",
            "                   False, False, False, False, False, False, False, False,\n",
            "                   False, False, False, False, False, False, False, False,\n",
            "                   False, False, False, False, False, False, False, False,\n",
            "                   False, False, False, False, False, False, False, False,\n",
            "                   False, False, False, False, False, False, False, False,\n",
            "                   False, False, False, False, False, False, False, False,\n",
            "                   False, False, False, False, False, False, False, False,\n",
            "                   False, False, False, False, False, False, False, False,\n",
            "                   False, False, False, False, False, False, False, False,\n",
            "                   False, False, False, False, False, False, False, False,\n",
            "                   False, False, False, False, False, False, False, False,\n",
            "                   False, False, False, False],\n",
            "       fill_value='?',\n",
            "            dtype=object), 'param_leaf_size': masked_array(data=[445, 1, 1000, 889, 778, 334, 223, 1, 889, 1000, 445, 1,\n",
            "                   778, 334, 112, 223, 334, 556, 889, 667, 778, 223, 778,\n",
            "                   223, 889, 889, 1000, 1000, 778, 1, 556, 445, 667, 1,\n",
            "                   112, 334, 556, 889, 556, 778, 1, 667, 667, 889, 667,\n",
            "                   889, 445, 667, 445, 445, 1000, 223, 1000, 889, 1000,\n",
            "                   334, 112, 1000, 556, 334, 112, 556, 334, 223, 1000, 1,\n",
            "                   112, 334, 1, 778, 556, 667, 1, 889, 778, 334, 1000,\n",
            "                   223, 889, 889, 556, 112, 778, 112, 112, 223, 1000,\n",
            "                   1000, 778, 778, 1, 112, 667, 223, 889, 889, 334, 112,\n",
            "                   112, 778],\n",
            "             mask=[False, False, False, False, False, False, False, False,\n",
            "                   False, False, False, False, False, False, False, False,\n",
            "                   False, False, False, False, False, False, False, False,\n",
            "                   False, False, False, False, False, False, False, False,\n",
            "                   False, False, False, False, False, False, False, False,\n",
            "                   False, False, False, False, False, False, False, False,\n",
            "                   False, False, False, False, False, False, False, False,\n",
            "                   False, False, False, False, False, False, False, False,\n",
            "                   False, False, False, False, False, False, False, False,\n",
            "                   False, False, False, False, False, False, False, False,\n",
            "                   False, False, False, False, False, False, False, False,\n",
            "                   False, False, False, False, False, False, False, False,\n",
            "                   False, False, False, False],\n",
            "       fill_value='?',\n",
            "            dtype=object), 'param_algorithm': masked_array(data=['kd_tree', 'ball_tree', 'kd_tree', 'brute',\n",
            "                   'ball_tree', 'brute', 'kd_tree', 'ball_tree',\n",
            "                   'ball_tree', 'auto', 'brute', 'brute', 'auto',\n",
            "                   'ball_tree', 'brute', 'auto', 'ball_tree', 'auto',\n",
            "                   'kd_tree', 'ball_tree', 'kd_tree', 'auto', 'brute',\n",
            "                   'ball_tree', 'kd_tree', 'auto', 'ball_tree', 'auto',\n",
            "                   'kd_tree', 'auto', 'ball_tree', 'kd_tree', 'kd_tree',\n",
            "                   'ball_tree', 'brute', 'ball_tree', 'ball_tree', 'auto',\n",
            "                   'brute', 'kd_tree', 'ball_tree', 'ball_tree',\n",
            "                   'ball_tree', 'auto', 'auto', 'kd_tree', 'ball_tree',\n",
            "                   'brute', 'auto', 'auto', 'brute', 'ball_tree',\n",
            "                   'ball_tree', 'kd_tree', 'auto', 'auto', 'ball_tree',\n",
            "                   'brute', 'auto', 'brute', 'brute', 'kd_tree', 'brute',\n",
            "                   'auto', 'brute', 'kd_tree', 'kd_tree', 'auto',\n",
            "                   'ball_tree', 'auto', 'kd_tree', 'auto', 'auto',\n",
            "                   'kd_tree', 'auto', 'ball_tree', 'brute', 'kd_tree',\n",
            "                   'kd_tree', 'brute', 'brute', 'ball_tree', 'auto',\n",
            "                   'brute', 'ball_tree', 'brute', 'kd_tree', 'auto',\n",
            "                   'brute', 'auto', 'ball_tree', 'ball_tree', 'ball_tree',\n",
            "                   'kd_tree', 'auto', 'brute', 'kd_tree', 'brute', 'auto',\n",
            "                   'ball_tree'],\n",
            "             mask=[False, False, False, False, False, False, False, False,\n",
            "                   False, False, False, False, False, False, False, False,\n",
            "                   False, False, False, False, False, False, False, False,\n",
            "                   False, False, False, False, False, False, False, False,\n",
            "                   False, False, False, False, False, False, False, False,\n",
            "                   False, False, False, False, False, False, False, False,\n",
            "                   False, False, False, False, False, False, False, False,\n",
            "                   False, False, False, False, False, False, False, False,\n",
            "                   False, False, False, False, False, False, False, False,\n",
            "                   False, False, False, False, False, False, False, False,\n",
            "                   False, False, False, False, False, False, False, False,\n",
            "                   False, False, False, False, False, False, False, False,\n",
            "                   False, False, False, False],\n",
            "       fill_value='?',\n",
            "            dtype=object), 'params': [{'weights': 'uniform', 'n_neighbors': 223, 'leaf_size': 445, 'algorithm': 'kd_tree'}, {'weights': 'uniform', 'n_neighbors': 1000, 'leaf_size': 1, 'algorithm': 'ball_tree'}, {'weights': 'distance', 'n_neighbors': 445, 'leaf_size': 1000, 'algorithm': 'kd_tree'}, {'weights': 'uniform', 'n_neighbors': 889, 'leaf_size': 889, 'algorithm': 'brute'}, {'weights': 'distance', 'n_neighbors': 1000, 'leaf_size': 778, 'algorithm': 'ball_tree'}, {'weights': 'uniform', 'n_neighbors': 223, 'leaf_size': 334, 'algorithm': 'brute'}, {'weights': 'uniform', 'n_neighbors': 556, 'leaf_size': 223, 'algorithm': 'kd_tree'}, {'weights': 'uniform', 'n_neighbors': 334, 'leaf_size': 1, 'algorithm': 'ball_tree'}, {'weights': 'uniform', 'n_neighbors': 889, 'leaf_size': 889, 'algorithm': 'ball_tree'}, {'weights': 'distance', 'n_neighbors': 889, 'leaf_size': 1000, 'algorithm': 'auto'}, {'weights': 'uniform', 'n_neighbors': 1, 'leaf_size': 445, 'algorithm': 'brute'}, {'weights': 'distance', 'n_neighbors': 556, 'leaf_size': 1, 'algorithm': 'brute'}, {'weights': 'uniform', 'n_neighbors': 889, 'leaf_size': 778, 'algorithm': 'auto'}, {'weights': 'uniform', 'n_neighbors': 223, 'leaf_size': 334, 'algorithm': 'ball_tree'}, {'weights': 'uniform', 'n_neighbors': 112, 'leaf_size': 112, 'algorithm': 'brute'}, {'weights': 'uniform', 'n_neighbors': 445, 'leaf_size': 223, 'algorithm': 'auto'}, {'weights': 'distance', 'n_neighbors': 889, 'leaf_size': 334, 'algorithm': 'ball_tree'}, {'weights': 'distance', 'n_neighbors': 1, 'leaf_size': 556, 'algorithm': 'auto'}, {'weights': 'uniform', 'n_neighbors': 445, 'leaf_size': 889, 'algorithm': 'kd_tree'}, {'weights': 'uniform', 'n_neighbors': 1, 'leaf_size': 667, 'algorithm': 'ball_tree'}, {'weights': 'distance', 'n_neighbors': 1, 'leaf_size': 778, 'algorithm': 'kd_tree'}, {'weights': 'distance', 'n_neighbors': 1, 'leaf_size': 223, 'algorithm': 'auto'}, {'weights': 'uniform', 'n_neighbors': 223, 'leaf_size': 778, 'algorithm': 'brute'}, {'weights': 'distance', 'n_neighbors': 1000, 'leaf_size': 223, 'algorithm': 'ball_tree'}, {'weights': 'uniform', 'n_neighbors': 1, 'leaf_size': 889, 'algorithm': 'kd_tree'}, {'weights': 'distance', 'n_neighbors': 556, 'leaf_size': 889, 'algorithm': 'auto'}, {'weights': 'uniform', 'n_neighbors': 223, 'leaf_size': 1000, 'algorithm': 'ball_tree'}, {'weights': 'distance', 'n_neighbors': 778, 'leaf_size': 1000, 'algorithm': 'auto'}, {'weights': 'distance', 'n_neighbors': 223, 'leaf_size': 778, 'algorithm': 'kd_tree'}, {'weights': 'distance', 'n_neighbors': 1000, 'leaf_size': 1, 'algorithm': 'auto'}, {'weights': 'distance', 'n_neighbors': 1, 'leaf_size': 556, 'algorithm': 'ball_tree'}, {'weights': 'distance', 'n_neighbors': 445, 'leaf_size': 445, 'algorithm': 'kd_tree'}, {'weights': 'uniform', 'n_neighbors': 667, 'leaf_size': 667, 'algorithm': 'kd_tree'}, {'weights': 'uniform', 'n_neighbors': 1, 'leaf_size': 1, 'algorithm': 'ball_tree'}, {'weights': 'distance', 'n_neighbors': 223, 'leaf_size': 112, 'algorithm': 'brute'}, {'weights': 'uniform', 'n_neighbors': 445, 'leaf_size': 334, 'algorithm': 'ball_tree'}, {'weights': 'uniform', 'n_neighbors': 556, 'leaf_size': 556, 'algorithm': 'ball_tree'}, {'weights': 'distance', 'n_neighbors': 667, 'leaf_size': 889, 'algorithm': 'auto'}, {'weights': 'uniform', 'n_neighbors': 1, 'leaf_size': 556, 'algorithm': 'brute'}, {'weights': 'uniform', 'n_neighbors': 1, 'leaf_size': 778, 'algorithm': 'kd_tree'}, {'weights': 'uniform', 'n_neighbors': 889, 'leaf_size': 1, 'algorithm': 'ball_tree'}, {'weights': 'uniform', 'n_neighbors': 778, 'leaf_size': 667, 'algorithm': 'ball_tree'}, {'weights': 'uniform', 'n_neighbors': 556, 'leaf_size': 667, 'algorithm': 'ball_tree'}, {'weights': 'distance', 'n_neighbors': 778, 'leaf_size': 889, 'algorithm': 'auto'}, {'weights': 'distance', 'n_neighbors': 667, 'leaf_size': 667, 'algorithm': 'auto'}, {'weights': 'distance', 'n_neighbors': 889, 'leaf_size': 889, 'algorithm': 'kd_tree'}, {'weights': 'uniform', 'n_neighbors': 445, 'leaf_size': 445, 'algorithm': 'ball_tree'}, {'weights': 'uniform', 'n_neighbors': 334, 'leaf_size': 667, 'algorithm': 'brute'}, {'weights': 'uniform', 'n_neighbors': 1000, 'leaf_size': 445, 'algorithm': 'auto'}, {'weights': 'distance', 'n_neighbors': 889, 'leaf_size': 445, 'algorithm': 'auto'}, {'weights': 'distance', 'n_neighbors': 1000, 'leaf_size': 1000, 'algorithm': 'brute'}, {'weights': 'uniform', 'n_neighbors': 667, 'leaf_size': 223, 'algorithm': 'ball_tree'}, {'weights': 'distance', 'n_neighbors': 778, 'leaf_size': 1000, 'algorithm': 'ball_tree'}, {'weights': 'uniform', 'n_neighbors': 112, 'leaf_size': 889, 'algorithm': 'kd_tree'}, {'weights': 'uniform', 'n_neighbors': 223, 'leaf_size': 1000, 'algorithm': 'auto'}, {'weights': 'uniform', 'n_neighbors': 667, 'leaf_size': 334, 'algorithm': 'auto'}, {'weights': 'distance', 'n_neighbors': 1, 'leaf_size': 112, 'algorithm': 'ball_tree'}, {'weights': 'uniform', 'n_neighbors': 445, 'leaf_size': 1000, 'algorithm': 'brute'}, {'weights': 'uniform', 'n_neighbors': 778, 'leaf_size': 556, 'algorithm': 'auto'}, {'weights': 'distance', 'n_neighbors': 667, 'leaf_size': 334, 'algorithm': 'brute'}, {'weights': 'distance', 'n_neighbors': 445, 'leaf_size': 112, 'algorithm': 'brute'}, {'weights': 'distance', 'n_neighbors': 112, 'leaf_size': 556, 'algorithm': 'kd_tree'}, {'weights': 'uniform', 'n_neighbors': 667, 'leaf_size': 334, 'algorithm': 'brute'}, {'weights': 'uniform', 'n_neighbors': 1, 'leaf_size': 223, 'algorithm': 'auto'}, {'weights': 'uniform', 'n_neighbors': 1, 'leaf_size': 1000, 'algorithm': 'brute'}, {'weights': 'uniform', 'n_neighbors': 667, 'leaf_size': 1, 'algorithm': 'kd_tree'}, {'weights': 'uniform', 'n_neighbors': 445, 'leaf_size': 112, 'algorithm': 'kd_tree'}, {'weights': 'distance', 'n_neighbors': 667, 'leaf_size': 334, 'algorithm': 'auto'}, {'weights': 'distance', 'n_neighbors': 889, 'leaf_size': 1, 'algorithm': 'ball_tree'}, {'weights': 'distance', 'n_neighbors': 445, 'leaf_size': 778, 'algorithm': 'auto'}, {'weights': 'uniform', 'n_neighbors': 1, 'leaf_size': 556, 'algorithm': 'kd_tree'}, {'weights': 'distance', 'n_neighbors': 223, 'leaf_size': 667, 'algorithm': 'auto'}, {'weights': 'uniform', 'n_neighbors': 556, 'leaf_size': 1, 'algorithm': 'auto'}, {'weights': 'uniform', 'n_neighbors': 778, 'leaf_size': 889, 'algorithm': 'kd_tree'}, {'weights': 'distance', 'n_neighbors': 889, 'leaf_size': 778, 'algorithm': 'auto'}, {'weights': 'distance', 'n_neighbors': 334, 'leaf_size': 334, 'algorithm': 'ball_tree'}, {'weights': 'distance', 'n_neighbors': 667, 'leaf_size': 1000, 'algorithm': 'brute'}, {'weights': 'distance', 'n_neighbors': 334, 'leaf_size': 223, 'algorithm': 'kd_tree'}, {'weights': 'distance', 'n_neighbors': 667, 'leaf_size': 889, 'algorithm': 'kd_tree'}, {'weights': 'uniform', 'n_neighbors': 445, 'leaf_size': 889, 'algorithm': 'brute'}, {'weights': 'distance', 'n_neighbors': 334, 'leaf_size': 556, 'algorithm': 'brute'}, {'weights': 'distance', 'n_neighbors': 1000, 'leaf_size': 112, 'algorithm': 'ball_tree'}, {'weights': 'distance', 'n_neighbors': 1000, 'leaf_size': 778, 'algorithm': 'auto'}, {'weights': 'uniform', 'n_neighbors': 556, 'leaf_size': 112, 'algorithm': 'brute'}, {'weights': 'distance', 'n_neighbors': 667, 'leaf_size': 112, 'algorithm': 'ball_tree'}, {'weights': 'uniform', 'n_neighbors': 223, 'leaf_size': 223, 'algorithm': 'brute'}, {'weights': 'distance', 'n_neighbors': 1, 'leaf_size': 1000, 'algorithm': 'kd_tree'}, {'weights': 'distance', 'n_neighbors': 556, 'leaf_size': 1000, 'algorithm': 'auto'}, {'weights': 'uniform', 'n_neighbors': 778, 'leaf_size': 778, 'algorithm': 'brute'}, {'weights': 'distance', 'n_neighbors': 667, 'leaf_size': 778, 'algorithm': 'auto'}, {'weights': 'distance', 'n_neighbors': 1, 'leaf_size': 1, 'algorithm': 'ball_tree'}, {'weights': 'uniform', 'n_neighbors': 112, 'leaf_size': 112, 'algorithm': 'ball_tree'}, {'weights': 'distance', 'n_neighbors': 223, 'leaf_size': 667, 'algorithm': 'ball_tree'}, {'weights': 'distance', 'n_neighbors': 1000, 'leaf_size': 223, 'algorithm': 'kd_tree'}, {'weights': 'uniform', 'n_neighbors': 1, 'leaf_size': 889, 'algorithm': 'auto'}, {'weights': 'distance', 'n_neighbors': 223, 'leaf_size': 889, 'algorithm': 'brute'}, {'weights': 'distance', 'n_neighbors': 445, 'leaf_size': 334, 'algorithm': 'kd_tree'}, {'weights': 'distance', 'n_neighbors': 889, 'leaf_size': 112, 'algorithm': 'brute'}, {'weights': 'uniform', 'n_neighbors': 223, 'leaf_size': 112, 'algorithm': 'auto'}, {'weights': 'distance', 'n_neighbors': 556, 'leaf_size': 778, 'algorithm': 'ball_tree'}], 'split0_test_score': array([       nan,        nan,        nan,        nan,        nan,\n",
            "              nan,        nan,        nan,        nan,        nan,\n",
            "       0.76595745,        nan,        nan,        nan, 0.85106383,\n",
            "              nan,        nan, 0.76595745,        nan, 0.76595745,\n",
            "       0.76595745, 0.76595745,        nan,        nan, 0.76595745,\n",
            "              nan,        nan,        nan,        nan,        nan,\n",
            "       0.76595745,        nan,        nan, 0.76595745,        nan,\n",
            "              nan,        nan,        nan, 0.76595745, 0.76595745,\n",
            "              nan,        nan,        nan,        nan,        nan,\n",
            "              nan,        nan,        nan,        nan,        nan,\n",
            "              nan,        nan,        nan, 0.85106383,        nan,\n",
            "              nan, 0.76595745,        nan,        nan,        nan,\n",
            "              nan, 0.85106383,        nan, 0.76595745, 0.76595745,\n",
            "              nan,        nan,        nan,        nan,        nan,\n",
            "       0.76595745,        nan,        nan,        nan,        nan,\n",
            "              nan,        nan,        nan,        nan,        nan,\n",
            "              nan,        nan,        nan,        nan,        nan,\n",
            "              nan, 0.76595745,        nan,        nan,        nan,\n",
            "       0.76595745, 0.85106383,        nan,        nan, 0.76595745,\n",
            "              nan,        nan,        nan,        nan,        nan]), 'split1_test_score': array([       nan,        nan,        nan,        nan,        nan,\n",
            "              nan,        nan,        nan,        nan,        nan,\n",
            "       0.80851064,        nan,        nan,        nan, 0.80851064,\n",
            "              nan,        nan, 0.80851064,        nan, 0.78723404,\n",
            "       0.78723404, 0.80851064,        nan,        nan, 0.78723404,\n",
            "              nan,        nan,        nan,        nan,        nan,\n",
            "       0.78723404,        nan,        nan, 0.78723404,        nan,\n",
            "              nan,        nan,        nan, 0.80851064, 0.78723404,\n",
            "              nan,        nan,        nan,        nan,        nan,\n",
            "              nan,        nan,        nan,        nan,        nan,\n",
            "              nan,        nan,        nan, 0.78723404,        nan,\n",
            "              nan, 0.78723404,        nan,        nan,        nan,\n",
            "              nan, 0.78723404,        nan, 0.80851064, 0.80851064,\n",
            "              nan,        nan,        nan,        nan,        nan,\n",
            "       0.78723404,        nan,        nan,        nan,        nan,\n",
            "              nan,        nan,        nan,        nan,        nan,\n",
            "              nan,        nan,        nan,        nan,        nan,\n",
            "              nan, 0.78723404,        nan,        nan,        nan,\n",
            "       0.78723404, 0.78723404,        nan,        nan, 0.80851064,\n",
            "              nan,        nan,        nan,        nan,        nan]), 'split2_test_score': array([       nan,        nan,        nan,        nan,        nan,\n",
            "              nan,        nan,        nan,        nan,        nan,\n",
            "       0.85106383,        nan,        nan,        nan, 0.76595745,\n",
            "              nan,        nan, 0.85106383,        nan, 0.85106383,\n",
            "       0.85106383, 0.85106383,        nan,        nan, 0.85106383,\n",
            "              nan,        nan,        nan,        nan,        nan,\n",
            "       0.85106383,        nan,        nan, 0.85106383,        nan,\n",
            "              nan,        nan,        nan, 0.85106383, 0.85106383,\n",
            "              nan,        nan,        nan,        nan,        nan,\n",
            "              nan,        nan,        nan,        nan,        nan,\n",
            "              nan,        nan,        nan, 0.76595745,        nan,\n",
            "              nan, 0.85106383,        nan,        nan,        nan,\n",
            "              nan, 0.80851064,        nan, 0.85106383, 0.85106383,\n",
            "              nan,        nan,        nan,        nan,        nan,\n",
            "       0.85106383,        nan,        nan,        nan,        nan,\n",
            "              nan,        nan,        nan,        nan,        nan,\n",
            "              nan,        nan,        nan,        nan,        nan,\n",
            "              nan, 0.85106383,        nan,        nan,        nan,\n",
            "       0.85106383, 0.76595745,        nan,        nan, 0.85106383,\n",
            "              nan,        nan,        nan,        nan,        nan]), 'split3_test_score': array([       nan,        nan,        nan,        nan,        nan,\n",
            "              nan,        nan,        nan,        nan,        nan,\n",
            "       0.82608696,        nan,        nan,        nan, 0.84782609,\n",
            "              nan,        nan, 0.82608696,        nan, 0.82608696,\n",
            "       0.82608696, 0.82608696,        nan,        nan, 0.82608696,\n",
            "              nan,        nan,        nan,        nan,        nan,\n",
            "       0.82608696,        nan,        nan, 0.82608696,        nan,\n",
            "              nan,        nan,        nan, 0.82608696, 0.82608696,\n",
            "              nan,        nan,        nan,        nan,        nan,\n",
            "              nan,        nan,        nan,        nan,        nan,\n",
            "              nan,        nan,        nan, 0.84782609,        nan,\n",
            "              nan, 0.82608696,        nan,        nan,        nan,\n",
            "              nan, 0.82608696,        nan, 0.82608696, 0.82608696,\n",
            "              nan,        nan,        nan,        nan,        nan,\n",
            "       0.82608696,        nan,        nan,        nan,        nan,\n",
            "              nan,        nan,        nan,        nan,        nan,\n",
            "              nan,        nan,        nan,        nan,        nan,\n",
            "              nan, 0.82608696,        nan,        nan,        nan,\n",
            "       0.82608696, 0.84782609,        nan,        nan, 0.82608696,\n",
            "              nan,        nan,        nan,        nan,        nan]), 'split4_test_score': array([       nan,        nan,        nan,        nan,        nan,\n",
            "              nan,        nan,        nan,        nan,        nan,\n",
            "       0.89130435,        nan,        nan,        nan, 0.84782609,\n",
            "              nan,        nan, 0.89130435,        nan, 0.89130435,\n",
            "       0.89130435, 0.89130435,        nan,        nan, 0.89130435,\n",
            "              nan,        nan,        nan,        nan,        nan,\n",
            "       0.89130435,        nan,        nan, 0.89130435,        nan,\n",
            "              nan,        nan,        nan, 0.89130435, 0.89130435,\n",
            "              nan,        nan,        nan,        nan,        nan,\n",
            "              nan,        nan,        nan,        nan,        nan,\n",
            "              nan,        nan,        nan, 0.84782609,        nan,\n",
            "              nan, 0.89130435,        nan,        nan,        nan,\n",
            "              nan, 0.86956522,        nan, 0.89130435, 0.89130435,\n",
            "              nan,        nan,        nan,        nan,        nan,\n",
            "       0.89130435,        nan,        nan,        nan,        nan,\n",
            "              nan,        nan,        nan,        nan,        nan,\n",
            "              nan,        nan,        nan,        nan,        nan,\n",
            "              nan, 0.89130435,        nan,        nan,        nan,\n",
            "       0.89130435, 0.84782609,        nan,        nan, 0.89130435,\n",
            "              nan,        nan,        nan,        nan,        nan]), 'mean_test_score': array([       nan,        nan,        nan,        nan,        nan,\n",
            "              nan,        nan,        nan,        nan,        nan,\n",
            "       0.82858464,        nan,        nan,        nan, 0.82423682,\n",
            "              nan,        nan, 0.82858464,        nan, 0.82432932,\n",
            "       0.82432932, 0.82858464,        nan,        nan, 0.82432932,\n",
            "              nan,        nan,        nan,        nan,        nan,\n",
            "       0.82432932,        nan,        nan, 0.82432932,        nan,\n",
            "              nan,        nan,        nan, 0.82858464, 0.82432932,\n",
            "              nan,        nan,        nan,        nan,        nan,\n",
            "              nan,        nan,        nan,        nan,        nan,\n",
            "              nan,        nan,        nan, 0.8199815 ,        nan,\n",
            "              nan, 0.82432932,        nan,        nan,        nan,\n",
            "              nan, 0.82849214,        nan, 0.82858464, 0.82858464,\n",
            "              nan,        nan,        nan,        nan,        nan,\n",
            "       0.82432932,        nan,        nan,        nan,        nan,\n",
            "              nan,        nan,        nan,        nan,        nan,\n",
            "              nan,        nan,        nan,        nan,        nan,\n",
            "              nan, 0.82432932,        nan,        nan,        nan,\n",
            "       0.82432932, 0.8199815 ,        nan,        nan, 0.82858464,\n",
            "              nan,        nan,        nan,        nan,        nan]), 'std_test_score': array([       nan,        nan,        nan,        nan,        nan,\n",
            "              nan,        nan,        nan,        nan,        nan,\n",
            "       0.04188185,        nan,        nan,        nan, 0.033095  ,\n",
            "              nan,        nan, 0.04188185,        nan, 0.04469186,\n",
            "       0.04469186, 0.04188185,        nan,        nan, 0.04469186,\n",
            "              nan,        nan,        nan,        nan,        nan,\n",
            "       0.04469186,        nan,        nan, 0.04469186,        nan,\n",
            "              nan,        nan,        nan, 0.04188185, 0.04469186,\n",
            "              nan,        nan,        nan,        nan,        nan,\n",
            "              nan,        nan,        nan,        nan,        nan,\n",
            "              nan,        nan,        nan, 0.03607699,        nan,\n",
            "              nan, 0.04469186,        nan,        nan,        nan,\n",
            "              nan, 0.02933856,        nan, 0.04188185, 0.04188185,\n",
            "              nan,        nan,        nan,        nan,        nan,\n",
            "       0.04469186,        nan,        nan,        nan,        nan,\n",
            "              nan,        nan,        nan,        nan,        nan,\n",
            "              nan,        nan,        nan,        nan,        nan,\n",
            "              nan, 0.04469186,        nan,        nan,        nan,\n",
            "       0.04469186, 0.03607699,        nan,        nan, 0.04188185,\n",
            "              nan,        nan,        nan,        nan,        nan]), 'rank_test_score': array([ 35,  75,  74,  73,  72,  71,  70,  69,  68,  76,   1,  67,  65,\n",
            "        64,  19,  63,  62,   1,  61,   9,   9,   1,  60,  59,   9,  58,\n",
            "        66,  77,  78,  79,   9,  98,  97,   9,  96,  95,  94,  93,   1,\n",
            "         9,  92,  91,  90,  89,  88,  87,  86,  85,  84,  56,  82,  81,\n",
            "        80,  20,  57,  99,   9,  23,  25,  26,  33,   8,  31,   1,   1,\n",
            "        28,  34,  32,  30,  29,   9,  24,  22,  27,  54,  36,  53,  52,\n",
            "        55,  51,  50,  49,  48,  47,  46,  45,   9,  44,  43,  42,   9,\n",
            "        20,  41,  40,   1,  39,  38,  37,  83, 100], dtype=int32)}\n"
          ]
        }
      ]
    },
    {
      "cell_type": "code",
      "source": [
        "print('\\n Best estimator:')\n",
        "print(knn_randomcv.best_estimator_)"
      ],
      "metadata": {
        "colab": {
          "base_uri": "https://localhost:8080/"
        },
        "id": "26m4c2f3Dsj3",
        "outputId": "95ae5cf8-0c40-4462-a0c9-058c271a2e26"
      },
      "execution_count": null,
      "outputs": [
        {
          "output_type": "stream",
          "name": "stdout",
          "text": [
            "\n",
            " Best estimator:\n",
            "KNeighborsClassifier(algorithm='brute', leaf_size=445, n_neighbors=1)\n"
          ]
        }
      ]
    },
    {
      "cell_type": "code",
      "source": [
        "print('\\n Best hyperparameters:')\n",
        "print(knn_randomcv.best_params_)"
      ],
      "metadata": {
        "colab": {
          "base_uri": "https://localhost:8080/"
        },
        "id": "RU089NMDD2i7",
        "outputId": "861cc6b3-03b7-45bd-e8a4-56c469f7c533"
      },
      "execution_count": null,
      "outputs": [
        {
          "output_type": "stream",
          "name": "stdout",
          "text": [
            "\n",
            " Best hyperparameters:\n",
            "{'weights': 'uniform', 'n_neighbors': 1, 'leaf_size': 445, 'algorithm': 'brute'}\n"
          ]
        }
      ]
    },
    {
      "cell_type": "code",
      "source": [
        "from sklearn import neighbors\n",
        "\n",
        "knn = neighbors.KNeighborsClassifier(weights='uniform', n_neighbors= 1, leaf_size=445, algorithm='brute')\n",
        "knn.fit(X_train,y_train)"
      ],
      "metadata": {
        "colab": {
          "base_uri": "https://localhost:8080/"
        },
        "id": "um3AkranD4u-",
        "outputId": "af78b678-81a1-42bd-a70b-6cd52b2bd2fb"
      },
      "execution_count": null,
      "outputs": [
        {
          "output_type": "execute_result",
          "data": {
            "text/plain": [
              "KNeighborsClassifier(algorithm='brute', leaf_size=445, n_neighbors=1)"
            ]
          },
          "metadata": {},
          "execution_count": 37
        }
      ]
    },
    {
      "cell_type": "code",
      "source": [
        "y_pred_knn = knn.predict(X_test)\n",
        "model_report(y_test, y_pred_knn)"
      ],
      "metadata": {
        "colab": {
          "base_uri": "https://localhost:8080/"
        },
        "id": "u-J4PhjREEUG",
        "outputId": "e2a258b9-9aef-4e9e-defa-2c53f76a97f9"
      },
      "execution_count": null,
      "outputs": [
        {
          "output_type": "stream",
          "name": "stdout",
          "text": [
            "Accuracy =  0.8983050847457628\n",
            "Precision =  0.8709677419354839\n",
            "Recall\\Sensitivity =  0.9310344827586207\n",
            "Specificity =  0.8666666666666667\n",
            "F1 Score =  0.9\n",
            "AUC Score = 0.8988505747126436\n",
            "Kappa score =  0.7967853042479909\n",
            "Log Loss =  3.5124721484607613 \n",
            "\n"
          ]
        }
      ]
    },
    {
      "cell_type": "code",
      "source": [
        "title = \"Learning Curves (KNeighborsClassifier)\"                                        # fill this in\n",
        "cv = ShuffleSplit(n_splits=5, test_size=0.2, random_state=42)\n",
        "knn = neighbors.KNeighborsClassifier(weights='uniform', n_neighbors= 1, leaf_size=445, algorithm='brute')                                 # fill this in\n",
        "plot_learning_curve(knn, title, X, y, ylim=(0.2, 1.25), cv=cv, n_jobs=4)\n",
        "plt.savefig('KNN_curve.pdf', transparent=True, dpi=300)\n",
        "plt.savefig('KNN_curve.eps', transparent=True, dpi=300)\n",
        "plt.show()"
      ],
      "metadata": {
        "colab": {
          "base_uri": "https://localhost:8080/",
          "height": 434
        },
        "id": "Z_54FOHfAAsm",
        "outputId": "8be8b757-ba57-46ed-a252-86be47ae18e3"
      },
      "execution_count": null,
      "outputs": [
        {
          "output_type": "stream",
          "name": "stderr",
          "text": [
            "WARNING:matplotlib.backends.backend_ps:The PostScript backend does not support transparency; partially transparent artists will be rendered opaque.\n",
            "WARNING:matplotlib.backends.backend_ps:The PostScript backend does not support transparency; partially transparent artists will be rendered opaque.\n",
            "WARNING:matplotlib.backends.backend_ps:The PostScript backend does not support transparency; partially transparent artists will be rendered opaque.\n",
            "WARNING:matplotlib.backends.backend_ps:The PostScript backend does not support transparency; partially transparent artists will be rendered opaque.\n",
            "WARNING:matplotlib.backends.backend_ps:The PostScript backend does not support transparency; partially transparent artists will be rendered opaque.\n",
            "WARNING:matplotlib.backends.backend_ps:The PostScript backend does not support transparency; partially transparent artists will be rendered opaque.\n",
            "WARNING:matplotlib.backends.backend_ps:The PostScript backend does not support transparency; partially transparent artists will be rendered opaque.\n",
            "WARNING:matplotlib.backends.backend_ps:The PostScript backend does not support transparency; partially transparent artists will be rendered opaque.\n"
          ]
        },
        {
          "output_type": "display_data",
          "data": {
            "text/plain": [
              "<Figure size 432x288 with 1 Axes>"
            ],
            "image/png": "[encoded data removed]"
          },
          "metadata": {
            "needs_background": "light"
          }
        }
      ]
    },
    {
      "cell_type": "code",
      "source": [
        "from sklearn.metrics import confusion_matrix\n",
        "\n",
        "cm = confusion_matrix(y_test, y_pred_knn)\n",
        "plt.figure(figsize=(10, 8))\n",
        "ax = sns.heatmap(cm, cmap=plt.cm.Greens, annot=True, square=True, annot_kws={\"size\": 25})\n",
        "plt.title('Confusion Matrix', fontsize=20)\n",
        "ax.set_ylabel('Actual Label', fontsize=20)\n",
        "ax.set_xlabel('Predicted Label', fontsize=20)\n",
        "plt.savefig('KNN_confusion.pdf', transparent=True, dpi=300)\n",
        "plt.savefig('KNN_confusion.eps', transparent=True, dpi=300)"
      ],
      "metadata": {
        "colab": {
          "base_uri": "https://localhost:8080/",
          "height": 527
        },
        "id": "xMRDIUAMBuuS",
        "outputId": "759c27ea-edae-4096-e2b2-8af708e349d2"
      },
      "execution_count": null,
      "outputs": [
        {
          "output_type": "display_data",
          "data": {
            "text/plain": [
              "<Figure size 720x576 with 2 Axes>"
            ],
            "image/png": "[encoded data removed]"
          },
          "metadata": {
            "needs_background": "light"
          }
        }
      ]
    },
    {
      "cell_type": "markdown",
      "source": [
        "##SVM Classifier"
      ],
      "metadata": {
        "id": "Rr-jJ-D1G1I1"
      }
    },
    {
      "cell_type": "code",
      "source": [
        "from sklearn.model_selection import RandomizedSearchCV\n",
        "\n",
        "C = [int(x) for x in np.linspace(start = 1, stop = 20, num = 10)]\n",
        "kernel = ['linear', 'poly', 'rbf', 'sigmoid']\n",
        "degree = [int(x) for x in np.linspace(start = 1, stop = 10, num = 10)]\n",
        "\n",
        "random_grid = {'C':C,\n",
        "               'kernel':kernel,\n",
        "               'degree':degree}\n",
        "print(random_grid)"
      ],
      "metadata": {
        "colab": {
          "base_uri": "https://localhost:8080/"
        },
        "id": "zXVwGuQXEX42",
        "outputId": "3057573a-b54f-4275-a946-ed9fc8ed553d"
      },
      "execution_count": null,
      "outputs": [
        {
          "output_type": "stream",
          "name": "stdout",
          "text": [
            "{'C': [1, 3, 5, 7, 9, 11, 13, 15, 17, 20], 'kernel': ['linear', 'poly', 'rbf', 'sigmoid'], 'degree': [1, 2, 3, 4, 5, 6, 7, 8, 9, 10]}\n"
          ]
        }
      ]
    },
    {
      "cell_type": "code",
      "source": [
        "from sklearn.svm import SVC\n",
        "svc = SVC()\n",
        "svc_randomcv=RandomizedSearchCV(estimator= svc, param_distributions=random_grid, n_iter=100, cv=5, verbose=2,\n",
        "                               random_state=100,n_jobs=-1)\n",
        "#fit the randomized model\n",
        "svc_randomcv.fit(X_train,y_train)"
      ],
      "metadata": {
        "colab": {
          "base_uri": "https://localhost:8080/"
        },
        "id": "kPu0W_hDEbut",
        "outputId": "54169db7-caab-4dd1-d9e5-8bb6d36a72c7"
      },
      "execution_count": null,
      "outputs": [
        {
          "output_type": "stream",
          "name": "stdout",
          "text": [
            "Fitting 5 folds for each of 100 candidates, totalling 500 fits\n"
          ]
        },
        {
          "output_type": "execute_result",
          "data": {
            "text/plain": [
              "RandomizedSearchCV(cv=5, estimator=SVC(), n_iter=100, n_jobs=-1,\n",
              "                   param_distributions={'C': [1, 3, 5, 7, 9, 11, 13, 15, 17,\n",
              "                                              20],\n",
              "                                        'degree': [1, 2, 3, 4, 5, 6, 7, 8, 9,\n",
              "                                                   10],\n",
              "                                        'kernel': ['linear', 'poly', 'rbf',\n",
              "                                                   'sigmoid']},\n",
              "                   random_state=100, verbose=2)"
            ]
          },
          "metadata": {},
          "execution_count": 42
        }
      ]
    },
    {
      "cell_type": "code",
      "source": [
        "print('\\n All results:')\n",
        "print(svc_randomcv.cv_results_)"
      ],
      "metadata": {
        "colab": {
          "base_uri": "https://localhost:8080/"
        },
        "id": "IAMf8GENEddK",
        "outputId": "aa4d0b46-bb11-4da8-fd25-be550953ec8b"
      },
      "execution_count": null,
      "outputs": [
        {
          "output_type": "stream",
          "name": "stdout",
          "text": [
            "\n",
            " All results:\n",
            "{'mean_fit_time': array([0.00571337, 0.00317483, 0.0023562 , 0.00212541, 0.0050312 ,\n",
            "       0.00337381, 0.0065927 , 0.00360212, 0.00346909, 0.00205493,\n",
            "       0.00226898, 0.0051827 , 0.00301328, 0.0033814 , 0.0026648 ,\n",
            "       0.00273547, 0.00478573, 0.00311246, 0.00500383, 0.00517988,\n",
            "       0.0041913 , 0.00217133, 0.00272832, 0.00498009, 0.00487514,\n",
            "       0.00396261, 0.00388589, 0.00320811, 0.00574398, 0.00431929,\n",
            "       0.00297942, 0.0028379 , 0.00313797, 0.00327072, 0.00484953,\n",
            "       0.00349388, 0.00464101, 0.0039237 , 0.00197983, 0.00473971,\n",
            "       0.01033783, 0.00279064, 0.00354924, 0.00201554, 0.00290647,\n",
            "       0.00220027, 0.00698333, 0.00509467, 0.00239716, 0.00259395,\n",
            "       0.0034214 , 0.0036808 , 0.00266428, 0.00222764, 0.00223365,\n",
            "       0.00276251, 0.00334821, 0.00253057, 0.00516715, 0.00322375,\n",
            "       0.00493102, 0.00212741, 0.00333028, 0.00380263, 0.00592275,\n",
            "       0.00204935, 0.00364671, 0.00484867, 0.00269604, 0.00265136,\n",
            "       0.0031899 , 0.00485821, 0.00449257, 0.00262399, 0.00196285,\n",
            "       0.00270824, 0.00293355, 0.00283923, 0.0052978 , 0.00349345,\n",
            "       0.00657763, 0.00267386, 0.00285234, 0.00198236, 0.00334778,\n",
            "       0.00537043, 0.00308871, 0.00321045, 0.00346408, 0.0040863 ,\n",
            "       0.00241461, 0.00559869, 0.00321417, 0.00351081, 0.00564909,\n",
            "       0.00593047, 0.00351343, 0.00346971, 0.00299149, 0.00336576]), 'std_fit_time': array([5.58484101e-04, 5.96095072e-04, 3.16185093e-04, 1.49177695e-04,\n",
            "       6.73490339e-04, 3.24905657e-05, 3.32153420e-03, 1.32443696e-03,\n",
            "       1.61870631e-04, 1.08697329e-04, 1.34043191e-04, 4.23951152e-04,\n",
            "       1.43795034e-04, 2.15689929e-04, 1.34932699e-04, 1.20868730e-04,\n",
            "       3.62126143e-04, 3.26473656e-05, 5.03322765e-04, 2.60510509e-03,\n",
            "       2.75490985e-03, 1.27550277e-04, 1.10943787e-04, 3.12408808e-04,\n",
            "       5.76381289e-04, 9.07232244e-04, 8.98090535e-04, 2.19680043e-04,\n",
            "       1.65587334e-03, 9.06154467e-05, 2.55282093e-04, 3.91111069e-04,\n",
            "       1.52538381e-04, 1.55210577e-03, 5.04136491e-04, 5.02496590e-04,\n",
            "       6.33829887e-04, 1.38351877e-03, 6.98993507e-05, 2.73845951e-03,\n",
            "       3.61479392e-03, 1.24357485e-04, 2.07032711e-04, 1.34304163e-04,\n",
            "       1.54782003e-04, 1.55981926e-04, 1.29816436e-03, 2.00932775e-03,\n",
            "       2.19363575e-04, 1.75105577e-04, 4.77201170e-04, 1.80410291e-04,\n",
            "       8.80545569e-04, 8.07766368e-05, 1.62499611e-04, 2.84406300e-04,\n",
            "       1.17955731e-04, 4.61439016e-04, 4.13351609e-04, 3.49042018e-04,\n",
            "       6.30689536e-04, 7.62228336e-05, 1.82654800e-04, 2.15202049e-03,\n",
            "       6.26437208e-03, 1.88358983e-04, 1.13278779e-03, 5.12770278e-04,\n",
            "       1.05814023e-04, 1.53696133e-04, 2.06912912e-04, 3.80072520e-04,\n",
            "       1.62845160e-03, 3.65963414e-04, 9.19654850e-05, 1.76320197e-04,\n",
            "       1.98620358e-04, 9.93861338e-05, 1.97606576e-03, 1.62542934e-03,\n",
            "       3.15947222e-03, 1.83333997e-04, 1.68764156e-04, 1.26422256e-04,\n",
            "       1.79483256e-03, 2.31650562e-03, 8.63657105e-04, 1.48373044e-04,\n",
            "       1.35347571e-04, 9.86009313e-05, 5.12840849e-04, 1.00641503e-03,\n",
            "       3.31162579e-04, 5.14693412e-04, 6.77924219e-04, 9.85068286e-04,\n",
            "       1.41097283e-04, 5.77534961e-04, 7.29684570e-05, 7.38998391e-04]), 'mean_score_time': array([0.0006896 , 0.00189304, 0.00071602, 0.00098944, 0.00051794,\n",
            "       0.00089359, 0.00055461, 0.00101132, 0.00095935, 0.00063105,\n",
            "       0.00068388, 0.00053344, 0.00104127, 0.00194306, 0.0008553 ,\n",
            "       0.00104356, 0.00053997, 0.00087256, 0.00053325, 0.00110006,\n",
            "       0.0010066 , 0.00068707, 0.00106292, 0.00054579, 0.00055308,\n",
            "       0.00081215, 0.00159903, 0.0009295 , 0.00056729, 0.0011929 ,\n",
            "       0.00099602, 0.0014627 , 0.00116882, 0.00063734, 0.00054202,\n",
            "       0.00091066, 0.00120983, 0.00088549, 0.00105   , 0.00190382,\n",
            "       0.00051365, 0.00095849, 0.00101089, 0.00061336, 0.00102015,\n",
            "       0.00065069, 0.0009182 , 0.00242777, 0.00070524, 0.00093331,\n",
            "       0.00080481, 0.00097556, 0.00066452, 0.00069714, 0.00067291,\n",
            "       0.00097928, 0.00091863, 0.00071774, 0.00056939, 0.00079031,\n",
            "       0.00055919, 0.0006433 , 0.00088487, 0.00100045, 0.00133762,\n",
            "       0.00079966, 0.00137396, 0.00052285, 0.00094295, 0.00091605,\n",
            "       0.0008759 , 0.00051184, 0.00056963, 0.00076108, 0.00067706,\n",
            "       0.00093474, 0.00103631, 0.00100636, 0.00094953, 0.00083618,\n",
            "       0.00127039, 0.00097604, 0.00099187, 0.00062094, 0.0006412 ,\n",
            "       0.00130138, 0.00122457, 0.00088081, 0.00086408, 0.00117445,\n",
            "       0.00057044, 0.00055518, 0.0009131 , 0.00090413, 0.00055661,\n",
            "       0.00058184, 0.00131497, 0.00108018, 0.00112147, 0.00118837]), 'std_score_time': array([1.24533544e-04, 1.04353978e-03, 7.62100653e-05, 7.23502853e-04,\n",
            "       4.59824335e-05, 5.23103620e-05, 2.67451667e-05, 9.06496660e-05,\n",
            "       5.50434924e-05, 3.31404912e-05, 1.41361108e-05, 6.62905870e-05,\n",
            "       5.23776046e-05, 1.85399208e-03, 3.42067437e-05, 1.13919381e-04,\n",
            "       2.76324562e-05, 4.89104311e-05, 2.77843483e-05, 4.36406306e-05,\n",
            "       6.93667783e-05, 4.70934092e-05, 6.80971879e-05, 3.14760927e-05,\n",
            "       4.17518245e-05, 6.04430551e-05, 8.57755105e-04, 8.96828654e-05,\n",
            "       3.51450659e-05, 4.71675111e-05, 7.88605050e-05, 1.11313458e-03,\n",
            "       5.03115403e-05, 1.33272309e-04, 3.19867114e-05, 5.54561000e-05,\n",
            "       1.91606675e-05, 7.77518043e-05, 7.86726299e-04, 1.88130684e-03,\n",
            "       3.41738250e-05, 3.21168145e-05, 4.92992896e-05, 3.04745580e-05,\n",
            "       3.65069842e-05, 3.73973506e-05, 5.48151087e-04, 1.80821753e-03,\n",
            "       4.37371719e-05, 1.00761751e-04, 4.56387219e-05, 1.99517465e-05,\n",
            "       8.57699232e-05, 3.65634927e-05, 2.50956819e-05, 5.85348639e-05,\n",
            "       7.06319618e-05, 7.52307301e-05, 1.06145644e-04, 5.88914933e-05,\n",
            "       4.68356535e-05, 4.02472595e-05, 4.25109352e-05, 4.52715135e-05,\n",
            "       8.60445373e-04, 2.28660795e-04, 1.11654353e-03, 4.63153481e-05,\n",
            "       3.98157599e-05, 4.41779784e-05, 3.00469468e-05, 3.38162612e-05,\n",
            "       3.49887368e-05, 1.22747128e-04, 4.20932441e-05, 5.77773571e-05,\n",
            "       4.85556514e-05, 6.41894372e-05, 6.55339080e-05, 7.07703134e-05,\n",
            "       6.68092739e-04, 2.57551222e-05, 5.27450443e-05, 3.03661793e-05,\n",
            "       6.80372606e-05, 6.07788239e-04, 6.55392880e-04, 5.02228836e-05,\n",
            "       8.53487098e-05, 5.07631173e-05, 3.74384285e-05, 3.57737842e-05,\n",
            "       3.70123324e-05, 1.22252288e-04, 2.47379699e-05, 3.75923730e-05,\n",
            "       6.30680076e-04, 5.29436572e-05, 1.20746938e-04, 1.93870026e-04]), 'param_kernel': masked_array(data=['linear', 'rbf', 'poly', 'poly', 'linear', 'sigmoid',\n",
            "                   'linear', 'rbf', 'sigmoid', 'poly', 'poly', 'linear',\n",
            "                   'rbf', 'sigmoid', 'rbf', 'rbf', 'linear', 'sigmoid',\n",
            "                   'linear', 'sigmoid', 'rbf', 'poly', 'rbf', 'linear',\n",
            "                   'linear', 'poly', 'sigmoid', 'sigmoid', 'linear',\n",
            "                   'sigmoid', 'rbf', 'rbf', 'rbf', 'poly', 'linear',\n",
            "                   'sigmoid', 'sigmoid', 'sigmoid', 'poly', 'rbf',\n",
            "                   'linear', 'rbf', 'sigmoid', 'poly', 'rbf', 'linear',\n",
            "                   'linear', 'rbf', 'poly', 'rbf', 'poly', 'sigmoid',\n",
            "                   'poly', 'poly', 'poly', 'rbf', 'sigmoid', 'poly',\n",
            "                   'linear', 'poly', 'linear', 'poly', 'sigmoid', 'rbf',\n",
            "                   'rbf', 'poly', 'sigmoid', 'linear', 'rbf', 'rbf',\n",
            "                   'sigmoid', 'linear', 'linear', 'poly', 'poly', 'rbf',\n",
            "                   'rbf', 'rbf', 'sigmoid', 'poly', 'rbf', 'rbf', 'rbf',\n",
            "                   'poly', 'poly', 'sigmoid', 'poly', 'sigmoid', 'poly',\n",
            "                   'sigmoid', 'poly', 'linear', 'sigmoid', 'sigmoid',\n",
            "                   'linear', 'linear', 'sigmoid', 'rbf', 'rbf', 'rbf'],\n",
            "             mask=[False, False, False, False, False, False, False, False,\n",
            "                   False, False, False, False, False, False, False, False,\n",
            "                   False, False, False, False, False, False, False, False,\n",
            "                   False, False, False, False, False, False, False, False,\n",
            "                   False, False, False, False, False, False, False, False,\n",
            "                   False, False, False, False, False, False, False, False,\n",
            "                   False, False, False, False, False, False, False, False,\n",
            "                   False, False, False, False, False, False, False, False,\n",
            "                   False, False, False, False, False, False, False, False,\n",
            "                   False, False, False, False, False, False, False, False,\n",
            "                   False, False, False, False, False, False, False, False,\n",
            "                   False, False, False, False, False, False, False, False,\n",
            "                   False, False, False, False],\n",
            "       fill_value='?',\n",
            "            dtype=object), 'param_degree': masked_array(data=[3, 10, 4, 2, 7, 9, 2, 1, 8, 3, 2, 5, 6, 6, 3, 10, 10,\n",
            "                   9, 5, 1, 9, 5, 10, 6, 9, 9, 2, 9, 5, 6, 5, 1, 5, 1, 4,\n",
            "                   8, 2, 6, 3, 10, 5, 4, 9, 3, 5, 8, 3, 4, 7, 2, 9, 8, 5,\n",
            "                   1, 6, 9, 7, 6, 3, 9, 6, 2, 7, 4, 10, 4, 7, 2, 5, 6, 7,\n",
            "                   2, 7, 8, 2, 10, 2, 10, 7, 8, 8, 2, 3, 5, 1, 9, 4, 8,\n",
            "                   10, 7, 1, 8, 10, 4, 7, 6, 8, 8, 3, 2],\n",
            "             mask=[False, False, False, False, False, False, False, False,\n",
            "                   False, False, False, False, False, False, False, False,\n",
            "                   False, False, False, False, False, False, False, False,\n",
            "                   False, False, False, False, False, False, False, False,\n",
            "                   False, False, False, False, False, False, False, False,\n",
            "                   False, False, False, False, False, False, False, False,\n",
            "                   False, False, False, False, False, False, False, False,\n",
            "                   False, False, False, False, False, False, False, False,\n",
            "                   False, False, False, False, False, False, False, False,\n",
            "                   False, False, False, False, False, False, False, False,\n",
            "                   False, False, False, False, False, False, False, False,\n",
            "                   False, False, False, False, False, False, False, False,\n",
            "                   False, False, False, False],\n",
            "       fill_value='?',\n",
            "            dtype=object), 'param_C': masked_array(data=[13, 15, 9, 15, 9, 11, 7, 15, 7, 9, 7, 15, 17, 5, 20,\n",
            "                   13, 11, 15, 5, 3, 15, 5, 3, 7, 13, 7, 7, 13, 3, 1, 5,\n",
            "                   13, 1, 11, 15, 13, 1, 13, 7, 5, 7, 3, 3, 20, 13, 1, 11,\n",
            "                   7, 11, 11, 1, 11, 11, 1, 20, 20, 17, 1, 15, 20, 13, 11,\n",
            "                   20, 9, 7, 17, 15, 13, 9, 15, 9, 17, 3, 7, 1, 17, 9, 9,\n",
            "                   13, 3, 9, 3, 3, 20, 7, 9, 7, 9, 9, 1, 13, 17, 13, 17,\n",
            "                   17, 20, 15, 5, 5, 1],\n",
            "             mask=[False, False, False, False, False, False, False, False,\n",
            "                   False, False, False, False, False, False, False, False,\n",
            "                   False, False, False, False, False, False, False, False,\n",
            "                   False, False, False, False, False, False, False, False,\n",
            "                   False, False, False, False, False, False, False, False,\n",
            "                   False, False, False, False, False, False, False, False,\n",
            "                   False, False, False, False, False, False, False, False,\n",
            "                   False, False, False, False, False, False, False, False,\n",
            "                   False, False, False, False, False, False, False, False,\n",
            "                   False, False, False, False, False, False, False, False,\n",
            "                   False, False, False, False, False, False, False, False,\n",
            "                   False, False, False, False, False, False, False, False,\n",
            "                   False, False, False, False],\n",
            "       fill_value='?',\n",
            "            dtype=object), 'params': [{'kernel': 'linear', 'degree': 3, 'C': 13}, {'kernel': 'rbf', 'degree': 10, 'C': 15}, {'kernel': 'poly', 'degree': 4, 'C': 9}, {'kernel': 'poly', 'degree': 2, 'C': 15}, {'kernel': 'linear', 'degree': 7, 'C': 9}, {'kernel': 'sigmoid', 'degree': 9, 'C': 11}, {'kernel': 'linear', 'degree': 2, 'C': 7}, {'kernel': 'rbf', 'degree': 1, 'C': 15}, {'kernel': 'sigmoid', 'degree': 8, 'C': 7}, {'kernel': 'poly', 'degree': 3, 'C': 9}, {'kernel': 'poly', 'degree': 2, 'C': 7}, {'kernel': 'linear', 'degree': 5, 'C': 15}, {'kernel': 'rbf', 'degree': 6, 'C': 17}, {'kernel': 'sigmoid', 'degree': 6, 'C': 5}, {'kernel': 'rbf', 'degree': 3, 'C': 20}, {'kernel': 'rbf', 'degree': 10, 'C': 13}, {'kernel': 'linear', 'degree': 10, 'C': 11}, {'kernel': 'sigmoid', 'degree': 9, 'C': 15}, {'kernel': 'linear', 'degree': 5, 'C': 5}, {'kernel': 'sigmoid', 'degree': 1, 'C': 3}, {'kernel': 'rbf', 'degree': 9, 'C': 15}, {'kernel': 'poly', 'degree': 5, 'C': 5}, {'kernel': 'rbf', 'degree': 10, 'C': 3}, {'kernel': 'linear', 'degree': 6, 'C': 7}, {'kernel': 'linear', 'degree': 9, 'C': 13}, {'kernel': 'poly', 'degree': 9, 'C': 7}, {'kernel': 'sigmoid', 'degree': 2, 'C': 7}, {'kernel': 'sigmoid', 'degree': 9, 'C': 13}, {'kernel': 'linear', 'degree': 5, 'C': 3}, {'kernel': 'sigmoid', 'degree': 6, 'C': 1}, {'kernel': 'rbf', 'degree': 5, 'C': 5}, {'kernel': 'rbf', 'degree': 1, 'C': 13}, {'kernel': 'rbf', 'degree': 5, 'C': 1}, {'kernel': 'poly', 'degree': 1, 'C': 11}, {'kernel': 'linear', 'degree': 4, 'C': 15}, {'kernel': 'sigmoid', 'degree': 8, 'C': 13}, {'kernel': 'sigmoid', 'degree': 2, 'C': 1}, {'kernel': 'sigmoid', 'degree': 6, 'C': 13}, {'kernel': 'poly', 'degree': 3, 'C': 7}, {'kernel': 'rbf', 'degree': 10, 'C': 5}, {'kernel': 'linear', 'degree': 5, 'C': 7}, {'kernel': 'rbf', 'degree': 4, 'C': 3}, {'kernel': 'sigmoid', 'degree': 9, 'C': 3}, {'kernel': 'poly', 'degree': 3, 'C': 20}, {'kernel': 'rbf', 'degree': 5, 'C': 13}, {'kernel': 'linear', 'degree': 8, 'C': 1}, {'kernel': 'linear', 'degree': 3, 'C': 11}, {'kernel': 'rbf', 'degree': 4, 'C': 7}, {'kernel': 'poly', 'degree': 7, 'C': 11}, {'kernel': 'rbf', 'degree': 2, 'C': 11}, {'kernel': 'poly', 'degree': 9, 'C': 1}, {'kernel': 'sigmoid', 'degree': 8, 'C': 11}, {'kernel': 'poly', 'degree': 5, 'C': 11}, {'kernel': 'poly', 'degree': 1, 'C': 1}, {'kernel': 'poly', 'degree': 6, 'C': 20}, {'kernel': 'rbf', 'degree': 9, 'C': 20}, {'kernel': 'sigmoid', 'degree': 7, 'C': 17}, {'kernel': 'poly', 'degree': 6, 'C': 1}, {'kernel': 'linear', 'degree': 3, 'C': 15}, {'kernel': 'poly', 'degree': 9, 'C': 20}, {'kernel': 'linear', 'degree': 6, 'C': 13}, {'kernel': 'poly', 'degree': 2, 'C': 11}, {'kernel': 'sigmoid', 'degree': 7, 'C': 20}, {'kernel': 'rbf', 'degree': 4, 'C': 9}, {'kernel': 'rbf', 'degree': 10, 'C': 7}, {'kernel': 'poly', 'degree': 4, 'C': 17}, {'kernel': 'sigmoid', 'degree': 7, 'C': 15}, {'kernel': 'linear', 'degree': 2, 'C': 13}, {'kernel': 'rbf', 'degree': 5, 'C': 9}, {'kernel': 'rbf', 'degree': 6, 'C': 15}, {'kernel': 'sigmoid', 'degree': 7, 'C': 9}, {'kernel': 'linear', 'degree': 2, 'C': 17}, {'kernel': 'linear', 'degree': 7, 'C': 3}, {'kernel': 'poly', 'degree': 8, 'C': 7}, {'kernel': 'poly', 'degree': 2, 'C': 1}, {'kernel': 'rbf', 'degree': 10, 'C': 17}, {'kernel': 'rbf', 'degree': 2, 'C': 9}, {'kernel': 'rbf', 'degree': 10, 'C': 9}, {'kernel': 'sigmoid', 'degree': 7, 'C': 13}, {'kernel': 'poly', 'degree': 8, 'C': 3}, {'kernel': 'rbf', 'degree': 8, 'C': 9}, {'kernel': 'rbf', 'degree': 2, 'C': 3}, {'kernel': 'rbf', 'degree': 3, 'C': 3}, {'kernel': 'poly', 'degree': 5, 'C': 20}, {'kernel': 'poly', 'degree': 1, 'C': 7}, {'kernel': 'sigmoid', 'degree': 9, 'C': 9}, {'kernel': 'poly', 'degree': 4, 'C': 7}, {'kernel': 'sigmoid', 'degree': 8, 'C': 9}, {'kernel': 'poly', 'degree': 10, 'C': 9}, {'kernel': 'sigmoid', 'degree': 7, 'C': 1}, {'kernel': 'poly', 'degree': 1, 'C': 13}, {'kernel': 'linear', 'degree': 8, 'C': 17}, {'kernel': 'sigmoid', 'degree': 10, 'C': 13}, {'kernel': 'sigmoid', 'degree': 4, 'C': 17}, {'kernel': 'linear', 'degree': 7, 'C': 17}, {'kernel': 'linear', 'degree': 6, 'C': 20}, {'kernel': 'sigmoid', 'degree': 8, 'C': 15}, {'kernel': 'rbf', 'degree': 8, 'C': 5}, {'kernel': 'rbf', 'degree': 3, 'C': 5}, {'kernel': 'rbf', 'degree': 2, 'C': 1}], 'split0_test_score': array([1.        , 0.93617021, 0.95744681, 1.        , 1.        ,\n",
            "       0.80851064, 1.        , 0.93617021, 0.82978723, 0.95744681,\n",
            "       1.        , 1.        , 0.93617021, 0.80851064, 0.93617021,\n",
            "       0.93617021, 1.        , 0.80851064, 1.        , 0.87234043,\n",
            "       0.93617021, 0.93617021, 0.91489362, 1.        , 1.        ,\n",
            "       0.78723404, 0.82978723, 0.78723404, 1.        , 0.80851064,\n",
            "       0.93617021, 0.93617021, 0.91489362, 1.        , 1.        ,\n",
            "       0.78723404, 0.80851064, 0.78723404, 0.95744681, 0.93617021,\n",
            "       1.        , 0.91489362, 0.87234043, 0.95744681, 0.93617021,\n",
            "       1.        , 1.        , 0.93617021, 0.85106383, 0.93617021,\n",
            "       0.78723404, 0.80851064, 0.93617021, 0.91489362, 0.87234043,\n",
            "       0.93617021, 0.78723404, 0.87234043, 1.        , 0.78723404,\n",
            "       1.        , 1.        , 0.80851064, 0.91489362, 0.93617021,\n",
            "       0.95744681, 0.80851064, 1.        , 0.91489362, 0.93617021,\n",
            "       0.80851064, 1.        , 1.        , 0.78723404, 0.95744681,\n",
            "       0.93617021, 0.91489362, 0.91489362, 0.78723404, 0.78723404,\n",
            "       0.91489362, 0.91489362, 0.91489362, 0.93617021, 0.9787234 ,\n",
            "       0.80851064, 0.95744681, 0.80851064, 0.76595745, 0.80851064,\n",
            "       1.        , 1.        , 0.78723404, 0.78723404, 1.        ,\n",
            "       1.        , 0.80851064, 0.93617021, 0.93617021, 0.91489362]), 'split1_test_score': array([1.        , 0.93617021, 0.95744681, 0.9787234 , 1.        ,\n",
            "       0.80851064, 1.        , 0.93617021, 0.82978723, 0.9787234 ,\n",
            "       0.9787234 , 1.        , 0.93617021, 0.87234043, 0.93617021,\n",
            "       0.93617021, 1.        , 0.80851064, 1.        , 0.87234043,\n",
            "       0.93617021, 0.95744681, 0.93617021, 1.        , 1.        ,\n",
            "       0.89361702, 0.82978723, 0.80851064, 1.        , 0.87234043,\n",
            "       0.93617021, 0.93617021, 0.9787234 , 0.9787234 , 1.        ,\n",
            "       0.80851064, 0.87234043, 0.80851064, 0.9787234 , 0.93617021,\n",
            "       1.        , 0.93617021, 0.87234043, 0.9787234 , 0.93617021,\n",
            "       0.9787234 , 1.        , 0.93617021, 0.93617021, 0.93617021,\n",
            "       0.89361702, 0.80851064, 0.95744681, 0.9787234 , 0.95744681,\n",
            "       0.93617021, 0.78723404, 0.93617021, 1.        , 0.89361702,\n",
            "       1.        , 0.9787234 , 0.80851064, 0.93617021, 0.93617021,\n",
            "       0.95744681, 0.80851064, 1.        , 0.93617021, 0.93617021,\n",
            "       0.76595745, 1.        , 1.        , 0.89361702, 0.95744681,\n",
            "       0.93617021, 0.93617021, 0.93617021, 0.80851064, 0.89361702,\n",
            "       0.93617021, 0.93617021, 0.93617021, 0.95744681, 0.95744681,\n",
            "       0.76595745, 0.95744681, 0.76595745, 0.89361702, 0.87234043,\n",
            "       1.        , 1.        , 0.80851064, 0.78723404, 1.        ,\n",
            "       1.        , 0.80851064, 0.93617021, 0.93617021, 0.9787234 ]), 'split2_test_score': array([1.        , 0.95744681, 0.9787234 , 0.9787234 , 1.        ,\n",
            "       0.65957447, 1.        , 0.95744681, 0.65957447, 0.9787234 ,\n",
            "       0.9787234 , 1.        , 0.95744681, 0.65957447, 0.95744681,\n",
            "       0.95744681, 1.        , 0.65957447, 1.        , 0.70212766,\n",
            "       0.95744681, 0.9787234 , 0.89361702, 1.        , 1.        ,\n",
            "       1.        , 0.65957447, 0.65957447, 1.        , 0.70212766,\n",
            "       0.93617021, 0.95744681, 0.91489362, 0.93617021, 1.        ,\n",
            "       0.65957447, 0.70212766, 0.65957447, 0.9787234 , 0.93617021,\n",
            "       1.        , 0.89361702, 0.70212766, 0.9787234 , 0.95744681,\n",
            "       0.93617021, 1.        , 0.95744681, 0.9787234 , 0.95744681,\n",
            "       1.        , 0.65957447, 0.9787234 , 0.93617021, 0.9787234 ,\n",
            "       0.95744681, 0.65957447, 0.9787234 , 1.        , 1.        ,\n",
            "       1.        , 0.9787234 , 0.68085106, 0.95744681, 0.95744681,\n",
            "       0.9787234 , 0.65957447, 1.        , 0.95744681, 0.95744681,\n",
            "       0.70212766, 1.        , 1.        , 0.9787234 , 0.93617021,\n",
            "       0.95744681, 0.95744681, 0.95744681, 0.65957447, 0.9787234 ,\n",
            "       0.95744681, 0.89361702, 0.89361702, 0.9787234 , 0.93617021,\n",
            "       0.70212766, 0.9787234 , 0.70212766, 0.9787234 , 0.70212766,\n",
            "       0.93617021, 1.        , 0.65957447, 0.65957447, 1.        ,\n",
            "       1.        , 0.65957447, 0.93617021, 0.93617021, 0.91489362]), 'split3_test_score': array([1.        , 0.91304348, 0.95652174, 1.        , 1.        ,\n",
            "       0.73913043, 1.        , 0.91304348, 0.73913043, 0.97826087,\n",
            "       1.        , 1.        , 0.91304348, 0.7826087 , 0.91304348,\n",
            "       0.91304348, 1.        , 0.7173913 , 1.        , 0.84782609,\n",
            "       0.91304348, 0.93478261, 0.91304348, 1.        , 1.        ,\n",
            "       0.82608696, 0.73913043, 0.73913043, 1.        , 0.69565217,\n",
            "       0.91304348, 0.91304348, 0.93478261, 0.97826087, 1.        ,\n",
            "       0.73913043, 0.69565217, 0.73913043, 0.97826087, 0.91304348,\n",
            "       1.        , 0.91304348, 0.84782609, 0.97826087, 0.91304348,\n",
            "       0.97826087, 1.        , 0.91304348, 0.91304348, 0.91304348,\n",
            "       0.82608696, 0.73913043, 0.93478261, 0.93478261, 0.91304348,\n",
            "       0.91304348, 0.7173913 , 0.91304348, 1.        , 0.82608696,\n",
            "       1.        , 1.        , 0.7173913 , 0.91304348, 0.91304348,\n",
            "       0.95652174, 0.7173913 , 1.        , 0.91304348, 0.91304348,\n",
            "       0.76086957, 1.        , 1.        , 0.86956522, 0.93478261,\n",
            "       0.91304348, 0.91304348, 0.91304348, 0.73913043, 0.86956522,\n",
            "       0.91304348, 0.91304348, 0.91304348, 0.93478261, 0.93478261,\n",
            "       0.76086957, 0.95652174, 0.76086957, 0.82608696, 0.69565217,\n",
            "       0.97826087, 1.        , 0.73913043, 0.7173913 , 1.        ,\n",
            "       1.        , 0.7173913 , 0.91304348, 0.91304348, 0.93478261]), 'split4_test_score': array([1.        , 1.        , 0.97826087, 1.        , 1.        ,\n",
            "       0.7826087 , 1.        , 1.        , 0.82608696, 1.        ,\n",
            "       1.        , 1.        , 1.        , 0.7826087 , 1.        ,\n",
            "       1.        , 1.        , 0.82608696, 1.        , 0.82608696,\n",
            "       1.        , 0.95652174, 0.97826087, 1.        , 1.        ,\n",
            "       0.89130435, 0.82608696, 0.82608696, 1.        , 0.86956522,\n",
            "       0.97826087, 1.        , 0.97826087, 1.        , 1.        ,\n",
            "       0.82608696, 0.86956522, 0.82608696, 1.        , 0.97826087,\n",
            "       1.        , 0.97826087, 0.82608696, 1.        , 1.        ,\n",
            "       1.        , 1.        , 1.        , 0.93478261, 1.        ,\n",
            "       0.89130435, 0.7826087 , 0.95652174, 0.95652174, 0.93478261,\n",
            "       1.        , 0.7826087 , 0.93478261, 1.        , 0.89130435,\n",
            "       1.        , 1.        , 0.80434783, 1.        , 1.        ,\n",
            "       0.97826087, 0.82608696, 1.        , 1.        , 1.        ,\n",
            "       0.7826087 , 1.        , 1.        , 0.89130435, 1.        ,\n",
            "       1.        , 1.        , 1.        , 0.82608696, 0.89130435,\n",
            "       1.        , 0.97826087, 0.97826087, 0.95652174, 1.        ,\n",
            "       0.7826087 , 0.97826087, 0.7826087 , 0.86956522, 0.86956522,\n",
            "       1.        , 1.        , 0.82608696, 0.7826087 , 1.        ,\n",
            "       1.        , 0.82608696, 0.97826087, 0.97826087, 0.97826087]), 'mean_test_score': array([1.        , 0.94856614, 0.96567993, 0.99148936, 1.        ,\n",
            "       0.75966698, 1.        , 0.94856614, 0.77687327, 0.9786309 ,\n",
            "       0.99148936, 1.        , 0.94856614, 0.78112858, 0.94856614,\n",
            "       0.94856614, 1.        , 0.7640148 , 1.        , 0.82414431,\n",
            "       0.94856614, 0.95272895, 0.92719704, 1.        , 1.        ,\n",
            "       0.87964847, 0.77687327, 0.76410731, 1.        , 0.78963922,\n",
            "       0.939963  , 0.94856614, 0.94431082, 0.9786309 , 1.        ,\n",
            "       0.76410731, 0.78963922, 0.76410731, 0.9786309 , 0.939963  ,\n",
            "       1.        , 0.92719704, 0.82414431, 0.9786309 , 0.94856614,\n",
            "       0.9786309 , 1.        , 0.94856614, 0.92275671, 0.94856614,\n",
            "       0.87964847, 0.75966698, 0.95272895, 0.94421832, 0.93126735,\n",
            "       0.94856614, 0.74680851, 0.92701203, 1.        , 0.87964847,\n",
            "       1.        , 0.99148936, 0.76392229, 0.94431082, 0.94856614,\n",
            "       0.96567993, 0.7640148 , 1.        , 0.94431082, 0.94856614,\n",
            "       0.7640148 , 1.        , 1.        , 0.88408881, 0.95716929,\n",
            "       0.94856614, 0.94431082, 0.94431082, 0.76410731, 0.88408881,\n",
            "       0.94431082, 0.92719704, 0.92719704, 0.95272895, 0.96142461,\n",
            "       0.7640148 , 0.96567993, 0.7640148 , 0.86679001, 0.78963922,\n",
            "       0.98288622, 1.        , 0.76410731, 0.74680851, 1.        ,\n",
            "       1.        , 0.7640148 , 0.939963  , 0.939963  , 0.94431082]), 'std_test_score': array([0.        , 0.02930353, 0.0104676 , 0.01042336, 0.        ,\n",
            "       0.05610346, 0.        , 0.02930353, 0.06812531, 0.01345777,\n",
            "       0.01042336, 0.        , 0.02930353, 0.06906397, 0.02930353,\n",
            "       0.02930353, 0.        , 0.06464402, 0.        , 0.06340094,\n",
            "       0.02930353, 0.01617787, 0.02886987, 0.        , 0.        ,\n",
            "       0.072422  , 0.06812531, 0.05983132, 0.        , 0.07755723,\n",
            "       0.02114021, 0.02930353, 0.02883873, 0.02330808, 0.        ,\n",
            "       0.05983132, 0.07755723, 0.05983132, 0.01345777, 0.02114021,\n",
            "       0.        , 0.02886987, 0.06340094, 0.01345777, 0.02930353,\n",
            "       0.02330808, 0.        , 0.02930353, 0.0416918 , 0.02930353,\n",
            "       0.072422  , 0.05610346, 0.01617787, 0.02170584, 0.03675402,\n",
            "       0.02930353, 0.05103969, 0.03464802, 0.        , 0.072422  ,\n",
            "       0.        , 0.01042336, 0.05417827, 0.03219667, 0.02930353,\n",
            "       0.0104676 , 0.06464402, 0.        , 0.03219667, 0.02930353,\n",
            "       0.03512634, 0.        , 0.        , 0.06113974, 0.02356586,\n",
            "       0.02930353, 0.03219667, 0.03219667, 0.05983132, 0.06113974,\n",
            "       0.03219667, 0.02886987, 0.02886987, 0.01617787, 0.02510264,\n",
            "       0.03512634, 0.0104676 , 0.03512634, 0.07082432, 0.07755723,\n",
            "       0.02482911, 0.        , 0.05983132, 0.05103969, 0.        ,\n",
            "       0.        , 0.06464402, 0.02114021, 0.02114021, 0.02883873]), 'rank_test_score': array([ 1, 38, 30, 21,  1, 97,  1, 38, 83, 25, 21,  1, 38, 82, 38, 38,  1,\n",
            "       90,  1, 77, 38, 35, 65,  1,  1, 73, 83, 85,  1, 79, 60, 38, 52, 25,\n",
            "        1, 85, 79, 85, 25, 60,  1, 65, 77, 25, 38, 25,  1, 38, 70, 38, 73,\n",
            "       97, 35, 59, 64, 38, 99, 69,  1, 73,  1, 21, 96, 52, 38, 30, 90,  1,\n",
            "       52, 38, 90,  1,  1, 71, 34, 38, 52, 52, 85, 71, 52, 65, 65, 35, 33,\n",
            "       90, 30, 90, 76, 79, 24,  1, 85, 99,  1,  1, 90, 60, 60, 52],\n",
            "      dtype=int32)}\n"
          ]
        }
      ]
    },
    {
      "cell_type": "code",
      "source": [
        "print('\\n Best estimator:')\n",
        "print(svc_randomcv.best_estimator_)"
      ],
      "metadata": {
        "colab": {
          "base_uri": "https://localhost:8080/"
        },
        "id": "EzDNzlL6EiX2",
        "outputId": "1515d47f-fa68-4793-e166-c1c950e3502b"
      },
      "execution_count": null,
      "outputs": [
        {
          "output_type": "stream",
          "name": "stdout",
          "text": [
            "\n",
            " Best estimator:\n",
            "SVC(C=13, kernel='linear')\n"
          ]
        }
      ]
    },
    {
      "cell_type": "code",
      "source": [
        "print('\\n Best hyperparameters:')\n",
        "print(svc_randomcv.best_params_)"
      ],
      "metadata": {
        "colab": {
          "base_uri": "https://localhost:8080/"
        },
        "id": "BR8M-33YEmmc",
        "outputId": "4e6da3d0-0577-4298-c14f-3e3ceaac8c73"
      },
      "execution_count": null,
      "outputs": [
        {
          "output_type": "stream",
          "name": "stdout",
          "text": [
            "\n",
            " Best hyperparameters:\n",
            "{'kernel': 'linear', 'degree': 3, 'C': 13}\n"
          ]
        }
      ]
    },
    {
      "cell_type": "code",
      "source": [
        "svc = SVC(kernel='linear',degree=3, C=13)\n",
        "svc.fit(X_train,y_train)"
      ],
      "metadata": {
        "colab": {
          "base_uri": "https://localhost:8080/"
        },
        "id": "qIDAKfL0Ertc",
        "outputId": "0f701dfa-9d56-4e0c-afa4-a40be1a97689"
      },
      "execution_count": null,
      "outputs": [
        {
          "output_type": "execute_result",
          "data": {
            "text/plain": [
              "SVC(C=13, kernel='linear')"
            ]
          },
          "metadata": {},
          "execution_count": 46
        }
      ]
    },
    {
      "cell_type": "code",
      "source": [
        "y_pred_svc = svc.predict(X_test)\n",
        "model_report(y_test, y_pred_svc)"
      ],
      "metadata": {
        "colab": {
          "base_uri": "https://localhost:8080/"
        },
        "id": "qo8dzsKQEtCl",
        "outputId": "5f7b9f30-73dc-4768-9c3c-f37dd1958e9f"
      },
      "execution_count": null,
      "outputs": [
        {
          "output_type": "stream",
          "name": "stdout",
          "text": [
            "Accuracy =  1.0\n",
            "Precision =  1.0\n",
            "Recall\\Sensitivity =  1.0\n",
            "Specificity =  1.0\n",
            "F1 Score =  1.0\n",
            "AUC Score = 1.0\n",
            "Kappa score =  1.0\n",
            "Log Loss =  9.992007221626415e-16 \n",
            "\n"
          ]
        }
      ]
    },
    {
      "cell_type": "code",
      "source": [
        "title = \"Learning Curves (SVM)\"                                        # fill this in\n",
        "cv = ShuffleSplit(n_splits=5, test_size=0.2, random_state=42)\n",
        "svc = SVC(kernel='linear',degree=3, C=13)                               # fill this in\n",
        "plot_learning_curve(svc, title, X, y, ylim=(0.2, 1.25), cv=cv, n_jobs=4)\n",
        "plt.savefig('SVM_curve.pdf', transparent=True, dpi=300)\n",
        "plt.savefig('SVM_curve.eps', transparent=True, dpi=300)\n",
        "plt.show()"
      ],
      "metadata": {
        "colab": {
          "base_uri": "https://localhost:8080/",
          "height": 434
        },
        "id": "JOSE6Hz4Axe8",
        "outputId": "0e510452-44af-4cfa-e706-121a4a01ec6c"
      },
      "execution_count": null,
      "outputs": [
        {
          "output_type": "stream",
          "name": "stderr",
          "text": [
            "WARNING:matplotlib.backends.backend_ps:The PostScript backend does not support transparency; partially transparent artists will be rendered opaque.\n",
            "WARNING:matplotlib.backends.backend_ps:The PostScript backend does not support transparency; partially transparent artists will be rendered opaque.\n",
            "WARNING:matplotlib.backends.backend_ps:The PostScript backend does not support transparency; partially transparent artists will be rendered opaque.\n",
            "WARNING:matplotlib.backends.backend_ps:The PostScript backend does not support transparency; partially transparent artists will be rendered opaque.\n",
            "WARNING:matplotlib.backends.backend_ps:The PostScript backend does not support transparency; partially transparent artists will be rendered opaque.\n",
            "WARNING:matplotlib.backends.backend_ps:The PostScript backend does not support transparency; partially transparent artists will be rendered opaque.\n",
            "WARNING:matplotlib.backends.backend_ps:The PostScript backend does not support transparency; partially transparent artists will be rendered opaque.\n",
            "WARNING:matplotlib.backends.backend_ps:The PostScript backend does not support transparency; partially transparent artists will be rendered opaque.\n"
          ]
        },
        {
          "output_type": "display_data",
          "data": {
            "text/plain": [
              "<Figure size 432x288 with 1 Axes>"
            ],
            "image/png": "[encoded data removed]"
          },
          "metadata": {
            "needs_background": "light"
          }
        }
      ]
    },
    {
      "cell_type": "code",
      "source": [
        "from sklearn.metrics import confusion_matrix\n",
        "\n",
        "cm = confusion_matrix(y_test, y_pred_svc)\n",
        "plt.figure(figsize=(10, 8))\n",
        "ax = sns.heatmap(cm, cmap=plt.cm.Greens, annot=True, square=True, annot_kws={\"size\": 25})\n",
        "plt.title('Confusion Matrix', fontsize=20)\n",
        "ax.set_ylabel('Actual Label', fontsize=20)\n",
        "ax.set_xlabel('Predicted Label', fontsize=20)\n",
        "plt.savefig('SVC_confusion.pdf', transparent=True, dpi=300)\n",
        "plt.savefig('SVC_confusion.eps', transparent=True, dpi=300)"
      ],
      "metadata": {
        "colab": {
          "base_uri": "https://localhost:8080/",
          "height": 527
        },
        "id": "6gY818yoDbsY",
        "outputId": "602848d3-e3b8-4bb8-d773-0545f6669c56"
      },
      "execution_count": null,
      "outputs": [
        {
          "output_type": "display_data",
          "data": {
            "text/plain": [
              "<Figure size 720x576 with 2 Axes>"
            ],
            "image/png": "[encoded data removed]"
          },
          "metadata": {
            "needs_background": "light"
          }
        }
      ]
    },
    {
      "cell_type": "markdown",
      "source": [
        "##Random Forest Classifier"
      ],
      "metadata": {
        "id": "KDNHvuFcGqmO"
      }
    },
    {
      "cell_type": "code",
      "source": [
        "from sklearn.model_selection import RandomizedSearchCV\n",
        "\n",
        "# Number of trees in random forest\n",
        "n_estimators = [int(x) for x in np.linspace(start = 200, stop = 2000, num = 10)]\n",
        "# Number of features to consider at every split\n",
        "max_features = ['auto', 'sqrt','log2']\n",
        "# Maximum number of levels in tree\n",
        "max_depth = [int(x) for x in np.linspace(10, 1000,10)]\n",
        "# Minimum number of samples required to split a node\n",
        "min_samples_split = [2, 5, 10,14]\n",
        "# Minimum number of samples required at each leaf node\n",
        "min_samples_leaf = [1, 2, 4,6,8]\n",
        "#criterion used in trees\n",
        "criterion = ['entropy','gini']\n",
        "\n",
        "# Create the random grid\n",
        "random_grid = {'n_estimators': n_estimators,\n",
        "               'max_features': max_features,\n",
        "               'max_depth': max_depth,\n",
        "               'min_samples_split': min_samples_split,\n",
        "               'min_samples_leaf': min_samples_leaf,\n",
        "              'criterion':criterion}\n",
        "              \n",
        "print(random_grid)"
      ],
      "metadata": {
        "colab": {
          "base_uri": "https://localhost:8080/"
        },
        "id": "z_5fLVfUE6Fv",
        "outputId": "ecc1cd20-4a6a-4ea6-f4f4-26af44bac744"
      },
      "execution_count": null,
      "outputs": [
        {
          "output_type": "stream",
          "name": "stdout",
          "text": [
            "{'n_estimators': [200, 400, 600, 800, 1000, 1200, 1400, 1600, 1800, 2000], 'max_features': ['auto', 'sqrt', 'log2'], 'max_depth': [10, 120, 230, 340, 450, 560, 670, 780, 890, 1000], 'min_samples_split': [2, 5, 10, 14], 'min_samples_leaf': [1, 2, 4, 6, 8], 'criterion': ['entropy', 'gini']}\n"
          ]
        }
      ]
    },
    {
      "cell_type": "code",
      "source": [
        "from sklearn.ensemble import RandomForestClassifier\n",
        "rf = RandomForestClassifier()\n",
        "rf_randomcv=RandomizedSearchCV(estimator=rf, param_distributions=random_grid, n_iter=100, cv=5, verbose=2,\n",
        "                               random_state=100, n_jobs=-1)\n",
        "#fit the randomized model\n",
        "rf_randomcv.fit(X_train,y_train)"
      ],
      "metadata": {
        "colab": {
          "base_uri": "https://localhost:8080/"
        },
        "id": "fVIlDeIhE8u2",
        "outputId": "c29bb82a-c354-441f-c06e-1bcba83b31cc"
      },
      "execution_count": null,
      "outputs": [
        {
          "output_type": "stream",
          "name": "stdout",
          "text": [
            "Fitting 5 folds for each of 100 candidates, totalling 500 fits\n"
          ]
        },
        {
          "output_type": "execute_result",
          "data": {
            "text/plain": [
              "RandomizedSearchCV(cv=5, estimator=RandomForestClassifier(), n_iter=100,\n",
              "                   n_jobs=-1,\n",
              "                   param_distributions={'criterion': ['entropy', 'gini'],\n",
              "                                        'max_depth': [10, 120, 230, 340, 450,\n",
              "                                                      560, 670, 780, 890,\n",
              "                                                      1000],\n",
              "                                        'max_features': ['auto', 'sqrt',\n",
              "                                                         'log2'],\n",
              "                                        'min_samples_leaf': [1, 2, 4, 6, 8],\n",
              "                                        'min_samples_split': [2, 5, 10, 14],\n",
              "                                        'n_estimators': [200, 400, 600, 800,\n",
              "                                                         1000, 1200, 1400, 1600,\n",
              "                                                         1800, 2000]},\n",
              "                   random_state=100, verbose=2)"
            ]
          },
          "metadata": {},
          "execution_count": 51
        }
      ]
    },
    {
      "cell_type": "code",
      "source": [
        "print('\\n All results:')\n",
        "print(rf_randomcv.cv_results_)"
      ],
      "metadata": {
        "colab": {
          "base_uri": "https://localhost:8080/"
        },
        "id": "1Sf4jS0MFC3e",
        "outputId": "93c4720a-0ca0-4d10-d403-fb0fa916c82b"
      },
      "execution_count": null,
      "outputs": [
        {
          "output_type": "stream",
          "name": "stdout",
          "text": [
            "\n",
            " All results:\n",
            "{'mean_fit_time': array([0.357516  , 2.54228992, 4.23190169, 3.48452168, 0.37584639,\n",
            "       1.06027741, 3.50801916, 2.46706405, 2.59040437, 1.05210381,\n",
            "       1.01821027, 2.46430082, 0.6947135 , 1.02513552, 0.68204627,\n",
            "       0.45829282, 3.09270453, 1.06806574, 1.46122613, 3.56466408,\n",
            "       0.36584072, 1.71089549, 2.72808819, 0.34700108, 2.12851806,\n",
            "       1.45200391, 1.38987894, 0.68733225, 1.57015095, 0.34651117,\n",
            "       1.41414633, 1.37687273, 0.83177857, 2.06718845, 3.54268107,\n",
            "       2.7804544 , 2.79029708, 2.92396994, 3.6869184 , 3.1958415 ,\n",
            "       1.04129376, 3.56464429, 1.37537336, 2.41407943, 3.4732718 ,\n",
            "       1.37508359, 1.3980484 , 3.1326385 , 3.06792922, 1.02406335,\n",
            "       2.71747932, 3.40518975, 2.46614819, 1.03786821, 2.40426641,\n",
            "       0.34493957, 2.51335955, 1.70514636, 1.89748878, 3.42244482,\n",
            "       3.48274026, 0.69814553, 0.35517135, 3.69226198, 0.69354477,\n",
            "       1.18457613, 3.12802963, 3.53670278, 1.36051841, 3.43817425,\n",
            "       2.04515238, 1.0465076 , 2.75208139, 0.34508181, 2.74111624,\n",
            "       3.10657668, 2.37164121, 2.40473223, 0.68040018, 2.05122437,\n",
            "       0.80731726, 1.70558105, 2.45172539, 2.78653507, 3.61157541,\n",
            "       1.00875454, 2.48111763, 0.3331089 , 1.00626621, 3.50398245,\n",
            "       2.86622248, 1.37279434, 3.56424856, 1.72188969, 1.14807777,\n",
            "       0.70709352, 3.20529795, 2.80621357, 3.28807888, 1.78948655]), 'std_fit_time': array([0.00500321, 0.37962209, 0.68160619, 0.14705306, 0.06961038,\n",
            "       0.08006268, 0.17188919, 0.15647138, 0.19107351, 0.00846826,\n",
            "       0.01082134, 0.13018493, 0.01219377, 0.01457207, 0.01049445,\n",
            "       0.13895222, 0.05968912, 0.06914709, 0.1088946 , 0.19077446,\n",
            "       0.02076698, 0.01293697, 0.00844773, 0.00988505, 0.10933069,\n",
            "       0.13630104, 0.01225577, 0.01481096, 0.19513077, 0.00411977,\n",
            "       0.01628946, 0.0121901 , 0.14289222, 0.02656881, 0.22672115,\n",
            "       0.14043615, 0.08583337, 0.17072794, 0.17766376, 0.03942197,\n",
            "       0.01285152, 0.04105045, 0.04284335, 0.03079288, 0.02859052,\n",
            "       0.02000382, 0.01746925, 0.66930337, 0.00822397, 0.01247905,\n",
            "       0.01728284, 0.05469513, 0.02192622, 0.00811084, 0.01880851,\n",
            "       0.00459542, 0.16385825, 0.01651695, 0.59593673, 0.38077218,\n",
            "       0.16257501, 0.01633361, 0.00964745, 0.19893523, 0.02136504,\n",
            "       0.18841679, 0.15878328, 0.12539174, 0.01086481, 0.04612344,\n",
            "       0.02122854, 0.00944631, 0.03122938, 0.00702066, 0.03372946,\n",
            "       0.04582935, 0.0292599 , 0.03490115, 0.01234456, 0.013947  ,\n",
            "       0.18226227, 0.01168684, 0.13865727, 0.1321986 , 0.18569995,\n",
            "       0.01847171, 0.08184102, 0.0044557 , 0.01584538, 0.1286138 ,\n",
            "       0.18407309, 0.0189512 , 0.22202595, 0.01142094, 0.12949913,\n",
            "       0.05445343, 0.18309583, 0.09672731, 0.47328796, 0.26416507]), 'mean_score_time': array([0.02749448, 0.23942733, 0.29399543, 0.27506456, 0.03435106,\n",
            "       0.07947526, 0.28090582, 0.18846259, 0.19130044, 0.08148003,\n",
            "       0.0818357 , 0.21918721, 0.0539    , 0.08143773, 0.05826631,\n",
            "       0.03674655, 0.24554105, 0.10498276, 0.10972757, 0.30915337,\n",
            "       0.02814703, 0.13328762, 0.20929976, 0.02730899, 0.16984057,\n",
            "       0.11302509, 0.10604992, 0.05646615, 0.10835514, 0.02705836,\n",
            "       0.10794377, 0.10576692, 0.06782303, 0.16313672, 0.26381559,\n",
            "       0.24501863, 0.21656594, 0.22111168, 0.27535629, 0.24063311,\n",
            "       0.0886867 , 0.29144855, 0.10616021, 0.19090862, 0.27096453,\n",
            "       0.10763154, 0.10679712, 0.23545351, 0.24233766, 0.07984438,\n",
            "       0.21558247, 0.26503611, 0.19092708, 0.08086085, 0.19167328,\n",
            "       0.02703552, 0.19417348, 0.13605714, 0.15610561, 0.27943287,\n",
            "       0.26230206, 0.05962486, 0.02977114, 0.27648168, 0.06351361,\n",
            "       0.08102474, 0.23375778, 0.27928987, 0.10719786, 0.26427903,\n",
            "       0.15956659, 0.08387208, 0.21952009, 0.02719588, 0.21142564,\n",
            "       0.24061265, 0.19068561, 0.18561201, 0.05215211, 0.16877255,\n",
            "       0.06001143, 0.14214697, 0.19773502, 0.20906739, 0.26941724,\n",
            "       0.08164163, 0.24581671, 0.02634158, 0.07902575, 0.31494994,\n",
            "       0.21671276, 0.10664363, 0.26904211, 0.13373628, 0.0973362 ,\n",
            "       0.05306382, 0.24145727, 0.20777287, 0.28195038, 0.12930012]), 'std_score_time': array([0.00102569, 0.07020735, 0.03645736, 0.01245997, 0.01581077,\n",
            "       0.00284647, 0.01526868, 0.01170875, 0.00339062, 0.00360448,\n",
            "       0.0065889 , 0.07519318, 0.00138258, 0.00755826, 0.01040958,\n",
            "       0.01205668, 0.01122257, 0.05127833, 0.00237557, 0.08165709,\n",
            "       0.0015268 , 0.00476967, 0.00302829, 0.0013529 , 0.02392341,\n",
            "       0.0101033 , 0.00166273, 0.00359277, 0.00268989, 0.00085557,\n",
            "       0.00282582, 0.00200964, 0.01416245, 0.0072574 , 0.00672611,\n",
            "       0.05577116, 0.01039394, 0.0167834 , 0.01989303, 0.00272309,\n",
            "       0.00497701, 0.01106437, 0.00206209, 0.00753989, 0.003403  ,\n",
            "       0.00200807, 0.00293008, 0.07683793, 0.00733178, 0.0019273 ,\n",
            "       0.01119393, 0.00396717, 0.00997037, 0.00364018, 0.00892977,\n",
            "       0.00093722, 0.00708051, 0.0102974 , 0.04369922, 0.06947339,\n",
            "       0.0107799 , 0.00325662, 0.00179545, 0.00787409, 0.01519842,\n",
            "       0.00314963, 0.00297652, 0.0129463 , 0.00554402, 0.00478743,\n",
            "       0.00339581, 0.00269159, 0.00697522, 0.00119661, 0.00300567,\n",
            "       0.00960753, 0.01055147, 0.00241766, 0.00140064, 0.00491069,\n",
            "       0.0130149 , 0.01377127, 0.02928457, 0.00310581, 0.01015594,\n",
            "       0.00812776, 0.06887397, 0.00068119, 0.00177833, 0.08113543,\n",
            "       0.00946464, 0.00233851, 0.01301236, 0.001794  , 0.03372242,\n",
            "       0.00093516, 0.00964355, 0.005018  , 0.08366495, 0.0267283 ]), 'param_n_estimators': masked_array(data=[200, 1400, 2000, 2000, 200, 600, 2000, 1400, 1400, 600,\n",
            "                   600, 1400, 400, 600, 400, 200, 1800, 600, 800, 2000,\n",
            "                   200, 1000, 1600, 200, 1200, 800, 800, 400, 800, 200,\n",
            "                   800, 800, 400, 1200, 2000, 1600, 1600, 1600, 2000,\n",
            "                   1800, 600, 2000, 800, 1400, 2000, 800, 800, 1400, 1800,\n",
            "                   600, 1600, 2000, 1400, 600, 1400, 200, 1400, 1000, 800,\n",
            "                   1800, 2000, 400, 200, 2000, 400, 600, 1800, 2000, 800,\n",
            "                   2000, 1200, 600, 1600, 200, 1600, 1800, 1400, 1400,\n",
            "                   400, 1200, 400, 1000, 1400, 1600, 2000, 600, 1400, 200,\n",
            "                   600, 2000, 1600, 800, 2000, 1000, 600, 400, 1800, 1600,\n",
            "                   1600, 1000],\n",
            "             mask=[False, False, False, False, False, False, False, False,\n",
            "                   False, False, False, False, False, False, False, False,\n",
            "                   False, False, False, False, False, False, False, False,\n",
            "                   False, False, False, False, False, False, False, False,\n",
            "                   False, False, False, False, False, False, False, False,\n",
            "                   False, False, False, False, False, False, False, False,\n",
            "                   False, False, False, False, False, False, False, False,\n",
            "                   False, False, False, False, False, False, False, False,\n",
            "                   False, False, False, False, False, False, False, False,\n",
            "                   False, False, False, False, False, False, False, False,\n",
            "                   False, False, False, False, False, False, False, False,\n",
            "                   False, False, False, False, False, False, False, False,\n",
            "                   False, False, False, False],\n",
            "       fill_value='?',\n",
            "            dtype=object), 'param_min_samples_split': masked_array(data=[2, 5, 14, 14, 14, 2, 10, 10, 2, 2, 14, 5, 14, 5, 5, 10,\n",
            "                   5, 14, 2, 2, 14, 14, 10, 10, 5, 14, 5, 10, 2, 10, 2, 2,\n",
            "                   14, 5, 2, 14, 2, 2, 5, 2, 2, 2, 14, 2, 5, 10, 5, 2, 14,\n",
            "                   14, 2, 10, 2, 5, 10, 2, 5, 14, 5, 5, 2, 10, 5, 2, 10,\n",
            "                   5, 2, 5, 5, 10, 10, 2, 10, 14, 10, 10, 10, 2, 14, 14,\n",
            "                   2, 2, 14, 14, 14, 10, 2, 5, 5, 14, 14, 10, 2, 10, 2,\n",
            "                   14, 5, 10, 14, 14],\n",
            "             mask=[False, False, False, False, False, False, False, False,\n",
            "                   False, False, False, False, False, False, False, False,\n",
            "                   False, False, False, False, False, False, False, False,\n",
            "                   False, False, False, False, False, False, False, False,\n",
            "                   False, False, False, False, False, False, False, False,\n",
            "                   False, False, False, False, False, False, False, False,\n",
            "                   False, False, False, False, False, False, False, False,\n",
            "                   False, False, False, False, False, False, False, False,\n",
            "                   False, False, False, False, False, False, False, False,\n",
            "                   False, False, False, False, False, False, False, False,\n",
            "                   False, False, False, False, False, False, False, False,\n",
            "                   False, False, False, False, False, False, False, False,\n",
            "                   False, False, False, False],\n",
            "       fill_value='?',\n",
            "            dtype=object), 'param_min_samples_leaf': masked_array(data=[2, 6, 1, 2, 6, 4, 6, 4, 2, 1, 8, 8, 2, 4, 4, 6, 6, 6,\n",
            "                   6, 8, 1, 1, 8, 4, 2, 8, 1, 4, 2, 1, 2, 4, 1, 4, 8, 6,\n",
            "                   8, 1, 2, 1, 1, 4, 4, 6, 1, 4, 2, 1, 8, 8, 8, 6, 1, 1,\n",
            "                   2, 2, 4, 2, 6, 6, 8, 6, 1, 1, 1, 1, 4, 1, 6, 4, 4, 1,\n",
            "                   1, 1, 2, 1, 8, 8, 8, 1, 6, 2, 2, 8, 1, 8, 4, 4, 4, 1,\n",
            "                   4, 4, 8, 1, 1, 4, 1, 4, 1, 4],\n",
            "             mask=[False, False, False, False, False, False, False, False,\n",
            "                   False, False, False, False, False, False, False, False,\n",
            "                   False, False, False, False, False, False, False, False,\n",
            "                   False, False, False, False, False, False, False, False,\n",
            "                   False, False, False, False, False, False, False, False,\n",
            "                   False, False, False, False, False, False, False, False,\n",
            "                   False, False, False, False, False, False, False, False,\n",
            "                   False, False, False, False, False, False, False, False,\n",
            "                   False, False, False, False, False, False, False, False,\n",
            "                   False, False, False, False, False, False, False, False,\n",
            "                   False, False, False, False, False, False, False, False,\n",
            "                   False, False, False, False, False, False, False, False,\n",
            "                   False, False, False, False],\n",
            "       fill_value='?',\n",
            "            dtype=object), 'param_max_features': masked_array(data=['sqrt', 'sqrt', 'sqrt', 'auto', 'sqrt', 'log2', 'log2',\n",
            "                   'auto', 'sqrt', 'sqrt', 'auto', 'auto', 'sqrt', 'auto',\n",
            "                   'log2', 'auto', 'log2', 'sqrt', 'auto', 'sqrt', 'sqrt',\n",
            "                   'auto', 'sqrt', 'auto', 'log2', 'auto', 'sqrt', 'sqrt',\n",
            "                   'log2', 'sqrt', 'auto', 'log2', 'auto', 'sqrt', 'log2',\n",
            "                   'sqrt', 'auto', 'log2', 'auto', 'log2', 'auto', 'sqrt',\n",
            "                   'log2', 'auto', 'auto', 'auto', 'sqrt', 'sqrt', 'sqrt',\n",
            "                   'log2', 'auto', 'sqrt', 'sqrt', 'sqrt', 'auto', 'log2',\n",
            "                   'log2', 'log2', 'sqrt', 'log2', 'auto', 'auto', 'log2',\n",
            "                   'log2', 'auto', 'sqrt', 'log2', 'log2', 'auto', 'log2',\n",
            "                   'log2', 'log2', 'auto', 'sqrt', 'log2', 'log2', 'auto',\n",
            "                   'sqrt', 'sqrt', 'log2', 'log2', 'auto', 'auto', 'log2',\n",
            "                   'sqrt', 'auto', 'sqrt', 'log2', 'sqrt', 'sqrt', 'auto',\n",
            "                   'auto', 'auto', 'sqrt', 'sqrt', 'sqrt', 'auto', 'auto',\n",
            "                   'log2', 'auto'],\n",
            "             mask=[False, False, False, False, False, False, False, False,\n",
            "                   False, False, False, False, False, False, False, False,\n",
            "                   False, False, False, False, False, False, False, False,\n",
            "                   False, False, False, False, False, False, False, False,\n",
            "                   False, False, False, False, False, False, False, False,\n",
            "                   False, False, False, False, False, False, False, False,\n",
            "                   False, False, False, False, False, False, False, False,\n",
            "                   False, False, False, False, False, False, False, False,\n",
            "                   False, False, False, False, False, False, False, False,\n",
            "                   False, False, False, False, False, False, False, False,\n",
            "                   False, False, False, False, False, False, False, False,\n",
            "                   False, False, False, False, False, False, False, False,\n",
            "                   False, False, False, False],\n",
            "       fill_value='?',\n",
            "            dtype=object), 'param_max_depth': masked_array(data=[1000, 120, 340, 10, 10, 670, 670, 340, 1000, 120, 890,\n",
            "                   780, 670, 1000, 670, 230, 230, 890, 670, 1000, 10, 450,\n",
            "                   1000, 340, 780, 890, 560, 120, 1000, 560, 890, 450,\n",
            "                   780, 1000, 1000, 780, 670, 890, 890, 560, 10, 120, 780,\n",
            "                   450, 670, 780, 560, 230, 670, 450, 1000, 670, 120, 780,\n",
            "                   450, 340, 120, 120, 780, 230, 780, 670, 450, 340, 230,\n",
            "                   10, 10, 560, 890, 670, 890, 780, 780, 450, 230, 560,\n",
            "                   450, 1000, 780, 450, 450, 1000, 780, 230, 120, 10, 560,\n",
            "                   890, 890, 10, 340, 670, 340, 230, 890, 670, 450, 560,\n",
            "                   670, 890],\n",
            "             mask=[False, False, False, False, False, False, False, False,\n",
            "                   False, False, False, False, False, False, False, False,\n",
            "                   False, False, False, False, False, False, False, False,\n",
            "                   False, False, False, False, False, False, False, False,\n",
            "                   False, False, False, False, False, False, False, False,\n",
            "                   False, False, False, False, False, False, False, False,\n",
            "                   False, False, False, False, False, False, False, False,\n",
            "                   False, False, False, False, False, False, False, False,\n",
            "                   False, False, False, False, False, False, False, False,\n",
            "                   False, False, False, False, False, False, False, False,\n",
            "                   False, False, False, False, False, False, False, False,\n",
            "                   False, False, False, False, False, False, False, False,\n",
            "                   False, False, False, False],\n",
            "       fill_value='?',\n",
            "            dtype=object), 'param_criterion': masked_array(data=['entropy', 'gini', 'gini', 'entropy', 'entropy',\n",
            "                   'gini', 'entropy', 'gini', 'entropy', 'entropy',\n",
            "                   'gini', 'entropy', 'gini', 'gini', 'gini', 'entropy',\n",
            "                   'gini', 'gini', 'gini', 'entropy', 'gini', 'entropy',\n",
            "                   'entropy', 'entropy', 'gini', 'entropy', 'entropy',\n",
            "                   'gini', 'entropy', 'gini', 'gini', 'entropy',\n",
            "                   'entropy', 'gini', 'gini', 'gini', 'entropy', 'gini',\n",
            "                   'entropy', 'entropy', 'entropy', 'entropy', 'entropy',\n",
            "                   'entropy', 'gini', 'gini', 'entropy', 'gini',\n",
            "                   'entropy', 'entropy', 'gini', 'entropy', 'entropy',\n",
            "                   'gini', 'gini', 'entropy', 'gini', 'gini', 'entropy',\n",
            "                   'entropy', 'entropy', 'gini', 'gini', 'gini', 'gini',\n",
            "                   'gini', 'entropy', 'entropy', 'gini', 'entropy',\n",
            "                   'entropy', 'gini', 'entropy', 'entropy', 'entropy',\n",
            "                   'gini', 'gini', 'gini', 'entropy', 'gini', 'entropy',\n",
            "                   'gini', 'gini', 'entropy', 'entropy', 'gini',\n",
            "                   'entropy', 'entropy', 'gini', 'gini', 'gini',\n",
            "                   'entropy', 'gini', 'gini', 'gini', 'gini', 'gini',\n",
            "                   'gini', 'gini', 'entropy'],\n",
            "             mask=[False, False, False, False, False, False, False, False,\n",
            "                   False, False, False, False, False, False, False, False,\n",
            "                   False, False, False, False, False, False, False, False,\n",
            "                   False, False, False, False, False, False, False, False,\n",
            "                   False, False, False, False, False, False, False, False,\n",
            "                   False, False, False, False, False, False, False, False,\n",
            "                   False, False, False, False, False, False, False, False,\n",
            "                   False, False, False, False, False, False, False, False,\n",
            "                   False, False, False, False, False, False, False, False,\n",
            "                   False, False, False, False, False, False, False, False,\n",
            "                   False, False, False, False, False, False, False, False,\n",
            "                   False, False, False, False, False, False, False, False,\n",
            "                   False, False, False, False],\n",
            "       fill_value='?',\n",
            "            dtype=object), 'params': [{'n_estimators': 200, 'min_samples_split': 2, 'min_samples_leaf': 2, 'max_features': 'sqrt', 'max_depth': 1000, 'criterion': 'entropy'}, {'n_estimators': 1400, 'min_samples_split': 5, 'min_samples_leaf': 6, 'max_features': 'sqrt', 'max_depth': 120, 'criterion': 'gini'}, {'n_estimators': 2000, 'min_samples_split': 14, 'min_samples_leaf': 1, 'max_features': 'sqrt', 'max_depth': 340, 'criterion': 'gini'}, {'n_estimators': 2000, 'min_samples_split': 14, 'min_samples_leaf': 2, 'max_features': 'auto', 'max_depth': 10, 'criterion': 'entropy'}, {'n_estimators': 200, 'min_samples_split': 14, 'min_samples_leaf': 6, 'max_features': 'sqrt', 'max_depth': 10, 'criterion': 'entropy'}, {'n_estimators': 600, 'min_samples_split': 2, 'min_samples_leaf': 4, 'max_features': 'log2', 'max_depth': 670, 'criterion': 'gini'}, {'n_estimators': 2000, 'min_samples_split': 10, 'min_samples_leaf': 6, 'max_features': 'log2', 'max_depth': 670, 'criterion': 'entropy'}, {'n_estimators': 1400, 'min_samples_split': 10, 'min_samples_leaf': 4, 'max_features': 'auto', 'max_depth': 340, 'criterion': 'gini'}, {'n_estimators': 1400, 'min_samples_split': 2, 'min_samples_leaf': 2, 'max_features': 'sqrt', 'max_depth': 1000, 'criterion': 'entropy'}, {'n_estimators': 600, 'min_samples_split': 2, 'min_samples_leaf': 1, 'max_features': 'sqrt', 'max_depth': 120, 'criterion': 'entropy'}, {'n_estimators': 600, 'min_samples_split': 14, 'min_samples_leaf': 8, 'max_features': 'auto', 'max_depth': 890, 'criterion': 'gini'}, {'n_estimators': 1400, 'min_samples_split': 5, 'min_samples_leaf': 8, 'max_features': 'auto', 'max_depth': 780, 'criterion': 'entropy'}, {'n_estimators': 400, 'min_samples_split': 14, 'min_samples_leaf': 2, 'max_features': 'sqrt', 'max_depth': 670, 'criterion': 'gini'}, {'n_estimators': 600, 'min_samples_split': 5, 'min_samples_leaf': 4, 'max_features': 'auto', 'max_depth': 1000, 'criterion': 'gini'}, {'n_estimators': 400, 'min_samples_split': 5, 'min_samples_leaf': 4, 'max_features': 'log2', 'max_depth': 670, 'criterion': 'gini'}, {'n_estimators': 200, 'min_samples_split': 10, 'min_samples_leaf': 6, 'max_features': 'auto', 'max_depth': 230, 'criterion': 'entropy'}, {'n_estimators': 1800, 'min_samples_split': 5, 'min_samples_leaf': 6, 'max_features': 'log2', 'max_depth': 230, 'criterion': 'gini'}, {'n_estimators': 600, 'min_samples_split': 14, 'min_samples_leaf': 6, 'max_features': 'sqrt', 'max_depth': 890, 'criterion': 'gini'}, {'n_estimators': 800, 'min_samples_split': 2, 'min_samples_leaf': 6, 'max_features': 'auto', 'max_depth': 670, 'criterion': 'gini'}, {'n_estimators': 2000, 'min_samples_split': 2, 'min_samples_leaf': 8, 'max_features': 'sqrt', 'max_depth': 1000, 'criterion': 'entropy'}, {'n_estimators': 200, 'min_samples_split': 14, 'min_samples_leaf': 1, 'max_features': 'sqrt', 'max_depth': 10, 'criterion': 'gini'}, {'n_estimators': 1000, 'min_samples_split': 14, 'min_samples_leaf': 1, 'max_features': 'auto', 'max_depth': 450, 'criterion': 'entropy'}, {'n_estimators': 1600, 'min_samples_split': 10, 'min_samples_leaf': 8, 'max_features': 'sqrt', 'max_depth': 1000, 'criterion': 'entropy'}, {'n_estimators': 200, 'min_samples_split': 10, 'min_samples_leaf': 4, 'max_features': 'auto', 'max_depth': 340, 'criterion': 'entropy'}, {'n_estimators': 1200, 'min_samples_split': 5, 'min_samples_leaf': 2, 'max_features': 'log2', 'max_depth': 780, 'criterion': 'gini'}, {'n_estimators': 800, 'min_samples_split': 14, 'min_samples_leaf': 8, 'max_features': 'auto', 'max_depth': 890, 'criterion': 'entropy'}, {'n_estimators': 800, 'min_samples_split': 5, 'min_samples_leaf': 1, 'max_features': 'sqrt', 'max_depth': 560, 'criterion': 'entropy'}, {'n_estimators': 400, 'min_samples_split': 10, 'min_samples_leaf': 4, 'max_features': 'sqrt', 'max_depth': 120, 'criterion': 'gini'}, {'n_estimators': 800, 'min_samples_split': 2, 'min_samples_leaf': 2, 'max_features': 'log2', 'max_depth': 1000, 'criterion': 'entropy'}, {'n_estimators': 200, 'min_samples_split': 10, 'min_samples_leaf': 1, 'max_features': 'sqrt', 'max_depth': 560, 'criterion': 'gini'}, {'n_estimators': 800, 'min_samples_split': 2, 'min_samples_leaf': 2, 'max_features': 'auto', 'max_depth': 890, 'criterion': 'gini'}, {'n_estimators': 800, 'min_samples_split': 2, 'min_samples_leaf': 4, 'max_features': 'log2', 'max_depth': 450, 'criterion': 'entropy'}, {'n_estimators': 400, 'min_samples_split': 14, 'min_samples_leaf': 1, 'max_features': 'auto', 'max_depth': 780, 'criterion': 'entropy'}, {'n_estimators': 1200, 'min_samples_split': 5, 'min_samples_leaf': 4, 'max_features': 'sqrt', 'max_depth': 1000, 'criterion': 'gini'}, {'n_estimators': 2000, 'min_samples_split': 2, 'min_samples_leaf': 8, 'max_features': 'log2', 'max_depth': 1000, 'criterion': 'gini'}, {'n_estimators': 1600, 'min_samples_split': 14, 'min_samples_leaf': 6, 'max_features': 'sqrt', 'max_depth': 780, 'criterion': 'gini'}, {'n_estimators': 1600, 'min_samples_split': 2, 'min_samples_leaf': 8, 'max_features': 'auto', 'max_depth': 670, 'criterion': 'entropy'}, {'n_estimators': 1600, 'min_samples_split': 2, 'min_samples_leaf': 1, 'max_features': 'log2', 'max_depth': 890, 'criterion': 'gini'}, {'n_estimators': 2000, 'min_samples_split': 5, 'min_samples_leaf': 2, 'max_features': 'auto', 'max_depth': 890, 'criterion': 'entropy'}, {'n_estimators': 1800, 'min_samples_split': 2, 'min_samples_leaf': 1, 'max_features': 'log2', 'max_depth': 560, 'criterion': 'entropy'}, {'n_estimators': 600, 'min_samples_split': 2, 'min_samples_leaf': 1, 'max_features': 'auto', 'max_depth': 10, 'criterion': 'entropy'}, {'n_estimators': 2000, 'min_samples_split': 2, 'min_samples_leaf': 4, 'max_features': 'sqrt', 'max_depth': 120, 'criterion': 'entropy'}, {'n_estimators': 800, 'min_samples_split': 14, 'min_samples_leaf': 4, 'max_features': 'log2', 'max_depth': 780, 'criterion': 'entropy'}, {'n_estimators': 1400, 'min_samples_split': 2, 'min_samples_leaf': 6, 'max_features': 'auto', 'max_depth': 450, 'criterion': 'entropy'}, {'n_estimators': 2000, 'min_samples_split': 5, 'min_samples_leaf': 1, 'max_features': 'auto', 'max_depth': 670, 'criterion': 'gini'}, {'n_estimators': 800, 'min_samples_split': 10, 'min_samples_leaf': 4, 'max_features': 'auto', 'max_depth': 780, 'criterion': 'gini'}, {'n_estimators': 800, 'min_samples_split': 5, 'min_samples_leaf': 2, 'max_features': 'sqrt', 'max_depth': 560, 'criterion': 'entropy'}, {'n_estimators': 1400, 'min_samples_split': 2, 'min_samples_leaf': 1, 'max_features': 'sqrt', 'max_depth': 230, 'criterion': 'gini'}, {'n_estimators': 1800, 'min_samples_split': 14, 'min_samples_leaf': 8, 'max_features': 'sqrt', 'max_depth': 670, 'criterion': 'entropy'}, {'n_estimators': 600, 'min_samples_split': 14, 'min_samples_leaf': 8, 'max_features': 'log2', 'max_depth': 450, 'criterion': 'entropy'}, {'n_estimators': 1600, 'min_samples_split': 2, 'min_samples_leaf': 8, 'max_features': 'auto', 'max_depth': 1000, 'criterion': 'gini'}, {'n_estimators': 2000, 'min_samples_split': 10, 'min_samples_leaf': 6, 'max_features': 'sqrt', 'max_depth': 670, 'criterion': 'entropy'}, {'n_estimators': 1400, 'min_samples_split': 2, 'min_samples_leaf': 1, 'max_features': 'sqrt', 'max_depth': 120, 'criterion': 'entropy'}, {'n_estimators': 600, 'min_samples_split': 5, 'min_samples_leaf': 1, 'max_features': 'sqrt', 'max_depth': 780, 'criterion': 'gini'}, {'n_estimators': 1400, 'min_samples_split': 10, 'min_samples_leaf': 2, 'max_features': 'auto', 'max_depth': 450, 'criterion': 'gini'}, {'n_estimators': 200, 'min_samples_split': 2, 'min_samples_leaf': 2, 'max_features': 'log2', 'max_depth': 340, 'criterion': 'entropy'}, {'n_estimators': 1400, 'min_samples_split': 5, 'min_samples_leaf': 4, 'max_features': 'log2', 'max_depth': 120, 'criterion': 'gini'}, {'n_estimators': 1000, 'min_samples_split': 14, 'min_samples_leaf': 2, 'max_features': 'log2', 'max_depth': 120, 'criterion': 'gini'}, {'n_estimators': 800, 'min_samples_split': 5, 'min_samples_leaf': 6, 'max_features': 'sqrt', 'max_depth': 780, 'criterion': 'entropy'}, {'n_estimators': 1800, 'min_samples_split': 5, 'min_samples_leaf': 6, 'max_features': 'log2', 'max_depth': 230, 'criterion': 'entropy'}, {'n_estimators': 2000, 'min_samples_split': 2, 'min_samples_leaf': 8, 'max_features': 'auto', 'max_depth': 780, 'criterion': 'entropy'}, {'n_estimators': 400, 'min_samples_split': 10, 'min_samples_leaf': 6, 'max_features': 'auto', 'max_depth': 670, 'criterion': 'gini'}, {'n_estimators': 200, 'min_samples_split': 5, 'min_samples_leaf': 1, 'max_features': 'log2', 'max_depth': 450, 'criterion': 'gini'}, {'n_estimators': 2000, 'min_samples_split': 2, 'min_samples_leaf': 1, 'max_features': 'log2', 'max_depth': 340, 'criterion': 'gini'}, {'n_estimators': 400, 'min_samples_split': 10, 'min_samples_leaf': 1, 'max_features': 'auto', 'max_depth': 230, 'criterion': 'gini'}, {'n_estimators': 600, 'min_samples_split': 5, 'min_samples_leaf': 1, 'max_features': 'sqrt', 'max_depth': 10, 'criterion': 'gini'}, {'n_estimators': 1800, 'min_samples_split': 2, 'min_samples_leaf': 4, 'max_features': 'log2', 'max_depth': 10, 'criterion': 'entropy'}, {'n_estimators': 2000, 'min_samples_split': 5, 'min_samples_leaf': 1, 'max_features': 'log2', 'max_depth': 560, 'criterion': 'entropy'}, {'n_estimators': 800, 'min_samples_split': 5, 'min_samples_leaf': 6, 'max_features': 'auto', 'max_depth': 890, 'criterion': 'gini'}, {'n_estimators': 2000, 'min_samples_split': 10, 'min_samples_leaf': 4, 'max_features': 'log2', 'max_depth': 670, 'criterion': 'entropy'}, {'n_estimators': 1200, 'min_samples_split': 10, 'min_samples_leaf': 4, 'max_features': 'log2', 'max_depth': 890, 'criterion': 'entropy'}, {'n_estimators': 600, 'min_samples_split': 2, 'min_samples_leaf': 1, 'max_features': 'log2', 'max_depth': 780, 'criterion': 'gini'}, {'n_estimators': 1600, 'min_samples_split': 10, 'min_samples_leaf': 1, 'max_features': 'auto', 'max_depth': 780, 'criterion': 'entropy'}, {'n_estimators': 200, 'min_samples_split': 14, 'min_samples_leaf': 1, 'max_features': 'sqrt', 'max_depth': 450, 'criterion': 'entropy'}, {'n_estimators': 1600, 'min_samples_split': 10, 'min_samples_leaf': 2, 'max_features': 'log2', 'max_depth': 230, 'criterion': 'entropy'}, {'n_estimators': 1800, 'min_samples_split': 10, 'min_samples_leaf': 1, 'max_features': 'log2', 'max_depth': 560, 'criterion': 'gini'}, {'n_estimators': 1400, 'min_samples_split': 10, 'min_samples_leaf': 8, 'max_features': 'auto', 'max_depth': 450, 'criterion': 'gini'}, {'n_estimators': 1400, 'min_samples_split': 2, 'min_samples_leaf': 8, 'max_features': 'sqrt', 'max_depth': 1000, 'criterion': 'gini'}, {'n_estimators': 400, 'min_samples_split': 14, 'min_samples_leaf': 8, 'max_features': 'sqrt', 'max_depth': 780, 'criterion': 'entropy'}, {'n_estimators': 1200, 'min_samples_split': 14, 'min_samples_leaf': 1, 'max_features': 'log2', 'max_depth': 450, 'criterion': 'gini'}, {'n_estimators': 400, 'min_samples_split': 2, 'min_samples_leaf': 6, 'max_features': 'log2', 'max_depth': 450, 'criterion': 'entropy'}, {'n_estimators': 1000, 'min_samples_split': 2, 'min_samples_leaf': 2, 'max_features': 'auto', 'max_depth': 1000, 'criterion': 'gini'}, {'n_estimators': 1400, 'min_samples_split': 14, 'min_samples_leaf': 2, 'max_features': 'auto', 'max_depth': 780, 'criterion': 'gini'}, {'n_estimators': 1600, 'min_samples_split': 14, 'min_samples_leaf': 8, 'max_features': 'log2', 'max_depth': 230, 'criterion': 'entropy'}, {'n_estimators': 2000, 'min_samples_split': 14, 'min_samples_leaf': 1, 'max_features': 'sqrt', 'max_depth': 120, 'criterion': 'entropy'}, {'n_estimators': 600, 'min_samples_split': 10, 'min_samples_leaf': 8, 'max_features': 'auto', 'max_depth': 10, 'criterion': 'gini'}, {'n_estimators': 1400, 'min_samples_split': 2, 'min_samples_leaf': 4, 'max_features': 'sqrt', 'max_depth': 560, 'criterion': 'entropy'}, {'n_estimators': 200, 'min_samples_split': 5, 'min_samples_leaf': 4, 'max_features': 'log2', 'max_depth': 890, 'criterion': 'entropy'}, {'n_estimators': 600, 'min_samples_split': 5, 'min_samples_leaf': 4, 'max_features': 'sqrt', 'max_depth': 890, 'criterion': 'gini'}, {'n_estimators': 2000, 'min_samples_split': 14, 'min_samples_leaf': 1, 'max_features': 'sqrt', 'max_depth': 10, 'criterion': 'gini'}, {'n_estimators': 1600, 'min_samples_split': 14, 'min_samples_leaf': 4, 'max_features': 'auto', 'max_depth': 340, 'criterion': 'gini'}, {'n_estimators': 800, 'min_samples_split': 10, 'min_samples_leaf': 4, 'max_features': 'auto', 'max_depth': 670, 'criterion': 'entropy'}, {'n_estimators': 2000, 'min_samples_split': 2, 'min_samples_leaf': 8, 'max_features': 'auto', 'max_depth': 340, 'criterion': 'gini'}, {'n_estimators': 1000, 'min_samples_split': 10, 'min_samples_leaf': 1, 'max_features': 'sqrt', 'max_depth': 230, 'criterion': 'gini'}, {'n_estimators': 600, 'min_samples_split': 2, 'min_samples_leaf': 1, 'max_features': 'sqrt', 'max_depth': 890, 'criterion': 'gini'}, {'n_estimators': 400, 'min_samples_split': 14, 'min_samples_leaf': 4, 'max_features': 'sqrt', 'max_depth': 670, 'criterion': 'gini'}, {'n_estimators': 1800, 'min_samples_split': 5, 'min_samples_leaf': 1, 'max_features': 'auto', 'max_depth': 450, 'criterion': 'gini'}, {'n_estimators': 1600, 'min_samples_split': 10, 'min_samples_leaf': 4, 'max_features': 'auto', 'max_depth': 560, 'criterion': 'gini'}, {'n_estimators': 1600, 'min_samples_split': 14, 'min_samples_leaf': 1, 'max_features': 'log2', 'max_depth': 670, 'criterion': 'gini'}, {'n_estimators': 1000, 'min_samples_split': 14, 'min_samples_leaf': 4, 'max_features': 'auto', 'max_depth': 890, 'criterion': 'entropy'}], 'split0_test_score': array([1., 1., 1., 1., 1., 1., 1., 1., 1., 1., 1., 1., 1., 1., 1., 1., 1.,\n",
            "       1., 1., 1., 1., 1., 1., 1., 1., 1., 1., 1., 1., 1., 1., 1., 1., 1.,\n",
            "       1., 1., 1., 1., 1., 1., 1., 1., 1., 1., 1., 1., 1., 1., 1., 1., 1.,\n",
            "       1., 1., 1., 1., 1., 1., 1., 1., 1., 1., 1., 1., 1., 1., 1., 1., 1.,\n",
            "       1., 1., 1., 1., 1., 1., 1., 1., 1., 1., 1., 1., 1., 1., 1., 1., 1.,\n",
            "       1., 1., 1., 1., 1., 1., 1., 1., 1., 1., 1., 1., 1., 1., 1.]), 'split1_test_score': array([1., 1., 1., 1., 1., 1., 1., 1., 1., 1., 1., 1., 1., 1., 1., 1., 1.,\n",
            "       1., 1., 1., 1., 1., 1., 1., 1., 1., 1., 1., 1., 1., 1., 1., 1., 1.,\n",
            "       1., 1., 1., 1., 1., 1., 1., 1., 1., 1., 1., 1., 1., 1., 1., 1., 1.,\n",
            "       1., 1., 1., 1., 1., 1., 1., 1., 1., 1., 1., 1., 1., 1., 1., 1., 1.,\n",
            "       1., 1., 1., 1., 1., 1., 1., 1., 1., 1., 1., 1., 1., 1., 1., 1., 1.,\n",
            "       1., 1., 1., 1., 1., 1., 1., 1., 1., 1., 1., 1., 1., 1., 1.]), 'split2_test_score': array([1., 1., 1., 1., 1., 1., 1., 1., 1., 1., 1., 1., 1., 1., 1., 1., 1.,\n",
            "       1., 1., 1., 1., 1., 1., 1., 1., 1., 1., 1., 1., 1., 1., 1., 1., 1.,\n",
            "       1., 1., 1., 1., 1., 1., 1., 1., 1., 1., 1., 1., 1., 1., 1., 1., 1.,\n",
            "       1., 1., 1., 1., 1., 1., 1., 1., 1., 1., 1., 1., 1., 1., 1., 1., 1.,\n",
            "       1., 1., 1., 1., 1., 1., 1., 1., 1., 1., 1., 1., 1., 1., 1., 1., 1.,\n",
            "       1., 1., 1., 1., 1., 1., 1., 1., 1., 1., 1., 1., 1., 1., 1.]), 'split3_test_score': array([1., 1., 1., 1., 1., 1., 1., 1., 1., 1., 1., 1., 1., 1., 1., 1., 1.,\n",
            "       1., 1., 1., 1., 1., 1., 1., 1., 1., 1., 1., 1., 1., 1., 1., 1., 1.,\n",
            "       1., 1., 1., 1., 1., 1., 1., 1., 1., 1., 1., 1., 1., 1., 1., 1., 1.,\n",
            "       1., 1., 1., 1., 1., 1., 1., 1., 1., 1., 1., 1., 1., 1., 1., 1., 1.,\n",
            "       1., 1., 1., 1., 1., 1., 1., 1., 1., 1., 1., 1., 1., 1., 1., 1., 1.,\n",
            "       1., 1., 1., 1., 1., 1., 1., 1., 1., 1., 1., 1., 1., 1., 1.]), 'split4_test_score': array([1., 1., 1., 1., 1., 1., 1., 1., 1., 1., 1., 1., 1., 1., 1., 1., 1.,\n",
            "       1., 1., 1., 1., 1., 1., 1., 1., 1., 1., 1., 1., 1., 1., 1., 1., 1.,\n",
            "       1., 1., 1., 1., 1., 1., 1., 1., 1., 1., 1., 1., 1., 1., 1., 1., 1.,\n",
            "       1., 1., 1., 1., 1., 1., 1., 1., 1., 1., 1., 1., 1., 1., 1., 1., 1.,\n",
            "       1., 1., 1., 1., 1., 1., 1., 1., 1., 1., 1., 1., 1., 1., 1., 1., 1.,\n",
            "       1., 1., 1., 1., 1., 1., 1., 1., 1., 1., 1., 1., 1., 1., 1.]), 'mean_test_score': array([1., 1., 1., 1., 1., 1., 1., 1., 1., 1., 1., 1., 1., 1., 1., 1., 1.,\n",
            "       1., 1., 1., 1., 1., 1., 1., 1., 1., 1., 1., 1., 1., 1., 1., 1., 1.,\n",
            "       1., 1., 1., 1., 1., 1., 1., 1., 1., 1., 1., 1., 1., 1., 1., 1., 1.,\n",
            "       1., 1., 1., 1., 1., 1., 1., 1., 1., 1., 1., 1., 1., 1., 1., 1., 1.,\n",
            "       1., 1., 1., 1., 1., 1., 1., 1., 1., 1., 1., 1., 1., 1., 1., 1., 1.,\n",
            "       1., 1., 1., 1., 1., 1., 1., 1., 1., 1., 1., 1., 1., 1., 1.]), 'std_test_score': array([0., 0., 0., 0., 0., 0., 0., 0., 0., 0., 0., 0., 0., 0., 0., 0., 0.,\n",
            "       0., 0., 0., 0., 0., 0., 0., 0., 0., 0., 0., 0., 0., 0., 0., 0., 0.,\n",
            "       0., 0., 0., 0., 0., 0., 0., 0., 0., 0., 0., 0., 0., 0., 0., 0., 0.,\n",
            "       0., 0., 0., 0., 0., 0., 0., 0., 0., 0., 0., 0., 0., 0., 0., 0., 0.,\n",
            "       0., 0., 0., 0., 0., 0., 0., 0., 0., 0., 0., 0., 0., 0., 0., 0., 0.,\n",
            "       0., 0., 0., 0., 0., 0., 0., 0., 0., 0., 0., 0., 0., 0., 0.]), 'rank_test_score': array([1, 1, 1, 1, 1, 1, 1, 1, 1, 1, 1, 1, 1, 1, 1, 1, 1, 1, 1, 1, 1, 1,\n",
            "       1, 1, 1, 1, 1, 1, 1, 1, 1, 1, 1, 1, 1, 1, 1, 1, 1, 1, 1, 1, 1, 1,\n",
            "       1, 1, 1, 1, 1, 1, 1, 1, 1, 1, 1, 1, 1, 1, 1, 1, 1, 1, 1, 1, 1, 1,\n",
            "       1, 1, 1, 1, 1, 1, 1, 1, 1, 1, 1, 1, 1, 1, 1, 1, 1, 1, 1, 1, 1, 1,\n",
            "       1, 1, 1, 1, 1, 1, 1, 1, 1, 1, 1, 1], dtype=int32)}\n"
          ]
        }
      ]
    },
    {
      "cell_type": "code",
      "source": [
        "print('\\n Best estimator:')\n",
        "print(rf_randomcv.best_estimator_)"
      ],
      "metadata": {
        "colab": {
          "base_uri": "https://localhost:8080/"
        },
        "id": "WacScuSQFG-F",
        "outputId": "29a27182-77f1-4a4a-cdae-3a984dac9a71"
      },
      "execution_count": null,
      "outputs": [
        {
          "output_type": "stream",
          "name": "stdout",
          "text": [
            "\n",
            " Best estimator:\n",
            "RandomForestClassifier(criterion='entropy', max_depth=1000, max_features='sqrt',\n",
            "                       min_samples_leaf=2, n_estimators=200)\n"
          ]
        }
      ]
    },
    {
      "cell_type": "code",
      "source": [
        "print('\\n Best hyperparameters:')\n",
        "print(rf_randomcv.best_params_)"
      ],
      "metadata": {
        "colab": {
          "base_uri": "https://localhost:8080/"
        },
        "id": "3rgce-eYFKff",
        "outputId": "9df306c2-474a-432b-8da9-88fbca896d4d"
      },
      "execution_count": null,
      "outputs": [
        {
          "output_type": "stream",
          "name": "stdout",
          "text": [
            "\n",
            " Best hyperparameters:\n",
            "{'n_estimators': 200, 'min_samples_split': 2, 'min_samples_leaf': 2, 'max_features': 'sqrt', 'max_depth': 1000, 'criterion': 'entropy'}\n"
          ]
        }
      ]
    },
    {
      "cell_type": "code",
      "source": [
        "from sklearn.ensemble import RandomForestClassifier\n",
        "rf = RandomForestClassifier(n_estimators = 200, min_samples_split = 2, min_samples_leaf = 2, max_features = 'sqrt', max_depth = 1000, criterion = 'entropy')\n",
        "rf.fit(X_train, y_train)"
      ],
      "metadata": {
        "colab": {
          "base_uri": "https://localhost:8080/"
        },
        "id": "6s66lTRWFNVh",
        "outputId": "dd8a555a-21aa-4ffb-8a48-866268ae0524"
      },
      "execution_count": null,
      "outputs": [
        {
          "output_type": "execute_result",
          "data": {
            "text/plain": [
              "RandomForestClassifier(criterion='entropy', max_depth=1000, max_features='sqrt',\n",
              "                       min_samples_leaf=2, n_estimators=200)"
            ]
          },
          "metadata": {},
          "execution_count": 55
        }
      ]
    },
    {
      "cell_type": "code",
      "source": [
        "y_pred_rf = rf.predict(X_test)\n",
        "model_report(y_test, y_pred_rf)"
      ],
      "metadata": {
        "colab": {
          "base_uri": "https://localhost:8080/"
        },
        "id": "ABokFmZoFRxY",
        "outputId": "993d7a6a-c5c4-498a-e91f-6c3334fb3c4d"
      },
      "execution_count": null,
      "outputs": [
        {
          "output_type": "stream",
          "name": "stdout",
          "text": [
            "Accuracy =  1.0\n",
            "Precision =  1.0\n",
            "Recall\\Sensitivity =  1.0\n",
            "Specificity =  1.0\n",
            "F1 Score =  1.0\n",
            "AUC Score = 1.0\n",
            "Kappa score =  1.0\n",
            "Log Loss =  9.992007221626415e-16 \n",
            "\n"
          ]
        }
      ]
    },
    {
      "cell_type": "code",
      "source": [
        "title = \"Learning Curves (RandomForestClassifier)\"                                        # fill this in\n",
        "cv = ShuffleSplit(n_splits=5, test_size=0.2, random_state=42)\n",
        "rf = RandomForestClassifier(n_estimators = 200, min_samples_split = 2, min_samples_leaf = 2, max_features = 'sqrt', max_depth = 1000, criterion = 'entropy')                             # fill this in\n",
        "plot_learning_curve(rf, title, X, y, ylim=(0.2, 1.25), cv=cv, n_jobs=4)\n",
        "plt.savefig('RF_curve.pdf', transparent=True, dpi=300)\n",
        "plt.savefig('RF_curve.eps', transparent=True, dpi=300)\n",
        "plt.show()"
      ],
      "metadata": {
        "colab": {
          "base_uri": "https://localhost:8080/",
          "height": 434
        },
        "id": "zQQKjqvQBTDs",
        "outputId": "c70bccdd-da2e-4583-b774-23c7576760b8"
      },
      "execution_count": null,
      "outputs": [
        {
          "output_type": "stream",
          "name": "stderr",
          "text": [
            "WARNING:matplotlib.backends.backend_ps:The PostScript backend does not support transparency; partially transparent artists will be rendered opaque.\n",
            "WARNING:matplotlib.backends.backend_ps:The PostScript backend does not support transparency; partially transparent artists will be rendered opaque.\n",
            "WARNING:matplotlib.backends.backend_ps:The PostScript backend does not support transparency; partially transparent artists will be rendered opaque.\n",
            "WARNING:matplotlib.backends.backend_ps:The PostScript backend does not support transparency; partially transparent artists will be rendered opaque.\n",
            "WARNING:matplotlib.backends.backend_ps:The PostScript backend does not support transparency; partially transparent artists will be rendered opaque.\n",
            "WARNING:matplotlib.backends.backend_ps:The PostScript backend does not support transparency; partially transparent artists will be rendered opaque.\n",
            "WARNING:matplotlib.backends.backend_ps:The PostScript backend does not support transparency; partially transparent artists will be rendered opaque.\n",
            "WARNING:matplotlib.backends.backend_ps:The PostScript backend does not support transparency; partially transparent artists will be rendered opaque.\n"
          ]
        },
        {
          "output_type": "display_data",
          "data": {
            "text/plain": [
              "<Figure size 432x288 with 1 Axes>"
            ],
            "image/png": "[encoded data removed]"
          },
          "metadata": {
            "needs_background": "light"
          }
        }
      ]
    },
    {
      "cell_type": "code",
      "source": [
        "from sklearn.metrics import confusion_matrix\n",
        "\n",
        "cm = confusion_matrix(y_test, y_pred_rf)\n",
        "plt.figure(figsize=(10, 8))\n",
        "ax = sns.heatmap(cm, cmap=plt.cm.Greens, annot=True, square=True, annot_kws={\"size\": 25})\n",
        "plt.title('Confusion Matrix', fontsize=20)\n",
        "ax.set_ylabel('Actual Label', fontsize=20)\n",
        "ax.set_xlabel('Predicted Label', fontsize=20)\n",
        "plt.savefig('RF_confusion.pdf', transparent=True, dpi=300)\n",
        "plt.savefig('RF_confusion.eps', transparent=True, dpi=300)"
      ],
      "metadata": {
        "colab": {
          "base_uri": "https://localhost:8080/",
          "height": 527
        },
        "id": "DYZ2HLVFEDiG",
        "outputId": "c078daa3-ef92-4a12-d867-e63f3b70cacb"
      },
      "execution_count": null,
      "outputs": [
        {
          "output_type": "display_data",
          "data": {
            "text/plain": [
              "<Figure size 720x576 with 2 Axes>"
            ],
            "image/png": "[encoded data removed]"
          },
          "metadata": {
            "needs_background": "light"
          }
        }
      ]
    },
    {
      "cell_type": "markdown",
      "source": [
        "##DecisionTreeClassifier"
      ],
      "metadata": {
        "id": "VfKuf3qlBa16"
      }
    },
    {
      "cell_type": "code",
      "source": [
        "from sklearn.tree import DecisionTreeClassifier\n",
        "\n",
        "param_dict ={\n",
        "             \"criterion\":['gini','entropy'],\n",
        "             \"max_depth\":(150, 155, 160),\n",
        "             \"min_samples_split\":range(1,10),\n",
        "             \"min_samples_leaf\":range(1,5)\n",
        " }\n",
        "\n",
        "decision_tree = DecisionTreeClassifier(random_state=42)\n",
        "\n",
        "dt_decision_tree=RandomizedSearchCV(estimator=decision_tree, param_distributions=param_dict, n_iter=100, cv=5, verbose=2,\n",
        "                               random_state=100,n_jobs=-1)\n",
        "#fit the randomized model\n",
        "dt_decision_tree.fit(X_train,y_train)"
      ],
      "metadata": {
        "colab": {
          "base_uri": "https://localhost:8080/"
        },
        "id": "gq4GYnVO5OEd",
        "outputId": "799f6702-f424-47a8-94b3-d0f1baa89afd"
      },
      "execution_count": null,
      "outputs": [
        {
          "output_type": "stream",
          "name": "stdout",
          "text": [
            "Fitting 5 folds for each of 100 candidates, totalling 500 fits\n"
          ]
        },
        {
          "output_type": "execute_result",
          "data": {
            "text/plain": [
              "RandomizedSearchCV(cv=5, estimator=DecisionTreeClassifier(random_state=42),\n",
              "                   n_iter=100, n_jobs=-1,\n",
              "                   param_distributions={'criterion': ['gini', 'entropy'],\n",
              "                                        'max_depth': (150, 155, 160),\n",
              "                                        'min_samples_leaf': range(1, 5),\n",
              "                                        'min_samples_split': range(1, 10)},\n",
              "                   random_state=100, verbose=2)"
            ]
          },
          "metadata": {},
          "execution_count": 59
        }
      ]
    },
    {
      "cell_type": "code",
      "source": [
        "print('\\n All results:')\n",
        "print(dt_decision_tree.cv_results_)"
      ],
      "metadata": {
        "colab": {
          "base_uri": "https://localhost:8080/"
        },
        "id": "2_es0m4A6gLj",
        "outputId": "e646598b-c8ed-4d58-9123-06d04ed3ed9b"
      },
      "execution_count": null,
      "outputs": [
        {
          "output_type": "stream",
          "name": "stdout",
          "text": [
            "\n",
            " All results:\n",
            "{'mean_fit_time': array([0.00166883, 0.00106502, 0.00100851, 0.00102596, 0.00098066,\n",
            "       0.00099697, 0.00105915, 0.0010335 , 0.00104303, 0.00146132,\n",
            "       0.00102978, 0.00137863, 0.00103798, 0.00102534, 0.0010128 ,\n",
            "       0.00134482, 0.00102067, 0.00083756, 0.00103931, 0.00103283,\n",
            "       0.00100241, 0.00270133, 0.00104532, 0.00107622, 0.0017715 ,\n",
            "       0.00109143, 0.00116858, 0.00110807, 0.00110102, 0.00119491,\n",
            "       0.00146132, 0.00086784, 0.00290599, 0.00107222, 0.00113158,\n",
            "       0.00249357, 0.0019701 , 0.00272679, 0.00171351, 0.00107713,\n",
            "       0.00151453, 0.00096059, 0.00104485, 0.00105615, 0.00109038,\n",
            "       0.00111876, 0.00105524, 0.00108275, 0.00202436, 0.00102968,\n",
            "       0.00101304, 0.00243483, 0.00110502, 0.00159431, 0.0010735 ,\n",
            "       0.00102706, 0.00103273, 0.00127101, 0.00171676, 0.00165663,\n",
            "       0.00100846, 0.00102944, 0.00107317, 0.00213757, 0.00109382,\n",
            "       0.00102305, 0.00329528, 0.00103583, 0.00142913, 0.00214767,\n",
            "       0.00105987, 0.00102382, 0.00084925, 0.00106297, 0.00103111,\n",
            "       0.00102687, 0.00099716, 0.0008081 , 0.00107293, 0.00104442,\n",
            "       0.00104561, 0.00106578, 0.00104194, 0.00081615, 0.00103636,\n",
            "       0.00135884, 0.00105357, 0.00105038, 0.00107498, 0.00101886,\n",
            "       0.00227776, 0.00122862, 0.00110164, 0.00101995, 0.00135002,\n",
            "       0.00353837, 0.00104575, 0.0010221 , 0.00086389, 0.00082107]), 'std_fit_time': array([7.68556549e-04, 7.02055884e-05, 7.63316359e-05, 1.69061470e-05,\n",
            "       1.03926809e-04, 1.19871209e-05, 6.07166698e-05, 1.46105271e-05,\n",
            "       2.77363514e-05, 7.01041676e-04, 4.71040299e-05, 7.11348441e-04,\n",
            "       3.50313409e-05, 2.55731462e-05, 1.46327643e-05, 6.55309616e-04,\n",
            "       2.34723061e-05, 1.98154384e-05, 2.81755487e-05, 4.08986208e-05,\n",
            "       2.37671636e-05, 1.98838853e-03, 1.20618125e-05, 7.26108861e-05,\n",
            "       1.47960592e-03, 8.47249061e-05, 8.24933245e-05, 1.30208382e-04,\n",
            "       6.52244561e-05, 2.13471502e-04, 2.86619728e-04, 4.04041769e-05,\n",
            "       2.58728672e-03, 5.18570878e-05, 9.51912445e-05, 1.18455251e-03,\n",
            "       1.15961156e-03, 3.37401655e-03, 1.20240704e-03, 3.75557018e-05,\n",
            "       9.33654177e-04, 1.18143756e-04, 4.04914774e-05, 5.48570842e-05,\n",
            "       5.33641500e-05, 6.18150182e-05, 1.91525964e-05, 4.08960077e-05,\n",
            "       1.19284993e-03, 1.78074261e-05, 9.87294762e-06, 2.74941262e-03,\n",
            "       1.75078177e-04, 4.93163330e-04, 3.46849317e-04, 3.50791775e-04,\n",
            "       5.61785410e-05, 4.76355906e-04, 7.23078225e-04, 7.03823915e-04,\n",
            "       3.24599694e-06, 1.92900522e-05, 9.86496912e-05, 2.05871958e-03,\n",
            "       4.21538515e-04, 2.92118709e-05, 2.02414713e-03, 6.68134793e-05,\n",
            "       7.74661734e-04, 1.41569147e-03, 1.02759304e-04, 7.38928376e-06,\n",
            "       3.97314386e-05, 6.15562605e-05, 2.40249281e-05, 3.10768352e-05,\n",
            "       3.58398244e-05, 2.03708272e-05, 4.73658937e-05, 2.76950043e-05,\n",
            "       2.93751041e-05, 4.09953519e-05, 2.83156167e-05, 3.50611200e-05,\n",
            "       4.10496700e-05, 6.91137400e-04, 5.76371676e-05, 4.68635598e-05,\n",
            "       4.58333039e-05, 4.43193397e-05, 2.15538336e-03, 3.26932520e-04,\n",
            "       6.99833219e-05, 3.42586841e-05, 6.41350881e-04, 1.69773578e-03,\n",
            "       1.97063593e-05, 2.35627044e-05, 5.61175955e-05, 2.07776034e-04]), 'mean_score_time': array([0.00078568, 0.00034933, 0.00038118, 0.00040269, 0.00038657,\n",
            "       0.00036526, 0.00056348, 0.000385  , 0.00075474, 0.0004097 ,\n",
            "       0.00040603, 0.0003861 , 0.00047326, 0.00036421, 0.00036926,\n",
            "       0.00040493, 0.00036616, 0.        , 0.00038171, 0.0003665 ,\n",
            "       0.00037789, 0.00150399, 0.00111423, 0.00036402, 0.00039697,\n",
            "       0.00042138, 0.00042748, 0.00039868, 0.00038757, 0.00039101,\n",
            "       0.00071931, 0.        , 0.00040498, 0.00038486, 0.00042162,\n",
            "       0.00039248, 0.00041103, 0.00040631, 0.00043573, 0.0029984 ,\n",
            "       0.00039878, 0.        , 0.00038667, 0.00038414, 0.00041423,\n",
            "       0.00040121, 0.00039101, 0.00039272, 0.00040941, 0.00038614,\n",
            "       0.00038161, 0.0003479 , 0.00046906, 0.00053301, 0.        ,\n",
            "       0.        , 0.00071011, 0.00037937, 0.00038176, 0.00048752,\n",
            "       0.00036016, 0.00040679, 0.00038185, 0.00040779, 0.        ,\n",
            "       0.00038805, 0.00112677, 0.00041871, 0.00038404, 0.0016943 ,\n",
            "       0.00037413, 0.00037017, 0.        , 0.00040669, 0.00037436,\n",
            "       0.00038548, 0.00037646, 0.        , 0.000387  , 0.00039067,\n",
            "       0.0003737 , 0.00042496, 0.00037336, 0.        , 0.00037613,\n",
            "       0.00040689, 0.0004055 , 0.00038176, 0.00040073, 0.00110493,\n",
            "       0.00038495, 0.00039787, 0.00037198, 0.00038919, 0.00038218,\n",
            "       0.00167398, 0.00165906, 0.00039806, 0.        , 0.00026999]), 'std_score_time': array([3.92284590e-04, 4.60429180e-05, 2.27508798e-05, 4.80960660e-05,\n",
            "       4.07935791e-05, 1.78715361e-05, 3.74981103e-04, 1.82656642e-05,\n",
            "       6.99324077e-04, 3.43208824e-05, 9.23144916e-06, 2.39928234e-05,\n",
            "       1.89132817e-04, 9.79851051e-06, 2.34070225e-05, 4.54049640e-05,\n",
            "       9.61320741e-06, 0.00000000e+00, 1.36769998e-05, 8.89451497e-06,\n",
            "       2.45360404e-05, 1.41857360e-03, 1.44192254e-03, 1.61797530e-05,\n",
            "       7.84958549e-05, 3.99333968e-05, 3.68314651e-05, 6.78618186e-06,\n",
            "       2.81998286e-05, 1.70997821e-05, 2.75015392e-04, 0.00000000e+00,\n",
            "       2.29489989e-05, 3.26065279e-05, 4.22803202e-05, 2.06379617e-05,\n",
            "       1.92349277e-05, 2.44201153e-05, 1.65796767e-05, 3.20231002e-03,\n",
            "       3.11052103e-05, 0.00000000e+00, 2.33282072e-05, 2.21261690e-05,\n",
            "       4.82184940e-05, 2.32545029e-05, 2.45527152e-05, 2.96665532e-05,\n",
            "       2.25954408e-05, 2.16074064e-05, 2.68106330e-05, 5.91373051e-05,\n",
            "       1.81571338e-04, 2.02285630e-04, 0.00000000e+00, 0.00000000e+00,\n",
            "       6.45033146e-04, 2.60727477e-05, 2.44447768e-05, 1.60182824e-04,\n",
            "       1.04758856e-05, 5.58232347e-05, 2.87903046e-05, 3.90883170e-05,\n",
            "       0.00000000e+00, 2.67902715e-05, 1.48254238e-03, 4.04107606e-05,\n",
            "       2.71577077e-05, 2.04810706e-03, 2.18563137e-05, 2.70777177e-05,\n",
            "       0.00000000e+00, 4.18823207e-05, 2.91383791e-05, 1.61741308e-05,\n",
            "       2.65958036e-05, 0.00000000e+00, 4.20524417e-05, 1.13027507e-05,\n",
            "       2.67686205e-05, 8.91105953e-05, 1.13823337e-05, 0.00000000e+00,\n",
            "       1.13989017e-05, 1.92406009e-05, 2.20087082e-05, 1.84415808e-05,\n",
            "       6.77742125e-05, 9.32825853e-04, 3.54388507e-05, 3.96628207e-05,\n",
            "       3.85747409e-05, 1.97542994e-05, 1.88594974e-05, 1.27267289e-03,\n",
            "       2.57728220e-03, 2.87772706e-05, 0.00000000e+00, 6.35390836e-05]), 'param_min_samples_split': masked_array(data=[3, 6, 5, 6, 9, 2, 9, 9, 6, 3, 3, 8, 5, 4, 7, 7, 4, 1,\n",
            "                   8, 4, 8, 4, 8, 8, 8, 4, 8, 9, 2, 3, 6, 1, 6, 5, 5, 3,\n",
            "                   7, 7, 9, 7, 7, 1, 5, 2, 7, 3, 9, 4, 6, 8, 6, 3, 9, 7,\n",
            "                   1, 1, 2, 9, 4, 5, 8, 3, 3, 2, 1, 3, 5, 8, 7, 3, 2, 9,\n",
            "                   1, 4, 6, 6, 2, 1, 4, 2, 3, 4, 9, 1, 5, 6, 8, 9, 2, 3,\n",
            "                   2, 2, 4, 4, 8, 2, 9, 9, 1, 4],\n",
            "             mask=[False, False, False, False, False, False, False, False,\n",
            "                   False, False, False, False, False, False, False, False,\n",
            "                   False, False, False, False, False, False, False, False,\n",
            "                   False, False, False, False, False, False, False, False,\n",
            "                   False, False, False, False, False, False, False, False,\n",
            "                   False, False, False, False, False, False, False, False,\n",
            "                   False, False, False, False, False, False, False, False,\n",
            "                   False, False, False, False, False, False, False, False,\n",
            "                   False, False, False, False, False, False, False, False,\n",
            "                   False, False, False, False, False, False, False, False,\n",
            "                   False, False, False, False, False, False, False, False,\n",
            "                   False, False, False, False, False, False, False, False,\n",
            "                   False, False, False, False],\n",
            "       fill_value='?',\n",
            "            dtype=object), 'param_min_samples_leaf': masked_array(data=[3, 1, 4, 3, 1, 2, 2, 3, 1, 4, 1, 4, 4, 2, 4, 2, 3, 2,\n",
            "                   3, 1, 1, 1, 4, 2, 3, 4, 2, 1, 4, 1, 1, 4, 1, 1, 3, 2,\n",
            "                   2, 3, 3, 1, 1, 2, 4, 1, 4, 3, 3, 1, 3, 2, 4, 4, 3, 3,\n",
            "                   4, 2, 4, 4, 4, 2, 1, 4, 2, 4, 3, 4, 1, 3, 2, 4, 1, 1,\n",
            "                   3, 3, 4, 4, 3, 2, 1, 1, 3, 3, 1, 3, 2, 4, 2, 4, 2, 3,\n",
            "                   1, 2, 2, 2, 2, 2, 2, 2, 2, 2],\n",
            "             mask=[False, False, False, False, False, False, False, False,\n",
            "                   False, False, False, False, False, False, False, False,\n",
            "                   False, False, False, False, False, False, False, False,\n",
            "                   False, False, False, False, False, False, False, False,\n",
            "                   False, False, False, False, False, False, False, False,\n",
            "                   False, False, False, False, False, False, False, False,\n",
            "                   False, False, False, False, False, False, False, False,\n",
            "                   False, False, False, False, False, False, False, False,\n",
            "                   False, False, False, False, False, False, False, False,\n",
            "                   False, False, False, False, False, False, False, False,\n",
            "                   False, False, False, False, False, False, False, False,\n",
            "                   False, False, False, False, False, False, False, False,\n",
            "                   False, False, False, False],\n",
            "       fill_value='?',\n",
            "            dtype=object), 'param_max_depth': masked_array(data=[160, 160, 160, 155, 150, 155, 160, 160, 160, 155, 150,\n",
            "                   155, 150, 150, 155, 150, 155, 155, 155, 160, 150, 160,\n",
            "                   150, 155, 150, 160, 150, 160, 150, 160, 155, 155, 155,\n",
            "                   160, 150, 150, 150, 155, 150, 155, 155, 160, 150, 155,\n",
            "                   155, 155, 155, 150, 155, 160, 150, 150, 150, 160, 160,\n",
            "                   150, 155, 155, 155, 160, 150, 155, 160, 150, 160, 160,\n",
            "                   155, 160, 160, 160, 150, 155, 160, 160, 160, 150, 160,\n",
            "                   160, 150, 160, 150, 155, 155, 155, 160, 160, 155, 160,\n",
            "                   150, 150, 160, 160, 160, 150, 150, 150, 150, 160, 155,\n",
            "                   155],\n",
            "             mask=[False, False, False, False, False, False, False, False,\n",
            "                   False, False, False, False, False, False, False, False,\n",
            "                   False, False, False, False, False, False, False, False,\n",
            "                   False, False, False, False, False, False, False, False,\n",
            "                   False, False, False, False, False, False, False, False,\n",
            "                   False, False, False, False, False, False, False, False,\n",
            "                   False, False, False, False, False, False, False, False,\n",
            "                   False, False, False, False, False, False, False, False,\n",
            "                   False, False, False, False, False, False, False, False,\n",
            "                   False, False, False, False, False, False, False, False,\n",
            "                   False, False, False, False, False, False, False, False,\n",
            "                   False, False, False, False, False, False, False, False,\n",
            "                   False, False, False, False],\n",
            "       fill_value='?',\n",
            "            dtype=object), 'param_criterion': masked_array(data=['gini', 'gini', 'entropy', 'entropy', 'entropy',\n",
            "                   'gini', 'entropy', 'entropy', 'entropy', 'gini',\n",
            "                   'entropy', 'entropy', 'gini', 'entropy', 'gini',\n",
            "                   'entropy', 'entropy', 'entropy', 'entropy', 'gini',\n",
            "                   'entropy', 'entropy', 'entropy', 'gini', 'entropy',\n",
            "                   'entropy', 'entropy', 'entropy', 'entropy', 'gini',\n",
            "                   'gini', 'entropy', 'entropy', 'entropy', 'gini',\n",
            "                   'gini', 'gini', 'entropy', 'entropy', 'gini',\n",
            "                   'entropy', 'gini', 'entropy', 'entropy', 'entropy',\n",
            "                   'entropy', 'entropy', 'gini', 'gini', 'gini', 'gini',\n",
            "                   'gini', 'gini', 'gini', 'gini', 'entropy', 'gini',\n",
            "                   'entropy', 'entropy', 'gini', 'gini', 'entropy',\n",
            "                   'gini', 'gini', 'entropy', 'gini', 'gini', 'gini',\n",
            "                   'entropy', 'entropy', 'gini', 'entropy', 'gini',\n",
            "                   'entropy', 'gini', 'entropy', 'entropy', 'entropy',\n",
            "                   'entropy', 'gini', 'entropy', 'gini', 'gini',\n",
            "                   'entropy', 'entropy', 'entropy', 'entropy', 'entropy',\n",
            "                   'gini', 'gini', 'entropy', 'gini', 'entropy', 'gini',\n",
            "                   'gini', 'entropy', 'entropy', 'gini', 'gini',\n",
            "                   'entropy'],\n",
            "             mask=[False, False, False, False, False, False, False, False,\n",
            "                   False, False, False, False, False, False, False, False,\n",
            "                   False, False, False, False, False, False, False, False,\n",
            "                   False, False, False, False, False, False, False, False,\n",
            "                   False, False, False, False, False, False, False, False,\n",
            "                   False, False, False, False, False, False, False, False,\n",
            "                   False, False, False, False, False, False, False, False,\n",
            "                   False, False, False, False, False, False, False, False,\n",
            "                   False, False, False, False, False, False, False, False,\n",
            "                   False, False, False, False, False, False, False, False,\n",
            "                   False, False, False, False, False, False, False, False,\n",
            "                   False, False, False, False, False, False, False, False,\n",
            "                   False, False, False, False],\n",
            "       fill_value='?',\n",
            "            dtype=object), 'params': [{'min_samples_split': 3, 'min_samples_leaf': 3, 'max_depth': 160, 'criterion': 'gini'}, {'min_samples_split': 6, 'min_samples_leaf': 1, 'max_depth': 160, 'criterion': 'gini'}, {'min_samples_split': 5, 'min_samples_leaf': 4, 'max_depth': 160, 'criterion': 'entropy'}, {'min_samples_split': 6, 'min_samples_leaf': 3, 'max_depth': 155, 'criterion': 'entropy'}, {'min_samples_split': 9, 'min_samples_leaf': 1, 'max_depth': 150, 'criterion': 'entropy'}, {'min_samples_split': 2, 'min_samples_leaf': 2, 'max_depth': 155, 'criterion': 'gini'}, {'min_samples_split': 9, 'min_samples_leaf': 2, 'max_depth': 160, 'criterion': 'entropy'}, {'min_samples_split': 9, 'min_samples_leaf': 3, 'max_depth': 160, 'criterion': 'entropy'}, {'min_samples_split': 6, 'min_samples_leaf': 1, 'max_depth': 160, 'criterion': 'entropy'}, {'min_samples_split': 3, 'min_samples_leaf': 4, 'max_depth': 155, 'criterion': 'gini'}, {'min_samples_split': 3, 'min_samples_leaf': 1, 'max_depth': 150, 'criterion': 'entropy'}, {'min_samples_split': 8, 'min_samples_leaf': 4, 'max_depth': 155, 'criterion': 'entropy'}, {'min_samples_split': 5, 'min_samples_leaf': 4, 'max_depth': 150, 'criterion': 'gini'}, {'min_samples_split': 4, 'min_samples_leaf': 2, 'max_depth': 150, 'criterion': 'entropy'}, {'min_samples_split': 7, 'min_samples_leaf': 4, 'max_depth': 155, 'criterion': 'gini'}, {'min_samples_split': 7, 'min_samples_leaf': 2, 'max_depth': 150, 'criterion': 'entropy'}, {'min_samples_split': 4, 'min_samples_leaf': 3, 'max_depth': 155, 'criterion': 'entropy'}, {'min_samples_split': 1, 'min_samples_leaf': 2, 'max_depth': 155, 'criterion': 'entropy'}, {'min_samples_split': 8, 'min_samples_leaf': 3, 'max_depth': 155, 'criterion': 'entropy'}, {'min_samples_split': 4, 'min_samples_leaf': 1, 'max_depth': 160, 'criterion': 'gini'}, {'min_samples_split': 8, 'min_samples_leaf': 1, 'max_depth': 150, 'criterion': 'entropy'}, {'min_samples_split': 4, 'min_samples_leaf': 1, 'max_depth': 160, 'criterion': 'entropy'}, {'min_samples_split': 8, 'min_samples_leaf': 4, 'max_depth': 150, 'criterion': 'entropy'}, {'min_samples_split': 8, 'min_samples_leaf': 2, 'max_depth': 155, 'criterion': 'gini'}, {'min_samples_split': 8, 'min_samples_leaf': 3, 'max_depth': 150, 'criterion': 'entropy'}, {'min_samples_split': 4, 'min_samples_leaf': 4, 'max_depth': 160, 'criterion': 'entropy'}, {'min_samples_split': 8, 'min_samples_leaf': 2, 'max_depth': 150, 'criterion': 'entropy'}, {'min_samples_split': 9, 'min_samples_leaf': 1, 'max_depth': 160, 'criterion': 'entropy'}, {'min_samples_split': 2, 'min_samples_leaf': 4, 'max_depth': 150, 'criterion': 'entropy'}, {'min_samples_split': 3, 'min_samples_leaf': 1, 'max_depth': 160, 'criterion': 'gini'}, {'min_samples_split': 6, 'min_samples_leaf': 1, 'max_depth': 155, 'criterion': 'gini'}, {'min_samples_split': 1, 'min_samples_leaf': 4, 'max_depth': 155, 'criterion': 'entropy'}, {'min_samples_split': 6, 'min_samples_leaf': 1, 'max_depth': 155, 'criterion': 'entropy'}, {'min_samples_split': 5, 'min_samples_leaf': 1, 'max_depth': 160, 'criterion': 'entropy'}, {'min_samples_split': 5, 'min_samples_leaf': 3, 'max_depth': 150, 'criterion': 'gini'}, {'min_samples_split': 3, 'min_samples_leaf': 2, 'max_depth': 150, 'criterion': 'gini'}, {'min_samples_split': 7, 'min_samples_leaf': 2, 'max_depth': 150, 'criterion': 'gini'}, {'min_samples_split': 7, 'min_samples_leaf': 3, 'max_depth': 155, 'criterion': 'entropy'}, {'min_samples_split': 9, 'min_samples_leaf': 3, 'max_depth': 150, 'criterion': 'entropy'}, {'min_samples_split': 7, 'min_samples_leaf': 1, 'max_depth': 155, 'criterion': 'gini'}, {'min_samples_split': 7, 'min_samples_leaf': 1, 'max_depth': 155, 'criterion': 'entropy'}, {'min_samples_split': 1, 'min_samples_leaf': 2, 'max_depth': 160, 'criterion': 'gini'}, {'min_samples_split': 5, 'min_samples_leaf': 4, 'max_depth': 150, 'criterion': 'entropy'}, {'min_samples_split': 2, 'min_samples_leaf': 1, 'max_depth': 155, 'criterion': 'entropy'}, {'min_samples_split': 7, 'min_samples_leaf': 4, 'max_depth': 155, 'criterion': 'entropy'}, {'min_samples_split': 3, 'min_samples_leaf': 3, 'max_depth': 155, 'criterion': 'entropy'}, {'min_samples_split': 9, 'min_samples_leaf': 3, 'max_depth': 155, 'criterion': 'entropy'}, {'min_samples_split': 4, 'min_samples_leaf': 1, 'max_depth': 150, 'criterion': 'gini'}, {'min_samples_split': 6, 'min_samples_leaf': 3, 'max_depth': 155, 'criterion': 'gini'}, {'min_samples_split': 8, 'min_samples_leaf': 2, 'max_depth': 160, 'criterion': 'gini'}, {'min_samples_split': 6, 'min_samples_leaf': 4, 'max_depth': 150, 'criterion': 'gini'}, {'min_samples_split': 3, 'min_samples_leaf': 4, 'max_depth': 150, 'criterion': 'gini'}, {'min_samples_split': 9, 'min_samples_leaf': 3, 'max_depth': 150, 'criterion': 'gini'}, {'min_samples_split': 7, 'min_samples_leaf': 3, 'max_depth': 160, 'criterion': 'gini'}, {'min_samples_split': 1, 'min_samples_leaf': 4, 'max_depth': 160, 'criterion': 'gini'}, {'min_samples_split': 1, 'min_samples_leaf': 2, 'max_depth': 150, 'criterion': 'entropy'}, {'min_samples_split': 2, 'min_samples_leaf': 4, 'max_depth': 155, 'criterion': 'gini'}, {'min_samples_split': 9, 'min_samples_leaf': 4, 'max_depth': 155, 'criterion': 'entropy'}, {'min_samples_split': 4, 'min_samples_leaf': 4, 'max_depth': 155, 'criterion': 'entropy'}, {'min_samples_split': 5, 'min_samples_leaf': 2, 'max_depth': 160, 'criterion': 'gini'}, {'min_samples_split': 8, 'min_samples_leaf': 1, 'max_depth': 150, 'criterion': 'gini'}, {'min_samples_split': 3, 'min_samples_leaf': 4, 'max_depth': 155, 'criterion': 'entropy'}, {'min_samples_split': 3, 'min_samples_leaf': 2, 'max_depth': 160, 'criterion': 'gini'}, {'min_samples_split': 2, 'min_samples_leaf': 4, 'max_depth': 150, 'criterion': 'gini'}, {'min_samples_split': 1, 'min_samples_leaf': 3, 'max_depth': 160, 'criterion': 'entropy'}, {'min_samples_split': 3, 'min_samples_leaf': 4, 'max_depth': 160, 'criterion': 'gini'}, {'min_samples_split': 5, 'min_samples_leaf': 1, 'max_depth': 155, 'criterion': 'gini'}, {'min_samples_split': 8, 'min_samples_leaf': 3, 'max_depth': 160, 'criterion': 'gini'}, {'min_samples_split': 7, 'min_samples_leaf': 2, 'max_depth': 160, 'criterion': 'entropy'}, {'min_samples_split': 3, 'min_samples_leaf': 4, 'max_depth': 160, 'criterion': 'entropy'}, {'min_samples_split': 2, 'min_samples_leaf': 1, 'max_depth': 150, 'criterion': 'gini'}, {'min_samples_split': 9, 'min_samples_leaf': 1, 'max_depth': 155, 'criterion': 'entropy'}, {'min_samples_split': 1, 'min_samples_leaf': 3, 'max_depth': 160, 'criterion': 'gini'}, {'min_samples_split': 4, 'min_samples_leaf': 3, 'max_depth': 160, 'criterion': 'entropy'}, {'min_samples_split': 6, 'min_samples_leaf': 4, 'max_depth': 160, 'criterion': 'gini'}, {'min_samples_split': 6, 'min_samples_leaf': 4, 'max_depth': 150, 'criterion': 'entropy'}, {'min_samples_split': 2, 'min_samples_leaf': 3, 'max_depth': 160, 'criterion': 'entropy'}, {'min_samples_split': 1, 'min_samples_leaf': 2, 'max_depth': 160, 'criterion': 'entropy'}, {'min_samples_split': 4, 'min_samples_leaf': 1, 'max_depth': 150, 'criterion': 'entropy'}, {'min_samples_split': 2, 'min_samples_leaf': 1, 'max_depth': 160, 'criterion': 'gini'}, {'min_samples_split': 3, 'min_samples_leaf': 3, 'max_depth': 150, 'criterion': 'entropy'}, {'min_samples_split': 4, 'min_samples_leaf': 3, 'max_depth': 155, 'criterion': 'gini'}, {'min_samples_split': 9, 'min_samples_leaf': 1, 'max_depth': 155, 'criterion': 'gini'}, {'min_samples_split': 1, 'min_samples_leaf': 3, 'max_depth': 155, 'criterion': 'entropy'}, {'min_samples_split': 5, 'min_samples_leaf': 2, 'max_depth': 160, 'criterion': 'entropy'}, {'min_samples_split': 6, 'min_samples_leaf': 4, 'max_depth': 160, 'criterion': 'entropy'}, {'min_samples_split': 8, 'min_samples_leaf': 2, 'max_depth': 155, 'criterion': 'entropy'}, {'min_samples_split': 9, 'min_samples_leaf': 4, 'max_depth': 160, 'criterion': 'entropy'}, {'min_samples_split': 2, 'min_samples_leaf': 2, 'max_depth': 150, 'criterion': 'gini'}, {'min_samples_split': 3, 'min_samples_leaf': 3, 'max_depth': 150, 'criterion': 'gini'}, {'min_samples_split': 2, 'min_samples_leaf': 1, 'max_depth': 160, 'criterion': 'entropy'}, {'min_samples_split': 2, 'min_samples_leaf': 2, 'max_depth': 160, 'criterion': 'gini'}, {'min_samples_split': 4, 'min_samples_leaf': 2, 'max_depth': 160, 'criterion': 'entropy'}, {'min_samples_split': 4, 'min_samples_leaf': 2, 'max_depth': 150, 'criterion': 'gini'}, {'min_samples_split': 8, 'min_samples_leaf': 2, 'max_depth': 150, 'criterion': 'gini'}, {'min_samples_split': 2, 'min_samples_leaf': 2, 'max_depth': 150, 'criterion': 'entropy'}, {'min_samples_split': 9, 'min_samples_leaf': 2, 'max_depth': 150, 'criterion': 'entropy'}, {'min_samples_split': 9, 'min_samples_leaf': 2, 'max_depth': 160, 'criterion': 'gini'}, {'min_samples_split': 1, 'min_samples_leaf': 2, 'max_depth': 155, 'criterion': 'gini'}, {'min_samples_split': 4, 'min_samples_leaf': 2, 'max_depth': 155, 'criterion': 'entropy'}], 'split0_test_score': array([ 1.,  1.,  1.,  1.,  1.,  1.,  1.,  1.,  1.,  1.,  1.,  1.,  1.,\n",
            "        1.,  1.,  1.,  1., nan,  1.,  1.,  1.,  1.,  1.,  1.,  1.,  1.,\n",
            "        1.,  1.,  1.,  1.,  1., nan,  1.,  1.,  1.,  1.,  1.,  1.,  1.,\n",
            "        1.,  1., nan,  1.,  1.,  1.,  1.,  1.,  1.,  1.,  1.,  1.,  1.,\n",
            "        1.,  1., nan, nan,  1.,  1.,  1.,  1.,  1.,  1.,  1.,  1., nan,\n",
            "        1.,  1.,  1.,  1.,  1.,  1.,  1., nan,  1.,  1.,  1.,  1., nan,\n",
            "        1.,  1.,  1.,  1.,  1., nan,  1.,  1.,  1.,  1.,  1.,  1.,  1.,\n",
            "        1.,  1.,  1.,  1.,  1.,  1.,  1., nan,  1.]), 'split1_test_score': array([ 1.,  1.,  1.,  1.,  1.,  1.,  1.,  1.,  1.,  1.,  1.,  1.,  1.,\n",
            "        1.,  1.,  1.,  1., nan,  1.,  1.,  1.,  1.,  1.,  1.,  1.,  1.,\n",
            "        1.,  1.,  1.,  1.,  1., nan,  1.,  1.,  1.,  1.,  1.,  1.,  1.,\n",
            "        1.,  1., nan,  1.,  1.,  1.,  1.,  1.,  1.,  1.,  1.,  1.,  1.,\n",
            "        1.,  1., nan, nan,  1.,  1.,  1.,  1.,  1.,  1.,  1.,  1., nan,\n",
            "        1.,  1.,  1.,  1.,  1.,  1.,  1., nan,  1.,  1.,  1.,  1., nan,\n",
            "        1.,  1.,  1.,  1.,  1., nan,  1.,  1.,  1.,  1.,  1.,  1.,  1.,\n",
            "        1.,  1.,  1.,  1.,  1.,  1.,  1., nan,  1.]), 'split2_test_score': array([ 1.,  1.,  1.,  1.,  1.,  1.,  1.,  1.,  1.,  1.,  1.,  1.,  1.,\n",
            "        1.,  1.,  1.,  1., nan,  1.,  1.,  1.,  1.,  1.,  1.,  1.,  1.,\n",
            "        1.,  1.,  1.,  1.,  1., nan,  1.,  1.,  1.,  1.,  1.,  1.,  1.,\n",
            "        1.,  1., nan,  1.,  1.,  1.,  1.,  1.,  1.,  1.,  1.,  1.,  1.,\n",
            "        1.,  1., nan, nan,  1.,  1.,  1.,  1.,  1.,  1.,  1.,  1., nan,\n",
            "        1.,  1.,  1.,  1.,  1.,  1.,  1., nan,  1.,  1.,  1.,  1., nan,\n",
            "        1.,  1.,  1.,  1.,  1., nan,  1.,  1.,  1.,  1.,  1.,  1.,  1.,\n",
            "        1.,  1.,  1.,  1.,  1.,  1.,  1., nan,  1.]), 'split3_test_score': array([ 1.,  1.,  1.,  1.,  1.,  1.,  1.,  1.,  1.,  1.,  1.,  1.,  1.,\n",
            "        1.,  1.,  1.,  1., nan,  1.,  1.,  1.,  1.,  1.,  1.,  1.,  1.,\n",
            "        1.,  1.,  1.,  1.,  1., nan,  1.,  1.,  1.,  1.,  1.,  1.,  1.,\n",
            "        1.,  1., nan,  1.,  1.,  1.,  1.,  1.,  1.,  1.,  1.,  1.,  1.,\n",
            "        1.,  1., nan, nan,  1.,  1.,  1.,  1.,  1.,  1.,  1.,  1., nan,\n",
            "        1.,  1.,  1.,  1.,  1.,  1.,  1., nan,  1.,  1.,  1.,  1., nan,\n",
            "        1.,  1.,  1.,  1.,  1., nan,  1.,  1.,  1.,  1.,  1.,  1.,  1.,\n",
            "        1.,  1.,  1.,  1.,  1.,  1.,  1., nan,  1.]), 'split4_test_score': array([ 1.,  1.,  1.,  1.,  1.,  1.,  1.,  1.,  1.,  1.,  1.,  1.,  1.,\n",
            "        1.,  1.,  1.,  1., nan,  1.,  1.,  1.,  1.,  1.,  1.,  1.,  1.,\n",
            "        1.,  1.,  1.,  1.,  1., nan,  1.,  1.,  1.,  1.,  1.,  1.,  1.,\n",
            "        1.,  1., nan,  1.,  1.,  1.,  1.,  1.,  1.,  1.,  1.,  1.,  1.,\n",
            "        1.,  1., nan, nan,  1.,  1.,  1.,  1.,  1.,  1.,  1.,  1., nan,\n",
            "        1.,  1.,  1.,  1.,  1.,  1.,  1., nan,  1.,  1.,  1.,  1., nan,\n",
            "        1.,  1.,  1.,  1.,  1., nan,  1.,  1.,  1.,  1.,  1.,  1.,  1.,\n",
            "        1.,  1.,  1.,  1.,  1.,  1.,  1., nan,  1.]), 'mean_test_score': array([ 1.,  1.,  1.,  1.,  1.,  1.,  1.,  1.,  1.,  1.,  1.,  1.,  1.,\n",
            "        1.,  1.,  1.,  1., nan,  1.,  1.,  1.,  1.,  1.,  1.,  1.,  1.,\n",
            "        1.,  1.,  1.,  1.,  1., nan,  1.,  1.,  1.,  1.,  1.,  1.,  1.,\n",
            "        1.,  1., nan,  1.,  1.,  1.,  1.,  1.,  1.,  1.,  1.,  1.,  1.,\n",
            "        1.,  1., nan, nan,  1.,  1.,  1.,  1.,  1.,  1.,  1.,  1., nan,\n",
            "        1.,  1.,  1.,  1.,  1.,  1.,  1., nan,  1.,  1.,  1.,  1., nan,\n",
            "        1.,  1.,  1.,  1.,  1., nan,  1.,  1.,  1.,  1.,  1.,  1.,  1.,\n",
            "        1.,  1.,  1.,  1.,  1.,  1.,  1., nan,  1.]), 'std_test_score': array([ 0.,  0.,  0.,  0.,  0.,  0.,  0.,  0.,  0.,  0.,  0.,  0.,  0.,\n",
            "        0.,  0.,  0.,  0., nan,  0.,  0.,  0.,  0.,  0.,  0.,  0.,  0.,\n",
            "        0.,  0.,  0.,  0.,  0., nan,  0.,  0.,  0.,  0.,  0.,  0.,  0.,\n",
            "        0.,  0., nan,  0.,  0.,  0.,  0.,  0.,  0.,  0.,  0.,  0.,  0.,\n",
            "        0.,  0., nan, nan,  0.,  0.,  0.,  0.,  0.,  0.,  0.,  0., nan,\n",
            "        0.,  0.,  0.,  0.,  0.,  0.,  0., nan,  0.,  0.,  0.,  0., nan,\n",
            "        0.,  0.,  0.,  0.,  0., nan,  0.,  0.,  0.,  0.,  0.,  0.,  0.,\n",
            "        0.,  0.,  0.,  0.,  0.,  0.,  0., nan,  0.]), 'rank_test_score': array([  1,   1,   1,   1,   1,   1,   1,   1,   1,   1,   1,   1,   1,\n",
            "         1,   1,   1,   1,  92,   1,   1,   1,   1,   1,   1,   1,   1,\n",
            "         1,   1,   1,   1,   1,  91,   1,   1,   1,   1,   1,   1,   1,\n",
            "         1,   1,  97,   1,   1,   1,   1,   1,   1,   1,   1,   1,   1,\n",
            "         1,   1,  96,  95,   1,   1,   1,   1,   1,   1,   1,   1,  93,\n",
            "         1,   1,   1,   1,   1,   1,   1, 100,   1,   1,   1,   1,  94,\n",
            "         1,   1,   1,   1,   1,  99,   1,   1,   1,   1,   1,   1,   1,\n",
            "         1,   1,   1,   1,   1,   1,   1,  98,   1], dtype=int32)}\n"
          ]
        }
      ]
    },
    {
      "cell_type": "code",
      "source": [
        "print('\\n Best estimator:')\n",
        "print(dt_decision_tree.best_estimator_)"
      ],
      "metadata": {
        "colab": {
          "base_uri": "https://localhost:8080/"
        },
        "id": "jiYQrh2t6gSz",
        "outputId": "fe3bf4b1-dc31-443b-bc21-02e20794822a"
      },
      "execution_count": null,
      "outputs": [
        {
          "output_type": "stream",
          "name": "stdout",
          "text": [
            "\n",
            " Best estimator:\n",
            "DecisionTreeClassifier(max_depth=160, min_samples_leaf=3, min_samples_split=3,\n",
            "                       random_state=42)\n"
          ]
        }
      ]
    },
    {
      "cell_type": "code",
      "source": [
        "print('\\n Best hyperparameters:')\n",
        "print(dt_decision_tree.best_params_)"
      ],
      "metadata": {
        "colab": {
          "base_uri": "https://localhost:8080/"
        },
        "id": "4AlvK-kM6WmL",
        "outputId": "f3131cf8-1582-45b4-eb2a-0a3dad0729dd"
      },
      "execution_count": null,
      "outputs": [
        {
          "output_type": "stream",
          "name": "stdout",
          "text": [
            "\n",
            " Best hyperparameters:\n",
            "{'min_samples_split': 3, 'min_samples_leaf': 3, 'max_depth': 160, 'criterion': 'gini'}\n"
          ]
        }
      ]
    },
    {
      "cell_type": "code",
      "source": [
        "from sklearn.ensemble import RandomForestClassifier\n",
        "dt = DecisionTreeClassifier(min_samples_split = 3, min_samples_leaf = 3, max_depth = 160, criterion = 'gini')\n",
        "dt.fit(X_train, y_train)"
      ],
      "metadata": {
        "colab": {
          "base_uri": "https://localhost:8080/"
        },
        "id": "NMxAB1P863uA",
        "outputId": "2c89237f-18f2-4872-d7b7-4117d3671366"
      },
      "execution_count": null,
      "outputs": [
        {
          "output_type": "execute_result",
          "data": {
            "text/plain": [
              "DecisionTreeClassifier(max_depth=160, min_samples_leaf=3, min_samples_split=3)"
            ]
          },
          "metadata": {},
          "execution_count": 63
        }
      ]
    },
    {
      "cell_type": "code",
      "source": [
        "y_pred_dt = dt.predict(X_test)\n",
        "model_report(y_test, y_pred_dt)"
      ],
      "metadata": {
        "colab": {
          "base_uri": "https://localhost:8080/"
        },
        "id": "-J7DDj1N7Qlk",
        "outputId": "ba83e53e-f2ca-4162-f127-5c2b713c45a7"
      },
      "execution_count": null,
      "outputs": [
        {
          "output_type": "stream",
          "name": "stdout",
          "text": [
            "Accuracy =  1.0\n",
            "Precision =  1.0\n",
            "Recall\\Sensitivity =  1.0\n",
            "Specificity =  1.0\n",
            "F1 Score =  1.0\n",
            "AUC Score = 1.0\n",
            "Kappa score =  1.0\n",
            "Log Loss =  9.992007221626415e-16 \n",
            "\n"
          ]
        }
      ]
    },
    {
      "cell_type": "code",
      "source": [
        "title = \"Learning Curves (DecisionTreeClassifier)\"                                        # fill this in\n",
        "cv = ShuffleSplit(n_splits=5, test_size=0.2, random_state=42)\n",
        "dt = DecisionTreeClassifier(min_samples_split = 3, min_samples_leaf = 3, max_depth = 160, criterion = 'gini')                             # fill this in\n",
        "plot_learning_curve(dt, title, X, y, ylim=(0.2, 1.25), cv=cv, n_jobs=4)\n",
        "plt.savefig('DT_curve.pdf', transparent=True, dpi=300)\n",
        "plt.savefig('DT_curve.eps', transparent=True, dpi=300)\n",
        "plt.show()"
      ],
      "metadata": {
        "colab": {
          "base_uri": "https://localhost:8080/",
          "height": 434
        },
        "id": "CTwEv5WDD6BF",
        "outputId": "2462cc2b-ef69-4c3f-d2b7-be9a1b3303be"
      },
      "execution_count": null,
      "outputs": [
        {
          "output_type": "stream",
          "name": "stderr",
          "text": [
            "WARNING:matplotlib.backends.backend_ps:The PostScript backend does not support transparency; partially transparent artists will be rendered opaque.\n",
            "WARNING:matplotlib.backends.backend_ps:The PostScript backend does not support transparency; partially transparent artists will be rendered opaque.\n",
            "WARNING:matplotlib.backends.backend_ps:The PostScript backend does not support transparency; partially transparent artists will be rendered opaque.\n",
            "WARNING:matplotlib.backends.backend_ps:The PostScript backend does not support transparency; partially transparent artists will be rendered opaque.\n",
            "WARNING:matplotlib.backends.backend_ps:The PostScript backend does not support transparency; partially transparent artists will be rendered opaque.\n",
            "WARNING:matplotlib.backends.backend_ps:The PostScript backend does not support transparency; partially transparent artists will be rendered opaque.\n",
            "WARNING:matplotlib.backends.backend_ps:The PostScript backend does not support transparency; partially transparent artists will be rendered opaque.\n",
            "WARNING:matplotlib.backends.backend_ps:The PostScript backend does not support transparency; partially transparent artists will be rendered opaque.\n"
          ]
        },
        {
          "output_type": "display_data",
          "data": {
            "text/plain": [
              "<Figure size 432x288 with 1 Axes>"
            ],
            "image/png": "[encoded data removed]"
          },
          "metadata": {
            "needs_background": "light"
          }
        }
      ]
    },
    {
      "cell_type": "code",
      "source": [
        "from sklearn.metrics import confusion_matrix\n",
        "\n",
        "cm = confusion_matrix(y_test, y_pred_dt)\n",
        "plt.figure(figsize=(10, 8))\n",
        "ax = sns.heatmap(cm, cmap=plt.cm.Greens, annot=True, square=True, annot_kws={\"size\": 25})\n",
        "plt.title('Confusion Matrix', fontsize=20)\n",
        "ax.set_ylabel('Actual Label', fontsize=20)\n",
        "ax.set_xlabel('Predicted Label', fontsize=20)\n",
        "plt.savefig('DT_confusion.pdf', transparent=True, dpi=300)\n",
        "plt.savefig('DT_confusion.eps', transparent=True, dpi=300)"
      ],
      "metadata": {
        "colab": {
          "base_uri": "https://localhost:8080/",
          "height": 527
        },
        "id": "dX4x1yalEsY_",
        "outputId": "72cff188-3251-477e-c0d6-4f7a03555f2f"
      },
      "execution_count": null,
      "outputs": [
        {
          "output_type": "display_data",
          "data": {
            "text/plain": [
              "<Figure size 720x576 with 2 Axes>"
            ],
            "image/png": "[encoded data removed]"
          },
          "metadata": {
            "needs_background": "light"
          }
        }
      ]
    },
    {
      "cell_type": "markdown",
      "source": [
        "##XGBClassifier"
      ],
      "metadata": {
        "id": "-0Juv-1cBVaG"
      }
    },
    {
      "cell_type": "code",
      "source": [
        "from xgboost import XGBClassifier\n",
        "from sklearn.model_selection import RandomizedSearchCV\n",
        "\n",
        "estimator = XGBClassifier(\n",
        "    objective= 'binary:logistic',\n",
        "    nthread=4,\n",
        "    seed=42\n",
        ")\n",
        "\n",
        "parameters = {\n",
        "    'max_depth': range (2, 10, 1),\n",
        "    'n_estimators': range(60, 220, 40),\n",
        "    'learning_rate': [0.1, 0.01, 0.05]\n",
        "}\n",
        "\n",
        "xg_randomcv = RandomizedSearchCV(\n",
        "    estimator=estimator,\n",
        "    param_distributions=parameters,\n",
        "    scoring = 'roc_auc',\n",
        "    n_jobs = 10,\n",
        "    cv = 5,\n",
        "    verbose=True\n",
        ")\n",
        "\n",
        "#fit the randomized model\n",
        "xg_randomcv.fit(X_train,y_train)"
      ],
      "metadata": {
        "colab": {
          "base_uri": "https://localhost:8080/"
        },
        "id": "EfbxYtEs7YXI",
        "outputId": "287fd30f-9c93-4e47-c9d9-3251632c712b"
      },
      "execution_count": null,
      "outputs": [
        {
          "output_type": "stream",
          "name": "stdout",
          "text": [
            "Fitting 5 folds for each of 10 candidates, totalling 50 fits\n"
          ]
        },
        {
          "output_type": "execute_result",
          "data": {
            "text/plain": [
              "RandomizedSearchCV(cv=5, estimator=XGBClassifier(nthread=4, seed=42), n_jobs=10,\n",
              "                   param_distributions={'learning_rate': [0.1, 0.01, 0.05],\n",
              "                                        'max_depth': range(2, 10),\n",
              "                                        'n_estimators': range(60, 220, 40)},\n",
              "                   scoring='roc_auc', verbose=True)"
            ]
          },
          "metadata": {},
          "execution_count": 67
        }
      ]
    },
    {
      "cell_type": "code",
      "source": [
        "print('\\n All results:')\n",
        "print(xg_randomcv.cv_results_)"
      ],
      "metadata": {
        "colab": {
          "base_uri": "https://localhost:8080/"
        },
        "id": "CyZQR5Aw8PJo",
        "outputId": "6156644f-058f-42f8-e47c-5bf6f92dd290"
      },
      "execution_count": null,
      "outputs": [
        {
          "output_type": "stream",
          "name": "stdout",
          "text": [
            "\n",
            " All results:\n",
            "{'mean_fit_time': array([3.18357959, 2.22973948, 0.51015744, 0.96715865, 0.7694716 ,\n",
            "       0.74846458, 0.33020053, 0.33839836, 0.56808434, 0.4570642 ]), 'std_fit_time': array([0.5614826 , 0.95193362, 0.11758268, 0.06496517, 0.07772883,\n",
            "       0.10264659, 0.07744715, 0.05017839, 0.06211454, 0.08419853]), 'mean_score_time': array([0.0118772 , 0.00854034, 0.0090735 , 0.00887876, 0.02193518,\n",
            "       0.01670837, 0.00982862, 0.01128168, 0.00946612, 0.00282841]), 'std_score_time': array([0.00605993, 0.0058922 , 0.00505242, 0.00243606, 0.00618536,\n",
            "       0.00776186, 0.00621694, 0.00385124, 0.00600667, 0.00074655]), 'param_n_estimators': masked_array(data=[180, 140, 140, 180, 180, 140, 60, 60, 100, 100],\n",
            "             mask=[False, False, False, False, False, False, False, False,\n",
            "                   False, False],\n",
            "       fill_value='?',\n",
            "            dtype=object), 'param_max_depth': masked_array(data=[8, 3, 8, 9, 5, 5, 3, 6, 2, 2],\n",
            "             mask=[False, False, False, False, False, False, False, False,\n",
            "                   False, False],\n",
            "       fill_value='?',\n",
            "            dtype=object), 'param_learning_rate': masked_array(data=[0.05, 0.01, 0.05, 0.01, 0.1, 0.05, 0.05, 0.01, 0.05,\n",
            "                   0.01],\n",
            "             mask=[False, False, False, False, False, False, False, False,\n",
            "                   False, False],\n",
            "       fill_value='?',\n",
            "            dtype=object), 'params': [{'n_estimators': 180, 'max_depth': 8, 'learning_rate': 0.05}, {'n_estimators': 140, 'max_depth': 3, 'learning_rate': 0.01}, {'n_estimators': 140, 'max_depth': 8, 'learning_rate': 0.05}, {'n_estimators': 180, 'max_depth': 9, 'learning_rate': 0.01}, {'n_estimators': 180, 'max_depth': 5, 'learning_rate': 0.1}, {'n_estimators': 140, 'max_depth': 5, 'learning_rate': 0.05}, {'n_estimators': 60, 'max_depth': 3, 'learning_rate': 0.05}, {'n_estimators': 60, 'max_depth': 6, 'learning_rate': 0.01}, {'n_estimators': 100, 'max_depth': 2, 'learning_rate': 0.05}, {'n_estimators': 100, 'max_depth': 2, 'learning_rate': 0.01}], 'split0_test_score': array([1., 1., 1., 1., 1., 1., 1., 1., 1., 1.]), 'split1_test_score': array([1., 1., 1., 1., 1., 1., 1., 1., 1., 1.]), 'split2_test_score': array([1., 1., 1., 1., 1., 1., 1., 1., 1., 1.]), 'split3_test_score': array([1., 1., 1., 1., 1., 1., 1., 1., 1., 1.]), 'split4_test_score': array([1., 1., 1., 1., 1., 1., 1., 1., 1., 1.]), 'mean_test_score': array([1., 1., 1., 1., 1., 1., 1., 1., 1., 1.]), 'std_test_score': array([0., 0., 0., 0., 0., 0., 0., 0., 0., 0.]), 'rank_test_score': array([1, 1, 1, 1, 1, 1, 1, 1, 1, 1], dtype=int32)}\n"
          ]
        }
      ]
    },
    {
      "cell_type": "code",
      "source": [
        "print('\\n Best estimator:')\n",
        "print(xg_randomcv.best_estimator_)"
      ],
      "metadata": {
        "colab": {
          "base_uri": "https://localhost:8080/"
        },
        "id": "W20TGI7L8R6x",
        "outputId": "719ab01d-24e2-4384-c812-76715bd55ace"
      },
      "execution_count": null,
      "outputs": [
        {
          "output_type": "stream",
          "name": "stdout",
          "text": [
            "\n",
            " Best estimator:\n",
            "XGBClassifier(learning_rate=0.05, max_depth=8, n_estimators=180, nthread=4,\n",
            "              seed=42)\n"
          ]
        }
      ]
    },
    {
      "cell_type": "code",
      "source": [
        "print('\\n Best hyperparameters:')\n",
        "print(xg_randomcv.best_params_)"
      ],
      "metadata": {
        "colab": {
          "base_uri": "https://localhost:8080/"
        },
        "id": "kPQFrGOS8bai",
        "outputId": "f7f13b34-eeb9-4e98-bab8-b114dfbe17be"
      },
      "execution_count": null,
      "outputs": [
        {
          "output_type": "stream",
          "name": "stdout",
          "text": [
            "\n",
            " Best hyperparameters:\n",
            "{'n_estimators': 180, 'max_depth': 8, 'learning_rate': 0.05}\n"
          ]
        }
      ]
    },
    {
      "cell_type": "code",
      "source": [
        "from xgboost import XGBClassifier\n",
        "xg = XGBClassifier(n_estimators = 180, max_depth = 8, learning_rate = 0.05)\n",
        "xg.fit(X_train, y_train)"
      ],
      "metadata": {
        "colab": {
          "base_uri": "https://localhost:8080/"
        },
        "id": "m8YBs3t18mXF",
        "outputId": "e5f92a0b-4358-4818-819e-ab31dc39df50"
      },
      "execution_count": null,
      "outputs": [
        {
          "output_type": "execute_result",
          "data": {
            "text/plain": [
              "XGBClassifier(learning_rate=0.05, max_depth=8, n_estimators=180)"
            ]
          },
          "metadata": {},
          "execution_count": 72
        }
      ]
    },
    {
      "cell_type": "code",
      "source": [
        "y_pred_xg = xg.predict(X_test)\n",
        "model_report(y_test, y_pred_xg)"
      ],
      "metadata": {
        "colab": {
          "base_uri": "https://localhost:8080/"
        },
        "id": "rue7TUSC8tdl",
        "outputId": "7b18909a-344c-47e6-d274-71088273019b"
      },
      "execution_count": null,
      "outputs": [
        {
          "output_type": "stream",
          "name": "stdout",
          "text": [
            "Accuracy =  1.0\n",
            "Precision =  1.0\n",
            "Recall\\Sensitivity =  1.0\n",
            "Specificity =  1.0\n",
            "F1 Score =  1.0\n",
            "AUC Score = 1.0\n",
            "Kappa score =  1.0\n",
            "Log Loss =  9.992007221626415e-16 \n",
            "\n"
          ]
        }
      ]
    },
    {
      "cell_type": "code",
      "source": [
        "title = \"Learning Curves (XGBClassifier)\"                                        # fill this in\n",
        "cv = ShuffleSplit(n_splits=5, test_size=0.2, random_state=42)\n",
        "xg = XGBClassifier(n_estimators = 140, max_depth = 2, learning_rate = 0.01)                             # fill this in\n",
        "plot_learning_curve(xg, title, X, y, ylim=(0.2, 1.25), cv=cv, n_jobs=4)\n",
        "plt.savefig('XG_curve.pdf', transparent=True, dpi=300)\n",
        "plt.savefig('XG_curve.eps', transparent=True, dpi=300)\n",
        "plt.show()"
      ],
      "metadata": {
        "colab": {
          "base_uri": "https://localhost:8080/",
          "height": 434
        },
        "id": "sCgfpA-PGaLb",
        "outputId": "77e16002-82d2-4ff9-91e2-761919a26660"
      },
      "execution_count": null,
      "outputs": [
        {
          "output_type": "stream",
          "name": "stderr",
          "text": [
            "WARNING:matplotlib.backends.backend_ps:The PostScript backend does not support transparency; partially transparent artists will be rendered opaque.\n",
            "WARNING:matplotlib.backends.backend_ps:The PostScript backend does not support transparency; partially transparent artists will be rendered opaque.\n",
            "WARNING:matplotlib.backends.backend_ps:The PostScript backend does not support transparency; partially transparent artists will be rendered opaque.\n",
            "WARNING:matplotlib.backends.backend_ps:The PostScript backend does not support transparency; partially transparent artists will be rendered opaque.\n",
            "WARNING:matplotlib.backends.backend_ps:The PostScript backend does not support transparency; partially transparent artists will be rendered opaque.\n",
            "WARNING:matplotlib.backends.backend_ps:The PostScript backend does not support transparency; partially transparent artists will be rendered opaque.\n",
            "WARNING:matplotlib.backends.backend_ps:The PostScript backend does not support transparency; partially transparent artists will be rendered opaque.\n",
            "WARNING:matplotlib.backends.backend_ps:The PostScript backend does not support transparency; partially transparent artists will be rendered opaque.\n"
          ]
        },
        {
          "output_type": "display_data",
          "data": {
            "text/plain": [
              "<Figure size 432x288 with 1 Axes>"
            ],
            "image/png": "[encoded data removed]"
          },
          "metadata": {
            "needs_background": "light"
          }
        }
      ]
    },
    {
      "cell_type": "code",
      "source": [
        "from sklearn.metrics import confusion_matrix\n",
        "\n",
        "cm = confusion_matrix(y_test, y_pred_xg)\n",
        "plt.figure(figsize=(10, 8))\n",
        "ax = sns.heatmap(cm, cmap=plt.cm.Greens, annot=True, square=True, annot_kws={\"size\": 25})\n",
        "plt.title('Confusion Matrix', fontsize=20)\n",
        "ax.set_ylabel('Actual Label', fontsize=20)\n",
        "ax.set_xlabel('Predicted Label', fontsize=20)\n",
        "plt.savefig('XG_confusion.pdf', transparent=True, dpi=300)\n",
        "plt.savefig('XG_confusion.eps', transparent=True, dpi=300)"
      ],
      "metadata": {
        "colab": {
          "base_uri": "https://localhost:8080/",
          "height": 527
        },
        "id": "GDd_g0TWFQz2",
        "outputId": "40fa8ee4-84e4-4c3c-e202-89c0d521ef31"
      },
      "execution_count": null,
      "outputs": [
        {
          "output_type": "display_data",
          "data": {
            "text/plain": [
              "<Figure size 720x576 with 2 Axes>"
            ],
            "image/png": "[encoded data removed]"
          },
          "metadata": {
            "needs_background": "light"
          }
        }
      ]
    },
    {
      "cell_type": "markdown",
      "source": [
        "##LogisticRegression"
      ],
      "metadata": {
        "id": "ivb-fQU5BQHK"
      }
    },
    {
      "cell_type": "code",
      "source": [
        "from sklearn.linear_model import LogisticRegression\n",
        "\n",
        "grid_values = {'penalty': ['l1','l2'], \n",
        "               'C': [0.001,0.01,0.1,1,10,100,1000]}\n",
        "lr=LogisticRegression(random_state=42)\n",
        "lr_randomcv = RandomizedSearchCV(lr, param_distributions=grid_values, cv=5)\n",
        "#fit the randomized model\n",
        "lr_randomcv.fit(X_train,y_train)"
      ],
      "metadata": {
        "colab": {
          "base_uri": "https://localhost:8080/"
        },
        "id": "jUHpz4eV9DcU",
        "outputId": "e3e0b68d-cd93-4ca5-b7ff-0b48b5245a50"
      },
      "execution_count": null,
      "outputs": [
        {
          "output_type": "execute_result",
          "data": {
            "text/plain": [
              "RandomizedSearchCV(cv=5, estimator=LogisticRegression(random_state=42),\n",
              "                   param_distributions={'C': [0.001, 0.01, 0.1, 1, 10, 100,\n",
              "                                              1000],\n",
              "                                        'penalty': ['l1', 'l2']})"
            ]
          },
          "metadata": {},
          "execution_count": 76
        }
      ]
    },
    {
      "cell_type": "code",
      "source": [
        "print('\\n All results:')\n",
        "print(lr_randomcv.cv_results_)"
      ],
      "metadata": {
        "colab": {
          "base_uri": "https://localhost:8080/"
        },
        "id": "Sp1kSYKn9siE",
        "outputId": "a8560233-683e-4e8c-88ab-6d10a699e5c2"
      },
      "execution_count": null,
      "outputs": [
        {
          "output_type": "stream",
          "name": "stdout",
          "text": [
            "\n",
            " All results:\n",
            "{'mean_fit_time': array([0.00027113, 0.00018559, 0.02631159, 0.00019965, 0.00510626,\n",
            "       0.00018482, 0.00022044, 0.00608182, 0.02181668, 0.00018067]), 'std_fit_time': array([8.37730286e-05, 5.33803385e-05, 1.51085248e-03, 1.59356381e-05,\n",
            "       1.54827102e-03, 9.52171095e-06, 7.22213284e-05, 1.56414290e-04,\n",
            "       2.23407081e-03, 1.15276308e-05]), 'mean_score_time': array([0.        , 0.        , 0.00040326, 0.        , 0.00034127,\n",
            "       0.        , 0.        , 0.00035305, 0.00035782, 0.        ]), 'std_score_time': array([0.00000000e+00, 0.00000000e+00, 3.57979284e-05, 0.00000000e+00,\n",
            "       1.44699455e-05, 0.00000000e+00, 0.00000000e+00, 6.69680399e-06,\n",
            "       2.21959374e-05, 0.00000000e+00]), 'param_penalty': masked_array(data=['l1', 'l1', 'l2', 'l1', 'l2', 'l1', 'l1', 'l2', 'l2',\n",
            "                   'l1'],\n",
            "             mask=[False, False, False, False, False, False, False, False,\n",
            "                   False, False],\n",
            "       fill_value='?',\n",
            "            dtype=object), 'param_C': masked_array(data=[100, 0.001, 1000, 0.01, 0.01, 1000, 10, 0.1, 100, 1],\n",
            "             mask=[False, False, False, False, False, False, False, False,\n",
            "                   False, False],\n",
            "       fill_value='?',\n",
            "            dtype=object), 'params': [{'penalty': 'l1', 'C': 100}, {'penalty': 'l1', 'C': 0.001}, {'penalty': 'l2', 'C': 1000}, {'penalty': 'l1', 'C': 0.01}, {'penalty': 'l2', 'C': 0.01}, {'penalty': 'l1', 'C': 1000}, {'penalty': 'l1', 'C': 10}, {'penalty': 'l2', 'C': 0.1}, {'penalty': 'l2', 'C': 100}, {'penalty': 'l1', 'C': 1}], 'split0_test_score': array([       nan,        nan, 1.        ,        nan, 0.89361702,\n",
            "              nan,        nan, 0.93617021, 1.        ,        nan]), 'split1_test_score': array([       nan,        nan, 0.9787234 ,        nan, 0.93617021,\n",
            "              nan,        nan, 0.9787234 , 0.9787234 ,        nan]), 'split2_test_score': array([       nan,        nan, 0.95744681,        nan, 0.9787234 ,\n",
            "              nan,        nan, 1.        , 0.95744681,        nan]), 'split3_test_score': array([       nan,        nan, 0.97826087,        nan, 0.91304348,\n",
            "              nan,        nan, 0.93478261, 0.97826087,        nan]), 'split4_test_score': array([       nan,        nan, 1.        ,        nan, 0.93478261,\n",
            "              nan,        nan, 1.        , 1.        ,        nan]), 'mean_test_score': array([       nan,        nan, 0.98288622,        nan, 0.93126735,\n",
            "              nan,        nan, 0.96993525, 0.98288622,        nan]), 'std_test_score': array([       nan,        nan, 0.01594772,        nan, 0.02841876,\n",
            "              nan,        nan, 0.02919177, 0.01594772,        nan]), 'rank_test_score': array([ 5,  6,  1,  7,  4,  8,  9,  3,  1, 10], dtype=int32)}\n"
          ]
        }
      ]
    },
    {
      "cell_type": "code",
      "source": [
        "print('\\n Best estimator:')\n",
        "print(lr_randomcv.best_estimator_)"
      ],
      "metadata": {
        "colab": {
          "base_uri": "https://localhost:8080/"
        },
        "id": "m1cNwoaW94TD",
        "outputId": "8be51c8b-ec6b-4990-f8a7-747f5d4be21a"
      },
      "execution_count": null,
      "outputs": [
        {
          "output_type": "stream",
          "name": "stdout",
          "text": [
            "\n",
            " Best estimator:\n",
            "LogisticRegression(C=1000, random_state=42)\n"
          ]
        }
      ]
    },
    {
      "cell_type": "code",
      "source": [
        "print('\\n Best hyperparameters:')\n",
        "print(lr_randomcv.best_params_)"
      ],
      "metadata": {
        "colab": {
          "base_uri": "https://localhost:8080/"
        },
        "id": "KgU7Jkjn-B2I",
        "outputId": "363c93fb-2d32-47a1-98c6-1c4b8c1dade1"
      },
      "execution_count": null,
      "outputs": [
        {
          "output_type": "stream",
          "name": "stdout",
          "text": [
            "\n",
            " Best hyperparameters:\n",
            "{'penalty': 'l2', 'C': 1000}\n"
          ]
        }
      ]
    },
    {
      "cell_type": "code",
      "source": [
        "from sklearn.linear_model import LogisticRegression\n",
        "lr = LogisticRegression(penalty = 'l2', C = 1000)\n",
        "lr.fit(X_train, y_train)"
      ],
      "metadata": {
        "colab": {
          "base_uri": "https://localhost:8080/"
        },
        "id": "WOeEsSXc-GnB",
        "outputId": "505e81fb-c545-4fd8-fba2-6ee1493d33e5"
      },
      "execution_count": null,
      "outputs": [
        {
          "output_type": "execute_result",
          "data": {
            "text/plain": [
              "LogisticRegression(C=1000)"
            ]
          },
          "metadata": {},
          "execution_count": 80
        }
      ]
    },
    {
      "cell_type": "code",
      "source": [
        "y_pred_lr = lr.predict(X_test)\n",
        "model_report(y_test, y_pred_lr)"
      ],
      "metadata": {
        "colab": {
          "base_uri": "https://localhost:8080/"
        },
        "id": "GrrOwv-MAcRP",
        "outputId": "9f4b56a5-2b88-4d55-a417-149f45eba337"
      },
      "execution_count": null,
      "outputs": [
        {
          "output_type": "stream",
          "name": "stdout",
          "text": [
            "Accuracy =  1.0\n",
            "Precision =  1.0\n",
            "Recall\\Sensitivity =  1.0\n",
            "Specificity =  1.0\n",
            "F1 Score =  1.0\n",
            "AUC Score = 1.0\n",
            "Kappa score =  1.0\n",
            "Log Loss =  9.992007221626415e-16 \n",
            "\n"
          ]
        }
      ]
    },
    {
      "cell_type": "code",
      "source": [
        "title = \"Learning Curves (LogisticRegression)\"                                        # fill this in\n",
        "cv = ShuffleSplit(n_splits=5, test_size=0.2, random_state=42)\n",
        "lr = LogisticRegression(penalty = 'l2', C = 1000)                            # fill this in\n",
        "plot_learning_curve(lr, title, X, y, ylim=(0.2, 1.25), cv=cv, n_jobs=4)\n",
        "plt.savefig('LR_curve.pdf', transparent=True, dpi=300)\n",
        "plt.savefig('LR_curve.eps', transparent=True, dpi=300)\n",
        "plt.show()"
      ],
      "metadata": {
        "colab": {
          "base_uri": "https://localhost:8080/",
          "height": 434
        },
        "id": "xHguqe64G2lV",
        "outputId": "db20624e-1821-4764-ef49-666b8b58d3e2"
      },
      "execution_count": null,
      "outputs": [
        {
          "output_type": "stream",
          "name": "stderr",
          "text": [
            "WARNING:matplotlib.backends.backend_ps:The PostScript backend does not support transparency; partially transparent artists will be rendered opaque.\n",
            "WARNING:matplotlib.backends.backend_ps:The PostScript backend does not support transparency; partially transparent artists will be rendered opaque.\n",
            "WARNING:matplotlib.backends.backend_ps:The PostScript backend does not support transparency; partially transparent artists will be rendered opaque.\n",
            "WARNING:matplotlib.backends.backend_ps:The PostScript backend does not support transparency; partially transparent artists will be rendered opaque.\n",
            "WARNING:matplotlib.backends.backend_ps:The PostScript backend does not support transparency; partially transparent artists will be rendered opaque.\n",
            "WARNING:matplotlib.backends.backend_ps:The PostScript backend does not support transparency; partially transparent artists will be rendered opaque.\n",
            "WARNING:matplotlib.backends.backend_ps:The PostScript backend does not support transparency; partially transparent artists will be rendered opaque.\n",
            "WARNING:matplotlib.backends.backend_ps:The PostScript backend does not support transparency; partially transparent artists will be rendered opaque.\n"
          ]
        },
        {
          "output_type": "display_data",
          "data": {
            "text/plain": [
              "<Figure size 432x288 with 1 Axes>"
            ],
            "image/png": "[encoded data removed]"
          },
          "metadata": {
            "needs_background": "light"
          }
        }
      ]
    },
    {
      "cell_type": "code",
      "source": [
        "from sklearn.metrics import confusion_matrix\n",
        "\n",
        "cm = confusion_matrix(y_test, y_pred_lr)\n",
        "plt.figure(figsize=(10, 8))\n",
        "ax = sns.heatmap(cm, cmap=plt.cm.Greens, annot=True, square=True, annot_kws={\"size\": 25})\n",
        "plt.title('Confusion Matrix', fontsize=20)\n",
        "ax.set_ylabel('Actual Label', fontsize=20)\n",
        "ax.set_xlabel('Predicted Label', fontsize=20)\n",
        "plt.savefig('LR_confusion.pdf', transparent=True, dpi=300)\n",
        "plt.savefig('LR_confusion.eps', transparent=True, dpi=300)"
      ],
      "metadata": {
        "colab": {
          "base_uri": "https://localhost:8080/",
          "height": 527
        },
        "id": "bAq4bukgAjA-",
        "outputId": "96b50cc0-36ec-4e09-a960-26adfa2659e3"
      },
      "execution_count": null,
      "outputs": [
        {
          "output_type": "display_data",
          "data": {
            "text/plain": [
              "<Figure size 720x576 with 2 Axes>"
            ],
            "image/png": "[encoded data removed]"
          },
          "metadata": {
            "needs_background": "light"
          }
        }
      ]
    },
    {
      "cell_type": "code",
      "source": [
        "from sklearn.metrics import roc_curve\n",
        "\n",
        "# Compute fpr, tpr, thresholds and roc auc\n",
        "fpr_DT, tpr_DT, thresholds = roc_curve(y_test, y_pred_dt)\n",
        "fpr_knn, tpr_knn, thresholds_knn = roc_curve(y_test, y_pred_knn)\n",
        "fpr_LR, tpr_LR, thresholds_LR = roc_curve(y_test, y_pred_lr)\n",
        "fpr_svc, tpr_svc, thresholds_svc = roc_curve(y_test, y_pred_svc)\n",
        "fpr_rf, tpr_rf, thresholds_rf = roc_curve(y_test, y_pred_rf)\n",
        "fpr_xg, tpr_xg, thresholds_xg = roc_curve(y_test, y_pred_xg)"
      ],
      "metadata": {
        "id": "ldxQ3z-EF4uG"
      },
      "execution_count": null,
      "outputs": []
    },
    {
      "cell_type": "code",
      "source": [
        "from sklearn.metrics import auc\n",
        "\n",
        "roc_auc_DT = auc(fpr_DT, tpr_DT)\n",
        "roc_auc_knn = auc(fpr_knn, tpr_knn)\n",
        "roc_auc_LR = auc(fpr_LR, tpr_LR)\n",
        "roc_auc_svc = auc(fpr_svc, tpr_svc)\n",
        "roc_auc_rf = auc(fpr_rf, tpr_rf)\n",
        "roc_auc_xg = auc(fpr_xg, tpr_xg)"
      ],
      "metadata": {
        "id": "V80-aLiWHnRa"
      },
      "execution_count": null,
      "outputs": []
    },
    {
      "cell_type": "code",
      "source": [
        "from sklearn.metrics import roc_curve\n",
        "from sklearn.metrics import auc\n",
        "\n",
        "# Compute fpr, tpr, thresholds and roc auc\n",
        "plt.figure(figsize = (7, 5))\n",
        "plt.plot(fpr_knn, tpr_knn, label='KNN ROC curve (area = %0.3f)' % roc_auc_knn)\n",
        "plt.plot(fpr_LR, tpr_LR, label='LR ROC curve (area = %0.3f)' % roc_auc_LR)\n",
        "plt.plot(fpr_svc, tpr_svc, label='SVM ROC curve (area = %0.3f)' % roc_auc_svc)\n",
        "plt.plot(fpr_DT, tpr_DT, label='DT ROC curve (area = %0.3f)' % roc_auc_DT)\n",
        "plt.plot(fpr_rf, tpr_rf, label='RF ROC curve (area = %0.3f)' % roc_auc_rf)\n",
        "plt.plot(fpr_xg, tpr_xg, label='XGB ROC curve (area = %0.3f)' % roc_auc_xg)\n",
        "plt.plot([0, 1], [0, 1], 'k--')\n",
        "plt.xlabel('False Positive Rate')\n",
        "plt.ylabel('True Positive Rate')\n",
        "plt.title('Receiver Operating Characteristic for 80%-20% Splitting')\n",
        "plt.legend(loc=\"lower right\")\n",
        "plt.savefig('all_roc.pdf', transparent=True, dpi=300)\n",
        "plt.savefig('all_roc.eps', transparent=True, dpi=300)\n",
        "plt.show()"
      ],
      "metadata": {
        "colab": {
          "base_uri": "https://localhost:8080/",
          "height": 385
        },
        "id": "4oOY-1soHaPz",
        "outputId": "67a25d81-bb82-4823-e7b9-a9678dad2402"
      },
      "execution_count": null,
      "outputs": [
        {
          "output_type": "stream",
          "name": "stderr",
          "text": [
            "WARNING:matplotlib.backends.backend_ps:The PostScript backend does not support transparency; partially transparent artists will be rendered opaque.\n",
            "WARNING:matplotlib.backends.backend_ps:The PostScript backend does not support transparency; partially transparent artists will be rendered opaque.\n"
          ]
        },
        {
          "output_type": "display_data",
          "data": {
            "text/plain": [
              "<Figure size 504x360 with 1 Axes>"
            ],
            "image/png": "[encoded data removed]"
          },
          "metadata": {
            "needs_background": "light"
          }
        }
      ]
    },
    {
      "cell_type": "code",
      "source": [
        "from sklearn.feature_selection import SelectKBest \n",
        "from sklearn.feature_selection import chi2  \n",
        "# 700 features with highest chi-squared statistics are selected \n",
        "chi2_features = SelectKBest(chi2,k=20)\n",
        "X = chi2_features.fit_transform(features, target)\n",
        "y = target\n",
        "\n",
        "from sklearn.ensemble import RandomForestClassifier\n",
        "\n",
        "model = RandomForestClassifier(random_state=0)\n",
        "model.fit(X_train, y_train)"
      ],
      "metadata": {
        "colab": {
          "base_uri": "https://localhost:8080/"
        },
        "id": "u7OqkAn4Norq",
        "outputId": "aa9b0fb5-b6ea-40f5-80a7-1a0897511d8b"
      },
      "execution_count": null,
      "outputs": [
        {
          "output_type": "execute_result",
          "data": {
            "text/plain": [
              "RandomForestClassifier(random_state=0)"
            ]
          },
          "metadata": {},
          "execution_count": 87
        }
      ]
    },
    {
      "cell_type": "code",
      "source": [
        "importance = pd.DataFrame(model.feature_importances_)\n",
        "columns = pd.DataFrame(features.columns)\n",
        "featureScores = pd.concat([columns,importance],axis=1)\n",
        "featureScores.columns = ['Features','importance']\n",
        "print(featureScores.nlargest(25,'importance')) "
      ],
      "metadata": {
        "colab": {
          "base_uri": "https://localhost:8080/"
        },
        "id": "5yd57TYiO27V",
        "outputId": "24cf2bfb-14e7-4849-acdd-c13fb7438c42"
      },
      "execution_count": null,
      "outputs": [
        {
          "output_type": "stream",
          "name": "stdout",
          "text": [
            "                      Features  importance\n",
            "11                      result    0.396377\n",
            "3                     A4_Score    0.086657\n",
            "8                     A9_Score    0.071758\n",
            "0                     A1_Score    0.059193\n",
            "9                    A10_Score    0.058027\n",
            "7                     A8_Score    0.050359\n",
            "2                     A3_Score    0.041572\n",
            "4                     A5_Score    0.030610\n",
            "10                    Age_Mons    0.024764\n",
            "6                     A7_Score    0.022654\n",
            "1                     A2_Score    0.019349\n",
            "5                     A6_Score    0.018752\n",
            "21       ethnicity_South Asian    0.009132\n",
            "22           ethnicity_Turkish    0.007211\n",
            "12                    gender_f    0.006861\n",
            "70  contry_of_res_Saudi Arabia    0.006268\n",
            "17            ethnicity_Latino    0.006033\n",
            "41         contry_of_res_Egypt    0.005997\n",
            "72   contry_of_res_South Korea    0.005225\n",
            "28   contry_of_res_Afghanistan    0.005218\n",
            "13                    gender_m    0.004832\n",
            "73        contry_of_res_Sweden    0.004685\n",
            "24                  jundice_no    0.004624\n",
            "23    ethnicity_White-European    0.004452\n",
            "19            ethnicity_Others    0.003921\n"
          ]
        }
      ]
    },
    {
      "cell_type": "code",
      "source": [
        "plt.figure(figsize=(20,7))\n",
        "featureScores.nlargest(25,'importance').plot(kind='barh')\n",
        "plt.title('Feature Importance')\n",
        "plt.savefig('feature_im_adult.pdf', \n",
        "           transparent=True, dpi=300)\n",
        "plt.savefig('feature_im_adult.eps', \n",
        "           transparent=True, dpi=300)"
      ],
      "metadata": {
        "colab": {
          "base_uri": "https://localhost:8080/",
          "height": 333
        },
        "id": "CkN0JzU_akse",
        "outputId": "833af05e-fa3e-4f37-9e70-afbd937563c2"
      },
      "execution_count": null,
      "outputs": [
        {
          "output_type": "stream",
          "name": "stderr",
          "text": [
            "WARNING:matplotlib.backends.backend_ps:The PostScript backend does not support transparency; partially transparent artists will be rendered opaque.\n",
            "WARNING:matplotlib.backends.backend_ps:The PostScript backend does not support transparency; partially transparent artists will be rendered opaque.\n"
          ]
        },
        {
          "output_type": "display_data",
          "data": {
            "text/plain": [
              "<Figure size 1440x504 with 0 Axes>"
            ]
          },
          "metadata": {}
        },
        {
          "output_type": "display_data",
          "data": {
            "text/plain": [
              "<Figure size 432x288 with 1 Axes>"
            ],
            "image/png": "[encoded data removed]"
          },
          "metadata": {
            "needs_background": "light"
          }
        }
      ]
    }
  ],
  "metadata": {
    "colab": {
      "provenance": [],
      "include_colab_link": true
    },
    "kernelspec": {
      "display_name": "Python 3",
      "language": "python",
      "name": "python3"
    },
    "language_info": {
      "codemirror_mode": {
        "name": "ipython",
        "version": 3
      },
      "file_extension": ".py",
      "mimetype": "text/x-python",
      "name": "python",
      "nbconvert_exporter": "python",
      "pygments_lexer": "ipython3",
      "version": "3.8.8"
    },
    "accelerator": "GPU",
    "gpuClass": "standard"
  },
  "nbformat": 4,
  "nbformat_minor": 0
}