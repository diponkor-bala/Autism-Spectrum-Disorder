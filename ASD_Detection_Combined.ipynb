{
  "cells": [
    {
      "cell_type": "markdown",
      "metadata": {
        "id": "view-in-github",
        "colab_type": "text"
      },
      "source": [
        "<a href=\"https://colab.research.google.com/github/bsaha205/asd/blob/main/ASD_Detection_Combined.ipynb\" target=\"_parent\"><img src=\"https://colab.research.google.com/assets/colab-badge.svg\" alt=\"Open In Colab\"/></a>"
      ]
    },
    {
      "cell_type": "code",
      "execution_count": null,
      "metadata": {
        "id": "mX0ekhHYE-5o",
        "colab": {
          "base_uri": "https://localhost:8080/"
        },
        "outputId": "dc7dfdf5-63d9-4d13-e605-b1cf2f9d1846"
      },
      "outputs": [
        {
          "output_type": "stream",
          "name": "stdout",
          "text": [
            "Mounted at /content/drive/\n"
          ]
        }
      ],
      "source": [
        "from google.colab import drive\n",
        "drive.mount('/content/drive/')"
      ]
    },
    {
      "cell_type": "code",
      "source": [
        "#necessary libraries\n",
        "import pandas as pd\n",
        "import numpy as np\n",
        "import seaborn as sns\n",
        "import matplotlib.pyplot as plt\n",
        "import plotly.express as px\n",
        "from plotly.subplots import make_subplots\n",
        "import plotly.graph_objects as go\n",
        "from sklearn.impute import SimpleImputer\n",
        "import warnings\n",
        "warnings.filterwarnings('ignore')"
      ],
      "metadata": {
        "id": "Ljb4krfFWtOl"
      },
      "execution_count": null,
      "outputs": []
    },
    {
      "cell_type": "code",
      "execution_count": null,
      "metadata": {
        "id": "ickOJDvTUibO"
      },
      "outputs": [],
      "source": [
        "#loading dataset\n",
        "ch = pd.read_csv(\"/content/drive/MyDrive/Autism_disorder/Autism-Child-Data.csv\",na_values=['?'])\n",
        "adu = pd.read_csv(\"/content/drive/MyDrive/Autism_disorder/Autism-Adult-Data.csv\",na_values=['?'])"
      ]
    },
    {
      "cell_type": "code",
      "execution_count": null,
      "metadata": {
        "colab": {
          "base_uri": "https://localhost:8080/",
          "height": 386
        },
        "id": "5xTbex5RgyIS",
        "outputId": "256637e5-48bb-44c6-aa40-580e82112f5b"
      },
      "outputs": [
        {
          "output_type": "execute_result",
          "data": {
            "text/plain": [
              "      id  A1_Score  A2_Score  A3_Score  A4_Score  A5_Score  A6_Score  \\\n",
              "20    21         1         1         1         1         1         1   \n",
              "6      7         1         0         1         1         1         1   \n",
              "97    98         1         1         1         1         1         0   \n",
              "165  166         1         0         0         0         1         1   \n",
              "116  117         1         1         1         1         1         1   \n",
              "\n",
              "     A7_Score  A8_Score  A9_Score  ...  gender       ethnicity jundice austim  \\\n",
              "20          1         0         1  ...       m  White-European     yes     no   \n",
              "6           0         1         0  ...       m  White-European      no     no   \n",
              "97          1         0         1  ...       m  White-European      no     no   \n",
              "165         1         0         0  ...       f          Others      no     no   \n",
              "116         1         0         1  ...       f           Asian      no     no   \n",
              "\n",
              "      contry_of_res used_app_before result    age_desc  relation Class/ASD  \n",
              "20     South Africa              no      8  4-11 years    Parent       YES  \n",
              "6    United Kingdom              no      7  4-11 years    Parent       YES  \n",
              "97        Australia              no      8  4-11 years    Parent       YES  \n",
              "165       Australia              no      5  4-11 years      Self        NO  \n",
              "116   United States              no      9  4-11 years    Parent       YES  \n",
              "\n",
              "[5 rows x 22 columns]"
            ],
            "text/html": [
              "\n",
              "  <div id=\"df-882e0eb0-a36a-4228-859d-90ca75e62e46\">\n",
              "    <div class=\"colab-df-container\">\n",
              "      <div>\n",
              "<style scoped>\n",
              "    .dataframe tbody tr th:only-of-type {\n",
              "        vertical-align: middle;\n",
              "    }\n",
              "\n",
              "    .dataframe tbody tr th {\n",
              "        vertical-align: top;\n",
              "    }\n",
              "\n",
              "    .dataframe thead th {\n",
              "        text-align: right;\n",
              "    }\n",
              "</style>\n",
              "<table border=\"1\" class=\"dataframe\">\n",
              "  <thead>\n",
              "    <tr style=\"text-align: right;\">\n",
              "      <th></th>\n",
              "      <th>id</th>\n",
              "      <th>A1_Score</th>\n",
              "      <th>A2_Score</th>\n",
              "      <th>A3_Score</th>\n",
              "      <th>A4_Score</th>\n",
              "      <th>A5_Score</th>\n",
              "      <th>A6_Score</th>\n",
              "      <th>A7_Score</th>\n",
              "      <th>A8_Score</th>\n",
              "      <th>A9_Score</th>\n",
              "      <th>...</th>\n",
              "      <th>gender</th>\n",
              "      <th>ethnicity</th>\n",
              "      <th>jundice</th>\n",
              "      <th>austim</th>\n",
              "      <th>contry_of_res</th>\n",
              "      <th>used_app_before</th>\n",
              "      <th>result</th>\n",
              "      <th>age_desc</th>\n",
              "      <th>relation</th>\n",
              "      <th>Class/ASD</th>\n",
              "    </tr>\n",
              "  </thead>\n",
              "  <tbody>\n",
              "    <tr>\n",
              "      <th>20</th>\n",
              "      <td>21</td>\n",
              "      <td>1</td>\n",
              "      <td>1</td>\n",
              "      <td>1</td>\n",
              "      <td>1</td>\n",
              "      <td>1</td>\n",
              "      <td>1</td>\n",
              "      <td>1</td>\n",
              "      <td>0</td>\n",
              "      <td>1</td>\n",
              "      <td>...</td>\n",
              "      <td>m</td>\n",
              "      <td>White-European</td>\n",
              "      <td>yes</td>\n",
              "      <td>no</td>\n",
              "      <td>South Africa</td>\n",
              "      <td>no</td>\n",
              "      <td>8</td>\n",
              "      <td>4-11 years</td>\n",
              "      <td>Parent</td>\n",
              "      <td>YES</td>\n",
              "    </tr>\n",
              "    <tr>\n",
              "      <th>6</th>\n",
              "      <td>7</td>\n",
              "      <td>1</td>\n",
              "      <td>0</td>\n",
              "      <td>1</td>\n",
              "      <td>1</td>\n",
              "      <td>1</td>\n",
              "      <td>1</td>\n",
              "      <td>0</td>\n",
              "      <td>1</td>\n",
              "      <td>0</td>\n",
              "      <td>...</td>\n",
              "      <td>m</td>\n",
              "      <td>White-European</td>\n",
              "      <td>no</td>\n",
              "      <td>no</td>\n",
              "      <td>United Kingdom</td>\n",
              "      <td>no</td>\n",
              "      <td>7</td>\n",
              "      <td>4-11 years</td>\n",
              "      <td>Parent</td>\n",
              "      <td>YES</td>\n",
              "    </tr>\n",
              "    <tr>\n",
              "      <th>97</th>\n",
              "      <td>98</td>\n",
              "      <td>1</td>\n",
              "      <td>1</td>\n",
              "      <td>1</td>\n",
              "      <td>1</td>\n",
              "      <td>1</td>\n",
              "      <td>0</td>\n",
              "      <td>1</td>\n",
              "      <td>0</td>\n",
              "      <td>1</td>\n",
              "      <td>...</td>\n",
              "      <td>m</td>\n",
              "      <td>White-European</td>\n",
              "      <td>no</td>\n",
              "      <td>no</td>\n",
              "      <td>Australia</td>\n",
              "      <td>no</td>\n",
              "      <td>8</td>\n",
              "      <td>4-11 years</td>\n",
              "      <td>Parent</td>\n",
              "      <td>YES</td>\n",
              "    </tr>\n",
              "    <tr>\n",
              "      <th>165</th>\n",
              "      <td>166</td>\n",
              "      <td>1</td>\n",
              "      <td>0</td>\n",
              "      <td>0</td>\n",
              "      <td>0</td>\n",
              "      <td>1</td>\n",
              "      <td>1</td>\n",
              "      <td>1</td>\n",
              "      <td>0</td>\n",
              "      <td>0</td>\n",
              "      <td>...</td>\n",
              "      <td>f</td>\n",
              "      <td>Others</td>\n",
              "      <td>no</td>\n",
              "      <td>no</td>\n",
              "      <td>Australia</td>\n",
              "      <td>no</td>\n",
              "      <td>5</td>\n",
              "      <td>4-11 years</td>\n",
              "      <td>Self</td>\n",
              "      <td>NO</td>\n",
              "    </tr>\n",
              "    <tr>\n",
              "      <th>116</th>\n",
              "      <td>117</td>\n",
              "      <td>1</td>\n",
              "      <td>1</td>\n",
              "      <td>1</td>\n",
              "      <td>1</td>\n",
              "      <td>1</td>\n",
              "      <td>1</td>\n",
              "      <td>1</td>\n",
              "      <td>0</td>\n",
              "      <td>1</td>\n",
              "      <td>...</td>\n",
              "      <td>f</td>\n",
              "      <td>Asian</td>\n",
              "      <td>no</td>\n",
              "      <td>no</td>\n",
              "      <td>United States</td>\n",
              "      <td>no</td>\n",
              "      <td>9</td>\n",
              "      <td>4-11 years</td>\n",
              "      <td>Parent</td>\n",
              "      <td>YES</td>\n",
              "    </tr>\n",
              "  </tbody>\n",
              "</table>\n",
              "<p>5 rows × 22 columns</p>\n",
              "</div>\n",
              "      <button class=\"colab-df-convert\" onclick=\"convertToInteractive('df-882e0eb0-a36a-4228-859d-90ca75e62e46')\"\n",
              "              title=\"Convert this dataframe to an interactive table.\"\n",
              "              style=\"display:none;\">\n",
              "        \n",
              "  <svg xmlns=\"http://www.w3.org/2000/svg\" height=\"24px\"viewBox=\"0 0 24 24\"\n",
              "       width=\"24px\">\n",
              "    <path d=\"M0 0h24v24H0V0z\" fill=\"none\"/>\n",
              "    <path d=\"M18.56 5.44l.94 2.06.94-2.06 2.06-.94-2.06-.94-.94-2.06-.94 2.06-2.06.94zm-11 1L8.5 8.5l.94-2.06 2.06-.94-2.06-.94L8.5 2.5l-.94 2.06-2.06.94zm10 10l.94 2.06.94-2.06 2.06-.94-2.06-.94-.94-2.06-.94 2.06-2.06.94z\"/><path d=\"M17.41 7.96l-1.37-1.37c-.4-.4-.92-.59-1.43-.59-.52 0-1.04.2-1.43.59L10.3 9.45l-7.72 7.72c-.78.78-.78 2.05 0 2.83L4 21.41c.39.39.9.59 1.41.59.51 0 1.02-.2 1.41-.59l7.78-7.78 2.81-2.81c.8-.78.8-2.07 0-2.86zM5.41 20L4 18.59l7.72-7.72 1.47 1.35L5.41 20z\"/>\n",
              "  </svg>\n",
              "      </button>\n",
              "      \n",
              "  <style>\n",
              "    .colab-df-container {\n",
              "      display:flex;\n",
              "      flex-wrap:wrap;\n",
              "      gap: 12px;\n",
              "    }\n",
              "\n",
              "    .colab-df-convert {\n",
              "      background-color: #E8F0FE;\n",
              "      border: none;\n",
              "      border-radius: 50%;\n",
              "      cursor: pointer;\n",
              "      display: none;\n",
              "      fill: #1967D2;\n",
              "      height: 32px;\n",
              "      padding: 0 0 0 0;\n",
              "      width: 32px;\n",
              "    }\n",
              "\n",
              "    .colab-df-convert:hover {\n",
              "      background-color: #E2EBFA;\n",
              "      box-shadow: 0px 1px 2px rgba(60, 64, 67, 0.3), 0px 1px 3px 1px rgba(60, 64, 67, 0.15);\n",
              "      fill: #174EA6;\n",
              "    }\n",
              "\n",
              "    [theme=dark] .colab-df-convert {\n",
              "      background-color: #3B4455;\n",
              "      fill: #D2E3FC;\n",
              "    }\n",
              "\n",
              "    [theme=dark] .colab-df-convert:hover {\n",
              "      background-color: #434B5C;\n",
              "      box-shadow: 0px 1px 3px 1px rgba(0, 0, 0, 0.15);\n",
              "      filter: drop-shadow(0px 1px 2px rgba(0, 0, 0, 0.3));\n",
              "      fill: #FFFFFF;\n",
              "    }\n",
              "  </style>\n",
              "\n",
              "      <script>\n",
              "        const buttonEl =\n",
              "          document.querySelector('#df-882e0eb0-a36a-4228-859d-90ca75e62e46 button.colab-df-convert');\n",
              "        buttonEl.style.display =\n",
              "          google.colab.kernel.accessAllowed ? 'block' : 'none';\n",
              "\n",
              "        async function convertToInteractive(key) {\n",
              "          const element = document.querySelector('#df-882e0eb0-a36a-4228-859d-90ca75e62e46');\n",
              "          const dataTable =\n",
              "            await google.colab.kernel.invokeFunction('convertToInteractive',\n",
              "                                                     [key], {});\n",
              "          if (!dataTable) return;\n",
              "\n",
              "          const docLinkHtml = 'Like what you see? Visit the ' +\n",
              "            '<a target=\"_blank\" href=https://colab.research.google.com/notebooks/data_table.ipynb>data table notebook</a>'\n",
              "            + ' to learn more about interactive tables.';\n",
              "          element.innerHTML = '';\n",
              "          dataTable['output_type'] = 'display_data';\n",
              "          await google.colab.output.renderOutput(dataTable, element);\n",
              "          const docLink = document.createElement('div');\n",
              "          docLink.innerHTML = docLinkHtml;\n",
              "          element.appendChild(docLink);\n",
              "        }\n",
              "      </script>\n",
              "    </div>\n",
              "  </div>\n",
              "  "
            ]
          },
          "metadata": {},
          "execution_count": 4
        }
      ],
      "source": [
        "#Children\n",
        "ch.sample(5)"
      ]
    },
    {
      "cell_type": "code",
      "source": [
        "#Adults\n",
        "adu.sample(5)"
      ],
      "metadata": {
        "colab": {
          "base_uri": "https://localhost:8080/",
          "height": 386
        },
        "id": "phhl-DZrj05c",
        "outputId": "a473bfc9-4152-4675-8bd4-0b6585662b23"
      },
      "execution_count": null,
      "outputs": [
        {
          "output_type": "execute_result",
          "data": {
            "text/plain": [
              "      id  A1_Score  A2_Score  A3_Score  A4_Score  A5_Score  A6_Score  \\\n",
              "598  599         1         0         0         0         0         0   \n",
              "322  323         1         1         1         0         1         1   \n",
              "218  219         1         1         0         1         1         0   \n",
              "593  594         1         0         0         0         0         0   \n",
              "561  562         1         0         0         1         1         1   \n",
              "\n",
              "     A7_Score  A8_Score  A9_Score  ...  gender        ethnicity jundice  \\\n",
              "598         0         1         0  ...       f      South Asian      no   \n",
              "322         1         1         0  ...       m  Middle Eastern       no   \n",
              "218         1         1         0  ...       m   White-European      no   \n",
              "593         0         0         0  ...       m              NaN      no   \n",
              "561         1         1         1  ...       m            Black      no   \n",
              "\n",
              "    austim         contry_of_res used_app_before result     age_desc  \\\n",
              "598     no                 India              no      3  18 and more   \n",
              "322     no  United Arab Emirates              no      8  18 and more   \n",
              "218     no            Bangladesh              no      7  18 and more   \n",
              "593     no                Russia              no      1  18 and more   \n",
              "561     no         United States              no      8  18 and more   \n",
              "\n",
              "     relation Class/ASD  \n",
              "598      Self        NO  \n",
              "322      Self       YES  \n",
              "218      Self       YES  \n",
              "593       NaN        NO  \n",
              "561      Self       YES  \n",
              "\n",
              "[5 rows x 22 columns]"
            ],
            "text/html": [
              "\n",
              "  <div id=\"df-e29f80d6-9a29-4670-ab2a-589938541eed\">\n",
              "    <div class=\"colab-df-container\">\n",
              "      <div>\n",
              "<style scoped>\n",
              "    .dataframe tbody tr th:only-of-type {\n",
              "        vertical-align: middle;\n",
              "    }\n",
              "\n",
              "    .dataframe tbody tr th {\n",
              "        vertical-align: top;\n",
              "    }\n",
              "\n",
              "    .dataframe thead th {\n",
              "        text-align: right;\n",
              "    }\n",
              "</style>\n",
              "<table border=\"1\" class=\"dataframe\">\n",
              "  <thead>\n",
              "    <tr style=\"text-align: right;\">\n",
              "      <th></th>\n",
              "      <th>id</th>\n",
              "      <th>A1_Score</th>\n",
              "      <th>A2_Score</th>\n",
              "      <th>A3_Score</th>\n",
              "      <th>A4_Score</th>\n",
              "      <th>A5_Score</th>\n",
              "      <th>A6_Score</th>\n",
              "      <th>A7_Score</th>\n",
              "      <th>A8_Score</th>\n",
              "      <th>A9_Score</th>\n",
              "      <th>...</th>\n",
              "      <th>gender</th>\n",
              "      <th>ethnicity</th>\n",
              "      <th>jundice</th>\n",
              "      <th>austim</th>\n",
              "      <th>contry_of_res</th>\n",
              "      <th>used_app_before</th>\n",
              "      <th>result</th>\n",
              "      <th>age_desc</th>\n",
              "      <th>relation</th>\n",
              "      <th>Class/ASD</th>\n",
              "    </tr>\n",
              "  </thead>\n",
              "  <tbody>\n",
              "    <tr>\n",
              "      <th>598</th>\n",
              "      <td>599</td>\n",
              "      <td>1</td>\n",
              "      <td>0</td>\n",
              "      <td>0</td>\n",
              "      <td>0</td>\n",
              "      <td>0</td>\n",
              "      <td>0</td>\n",
              "      <td>0</td>\n",
              "      <td>1</td>\n",
              "      <td>0</td>\n",
              "      <td>...</td>\n",
              "      <td>f</td>\n",
              "      <td>South Asian</td>\n",
              "      <td>no</td>\n",
              "      <td>no</td>\n",
              "      <td>India</td>\n",
              "      <td>no</td>\n",
              "      <td>3</td>\n",
              "      <td>18 and more</td>\n",
              "      <td>Self</td>\n",
              "      <td>NO</td>\n",
              "    </tr>\n",
              "    <tr>\n",
              "      <th>322</th>\n",
              "      <td>323</td>\n",
              "      <td>1</td>\n",
              "      <td>1</td>\n",
              "      <td>1</td>\n",
              "      <td>0</td>\n",
              "      <td>1</td>\n",
              "      <td>1</td>\n",
              "      <td>1</td>\n",
              "      <td>1</td>\n",
              "      <td>0</td>\n",
              "      <td>...</td>\n",
              "      <td>m</td>\n",
              "      <td>Middle Eastern</td>\n",
              "      <td>no</td>\n",
              "      <td>no</td>\n",
              "      <td>United Arab Emirates</td>\n",
              "      <td>no</td>\n",
              "      <td>8</td>\n",
              "      <td>18 and more</td>\n",
              "      <td>Self</td>\n",
              "      <td>YES</td>\n",
              "    </tr>\n",
              "    <tr>\n",
              "      <th>218</th>\n",
              "      <td>219</td>\n",
              "      <td>1</td>\n",
              "      <td>1</td>\n",
              "      <td>0</td>\n",
              "      <td>1</td>\n",
              "      <td>1</td>\n",
              "      <td>0</td>\n",
              "      <td>1</td>\n",
              "      <td>1</td>\n",
              "      <td>0</td>\n",
              "      <td>...</td>\n",
              "      <td>m</td>\n",
              "      <td>White-European</td>\n",
              "      <td>no</td>\n",
              "      <td>no</td>\n",
              "      <td>Bangladesh</td>\n",
              "      <td>no</td>\n",
              "      <td>7</td>\n",
              "      <td>18 and more</td>\n",
              "      <td>Self</td>\n",
              "      <td>YES</td>\n",
              "    </tr>\n",
              "    <tr>\n",
              "      <th>593</th>\n",
              "      <td>594</td>\n",
              "      <td>1</td>\n",
              "      <td>0</td>\n",
              "      <td>0</td>\n",
              "      <td>0</td>\n",
              "      <td>0</td>\n",
              "      <td>0</td>\n",
              "      <td>0</td>\n",
              "      <td>0</td>\n",
              "      <td>0</td>\n",
              "      <td>...</td>\n",
              "      <td>m</td>\n",
              "      <td>NaN</td>\n",
              "      <td>no</td>\n",
              "      <td>no</td>\n",
              "      <td>Russia</td>\n",
              "      <td>no</td>\n",
              "      <td>1</td>\n",
              "      <td>18 and more</td>\n",
              "      <td>NaN</td>\n",
              "      <td>NO</td>\n",
              "    </tr>\n",
              "    <tr>\n",
              "      <th>561</th>\n",
              "      <td>562</td>\n",
              "      <td>1</td>\n",
              "      <td>0</td>\n",
              "      <td>0</td>\n",
              "      <td>1</td>\n",
              "      <td>1</td>\n",
              "      <td>1</td>\n",
              "      <td>1</td>\n",
              "      <td>1</td>\n",
              "      <td>1</td>\n",
              "      <td>...</td>\n",
              "      <td>m</td>\n",
              "      <td>Black</td>\n",
              "      <td>no</td>\n",
              "      <td>no</td>\n",
              "      <td>United States</td>\n",
              "      <td>no</td>\n",
              "      <td>8</td>\n",
              "      <td>18 and more</td>\n",
              "      <td>Self</td>\n",
              "      <td>YES</td>\n",
              "    </tr>\n",
              "  </tbody>\n",
              "</table>\n",
              "<p>5 rows × 22 columns</p>\n",
              "</div>\n",
              "      <button class=\"colab-df-convert\" onclick=\"convertToInteractive('df-e29f80d6-9a29-4670-ab2a-589938541eed')\"\n",
              "              title=\"Convert this dataframe to an interactive table.\"\n",
              "              style=\"display:none;\">\n",
              "        \n",
              "  <svg xmlns=\"http://www.w3.org/2000/svg\" height=\"24px\"viewBox=\"0 0 24 24\"\n",
              "       width=\"24px\">\n",
              "    <path d=\"M0 0h24v24H0V0z\" fill=\"none\"/>\n",
              "    <path d=\"M18.56 5.44l.94 2.06.94-2.06 2.06-.94-2.06-.94-.94-2.06-.94 2.06-2.06.94zm-11 1L8.5 8.5l.94-2.06 2.06-.94-2.06-.94L8.5 2.5l-.94 2.06-2.06.94zm10 10l.94 2.06.94-2.06 2.06-.94-2.06-.94-.94-2.06-.94 2.06-2.06.94z\"/><path d=\"M17.41 7.96l-1.37-1.37c-.4-.4-.92-.59-1.43-.59-.52 0-1.04.2-1.43.59L10.3 9.45l-7.72 7.72c-.78.78-.78 2.05 0 2.83L4 21.41c.39.39.9.59 1.41.59.51 0 1.02-.2 1.41-.59l7.78-7.78 2.81-2.81c.8-.78.8-2.07 0-2.86zM5.41 20L4 18.59l7.72-7.72 1.47 1.35L5.41 20z\"/>\n",
              "  </svg>\n",
              "      </button>\n",
              "      \n",
              "  <style>\n",
              "    .colab-df-container {\n",
              "      display:flex;\n",
              "      flex-wrap:wrap;\n",
              "      gap: 12px;\n",
              "    }\n",
              "\n",
              "    .colab-df-convert {\n",
              "      background-color: #E8F0FE;\n",
              "      border: none;\n",
              "      border-radius: 50%;\n",
              "      cursor: pointer;\n",
              "      display: none;\n",
              "      fill: #1967D2;\n",
              "      height: 32px;\n",
              "      padding: 0 0 0 0;\n",
              "      width: 32px;\n",
              "    }\n",
              "\n",
              "    .colab-df-convert:hover {\n",
              "      background-color: #E2EBFA;\n",
              "      box-shadow: 0px 1px 2px rgba(60, 64, 67, 0.3), 0px 1px 3px 1px rgba(60, 64, 67, 0.15);\n",
              "      fill: #174EA6;\n",
              "    }\n",
              "\n",
              "    [theme=dark] .colab-df-convert {\n",
              "      background-color: #3B4455;\n",
              "      fill: #D2E3FC;\n",
              "    }\n",
              "\n",
              "    [theme=dark] .colab-df-convert:hover {\n",
              "      background-color: #434B5C;\n",
              "      box-shadow: 0px 1px 3px 1px rgba(0, 0, 0, 0.15);\n",
              "      filter: drop-shadow(0px 1px 2px rgba(0, 0, 0, 0.3));\n",
              "      fill: #FFFFFF;\n",
              "    }\n",
              "  </style>\n",
              "\n",
              "      <script>\n",
              "        const buttonEl =\n",
              "          document.querySelector('#df-e29f80d6-9a29-4670-ab2a-589938541eed button.colab-df-convert');\n",
              "        buttonEl.style.display =\n",
              "          google.colab.kernel.accessAllowed ? 'block' : 'none';\n",
              "\n",
              "        async function convertToInteractive(key) {\n",
              "          const element = document.querySelector('#df-e29f80d6-9a29-4670-ab2a-589938541eed');\n",
              "          const dataTable =\n",
              "            await google.colab.kernel.invokeFunction('convertToInteractive',\n",
              "                                                     [key], {});\n",
              "          if (!dataTable) return;\n",
              "\n",
              "          const docLinkHtml = 'Like what you see? Visit the ' +\n",
              "            '<a target=\"_blank\" href=https://colab.research.google.com/notebooks/data_table.ipynb>data table notebook</a>'\n",
              "            + ' to learn more about interactive tables.';\n",
              "          element.innerHTML = '';\n",
              "          dataTable['output_type'] = 'display_data';\n",
              "          await google.colab.output.renderOutput(dataTable, element);\n",
              "          const docLink = document.createElement('div');\n",
              "          docLink.innerHTML = docLinkHtml;\n",
              "          element.appendChild(docLink);\n",
              "        }\n",
              "      </script>\n",
              "    </div>\n",
              "  </div>\n",
              "  "
            ]
          },
          "metadata": {},
          "execution_count": 5
        }
      ]
    },
    {
      "cell_type": "code",
      "execution_count": null,
      "metadata": {
        "colab": {
          "base_uri": "https://localhost:8080/"
        },
        "id": "cosybTKdI3Ur",
        "outputId": "d4c88360-041d-4aa4-a906-485cbe76975c"
      },
      "outputs": [
        {
          "output_type": "stream",
          "name": "stdout",
          "text": [
            "Children    : (292, 22)\n",
            "Adults      : (704, 22)\n"
          ]
        }
      ],
      "source": [
        "# Number of tuples and fields\n",
        "print(\"Children    :\",ch.shape)\n",
        "print(\"Adults      :\",adu.shape)"
      ]
    },
    {
      "cell_type": "code",
      "execution_count": null,
      "metadata": {
        "colab": {
          "base_uri": "https://localhost:8080/"
        },
        "id": "MXGaYqaxiNA8",
        "outputId": "cf326bf3-6089-44ca-e51f-b862db06f3b0"
      },
      "outputs": [
        {
          "output_type": "stream",
          "name": "stdout",
          "text": [
            "<class 'pandas.core.frame.DataFrame'>\n",
            "RangeIndex: 292 entries, 0 to 291\n",
            "Data columns (total 22 columns):\n",
            " #   Column           Non-Null Count  Dtype  \n",
            "---  ------           --------------  -----  \n",
            " 0   id               292 non-null    int64  \n",
            " 1   A1_Score         292 non-null    int64  \n",
            " 2   A2_Score         292 non-null    int64  \n",
            " 3   A3_Score         292 non-null    int64  \n",
            " 4   A4_Score         292 non-null    int64  \n",
            " 5   A5_Score         292 non-null    int64  \n",
            " 6   A6_Score         292 non-null    int64  \n",
            " 7   A7_Score         292 non-null    int64  \n",
            " 8   A8_Score         292 non-null    int64  \n",
            " 9   A9_Score         292 non-null    int64  \n",
            " 10  A10_Score        292 non-null    int64  \n",
            " 11  age              288 non-null    float64\n",
            " 12  gender           292 non-null    object \n",
            " 13  ethnicity        249 non-null    object \n",
            " 14  jundice          292 non-null    object \n",
            " 15  austim           292 non-null    object \n",
            " 16  contry_of_res    292 non-null    object \n",
            " 17  used_app_before  292 non-null    object \n",
            " 18  result           292 non-null    int64  \n",
            " 19  age_desc         292 non-null    object \n",
            " 20  relation         249 non-null    object \n",
            " 21  Class/ASD        292 non-null    object \n",
            "dtypes: float64(1), int64(12), object(9)\n",
            "memory usage: 50.3+ KB\n"
          ]
        }
      ],
      "source": [
        "#children\n",
        "ch.info()"
      ]
    },
    {
      "cell_type": "code",
      "source": [
        "#Adults\n",
        "adu.info()"
      ],
      "metadata": {
        "colab": {
          "base_uri": "https://localhost:8080/"
        },
        "id": "faNUBh77j9iL",
        "outputId": "20e12578-5529-4e74-8f83-10f8226b3e91"
      },
      "execution_count": null,
      "outputs": [
        {
          "output_type": "stream",
          "name": "stdout",
          "text": [
            "<class 'pandas.core.frame.DataFrame'>\n",
            "RangeIndex: 704 entries, 0 to 703\n",
            "Data columns (total 22 columns):\n",
            " #   Column           Non-Null Count  Dtype  \n",
            "---  ------           --------------  -----  \n",
            " 0   id               704 non-null    int64  \n",
            " 1   A1_Score         704 non-null    int64  \n",
            " 2   A2_Score         704 non-null    int64  \n",
            " 3   A3_Score         704 non-null    int64  \n",
            " 4   A4_Score         704 non-null    int64  \n",
            " 5   A5_Score         704 non-null    int64  \n",
            " 6   A6_Score         704 non-null    int64  \n",
            " 7   A7_Score         704 non-null    int64  \n",
            " 8   A8_Score         704 non-null    int64  \n",
            " 9   A9_Score         704 non-null    int64  \n",
            " 10  A10_Score        704 non-null    int64  \n",
            " 11  age              702 non-null    float64\n",
            " 12  gender           704 non-null    object \n",
            " 13  ethnicity        609 non-null    object \n",
            " 14  jundice          704 non-null    object \n",
            " 15  austim           704 non-null    object \n",
            " 16  contry_of_res    704 non-null    object \n",
            " 17  used_app_before  704 non-null    object \n",
            " 18  result           704 non-null    int64  \n",
            " 19  age_desc         704 non-null    object \n",
            " 20  relation         609 non-null    object \n",
            " 21  Class/ASD        704 non-null    object \n",
            "dtypes: float64(1), int64(12), object(9)\n",
            "memory usage: 121.1+ KB\n"
          ]
        }
      ]
    },
    {
      "cell_type": "code",
      "execution_count": null,
      "metadata": {
        "colab": {
          "base_uri": "https://localhost:8080/",
          "height": 300
        },
        "id": "uydTWHqYxuuL",
        "outputId": "b5ec6d80-a4ee-4ca2-8a72-a60c0d94f128"
      },
      "outputs": [
        {
          "output_type": "execute_result",
          "data": {
            "text/plain": [
              "               id    A1_Score    A2_Score    A3_Score    A4_Score    A5_Score  \\\n",
              "count  292.000000  292.000000  292.000000  292.000000  292.000000  292.000000   \n",
              "mean   146.500000    0.633562    0.534247    0.743151    0.551370    0.743151   \n",
              "std     84.437354    0.482658    0.499682    0.437646    0.498208    0.437646   \n",
              "min      1.000000    0.000000    0.000000    0.000000    0.000000    0.000000   \n",
              "25%     73.750000    0.000000    0.000000    0.000000    0.000000    0.000000   \n",
              "50%    146.500000    1.000000    1.000000    1.000000    1.000000    1.000000   \n",
              "75%    219.250000    1.000000    1.000000    1.000000    1.000000    1.000000   \n",
              "max    292.000000    1.000000    1.000000    1.000000    1.000000    1.000000   \n",
              "\n",
              "         A6_Score    A7_Score    A8_Score    A9_Score   A10_Score         age  \\\n",
              "count  292.000000  292.000000  292.000000  292.000000  292.000000  288.000000   \n",
              "mean     0.712329    0.606164    0.496575    0.493151    0.726027    6.354167   \n",
              "std      0.453454    0.489438    0.500847    0.500811    0.446761    2.365456   \n",
              "min      0.000000    0.000000    0.000000    0.000000    0.000000    4.000000   \n",
              "25%      0.000000    0.000000    0.000000    0.000000    0.000000    4.000000   \n",
              "50%      1.000000    1.000000    0.000000    0.000000    1.000000    6.000000   \n",
              "75%      1.000000    1.000000    1.000000    1.000000    1.000000    8.000000   \n",
              "max      1.000000    1.000000    1.000000    1.000000    1.000000   11.000000   \n",
              "\n",
              "           result  \n",
              "count  292.000000  \n",
              "mean     6.239726  \n",
              "std      2.284882  \n",
              "min      0.000000  \n",
              "25%      5.000000  \n",
              "50%      6.000000  \n",
              "75%      8.000000  \n",
              "max     10.000000  "
            ],
            "text/html": [
              "\n",
              "  <div id=\"df-94dd2a47-17f2-407d-896d-bd9ad0fe4b1e\">\n",
              "    <div class=\"colab-df-container\">\n",
              "      <div>\n",
              "<style scoped>\n",
              "    .dataframe tbody tr th:only-of-type {\n",
              "        vertical-align: middle;\n",
              "    }\n",
              "\n",
              "    .dataframe tbody tr th {\n",
              "        vertical-align: top;\n",
              "    }\n",
              "\n",
              "    .dataframe thead th {\n",
              "        text-align: right;\n",
              "    }\n",
              "</style>\n",
              "<table border=\"1\" class=\"dataframe\">\n",
              "  <thead>\n",
              "    <tr style=\"text-align: right;\">\n",
              "      <th></th>\n",
              "      <th>id</th>\n",
              "      <th>A1_Score</th>\n",
              "      <th>A2_Score</th>\n",
              "      <th>A3_Score</th>\n",
              "      <th>A4_Score</th>\n",
              "      <th>A5_Score</th>\n",
              "      <th>A6_Score</th>\n",
              "      <th>A7_Score</th>\n",
              "      <th>A8_Score</th>\n",
              "      <th>A9_Score</th>\n",
              "      <th>A10_Score</th>\n",
              "      <th>age</th>\n",
              "      <th>result</th>\n",
              "    </tr>\n",
              "  </thead>\n",
              "  <tbody>\n",
              "    <tr>\n",
              "      <th>count</th>\n",
              "      <td>292.000000</td>\n",
              "      <td>292.000000</td>\n",
              "      <td>292.000000</td>\n",
              "      <td>292.000000</td>\n",
              "      <td>292.000000</td>\n",
              "      <td>292.000000</td>\n",
              "      <td>292.000000</td>\n",
              "      <td>292.000000</td>\n",
              "      <td>292.000000</td>\n",
              "      <td>292.000000</td>\n",
              "      <td>292.000000</td>\n",
              "      <td>288.000000</td>\n",
              "      <td>292.000000</td>\n",
              "    </tr>\n",
              "    <tr>\n",
              "      <th>mean</th>\n",
              "      <td>146.500000</td>\n",
              "      <td>0.633562</td>\n",
              "      <td>0.534247</td>\n",
              "      <td>0.743151</td>\n",
              "      <td>0.551370</td>\n",
              "      <td>0.743151</td>\n",
              "      <td>0.712329</td>\n",
              "      <td>0.606164</td>\n",
              "      <td>0.496575</td>\n",
              "      <td>0.493151</td>\n",
              "      <td>0.726027</td>\n",
              "      <td>6.354167</td>\n",
              "      <td>6.239726</td>\n",
              "    </tr>\n",
              "    <tr>\n",
              "      <th>std</th>\n",
              "      <td>84.437354</td>\n",
              "      <td>0.482658</td>\n",
              "      <td>0.499682</td>\n",
              "      <td>0.437646</td>\n",
              "      <td>0.498208</td>\n",
              "      <td>0.437646</td>\n",
              "      <td>0.453454</td>\n",
              "      <td>0.489438</td>\n",
              "      <td>0.500847</td>\n",
              "      <td>0.500811</td>\n",
              "      <td>0.446761</td>\n",
              "      <td>2.365456</td>\n",
              "      <td>2.284882</td>\n",
              "    </tr>\n",
              "    <tr>\n",
              "      <th>min</th>\n",
              "      <td>1.000000</td>\n",
              "      <td>0.000000</td>\n",
              "      <td>0.000000</td>\n",
              "      <td>0.000000</td>\n",
              "      <td>0.000000</td>\n",
              "      <td>0.000000</td>\n",
              "      <td>0.000000</td>\n",
              "      <td>0.000000</td>\n",
              "      <td>0.000000</td>\n",
              "      <td>0.000000</td>\n",
              "      <td>0.000000</td>\n",
              "      <td>4.000000</td>\n",
              "      <td>0.000000</td>\n",
              "    </tr>\n",
              "    <tr>\n",
              "      <th>25%</th>\n",
              "      <td>73.750000</td>\n",
              "      <td>0.000000</td>\n",
              "      <td>0.000000</td>\n",
              "      <td>0.000000</td>\n",
              "      <td>0.000000</td>\n",
              "      <td>0.000000</td>\n",
              "      <td>0.000000</td>\n",
              "      <td>0.000000</td>\n",
              "      <td>0.000000</td>\n",
              "      <td>0.000000</td>\n",
              "      <td>0.000000</td>\n",
              "      <td>4.000000</td>\n",
              "      <td>5.000000</td>\n",
              "    </tr>\n",
              "    <tr>\n",
              "      <th>50%</th>\n",
              "      <td>146.500000</td>\n",
              "      <td>1.000000</td>\n",
              "      <td>1.000000</td>\n",
              "      <td>1.000000</td>\n",
              "      <td>1.000000</td>\n",
              "      <td>1.000000</td>\n",
              "      <td>1.000000</td>\n",
              "      <td>1.000000</td>\n",
              "      <td>0.000000</td>\n",
              "      <td>0.000000</td>\n",
              "      <td>1.000000</td>\n",
              "      <td>6.000000</td>\n",
              "      <td>6.000000</td>\n",
              "    </tr>\n",
              "    <tr>\n",
              "      <th>75%</th>\n",
              "      <td>219.250000</td>\n",
              "      <td>1.000000</td>\n",
              "      <td>1.000000</td>\n",
              "      <td>1.000000</td>\n",
              "      <td>1.000000</td>\n",
              "      <td>1.000000</td>\n",
              "      <td>1.000000</td>\n",
              "      <td>1.000000</td>\n",
              "      <td>1.000000</td>\n",
              "      <td>1.000000</td>\n",
              "      <td>1.000000</td>\n",
              "      <td>8.000000</td>\n",
              "      <td>8.000000</td>\n",
              "    </tr>\n",
              "    <tr>\n",
              "      <th>max</th>\n",
              "      <td>292.000000</td>\n",
              "      <td>1.000000</td>\n",
              "      <td>1.000000</td>\n",
              "      <td>1.000000</td>\n",
              "      <td>1.000000</td>\n",
              "      <td>1.000000</td>\n",
              "      <td>1.000000</td>\n",
              "      <td>1.000000</td>\n",
              "      <td>1.000000</td>\n",
              "      <td>1.000000</td>\n",
              "      <td>1.000000</td>\n",
              "      <td>11.000000</td>\n",
              "      <td>10.000000</td>\n",
              "    </tr>\n",
              "  </tbody>\n",
              "</table>\n",
              "</div>\n",
              "      <button class=\"colab-df-convert\" onclick=\"convertToInteractive('df-94dd2a47-17f2-407d-896d-bd9ad0fe4b1e')\"\n",
              "              title=\"Convert this dataframe to an interactive table.\"\n",
              "              style=\"display:none;\">\n",
              "        \n",
              "  <svg xmlns=\"http://www.w3.org/2000/svg\" height=\"24px\"viewBox=\"0 0 24 24\"\n",
              "       width=\"24px\">\n",
              "    <path d=\"M0 0h24v24H0V0z\" fill=\"none\"/>\n",
              "    <path d=\"M18.56 5.44l.94 2.06.94-2.06 2.06-.94-2.06-.94-.94-2.06-.94 2.06-2.06.94zm-11 1L8.5 8.5l.94-2.06 2.06-.94-2.06-.94L8.5 2.5l-.94 2.06-2.06.94zm10 10l.94 2.06.94-2.06 2.06-.94-2.06-.94-.94-2.06-.94 2.06-2.06.94z\"/><path d=\"M17.41 7.96l-1.37-1.37c-.4-.4-.92-.59-1.43-.59-.52 0-1.04.2-1.43.59L10.3 9.45l-7.72 7.72c-.78.78-.78 2.05 0 2.83L4 21.41c.39.39.9.59 1.41.59.51 0 1.02-.2 1.41-.59l7.78-7.78 2.81-2.81c.8-.78.8-2.07 0-2.86zM5.41 20L4 18.59l7.72-7.72 1.47 1.35L5.41 20z\"/>\n",
              "  </svg>\n",
              "      </button>\n",
              "      \n",
              "  <style>\n",
              "    .colab-df-container {\n",
              "      display:flex;\n",
              "      flex-wrap:wrap;\n",
              "      gap: 12px;\n",
              "    }\n",
              "\n",
              "    .colab-df-convert {\n",
              "      background-color: #E8F0FE;\n",
              "      border: none;\n",
              "      border-radius: 50%;\n",
              "      cursor: pointer;\n",
              "      display: none;\n",
              "      fill: #1967D2;\n",
              "      height: 32px;\n",
              "      padding: 0 0 0 0;\n",
              "      width: 32px;\n",
              "    }\n",
              "\n",
              "    .colab-df-convert:hover {\n",
              "      background-color: #E2EBFA;\n",
              "      box-shadow: 0px 1px 2px rgba(60, 64, 67, 0.3), 0px 1px 3px 1px rgba(60, 64, 67, 0.15);\n",
              "      fill: #174EA6;\n",
              "    }\n",
              "\n",
              "    [theme=dark] .colab-df-convert {\n",
              "      background-color: #3B4455;\n",
              "      fill: #D2E3FC;\n",
              "    }\n",
              "\n",
              "    [theme=dark] .colab-df-convert:hover {\n",
              "      background-color: #434B5C;\n",
              "      box-shadow: 0px 1px 3px 1px rgba(0, 0, 0, 0.15);\n",
              "      filter: drop-shadow(0px 1px 2px rgba(0, 0, 0, 0.3));\n",
              "      fill: #FFFFFF;\n",
              "    }\n",
              "  </style>\n",
              "\n",
              "      <script>\n",
              "        const buttonEl =\n",
              "          document.querySelector('#df-94dd2a47-17f2-407d-896d-bd9ad0fe4b1e button.colab-df-convert');\n",
              "        buttonEl.style.display =\n",
              "          google.colab.kernel.accessAllowed ? 'block' : 'none';\n",
              "\n",
              "        async function convertToInteractive(key) {\n",
              "          const element = document.querySelector('#df-94dd2a47-17f2-407d-896d-bd9ad0fe4b1e');\n",
              "          const dataTable =\n",
              "            await google.colab.kernel.invokeFunction('convertToInteractive',\n",
              "                                                     [key], {});\n",
              "          if (!dataTable) return;\n",
              "\n",
              "          const docLinkHtml = 'Like what you see? Visit the ' +\n",
              "            '<a target=\"_blank\" href=https://colab.research.google.com/notebooks/data_table.ipynb>data table notebook</a>'\n",
              "            + ' to learn more about interactive tables.';\n",
              "          element.innerHTML = '';\n",
              "          dataTable['output_type'] = 'display_data';\n",
              "          await google.colab.output.renderOutput(dataTable, element);\n",
              "          const docLink = document.createElement('div');\n",
              "          docLink.innerHTML = docLinkHtml;\n",
              "          element.appendChild(docLink);\n",
              "        }\n",
              "      </script>\n",
              "    </div>\n",
              "  </div>\n",
              "  "
            ]
          },
          "metadata": {},
          "execution_count": 9
        }
      ],
      "source": [
        "#Children\n",
        "ch.describe()"
      ]
    },
    {
      "cell_type": "code",
      "source": [
        "#Adults\n",
        "adu.describe()"
      ],
      "metadata": {
        "colab": {
          "base_uri": "https://localhost:8080/",
          "height": 300
        },
        "id": "oFWWvLPokCYq",
        "outputId": "10d21812-3e4e-4a32-e24e-48d9c930561b"
      },
      "execution_count": null,
      "outputs": [
        {
          "output_type": "execute_result",
          "data": {
            "text/plain": [
              "               id    A1_Score    A2_Score    A3_Score    A4_Score    A5_Score  \\\n",
              "count  704.000000  704.000000  704.000000  704.000000  704.000000  704.000000   \n",
              "mean   352.500000    0.721591    0.453125    0.457386    0.495739    0.498580   \n",
              "std    203.371581    0.448535    0.498152    0.498535    0.500337    0.500353   \n",
              "min      1.000000    0.000000    0.000000    0.000000    0.000000    0.000000   \n",
              "25%    176.750000    0.000000    0.000000    0.000000    0.000000    0.000000   \n",
              "50%    352.500000    1.000000    0.000000    0.000000    0.000000    0.000000   \n",
              "75%    528.250000    1.000000    1.000000    1.000000    1.000000    1.000000   \n",
              "max    704.000000    1.000000    1.000000    1.000000    1.000000    1.000000   \n",
              "\n",
              "         A6_Score    A7_Score    A8_Score    A9_Score   A10_Score         age  \\\n",
              "count  704.000000  704.000000  704.000000  704.000000  704.000000  702.000000   \n",
              "mean     0.284091    0.417614    0.649148    0.323864    0.573864   29.698006   \n",
              "std      0.451301    0.493516    0.477576    0.468281    0.494866   16.507465   \n",
              "min      0.000000    0.000000    0.000000    0.000000    0.000000   17.000000   \n",
              "25%      0.000000    0.000000    0.000000    0.000000    0.000000   21.000000   \n",
              "50%      0.000000    0.000000    1.000000    0.000000    1.000000   27.000000   \n",
              "75%      1.000000    1.000000    1.000000    1.000000    1.000000   35.000000   \n",
              "max      1.000000    1.000000    1.000000    1.000000    1.000000  383.000000   \n",
              "\n",
              "           result  \n",
              "count  704.000000  \n",
              "mean     4.875000  \n",
              "std      2.501493  \n",
              "min      0.000000  \n",
              "25%      3.000000  \n",
              "50%      4.000000  \n",
              "75%      7.000000  \n",
              "max     10.000000  "
            ],
            "text/html": [
              "\n",
              "  <div id=\"df-8813759c-f25f-48cb-9c38-41d48b90f3d7\">\n",
              "    <div class=\"colab-df-container\">\n",
              "      <div>\n",
              "<style scoped>\n",
              "    .dataframe tbody tr th:only-of-type {\n",
              "        vertical-align: middle;\n",
              "    }\n",
              "\n",
              "    .dataframe tbody tr th {\n",
              "        vertical-align: top;\n",
              "    }\n",
              "\n",
              "    .dataframe thead th {\n",
              "        text-align: right;\n",
              "    }\n",
              "</style>\n",
              "<table border=\"1\" class=\"dataframe\">\n",
              "  <thead>\n",
              "    <tr style=\"text-align: right;\">\n",
              "      <th></th>\n",
              "      <th>id</th>\n",
              "      <th>A1_Score</th>\n",
              "      <th>A2_Score</th>\n",
              "      <th>A3_Score</th>\n",
              "      <th>A4_Score</th>\n",
              "      <th>A5_Score</th>\n",
              "      <th>A6_Score</th>\n",
              "      <th>A7_Score</th>\n",
              "      <th>A8_Score</th>\n",
              "      <th>A9_Score</th>\n",
              "      <th>A10_Score</th>\n",
              "      <th>age</th>\n",
              "      <th>result</th>\n",
              "    </tr>\n",
              "  </thead>\n",
              "  <tbody>\n",
              "    <tr>\n",
              "      <th>count</th>\n",
              "      <td>704.000000</td>\n",
              "      <td>704.000000</td>\n",
              "      <td>704.000000</td>\n",
              "      <td>704.000000</td>\n",
              "      <td>704.000000</td>\n",
              "      <td>704.000000</td>\n",
              "      <td>704.000000</td>\n",
              "      <td>704.000000</td>\n",
              "      <td>704.000000</td>\n",
              "      <td>704.000000</td>\n",
              "      <td>704.000000</td>\n",
              "      <td>702.000000</td>\n",
              "      <td>704.000000</td>\n",
              "    </tr>\n",
              "    <tr>\n",
              "      <th>mean</th>\n",
              "      <td>352.500000</td>\n",
              "      <td>0.721591</td>\n",
              "      <td>0.453125</td>\n",
              "      <td>0.457386</td>\n",
              "      <td>0.495739</td>\n",
              "      <td>0.498580</td>\n",
              "      <td>0.284091</td>\n",
              "      <td>0.417614</td>\n",
              "      <td>0.649148</td>\n",
              "      <td>0.323864</td>\n",
              "      <td>0.573864</td>\n",
              "      <td>29.698006</td>\n",
              "      <td>4.875000</td>\n",
              "    </tr>\n",
              "    <tr>\n",
              "      <th>std</th>\n",
              "      <td>203.371581</td>\n",
              "      <td>0.448535</td>\n",
              "      <td>0.498152</td>\n",
              "      <td>0.498535</td>\n",
              "      <td>0.500337</td>\n",
              "      <td>0.500353</td>\n",
              "      <td>0.451301</td>\n",
              "      <td>0.493516</td>\n",
              "      <td>0.477576</td>\n",
              "      <td>0.468281</td>\n",
              "      <td>0.494866</td>\n",
              "      <td>16.507465</td>\n",
              "      <td>2.501493</td>\n",
              "    </tr>\n",
              "    <tr>\n",
              "      <th>min</th>\n",
              "      <td>1.000000</td>\n",
              "      <td>0.000000</td>\n",
              "      <td>0.000000</td>\n",
              "      <td>0.000000</td>\n",
              "      <td>0.000000</td>\n",
              "      <td>0.000000</td>\n",
              "      <td>0.000000</td>\n",
              "      <td>0.000000</td>\n",
              "      <td>0.000000</td>\n",
              "      <td>0.000000</td>\n",
              "      <td>0.000000</td>\n",
              "      <td>17.000000</td>\n",
              "      <td>0.000000</td>\n",
              "    </tr>\n",
              "    <tr>\n",
              "      <th>25%</th>\n",
              "      <td>176.750000</td>\n",
              "      <td>0.000000</td>\n",
              "      <td>0.000000</td>\n",
              "      <td>0.000000</td>\n",
              "      <td>0.000000</td>\n",
              "      <td>0.000000</td>\n",
              "      <td>0.000000</td>\n",
              "      <td>0.000000</td>\n",
              "      <td>0.000000</td>\n",
              "      <td>0.000000</td>\n",
              "      <td>0.000000</td>\n",
              "      <td>21.000000</td>\n",
              "      <td>3.000000</td>\n",
              "    </tr>\n",
              "    <tr>\n",
              "      <th>50%</th>\n",
              "      <td>352.500000</td>\n",
              "      <td>1.000000</td>\n",
              "      <td>0.000000</td>\n",
              "      <td>0.000000</td>\n",
              "      <td>0.000000</td>\n",
              "      <td>0.000000</td>\n",
              "      <td>0.000000</td>\n",
              "      <td>0.000000</td>\n",
              "      <td>1.000000</td>\n",
              "      <td>0.000000</td>\n",
              "      <td>1.000000</td>\n",
              "      <td>27.000000</td>\n",
              "      <td>4.000000</td>\n",
              "    </tr>\n",
              "    <tr>\n",
              "      <th>75%</th>\n",
              "      <td>528.250000</td>\n",
              "      <td>1.000000</td>\n",
              "      <td>1.000000</td>\n",
              "      <td>1.000000</td>\n",
              "      <td>1.000000</td>\n",
              "      <td>1.000000</td>\n",
              "      <td>1.000000</td>\n",
              "      <td>1.000000</td>\n",
              "      <td>1.000000</td>\n",
              "      <td>1.000000</td>\n",
              "      <td>1.000000</td>\n",
              "      <td>35.000000</td>\n",
              "      <td>7.000000</td>\n",
              "    </tr>\n",
              "    <tr>\n",
              "      <th>max</th>\n",
              "      <td>704.000000</td>\n",
              "      <td>1.000000</td>\n",
              "      <td>1.000000</td>\n",
              "      <td>1.000000</td>\n",
              "      <td>1.000000</td>\n",
              "      <td>1.000000</td>\n",
              "      <td>1.000000</td>\n",
              "      <td>1.000000</td>\n",
              "      <td>1.000000</td>\n",
              "      <td>1.000000</td>\n",
              "      <td>1.000000</td>\n",
              "      <td>383.000000</td>\n",
              "      <td>10.000000</td>\n",
              "    </tr>\n",
              "  </tbody>\n",
              "</table>\n",
              "</div>\n",
              "      <button class=\"colab-df-convert\" onclick=\"convertToInteractive('df-8813759c-f25f-48cb-9c38-41d48b90f3d7')\"\n",
              "              title=\"Convert this dataframe to an interactive table.\"\n",
              "              style=\"display:none;\">\n",
              "        \n",
              "  <svg xmlns=\"http://www.w3.org/2000/svg\" height=\"24px\"viewBox=\"0 0 24 24\"\n",
              "       width=\"24px\">\n",
              "    <path d=\"M0 0h24v24H0V0z\" fill=\"none\"/>\n",
              "    <path d=\"M18.56 5.44l.94 2.06.94-2.06 2.06-.94-2.06-.94-.94-2.06-.94 2.06-2.06.94zm-11 1L8.5 8.5l.94-2.06 2.06-.94-2.06-.94L8.5 2.5l-.94 2.06-2.06.94zm10 10l.94 2.06.94-2.06 2.06-.94-2.06-.94-.94-2.06-.94 2.06-2.06.94z\"/><path d=\"M17.41 7.96l-1.37-1.37c-.4-.4-.92-.59-1.43-.59-.52 0-1.04.2-1.43.59L10.3 9.45l-7.72 7.72c-.78.78-.78 2.05 0 2.83L4 21.41c.39.39.9.59 1.41.59.51 0 1.02-.2 1.41-.59l7.78-7.78 2.81-2.81c.8-.78.8-2.07 0-2.86zM5.41 20L4 18.59l7.72-7.72 1.47 1.35L5.41 20z\"/>\n",
              "  </svg>\n",
              "      </button>\n",
              "      \n",
              "  <style>\n",
              "    .colab-df-container {\n",
              "      display:flex;\n",
              "      flex-wrap:wrap;\n",
              "      gap: 12px;\n",
              "    }\n",
              "\n",
              "    .colab-df-convert {\n",
              "      background-color: #E8F0FE;\n",
              "      border: none;\n",
              "      border-radius: 50%;\n",
              "      cursor: pointer;\n",
              "      display: none;\n",
              "      fill: #1967D2;\n",
              "      height: 32px;\n",
              "      padding: 0 0 0 0;\n",
              "      width: 32px;\n",
              "    }\n",
              "\n",
              "    .colab-df-convert:hover {\n",
              "      background-color: #E2EBFA;\n",
              "      box-shadow: 0px 1px 2px rgba(60, 64, 67, 0.3), 0px 1px 3px 1px rgba(60, 64, 67, 0.15);\n",
              "      fill: #174EA6;\n",
              "    }\n",
              "\n",
              "    [theme=dark] .colab-df-convert {\n",
              "      background-color: #3B4455;\n",
              "      fill: #D2E3FC;\n",
              "    }\n",
              "\n",
              "    [theme=dark] .colab-df-convert:hover {\n",
              "      background-color: #434B5C;\n",
              "      box-shadow: 0px 1px 3px 1px rgba(0, 0, 0, 0.15);\n",
              "      filter: drop-shadow(0px 1px 2px rgba(0, 0, 0, 0.3));\n",
              "      fill: #FFFFFF;\n",
              "    }\n",
              "  </style>\n",
              "\n",
              "      <script>\n",
              "        const buttonEl =\n",
              "          document.querySelector('#df-8813759c-f25f-48cb-9c38-41d48b90f3d7 button.colab-df-convert');\n",
              "        buttonEl.style.display =\n",
              "          google.colab.kernel.accessAllowed ? 'block' : 'none';\n",
              "\n",
              "        async function convertToInteractive(key) {\n",
              "          const element = document.querySelector('#df-8813759c-f25f-48cb-9c38-41d48b90f3d7');\n",
              "          const dataTable =\n",
              "            await google.colab.kernel.invokeFunction('convertToInteractive',\n",
              "                                                     [key], {});\n",
              "          if (!dataTable) return;\n",
              "\n",
              "          const docLinkHtml = 'Like what you see? Visit the ' +\n",
              "            '<a target=\"_blank\" href=https://colab.research.google.com/notebooks/data_table.ipynb>data table notebook</a>'\n",
              "            + ' to learn more about interactive tables.';\n",
              "          element.innerHTML = '';\n",
              "          dataTable['output_type'] = 'display_data';\n",
              "          await google.colab.output.renderOutput(dataTable, element);\n",
              "          const docLink = document.createElement('div');\n",
              "          docLink.innerHTML = docLinkHtml;\n",
              "          element.appendChild(docLink);\n",
              "        }\n",
              "      </script>\n",
              "    </div>\n",
              "  </div>\n",
              "  "
            ]
          },
          "metadata": {},
          "execution_count": 10
        }
      ]
    },
    {
      "cell_type": "code",
      "execution_count": null,
      "metadata": {
        "colab": {
          "base_uri": "https://localhost:8080/"
        },
        "id": "1w-dVtFfyZiJ",
        "outputId": "cb574435-e5d0-4297-c26f-2fa3ff9d19c0"
      },
      "outputs": [
        {
          "output_type": "stream",
          "name": "stdout",
          "text": [
            "Total no. of missing values in Children's dataset   :  90\n",
            "Total no. of missing values in Adults's dataset     :  192\n"
          ]
        }
      ],
      "source": [
        "#Total number of missing values in each dataset\n",
        "print(\"Total no. of missing values in Children's dataset   : \",ch.isnull().sum().sum())\n",
        "print(\"Total no. of missing values in Adults's dataset     : \",adu.isnull().sum().sum())"
      ]
    },
    {
      "cell_type": "code",
      "execution_count": null,
      "metadata": {
        "colab": {
          "base_uri": "https://localhost:8080/"
        },
        "id": "ko79c2d0jI_9",
        "outputId": "0520b5b7-63cb-421c-d567-5385dc71bab5"
      },
      "outputs": [
        {
          "output_type": "execute_result",
          "data": {
            "text/plain": [
              "id                  0\n",
              "A1_Score            0\n",
              "A2_Score            0\n",
              "A3_Score            0\n",
              "A4_Score            0\n",
              "A5_Score            0\n",
              "A6_Score            0\n",
              "A7_Score            0\n",
              "A8_Score            0\n",
              "A9_Score            0\n",
              "A10_Score           0\n",
              "age                 4\n",
              "gender              0\n",
              "ethnicity          43\n",
              "jundice             0\n",
              "austim              0\n",
              "contry_of_res       0\n",
              "used_app_before     0\n",
              "result              0\n",
              "age_desc            0\n",
              "relation           43\n",
              "Class/ASD           0\n",
              "dtype: int64"
            ]
          },
          "metadata": {},
          "execution_count": 12
        }
      ],
      "source": [
        "#Children\n",
        "ch.isnull().sum()"
      ]
    },
    {
      "cell_type": "code",
      "source": [
        "#Adults\n",
        "adu.isnull().sum()"
      ],
      "metadata": {
        "colab": {
          "base_uri": "https://localhost:8080/"
        },
        "id": "wuVGu7RIkKR6",
        "outputId": "a2634a50-6487-4540-906b-a8460977d45c"
      },
      "execution_count": null,
      "outputs": [
        {
          "output_type": "execute_result",
          "data": {
            "text/plain": [
              "id                  0\n",
              "A1_Score            0\n",
              "A2_Score            0\n",
              "A3_Score            0\n",
              "A4_Score            0\n",
              "A5_Score            0\n",
              "A6_Score            0\n",
              "A7_Score            0\n",
              "A8_Score            0\n",
              "A9_Score            0\n",
              "A10_Score           0\n",
              "age                 2\n",
              "gender              0\n",
              "ethnicity          95\n",
              "jundice             0\n",
              "austim              0\n",
              "contry_of_res       0\n",
              "used_app_before     0\n",
              "result              0\n",
              "age_desc            0\n",
              "relation           95\n",
              "Class/ASD           0\n",
              "dtype: int64"
            ]
          },
          "metadata": {},
          "execution_count": 13
        }
      ]
    },
    {
      "cell_type": "code",
      "execution_count": null,
      "metadata": {
        "colab": {
          "base_uri": "https://localhost:8080/",
          "height": 369
        },
        "id": "oppclSaWI3m8",
        "outputId": "a94ee677-57fb-4b2b-df0c-e1a46bb42713"
      },
      "outputs": [
        {
          "output_type": "display_data",
          "data": {
            "text/plain": [
              "<Figure size 720x360 with 2 Axes>"
            ],
            "image/png": "[encoded data removed]"
          },
          "metadata": {
            "needs_background": "light"
          }
        }
      ],
      "source": [
        "fig, ax = plt.subplots(1,2,figsize=(10,5))\n",
        "\n",
        "sns.heatmap(ch.isnull(),yticklabels=False,cbar=False,cmap='rocket',ax=ax[0])\n",
        "ax[0].set_title(\"Children's dataset\",fontsize = 15)\n",
        "\n",
        "sns.heatmap(adu.isnull(),yticklabels=False,cbar=False,cmap='rocket',ax=ax[1])\n",
        "ax[1].set_title(\"Adults's dataset\",fontsize = 15)\n",
        "fig.tight_layout()\n",
        "plt.savefig('heatmap.pdf', transparent=True, dpi=300)"
      ]
    },
    {
      "cell_type": "code",
      "execution_count": null,
      "metadata": {
        "colab": {
          "base_uri": "https://localhost:8080/"
        },
        "id": "CkwWk_C2b3rd",
        "outputId": "70329d99-923c-4a24-a804-e3ac088bacc7"
      },
      "outputs": [
        {
          "output_type": "stream",
          "name": "stdout",
          "text": [
            "\n",
            "No of children diagonised with ASD =  141\n",
            "No of children not diagonised with ASD =  151\n",
            "\n",
            "No of adults diagonised with ASD =  189\n",
            "No of adults not diagonised with ASD =  515\n"
          ]
        }
      ],
      "source": [
        "#ASD or Not\n",
        "print(\"\\nNo of children diagonised with ASD = \",len(ch[ch['Class/ASD'] == 'YES']))\n",
        "print(\"No of children not diagonised with ASD = \",len(ch[ch['Class/ASD'] == 'NO']))\n",
        "\n",
        "print(\"\\nNo of adults diagonised with ASD = \",len(adu[adu['Class/ASD'] == 'YES']))\n",
        "print(\"No of adults not diagonised with ASD = \",len(adu[adu['Class/ASD'] == 'NO']))"
      ]
    },
    {
      "cell_type": "code",
      "execution_count": null,
      "metadata": {
        "colab": {
          "base_uri": "https://localhost:8080/",
          "height": 369
        },
        "id": "WBfvldgJGn4p",
        "outputId": "aaf4de38-3295-463e-f49c-413d0a807879"
      },
      "outputs": [
        {
          "output_type": "display_data",
          "data": {
            "text/plain": [
              "<Figure size 720x360 with 2 Axes>"
            ],
            "image/png": "[encoded data removed]"
          },
          "metadata": {
            "needs_background": "light"
          }
        }
      ],
      "source": [
        "#Data distribution\n",
        "fig, ax = plt.subplots(1,2,figsize=(10, 5))\n",
        "sns.countplot(ch['Class/ASD'],ax=ax[0])\n",
        "sns.countplot(adu['Class/ASD'],ax=ax[1])\n",
        "ax[0].set_title(\"Children's dataset\",fontsize = 15)\n",
        "ax[1].set_title(\"Adults's dataset\",fontsize = 15)\n",
        "fig.tight_layout()\n",
        "plt.savefig('distribution.pdf', transparent=True, dpi=300)"
      ]
    },
    {
      "cell_type": "code",
      "execution_count": null,
      "metadata": {
        "colab": {
          "base_uri": "https://localhost:8080/",
          "height": 465
        },
        "id": "gGHFxQb9ePSv",
        "outputId": "7283600b-4cac-45f5-98e8-215d42e4a250"
      },
      "outputs": [
        {
          "output_type": "display_data",
          "data": {
            "text/plain": [
              "<Figure size 1440x504 with 4 Axes>"
            ],
            "image/png": "[encoded data removed]"
          },
          "metadata": {
            "needs_background": "light"
          }
        }
      ],
      "source": [
        "#Correlation\n",
        "fig, ax = plt.subplots(1,2,figsize=(20,7))\n",
        "sns.heatmap(ch.corr(),annot=True,cmap='coolwarm',vmin=0, vmax=1,ax=ax[0])\n",
        "sns.heatmap(adu.corr(),annot=True,cmap='coolwarm',vmin=0, vmax=1,ax=ax[1])\n",
        "ax[0].set_title(\"Children's dataset\",fontsize = 15)\n",
        "ax[1].set_title(\"Adults's dataset\",fontsize = 15)\n",
        "fig.tight_layout()\n",
        "plt.savefig('correlation.pdf', transparent=True, dpi=300)"
      ]
    },
    {
      "cell_type": "code",
      "execution_count": null,
      "metadata": {
        "colab": {
          "base_uri": "https://localhost:8080/"
        },
        "id": "emuIeb6o3ivZ",
        "outputId": "ba9519e6-3d50-4fa0-b233-aa4c7d26add5"
      },
      "outputs": [
        {
          "output_type": "stream",
          "name": "stdout",
          "text": [
            "No of missing values in Children's dataset    =  90\n",
            "No of missing values in Adults's dataset      =  192\n"
          ]
        }
      ],
      "source": [
        "#Number of missing values in each dataset\n",
        "print(\"No of missing values in Children's dataset    = \",ch.isnull().sum().sum())\n",
        "print(\"No of missing values in Adults's dataset      = \",adu.isnull().sum().sum())"
      ]
    },
    {
      "cell_type": "code",
      "execution_count": null,
      "metadata": {
        "id": "0MK70ZQ4oIcJ"
      },
      "outputs": [],
      "source": [
        "#Imputing missing values of categorical features with mode\n",
        "imputer_mode = SimpleImputer(missing_values=np.NaN, strategy='most_frequent')\n",
        "\n",
        "ch.age = imputer_mode.fit_transform(ch.age.values.reshape(-1,1))[:,0]\n",
        "ch.ethnicity = imputer_mode.fit_transform(ch.ethnicity.values.reshape(-1,1))[:,0]\n",
        "ch.relation = imputer_mode.fit_transform(ch.relation.values.reshape(-1,1))[:,0]\n",
        "\n",
        "adu.ethnicity = imputer_mode.fit_transform(adu.ethnicity.values.reshape(-1,1))[:,0]\n",
        "adu.relation = imputer_mode.fit_transform(adu.relation.values.reshape(-1,1))[:,0]\n",
        "\n",
        "\n",
        "#Imputing missing values of numerical features with mean\n",
        "imputer_mode = SimpleImputer(missing_values=np.NaN, strategy='mean')\n",
        "\n",
        "ch.age = imputer_mode.fit_transform(ch.age.values.reshape(-1,1))[:,0]\n",
        "adu.age = imputer_mode.fit_transform(adu.age.values.reshape(-1,1))[:,0]"
      ]
    },
    {
      "cell_type": "code",
      "execution_count": null,
      "metadata": {
        "colab": {
          "base_uri": "https://localhost:8080/"
        },
        "id": "2J2wHBBvs2Je",
        "outputId": "5190980b-4f39-4b3d-ae1f-cdba59ca7409"
      },
      "outputs": [
        {
          "output_type": "stream",
          "name": "stdout",
          "text": [
            "After imputing,\n",
            "No of missing values in Children's dataset    =  0\n",
            "After imputing,\n",
            "No of missing values in Adults's dataset      =  0\n"
          ]
        }
      ],
      "source": [
        "print(\"After imputing,\\nNo of missing values in Children's dataset    = \",ch.isnull().sum().sum())\n",
        "print(\"After imputing,\\nNo of missing values in Adults's dataset      = \",adu.isnull().sum().sum())"
      ]
    },
    {
      "cell_type": "code",
      "execution_count": null,
      "metadata": {
        "id": "uoJbz1sQxwSP"
      },
      "outputs": [],
      "source": [
        "#Since age of toddlers are represented in months, age(in years) of children, adolescents and adults is converted to age in months.\n",
        "ch.rename(columns = {'age':'Age_Mons'}, inplace = True)\n",
        "adu.rename(columns = {'age':'Age_Mons'}, inplace = True)\n",
        "\n",
        "ch['Age_Mons'] = ch['Age_Mons']*12\n",
        "adu['Age_Mons'] = adu['Age_Mons']*12"
      ]
    },
    {
      "cell_type": "code",
      "execution_count": null,
      "metadata": {
        "id": "4ulLZ6dRSmGV"
      },
      "outputs": [],
      "source": [
        "#Making classes of categorical variables same for all datasets\n",
        "adu['ethnicity'] = adu['ethnicity'].replace('Others','others')\n",
        "\n",
        "ch[\"relation\"] = ch[\"relation\"].replace('self','Self')"
      ]
    },
    {
      "cell_type": "markdown",
      "source": [
        "### **Model fitting**"
      ],
      "metadata": {
        "id": "8FC4sUwok3P9"
      }
    },
    {
      "cell_type": "markdown",
      "metadata": {
        "id": "S3DzwzUrn3Qi"
      },
      "source": [
        "### **Model fitting**"
      ]
    },
    {
      "cell_type": "markdown",
      "source": [
        "### Combined Dataset"
      ],
      "metadata": {
        "id": "HyT22NPGk5Ih"
      }
    },
    {
      "cell_type": "code",
      "source": [
        "#Adding a new field that represents the age group\n",
        "ch['Age_group'] = 'Children'\n",
        "adu['Age_group'] = 'Adults'"
      ],
      "metadata": {
        "id": "EZJJADqgk8_x"
      },
      "execution_count": null,
      "outputs": []
    },
    {
      "cell_type": "code",
      "source": [
        "#Combining the dataset of children and adults to a single dataset\n",
        "frames = [ch,adu]\n",
        "final = pd.concat(frames)"
      ],
      "metadata": {
        "id": "PvA3DbHPlCKT"
      },
      "execution_count": null,
      "outputs": []
    },
    {
      "cell_type": "code",
      "source": [
        "#imputing missing values\n",
        "imputer_mode = SimpleImputer(missing_values=np.NaN, strategy='most_frequent')\n",
        "\n",
        "final.contry_of_res = imputer_mode.fit_transform(final.contry_of_res.values.reshape(-1,1))[:,0]\n",
        "final.used_app_before = imputer_mode.fit_transform(final.used_app_before.values.reshape(-1,1))[:,0]"
      ],
      "metadata": {
        "id": "KzkTK7jPlGAQ"
      },
      "execution_count": null,
      "outputs": []
    },
    {
      "cell_type": "code",
      "source": [
        "final.head()"
      ],
      "metadata": {
        "colab": {
          "base_uri": "https://localhost:8080/",
          "height": 386
        },
        "id": "jF2PyOyFlIfQ",
        "outputId": "6519235f-867b-4984-c7a9-e19b9a7a6b38"
      },
      "execution_count": null,
      "outputs": [
        {
          "output_type": "execute_result",
          "data": {
            "text/plain": [
              "   id  A1_Score  A2_Score  A3_Score  A4_Score  A5_Score  A6_Score  A7_Score  \\\n",
              "0   1         1         1         0         0         1         1         0   \n",
              "1   2         1         1         0         0         1         1         0   \n",
              "2   3         1         1         0         0         0         1         1   \n",
              "3   4         0         1         0         0         1         1         0   \n",
              "4   5         1         1         1         1         1         1         1   \n",
              "\n",
              "   A8_Score  A9_Score  ...        ethnicity  jundice austim  contry_of_res  \\\n",
              "0         1         0  ...           Others       no     no         Jordan   \n",
              "1         1         0  ...  Middle Eastern        no     no         Jordan   \n",
              "2         1         0  ...   White-European       no     no         Jordan   \n",
              "3         0         0  ...   White-European      yes     no         Jordan   \n",
              "4         1         1  ...           Others      yes     no  United States   \n",
              "\n",
              "  used_app_before result    age_desc relation  Class/ASD Age_group  \n",
              "0              no      5  4-11 years   Parent         NO  Children  \n",
              "1              no      5  4-11 years   Parent         NO  Children  \n",
              "2             yes      5  4-11 years   Parent         NO  Children  \n",
              "3              no      4  4-11 years   Parent         NO  Children  \n",
              "4              no     10  4-11 years   Parent        YES  Children  \n",
              "\n",
              "[5 rows x 23 columns]"
            ],
            "text/html": [
              "\n",
              "  <div id=\"df-27130bf4-be0a-4809-b78e-19d8481d9111\">\n",
              "    <div class=\"colab-df-container\">\n",
              "      <div>\n",
              "<style scoped>\n",
              "    .dataframe tbody tr th:only-of-type {\n",
              "        vertical-align: middle;\n",
              "    }\n",
              "\n",
              "    .dataframe tbody tr th {\n",
              "        vertical-align: top;\n",
              "    }\n",
              "\n",
              "    .dataframe thead th {\n",
              "        text-align: right;\n",
              "    }\n",
              "</style>\n",
              "<table border=\"1\" class=\"dataframe\">\n",
              "  <thead>\n",
              "    <tr style=\"text-align: right;\">\n",
              "      <th></th>\n",
              "      <th>id</th>\n",
              "      <th>A1_Score</th>\n",
              "      <th>A2_Score</th>\n",
              "      <th>A3_Score</th>\n",
              "      <th>A4_Score</th>\n",
              "      <th>A5_Score</th>\n",
              "      <th>A6_Score</th>\n",
              "      <th>A7_Score</th>\n",
              "      <th>A8_Score</th>\n",
              "      <th>A9_Score</th>\n",
              "      <th>...</th>\n",
              "      <th>ethnicity</th>\n",
              "      <th>jundice</th>\n",
              "      <th>austim</th>\n",
              "      <th>contry_of_res</th>\n",
              "      <th>used_app_before</th>\n",
              "      <th>result</th>\n",
              "      <th>age_desc</th>\n",
              "      <th>relation</th>\n",
              "      <th>Class/ASD</th>\n",
              "      <th>Age_group</th>\n",
              "    </tr>\n",
              "  </thead>\n",
              "  <tbody>\n",
              "    <tr>\n",
              "      <th>0</th>\n",
              "      <td>1</td>\n",
              "      <td>1</td>\n",
              "      <td>1</td>\n",
              "      <td>0</td>\n",
              "      <td>0</td>\n",
              "      <td>1</td>\n",
              "      <td>1</td>\n",
              "      <td>0</td>\n",
              "      <td>1</td>\n",
              "      <td>0</td>\n",
              "      <td>...</td>\n",
              "      <td>Others</td>\n",
              "      <td>no</td>\n",
              "      <td>no</td>\n",
              "      <td>Jordan</td>\n",
              "      <td>no</td>\n",
              "      <td>5</td>\n",
              "      <td>4-11 years</td>\n",
              "      <td>Parent</td>\n",
              "      <td>NO</td>\n",
              "      <td>Children</td>\n",
              "    </tr>\n",
              "    <tr>\n",
              "      <th>1</th>\n",
              "      <td>2</td>\n",
              "      <td>1</td>\n",
              "      <td>1</td>\n",
              "      <td>0</td>\n",
              "      <td>0</td>\n",
              "      <td>1</td>\n",
              "      <td>1</td>\n",
              "      <td>0</td>\n",
              "      <td>1</td>\n",
              "      <td>0</td>\n",
              "      <td>...</td>\n",
              "      <td>Middle Eastern</td>\n",
              "      <td>no</td>\n",
              "      <td>no</td>\n",
              "      <td>Jordan</td>\n",
              "      <td>no</td>\n",
              "      <td>5</td>\n",
              "      <td>4-11 years</td>\n",
              "      <td>Parent</td>\n",
              "      <td>NO</td>\n",
              "      <td>Children</td>\n",
              "    </tr>\n",
              "    <tr>\n",
              "      <th>2</th>\n",
              "      <td>3</td>\n",
              "      <td>1</td>\n",
              "      <td>1</td>\n",
              "      <td>0</td>\n",
              "      <td>0</td>\n",
              "      <td>0</td>\n",
              "      <td>1</td>\n",
              "      <td>1</td>\n",
              "      <td>1</td>\n",
              "      <td>0</td>\n",
              "      <td>...</td>\n",
              "      <td>White-European</td>\n",
              "      <td>no</td>\n",
              "      <td>no</td>\n",
              "      <td>Jordan</td>\n",
              "      <td>yes</td>\n",
              "      <td>5</td>\n",
              "      <td>4-11 years</td>\n",
              "      <td>Parent</td>\n",
              "      <td>NO</td>\n",
              "      <td>Children</td>\n",
              "    </tr>\n",
              "    <tr>\n",
              "      <th>3</th>\n",
              "      <td>4</td>\n",
              "      <td>0</td>\n",
              "      <td>1</td>\n",
              "      <td>0</td>\n",
              "      <td>0</td>\n",
              "      <td>1</td>\n",
              "      <td>1</td>\n",
              "      <td>0</td>\n",
              "      <td>0</td>\n",
              "      <td>0</td>\n",
              "      <td>...</td>\n",
              "      <td>White-European</td>\n",
              "      <td>yes</td>\n",
              "      <td>no</td>\n",
              "      <td>Jordan</td>\n",
              "      <td>no</td>\n",
              "      <td>4</td>\n",
              "      <td>4-11 years</td>\n",
              "      <td>Parent</td>\n",
              "      <td>NO</td>\n",
              "      <td>Children</td>\n",
              "    </tr>\n",
              "    <tr>\n",
              "      <th>4</th>\n",
              "      <td>5</td>\n",
              "      <td>1</td>\n",
              "      <td>1</td>\n",
              "      <td>1</td>\n",
              "      <td>1</td>\n",
              "      <td>1</td>\n",
              "      <td>1</td>\n",
              "      <td>1</td>\n",
              "      <td>1</td>\n",
              "      <td>1</td>\n",
              "      <td>...</td>\n",
              "      <td>Others</td>\n",
              "      <td>yes</td>\n",
              "      <td>no</td>\n",
              "      <td>United States</td>\n",
              "      <td>no</td>\n",
              "      <td>10</td>\n",
              "      <td>4-11 years</td>\n",
              "      <td>Parent</td>\n",
              "      <td>YES</td>\n",
              "      <td>Children</td>\n",
              "    </tr>\n",
              "  </tbody>\n",
              "</table>\n",
              "<p>5 rows × 23 columns</p>\n",
              "</div>\n",
              "      <button class=\"colab-df-convert\" onclick=\"convertToInteractive('df-27130bf4-be0a-4809-b78e-19d8481d9111')\"\n",
              "              title=\"Convert this dataframe to an interactive table.\"\n",
              "              style=\"display:none;\">\n",
              "        \n",
              "  <svg xmlns=\"http://www.w3.org/2000/svg\" height=\"24px\"viewBox=\"0 0 24 24\"\n",
              "       width=\"24px\">\n",
              "    <path d=\"M0 0h24v24H0V0z\" fill=\"none\"/>\n",
              "    <path d=\"M18.56 5.44l.94 2.06.94-2.06 2.06-.94-2.06-.94-.94-2.06-.94 2.06-2.06.94zm-11 1L8.5 8.5l.94-2.06 2.06-.94-2.06-.94L8.5 2.5l-.94 2.06-2.06.94zm10 10l.94 2.06.94-2.06 2.06-.94-2.06-.94-.94-2.06-.94 2.06-2.06.94z\"/><path d=\"M17.41 7.96l-1.37-1.37c-.4-.4-.92-.59-1.43-.59-.52 0-1.04.2-1.43.59L10.3 9.45l-7.72 7.72c-.78.78-.78 2.05 0 2.83L4 21.41c.39.39.9.59 1.41.59.51 0 1.02-.2 1.41-.59l7.78-7.78 2.81-2.81c.8-.78.8-2.07 0-2.86zM5.41 20L4 18.59l7.72-7.72 1.47 1.35L5.41 20z\"/>\n",
              "  </svg>\n",
              "      </button>\n",
              "      \n",
              "  <style>\n",
              "    .colab-df-container {\n",
              "      display:flex;\n",
              "      flex-wrap:wrap;\n",
              "      gap: 12px;\n",
              "    }\n",
              "\n",
              "    .colab-df-convert {\n",
              "      background-color: #E8F0FE;\n",
              "      border: none;\n",
              "      border-radius: 50%;\n",
              "      cursor: pointer;\n",
              "      display: none;\n",
              "      fill: #1967D2;\n",
              "      height: 32px;\n",
              "      padding: 0 0 0 0;\n",
              "      width: 32px;\n",
              "    }\n",
              "\n",
              "    .colab-df-convert:hover {\n",
              "      background-color: #E2EBFA;\n",
              "      box-shadow: 0px 1px 2px rgba(60, 64, 67, 0.3), 0px 1px 3px 1px rgba(60, 64, 67, 0.15);\n",
              "      fill: #174EA6;\n",
              "    }\n",
              "\n",
              "    [theme=dark] .colab-df-convert {\n",
              "      background-color: #3B4455;\n",
              "      fill: #D2E3FC;\n",
              "    }\n",
              "\n",
              "    [theme=dark] .colab-df-convert:hover {\n",
              "      background-color: #434B5C;\n",
              "      box-shadow: 0px 1px 3px 1px rgba(0, 0, 0, 0.15);\n",
              "      filter: drop-shadow(0px 1px 2px rgba(0, 0, 0, 0.3));\n",
              "      fill: #FFFFFF;\n",
              "    }\n",
              "  </style>\n",
              "\n",
              "      <script>\n",
              "        const buttonEl =\n",
              "          document.querySelector('#df-27130bf4-be0a-4809-b78e-19d8481d9111 button.colab-df-convert');\n",
              "        buttonEl.style.display =\n",
              "          google.colab.kernel.accessAllowed ? 'block' : 'none';\n",
              "\n",
              "        async function convertToInteractive(key) {\n",
              "          const element = document.querySelector('#df-27130bf4-be0a-4809-b78e-19d8481d9111');\n",
              "          const dataTable =\n",
              "            await google.colab.kernel.invokeFunction('convertToInteractive',\n",
              "                                                     [key], {});\n",
              "          if (!dataTable) return;\n",
              "\n",
              "          const docLinkHtml = 'Like what you see? Visit the ' +\n",
              "            '<a target=\"_blank\" href=https://colab.research.google.com/notebooks/data_table.ipynb>data table notebook</a>'\n",
              "            + ' to learn more about interactive tables.';\n",
              "          element.innerHTML = '';\n",
              "          dataTable['output_type'] = 'display_data';\n",
              "          await google.colab.output.renderOutput(dataTable, element);\n",
              "          const docLink = document.createElement('div');\n",
              "          docLink.innerHTML = docLinkHtml;\n",
              "          element.appendChild(docLink);\n",
              "        }\n",
              "      </script>\n",
              "    </div>\n",
              "  </div>\n",
              "  "
            ]
          },
          "metadata": {},
          "execution_count": 27
        }
      ]
    },
    {
      "cell_type": "code",
      "source": [
        "final.info()"
      ],
      "metadata": {
        "colab": {
          "base_uri": "https://localhost:8080/"
        },
        "id": "R15T97QnlKJ0",
        "outputId": "018985c2-1d24-454f-db7b-c1da05434cd1"
      },
      "execution_count": null,
      "outputs": [
        {
          "output_type": "stream",
          "name": "stdout",
          "text": [
            "<class 'pandas.core.frame.DataFrame'>\n",
            "Int64Index: 996 entries, 0 to 703\n",
            "Data columns (total 23 columns):\n",
            " #   Column           Non-Null Count  Dtype  \n",
            "---  ------           --------------  -----  \n",
            " 0   id               996 non-null    int64  \n",
            " 1   A1_Score         996 non-null    int64  \n",
            " 2   A2_Score         996 non-null    int64  \n",
            " 3   A3_Score         996 non-null    int64  \n",
            " 4   A4_Score         996 non-null    int64  \n",
            " 5   A5_Score         996 non-null    int64  \n",
            " 6   A6_Score         996 non-null    int64  \n",
            " 7   A7_Score         996 non-null    int64  \n",
            " 8   A8_Score         996 non-null    int64  \n",
            " 9   A9_Score         996 non-null    int64  \n",
            " 10  A10_Score        996 non-null    int64  \n",
            " 11  Age_Mons         996 non-null    float64\n",
            " 12  gender           996 non-null    object \n",
            " 13  ethnicity        996 non-null    object \n",
            " 14  jundice          996 non-null    object \n",
            " 15  austim           996 non-null    object \n",
            " 16  contry_of_res    996 non-null    object \n",
            " 17  used_app_before  996 non-null    object \n",
            " 18  result           996 non-null    int64  \n",
            " 19  age_desc         996 non-null    object \n",
            " 20  relation         996 non-null    object \n",
            " 21  Class/ASD        996 non-null    object \n",
            " 22  Age_group        996 non-null    object \n",
            "dtypes: float64(1), int64(12), object(10)\n",
            "memory usage: 186.8+ KB\n"
          ]
        }
      ]
    },
    {
      "cell_type": "code",
      "source": [
        "final.describe()"
      ],
      "metadata": {
        "colab": {
          "base_uri": "https://localhost:8080/",
          "height": 344
        },
        "id": "aPC2Z5OrlNPA",
        "outputId": "117f7ee4-e515-4651-96f6-5a56b3077f90"
      },
      "execution_count": null,
      "outputs": [
        {
          "output_type": "execute_result",
          "data": {
            "text/plain": [
              "               id    A1_Score    A2_Score    A3_Score    A4_Score    A5_Score  \\\n",
              "count  996.000000  996.000000  996.000000  996.000000  996.000000  996.000000   \n",
              "mean   292.106426    0.695783    0.476908    0.541165    0.512048    0.570281   \n",
              "std    200.274512    0.460306    0.499717    0.498553    0.500106    0.495285   \n",
              "min      1.000000    0.000000    0.000000    0.000000    0.000000    0.000000   \n",
              "25%    125.000000    0.000000    0.000000    0.000000    0.000000    0.000000   \n",
              "50%    249.500000    1.000000    0.000000    1.000000    1.000000    1.000000   \n",
              "75%    455.250000    1.000000    1.000000    1.000000    1.000000    1.000000   \n",
              "max    704.000000    1.000000    1.000000    1.000000    1.000000    1.000000   \n",
              "\n",
              "         A6_Score    A7_Score    A8_Score    A9_Score   A10_Score  \\\n",
              "count  996.000000  996.000000  996.000000  996.000000  996.000000   \n",
              "mean     0.409639    0.472892    0.604418    0.373494    0.618474   \n",
              "std      0.492014    0.499515    0.489221    0.483975    0.486005   \n",
              "min      0.000000    0.000000    0.000000    0.000000    0.000000   \n",
              "25%      0.000000    0.000000    0.000000    0.000000    0.000000   \n",
              "50%      0.000000    0.000000    1.000000    0.000000    1.000000   \n",
              "75%      1.000000    1.000000    1.000000    1.000000    1.000000   \n",
              "max      1.000000    1.000000    1.000000    1.000000    1.000000   \n",
              "\n",
              "          Age_Mons      result  \n",
              "count   996.000000  996.000000  \n",
              "mean    274.137301    5.275100  \n",
              "std     210.244846    2.516802  \n",
              "min      48.000000    0.000000  \n",
              "25%     120.000000    3.000000  \n",
              "50%     264.000000    5.000000  \n",
              "75%     360.000000    7.000000  \n",
              "max    4596.000000   10.000000  "
            ],
            "text/html": [
              "\n",
              "  <div id=\"df-d564864c-73a8-4502-a251-c0144ab6634c\">\n",
              "    <div class=\"colab-df-container\">\n",
              "      <div>\n",
              "<style scoped>\n",
              "    .dataframe tbody tr th:only-of-type {\n",
              "        vertical-align: middle;\n",
              "    }\n",
              "\n",
              "    .dataframe tbody tr th {\n",
              "        vertical-align: top;\n",
              "    }\n",
              "\n",
              "    .dataframe thead th {\n",
              "        text-align: right;\n",
              "    }\n",
              "</style>\n",
              "<table border=\"1\" class=\"dataframe\">\n",
              "  <thead>\n",
              "    <tr style=\"text-align: right;\">\n",
              "      <th></th>\n",
              "      <th>id</th>\n",
              "      <th>A1_Score</th>\n",
              "      <th>A2_Score</th>\n",
              "      <th>A3_Score</th>\n",
              "      <th>A4_Score</th>\n",
              "      <th>A5_Score</th>\n",
              "      <th>A6_Score</th>\n",
              "      <th>A7_Score</th>\n",
              "      <th>A8_Score</th>\n",
              "      <th>A9_Score</th>\n",
              "      <th>A10_Score</th>\n",
              "      <th>Age_Mons</th>\n",
              "      <th>result</th>\n",
              "    </tr>\n",
              "  </thead>\n",
              "  <tbody>\n",
              "    <tr>\n",
              "      <th>count</th>\n",
              "      <td>996.000000</td>\n",
              "      <td>996.000000</td>\n",
              "      <td>996.000000</td>\n",
              "      <td>996.000000</td>\n",
              "      <td>996.000000</td>\n",
              "      <td>996.000000</td>\n",
              "      <td>996.000000</td>\n",
              "      <td>996.000000</td>\n",
              "      <td>996.000000</td>\n",
              "      <td>996.000000</td>\n",
              "      <td>996.000000</td>\n",
              "      <td>996.000000</td>\n",
              "      <td>996.000000</td>\n",
              "    </tr>\n",
              "    <tr>\n",
              "      <th>mean</th>\n",
              "      <td>292.106426</td>\n",
              "      <td>0.695783</td>\n",
              "      <td>0.476908</td>\n",
              "      <td>0.541165</td>\n",
              "      <td>0.512048</td>\n",
              "      <td>0.570281</td>\n",
              "      <td>0.409639</td>\n",
              "      <td>0.472892</td>\n",
              "      <td>0.604418</td>\n",
              "      <td>0.373494</td>\n",
              "      <td>0.618474</td>\n",
              "      <td>274.137301</td>\n",
              "      <td>5.275100</td>\n",
              "    </tr>\n",
              "    <tr>\n",
              "      <th>std</th>\n",
              "      <td>200.274512</td>\n",
              "      <td>0.460306</td>\n",
              "      <td>0.499717</td>\n",
              "      <td>0.498553</td>\n",
              "      <td>0.500106</td>\n",
              "      <td>0.495285</td>\n",
              "      <td>0.492014</td>\n",
              "      <td>0.499515</td>\n",
              "      <td>0.489221</td>\n",
              "      <td>0.483975</td>\n",
              "      <td>0.486005</td>\n",
              "      <td>210.244846</td>\n",
              "      <td>2.516802</td>\n",
              "    </tr>\n",
              "    <tr>\n",
              "      <th>min</th>\n",
              "      <td>1.000000</td>\n",
              "      <td>0.000000</td>\n",
              "      <td>0.000000</td>\n",
              "      <td>0.000000</td>\n",
              "      <td>0.000000</td>\n",
              "      <td>0.000000</td>\n",
              "      <td>0.000000</td>\n",
              "      <td>0.000000</td>\n",
              "      <td>0.000000</td>\n",
              "      <td>0.000000</td>\n",
              "      <td>0.000000</td>\n",
              "      <td>48.000000</td>\n",
              "      <td>0.000000</td>\n",
              "    </tr>\n",
              "    <tr>\n",
              "      <th>25%</th>\n",
              "      <td>125.000000</td>\n",
              "      <td>0.000000</td>\n",
              "      <td>0.000000</td>\n",
              "      <td>0.000000</td>\n",
              "      <td>0.000000</td>\n",
              "      <td>0.000000</td>\n",
              "      <td>0.000000</td>\n",
              "      <td>0.000000</td>\n",
              "      <td>0.000000</td>\n",
              "      <td>0.000000</td>\n",
              "      <td>0.000000</td>\n",
              "      <td>120.000000</td>\n",
              "      <td>3.000000</td>\n",
              "    </tr>\n",
              "    <tr>\n",
              "      <th>50%</th>\n",
              "      <td>249.500000</td>\n",
              "      <td>1.000000</td>\n",
              "      <td>0.000000</td>\n",
              "      <td>1.000000</td>\n",
              "      <td>1.000000</td>\n",
              "      <td>1.000000</td>\n",
              "      <td>0.000000</td>\n",
              "      <td>0.000000</td>\n",
              "      <td>1.000000</td>\n",
              "      <td>0.000000</td>\n",
              "      <td>1.000000</td>\n",
              "      <td>264.000000</td>\n",
              "      <td>5.000000</td>\n",
              "    </tr>\n",
              "    <tr>\n",
              "      <th>75%</th>\n",
              "      <td>455.250000</td>\n",
              "      <td>1.000000</td>\n",
              "      <td>1.000000</td>\n",
              "      <td>1.000000</td>\n",
              "      <td>1.000000</td>\n",
              "      <td>1.000000</td>\n",
              "      <td>1.000000</td>\n",
              "      <td>1.000000</td>\n",
              "      <td>1.000000</td>\n",
              "      <td>1.000000</td>\n",
              "      <td>1.000000</td>\n",
              "      <td>360.000000</td>\n",
              "      <td>7.000000</td>\n",
              "    </tr>\n",
              "    <tr>\n",
              "      <th>max</th>\n",
              "      <td>704.000000</td>\n",
              "      <td>1.000000</td>\n",
              "      <td>1.000000</td>\n",
              "      <td>1.000000</td>\n",
              "      <td>1.000000</td>\n",
              "      <td>1.000000</td>\n",
              "      <td>1.000000</td>\n",
              "      <td>1.000000</td>\n",
              "      <td>1.000000</td>\n",
              "      <td>1.000000</td>\n",
              "      <td>1.000000</td>\n",
              "      <td>4596.000000</td>\n",
              "      <td>10.000000</td>\n",
              "    </tr>\n",
              "  </tbody>\n",
              "</table>\n",
              "</div>\n",
              "      <button class=\"colab-df-convert\" onclick=\"convertToInteractive('df-d564864c-73a8-4502-a251-c0144ab6634c')\"\n",
              "              title=\"Convert this dataframe to an interactive table.\"\n",
              "              style=\"display:none;\">\n",
              "        \n",
              "  <svg xmlns=\"http://www.w3.org/2000/svg\" height=\"24px\"viewBox=\"0 0 24 24\"\n",
              "       width=\"24px\">\n",
              "    <path d=\"M0 0h24v24H0V0z\" fill=\"none\"/>\n",
              "    <path d=\"M18.56 5.44l.94 2.06.94-2.06 2.06-.94-2.06-.94-.94-2.06-.94 2.06-2.06.94zm-11 1L8.5 8.5l.94-2.06 2.06-.94-2.06-.94L8.5 2.5l-.94 2.06-2.06.94zm10 10l.94 2.06.94-2.06 2.06-.94-2.06-.94-.94-2.06-.94 2.06-2.06.94z\"/><path d=\"M17.41 7.96l-1.37-1.37c-.4-.4-.92-.59-1.43-.59-.52 0-1.04.2-1.43.59L10.3 9.45l-7.72 7.72c-.78.78-.78 2.05 0 2.83L4 21.41c.39.39.9.59 1.41.59.51 0 1.02-.2 1.41-.59l7.78-7.78 2.81-2.81c.8-.78.8-2.07 0-2.86zM5.41 20L4 18.59l7.72-7.72 1.47 1.35L5.41 20z\"/>\n",
              "  </svg>\n",
              "      </button>\n",
              "      \n",
              "  <style>\n",
              "    .colab-df-container {\n",
              "      display:flex;\n",
              "      flex-wrap:wrap;\n",
              "      gap: 12px;\n",
              "    }\n",
              "\n",
              "    .colab-df-convert {\n",
              "      background-color: #E8F0FE;\n",
              "      border: none;\n",
              "      border-radius: 50%;\n",
              "      cursor: pointer;\n",
              "      display: none;\n",
              "      fill: #1967D2;\n",
              "      height: 32px;\n",
              "      padding: 0 0 0 0;\n",
              "      width: 32px;\n",
              "    }\n",
              "\n",
              "    .colab-df-convert:hover {\n",
              "      background-color: #E2EBFA;\n",
              "      box-shadow: 0px 1px 2px rgba(60, 64, 67, 0.3), 0px 1px 3px 1px rgba(60, 64, 67, 0.15);\n",
              "      fill: #174EA6;\n",
              "    }\n",
              "\n",
              "    [theme=dark] .colab-df-convert {\n",
              "      background-color: #3B4455;\n",
              "      fill: #D2E3FC;\n",
              "    }\n",
              "\n",
              "    [theme=dark] .colab-df-convert:hover {\n",
              "      background-color: #434B5C;\n",
              "      box-shadow: 0px 1px 3px 1px rgba(0, 0, 0, 0.15);\n",
              "      filter: drop-shadow(0px 1px 2px rgba(0, 0, 0, 0.3));\n",
              "      fill: #FFFFFF;\n",
              "    }\n",
              "  </style>\n",
              "\n",
              "      <script>\n",
              "        const buttonEl =\n",
              "          document.querySelector('#df-d564864c-73a8-4502-a251-c0144ab6634c button.colab-df-convert');\n",
              "        buttonEl.style.display =\n",
              "          google.colab.kernel.accessAllowed ? 'block' : 'none';\n",
              "\n",
              "        async function convertToInteractive(key) {\n",
              "          const element = document.querySelector('#df-d564864c-73a8-4502-a251-c0144ab6634c');\n",
              "          const dataTable =\n",
              "            await google.colab.kernel.invokeFunction('convertToInteractive',\n",
              "                                                     [key], {});\n",
              "          if (!dataTable) return;\n",
              "\n",
              "          const docLinkHtml = 'Like what you see? Visit the ' +\n",
              "            '<a target=\"_blank\" href=https://colab.research.google.com/notebooks/data_table.ipynb>data table notebook</a>'\n",
              "            + ' to learn more about interactive tables.';\n",
              "          element.innerHTML = '';\n",
              "          dataTable['output_type'] = 'display_data';\n",
              "          await google.colab.output.renderOutput(dataTable, element);\n",
              "          const docLink = document.createElement('div');\n",
              "          docLink.innerHTML = docLinkHtml;\n",
              "          element.appendChild(docLink);\n",
              "        }\n",
              "      </script>\n",
              "    </div>\n",
              "  </div>\n",
              "  "
            ]
          },
          "metadata": {},
          "execution_count": 29
        }
      ]
    },
    {
      "cell_type": "code",
      "source": [
        "final.shape"
      ],
      "metadata": {
        "colab": {
          "base_uri": "https://localhost:8080/"
        },
        "id": "0viKj3lqlSgV",
        "outputId": "c1f6b49b-29e9-43af-f196-8fd8922d2a76"
      },
      "execution_count": null,
      "outputs": [
        {
          "output_type": "execute_result",
          "data": {
            "text/plain": [
              "(996, 23)"
            ]
          },
          "metadata": {},
          "execution_count": 30
        }
      ]
    },
    {
      "cell_type": "code",
      "source": [
        "print(\"\\nNo of individuals diagonised with ASD = \",len(final[final['Class/ASD'] == 'YES']))\n",
        "print(\"No of individuals not diagonised with ASD = \",len(final[final['Class/ASD'] == 'NO']))"
      ],
      "metadata": {
        "colab": {
          "base_uri": "https://localhost:8080/"
        },
        "id": "-dEmxNqNlVdQ",
        "outputId": "8c09ab85-d110-4f4e-ea10-3e8f195698bd"
      },
      "execution_count": null,
      "outputs": [
        {
          "output_type": "stream",
          "name": "stdout",
          "text": [
            "\n",
            "No of individuals diagonised with ASD =  330\n",
            "No of individuals not diagonised with ASD =  666\n"
          ]
        }
      ]
    },
    {
      "cell_type": "code",
      "source": [
        "sns.countplot(final['Class/ASD'])\n",
        "plt.savefig('combined_dataset.pdf', transparent=True, dpi=300)"
      ],
      "metadata": {
        "colab": {
          "base_uri": "https://localhost:8080/",
          "height": 279
        },
        "id": "JAGcwkTPlZz_",
        "outputId": "7bd04b2c-6989-463e-c5e4-be26c2eccee3"
      },
      "execution_count": null,
      "outputs": [
        {
          "output_type": "display_data",
          "data": {
            "text/plain": [
              "<Figure size 432x288 with 1 Axes>"
            ],
            "image/png": "[encoded data removed]"
          },
          "metadata": {
            "needs_background": "light"
          }
        }
      ]
    },
    {
      "cell_type": "code",
      "source": [
        "fig, ax = plt.subplots(figsize=(5.5,5))\n",
        "\n",
        "sns.heatmap(final.isnull(),yticklabels=False,cbar=False,cmap='rocket',ax=ax)\n",
        "ax.set_title(\"Combined dataset\",fontsize = 15)\n",
        "\n",
        "fig.tight_layout()\n",
        "plt.savefig('heatmap_final.pdf', transparent=True, dpi=300)"
      ],
      "metadata": {
        "colab": {
          "base_uri": "https://localhost:8080/",
          "height": 369
        },
        "id": "AqDt9VlSllaV",
        "outputId": "1ae71350-9135-436f-8275-8e31cb098450"
      },
      "execution_count": null,
      "outputs": [
        {
          "output_type": "display_data",
          "data": {
            "text/plain": [
              "<Figure size 396x360 with 1 Axes>"
            ],
            "image/png": "[encoded data removed]"
          },
          "metadata": {
            "needs_background": "light"
          }
        }
      ]
    },
    {
      "cell_type": "code",
      "source": [
        "#Correlation\n",
        "fig, ax = plt.subplots(figsize=(10,7))\n",
        "sns.heatmap(final.corr(),annot=True,cmap='coolwarm',vmin=0, vmax=1,ax=ax)\n",
        "ax.set_title(\"Combined dataset\",fontsize = 15)\n",
        "fig.tight_layout()\n",
        "plt.savefig('correlation_final.pdf', transparent=True, dpi=300)"
      ],
      "metadata": {
        "colab": {
          "base_uri": "https://localhost:8080/",
          "height": 513
        },
        "id": "CfWV4yAdl5pT",
        "outputId": "32e975d4-5bb5-484a-c4d7-86399ffdb50a"
      },
      "execution_count": null,
      "outputs": [
        {
          "output_type": "display_data",
          "data": {
            "text/plain": [
              "<Figure size 720x504 with 2 Axes>"
            ],
            "image/png": "[encoded data removed]"
          },
          "metadata": {
            "needs_background": "light"
          }
        }
      ]
    },
    {
      "cell_type": "markdown",
      "metadata": {
        "id": "PRLEatQdt1EC"
      },
      "source": [
        "*Spliting dependent and independent features*\n"
      ]
    },
    {
      "cell_type": "code",
      "source": [
        "shuffled_data = final.sample(frac=1,random_state=4)\n",
        "ASD_data = shuffled_data.loc[shuffled_data['Class/ASD'] == 'YES']\n",
        "non_ASD_data = shuffled_data.loc[shuffled_data['Class/ASD'] == 'NO'].sample(n=666)\n",
        "final= pd.concat([ASD_data, non_ASD_data])"
      ],
      "metadata": {
        "id": "ty5oEvMBAyZh"
      },
      "execution_count": null,
      "outputs": []
    },
    {
      "cell_type": "code",
      "execution_count": null,
      "metadata": {
        "id": "vUVAqS8GgpyJ"
      },
      "outputs": [],
      "source": [
        "# Split the data into features and target label\n",
        "raw_target= final['Class/ASD']\n",
        "raw_features = final[['A1_Score','A2_Score','A3_Score','A4_Score','A5_Score','A6_Score','A7_Score','A8_Score','A9_Score','A10_Score','Age_Mons', 'gender', 'ethnicity', 'jundice', 'austim', 'contry_of_res', 'result','relation']]"
      ]
    },
    {
      "cell_type": "markdown",
      "metadata": {
        "id": "pLVEOpt2uT32"
      },
      "source": [
        "*Feature Scaling*"
      ]
    },
    {
      "cell_type": "code",
      "execution_count": null,
      "metadata": {
        "id": "JAL4Z9Wsgp0O"
      },
      "outputs": [],
      "source": [
        "from sklearn.preprocessing import MinMaxScaler\n",
        "scaler = MinMaxScaler()\n",
        "num_features = ['Age_Mons', 'result']\n",
        "\n",
        "features_minmax_transform = pd.DataFrame(data = raw_features)\n",
        "features_minmax_transform[num_features] = scaler.fit_transform(raw_features[num_features])"
      ]
    },
    {
      "cell_type": "code",
      "execution_count": null,
      "metadata": {
        "colab": {
          "base_uri": "https://localhost:8080/",
          "height": 357
        },
        "id": "FLnD_7lDiSaB",
        "outputId": "892fead8-51e0-4207-c70e-631577199fe3"
      },
      "outputs": [
        {
          "output_type": "execute_result",
          "data": {
            "text/plain": [
              "     A1_Score  A2_Score  A3_Score  A4_Score  A5_Score  A6_Score  A7_Score  \\\n",
              "121         1         0         1         1         1         1         1   \n",
              "309         1         1         1         1         1         1         0   \n",
              "301         1         1         1         1         1         1         1   \n",
              "524         1         1         1         1         0         1         0   \n",
              "197         1         0         1         1         1         1         1   \n",
              "\n",
              "     A8_Score  A9_Score  A10_Score  Age_Mons gender        ethnicity jundice  \\\n",
              "121         1         1          1  0.034301      f   White-European      no   \n",
              "309         1         0          0  0.142480      f  Middle Eastern       no   \n",
              "301         1         1          1  0.076517      f   White-European     yes   \n",
              "524         1         1          1  0.087071      m   White-European      no   \n",
              "197         1         1          1  0.089710      m   White-European      no   \n",
              "\n",
              "    austim   contry_of_res  result relation  \n",
              "121     no   United States     0.9     Self  \n",
              "309     no  United Kingdom     0.7     Self  \n",
              "301     no  United Kingdom     1.0     Self  \n",
              "524     no  United Kingdom     0.8     Self  \n",
              "197     no         Germany     0.9     Self  "
            ],
            "text/html": [
              "\n",
              "  <div id=\"df-d32e2c9f-4f8e-4a19-876d-3a727b6e59b8\">\n",
              "    <div class=\"colab-df-container\">\n",
              "      <div>\n",
              "<style scoped>\n",
              "    .dataframe tbody tr th:only-of-type {\n",
              "        vertical-align: middle;\n",
              "    }\n",
              "\n",
              "    .dataframe tbody tr th {\n",
              "        vertical-align: top;\n",
              "    }\n",
              "\n",
              "    .dataframe thead th {\n",
              "        text-align: right;\n",
              "    }\n",
              "</style>\n",
              "<table border=\"1\" class=\"dataframe\">\n",
              "  <thead>\n",
              "    <tr style=\"text-align: right;\">\n",
              "      <th></th>\n",
              "      <th>A1_Score</th>\n",
              "      <th>A2_Score</th>\n",
              "      <th>A3_Score</th>\n",
              "      <th>A4_Score</th>\n",
              "      <th>A5_Score</th>\n",
              "      <th>A6_Score</th>\n",
              "      <th>A7_Score</th>\n",
              "      <th>A8_Score</th>\n",
              "      <th>A9_Score</th>\n",
              "      <th>A10_Score</th>\n",
              "      <th>Age_Mons</th>\n",
              "      <th>gender</th>\n",
              "      <th>ethnicity</th>\n",
              "      <th>jundice</th>\n",
              "      <th>austim</th>\n",
              "      <th>contry_of_res</th>\n",
              "      <th>result</th>\n",
              "      <th>relation</th>\n",
              "    </tr>\n",
              "  </thead>\n",
              "  <tbody>\n",
              "    <tr>\n",
              "      <th>121</th>\n",
              "      <td>1</td>\n",
              "      <td>0</td>\n",
              "      <td>1</td>\n",
              "      <td>1</td>\n",
              "      <td>1</td>\n",
              "      <td>1</td>\n",
              "      <td>1</td>\n",
              "      <td>1</td>\n",
              "      <td>1</td>\n",
              "      <td>1</td>\n",
              "      <td>0.034301</td>\n",
              "      <td>f</td>\n",
              "      <td>White-European</td>\n",
              "      <td>no</td>\n",
              "      <td>no</td>\n",
              "      <td>United States</td>\n",
              "      <td>0.9</td>\n",
              "      <td>Self</td>\n",
              "    </tr>\n",
              "    <tr>\n",
              "      <th>309</th>\n",
              "      <td>1</td>\n",
              "      <td>1</td>\n",
              "      <td>1</td>\n",
              "      <td>1</td>\n",
              "      <td>1</td>\n",
              "      <td>1</td>\n",
              "      <td>0</td>\n",
              "      <td>1</td>\n",
              "      <td>0</td>\n",
              "      <td>0</td>\n",
              "      <td>0.142480</td>\n",
              "      <td>f</td>\n",
              "      <td>Middle Eastern</td>\n",
              "      <td>no</td>\n",
              "      <td>no</td>\n",
              "      <td>United Kingdom</td>\n",
              "      <td>0.7</td>\n",
              "      <td>Self</td>\n",
              "    </tr>\n",
              "    <tr>\n",
              "      <th>301</th>\n",
              "      <td>1</td>\n",
              "      <td>1</td>\n",
              "      <td>1</td>\n",
              "      <td>1</td>\n",
              "      <td>1</td>\n",
              "      <td>1</td>\n",
              "      <td>1</td>\n",
              "      <td>1</td>\n",
              "      <td>1</td>\n",
              "      <td>1</td>\n",
              "      <td>0.076517</td>\n",
              "      <td>f</td>\n",
              "      <td>White-European</td>\n",
              "      <td>yes</td>\n",
              "      <td>no</td>\n",
              "      <td>United Kingdom</td>\n",
              "      <td>1.0</td>\n",
              "      <td>Self</td>\n",
              "    </tr>\n",
              "    <tr>\n",
              "      <th>524</th>\n",
              "      <td>1</td>\n",
              "      <td>1</td>\n",
              "      <td>1</td>\n",
              "      <td>1</td>\n",
              "      <td>0</td>\n",
              "      <td>1</td>\n",
              "      <td>0</td>\n",
              "      <td>1</td>\n",
              "      <td>1</td>\n",
              "      <td>1</td>\n",
              "      <td>0.087071</td>\n",
              "      <td>m</td>\n",
              "      <td>White-European</td>\n",
              "      <td>no</td>\n",
              "      <td>no</td>\n",
              "      <td>United Kingdom</td>\n",
              "      <td>0.8</td>\n",
              "      <td>Self</td>\n",
              "    </tr>\n",
              "    <tr>\n",
              "      <th>197</th>\n",
              "      <td>1</td>\n",
              "      <td>0</td>\n",
              "      <td>1</td>\n",
              "      <td>1</td>\n",
              "      <td>1</td>\n",
              "      <td>1</td>\n",
              "      <td>1</td>\n",
              "      <td>1</td>\n",
              "      <td>1</td>\n",
              "      <td>1</td>\n",
              "      <td>0.089710</td>\n",
              "      <td>m</td>\n",
              "      <td>White-European</td>\n",
              "      <td>no</td>\n",
              "      <td>no</td>\n",
              "      <td>Germany</td>\n",
              "      <td>0.9</td>\n",
              "      <td>Self</td>\n",
              "    </tr>\n",
              "  </tbody>\n",
              "</table>\n",
              "</div>\n",
              "      <button class=\"colab-df-convert\" onclick=\"convertToInteractive('df-d32e2c9f-4f8e-4a19-876d-3a727b6e59b8')\"\n",
              "              title=\"Convert this dataframe to an interactive table.\"\n",
              "              style=\"display:none;\">\n",
              "        \n",
              "  <svg xmlns=\"http://www.w3.org/2000/svg\" height=\"24px\"viewBox=\"0 0 24 24\"\n",
              "       width=\"24px\">\n",
              "    <path d=\"M0 0h24v24H0V0z\" fill=\"none\"/>\n",
              "    <path d=\"M18.56 5.44l.94 2.06.94-2.06 2.06-.94-2.06-.94-.94-2.06-.94 2.06-2.06.94zm-11 1L8.5 8.5l.94-2.06 2.06-.94-2.06-.94L8.5 2.5l-.94 2.06-2.06.94zm10 10l.94 2.06.94-2.06 2.06-.94-2.06-.94-.94-2.06-.94 2.06-2.06.94z\"/><path d=\"M17.41 7.96l-1.37-1.37c-.4-.4-.92-.59-1.43-.59-.52 0-1.04.2-1.43.59L10.3 9.45l-7.72 7.72c-.78.78-.78 2.05 0 2.83L4 21.41c.39.39.9.59 1.41.59.51 0 1.02-.2 1.41-.59l7.78-7.78 2.81-2.81c.8-.78.8-2.07 0-2.86zM5.41 20L4 18.59l7.72-7.72 1.47 1.35L5.41 20z\"/>\n",
              "  </svg>\n",
              "      </button>\n",
              "      \n",
              "  <style>\n",
              "    .colab-df-container {\n",
              "      display:flex;\n",
              "      flex-wrap:wrap;\n",
              "      gap: 12px;\n",
              "    }\n",
              "\n",
              "    .colab-df-convert {\n",
              "      background-color: #E8F0FE;\n",
              "      border: none;\n",
              "      border-radius: 50%;\n",
              "      cursor: pointer;\n",
              "      display: none;\n",
              "      fill: #1967D2;\n",
              "      height: 32px;\n",
              "      padding: 0 0 0 0;\n",
              "      width: 32px;\n",
              "    }\n",
              "\n",
              "    .colab-df-convert:hover {\n",
              "      background-color: #E2EBFA;\n",
              "      box-shadow: 0px 1px 2px rgba(60, 64, 67, 0.3), 0px 1px 3px 1px rgba(60, 64, 67, 0.15);\n",
              "      fill: #174EA6;\n",
              "    }\n",
              "\n",
              "    [theme=dark] .colab-df-convert {\n",
              "      background-color: #3B4455;\n",
              "      fill: #D2E3FC;\n",
              "    }\n",
              "\n",
              "    [theme=dark] .colab-df-convert:hover {\n",
              "      background-color: #434B5C;\n",
              "      box-shadow: 0px 1px 3px 1px rgba(0, 0, 0, 0.15);\n",
              "      filter: drop-shadow(0px 1px 2px rgba(0, 0, 0, 0.3));\n",
              "      fill: #FFFFFF;\n",
              "    }\n",
              "  </style>\n",
              "\n",
              "      <script>\n",
              "        const buttonEl =\n",
              "          document.querySelector('#df-d32e2c9f-4f8e-4a19-876d-3a727b6e59b8 button.colab-df-convert');\n",
              "        buttonEl.style.display =\n",
              "          google.colab.kernel.accessAllowed ? 'block' : 'none';\n",
              "\n",
              "        async function convertToInteractive(key) {\n",
              "          const element = document.querySelector('#df-d32e2c9f-4f8e-4a19-876d-3a727b6e59b8');\n",
              "          const dataTable =\n",
              "            await google.colab.kernel.invokeFunction('convertToInteractive',\n",
              "                                                     [key], {});\n",
              "          if (!dataTable) return;\n",
              "\n",
              "          const docLinkHtml = 'Like what you see? Visit the ' +\n",
              "            '<a target=\"_blank\" href=https://colab.research.google.com/notebooks/data_table.ipynb>data table notebook</a>'\n",
              "            + ' to learn more about interactive tables.';\n",
              "          element.innerHTML = '';\n",
              "          dataTable['output_type'] = 'display_data';\n",
              "          await google.colab.output.renderOutput(dataTable, element);\n",
              "          const docLink = document.createElement('div');\n",
              "          docLink.innerHTML = docLinkHtml;\n",
              "          element.appendChild(docLink);\n",
              "        }\n",
              "      </script>\n",
              "    </div>\n",
              "  </div>\n",
              "  "
            ]
          },
          "metadata": {},
          "execution_count": 39
        }
      ],
      "source": [
        "features_minmax_transform.head()"
      ]
    },
    {
      "cell_type": "markdown",
      "metadata": {
        "id": "WbB3cr5tuWFk"
      },
      "source": [
        "##Encoding Categorical variables"
      ]
    },
    {
      "cell_type": "code",
      "execution_count": null,
      "metadata": {
        "id": "-3bzzF0_iU90"
      },
      "outputs": [],
      "source": [
        "features = pd.get_dummies(features_minmax_transform)"
      ]
    },
    {
      "cell_type": "code",
      "execution_count": null,
      "metadata": {
        "id": "4iG6Q-QfiY2H"
      },
      "outputs": [],
      "source": [
        "from sklearn.preprocessing import LabelEncoder\n",
        "le = LabelEncoder()\n",
        "target = le.fit_transform(raw_target)"
      ]
    },
    {
      "cell_type": "markdown",
      "metadata": {
        "id": "QjHtc0BbuYMw"
      },
      "source": [
        "*Function for Evaluation*"
      ]
    },
    {
      "cell_type": "code",
      "execution_count": null,
      "metadata": {
        "id": "0LgMP3gAiaBA"
      },
      "outputs": [],
      "source": [
        "def model_report(y_act, y_pred):\n",
        "    from sklearn import metrics\n",
        "    from sklearn.metrics import accuracy_score, f1_score, precision_score, recall_score, cohen_kappa_score, roc_curve, auc, log_loss\n",
        "    print(\"Accuracy = \", accuracy_score(y_act, y_pred))\n",
        "    print(\"Precision = \" ,precision_score(y_act, y_pred))\n",
        "    print(\"Recall\\Sensitivity = \" ,recall_score(y_act, y_pred))\n",
        "    confusion = metrics.confusion_matrix(y_act, y_pred)\n",
        "    #[row, column]\n",
        "    TP = confusion[1, 1]\n",
        "    TN = confusion[0, 0]\n",
        "    FP = confusion[0, 1]\n",
        "    FN = confusion[1, 0]\n",
        "    specificity = TN / (TN + FP)\n",
        "    print(\"Specificity = \" ,specificity)\n",
        "    print(\"F1 Score = \" ,f1_score(y_act, y_pred))\n",
        "    false_positive_rate, true_positive_rate, thresholds = roc_curve(y_act, y_pred)\n",
        "    print(\"AUC Score =\", auc(false_positive_rate, true_positive_rate))\n",
        "    print(\"Kappa score = \",cohen_kappa_score(y_act,y_pred))\n",
        "    print(\"Log Loss = \" ,log_loss(y_act, y_pred),\"\\n\")\n",
        "    pass\n"
      ]
    },
    {
      "cell_type": "code",
      "source": [
        "import numpy as np\n",
        "from sklearn.model_selection import learning_curve\n",
        "from sklearn.model_selection import ShuffleSplit\n",
        "\n",
        "def plot_learning_curve(estimator, title, X, y, ylim=None, cv=None, n_jobs=1, train_sizes=np.linspace(.1, 1.0, 5)):\n",
        "    plt.figure()\n",
        "    plt.title(title)\n",
        "    if ylim is not None:\n",
        "        plt.ylim(*ylim)\n",
        "    plt.xlabel(\"Training examples\")\n",
        "    plt.ylabel(\"AUC\")\n",
        "    train_sizes, train_scores, test_scores = learning_curve(\n",
        "        estimator, X, y, cv=cv, n_jobs=n_jobs, train_sizes=train_sizes, scoring = 'roc_auc')\n",
        "    train_scores_mean = np.mean(train_scores, axis=1)\n",
        "    train_scores_std = np.std(train_scores, axis=1)\n",
        "    test_scores_mean = np.mean(test_scores, axis=1)\n",
        "    test_scores_std = np.std(test_scores, axis=1)\n",
        "\n",
        "    plt.fill_between(train_sizes, train_scores_mean - train_scores_std,\n",
        "                     train_scores_mean + train_scores_std, alpha=0.1,\n",
        "                     color=\"r\")\n",
        "    plt.fill_between(train_sizes, test_scores_mean - test_scores_std,\n",
        "                     test_scores_mean + test_scores_std, alpha=0.1, color=\"b\")\n",
        "    plt.plot(train_sizes, train_scores_mean, 'o-', color=\"r\",\n",
        "             label=\"Training score\")\n",
        "    plt.plot(train_sizes, test_scores_mean, 'o-', color=\"b\",\n",
        "             label=\"Cross-validation score\")\n",
        "\n",
        "    plt.legend(loc=\"lower right\")\n",
        "    return plt"
      ],
      "metadata": {
        "id": "MBdG3uG_khlU"
      },
      "execution_count": null,
      "outputs": []
    },
    {
      "cell_type": "markdown",
      "metadata": {
        "id": "rCEAS01AubVo"
      },
      "source": [
        "\n",
        "##Spliting Data\n"
      ]
    },
    {
      "cell_type": "code",
      "execution_count": null,
      "metadata": {
        "id": "7r1VSSq2iaDM"
      },
      "outputs": [],
      "source": [
        "X = features\n",
        "y = target"
      ]
    },
    {
      "cell_type": "markdown",
      "source": [
        "## Feature Selection"
      ],
      "metadata": {
        "id": "hvDwWEOj_jt2"
      }
    },
    {
      "cell_type": "code",
      "source": [
        "from sklearn.feature_selection import SelectKBest \n",
        "from sklearn.feature_selection import chi2  \n",
        "chi2_features = SelectKBest(chi2,k=75)\n",
        "fit= chi2_features.fit(X, y)\n",
        "scores = pd.DataFrame(fit.scores_)\n",
        "columns = pd.DataFrame(features.columns)\n",
        "featureScores = pd.concat([columns,scores],axis=1)\n",
        "featureScores.columns = ['Features','Score']\n",
        "print(featureScores.nlargest(50,'Score')) "
      ],
      "metadata": {
        "colab": {
          "base_uri": "https://localhost:8080/"
        },
        "id": "r0CWIj02wYKT",
        "outputId": "a005efc7-e6bf-47f9-f132-27397dc498c8"
      },
      "execution_count": null,
      "outputs": [
        {
          "output_type": "stream",
          "name": "stdout",
          "text": [
            "                               Features       Score\n",
            "8                              A9_Score  223.587733\n",
            "5                              A6_Score  186.444131\n",
            "3                              A4_Score  121.202318\n",
            "4                              A5_Score  112.167723\n",
            "2                              A3_Score   94.831550\n",
            "11                               result   82.375528\n",
            "9                             A10_Score   65.995649\n",
            "6                              A7_Score   64.352114\n",
            "1                              A2_Score   44.744991\n",
            "107  contry_of_res_United Arab Emirates   35.582565\n",
            "109         contry_of_res_United States   31.032798\n",
            "0                              A1_Score   27.850997\n",
            "7                              A8_Score   27.482103\n",
            "18            ethnicity_Middle Eastern    20.818204\n",
            "114                     relation_Parent   20.436989\n",
            "72                 contry_of_res_Jordan   15.562309\n",
            "23             ethnicity_White-European   12.413462\n",
            "47                 contry_of_res_Canada   12.198645\n",
            "64                  contry_of_res_India   11.565635\n",
            "116                       relation_Self   10.525262\n",
            "28                           austim_yes   10.003248\n",
            "14                      ethnicity_Asian    8.647649\n",
            "97           contry_of_res_South Africa    8.072727\n",
            "26                          jundice_yes    7.402915\n",
            "100             contry_of_res_Sri Lanka    6.936937\n",
            "101                contry_of_res_Sweden    6.054545\n",
            "83            contry_of_res_New Zealand    5.963894\n",
            "17                     ethnicity_Latino    5.279630\n",
            "15                      ethnicity_Black    5.214044\n",
            "35              contry_of_res_Australia    4.988554\n",
            "21                ethnicity_South Asian    4.924008\n",
            "44                 contry_of_res_Brazil    4.619894\n",
            "108        contry_of_res_United Kingdom    4.536256\n",
            "16                   ethnicity_Hispanic    4.316757\n",
            "39                contry_of_res_Bahrain    4.036364\n",
            "49                  contry_of_res_China    4.036364\n",
            "81                  contry_of_res_Nepal    4.036364\n",
            "66                   contry_of_res_Iran    3.468468\n",
            "36                contry_of_res_Austria    3.045482\n",
            "29            contry_of_res_Afghanistan    2.654098\n",
            "20                   ethnicity_Pasifika    2.244577\n",
            "42                 contry_of_res_Bhutan    2.018182\n",
            "45               contry_of_res_Bulgaria    2.018182\n",
            "51                 contry_of_res_Cyprus    2.018182\n",
            "56                 contry_of_res_Europe    2.018182\n",
            "57                contry_of_res_Finland    2.018182\n",
            "69            contry_of_res_Isle of Man    2.018182\n",
            "79                  contry_of_res_Malta    2.018182\n",
            "86                contry_of_res_Nigeria    2.018182\n",
            "96           contry_of_res_Sierra Leone    2.018182\n"
          ]
        }
      ]
    },
    {
      "cell_type": "code",
      "source": [
        "from sklearn.feature_selection import SelectKBest \n",
        "from sklearn.feature_selection import chi2  \n",
        "# 700 features with highest chi-squared statistics are selected \n",
        "chi2_features = SelectKBest(chi2,k=75)\n",
        "X = chi2_features.fit_transform(X, y)\n",
        "y = target"
      ],
      "metadata": {
        "id": "-Qxwi13ewjMC"
      },
      "execution_count": null,
      "outputs": []
    },
    {
      "cell_type": "code",
      "source": [
        "#Splitting the data into train test spit\n",
        "from sklearn.model_selection import train_test_split\n",
        "X_train, X_test, y_train, y_test = train_test_split(X, y, test_size = 0.20, random_state = 42)"
      ],
      "metadata": {
        "id": "3wKst1WOtWis"
      },
      "execution_count": null,
      "outputs": []
    },
    {
      "cell_type": "markdown",
      "source": [
        "##KNeighborsClassifier"
      ],
      "metadata": {
        "id": "LJtr3ZGNHAa5"
      }
    },
    {
      "cell_type": "code",
      "source": [
        "from sklearn.model_selection import RandomizedSearchCV\n",
        "\n",
        "n_neighbors = [int(x) for x in np.linspace(1,1000,10)]\n",
        "weights = ['uniform','distance']\n",
        "algorithm =['auto', 'ball_tree', 'kd_tree', 'brute']\n",
        "leaf_size = [int(x) for x in np.linspace(1,1000,10)]\n",
        "\n",
        "random_grid = {'n_neighbors':n_neighbors,\n",
        "               'weights':weights,\n",
        "               'algorithm':algorithm,\n",
        "               'leaf_size':leaf_size}\n",
        "print(random_grid)"
      ],
      "metadata": {
        "colab": {
          "base_uri": "https://localhost:8080/"
        },
        "id": "YsZl3WITDXUu",
        "outputId": "6179feae-8144-43ed-aab8-ef2a518bff43"
      },
      "execution_count": null,
      "outputs": [
        {
          "output_type": "stream",
          "name": "stdout",
          "text": [
            "{'n_neighbors': [1, 112, 223, 334, 445, 556, 667, 778, 889, 1000], 'weights': ['uniform', 'distance'], 'algorithm': ['auto', 'ball_tree', 'kd_tree', 'brute'], 'leaf_size': [1, 112, 223, 334, 445, 556, 667, 778, 889, 1000]}\n"
          ]
        }
      ]
    },
    {
      "cell_type": "code",
      "source": [
        "from sklearn import neighbors\n",
        "\n",
        "knn = neighbors.KNeighborsClassifier()\n",
        "knn_randomcv=RandomizedSearchCV(estimator= knn, param_distributions=random_grid, n_iter=100, cv=5, verbose=2,\n",
        "                               random_state=100,n_jobs=-1)\n",
        "#fit the randomized model\n",
        "knn_randomcv.fit(X_train,y_train)"
      ],
      "metadata": {
        "colab": {
          "base_uri": "https://localhost:8080/"
        },
        "id": "SOScqsrsDeTw",
        "outputId": "73e1dc00-ff7a-44c9-dfc6-46e77cda3cf3"
      },
      "execution_count": null,
      "outputs": [
        {
          "output_type": "stream",
          "name": "stdout",
          "text": [
            "Fitting 5 folds for each of 100 candidates, totalling 500 fits\n"
          ]
        },
        {
          "output_type": "execute_result",
          "data": {
            "text/plain": [
              "RandomizedSearchCV(cv=5, estimator=KNeighborsClassifier(), n_iter=100,\n",
              "                   n_jobs=-1,\n",
              "                   param_distributions={'algorithm': ['auto', 'ball_tree',\n",
              "                                                      'kd_tree', 'brute'],\n",
              "                                        'leaf_size': [1, 112, 223, 334, 445,\n",
              "                                                      556, 667, 778, 889,\n",
              "                                                      1000],\n",
              "                                        'n_neighbors': [1, 112, 223, 334, 445,\n",
              "                                                        556, 667, 778, 889,\n",
              "                                                        1000],\n",
              "                                        'weights': ['uniform', 'distance']},\n",
              "                   random_state=100, verbose=2)"
            ]
          },
          "metadata": {},
          "execution_count": 49
        }
      ]
    },
    {
      "cell_type": "code",
      "source": [
        "print('\\n All results:')\n",
        "print(knn_randomcv.cv_results_)"
      ],
      "metadata": {
        "colab": {
          "base_uri": "https://localhost:8080/"
        },
        "id": "9u4Zc9WyDi8r",
        "outputId": "0fe16699-c13e-41e1-ff19-c788fd852851"
      },
      "execution_count": null,
      "outputs": [
        {
          "output_type": "stream",
          "name": "stdout",
          "text": [
            "\n",
            " All results:\n",
            "{'mean_fit_time': array([0.00174265, 0.00937543, 0.0016304 , 0.00076561, 0.00118208,\n",
            "       0.00095034, 0.00311108, 0.0069376 , 0.00192351, 0.00107789,\n",
            "       0.00073929, 0.00083199, 0.00072894, 0.00117011, 0.00137091,\n",
            "       0.00076084, 0.00113602, 0.00085073, 0.00138903, 0.00115685,\n",
            "       0.00132785, 0.00075345, 0.00080814, 0.0015327 , 0.00149961,\n",
            "       0.00129194, 0.00114985, 0.00076022, 0.0016284 , 0.00071278,\n",
            "       0.00118804, 0.00151196, 0.00183096, 0.0072422 , 0.00080385,\n",
            "       0.00119238, 0.00141883, 0.00084257, 0.00080414, 0.00171332,\n",
            "       0.00869675, 0.0010675 , 0.00142088, 0.00267167, 0.00358181,\n",
            "       0.00476007, 0.00274138, 0.00257573, 0.00156536, 0.00205226,\n",
            "       0.00166245, 0.00289435, 0.0019362 , 0.00225511, 0.00082059,\n",
            "       0.00153275, 0.00506654, 0.00079808, 0.00217447, 0.00218129,\n",
            "       0.00079455, 0.0029459 , 0.00083103, 0.00070691, 0.0007503 ,\n",
            "       0.01534247, 0.00303769, 0.00080957, 0.00742712, 0.00077424,\n",
            "       0.00135622, 0.00133238, 0.00250745, 0.00225234, 0.00124431,\n",
            "       0.00156288, 0.00074983, 0.00224371, 0.00144806, 0.00087156,\n",
            "       0.00083795, 0.00353365, 0.00142016, 0.00087714, 0.0023262 ,\n",
            "       0.00080957, 0.00129924, 0.00087547, 0.00082636, 0.0017065 ,\n",
            "       0.00806441, 0.00212626, 0.00115085, 0.0021275 , 0.00070295,\n",
            "       0.00075259, 0.00151896, 0.00159407, 0.00082412, 0.00208292]), 'std_fit_time': array([1.27216222e-04, 4.19310869e-03, 2.33779482e-04, 8.62976985e-05,\n",
            "       6.55343244e-05, 5.43450035e-05, 1.53355612e-03, 1.81798290e-03,\n",
            "       1.49233819e-03, 5.03372509e-04, 4.38496817e-05, 8.80086395e-05,\n",
            "       6.96183231e-05, 8.13813663e-05, 1.00205598e-03, 2.17421012e-05,\n",
            "       3.96180806e-05, 6.34330362e-05, 7.23531844e-05, 1.29016962e-04,\n",
            "       3.77779035e-05, 5.04779825e-05, 1.09385613e-04, 1.29704230e-04,\n",
            "       1.08620155e-04, 7.96847302e-04, 8.93643468e-05, 9.25987314e-05,\n",
            "       4.01373128e-04, 4.59282561e-05, 1.76254327e-04, 7.17468970e-05,\n",
            "       6.85864120e-04, 2.84954687e-03, 5.57105404e-05, 1.47717764e-04,\n",
            "       3.13621313e-04, 8.07493845e-05, 1.44859911e-04, 5.30934513e-04,\n",
            "       5.47976308e-03, 1.01467720e-04, 3.67660114e-04, 2.28059835e-03,\n",
            "       2.44422826e-03, 2.34808729e-03, 1.80327528e-03, 2.22652178e-03,\n",
            "       1.13588946e-03, 1.13835475e-03, 1.44241891e-03, 1.09512678e-03,\n",
            "       7.49012326e-04, 9.62255774e-04, 9.62598767e-05, 1.54420216e-03,\n",
            "       3.53483393e-03, 8.01222086e-05, 1.82545228e-03, 1.38196005e-03,\n",
            "       5.93932408e-05, 2.90157011e-03, 1.11934677e-04, 3.89876711e-05,\n",
            "       1.00003678e-04, 4.46958975e-03, 8.13841043e-05, 1.06537373e-04,\n",
            "       2.70550752e-03, 4.62381102e-05, 9.46303254e-05, 9.62807689e-04,\n",
            "       3.27344168e-03, 1.59302662e-03, 8.17970636e-04, 7.58823908e-04,\n",
            "       6.97617814e-05, 1.76240420e-04, 5.05543196e-05, 1.13194814e-04,\n",
            "       4.07079320e-05, 1.07126488e-03, 1.22916141e-03, 7.86048374e-05,\n",
            "       1.45349587e-04, 4.02868425e-05, 7.10814676e-05, 8.21124109e-05,\n",
            "       8.67215915e-05, 1.82711060e-03, 3.90765965e-03, 6.65592597e-05,\n",
            "       9.28098333e-05, 9.52435643e-05, 2.71916781e-05, 3.85518050e-05,\n",
            "       7.33791811e-05, 1.63383198e-03, 4.63461679e-05, 1.69272674e-03]), 'mean_score_time': array([0.02909889, 0.00106049, 0.03638721, 0.00193758, 0.00208426,\n",
            "       0.01964159, 0.03703461, 0.06447887, 0.00283408, 0.00189242,\n",
            "       0.01005392, 0.01696339, 0.000313  , 0.03025017, 0.01550746,\n",
            "       0.01742191, 0.00387592, 0.00457821, 0.032165  , 0.01804442,\n",
            "       0.0131372 , 0.00327001, 0.01506586, 0.00032201, 0.02414007,\n",
            "       0.02532554, 0.03846769, 0.00033159, 0.02535257, 0.00033627,\n",
            "       0.01934137, 0.02948098, 0.00044298, 0.03135018, 0.00963392,\n",
            "       0.03412795, 0.03904586, 0.00215802, 0.01186938, 0.02154489,\n",
            "       0.00037646, 0.00111251, 0.04833169, 0.0003551 , 0.00084028,\n",
            "       0.00031586, 0.05121021, 0.02010169, 0.0005074 , 0.00037851,\n",
            "       0.00036654, 0.00177522, 0.00050664, 0.02879424, 0.01695256,\n",
            "       0.00033269, 0.01949968, 0.01748843, 0.00111365, 0.00034671,\n",
            "       0.01662121, 0.02138081, 0.00034671, 0.01079082, 0.00789185,\n",
            "       0.00202222, 0.03877587, 0.00034318, 0.00196023, 0.01434684,\n",
            "       0.0214366 , 0.01204882, 0.02697706, 0.00040565, 0.00049582,\n",
            "       0.03086967, 0.0013432 , 0.0315414 , 0.00038142, 0.01902938,\n",
            "       0.01349874, 0.00256414, 0.0015316 , 0.03368587, 0.00037088,\n",
            "       0.01452069, 0.01395173, 0.02111292, 0.00171533, 0.00240264,\n",
            "       0.02646508, 0.0227654 , 0.02365417, 0.0003324 , 0.00797648,\n",
            "       0.00955114, 0.03209734, 0.00266366, 0.014046  , 0.03905563]), 'std_score_time': array([1.40112039e-03, 7.59857450e-04, 9.91101537e-03, 3.19548909e-03,\n",
            "       3.46927517e-03, 3.69862073e-03, 2.86241733e-03, 1.06420114e-02,\n",
            "       3.37803063e-03, 3.13083149e-03, 5.13571284e-03, 1.12681386e-03,\n",
            "       3.47111250e-05, 2.24556874e-03, 3.07416090e-03, 7.22594149e-04,\n",
            "       4.32537320e-03, 1.41397861e-03, 1.39504594e-03, 9.69075142e-04,\n",
            "       3.42846434e-04, 2.34070157e-04, 1.90725666e-03, 5.19079683e-05,\n",
            "       6.91110140e-03, 7.60397050e-03, 1.07044891e-02, 3.64817511e-05,\n",
            "       3.16514205e-03, 5.84043964e-05, 6.35984088e-03, 2.66602909e-04,\n",
            "       1.43602184e-04, 1.32828306e-03, 2.46154527e-04, 1.71879527e-03,\n",
            "       4.36296636e-03, 2.22184357e-03, 7.27422276e-03, 6.61541837e-03,\n",
            "       5.26903981e-05, 1.56777630e-03, 1.27323684e-02, 9.28131406e-06,\n",
            "       1.05173968e-03, 1.23393074e-05, 1.83341174e-02, 8.60432452e-03,\n",
            "       3.42637557e-04, 6.71813637e-05, 9.46601148e-05, 1.96506583e-03,\n",
            "       2.06072172e-04, 3.27608805e-03, 5.19471223e-03, 6.61092374e-05,\n",
            "       6.77036810e-03, 5.82946861e-04, 1.37701767e-03, 7.07394634e-05,\n",
            "       3.98174853e-03, 3.10010832e-03, 5.44107346e-05, 6.16491355e-03,\n",
            "       2.57574589e-04, 3.18905611e-03, 6.89651787e-03, 5.90430698e-05,\n",
            "       3.25425724e-03, 2.17196892e-04, 6.26315955e-03, 3.05065919e-03,\n",
            "       8.21547776e-03, 5.56870678e-05, 3.09046127e-04, 3.82925371e-03,\n",
            "       2.04595078e-03, 2.49651352e-03, 2.88785433e-05, 8.35218335e-04,\n",
            "       1.53460712e-03, 4.16744470e-03, 2.39524247e-03, 1.47773245e-02,\n",
            "       3.56454833e-05, 6.26195719e-04, 1.71118748e-03, 5.20862871e-03,\n",
            "       2.77349878e-03, 3.49671029e-03, 2.05870035e-03, 2.34947157e-04,\n",
            "       6.04512165e-04, 2.73956953e-05, 7.98328645e-04, 4.73321942e-04,\n",
            "       1.98569446e-03, 3.06761408e-03, 8.30392291e-04, 8.58930650e-03]), 'param_weights': masked_array(data=['uniform', 'uniform', 'distance', 'uniform',\n",
            "                   'distance', 'uniform', 'uniform', 'uniform', 'uniform',\n",
            "                   'distance', 'uniform', 'distance', 'uniform',\n",
            "                   'uniform', 'uniform', 'uniform', 'distance',\n",
            "                   'distance', 'uniform', 'uniform', 'distance',\n",
            "                   'distance', 'uniform', 'distance', 'uniform',\n",
            "                   'distance', 'uniform', 'distance', 'distance',\n",
            "                   'distance', 'distance', 'distance', 'uniform',\n",
            "                   'uniform', 'distance', 'uniform', 'uniform',\n",
            "                   'distance', 'uniform', 'uniform', 'uniform', 'uniform',\n",
            "                   'uniform', 'distance', 'distance', 'distance',\n",
            "                   'uniform', 'uniform', 'uniform', 'distance',\n",
            "                   'distance', 'uniform', 'distance', 'uniform',\n",
            "                   'uniform', 'uniform', 'distance', 'uniform', 'uniform',\n",
            "                   'distance', 'distance', 'distance', 'uniform',\n",
            "                   'uniform', 'uniform', 'uniform', 'uniform', 'distance',\n",
            "                   'distance', 'distance', 'uniform', 'distance',\n",
            "                   'uniform', 'uniform', 'distance', 'distance',\n",
            "                   'distance', 'distance', 'distance', 'uniform',\n",
            "                   'distance', 'distance', 'distance', 'uniform',\n",
            "                   'distance', 'uniform', 'distance', 'distance',\n",
            "                   'uniform', 'distance', 'distance', 'uniform',\n",
            "                   'distance', 'distance', 'uniform', 'distance',\n",
            "                   'distance', 'distance', 'uniform', 'distance'],\n",
            "             mask=[False, False, False, False, False, False, False, False,\n",
            "                   False, False, False, False, False, False, False, False,\n",
            "                   False, False, False, False, False, False, False, False,\n",
            "                   False, False, False, False, False, False, False, False,\n",
            "                   False, False, False, False, False, False, False, False,\n",
            "                   False, False, False, False, False, False, False, False,\n",
            "                   False, False, False, False, False, False, False, False,\n",
            "                   False, False, False, False, False, False, False, False,\n",
            "                   False, False, False, False, False, False, False, False,\n",
            "                   False, False, False, False, False, False, False, False,\n",
            "                   False, False, False, False, False, False, False, False,\n",
            "                   False, False, False, False, False, False, False, False,\n",
            "                   False, False, False, False],\n",
            "       fill_value='?',\n",
            "            dtype=object), 'param_n_neighbors': masked_array(data=[223, 1000, 445, 889, 1000, 223, 556, 334, 889, 889, 1,\n",
            "                   556, 889, 223, 112, 445, 889, 1, 445, 1, 1, 1, 223,\n",
            "                   1000, 1, 556, 223, 778, 223, 1000, 1, 445, 667, 1, 223,\n",
            "                   445, 556, 667, 1, 1, 889, 778, 556, 778, 667, 889, 445,\n",
            "                   334, 1000, 889, 1000, 667, 778, 112, 223, 667, 1, 445,\n",
            "                   778, 667, 445, 112, 667, 1, 1, 667, 445, 667, 889, 445,\n",
            "                   1, 223, 556, 778, 889, 334, 667, 334, 667, 445, 334,\n",
            "                   1000, 1000, 556, 667, 223, 1, 556, 778, 667, 1, 112,\n",
            "                   223, 1000, 1, 223, 445, 889, 223, 556],\n",
            "             mask=[False, False, False, False, False, False, False, False,\n",
            "                   False, False, False, False, False, False, False, False,\n",
            "                   False, False, False, False, False, False, False, False,\n",
            "                   False, False, False, False, False, False, False, False,\n",
            "                   False, False, False, False, False, False, False, False,\n",
            "                   False, False, False, False, False, False, False, False,\n",
            "                   False, False, False, False, False, False, False, False,\n",
            "                   False, False, False, False, False, False, False, False,\n",
            "                   False, False, False, False, False, False, False, False,\n",
            "                   False, False, False, False, False, False, False, False,\n",
            "                   False, False, False, False, False, False, False, False,\n",
            "                   False, False, False, False, False, False, False, False,\n",
            "                   False, False, False, False],\n",
            "       fill_value='?',\n",
            "            dtype=object), 'param_leaf_size': masked_array(data=[445, 1, 1000, 889, 778, 334, 223, 1, 889, 1000, 445, 1,\n",
            "                   778, 334, 112, 223, 334, 556, 889, 667, 778, 223, 778,\n",
            "                   223, 889, 889, 1000, 1000, 778, 1, 556, 445, 667, 1,\n",
            "                   112, 334, 556, 889, 556, 778, 1, 667, 667, 889, 667,\n",
            "                   889, 445, 667, 445, 445, 1000, 223, 1000, 889, 1000,\n",
            "                   334, 112, 1000, 556, 334, 112, 556, 334, 223, 1000, 1,\n",
            "                   112, 334, 1, 778, 556, 667, 1, 889, 778, 334, 1000,\n",
            "                   223, 889, 889, 556, 112, 778, 112, 112, 223, 1000,\n",
            "                   1000, 778, 778, 1, 112, 667, 223, 889, 889, 334, 112,\n",
            "                   112, 778],\n",
            "             mask=[False, False, False, False, False, False, False, False,\n",
            "                   False, False, False, False, False, False, False, False,\n",
            "                   False, False, False, False, False, False, False, False,\n",
            "                   False, False, False, False, False, False, False, False,\n",
            "                   False, False, False, False, False, False, False, False,\n",
            "                   False, False, False, False, False, False, False, False,\n",
            "                   False, False, False, False, False, False, False, False,\n",
            "                   False, False, False, False, False, False, False, False,\n",
            "                   False, False, False, False, False, False, False, False,\n",
            "                   False, False, False, False, False, False, False, False,\n",
            "                   False, False, False, False, False, False, False, False,\n",
            "                   False, False, False, False, False, False, False, False,\n",
            "                   False, False, False, False],\n",
            "       fill_value='?',\n",
            "            dtype=object), 'param_algorithm': masked_array(data=['kd_tree', 'ball_tree', 'kd_tree', 'brute',\n",
            "                   'ball_tree', 'brute', 'kd_tree', 'ball_tree',\n",
            "                   'ball_tree', 'auto', 'brute', 'brute', 'auto',\n",
            "                   'ball_tree', 'brute', 'auto', 'ball_tree', 'auto',\n",
            "                   'kd_tree', 'ball_tree', 'kd_tree', 'auto', 'brute',\n",
            "                   'ball_tree', 'kd_tree', 'auto', 'ball_tree', 'auto',\n",
            "                   'kd_tree', 'auto', 'ball_tree', 'kd_tree', 'kd_tree',\n",
            "                   'ball_tree', 'brute', 'ball_tree', 'ball_tree', 'auto',\n",
            "                   'brute', 'kd_tree', 'ball_tree', 'ball_tree',\n",
            "                   'ball_tree', 'auto', 'auto', 'kd_tree', 'ball_tree',\n",
            "                   'brute', 'auto', 'auto', 'brute', 'ball_tree',\n",
            "                   'ball_tree', 'kd_tree', 'auto', 'auto', 'ball_tree',\n",
            "                   'brute', 'auto', 'brute', 'brute', 'kd_tree', 'brute',\n",
            "                   'auto', 'brute', 'kd_tree', 'kd_tree', 'auto',\n",
            "                   'ball_tree', 'auto', 'kd_tree', 'auto', 'auto',\n",
            "                   'kd_tree', 'auto', 'ball_tree', 'brute', 'kd_tree',\n",
            "                   'kd_tree', 'brute', 'brute', 'ball_tree', 'auto',\n",
            "                   'brute', 'ball_tree', 'brute', 'kd_tree', 'auto',\n",
            "                   'brute', 'auto', 'ball_tree', 'ball_tree', 'ball_tree',\n",
            "                   'kd_tree', 'auto', 'brute', 'kd_tree', 'brute', 'auto',\n",
            "                   'ball_tree'],\n",
            "             mask=[False, False, False, False, False, False, False, False,\n",
            "                   False, False, False, False, False, False, False, False,\n",
            "                   False, False, False, False, False, False, False, False,\n",
            "                   False, False, False, False, False, False, False, False,\n",
            "                   False, False, False, False, False, False, False, False,\n",
            "                   False, False, False, False, False, False, False, False,\n",
            "                   False, False, False, False, False, False, False, False,\n",
            "                   False, False, False, False, False, False, False, False,\n",
            "                   False, False, False, False, False, False, False, False,\n",
            "                   False, False, False, False, False, False, False, False,\n",
            "                   False, False, False, False, False, False, False, False,\n",
            "                   False, False, False, False, False, False, False, False,\n",
            "                   False, False, False, False],\n",
            "       fill_value='?',\n",
            "            dtype=object), 'params': [{'weights': 'uniform', 'n_neighbors': 223, 'leaf_size': 445, 'algorithm': 'kd_tree'}, {'weights': 'uniform', 'n_neighbors': 1000, 'leaf_size': 1, 'algorithm': 'ball_tree'}, {'weights': 'distance', 'n_neighbors': 445, 'leaf_size': 1000, 'algorithm': 'kd_tree'}, {'weights': 'uniform', 'n_neighbors': 889, 'leaf_size': 889, 'algorithm': 'brute'}, {'weights': 'distance', 'n_neighbors': 1000, 'leaf_size': 778, 'algorithm': 'ball_tree'}, {'weights': 'uniform', 'n_neighbors': 223, 'leaf_size': 334, 'algorithm': 'brute'}, {'weights': 'uniform', 'n_neighbors': 556, 'leaf_size': 223, 'algorithm': 'kd_tree'}, {'weights': 'uniform', 'n_neighbors': 334, 'leaf_size': 1, 'algorithm': 'ball_tree'}, {'weights': 'uniform', 'n_neighbors': 889, 'leaf_size': 889, 'algorithm': 'ball_tree'}, {'weights': 'distance', 'n_neighbors': 889, 'leaf_size': 1000, 'algorithm': 'auto'}, {'weights': 'uniform', 'n_neighbors': 1, 'leaf_size': 445, 'algorithm': 'brute'}, {'weights': 'distance', 'n_neighbors': 556, 'leaf_size': 1, 'algorithm': 'brute'}, {'weights': 'uniform', 'n_neighbors': 889, 'leaf_size': 778, 'algorithm': 'auto'}, {'weights': 'uniform', 'n_neighbors': 223, 'leaf_size': 334, 'algorithm': 'ball_tree'}, {'weights': 'uniform', 'n_neighbors': 112, 'leaf_size': 112, 'algorithm': 'brute'}, {'weights': 'uniform', 'n_neighbors': 445, 'leaf_size': 223, 'algorithm': 'auto'}, {'weights': 'distance', 'n_neighbors': 889, 'leaf_size': 334, 'algorithm': 'ball_tree'}, {'weights': 'distance', 'n_neighbors': 1, 'leaf_size': 556, 'algorithm': 'auto'}, {'weights': 'uniform', 'n_neighbors': 445, 'leaf_size': 889, 'algorithm': 'kd_tree'}, {'weights': 'uniform', 'n_neighbors': 1, 'leaf_size': 667, 'algorithm': 'ball_tree'}, {'weights': 'distance', 'n_neighbors': 1, 'leaf_size': 778, 'algorithm': 'kd_tree'}, {'weights': 'distance', 'n_neighbors': 1, 'leaf_size': 223, 'algorithm': 'auto'}, {'weights': 'uniform', 'n_neighbors': 223, 'leaf_size': 778, 'algorithm': 'brute'}, {'weights': 'distance', 'n_neighbors': 1000, 'leaf_size': 223, 'algorithm': 'ball_tree'}, {'weights': 'uniform', 'n_neighbors': 1, 'leaf_size': 889, 'algorithm': 'kd_tree'}, {'weights': 'distance', 'n_neighbors': 556, 'leaf_size': 889, 'algorithm': 'auto'}, {'weights': 'uniform', 'n_neighbors': 223, 'leaf_size': 1000, 'algorithm': 'ball_tree'}, {'weights': 'distance', 'n_neighbors': 778, 'leaf_size': 1000, 'algorithm': 'auto'}, {'weights': 'distance', 'n_neighbors': 223, 'leaf_size': 778, 'algorithm': 'kd_tree'}, {'weights': 'distance', 'n_neighbors': 1000, 'leaf_size': 1, 'algorithm': 'auto'}, {'weights': 'distance', 'n_neighbors': 1, 'leaf_size': 556, 'algorithm': 'ball_tree'}, {'weights': 'distance', 'n_neighbors': 445, 'leaf_size': 445, 'algorithm': 'kd_tree'}, {'weights': 'uniform', 'n_neighbors': 667, 'leaf_size': 667, 'algorithm': 'kd_tree'}, {'weights': 'uniform', 'n_neighbors': 1, 'leaf_size': 1, 'algorithm': 'ball_tree'}, {'weights': 'distance', 'n_neighbors': 223, 'leaf_size': 112, 'algorithm': 'brute'}, {'weights': 'uniform', 'n_neighbors': 445, 'leaf_size': 334, 'algorithm': 'ball_tree'}, {'weights': 'uniform', 'n_neighbors': 556, 'leaf_size': 556, 'algorithm': 'ball_tree'}, {'weights': 'distance', 'n_neighbors': 667, 'leaf_size': 889, 'algorithm': 'auto'}, {'weights': 'uniform', 'n_neighbors': 1, 'leaf_size': 556, 'algorithm': 'brute'}, {'weights': 'uniform', 'n_neighbors': 1, 'leaf_size': 778, 'algorithm': 'kd_tree'}, {'weights': 'uniform', 'n_neighbors': 889, 'leaf_size': 1, 'algorithm': 'ball_tree'}, {'weights': 'uniform', 'n_neighbors': 778, 'leaf_size': 667, 'algorithm': 'ball_tree'}, {'weights': 'uniform', 'n_neighbors': 556, 'leaf_size': 667, 'algorithm': 'ball_tree'}, {'weights': 'distance', 'n_neighbors': 778, 'leaf_size': 889, 'algorithm': 'auto'}, {'weights': 'distance', 'n_neighbors': 667, 'leaf_size': 667, 'algorithm': 'auto'}, {'weights': 'distance', 'n_neighbors': 889, 'leaf_size': 889, 'algorithm': 'kd_tree'}, {'weights': 'uniform', 'n_neighbors': 445, 'leaf_size': 445, 'algorithm': 'ball_tree'}, {'weights': 'uniform', 'n_neighbors': 334, 'leaf_size': 667, 'algorithm': 'brute'}, {'weights': 'uniform', 'n_neighbors': 1000, 'leaf_size': 445, 'algorithm': 'auto'}, {'weights': 'distance', 'n_neighbors': 889, 'leaf_size': 445, 'algorithm': 'auto'}, {'weights': 'distance', 'n_neighbors': 1000, 'leaf_size': 1000, 'algorithm': 'brute'}, {'weights': 'uniform', 'n_neighbors': 667, 'leaf_size': 223, 'algorithm': 'ball_tree'}, {'weights': 'distance', 'n_neighbors': 778, 'leaf_size': 1000, 'algorithm': 'ball_tree'}, {'weights': 'uniform', 'n_neighbors': 112, 'leaf_size': 889, 'algorithm': 'kd_tree'}, {'weights': 'uniform', 'n_neighbors': 223, 'leaf_size': 1000, 'algorithm': 'auto'}, {'weights': 'uniform', 'n_neighbors': 667, 'leaf_size': 334, 'algorithm': 'auto'}, {'weights': 'distance', 'n_neighbors': 1, 'leaf_size': 112, 'algorithm': 'ball_tree'}, {'weights': 'uniform', 'n_neighbors': 445, 'leaf_size': 1000, 'algorithm': 'brute'}, {'weights': 'uniform', 'n_neighbors': 778, 'leaf_size': 556, 'algorithm': 'auto'}, {'weights': 'distance', 'n_neighbors': 667, 'leaf_size': 334, 'algorithm': 'brute'}, {'weights': 'distance', 'n_neighbors': 445, 'leaf_size': 112, 'algorithm': 'brute'}, {'weights': 'distance', 'n_neighbors': 112, 'leaf_size': 556, 'algorithm': 'kd_tree'}, {'weights': 'uniform', 'n_neighbors': 667, 'leaf_size': 334, 'algorithm': 'brute'}, {'weights': 'uniform', 'n_neighbors': 1, 'leaf_size': 223, 'algorithm': 'auto'}, {'weights': 'uniform', 'n_neighbors': 1, 'leaf_size': 1000, 'algorithm': 'brute'}, {'weights': 'uniform', 'n_neighbors': 667, 'leaf_size': 1, 'algorithm': 'kd_tree'}, {'weights': 'uniform', 'n_neighbors': 445, 'leaf_size': 112, 'algorithm': 'kd_tree'}, {'weights': 'distance', 'n_neighbors': 667, 'leaf_size': 334, 'algorithm': 'auto'}, {'weights': 'distance', 'n_neighbors': 889, 'leaf_size': 1, 'algorithm': 'ball_tree'}, {'weights': 'distance', 'n_neighbors': 445, 'leaf_size': 778, 'algorithm': 'auto'}, {'weights': 'uniform', 'n_neighbors': 1, 'leaf_size': 556, 'algorithm': 'kd_tree'}, {'weights': 'distance', 'n_neighbors': 223, 'leaf_size': 667, 'algorithm': 'auto'}, {'weights': 'uniform', 'n_neighbors': 556, 'leaf_size': 1, 'algorithm': 'auto'}, {'weights': 'uniform', 'n_neighbors': 778, 'leaf_size': 889, 'algorithm': 'kd_tree'}, {'weights': 'distance', 'n_neighbors': 889, 'leaf_size': 778, 'algorithm': 'auto'}, {'weights': 'distance', 'n_neighbors': 334, 'leaf_size': 334, 'algorithm': 'ball_tree'}, {'weights': 'distance', 'n_neighbors': 667, 'leaf_size': 1000, 'algorithm': 'brute'}, {'weights': 'distance', 'n_neighbors': 334, 'leaf_size': 223, 'algorithm': 'kd_tree'}, {'weights': 'distance', 'n_neighbors': 667, 'leaf_size': 889, 'algorithm': 'kd_tree'}, {'weights': 'uniform', 'n_neighbors': 445, 'leaf_size': 889, 'algorithm': 'brute'}, {'weights': 'distance', 'n_neighbors': 334, 'leaf_size': 556, 'algorithm': 'brute'}, {'weights': 'distance', 'n_neighbors': 1000, 'leaf_size': 112, 'algorithm': 'ball_tree'}, {'weights': 'distance', 'n_neighbors': 1000, 'leaf_size': 778, 'algorithm': 'auto'}, {'weights': 'uniform', 'n_neighbors': 556, 'leaf_size': 112, 'algorithm': 'brute'}, {'weights': 'distance', 'n_neighbors': 667, 'leaf_size': 112, 'algorithm': 'ball_tree'}, {'weights': 'uniform', 'n_neighbors': 223, 'leaf_size': 223, 'algorithm': 'brute'}, {'weights': 'distance', 'n_neighbors': 1, 'leaf_size': 1000, 'algorithm': 'kd_tree'}, {'weights': 'distance', 'n_neighbors': 556, 'leaf_size': 1000, 'algorithm': 'auto'}, {'weights': 'uniform', 'n_neighbors': 778, 'leaf_size': 778, 'algorithm': 'brute'}, {'weights': 'distance', 'n_neighbors': 667, 'leaf_size': 778, 'algorithm': 'auto'}, {'weights': 'distance', 'n_neighbors': 1, 'leaf_size': 1, 'algorithm': 'ball_tree'}, {'weights': 'uniform', 'n_neighbors': 112, 'leaf_size': 112, 'algorithm': 'ball_tree'}, {'weights': 'distance', 'n_neighbors': 223, 'leaf_size': 667, 'algorithm': 'ball_tree'}, {'weights': 'distance', 'n_neighbors': 1000, 'leaf_size': 223, 'algorithm': 'kd_tree'}, {'weights': 'uniform', 'n_neighbors': 1, 'leaf_size': 889, 'algorithm': 'auto'}, {'weights': 'distance', 'n_neighbors': 223, 'leaf_size': 889, 'algorithm': 'brute'}, {'weights': 'distance', 'n_neighbors': 445, 'leaf_size': 334, 'algorithm': 'kd_tree'}, {'weights': 'distance', 'n_neighbors': 889, 'leaf_size': 112, 'algorithm': 'brute'}, {'weights': 'uniform', 'n_neighbors': 223, 'leaf_size': 112, 'algorithm': 'auto'}, {'weights': 'distance', 'n_neighbors': 556, 'leaf_size': 778, 'algorithm': 'ball_tree'}], 'split0_test_score': array([0.9625 ,     nan, 0.7875 ,     nan,     nan, 0.95625, 0.675  ,\n",
            "       0.9375 ,     nan,     nan, 0.94375, 0.7125 ,     nan, 0.9625 ,\n",
            "       0.95   , 0.675  ,     nan, 0.94375, 0.675  , 0.94375, 0.94375,\n",
            "       0.94375, 0.95625,     nan, 0.94375, 0.7125 , 0.9625 ,     nan,\n",
            "       0.9625 ,     nan, 0.94375, 0.7875 ,     nan, 0.94375, 0.95   ,\n",
            "       0.675  , 0.675  ,     nan, 0.94375, 0.94375,     nan,     nan,\n",
            "       0.675  ,     nan,     nan,     nan, 0.675  , 0.93125,     nan,\n",
            "           nan,     nan,     nan,     nan, 0.9625 , 0.95625,     nan,\n",
            "       0.94375, 0.675  ,     nan,     nan, 0.7875 , 0.9625 ,     nan,\n",
            "       0.94375, 0.94375,     nan, 0.675  ,     nan,     nan, 0.7875 ,\n",
            "       0.94375, 0.95   , 0.675  ,     nan,     nan, 0.95   ,     nan,\n",
            "       0.95   ,     nan, 0.675  , 0.95   ,     nan,     nan, 0.675  ,\n",
            "           nan, 0.95625, 0.94375, 0.7125 ,     nan,     nan, 0.94375,\n",
            "       0.9625 , 0.9625 ,     nan, 0.94375, 0.95   , 0.7875 ,     nan,\n",
            "       0.95625, 0.7125 ]), 'split1_test_score': array([0.95597484,        nan, 0.79245283,        nan,        nan,\n",
            "       0.94968553, 0.67295597, 0.9245283 ,        nan,        nan,\n",
            "       0.94968553, 0.6918239 ,        nan, 0.95597484, 0.97484277,\n",
            "       0.67295597,        nan, 0.94968553, 0.67295597, 0.94968553,\n",
            "       0.94968553, 0.94968553, 0.94968553,        nan, 0.94968553,\n",
            "       0.6918239 , 0.95597484,        nan, 0.96226415,        nan,\n",
            "       0.94968553, 0.79245283,        nan, 0.94968553, 0.96226415,\n",
            "       0.67295597, 0.67295597,        nan, 0.94968553, 0.94968553,\n",
            "              nan,        nan, 0.67295597,        nan,        nan,\n",
            "              nan, 0.67295597, 0.91823899,        nan,        nan,\n",
            "              nan,        nan,        nan, 0.96855346, 0.94968553,\n",
            "              nan, 0.94968553, 0.67295597,        nan,        nan,\n",
            "       0.79245283, 0.97484277,        nan, 0.94968553, 0.94968553,\n",
            "              nan, 0.67295597,        nan,        nan, 0.79245283,\n",
            "       0.94968553, 0.96226415, 0.67295597,        nan,        nan,\n",
            "       0.93710692,        nan, 0.93710692,        nan, 0.67295597,\n",
            "       0.93081761,        nan,        nan, 0.67295597,        nan,\n",
            "       0.94968553, 0.94968553, 0.6918239 ,        nan,        nan,\n",
            "       0.94968553, 0.97484277, 0.96226415,        nan, 0.94968553,\n",
            "       0.96226415, 0.79245283,        nan, 0.94968553, 0.6918239 ]), 'split2_test_score': array([0.95597484,        nan, 0.79245283,        nan,        nan,\n",
            "       0.94968553, 0.67295597, 0.91823899,        nan,        nan,\n",
            "       0.9245283 , 0.71069182,        nan, 0.95597484, 0.97484277,\n",
            "       0.67295597,        nan, 0.9245283 , 0.67295597, 0.91823899,\n",
            "       0.91823899, 0.9245283 , 0.94968553,        nan, 0.91823899,\n",
            "       0.71069182, 0.95597484,        nan, 0.95597484,        nan,\n",
            "       0.91823899, 0.79245283,        nan, 0.91823899, 0.95597484,\n",
            "       0.67295597, 0.67295597,        nan, 0.9245283 , 0.91823899,\n",
            "              nan,        nan, 0.67295597,        nan,        nan,\n",
            "              nan, 0.67295597, 0.91823899,        nan,        nan,\n",
            "              nan,        nan,        nan, 0.96855346, 0.94968553,\n",
            "              nan, 0.91823899, 0.67295597,        nan,        nan,\n",
            "       0.79245283, 0.96855346,        nan, 0.9245283 , 0.9245283 ,\n",
            "              nan, 0.67295597,        nan,        nan, 0.79245283,\n",
            "       0.91823899, 0.95597484, 0.67295597,        nan,        nan,\n",
            "       0.93081761,        nan, 0.93710692,        nan, 0.67295597,\n",
            "       0.93081761,        nan,        nan, 0.67295597,        nan,\n",
            "       0.94968553, 0.91823899, 0.71069182,        nan,        nan,\n",
            "       0.91823899, 0.97484277, 0.95597484,        nan, 0.9245283 ,\n",
            "       0.95597484, 0.79245283,        nan, 0.94968553, 0.71069182]), 'split3_test_score': array([0.97484277,        nan, 0.79874214,        nan,        nan,\n",
            "       0.96855346, 0.67295597, 0.93710692,        nan,        nan,\n",
            "       0.93081761, 0.70440252,        nan, 0.97484277, 0.97484277,\n",
            "       0.67295597,        nan, 0.93081761, 0.67295597, 0.9245283 ,\n",
            "       0.9245283 , 0.93081761, 0.96855346,        nan, 0.9245283 ,\n",
            "       0.70440252, 0.97484277,        nan, 0.96855346,        nan,\n",
            "       0.9245283 , 0.79874214,        nan, 0.91823899, 0.96226415,\n",
            "       0.67295597, 0.67295597,        nan, 0.93081761, 0.9245283 ,\n",
            "              nan,        nan, 0.67295597,        nan,        nan,\n",
            "              nan, 0.67295597, 0.93710692,        nan,        nan,\n",
            "              nan,        nan,        nan, 0.97484277, 0.96855346,\n",
            "              nan, 0.91823899, 0.67295597,        nan,        nan,\n",
            "       0.79874214, 0.94968553,        nan, 0.93081761, 0.93081761,\n",
            "              nan, 0.67295597,        nan,        nan, 0.79874214,\n",
            "       0.9245283 , 0.96226415, 0.67295597,        nan,        nan,\n",
            "       0.94339623,        nan, 0.94968553,        nan, 0.67295597,\n",
            "       0.94339623,        nan,        nan, 0.67295597,        nan,\n",
            "       0.96855346, 0.9245283 , 0.70440252,        nan,        nan,\n",
            "       0.91823899, 0.96226415, 0.96855346,        nan, 0.93081761,\n",
            "       0.96226415, 0.79874214,        nan, 0.96855346, 0.70440252]), 'split4_test_score': array([0.94968553,        nan, 0.79245283,        nan,        nan,\n",
            "       0.94968553, 0.67295597, 0.90566038,        nan,        nan,\n",
            "       0.93081761, 0.68553459,        nan, 0.94968553, 0.94968553,\n",
            "       0.67295597,        nan, 0.93081761, 0.67295597, 0.91823899,\n",
            "       0.91823899, 0.93081761, 0.94968553,        nan, 0.91823899,\n",
            "       0.68553459, 0.94968553,        nan, 0.94339623,        nan,\n",
            "       0.91823899, 0.79245283,        nan, 0.91823899, 0.94339623,\n",
            "       0.67295597, 0.67295597,        nan, 0.93081761, 0.91823899,\n",
            "              nan,        nan, 0.67295597,        nan,        nan,\n",
            "              nan, 0.67295597, 0.90566038,        nan,        nan,\n",
            "              nan,        nan,        nan, 0.94968553, 0.94968553,\n",
            "              nan, 0.9245283 , 0.67295597,        nan,        nan,\n",
            "       0.79245283, 0.94339623,        nan, 0.93081761, 0.93081761,\n",
            "              nan, 0.67295597,        nan,        nan, 0.79245283,\n",
            "       0.91823899, 0.94339623, 0.67295597,        nan,        nan,\n",
            "       0.91823899,        nan, 0.91823899,        nan, 0.67295597,\n",
            "       0.91823899,        nan,        nan, 0.67295597,        nan,\n",
            "       0.94968553, 0.91823899, 0.68553459,        nan,        nan,\n",
            "       0.91823899, 0.94968553, 0.94339623,        nan, 0.93081761,\n",
            "       0.94339623, 0.79245283,        nan, 0.94968553, 0.68553459]), 'mean_test_score': array([0.9597956 ,        nan, 0.79272013,        nan,        nan,\n",
            "       0.95477201, 0.67336478, 0.92460692,        nan,        nan,\n",
            "       0.93591981, 0.70099057,        nan, 0.9597956 , 0.96484277,\n",
            "       0.67336478,        nan, 0.93591981, 0.67336478, 0.93088836,\n",
            "       0.93088836, 0.93591981, 0.95477201,        nan, 0.93088836,\n",
            "       0.70099057, 0.9597956 ,        nan, 0.95853774,        nan,\n",
            "       0.93088836, 0.79272013,        nan, 0.9296305 , 0.95477987,\n",
            "       0.67336478, 0.67336478,        nan, 0.93591981, 0.93088836,\n",
            "              nan,        nan, 0.67336478,        nan,        nan,\n",
            "              nan, 0.67336478, 0.92209906,        nan,        nan,\n",
            "              nan,        nan,        nan, 0.96482704, 0.95477201,\n",
            "              nan, 0.93088836, 0.67336478,        nan,        nan,\n",
            "       0.79272013, 0.9597956 ,        nan, 0.93591981, 0.93591981,\n",
            "              nan, 0.67336478,        nan,        nan, 0.79272013,\n",
            "       0.93088836, 0.95477987, 0.67336478,        nan,        nan,\n",
            "       0.93591195,        nan, 0.93842767,        nan, 0.67336478,\n",
            "       0.93465409,        nan,        nan, 0.67336478,        nan,\n",
            "       0.95477201, 0.93088836, 0.70099057,        nan,        nan,\n",
            "       0.9296305 , 0.96482704, 0.95853774,        nan, 0.93591981,\n",
            "       0.95477987, 0.79272013,        nan, 0.95477201, 0.70099057]), 'std_test_score': array([0.00854565,        nan, 0.00357012,        nan,        nan,\n",
            "       0.00734479, 0.00081761, 0.01201674,        nan,        nan,\n",
            "       0.00930203, 0.01059375,        nan, 0.00854565, 0.01224785,\n",
            "       0.00081761,        nan, 0.00930203, 0.00081761, 0.01326061,\n",
            "       0.01326061, 0.00930203, 0.00734479,        nan, 0.01326061,\n",
            "       0.01059375, 0.00854565,        nan, 0.00855259,        nan,\n",
            "       0.01326061, 0.00357012,        nan, 0.01407739, 0.00729234,\n",
            "       0.00081761, 0.00081761,        nan, 0.00930203, 0.01326061,\n",
            "              nan,        nan, 0.00081761,        nan,        nan,\n",
            "              nan, 0.00081761, 0.01103636,        nan,        nan,\n",
            "              nan,        nan,        nan, 0.00851783, 0.00734479,\n",
            "              nan, 0.01326061, 0.00081761,        nan,        nan,\n",
            "       0.00357012, 0.01167548,        nan, 0.00930203, 0.00930203,\n",
            "              nan, 0.00081761,        nan,        nan, 0.00357012,\n",
            "       0.01326061, 0.00729234, 0.00081761,        nan,        nan,\n",
            "       0.01090139,        nan, 0.01159077,        nan, 0.00081761,\n",
            "       0.01105273,        nan,        nan, 0.00081761,        nan,\n",
            "       0.00734479, 0.01326061, 0.01059375,        nan,        nan,\n",
            "       0.01407739, 0.00940083, 0.00855259,        nan, 0.00930203,\n",
            "       0.00729234, 0.00357012,        nan, 0.00734479, 0.01059375]), 'rank_test_score': array([  4,  76,  40,  75,  74,  13,  49,  38,  71,  70,  19,  45,  66,\n",
            "         4,   1,  49,  68,  19,  49,  28,  28,  19,  13,  97,  28,  45,\n",
            "         4,  93,   8,  92,  28,  40,  87,  36,  10,  49,  49,  83,  19,\n",
            "        28,  84,  89,  49,  65,  72,  94,  49,  39,  67, 100,  63,  99,\n",
            "        81,   2,  13,  86,  28,  49,  69,  82,  40,   4,  85,  19,  19,\n",
            "        88,  49,  90,  91,  40,  28,  10,  49,  95,  96,  26,  98,  18,\n",
            "        80,  49,  27,  61,  62,  49,  64,  13,  28,  45,  79,  78,  36,\n",
            "         2,   8,  73,  19,  10,  40,  77,  13,  45], dtype=int32)}\n"
          ]
        }
      ]
    },
    {
      "cell_type": "code",
      "source": [
        "print('\\n Best estimator:')\n",
        "print(knn_randomcv.best_estimator_)"
      ],
      "metadata": {
        "colab": {
          "base_uri": "https://localhost:8080/"
        },
        "id": "26m4c2f3Dsj3",
        "outputId": "8811be60-31bd-4d7c-ee98-a299255315b6"
      },
      "execution_count": null,
      "outputs": [
        {
          "output_type": "stream",
          "name": "stdout",
          "text": [
            "\n",
            " Best estimator:\n",
            "KNeighborsClassifier(algorithm='brute', leaf_size=112, n_neighbors=112)\n"
          ]
        }
      ]
    },
    {
      "cell_type": "code",
      "source": [
        "print('\\n Best hyperparameters:')\n",
        "print(knn_randomcv.best_params_)"
      ],
      "metadata": {
        "colab": {
          "base_uri": "https://localhost:8080/"
        },
        "id": "RU089NMDD2i7",
        "outputId": "3ad16ef1-7dd0-4b46-9b01-44d054a07bd5"
      },
      "execution_count": null,
      "outputs": [
        {
          "output_type": "stream",
          "name": "stdout",
          "text": [
            "\n",
            " Best hyperparameters:\n",
            "{'weights': 'uniform', 'n_neighbors': 112, 'leaf_size': 112, 'algorithm': 'brute'}\n"
          ]
        }
      ]
    },
    {
      "cell_type": "code",
      "source": [
        "from sklearn import neighbors\n",
        "\n",
        "knn = neighbors.KNeighborsClassifier(weights='uniform', n_neighbors= 112, leaf_size=112, algorithm='brute')\n",
        "knn.fit(X_train,y_train)"
      ],
      "metadata": {
        "colab": {
          "base_uri": "https://localhost:8080/"
        },
        "id": "um3AkranD4u-",
        "outputId": "7773997f-abce-4125-c412-899f7ddbec12"
      },
      "execution_count": null,
      "outputs": [
        {
          "output_type": "execute_result",
          "data": {
            "text/plain": [
              "KNeighborsClassifier(algorithm='brute', leaf_size=112, n_neighbors=112)"
            ]
          },
          "metadata": {},
          "execution_count": 53
        }
      ]
    },
    {
      "cell_type": "code",
      "source": [
        "y_pred_knn = knn.predict(X_test)\n",
        "model_report(y_test, y_pred_knn)"
      ],
      "metadata": {
        "colab": {
          "base_uri": "https://localhost:8080/"
        },
        "id": "u-J4PhjREEUG",
        "outputId": "8042a0cf-983d-413b-f69c-18220a76cc99"
      },
      "execution_count": null,
      "outputs": [
        {
          "output_type": "stream",
          "name": "stdout",
          "text": [
            "Accuracy =  0.945\n",
            "Precision =  0.9041095890410958\n",
            "Recall\\Sensitivity =  0.9428571428571428\n",
            "Specificity =  0.9461538461538461\n",
            "F1 Score =  0.923076923076923\n",
            "AUC Score = 0.9445054945054944\n",
            "Kappa score =  0.8803046789989118\n",
            "Log Loss =  1.899660687630145 \n",
            "\n"
          ]
        }
      ]
    },
    {
      "cell_type": "code",
      "source": [
        "title = \"Learning Curves (KNeighborsClassifier)\"                                        # fill this in\n",
        "cv = ShuffleSplit(n_splits=5, test_size=0.2, random_state=42)\n",
        "knn = neighbors.KNeighborsClassifier(weights='uniform', n_neighbors= 112, leaf_size=112, algorithm='brute')                                 # fill this in\n",
        "plot_learning_curve(knn, title, X, y, ylim=(0.2, 1.25), cv=cv, n_jobs=4)\n",
        "plt.savefig('KNN_curve.pdf', transparent=True, dpi=300)\n",
        "plt.savefig('KNN_curve.eps', transparent=True, dpi=300)\n",
        "plt.show()"
      ],
      "metadata": {
        "colab": {
          "base_uri": "https://localhost:8080/",
          "height": 434
        },
        "id": "Z_54FOHfAAsm",
        "outputId": "dfafbe64-94be-44ba-a5f1-145757bc4c2b"
      },
      "execution_count": null,
      "outputs": [
        {
          "output_type": "stream",
          "name": "stderr",
          "text": [
            "WARNING:matplotlib.backends.backend_ps:The PostScript backend does not support transparency; partially transparent artists will be rendered opaque.\n",
            "WARNING:matplotlib.backends.backend_ps:The PostScript backend does not support transparency; partially transparent artists will be rendered opaque.\n",
            "WARNING:matplotlib.backends.backend_ps:The PostScript backend does not support transparency; partially transparent artists will be rendered opaque.\n",
            "WARNING:matplotlib.backends.backend_ps:The PostScript backend does not support transparency; partially transparent artists will be rendered opaque.\n",
            "WARNING:matplotlib.backends.backend_ps:The PostScript backend does not support transparency; partially transparent artists will be rendered opaque.\n",
            "WARNING:matplotlib.backends.backend_ps:The PostScript backend does not support transparency; partially transparent artists will be rendered opaque.\n",
            "WARNING:matplotlib.backends.backend_ps:The PostScript backend does not support transparency; partially transparent artists will be rendered opaque.\n",
            "WARNING:matplotlib.backends.backend_ps:The PostScript backend does not support transparency; partially transparent artists will be rendered opaque.\n"
          ]
        },
        {
          "output_type": "display_data",
          "data": {
            "text/plain": [
              "<Figure size 432x288 with 1 Axes>"
            ],
            "image/png": "[encoded data removed]"
          },
          "metadata": {
            "needs_background": "light"
          }
        }
      ]
    },
    {
      "cell_type": "code",
      "source": [
        "from sklearn.metrics import confusion_matrix\n",
        "\n",
        "cm = confusion_matrix(y_test, y_pred_knn)\n",
        "plt.figure(figsize=(10, 8))\n",
        "ax = sns.heatmap(cm, cmap=plt.cm.Greens, annot=True, square=True, annot_kws={\"size\": 25})\n",
        "plt.title('Confusion Matrix', fontsize=20)\n",
        "ax.set_ylabel('Actual Label', fontsize=20)\n",
        "ax.set_xlabel('Predicted Label', fontsize=20)\n",
        "plt.savefig('KNN_confusion.pdf', transparent=True, dpi=300)\n",
        "plt.savefig('KNN_confusion.eps', transparent=True, dpi=300)"
      ],
      "metadata": {
        "colab": {
          "base_uri": "https://localhost:8080/",
          "height": 527
        },
        "id": "xMRDIUAMBuuS",
        "outputId": "4d68bea3-a93a-4deb-c22e-a55239d03553"
      },
      "execution_count": null,
      "outputs": [
        {
          "output_type": "display_data",
          "data": {
            "text/plain": [
              "<Figure size 720x576 with 2 Axes>"
            ],
            "image/png": "[encoded data removed]"
          },
          "metadata": {
            "needs_background": "light"
          }
        }
      ]
    },
    {
      "cell_type": "markdown",
      "source": [
        "##SVM Classifier"
      ],
      "metadata": {
        "id": "Rr-jJ-D1G1I1"
      }
    },
    {
      "cell_type": "code",
      "source": [
        "from sklearn.model_selection import RandomizedSearchCV\n",
        "\n",
        "C = [int(x) for x in np.linspace(start = 1, stop = 20, num = 10)]\n",
        "kernel = ['linear', 'poly', 'rbf', 'sigmoid']\n",
        "degree = [int(x) for x in np.linspace(start = 1, stop = 10, num = 10)]\n",
        "\n",
        "random_grid = {'C':C,\n",
        "               'kernel':kernel,\n",
        "               'degree':degree}\n",
        "print(random_grid)"
      ],
      "metadata": {
        "colab": {
          "base_uri": "https://localhost:8080/"
        },
        "id": "zXVwGuQXEX42",
        "outputId": "a688a83f-c8f2-4991-a41b-1b39a3c88da5"
      },
      "execution_count": null,
      "outputs": [
        {
          "output_type": "stream",
          "name": "stdout",
          "text": [
            "{'C': [1, 3, 5, 7, 9, 11, 13, 15, 17, 20], 'kernel': ['linear', 'poly', 'rbf', 'sigmoid'], 'degree': [1, 2, 3, 4, 5, 6, 7, 8, 9, 10]}\n"
          ]
        }
      ]
    },
    {
      "cell_type": "code",
      "source": [
        "from sklearn.svm import SVC\n",
        "svc = SVC()\n",
        "svc_randomcv=RandomizedSearchCV(estimator= svc, param_distributions=random_grid, n_iter=100, cv=5, verbose=2,\n",
        "                               random_state=100,n_jobs=-1)\n",
        "#fit the randomized model\n",
        "svc_randomcv.fit(X_train,y_train)"
      ],
      "metadata": {
        "colab": {
          "base_uri": "https://localhost:8080/"
        },
        "id": "kPu0W_hDEbut",
        "outputId": "e6229a59-b7f1-4ee6-d273-5a2894dd1577"
      },
      "execution_count": null,
      "outputs": [
        {
          "output_type": "stream",
          "name": "stdout",
          "text": [
            "Fitting 5 folds for each of 100 candidates, totalling 500 fits\n"
          ]
        },
        {
          "output_type": "execute_result",
          "data": {
            "text/plain": [
              "RandomizedSearchCV(cv=5, estimator=SVC(), n_iter=100, n_jobs=-1,\n",
              "                   param_distributions={'C': [1, 3, 5, 7, 9, 11, 13, 15, 17,\n",
              "                                              20],\n",
              "                                        'degree': [1, 2, 3, 4, 5, 6, 7, 8, 9,\n",
              "                                                   10],\n",
              "                                        'kernel': ['linear', 'poly', 'rbf',\n",
              "                                                   'sigmoid']},\n",
              "                   random_state=100, verbose=2)"
            ]
          },
          "metadata": {},
          "execution_count": 59
        }
      ]
    },
    {
      "cell_type": "code",
      "source": [
        "print('\\n All results:')\n",
        "print(svc_randomcv.cv_results_)"
      ],
      "metadata": {
        "colab": {
          "base_uri": "https://localhost:8080/"
        },
        "id": "IAMf8GENEddK",
        "outputId": "177e7381-64b1-4ac2-b947-3d61dc2d4286"
      },
      "execution_count": null,
      "outputs": [
        {
          "output_type": "stream",
          "name": "stdout",
          "text": [
            "\n",
            " All results:\n",
            "{'mean_fit_time': array([0.0106627 , 0.01676192, 0.0101131 , 0.01190505, 0.01141219,\n",
            "       0.02203808, 0.00960917, 0.01436915, 0.02335219, 0.00991702,\n",
            "       0.01144066, 0.00979514, 0.0147543 , 0.02330418, 0.01373086,\n",
            "       0.01432743, 0.00952806, 0.02235551, 0.00999022, 0.02865148,\n",
            "       0.0141407 , 0.0100493 , 0.01603169, 0.00942554, 0.00973644,\n",
            "       0.01369672, 0.02160306, 0.02176232, 0.0095674 , 0.02990508,\n",
            "       0.01499128, 0.01457505, 0.01563768, 0.00987854, 0.00953312,\n",
            "       0.02226572, 0.03320889, 0.02476797, 0.00990586, 0.01408949,\n",
            "       0.01120582, 0.01445765, 0.02524652, 0.01008778, 0.01542859,\n",
            "       0.00978498, 0.01048212, 0.01817088, 0.01312962, 0.01348104,\n",
            "       0.01874051, 0.02265286, 0.01001   , 0.01118164, 0.01370702,\n",
            "       0.01383839, 0.02130427, 0.01065283, 0.00915346, 0.01316218,\n",
            "       0.0114099 , 0.01118374, 0.02142539, 0.01387568, 0.01691303,\n",
            "       0.00966716, 0.02269497, 0.00937748, 0.01459203, 0.01433616,\n",
            "       0.02246318, 0.00973144, 0.00969119, 0.0158308 , 0.00911813,\n",
            "       0.01376657, 0.01500745, 0.01409769, 0.02265654, 0.01241484,\n",
            "       0.01661229, 0.01365442, 0.01476355, 0.01064   , 0.01104627,\n",
            "       0.02343116, 0.00993543, 0.02294741, 0.01465993, 0.03131471,\n",
            "       0.01022153, 0.00937023, 0.02294974, 0.0213944 , 0.00957942,\n",
            "       0.00958138, 0.02123837, 0.01413369, 0.01493917, 0.01631012]), 'std_fit_time': array([0.00152907, 0.00341093, 0.00044847, 0.00218124, 0.0033332 ,\n",
            "       0.00035747, 0.0006686 , 0.00129807, 0.00108377, 0.00038925,\n",
            "       0.00114397, 0.00053003, 0.0009638 , 0.0004427 , 0.00071662,\n",
            "       0.00201085, 0.00074305, 0.00105685, 0.00059368, 0.0067301 ,\n",
            "       0.00053884, 0.00050219, 0.00294038, 0.00059652, 0.00044708,\n",
            "       0.00055576, 0.00080888, 0.00079546, 0.00077269, 0.00114505,\n",
            "       0.00284064, 0.00148131, 0.0004175 , 0.00063747, 0.00050305,\n",
            "       0.00052794, 0.00508941, 0.00538952, 0.00044049, 0.00078901,\n",
            "       0.00305083, 0.00091423, 0.00048989, 0.00055247, 0.00251386,\n",
            "       0.00073716, 0.00271368, 0.00902081, 0.00255717, 0.00076181,\n",
            "       0.00957505, 0.00159849, 0.00041777, 0.00075531, 0.00336899,\n",
            "       0.00070406, 0.00089778, 0.00039007, 0.00071204, 0.00032117,\n",
            "       0.00343837, 0.0009546 , 0.00067378, 0.00093733, 0.00531435,\n",
            "       0.00028137, 0.00298182, 0.00055464, 0.00165804, 0.00101134,\n",
            "       0.00048905, 0.00048354, 0.00078392, 0.00322907, 0.00032406,\n",
            "       0.00063298, 0.00238156, 0.00116845, 0.0008172 , 0.00039685,\n",
            "       0.00320972, 0.0005069 , 0.00205346, 0.0015468 , 0.00070887,\n",
            "       0.00284897, 0.00028696, 0.00223004, 0.00045015, 0.00225315,\n",
            "       0.0008948 , 0.00055927, 0.00046431, 0.00068807, 0.00044807,\n",
            "       0.000673  , 0.00069469, 0.00056096, 0.00081578, 0.00129779]), 'mean_score_time': array([0.00183806, 0.00785999, 0.00200968, 0.00179405, 0.00244889,\n",
            "       0.00480313, 0.00168786, 0.00398536, 0.00505161, 0.00188828,\n",
            "       0.0017324 , 0.0017364 , 0.00404334, 0.00529757, 0.00394468,\n",
            "       0.00415573, 0.00169458, 0.00670829, 0.00177727, 0.00584078,\n",
            "       0.00403609, 0.00219016, 0.00462389, 0.00170975, 0.00182781,\n",
            "       0.00297637, 0.00562725, 0.00472989, 0.00173349, 0.00710182,\n",
            "       0.00387783, 0.00433373, 0.00555148, 0.00175834, 0.00172734,\n",
            "       0.00502634, 0.00682454, 0.00545759, 0.00182967, 0.00429988,\n",
            "       0.00188823, 0.00494623, 0.00553765, 0.00187798, 0.00443583,\n",
            "       0.00167828, 0.00170631, 0.00501738, 0.00242424, 0.00439172,\n",
            "       0.00463042, 0.00478945, 0.00223298, 0.00240817, 0.00233641,\n",
            "       0.00421405, 0.00470901, 0.00230079, 0.00163441, 0.00281429,\n",
            "       0.00231514, 0.00173726, 0.00473104, 0.00404429, 0.00433054,\n",
            "       0.00199943, 0.00491309, 0.00169721, 0.00418291, 0.00410414,\n",
            "       0.00504651, 0.0021605 , 0.0016984 , 0.00267444, 0.00207591,\n",
            "       0.00409913, 0.00392971, 0.00400829, 0.00491829, 0.00268598,\n",
            "       0.00419736, 0.00440135, 0.00447316, 0.00217843, 0.00211506,\n",
            "       0.00491171, 0.00207653, 0.00479522, 0.00313377, 0.00679097,\n",
            "       0.00183706, 0.00172148, 0.00509396, 0.00486503, 0.00176897,\n",
            "       0.00175066, 0.00493436, 0.00551167, 0.00421257, 0.00560846]), 'std_score_time': array([1.53489030e-04, 3.06238368e-03, 1.43824901e-04, 1.14484957e-04,\n",
            "       1.26224424e-03, 7.68723615e-05, 3.44168099e-05, 1.50829133e-04,\n",
            "       2.12514558e-04, 5.74132532e-05, 4.82285841e-05, 6.91247789e-05,\n",
            "       1.31252319e-04, 1.85974842e-04, 1.83935470e-04, 2.31588993e-04,\n",
            "       5.29578276e-05, 3.49997921e-03, 5.11338878e-05, 3.61160285e-04,\n",
            "       1.06948803e-04, 1.22303702e-04, 3.42352642e-04, 6.67518205e-05,\n",
            "       1.13921736e-04, 6.24218634e-05, 1.33448927e-03, 7.82908822e-05,\n",
            "       1.12118440e-04, 5.71099394e-04, 1.19170507e-04, 1.56009503e-04,\n",
            "       1.53178814e-04, 2.62594011e-05, 7.95503874e-05, 4.13390784e-04,\n",
            "       1.36345363e-04, 1.25410551e-03, 6.59614892e-05, 1.65441124e-04,\n",
            "       1.52858286e-04, 1.03686518e-03, 1.58758175e-04, 8.60717356e-05,\n",
            "       1.86086848e-04, 3.89997413e-05, 1.42945362e-04, 1.76614220e-03,\n",
            "       9.39789063e-05, 3.75147385e-04, 3.64424419e-03, 1.61506132e-04,\n",
            "       1.58953751e-04, 5.67253067e-05, 7.23528073e-05, 1.84171339e-04,\n",
            "       5.14747866e-05, 6.90046800e-05, 8.92016151e-05, 1.01907252e-04,\n",
            "       1.14223497e-03, 1.01085946e-04, 1.05607816e-04, 1.39141949e-04,\n",
            "       8.28023800e-04, 5.22597863e-05, 2.98386276e-04, 5.80202475e-05,\n",
            "       1.27331290e-04, 2.45304936e-04, 1.37643537e-04, 8.19863546e-04,\n",
            "       3.95227536e-05, 7.44397023e-05, 9.98545284e-05, 1.25097299e-04,\n",
            "       1.54782590e-04, 1.72467195e-04, 1.28471948e-04, 4.45809338e-05,\n",
            "       1.83913378e-04, 9.98099566e-05, 6.80951267e-04, 6.46635845e-05,\n",
            "       4.67226777e-04, 8.02934026e-05, 1.49024131e-04, 7.78775375e-05,\n",
            "       1.09834551e-04, 1.85223808e-04, 8.09545923e-05, 3.54192767e-05,\n",
            "       1.81870881e-04, 2.83717091e-04, 4.51941519e-05, 1.40890364e-04,\n",
            "       2.73959086e-04, 1.99581567e-03, 2.33369503e-04, 4.07696010e-04]), 'param_kernel': masked_array(data=['linear', 'rbf', 'poly', 'poly', 'linear', 'sigmoid',\n",
            "                   'linear', 'rbf', 'sigmoid', 'poly', 'poly', 'linear',\n",
            "                   'rbf', 'sigmoid', 'rbf', 'rbf', 'linear', 'sigmoid',\n",
            "                   'linear', 'sigmoid', 'rbf', 'poly', 'rbf', 'linear',\n",
            "                   'linear', 'poly', 'sigmoid', 'sigmoid', 'linear',\n",
            "                   'sigmoid', 'rbf', 'rbf', 'rbf', 'poly', 'linear',\n",
            "                   'sigmoid', 'sigmoid', 'sigmoid', 'poly', 'rbf',\n",
            "                   'linear', 'rbf', 'sigmoid', 'poly', 'rbf', 'linear',\n",
            "                   'linear', 'rbf', 'poly', 'rbf', 'poly', 'sigmoid',\n",
            "                   'poly', 'poly', 'poly', 'rbf', 'sigmoid', 'poly',\n",
            "                   'linear', 'poly', 'linear', 'poly', 'sigmoid', 'rbf',\n",
            "                   'rbf', 'poly', 'sigmoid', 'linear', 'rbf', 'rbf',\n",
            "                   'sigmoid', 'linear', 'linear', 'poly', 'poly', 'rbf',\n",
            "                   'rbf', 'rbf', 'sigmoid', 'poly', 'rbf', 'rbf', 'rbf',\n",
            "                   'poly', 'poly', 'sigmoid', 'poly', 'sigmoid', 'poly',\n",
            "                   'sigmoid', 'poly', 'linear', 'sigmoid', 'sigmoid',\n",
            "                   'linear', 'linear', 'sigmoid', 'rbf', 'rbf', 'rbf'],\n",
            "             mask=[False, False, False, False, False, False, False, False,\n",
            "                   False, False, False, False, False, False, False, False,\n",
            "                   False, False, False, False, False, False, False, False,\n",
            "                   False, False, False, False, False, False, False, False,\n",
            "                   False, False, False, False, False, False, False, False,\n",
            "                   False, False, False, False, False, False, False, False,\n",
            "                   False, False, False, False, False, False, False, False,\n",
            "                   False, False, False, False, False, False, False, False,\n",
            "                   False, False, False, False, False, False, False, False,\n",
            "                   False, False, False, False, False, False, False, False,\n",
            "                   False, False, False, False, False, False, False, False,\n",
            "                   False, False, False, False, False, False, False, False,\n",
            "                   False, False, False, False],\n",
            "       fill_value='?',\n",
            "            dtype=object), 'param_degree': masked_array(data=[3, 10, 4, 2, 7, 9, 2, 1, 8, 3, 2, 5, 6, 6, 3, 10, 10,\n",
            "                   9, 5, 1, 9, 5, 10, 6, 9, 9, 2, 9, 5, 6, 5, 1, 5, 1, 4,\n",
            "                   8, 2, 6, 3, 10, 5, 4, 9, 3, 5, 8, 3, 4, 7, 2, 9, 8, 5,\n",
            "                   1, 6, 9, 7, 6, 3, 9, 6, 2, 7, 4, 10, 4, 7, 2, 5, 6, 7,\n",
            "                   2, 7, 8, 2, 10, 2, 10, 7, 8, 8, 2, 3, 5, 1, 9, 4, 8,\n",
            "                   10, 7, 1, 8, 10, 4, 7, 6, 8, 8, 3, 2],\n",
            "             mask=[False, False, False, False, False, False, False, False,\n",
            "                   False, False, False, False, False, False, False, False,\n",
            "                   False, False, False, False, False, False, False, False,\n",
            "                   False, False, False, False, False, False, False, False,\n",
            "                   False, False, False, False, False, False, False, False,\n",
            "                   False, False, False, False, False, False, False, False,\n",
            "                   False, False, False, False, False, False, False, False,\n",
            "                   False, False, False, False, False, False, False, False,\n",
            "                   False, False, False, False, False, False, False, False,\n",
            "                   False, False, False, False, False, False, False, False,\n",
            "                   False, False, False, False, False, False, False, False,\n",
            "                   False, False, False, False, False, False, False, False,\n",
            "                   False, False, False, False],\n",
            "       fill_value='?',\n",
            "            dtype=object), 'param_C': masked_array(data=[13, 15, 9, 15, 9, 11, 7, 15, 7, 9, 7, 15, 17, 5, 20,\n",
            "                   13, 11, 15, 5, 3, 15, 5, 3, 7, 13, 7, 7, 13, 3, 1, 5,\n",
            "                   13, 1, 11, 15, 13, 1, 13, 7, 5, 7, 3, 3, 20, 13, 1, 11,\n",
            "                   7, 11, 11, 1, 11, 11, 1, 20, 20, 17, 1, 15, 20, 13, 11,\n",
            "                   20, 9, 7, 17, 15, 13, 9, 15, 9, 17, 3, 7, 1, 17, 9, 9,\n",
            "                   13, 3, 9, 3, 3, 20, 7, 9, 7, 9, 9, 1, 13, 17, 13, 17,\n",
            "                   17, 20, 15, 5, 5, 1],\n",
            "             mask=[False, False, False, False, False, False, False, False,\n",
            "                   False, False, False, False, False, False, False, False,\n",
            "                   False, False, False, False, False, False, False, False,\n",
            "                   False, False, False, False, False, False, False, False,\n",
            "                   False, False, False, False, False, False, False, False,\n",
            "                   False, False, False, False, False, False, False, False,\n",
            "                   False, False, False, False, False, False, False, False,\n",
            "                   False, False, False, False, False, False, False, False,\n",
            "                   False, False, False, False, False, False, False, False,\n",
            "                   False, False, False, False, False, False, False, False,\n",
            "                   False, False, False, False, False, False, False, False,\n",
            "                   False, False, False, False, False, False, False, False,\n",
            "                   False, False, False, False],\n",
            "       fill_value='?',\n",
            "            dtype=object), 'params': [{'kernel': 'linear', 'degree': 3, 'C': 13}, {'kernel': 'rbf', 'degree': 10, 'C': 15}, {'kernel': 'poly', 'degree': 4, 'C': 9}, {'kernel': 'poly', 'degree': 2, 'C': 15}, {'kernel': 'linear', 'degree': 7, 'C': 9}, {'kernel': 'sigmoid', 'degree': 9, 'C': 11}, {'kernel': 'linear', 'degree': 2, 'C': 7}, {'kernel': 'rbf', 'degree': 1, 'C': 15}, {'kernel': 'sigmoid', 'degree': 8, 'C': 7}, {'kernel': 'poly', 'degree': 3, 'C': 9}, {'kernel': 'poly', 'degree': 2, 'C': 7}, {'kernel': 'linear', 'degree': 5, 'C': 15}, {'kernel': 'rbf', 'degree': 6, 'C': 17}, {'kernel': 'sigmoid', 'degree': 6, 'C': 5}, {'kernel': 'rbf', 'degree': 3, 'C': 20}, {'kernel': 'rbf', 'degree': 10, 'C': 13}, {'kernel': 'linear', 'degree': 10, 'C': 11}, {'kernel': 'sigmoid', 'degree': 9, 'C': 15}, {'kernel': 'linear', 'degree': 5, 'C': 5}, {'kernel': 'sigmoid', 'degree': 1, 'C': 3}, {'kernel': 'rbf', 'degree': 9, 'C': 15}, {'kernel': 'poly', 'degree': 5, 'C': 5}, {'kernel': 'rbf', 'degree': 10, 'C': 3}, {'kernel': 'linear', 'degree': 6, 'C': 7}, {'kernel': 'linear', 'degree': 9, 'C': 13}, {'kernel': 'poly', 'degree': 9, 'C': 7}, {'kernel': 'sigmoid', 'degree': 2, 'C': 7}, {'kernel': 'sigmoid', 'degree': 9, 'C': 13}, {'kernel': 'linear', 'degree': 5, 'C': 3}, {'kernel': 'sigmoid', 'degree': 6, 'C': 1}, {'kernel': 'rbf', 'degree': 5, 'C': 5}, {'kernel': 'rbf', 'degree': 1, 'C': 13}, {'kernel': 'rbf', 'degree': 5, 'C': 1}, {'kernel': 'poly', 'degree': 1, 'C': 11}, {'kernel': 'linear', 'degree': 4, 'C': 15}, {'kernel': 'sigmoid', 'degree': 8, 'C': 13}, {'kernel': 'sigmoid', 'degree': 2, 'C': 1}, {'kernel': 'sigmoid', 'degree': 6, 'C': 13}, {'kernel': 'poly', 'degree': 3, 'C': 7}, {'kernel': 'rbf', 'degree': 10, 'C': 5}, {'kernel': 'linear', 'degree': 5, 'C': 7}, {'kernel': 'rbf', 'degree': 4, 'C': 3}, {'kernel': 'sigmoid', 'degree': 9, 'C': 3}, {'kernel': 'poly', 'degree': 3, 'C': 20}, {'kernel': 'rbf', 'degree': 5, 'C': 13}, {'kernel': 'linear', 'degree': 8, 'C': 1}, {'kernel': 'linear', 'degree': 3, 'C': 11}, {'kernel': 'rbf', 'degree': 4, 'C': 7}, {'kernel': 'poly', 'degree': 7, 'C': 11}, {'kernel': 'rbf', 'degree': 2, 'C': 11}, {'kernel': 'poly', 'degree': 9, 'C': 1}, {'kernel': 'sigmoid', 'degree': 8, 'C': 11}, {'kernel': 'poly', 'degree': 5, 'C': 11}, {'kernel': 'poly', 'degree': 1, 'C': 1}, {'kernel': 'poly', 'degree': 6, 'C': 20}, {'kernel': 'rbf', 'degree': 9, 'C': 20}, {'kernel': 'sigmoid', 'degree': 7, 'C': 17}, {'kernel': 'poly', 'degree': 6, 'C': 1}, {'kernel': 'linear', 'degree': 3, 'C': 15}, {'kernel': 'poly', 'degree': 9, 'C': 20}, {'kernel': 'linear', 'degree': 6, 'C': 13}, {'kernel': 'poly', 'degree': 2, 'C': 11}, {'kernel': 'sigmoid', 'degree': 7, 'C': 20}, {'kernel': 'rbf', 'degree': 4, 'C': 9}, {'kernel': 'rbf', 'degree': 10, 'C': 7}, {'kernel': 'poly', 'degree': 4, 'C': 17}, {'kernel': 'sigmoid', 'degree': 7, 'C': 15}, {'kernel': 'linear', 'degree': 2, 'C': 13}, {'kernel': 'rbf', 'degree': 5, 'C': 9}, {'kernel': 'rbf', 'degree': 6, 'C': 15}, {'kernel': 'sigmoid', 'degree': 7, 'C': 9}, {'kernel': 'linear', 'degree': 2, 'C': 17}, {'kernel': 'linear', 'degree': 7, 'C': 3}, {'kernel': 'poly', 'degree': 8, 'C': 7}, {'kernel': 'poly', 'degree': 2, 'C': 1}, {'kernel': 'rbf', 'degree': 10, 'C': 17}, {'kernel': 'rbf', 'degree': 2, 'C': 9}, {'kernel': 'rbf', 'degree': 10, 'C': 9}, {'kernel': 'sigmoid', 'degree': 7, 'C': 13}, {'kernel': 'poly', 'degree': 8, 'C': 3}, {'kernel': 'rbf', 'degree': 8, 'C': 9}, {'kernel': 'rbf', 'degree': 2, 'C': 3}, {'kernel': 'rbf', 'degree': 3, 'C': 3}, {'kernel': 'poly', 'degree': 5, 'C': 20}, {'kernel': 'poly', 'degree': 1, 'C': 7}, {'kernel': 'sigmoid', 'degree': 9, 'C': 9}, {'kernel': 'poly', 'degree': 4, 'C': 7}, {'kernel': 'sigmoid', 'degree': 8, 'C': 9}, {'kernel': 'poly', 'degree': 10, 'C': 9}, {'kernel': 'sigmoid', 'degree': 7, 'C': 1}, {'kernel': 'poly', 'degree': 1, 'C': 13}, {'kernel': 'linear', 'degree': 8, 'C': 17}, {'kernel': 'sigmoid', 'degree': 10, 'C': 13}, {'kernel': 'sigmoid', 'degree': 4, 'C': 17}, {'kernel': 'linear', 'degree': 7, 'C': 17}, {'kernel': 'linear', 'degree': 6, 'C': 20}, {'kernel': 'sigmoid', 'degree': 8, 'C': 15}, {'kernel': 'rbf', 'degree': 8, 'C': 5}, {'kernel': 'rbf', 'degree': 3, 'C': 5}, {'kernel': 'rbf', 'degree': 2, 'C': 1}], 'split0_test_score': array([1.     , 1.     , 1.     , 1.     , 1.     , 0.79375, 1.     ,\n",
            "       1.     , 0.79375, 1.     , 1.     , 1.     , 1.     , 0.80625,\n",
            "       1.     , 1.     , 1.     , 0.78125, 1.     , 0.80625, 1.     ,\n",
            "       0.99375, 1.     , 1.     , 1.     , 0.9625 , 0.79375, 0.79375,\n",
            "       1.     , 0.84375, 1.     , 1.     , 0.9875 , 1.     , 1.     ,\n",
            "       0.79375, 0.84375, 0.79375, 1.     , 1.     , 1.     , 1.     ,\n",
            "       0.80625, 1.     , 1.     , 1.     , 1.     , 1.     , 0.9875 ,\n",
            "       1.     , 0.9625 , 0.79375, 0.99375, 0.99375, 0.9875 , 1.     ,\n",
            "       0.775  , 0.9875 , 1.     , 0.9625 , 1.     , 1.     , 0.775  ,\n",
            "       1.     , 1.     , 1.     , 0.78125, 1.     , 1.     , 1.     ,\n",
            "       0.79375, 1.     , 1.     , 0.975  , 1.     , 1.     , 1.     ,\n",
            "       1.     , 0.79375, 0.975  , 1.     , 1.     , 1.     , 0.99375,\n",
            "       1.     , 0.79375, 1.     , 0.79375, 0.9625 , 0.84375, 1.     ,\n",
            "       1.     , 0.79375, 0.775  , 1.     , 1.     , 0.78125, 1.     ,\n",
            "       1.     , 0.9875 ]), 'split1_test_score': array([1.        , 1.        , 1.        , 1.        , 1.        ,\n",
            "       0.79245283, 1.        , 1.        , 0.80503145, 1.        ,\n",
            "       1.        , 1.        , 1.        , 0.83018868, 1.        ,\n",
            "       1.        , 1.        , 0.79874214, 1.        , 0.83647799,\n",
            "       1.        , 0.98742138, 0.99371069, 1.        , 1.        ,\n",
            "       0.96855346, 0.80503145, 0.80503145, 1.        , 0.85534591,\n",
            "       1.        , 1.        , 0.97484277, 1.        , 1.        ,\n",
            "       0.80503145, 0.85534591, 0.80503145, 1.        , 1.        ,\n",
            "       1.        , 0.99371069, 0.83647799, 1.        , 1.        ,\n",
            "       1.        , 1.        , 1.        , 0.98113208, 1.        ,\n",
            "       0.96855346, 0.79245283, 0.98742138, 0.97484277, 0.98113208,\n",
            "       1.        , 0.79874214, 0.98113208, 1.        , 0.96855346,\n",
            "       1.        , 1.        , 0.78616352, 1.        , 1.        ,\n",
            "       1.        , 0.79874214, 1.        , 1.        , 1.        ,\n",
            "       0.80503145, 1.        , 1.        , 0.97484277, 1.        ,\n",
            "       1.        , 1.        , 1.        , 0.80503145, 0.97484277,\n",
            "       1.        , 0.99371069, 0.99371069, 0.98742138, 1.        ,\n",
            "       0.80503145, 1.        , 0.80503145, 0.96226415, 0.85534591,\n",
            "       1.        , 1.        , 0.80503145, 0.79874214, 1.        ,\n",
            "       1.        , 0.79874214, 1.        , 1.        , 0.97484277]), 'split2_test_score': array([1.        , 1.        , 0.99371069, 1.        , 1.        ,\n",
            "       0.77358491, 1.        , 1.        , 0.7672956 , 1.        ,\n",
            "       1.        , 1.        , 1.        , 0.77358491, 1.        ,\n",
            "       1.        , 1.        , 0.77987421, 1.        , 0.79245283,\n",
            "       1.        , 0.97484277, 0.99371069, 1.        , 1.        ,\n",
            "       0.94968553, 0.7672956 , 0.76100629, 1.        , 0.81761006,\n",
            "       1.        , 1.        , 0.98742138, 1.        , 1.        ,\n",
            "       0.76100629, 0.81761006, 0.76100629, 1.        , 1.        ,\n",
            "       1.        , 0.99371069, 0.79245283, 1.        , 1.        ,\n",
            "       1.        , 1.        , 1.        , 0.95597484, 1.        ,\n",
            "       0.94968553, 0.77358491, 0.97484277, 0.99371069, 0.96855346,\n",
            "       1.        , 0.7672956 , 0.96855346, 1.        , 0.94968553,\n",
            "       1.        , 1.        , 0.76100629, 1.        , 1.        ,\n",
            "       0.99371069, 0.77987421, 1.        , 1.        , 1.        ,\n",
            "       0.77358491, 1.        , 1.        , 0.95597484, 1.        ,\n",
            "       1.        , 1.        , 1.        , 0.76100629, 0.95597484,\n",
            "       1.        , 0.99371069, 0.99371069, 0.97484277, 1.        ,\n",
            "       0.77358491, 0.99371069, 0.77358491, 0.94968553, 0.81761006,\n",
            "       1.        , 1.        , 0.76100629, 0.7672956 , 1.        ,\n",
            "       1.        , 0.77987421, 1.        , 1.        , 0.98742138]), 'split3_test_score': array([1.        , 0.99371069, 0.99371069, 1.        , 1.        ,\n",
            "       0.72327044, 1.        , 0.99371069, 0.71069182, 1.        ,\n",
            "       1.        , 1.        , 0.99371069, 0.74842767, 0.99371069,\n",
            "       0.99371069, 1.        , 0.71069182, 1.        , 0.73584906,\n",
            "       0.99371069, 0.98113208, 0.99371069, 1.        , 1.        ,\n",
            "       0.93081761, 0.71069182, 0.71698113, 1.        , 0.78616352,\n",
            "       0.99371069, 0.99371069, 0.98113208, 1.        , 1.        ,\n",
            "       0.71698113, 0.78616352, 0.71698113, 1.        , 0.99371069,\n",
            "       1.        , 0.99371069, 0.73584906, 1.        , 0.99371069,\n",
            "       1.        , 1.        , 0.99371069, 0.94968553, 0.99371069,\n",
            "       0.93081761, 0.72327044, 0.98113208, 1.        , 0.96226415,\n",
            "       0.99371069, 0.71069182, 0.96226415, 1.        , 0.93081761,\n",
            "       1.        , 1.        , 0.70440252, 0.99371069, 0.99371069,\n",
            "       0.99371069, 0.71069182, 1.        , 0.99371069, 0.99371069,\n",
            "       0.71698113, 1.        , 1.        , 0.93081761, 1.        ,\n",
            "       0.99371069, 0.99371069, 0.99371069, 0.71698113, 0.93081761,\n",
            "       0.99371069, 0.99371069, 0.99371069, 0.98113208, 1.        ,\n",
            "       0.71698113, 0.99371069, 0.71698113, 0.91823899, 0.78616352,\n",
            "       1.        , 1.        , 0.71698113, 0.71069182, 1.        ,\n",
            "       1.        , 0.71069182, 0.99371069, 0.99371069, 0.98113208]), 'split4_test_score': array([1.        , 1.        , 0.99371069, 1.        , 1.        ,\n",
            "       0.72955975, 1.        , 1.        , 0.73584906, 1.        ,\n",
            "       1.        , 1.        , 1.        , 0.74213836, 1.        ,\n",
            "       1.        , 1.        , 0.72955975, 1.        , 0.76100629,\n",
            "       1.        , 0.98113208, 0.98742138, 1.        , 1.        ,\n",
            "       0.96855346, 0.73584906, 0.73584906, 1.        , 0.82389937,\n",
            "       0.99371069, 1.        , 0.98113208, 1.        , 1.        ,\n",
            "       0.73584906, 0.82389937, 0.73584906, 1.        , 0.99371069,\n",
            "       1.        , 0.98742138, 0.76100629, 1.        , 1.        ,\n",
            "       1.        , 1.        , 1.        , 0.98113208, 1.        ,\n",
            "       0.96855346, 0.72955975, 0.98113208, 0.96855346, 0.98113208,\n",
            "       1.        , 0.71698113, 0.98113208, 1.        , 0.96855346,\n",
            "       1.        , 1.        , 0.72327044, 1.        , 1.        ,\n",
            "       0.99371069, 0.72955975, 1.        , 1.        , 1.        ,\n",
            "       0.73584906, 1.        , 1.        , 0.97484277, 0.99371069,\n",
            "       1.        , 1.        , 1.        , 0.73584906, 0.97484277,\n",
            "       1.        , 0.98742138, 0.98742138, 0.98113208, 1.        ,\n",
            "       0.73584906, 0.99371069, 0.73584906, 0.95597484, 0.82389937,\n",
            "       1.        , 1.        , 0.73584906, 0.71698113, 1.        ,\n",
            "       1.        , 0.72955975, 0.99371069, 0.99371069, 0.98113208]), 'mean_test_score': array([1.        , 0.99874214, 0.99622642, 1.        , 1.        ,\n",
            "       0.76252358, 1.        , 0.99874214, 0.76252358, 1.        ,\n",
            "       1.        , 1.        , 0.99874214, 0.78011792, 0.99874214,\n",
            "       0.99874214, 1.        , 0.76002358, 1.        , 0.78640723,\n",
            "       0.99874214, 0.98365566, 0.99371069, 1.        , 1.        ,\n",
            "       0.95602201, 0.76252358, 0.76252358, 1.        , 0.82535377,\n",
            "       0.99748428, 0.99874214, 0.98240566, 1.        , 1.        ,\n",
            "       0.76252358, 0.82535377, 0.76252358, 1.        , 0.99748428,\n",
            "       1.        , 0.99371069, 0.78640723, 1.        , 0.99874214,\n",
            "       1.        , 1.        , 0.99874214, 0.97108491, 0.99874214,\n",
            "       0.95602201, 0.76252358, 0.98365566, 0.98617138, 0.97611635,\n",
            "       0.99874214, 0.75374214, 0.97611635, 1.        , 0.95602201,\n",
            "       1.        , 1.        , 0.74996855, 0.99874214, 0.99874214,\n",
            "       0.99622642, 0.76002358, 1.        , 0.99874214, 0.99874214,\n",
            "       0.76503931, 1.        , 1.        , 0.9622956 , 0.99874214,\n",
            "       0.99874214, 0.99874214, 0.99874214, 0.76252358, 0.9622956 ,\n",
            "       0.99874214, 0.99371069, 0.99371069, 0.98365566, 1.        ,\n",
            "       0.76503931, 0.99622642, 0.76503931, 0.9497327 , 0.82535377,\n",
            "       1.        , 1.        , 0.76252358, 0.75374214, 1.        ,\n",
            "       1.        , 0.76002358, 0.99748428, 0.99748428, 0.98240566]), 'std_test_score': array([0.        , 0.00251572, 0.00308112, 0.        , 0.        ,\n",
            "       0.03039943, 0.        , 0.00251572, 0.0352217 , 0.        ,\n",
            "       0.        , 0.        , 0.00251572, 0.03370272, 0.00251572,\n",
            "       0.00251572, 0.        , 0.03377988, 0.        , 0.03503913,\n",
            "       0.00251572, 0.0064262 , 0.00397771, 0.        , 0.        ,\n",
            "       0.01436281, 0.0352217 , 0.0333765 , 0.        , 0.02381556,\n",
            "       0.00308112, 0.00251572, 0.00472337, 0.        , 0.        ,\n",
            "       0.0333765 , 0.02381556, 0.0333765 , 0.        , 0.00308112,\n",
            "       0.        , 0.00397771, 0.03503913, 0.        , 0.00251572,\n",
            "       0.        , 0.        , 0.00251572, 0.01521574, 0.00251572,\n",
            "       0.01436281, 0.03039943, 0.0064262 , 0.0122003 , 0.00926265,\n",
            "       0.00251572, 0.03424995, 0.00926265, 0.        , 0.01436281,\n",
            "       0.        , 0.        , 0.0311369 , 0.00251572, 0.00251572,\n",
            "       0.00308112, 0.03377988, 0.        , 0.00251572, 0.00251572,\n",
            "       0.03364034, 0.        , 0.        , 0.01736134, 0.00251572,\n",
            "       0.00251572, 0.00251572, 0.00251572, 0.0333765 , 0.01736134,\n",
            "       0.00251572, 0.00397771, 0.00397771, 0.0064262 , 0.        ,\n",
            "       0.03364034, 0.00308112, 0.03364034, 0.01643692, 0.02381556,\n",
            "       0.        , 0.        , 0.0333765 , 0.03424995, 0.        ,\n",
            "       0.        , 0.03377988, 0.00308112, 0.00308112, 0.00472337]), 'rank_test_score': array([  1,  31,  55,   1,   1,  86,   1,  31,  86,   1,   1,   1,  31,\n",
            "        82,  31,  31,   1,  95,   1,  80,  31,  63,  58,   1,   1,  73,\n",
            "        86,  86,   1,  77,  51,  31,  66,   1,   1,  86,  77,  86,   1,\n",
            "        51,   1,  58,  80,   1,  31,   1,   1,  31,  70,  31,  73,  86,\n",
            "        63,  62,  68,  31,  98,  68,   1,  73,   1,   1, 100,  31,  31,\n",
            "        55,  95,   1,  31,  31,  83,   1,   1,  71,  31,  31,  31,  31,\n",
            "        86,  71,  31,  58,  58,  63,   1,  83,  55,  83,  76,  77,   1,\n",
            "         1,  86,  98,   1,   1,  95,  51,  51,  66], dtype=int32)}\n"
          ]
        }
      ]
    },
    {
      "cell_type": "code",
      "source": [
        "print('\\n Best estimator:')\n",
        "print(svc_randomcv.best_estimator_)"
      ],
      "metadata": {
        "colab": {
          "base_uri": "https://localhost:8080/"
        },
        "id": "EzDNzlL6EiX2",
        "outputId": "9170130e-f0f9-4ae0-b0ef-e99196e7bab7"
      },
      "execution_count": null,
      "outputs": [
        {
          "output_type": "stream",
          "name": "stdout",
          "text": [
            "\n",
            " Best estimator:\n",
            "SVC(C=13, kernel='linear')\n"
          ]
        }
      ]
    },
    {
      "cell_type": "code",
      "source": [
        "print('\\n Best hyperparameters:')\n",
        "print(svc_randomcv.best_params_)"
      ],
      "metadata": {
        "colab": {
          "base_uri": "https://localhost:8080/"
        },
        "id": "BR8M-33YEmmc",
        "outputId": "9fdb0f53-2691-4e28-8ae2-889574bbd977"
      },
      "execution_count": null,
      "outputs": [
        {
          "output_type": "stream",
          "name": "stdout",
          "text": [
            "\n",
            " Best hyperparameters:\n",
            "{'kernel': 'linear', 'degree': 3, 'C': 13}\n"
          ]
        }
      ]
    },
    {
      "cell_type": "code",
      "source": [
        "svc = SVC(kernel='linear',degree=3, C=13)\n",
        "svc.fit(X_train,y_train)"
      ],
      "metadata": {
        "colab": {
          "base_uri": "https://localhost:8080/"
        },
        "id": "qIDAKfL0Ertc",
        "outputId": "8ab1a95f-c078-4643-98d0-7f858b1d2407"
      },
      "execution_count": null,
      "outputs": [
        {
          "output_type": "execute_result",
          "data": {
            "text/plain": [
              "SVC(C=13, kernel='linear')"
            ]
          },
          "metadata": {},
          "execution_count": 63
        }
      ]
    },
    {
      "cell_type": "code",
      "source": [
        "y_pred_svc = svc.predict(X_test)\n",
        "model_report(y_test, y_pred_svc)"
      ],
      "metadata": {
        "colab": {
          "base_uri": "https://localhost:8080/"
        },
        "id": "qo8dzsKQEtCl",
        "outputId": "867d62dd-319d-4457-8c60-76dca7376438"
      },
      "execution_count": null,
      "outputs": [
        {
          "output_type": "stream",
          "name": "stdout",
          "text": [
            "Accuracy =  1.0\n",
            "Precision =  1.0\n",
            "Recall\\Sensitivity =  1.0\n",
            "Specificity =  1.0\n",
            "F1 Score =  1.0\n",
            "AUC Score = 1.0\n",
            "Kappa score =  1.0\n",
            "Log Loss =  9.992007221626413e-16 \n",
            "\n"
          ]
        }
      ]
    },
    {
      "cell_type": "code",
      "source": [
        "title = \"Learning Curves (SVM)\"                                        # fill this in\n",
        "cv = ShuffleSplit(n_splits=5, test_size=0.2, random_state=42)\n",
        "svc = SVC(kernel='linear',degree=3, C=13)                               # fill this in\n",
        "plot_learning_curve(svc, title, X, y, ylim=(0.2, 1.25), cv=cv, n_jobs=4)\n",
        "plt.savefig('SVM_curve.pdf', transparent=True, dpi=300)\n",
        "plt.savefig('SVM_curve.eps', transparent=True, dpi=300)\n",
        "plt.show()"
      ],
      "metadata": {
        "colab": {
          "base_uri": "https://localhost:8080/",
          "height": 434
        },
        "id": "JOSE6Hz4Axe8",
        "outputId": "15e34c87-182e-4345-bde5-1decc4c46e5a"
      },
      "execution_count": null,
      "outputs": [
        {
          "output_type": "stream",
          "name": "stderr",
          "text": [
            "WARNING:matplotlib.backends.backend_ps:The PostScript backend does not support transparency; partially transparent artists will be rendered opaque.\n",
            "WARNING:matplotlib.backends.backend_ps:The PostScript backend does not support transparency; partially transparent artists will be rendered opaque.\n",
            "WARNING:matplotlib.backends.backend_ps:The PostScript backend does not support transparency; partially transparent artists will be rendered opaque.\n",
            "WARNING:matplotlib.backends.backend_ps:The PostScript backend does not support transparency; partially transparent artists will be rendered opaque.\n",
            "WARNING:matplotlib.backends.backend_ps:The PostScript backend does not support transparency; partially transparent artists will be rendered opaque.\n",
            "WARNING:matplotlib.backends.backend_ps:The PostScript backend does not support transparency; partially transparent artists will be rendered opaque.\n",
            "WARNING:matplotlib.backends.backend_ps:The PostScript backend does not support transparency; partially transparent artists will be rendered opaque.\n",
            "WARNING:matplotlib.backends.backend_ps:The PostScript backend does not support transparency; partially transparent artists will be rendered opaque.\n"
          ]
        },
        {
          "output_type": "display_data",
          "data": {
            "text/plain": [
              "<Figure size 432x288 with 1 Axes>"
            ],
            "image/png": "[encoded data removed]"
          },
          "metadata": {
            "needs_background": "light"
          }
        }
      ]
    },
    {
      "cell_type": "code",
      "source": [
        "from sklearn.metrics import confusion_matrix\n",
        "\n",
        "cm = confusion_matrix(y_test, y_pred_svc)\n",
        "plt.figure(figsize=(10, 8))\n",
        "ax = sns.heatmap(cm, cmap=plt.cm.Greens, annot=True, square=True, annot_kws={\"size\": 25})\n",
        "plt.title('Confusion Matrix', fontsize=20)\n",
        "ax.set_ylabel('Actual Label', fontsize=20)\n",
        "ax.set_xlabel('Predicted Label', fontsize=20)\n",
        "plt.savefig('SVC_confusion.pdf', transparent=True, dpi=300)\n",
        "plt.savefig('SVC_confusion.eps', transparent=True, dpi=300)"
      ],
      "metadata": {
        "colab": {
          "base_uri": "https://localhost:8080/",
          "height": 527
        },
        "id": "6gY818yoDbsY",
        "outputId": "fedce8ac-7f21-43fc-fe37-d2da6ece3a89"
      },
      "execution_count": null,
      "outputs": [
        {
          "output_type": "display_data",
          "data": {
            "text/plain": [
              "<Figure size 720x576 with 2 Axes>"
            ],
            "image/png": "[encoded data removed]"
          },
          "metadata": {
            "needs_background": "light"
          }
        }
      ]
    },
    {
      "cell_type": "markdown",
      "source": [
        "##Random Forest Classifier"
      ],
      "metadata": {
        "id": "KDNHvuFcGqmO"
      }
    },
    {
      "cell_type": "code",
      "source": [
        "from sklearn.model_selection import RandomizedSearchCV\n",
        "\n",
        "# Number of trees in random forest\n",
        "n_estimators = [int(x) for x in np.linspace(start = 200, stop = 2000, num = 10)]\n",
        "# Number of features to consider at every split\n",
        "max_features = ['auto', 'sqrt','log2']\n",
        "# Maximum number of levels in tree\n",
        "max_depth = [int(x) for x in np.linspace(10, 1000,10)]\n",
        "# Minimum number of samples required to split a node\n",
        "min_samples_split = [2, 5, 10,14]\n",
        "# Minimum number of samples required at each leaf node\n",
        "min_samples_leaf = [1, 2, 4,6,8]\n",
        "#criterion used in trees\n",
        "criterion = ['entropy','gini']\n",
        "\n",
        "# Create the random grid\n",
        "random_grid = {'n_estimators': n_estimators,\n",
        "               'max_features': max_features,\n",
        "               'max_depth': max_depth,\n",
        "               'min_samples_split': min_samples_split,\n",
        "               'min_samples_leaf': min_samples_leaf,\n",
        "              'criterion':criterion}\n",
        "              \n",
        "print(random_grid)"
      ],
      "metadata": {
        "colab": {
          "base_uri": "https://localhost:8080/"
        },
        "id": "z_5fLVfUE6Fv",
        "outputId": "2e52d35d-01a3-4c5e-a225-c830b787b7db"
      },
      "execution_count": null,
      "outputs": [
        {
          "output_type": "stream",
          "name": "stdout",
          "text": [
            "{'n_estimators': [200, 400, 600, 800, 1000, 1200, 1400, 1600, 1800, 2000], 'max_features': ['auto', 'sqrt', 'log2'], 'max_depth': [10, 120, 230, 340, 450, 560, 670, 780, 890, 1000], 'min_samples_split': [2, 5, 10, 14], 'min_samples_leaf': [1, 2, 4, 6, 8], 'criterion': ['entropy', 'gini']}\n"
          ]
        }
      ]
    },
    {
      "cell_type": "code",
      "source": [
        "from sklearn.ensemble import RandomForestClassifier\n",
        "rf = RandomForestClassifier()\n",
        "rf_randomcv=RandomizedSearchCV(estimator=rf, param_distributions=random_grid, n_iter=100, cv=5, verbose=2,\n",
        "                               random_state=100, n_jobs=-1)\n",
        "#fit the randomized model\n",
        "rf_randomcv.fit(X_train,y_train)"
      ],
      "metadata": {
        "colab": {
          "base_uri": "https://localhost:8080/"
        },
        "id": "fVIlDeIhE8u2",
        "outputId": "92f4d531-6337-42b4-f982-9df78c03cc18"
      },
      "execution_count": null,
      "outputs": [
        {
          "output_type": "stream",
          "name": "stdout",
          "text": [
            "Fitting 5 folds for each of 100 candidates, totalling 500 fits\n"
          ]
        },
        {
          "output_type": "execute_result",
          "data": {
            "text/plain": [
              "RandomizedSearchCV(cv=5, estimator=RandomForestClassifier(), n_iter=100,\n",
              "                   n_jobs=-1,\n",
              "                   param_distributions={'criterion': ['entropy', 'gini'],\n",
              "                                        'max_depth': [10, 120, 230, 340, 450,\n",
              "                                                      560, 670, 780, 890,\n",
              "                                                      1000],\n",
              "                                        'max_features': ['auto', 'sqrt',\n",
              "                                                         'log2'],\n",
              "                                        'min_samples_leaf': [1, 2, 4, 6, 8],\n",
              "                                        'min_samples_split': [2, 5, 10, 14],\n",
              "                                        'n_estimators': [200, 400, 600, 800,\n",
              "                                                         1000, 1200, 1400, 1600,\n",
              "                                                         1800, 2000]},\n",
              "                   random_state=100, verbose=2)"
            ]
          },
          "metadata": {},
          "execution_count": 68
        }
      ]
    },
    {
      "cell_type": "code",
      "source": [
        "print('\\n All results:')\n",
        "print(rf_randomcv.cv_results_)"
      ],
      "metadata": {
        "colab": {
          "base_uri": "https://localhost:8080/"
        },
        "id": "1Sf4jS0MFC3e",
        "outputId": "6a72e922-f1d6-4cac-b7c8-b7225c2be0da"
      },
      "execution_count": null,
      "outputs": [
        {
          "output_type": "stream",
          "name": "stdout",
          "text": [
            "\n",
            " All results:\n",
            "{'mean_fit_time': array([0.60112705, 3.03573756, 4.52417998, 4.60618043, 0.46460772,\n",
            "       1.34190397, 4.46318469, 3.18452134, 3.09381447, 1.36382737,\n",
            "       1.27935328, 3.00016527, 0.87752581, 1.30743194, 0.85638518,\n",
            "       0.42264528, 3.75737286, 1.27750888, 1.69053297, 4.28168397,\n",
            "       0.4375875 , 2.19379148, 3.53308234, 0.43962445, 2.77301669,\n",
            "       1.70558972, 1.9589211 , 0.86109819, 1.73022094, 0.43409638,\n",
            "       1.73135462, 1.6915081 , 0.86816483, 2.54952621, 4.89000101,\n",
            "       3.56686778, 3.45304418, 3.53873091, 5.22559881, 4.00611181,\n",
            "       1.32687588, 4.50464072, 1.71126208, 3.13390846, 4.4037899 ,\n",
            "       1.70833611, 1.73755798, 3.10864449, 3.82514324, 1.24123955,\n",
            "       3.39032221, 4.30778604, 3.280615  , 1.29414577, 3.11752734,\n",
            "       0.4364769 , 3.10499511, 2.11785936, 1.85461164, 3.91064138,\n",
            "       4.40242257, 0.87377744, 0.43799539, 4.54933867, 0.85562606,\n",
            "       1.37774558, 4.11224627, 5.3744514 , 1.6969718 , 4.62323494,\n",
            "       3.2692523 , 1.32181153, 3.50016794, 0.44377966, 3.62626719,\n",
            "       4.08446097, 3.10906291, 2.96855898, 1.01142879, 2.56888804,\n",
            "       0.8450933 , 2.34816132, 3.17506223, 3.43788419, 4.51576772,\n",
            "       1.32635627, 3.12217345, 0.48436999, 1.28141103, 4.48421035,\n",
            "       3.5436914 , 1.6990891 , 4.36967411, 2.22301979, 1.42660336,\n",
            "       0.86124005, 4.03721576, 3.54406004, 3.3849864 , 2.1821342 ]), 'std_fit_time': array([0.1489106 , 0.03865571, 0.1907423 , 0.17496678, 0.0391575 ,\n",
            "       0.10921883, 0.19781332, 0.20838079, 0.01342419, 0.01580165,\n",
            "       0.00925866, 0.02009337, 0.00818587, 0.01414862, 0.00664773,\n",
            "       0.00620381, 0.02826906, 0.02686733, 0.01872809, 0.02900335,\n",
            "       0.01157036, 0.02943219, 0.14548367, 0.01338553, 0.19538207,\n",
            "       0.00960656, 0.20687489, 0.00698277, 0.01651628, 0.00837505,\n",
            "       0.00783242, 0.02204469, 0.01344743, 0.01365676, 0.88667767,\n",
            "       0.19333621, 0.02828724, 0.04541409, 1.04980776, 0.02960096,\n",
            "       0.01098483, 0.22189499, 0.03028427, 0.19239643, 0.01300015,\n",
            "       0.01572525, 0.02535494, 0.01627867, 0.02070749, 0.00908768,\n",
            "       0.01863828, 0.0357943 , 0.19761146, 0.01327573, 0.10641214,\n",
            "       0.01228927, 0.16857553, 0.01710328, 0.17415741, 0.17695661,\n",
            "       0.20626574, 0.06022485, 0.00869604, 0.16630895, 0.00539192,\n",
            "       0.15753597, 0.36705336, 0.87941251, 0.01634086, 0.39454999,\n",
            "       0.89825665, 0.00538377, 0.07276108, 0.00720652, 0.23123918,\n",
            "       0.20590243, 0.19614905, 0.03644249, 0.18487377, 0.02365434,\n",
            "       0.01306879, 0.19200502, 0.19441753, 0.07744236, 0.1554389 ,\n",
            "       0.1191334 , 0.19143912, 0.08552966, 0.00814719, 0.17399367,\n",
            "       0.18006046, 0.01380548, 0.18413541, 0.10859972, 0.16997236,\n",
            "       0.01061791, 0.21910943, 0.23546147, 0.04709631, 0.30676204]), 'mean_score_time': array([0.04819016, 0.24882765, 0.36740289, 0.42356339, 0.03911114,\n",
            "       0.10766649, 0.34852543, 0.25493779, 0.24805641, 0.10995464,\n",
            "       0.10534315, 0.24665399, 0.07278495, 0.11000156, 0.07709045,\n",
            "       0.03467689, 0.32362919, 0.10624871, 0.14103503, 0.36323428,\n",
            "       0.03744769, 0.17427273, 0.32199821, 0.03599968, 0.21624217,\n",
            "       0.14346848, 0.14482112, 0.07403717, 0.14132433, 0.03544626,\n",
            "       0.13997321, 0.13756962, 0.0707778 , 0.21879072, 0.41758938,\n",
            "       0.28101487, 0.28030267, 0.29227815, 0.36269526, 0.33089037,\n",
            "       0.10635829, 0.35457969, 0.14062185, 0.25896821, 0.36848927,\n",
            "       0.14659271, 0.15264783, 0.25038948, 0.32103896, 0.11097732,\n",
            "       0.28615518, 0.34995189, 0.25095248, 0.11041803, 0.30543246,\n",
            "       0.03494864, 0.25034595, 0.18250566, 0.15005765, 0.31771226,\n",
            "       0.40566192, 0.07008467, 0.0359653 , 0.37726316, 0.07089753,\n",
            "       0.11402316, 0.37941728, 0.37248964, 0.1407722 , 0.38429947,\n",
            "       0.25059814, 0.11276217, 0.28902707, 0.03720474, 0.28827753,\n",
            "       0.33027878, 0.25540853, 0.24746766, 0.07639756, 0.22035027,\n",
            "       0.07076035, 0.18279591, 0.25379152, 0.34450183, 0.39936919,\n",
            "       0.11323252, 0.25245357, 0.0420207 , 0.10848031, 0.34939981,\n",
            "       0.28262763, 0.14621997, 0.37795434, 0.19459233, 0.10744958,\n",
            "       0.07281413, 0.3238833 , 0.28825145, 0.31436963, 0.16112413]), 'std_score_time': array([0.01288204, 0.00356763, 0.00878374, 0.10915878, 0.00598235,\n",
            "       0.00265689, 0.01141707, 0.01085977, 0.0033752 , 0.00330582,\n",
            "       0.00302209, 0.00725833, 0.00323102, 0.00789001, 0.00913066,\n",
            "       0.0015072 , 0.01694114, 0.00451675, 0.00093002, 0.02172541,\n",
            "       0.00083397, 0.00502837, 0.06776179, 0.00106188, 0.01011578,\n",
            "       0.00242573, 0.00261016, 0.00837133, 0.00115167, 0.00121764,\n",
            "       0.00566317, 0.00620202, 0.00221188, 0.00720936, 0.11126185,\n",
            "       0.00905447, 0.00832168, 0.01453672, 0.01360713, 0.01422768,\n",
            "       0.00155605, 0.00942258, 0.00426497, 0.01214018, 0.00941168,\n",
            "       0.00607727, 0.00885742, 0.00845871, 0.00586098, 0.00750112,\n",
            "       0.00507213, 0.01784561, 0.00764992, 0.00822586, 0.10226043,\n",
            "       0.00112979, 0.01482963, 0.00703443, 0.01816395, 0.01132148,\n",
            "       0.0910209 , 0.00135623, 0.00144254, 0.01312098, 0.0020954 ,\n",
            "       0.0095527 , 0.10773512, 0.01142757, 0.00202539, 0.06793368,\n",
            "       0.05186329, 0.00631167, 0.00796394, 0.00082857, 0.01350612,\n",
            "       0.00357213, 0.01289779, 0.01082583, 0.01094878, 0.00721833,\n",
            "       0.00279332, 0.01398731, 0.00568936, 0.11091425, 0.05752509,\n",
            "       0.01168384, 0.01321761, 0.01158083, 0.00396786, 0.01426131,\n",
            "       0.00457443, 0.00593386, 0.04740928, 0.02823696, 0.00358571,\n",
            "       0.00126882, 0.00905103, 0.01756451, 0.04899839, 0.03212844]), 'param_n_estimators': masked_array(data=[200, 1400, 2000, 2000, 200, 600, 2000, 1400, 1400, 600,\n",
            "                   600, 1400, 400, 600, 400, 200, 1800, 600, 800, 2000,\n",
            "                   200, 1000, 1600, 200, 1200, 800, 800, 400, 800, 200,\n",
            "                   800, 800, 400, 1200, 2000, 1600, 1600, 1600, 2000,\n",
            "                   1800, 600, 2000, 800, 1400, 2000, 800, 800, 1400, 1800,\n",
            "                   600, 1600, 2000, 1400, 600, 1400, 200, 1400, 1000, 800,\n",
            "                   1800, 2000, 400, 200, 2000, 400, 600, 1800, 2000, 800,\n",
            "                   2000, 1200, 600, 1600, 200, 1600, 1800, 1400, 1400,\n",
            "                   400, 1200, 400, 1000, 1400, 1600, 2000, 600, 1400, 200,\n",
            "                   600, 2000, 1600, 800, 2000, 1000, 600, 400, 1800, 1600,\n",
            "                   1600, 1000],\n",
            "             mask=[False, False, False, False, False, False, False, False,\n",
            "                   False, False, False, False, False, False, False, False,\n",
            "                   False, False, False, False, False, False, False, False,\n",
            "                   False, False, False, False, False, False, False, False,\n",
            "                   False, False, False, False, False, False, False, False,\n",
            "                   False, False, False, False, False, False, False, False,\n",
            "                   False, False, False, False, False, False, False, False,\n",
            "                   False, False, False, False, False, False, False, False,\n",
            "                   False, False, False, False, False, False, False, False,\n",
            "                   False, False, False, False, False, False, False, False,\n",
            "                   False, False, False, False, False, False, False, False,\n",
            "                   False, False, False, False, False, False, False, False,\n",
            "                   False, False, False, False],\n",
            "       fill_value='?',\n",
            "            dtype=object), 'param_min_samples_split': masked_array(data=[2, 5, 14, 14, 14, 2, 10, 10, 2, 2, 14, 5, 14, 5, 5, 10,\n",
            "                   5, 14, 2, 2, 14, 14, 10, 10, 5, 14, 5, 10, 2, 10, 2, 2,\n",
            "                   14, 5, 2, 14, 2, 2, 5, 2, 2, 2, 14, 2, 5, 10, 5, 2, 14,\n",
            "                   14, 2, 10, 2, 5, 10, 2, 5, 14, 5, 5, 2, 10, 5, 2, 10,\n",
            "                   5, 2, 5, 5, 10, 10, 2, 10, 14, 10, 10, 10, 2, 14, 14,\n",
            "                   2, 2, 14, 14, 14, 10, 2, 5, 5, 14, 14, 10, 2, 10, 2,\n",
            "                   14, 5, 10, 14, 14],\n",
            "             mask=[False, False, False, False, False, False, False, False,\n",
            "                   False, False, False, False, False, False, False, False,\n",
            "                   False, False, False, False, False, False, False, False,\n",
            "                   False, False, False, False, False, False, False, False,\n",
            "                   False, False, False, False, False, False, False, False,\n",
            "                   False, False, False, False, False, False, False, False,\n",
            "                   False, False, False, False, False, False, False, False,\n",
            "                   False, False, False, False, False, False, False, False,\n",
            "                   False, False, False, False, False, False, False, False,\n",
            "                   False, False, False, False, False, False, False, False,\n",
            "                   False, False, False, False, False, False, False, False,\n",
            "                   False, False, False, False, False, False, False, False,\n",
            "                   False, False, False, False],\n",
            "       fill_value='?',\n",
            "            dtype=object), 'param_min_samples_leaf': masked_array(data=[2, 6, 1, 2, 6, 4, 6, 4, 2, 1, 8, 8, 2, 4, 4, 6, 6, 6,\n",
            "                   6, 8, 1, 1, 8, 4, 2, 8, 1, 4, 2, 1, 2, 4, 1, 4, 8, 6,\n",
            "                   8, 1, 2, 1, 1, 4, 4, 6, 1, 4, 2, 1, 8, 8, 8, 6, 1, 1,\n",
            "                   2, 2, 4, 2, 6, 6, 8, 6, 1, 1, 1, 1, 4, 1, 6, 4, 4, 1,\n",
            "                   1, 1, 2, 1, 8, 8, 8, 1, 6, 2, 2, 8, 1, 8, 4, 4, 4, 1,\n",
            "                   4, 4, 8, 1, 1, 4, 1, 4, 1, 4],\n",
            "             mask=[False, False, False, False, False, False, False, False,\n",
            "                   False, False, False, False, False, False, False, False,\n",
            "                   False, False, False, False, False, False, False, False,\n",
            "                   False, False, False, False, False, False, False, False,\n",
            "                   False, False, False, False, False, False, False, False,\n",
            "                   False, False, False, False, False, False, False, False,\n",
            "                   False, False, False, False, False, False, False, False,\n",
            "                   False, False, False, False, False, False, False, False,\n",
            "                   False, False, False, False, False, False, False, False,\n",
            "                   False, False, False, False, False, False, False, False,\n",
            "                   False, False, False, False, False, False, False, False,\n",
            "                   False, False, False, False, False, False, False, False,\n",
            "                   False, False, False, False],\n",
            "       fill_value='?',\n",
            "            dtype=object), 'param_max_features': masked_array(data=['sqrt', 'sqrt', 'sqrt', 'auto', 'sqrt', 'log2', 'log2',\n",
            "                   'auto', 'sqrt', 'sqrt', 'auto', 'auto', 'sqrt', 'auto',\n",
            "                   'log2', 'auto', 'log2', 'sqrt', 'auto', 'sqrt', 'sqrt',\n",
            "                   'auto', 'sqrt', 'auto', 'log2', 'auto', 'sqrt', 'sqrt',\n",
            "                   'log2', 'sqrt', 'auto', 'log2', 'auto', 'sqrt', 'log2',\n",
            "                   'sqrt', 'auto', 'log2', 'auto', 'log2', 'auto', 'sqrt',\n",
            "                   'log2', 'auto', 'auto', 'auto', 'sqrt', 'sqrt', 'sqrt',\n",
            "                   'log2', 'auto', 'sqrt', 'sqrt', 'sqrt', 'auto', 'log2',\n",
            "                   'log2', 'log2', 'sqrt', 'log2', 'auto', 'auto', 'log2',\n",
            "                   'log2', 'auto', 'sqrt', 'log2', 'log2', 'auto', 'log2',\n",
            "                   'log2', 'log2', 'auto', 'sqrt', 'log2', 'log2', 'auto',\n",
            "                   'sqrt', 'sqrt', 'log2', 'log2', 'auto', 'auto', 'log2',\n",
            "                   'sqrt', 'auto', 'sqrt', 'log2', 'sqrt', 'sqrt', 'auto',\n",
            "                   'auto', 'auto', 'sqrt', 'sqrt', 'sqrt', 'auto', 'auto',\n",
            "                   'log2', 'auto'],\n",
            "             mask=[False, False, False, False, False, False, False, False,\n",
            "                   False, False, False, False, False, False, False, False,\n",
            "                   False, False, False, False, False, False, False, False,\n",
            "                   False, False, False, False, False, False, False, False,\n",
            "                   False, False, False, False, False, False, False, False,\n",
            "                   False, False, False, False, False, False, False, False,\n",
            "                   False, False, False, False, False, False, False, False,\n",
            "                   False, False, False, False, False, False, False, False,\n",
            "                   False, False, False, False, False, False, False, False,\n",
            "                   False, False, False, False, False, False, False, False,\n",
            "                   False, False, False, False, False, False, False, False,\n",
            "                   False, False, False, False, False, False, False, False,\n",
            "                   False, False, False, False],\n",
            "       fill_value='?',\n",
            "            dtype=object), 'param_max_depth': masked_array(data=[1000, 120, 340, 10, 10, 670, 670, 340, 1000, 120, 890,\n",
            "                   780, 670, 1000, 670, 230, 230, 890, 670, 1000, 10, 450,\n",
            "                   1000, 340, 780, 890, 560, 120, 1000, 560, 890, 450,\n",
            "                   780, 1000, 1000, 780, 670, 890, 890, 560, 10, 120, 780,\n",
            "                   450, 670, 780, 560, 230, 670, 450, 1000, 670, 120, 780,\n",
            "                   450, 340, 120, 120, 780, 230, 780, 670, 450, 340, 230,\n",
            "                   10, 10, 560, 890, 670, 890, 780, 780, 450, 230, 560,\n",
            "                   450, 1000, 780, 450, 450, 1000, 780, 230, 120, 10, 560,\n",
            "                   890, 890, 10, 340, 670, 340, 230, 890, 670, 450, 560,\n",
            "                   670, 890],\n",
            "             mask=[False, False, False, False, False, False, False, False,\n",
            "                   False, False, False, False, False, False, False, False,\n",
            "                   False, False, False, False, False, False, False, False,\n",
            "                   False, False, False, False, False, False, False, False,\n",
            "                   False, False, False, False, False, False, False, False,\n",
            "                   False, False, False, False, False, False, False, False,\n",
            "                   False, False, False, False, False, False, False, False,\n",
            "                   False, False, False, False, False, False, False, False,\n",
            "                   False, False, False, False, False, False, False, False,\n",
            "                   False, False, False, False, False, False, False, False,\n",
            "                   False, False, False, False, False, False, False, False,\n",
            "                   False, False, False, False, False, False, False, False,\n",
            "                   False, False, False, False],\n",
            "       fill_value='?',\n",
            "            dtype=object), 'param_criterion': masked_array(data=['entropy', 'gini', 'gini', 'entropy', 'entropy',\n",
            "                   'gini', 'entropy', 'gini', 'entropy', 'entropy',\n",
            "                   'gini', 'entropy', 'gini', 'gini', 'gini', 'entropy',\n",
            "                   'gini', 'gini', 'gini', 'entropy', 'gini', 'entropy',\n",
            "                   'entropy', 'entropy', 'gini', 'entropy', 'entropy',\n",
            "                   'gini', 'entropy', 'gini', 'gini', 'entropy',\n",
            "                   'entropy', 'gini', 'gini', 'gini', 'entropy', 'gini',\n",
            "                   'entropy', 'entropy', 'entropy', 'entropy', 'entropy',\n",
            "                   'entropy', 'gini', 'gini', 'entropy', 'gini',\n",
            "                   'entropy', 'entropy', 'gini', 'entropy', 'entropy',\n",
            "                   'gini', 'gini', 'entropy', 'gini', 'gini', 'entropy',\n",
            "                   'entropy', 'entropy', 'gini', 'gini', 'gini', 'gini',\n",
            "                   'gini', 'entropy', 'entropy', 'gini', 'entropy',\n",
            "                   'entropy', 'gini', 'entropy', 'entropy', 'entropy',\n",
            "                   'gini', 'gini', 'gini', 'entropy', 'gini', 'entropy',\n",
            "                   'gini', 'gini', 'entropy', 'entropy', 'gini',\n",
            "                   'entropy', 'entropy', 'gini', 'gini', 'gini',\n",
            "                   'entropy', 'gini', 'gini', 'gini', 'gini', 'gini',\n",
            "                   'gini', 'gini', 'entropy'],\n",
            "             mask=[False, False, False, False, False, False, False, False,\n",
            "                   False, False, False, False, False, False, False, False,\n",
            "                   False, False, False, False, False, False, False, False,\n",
            "                   False, False, False, False, False, False, False, False,\n",
            "                   False, False, False, False, False, False, False, False,\n",
            "                   False, False, False, False, False, False, False, False,\n",
            "                   False, False, False, False, False, False, False, False,\n",
            "                   False, False, False, False, False, False, False, False,\n",
            "                   False, False, False, False, False, False, False, False,\n",
            "                   False, False, False, False, False, False, False, False,\n",
            "                   False, False, False, False, False, False, False, False,\n",
            "                   False, False, False, False, False, False, False, False,\n",
            "                   False, False, False, False],\n",
            "       fill_value='?',\n",
            "            dtype=object), 'params': [{'n_estimators': 200, 'min_samples_split': 2, 'min_samples_leaf': 2, 'max_features': 'sqrt', 'max_depth': 1000, 'criterion': 'entropy'}, {'n_estimators': 1400, 'min_samples_split': 5, 'min_samples_leaf': 6, 'max_features': 'sqrt', 'max_depth': 120, 'criterion': 'gini'}, {'n_estimators': 2000, 'min_samples_split': 14, 'min_samples_leaf': 1, 'max_features': 'sqrt', 'max_depth': 340, 'criterion': 'gini'}, {'n_estimators': 2000, 'min_samples_split': 14, 'min_samples_leaf': 2, 'max_features': 'auto', 'max_depth': 10, 'criterion': 'entropy'}, {'n_estimators': 200, 'min_samples_split': 14, 'min_samples_leaf': 6, 'max_features': 'sqrt', 'max_depth': 10, 'criterion': 'entropy'}, {'n_estimators': 600, 'min_samples_split': 2, 'min_samples_leaf': 4, 'max_features': 'log2', 'max_depth': 670, 'criterion': 'gini'}, {'n_estimators': 2000, 'min_samples_split': 10, 'min_samples_leaf': 6, 'max_features': 'log2', 'max_depth': 670, 'criterion': 'entropy'}, {'n_estimators': 1400, 'min_samples_split': 10, 'min_samples_leaf': 4, 'max_features': 'auto', 'max_depth': 340, 'criterion': 'gini'}, {'n_estimators': 1400, 'min_samples_split': 2, 'min_samples_leaf': 2, 'max_features': 'sqrt', 'max_depth': 1000, 'criterion': 'entropy'}, {'n_estimators': 600, 'min_samples_split': 2, 'min_samples_leaf': 1, 'max_features': 'sqrt', 'max_depth': 120, 'criterion': 'entropy'}, {'n_estimators': 600, 'min_samples_split': 14, 'min_samples_leaf': 8, 'max_features': 'auto', 'max_depth': 890, 'criterion': 'gini'}, {'n_estimators': 1400, 'min_samples_split': 5, 'min_samples_leaf': 8, 'max_features': 'auto', 'max_depth': 780, 'criterion': 'entropy'}, {'n_estimators': 400, 'min_samples_split': 14, 'min_samples_leaf': 2, 'max_features': 'sqrt', 'max_depth': 670, 'criterion': 'gini'}, {'n_estimators': 600, 'min_samples_split': 5, 'min_samples_leaf': 4, 'max_features': 'auto', 'max_depth': 1000, 'criterion': 'gini'}, {'n_estimators': 400, 'min_samples_split': 5, 'min_samples_leaf': 4, 'max_features': 'log2', 'max_depth': 670, 'criterion': 'gini'}, {'n_estimators': 200, 'min_samples_split': 10, 'min_samples_leaf': 6, 'max_features': 'auto', 'max_depth': 230, 'criterion': 'entropy'}, {'n_estimators': 1800, 'min_samples_split': 5, 'min_samples_leaf': 6, 'max_features': 'log2', 'max_depth': 230, 'criterion': 'gini'}, {'n_estimators': 600, 'min_samples_split': 14, 'min_samples_leaf': 6, 'max_features': 'sqrt', 'max_depth': 890, 'criterion': 'gini'}, {'n_estimators': 800, 'min_samples_split': 2, 'min_samples_leaf': 6, 'max_features': 'auto', 'max_depth': 670, 'criterion': 'gini'}, {'n_estimators': 2000, 'min_samples_split': 2, 'min_samples_leaf': 8, 'max_features': 'sqrt', 'max_depth': 1000, 'criterion': 'entropy'}, {'n_estimators': 200, 'min_samples_split': 14, 'min_samples_leaf': 1, 'max_features': 'sqrt', 'max_depth': 10, 'criterion': 'gini'}, {'n_estimators': 1000, 'min_samples_split': 14, 'min_samples_leaf': 1, 'max_features': 'auto', 'max_depth': 450, 'criterion': 'entropy'}, {'n_estimators': 1600, 'min_samples_split': 10, 'min_samples_leaf': 8, 'max_features': 'sqrt', 'max_depth': 1000, 'criterion': 'entropy'}, {'n_estimators': 200, 'min_samples_split': 10, 'min_samples_leaf': 4, 'max_features': 'auto', 'max_depth': 340, 'criterion': 'entropy'}, {'n_estimators': 1200, 'min_samples_split': 5, 'min_samples_leaf': 2, 'max_features': 'log2', 'max_depth': 780, 'criterion': 'gini'}, {'n_estimators': 800, 'min_samples_split': 14, 'min_samples_leaf': 8, 'max_features': 'auto', 'max_depth': 890, 'criterion': 'entropy'}, {'n_estimators': 800, 'min_samples_split': 5, 'min_samples_leaf': 1, 'max_features': 'sqrt', 'max_depth': 560, 'criterion': 'entropy'}, {'n_estimators': 400, 'min_samples_split': 10, 'min_samples_leaf': 4, 'max_features': 'sqrt', 'max_depth': 120, 'criterion': 'gini'}, {'n_estimators': 800, 'min_samples_split': 2, 'min_samples_leaf': 2, 'max_features': 'log2', 'max_depth': 1000, 'criterion': 'entropy'}, {'n_estimators': 200, 'min_samples_split': 10, 'min_samples_leaf': 1, 'max_features': 'sqrt', 'max_depth': 560, 'criterion': 'gini'}, {'n_estimators': 800, 'min_samples_split': 2, 'min_samples_leaf': 2, 'max_features': 'auto', 'max_depth': 890, 'criterion': 'gini'}, {'n_estimators': 800, 'min_samples_split': 2, 'min_samples_leaf': 4, 'max_features': 'log2', 'max_depth': 450, 'criterion': 'entropy'}, {'n_estimators': 400, 'min_samples_split': 14, 'min_samples_leaf': 1, 'max_features': 'auto', 'max_depth': 780, 'criterion': 'entropy'}, {'n_estimators': 1200, 'min_samples_split': 5, 'min_samples_leaf': 4, 'max_features': 'sqrt', 'max_depth': 1000, 'criterion': 'gini'}, {'n_estimators': 2000, 'min_samples_split': 2, 'min_samples_leaf': 8, 'max_features': 'log2', 'max_depth': 1000, 'criterion': 'gini'}, {'n_estimators': 1600, 'min_samples_split': 14, 'min_samples_leaf': 6, 'max_features': 'sqrt', 'max_depth': 780, 'criterion': 'gini'}, {'n_estimators': 1600, 'min_samples_split': 2, 'min_samples_leaf': 8, 'max_features': 'auto', 'max_depth': 670, 'criterion': 'entropy'}, {'n_estimators': 1600, 'min_samples_split': 2, 'min_samples_leaf': 1, 'max_features': 'log2', 'max_depth': 890, 'criterion': 'gini'}, {'n_estimators': 2000, 'min_samples_split': 5, 'min_samples_leaf': 2, 'max_features': 'auto', 'max_depth': 890, 'criterion': 'entropy'}, {'n_estimators': 1800, 'min_samples_split': 2, 'min_samples_leaf': 1, 'max_features': 'log2', 'max_depth': 560, 'criterion': 'entropy'}, {'n_estimators': 600, 'min_samples_split': 2, 'min_samples_leaf': 1, 'max_features': 'auto', 'max_depth': 10, 'criterion': 'entropy'}, {'n_estimators': 2000, 'min_samples_split': 2, 'min_samples_leaf': 4, 'max_features': 'sqrt', 'max_depth': 120, 'criterion': 'entropy'}, {'n_estimators': 800, 'min_samples_split': 14, 'min_samples_leaf': 4, 'max_features': 'log2', 'max_depth': 780, 'criterion': 'entropy'}, {'n_estimators': 1400, 'min_samples_split': 2, 'min_samples_leaf': 6, 'max_features': 'auto', 'max_depth': 450, 'criterion': 'entropy'}, {'n_estimators': 2000, 'min_samples_split': 5, 'min_samples_leaf': 1, 'max_features': 'auto', 'max_depth': 670, 'criterion': 'gini'}, {'n_estimators': 800, 'min_samples_split': 10, 'min_samples_leaf': 4, 'max_features': 'auto', 'max_depth': 780, 'criterion': 'gini'}, {'n_estimators': 800, 'min_samples_split': 5, 'min_samples_leaf': 2, 'max_features': 'sqrt', 'max_depth': 560, 'criterion': 'entropy'}, {'n_estimators': 1400, 'min_samples_split': 2, 'min_samples_leaf': 1, 'max_features': 'sqrt', 'max_depth': 230, 'criterion': 'gini'}, {'n_estimators': 1800, 'min_samples_split': 14, 'min_samples_leaf': 8, 'max_features': 'sqrt', 'max_depth': 670, 'criterion': 'entropy'}, {'n_estimators': 600, 'min_samples_split': 14, 'min_samples_leaf': 8, 'max_features': 'log2', 'max_depth': 450, 'criterion': 'entropy'}, {'n_estimators': 1600, 'min_samples_split': 2, 'min_samples_leaf': 8, 'max_features': 'auto', 'max_depth': 1000, 'criterion': 'gini'}, {'n_estimators': 2000, 'min_samples_split': 10, 'min_samples_leaf': 6, 'max_features': 'sqrt', 'max_depth': 670, 'criterion': 'entropy'}, {'n_estimators': 1400, 'min_samples_split': 2, 'min_samples_leaf': 1, 'max_features': 'sqrt', 'max_depth': 120, 'criterion': 'entropy'}, {'n_estimators': 600, 'min_samples_split': 5, 'min_samples_leaf': 1, 'max_features': 'sqrt', 'max_depth': 780, 'criterion': 'gini'}, {'n_estimators': 1400, 'min_samples_split': 10, 'min_samples_leaf': 2, 'max_features': 'auto', 'max_depth': 450, 'criterion': 'gini'}, {'n_estimators': 200, 'min_samples_split': 2, 'min_samples_leaf': 2, 'max_features': 'log2', 'max_depth': 340, 'criterion': 'entropy'}, {'n_estimators': 1400, 'min_samples_split': 5, 'min_samples_leaf': 4, 'max_features': 'log2', 'max_depth': 120, 'criterion': 'gini'}, {'n_estimators': 1000, 'min_samples_split': 14, 'min_samples_leaf': 2, 'max_features': 'log2', 'max_depth': 120, 'criterion': 'gini'}, {'n_estimators': 800, 'min_samples_split': 5, 'min_samples_leaf': 6, 'max_features': 'sqrt', 'max_depth': 780, 'criterion': 'entropy'}, {'n_estimators': 1800, 'min_samples_split': 5, 'min_samples_leaf': 6, 'max_features': 'log2', 'max_depth': 230, 'criterion': 'entropy'}, {'n_estimators': 2000, 'min_samples_split': 2, 'min_samples_leaf': 8, 'max_features': 'auto', 'max_depth': 780, 'criterion': 'entropy'}, {'n_estimators': 400, 'min_samples_split': 10, 'min_samples_leaf': 6, 'max_features': 'auto', 'max_depth': 670, 'criterion': 'gini'}, {'n_estimators': 200, 'min_samples_split': 5, 'min_samples_leaf': 1, 'max_features': 'log2', 'max_depth': 450, 'criterion': 'gini'}, {'n_estimators': 2000, 'min_samples_split': 2, 'min_samples_leaf': 1, 'max_features': 'log2', 'max_depth': 340, 'criterion': 'gini'}, {'n_estimators': 400, 'min_samples_split': 10, 'min_samples_leaf': 1, 'max_features': 'auto', 'max_depth': 230, 'criterion': 'gini'}, {'n_estimators': 600, 'min_samples_split': 5, 'min_samples_leaf': 1, 'max_features': 'sqrt', 'max_depth': 10, 'criterion': 'gini'}, {'n_estimators': 1800, 'min_samples_split': 2, 'min_samples_leaf': 4, 'max_features': 'log2', 'max_depth': 10, 'criterion': 'entropy'}, {'n_estimators': 2000, 'min_samples_split': 5, 'min_samples_leaf': 1, 'max_features': 'log2', 'max_depth': 560, 'criterion': 'entropy'}, {'n_estimators': 800, 'min_samples_split': 5, 'min_samples_leaf': 6, 'max_features': 'auto', 'max_depth': 890, 'criterion': 'gini'}, {'n_estimators': 2000, 'min_samples_split': 10, 'min_samples_leaf': 4, 'max_features': 'log2', 'max_depth': 670, 'criterion': 'entropy'}, {'n_estimators': 1200, 'min_samples_split': 10, 'min_samples_leaf': 4, 'max_features': 'log2', 'max_depth': 890, 'criterion': 'entropy'}, {'n_estimators': 600, 'min_samples_split': 2, 'min_samples_leaf': 1, 'max_features': 'log2', 'max_depth': 780, 'criterion': 'gini'}, {'n_estimators': 1600, 'min_samples_split': 10, 'min_samples_leaf': 1, 'max_features': 'auto', 'max_depth': 780, 'criterion': 'entropy'}, {'n_estimators': 200, 'min_samples_split': 14, 'min_samples_leaf': 1, 'max_features': 'sqrt', 'max_depth': 450, 'criterion': 'entropy'}, {'n_estimators': 1600, 'min_samples_split': 10, 'min_samples_leaf': 2, 'max_features': 'log2', 'max_depth': 230, 'criterion': 'entropy'}, {'n_estimators': 1800, 'min_samples_split': 10, 'min_samples_leaf': 1, 'max_features': 'log2', 'max_depth': 560, 'criterion': 'gini'}, {'n_estimators': 1400, 'min_samples_split': 10, 'min_samples_leaf': 8, 'max_features': 'auto', 'max_depth': 450, 'criterion': 'gini'}, {'n_estimators': 1400, 'min_samples_split': 2, 'min_samples_leaf': 8, 'max_features': 'sqrt', 'max_depth': 1000, 'criterion': 'gini'}, {'n_estimators': 400, 'min_samples_split': 14, 'min_samples_leaf': 8, 'max_features': 'sqrt', 'max_depth': 780, 'criterion': 'entropy'}, {'n_estimators': 1200, 'min_samples_split': 14, 'min_samples_leaf': 1, 'max_features': 'log2', 'max_depth': 450, 'criterion': 'gini'}, {'n_estimators': 400, 'min_samples_split': 2, 'min_samples_leaf': 6, 'max_features': 'log2', 'max_depth': 450, 'criterion': 'entropy'}, {'n_estimators': 1000, 'min_samples_split': 2, 'min_samples_leaf': 2, 'max_features': 'auto', 'max_depth': 1000, 'criterion': 'gini'}, {'n_estimators': 1400, 'min_samples_split': 14, 'min_samples_leaf': 2, 'max_features': 'auto', 'max_depth': 780, 'criterion': 'gini'}, {'n_estimators': 1600, 'min_samples_split': 14, 'min_samples_leaf': 8, 'max_features': 'log2', 'max_depth': 230, 'criterion': 'entropy'}, {'n_estimators': 2000, 'min_samples_split': 14, 'min_samples_leaf': 1, 'max_features': 'sqrt', 'max_depth': 120, 'criterion': 'entropy'}, {'n_estimators': 600, 'min_samples_split': 10, 'min_samples_leaf': 8, 'max_features': 'auto', 'max_depth': 10, 'criterion': 'gini'}, {'n_estimators': 1400, 'min_samples_split': 2, 'min_samples_leaf': 4, 'max_features': 'sqrt', 'max_depth': 560, 'criterion': 'entropy'}, {'n_estimators': 200, 'min_samples_split': 5, 'min_samples_leaf': 4, 'max_features': 'log2', 'max_depth': 890, 'criterion': 'entropy'}, {'n_estimators': 600, 'min_samples_split': 5, 'min_samples_leaf': 4, 'max_features': 'sqrt', 'max_depth': 890, 'criterion': 'gini'}, {'n_estimators': 2000, 'min_samples_split': 14, 'min_samples_leaf': 1, 'max_features': 'sqrt', 'max_depth': 10, 'criterion': 'gini'}, {'n_estimators': 1600, 'min_samples_split': 14, 'min_samples_leaf': 4, 'max_features': 'auto', 'max_depth': 340, 'criterion': 'gini'}, {'n_estimators': 800, 'min_samples_split': 10, 'min_samples_leaf': 4, 'max_features': 'auto', 'max_depth': 670, 'criterion': 'entropy'}, {'n_estimators': 2000, 'min_samples_split': 2, 'min_samples_leaf': 8, 'max_features': 'auto', 'max_depth': 340, 'criterion': 'gini'}, {'n_estimators': 1000, 'min_samples_split': 10, 'min_samples_leaf': 1, 'max_features': 'sqrt', 'max_depth': 230, 'criterion': 'gini'}, {'n_estimators': 600, 'min_samples_split': 2, 'min_samples_leaf': 1, 'max_features': 'sqrt', 'max_depth': 890, 'criterion': 'gini'}, {'n_estimators': 400, 'min_samples_split': 14, 'min_samples_leaf': 4, 'max_features': 'sqrt', 'max_depth': 670, 'criterion': 'gini'}, {'n_estimators': 1800, 'min_samples_split': 5, 'min_samples_leaf': 1, 'max_features': 'auto', 'max_depth': 450, 'criterion': 'gini'}, {'n_estimators': 1600, 'min_samples_split': 10, 'min_samples_leaf': 4, 'max_features': 'auto', 'max_depth': 560, 'criterion': 'gini'}, {'n_estimators': 1600, 'min_samples_split': 14, 'min_samples_leaf': 1, 'max_features': 'log2', 'max_depth': 670, 'criterion': 'gini'}, {'n_estimators': 1000, 'min_samples_split': 14, 'min_samples_leaf': 4, 'max_features': 'auto', 'max_depth': 890, 'criterion': 'entropy'}], 'split0_test_score': array([1., 1., 1., 1., 1., 1., 1., 1., 1., 1., 1., 1., 1., 1., 1., 1., 1.,\n",
            "       1., 1., 1., 1., 1., 1., 1., 1., 1., 1., 1., 1., 1., 1., 1., 1., 1.,\n",
            "       1., 1., 1., 1., 1., 1., 1., 1., 1., 1., 1., 1., 1., 1., 1., 1., 1.,\n",
            "       1., 1., 1., 1., 1., 1., 1., 1., 1., 1., 1., 1., 1., 1., 1., 1., 1.,\n",
            "       1., 1., 1., 1., 1., 1., 1., 1., 1., 1., 1., 1., 1., 1., 1., 1., 1.,\n",
            "       1., 1., 1., 1., 1., 1., 1., 1., 1., 1., 1., 1., 1., 1., 1.]), 'split1_test_score': array([1., 1., 1., 1., 1., 1., 1., 1., 1., 1., 1., 1., 1., 1., 1., 1., 1.,\n",
            "       1., 1., 1., 1., 1., 1., 1., 1., 1., 1., 1., 1., 1., 1., 1., 1., 1.,\n",
            "       1., 1., 1., 1., 1., 1., 1., 1., 1., 1., 1., 1., 1., 1., 1., 1., 1.,\n",
            "       1., 1., 1., 1., 1., 1., 1., 1., 1., 1., 1., 1., 1., 1., 1., 1., 1.,\n",
            "       1., 1., 1., 1., 1., 1., 1., 1., 1., 1., 1., 1., 1., 1., 1., 1., 1.,\n",
            "       1., 1., 1., 1., 1., 1., 1., 1., 1., 1., 1., 1., 1., 1., 1.]), 'split2_test_score': array([1.        , 1.        , 1.        , 1.        , 1.        ,\n",
            "       1.        , 1.        , 1.        , 1.        , 1.        ,\n",
            "       1.        , 1.        , 1.        , 1.        , 1.        ,\n",
            "       1.        , 1.        , 1.        , 1.        , 1.        ,\n",
            "       1.        , 1.        , 1.        , 1.        , 1.        ,\n",
            "       1.        , 1.        , 1.        , 1.        , 1.        ,\n",
            "       1.        , 1.        , 1.        , 1.        , 1.        ,\n",
            "       1.        , 1.        , 1.        , 1.        , 1.        ,\n",
            "       1.        , 1.        , 1.        , 1.        , 1.        ,\n",
            "       1.        , 1.        , 1.        , 1.        , 1.        ,\n",
            "       1.        , 1.        , 1.        , 1.        , 1.        ,\n",
            "       1.        , 1.        , 1.        , 1.        , 1.        ,\n",
            "       1.        , 1.        , 1.        , 1.        , 1.        ,\n",
            "       1.        , 1.        , 1.        , 1.        , 1.        ,\n",
            "       1.        , 1.        , 1.        , 1.        , 1.        ,\n",
            "       1.        , 1.        , 1.        , 1.        , 1.        ,\n",
            "       1.        , 1.        , 1.        , 0.99371069, 1.        ,\n",
            "       1.        , 1.        , 1.        , 1.        , 1.        ,\n",
            "       1.        , 1.        , 1.        , 1.        , 1.        ,\n",
            "       1.        , 1.        , 1.        , 1.        , 1.        ]), 'split3_test_score': array([1., 1., 1., 1., 1., 1., 1., 1., 1., 1., 1., 1., 1., 1., 1., 1., 1.,\n",
            "       1., 1., 1., 1., 1., 1., 1., 1., 1., 1., 1., 1., 1., 1., 1., 1., 1.,\n",
            "       1., 1., 1., 1., 1., 1., 1., 1., 1., 1., 1., 1., 1., 1., 1., 1., 1.,\n",
            "       1., 1., 1., 1., 1., 1., 1., 1., 1., 1., 1., 1., 1., 1., 1., 1., 1.,\n",
            "       1., 1., 1., 1., 1., 1., 1., 1., 1., 1., 1., 1., 1., 1., 1., 1., 1.,\n",
            "       1., 1., 1., 1., 1., 1., 1., 1., 1., 1., 1., 1., 1., 1., 1.]), 'split4_test_score': array([1., 1., 1., 1., 1., 1., 1., 1., 1., 1., 1., 1., 1., 1., 1., 1., 1.,\n",
            "       1., 1., 1., 1., 1., 1., 1., 1., 1., 1., 1., 1., 1., 1., 1., 1., 1.,\n",
            "       1., 1., 1., 1., 1., 1., 1., 1., 1., 1., 1., 1., 1., 1., 1., 1., 1.,\n",
            "       1., 1., 1., 1., 1., 1., 1., 1., 1., 1., 1., 1., 1., 1., 1., 1., 1.,\n",
            "       1., 1., 1., 1., 1., 1., 1., 1., 1., 1., 1., 1., 1., 1., 1., 1., 1.,\n",
            "       1., 1., 1., 1., 1., 1., 1., 1., 1., 1., 1., 1., 1., 1., 1.]), 'mean_test_score': array([1.        , 1.        , 1.        , 1.        , 1.        ,\n",
            "       1.        , 1.        , 1.        , 1.        , 1.        ,\n",
            "       1.        , 1.        , 1.        , 1.        , 1.        ,\n",
            "       1.        , 1.        , 1.        , 1.        , 1.        ,\n",
            "       1.        , 1.        , 1.        , 1.        , 1.        ,\n",
            "       1.        , 1.        , 1.        , 1.        , 1.        ,\n",
            "       1.        , 1.        , 1.        , 1.        , 1.        ,\n",
            "       1.        , 1.        , 1.        , 1.        , 1.        ,\n",
            "       1.        , 1.        , 1.        , 1.        , 1.        ,\n",
            "       1.        , 1.        , 1.        , 1.        , 1.        ,\n",
            "       1.        , 1.        , 1.        , 1.        , 1.        ,\n",
            "       1.        , 1.        , 1.        , 1.        , 1.        ,\n",
            "       1.        , 1.        , 1.        , 1.        , 1.        ,\n",
            "       1.        , 1.        , 1.        , 1.        , 1.        ,\n",
            "       1.        , 1.        , 1.        , 1.        , 1.        ,\n",
            "       1.        , 1.        , 1.        , 1.        , 1.        ,\n",
            "       1.        , 1.        , 1.        , 0.99874214, 1.        ,\n",
            "       1.        , 1.        , 1.        , 1.        , 1.        ,\n",
            "       1.        , 1.        , 1.        , 1.        , 1.        ,\n",
            "       1.        , 1.        , 1.        , 1.        , 1.        ]), 'std_test_score': array([0.        , 0.        , 0.        , 0.        , 0.        ,\n",
            "       0.        , 0.        , 0.        , 0.        , 0.        ,\n",
            "       0.        , 0.        , 0.        , 0.        , 0.        ,\n",
            "       0.        , 0.        , 0.        , 0.        , 0.        ,\n",
            "       0.        , 0.        , 0.        , 0.        , 0.        ,\n",
            "       0.        , 0.        , 0.        , 0.        , 0.        ,\n",
            "       0.        , 0.        , 0.        , 0.        , 0.        ,\n",
            "       0.        , 0.        , 0.        , 0.        , 0.        ,\n",
            "       0.        , 0.        , 0.        , 0.        , 0.        ,\n",
            "       0.        , 0.        , 0.        , 0.        , 0.        ,\n",
            "       0.        , 0.        , 0.        , 0.        , 0.        ,\n",
            "       0.        , 0.        , 0.        , 0.        , 0.        ,\n",
            "       0.        , 0.        , 0.        , 0.        , 0.        ,\n",
            "       0.        , 0.        , 0.        , 0.        , 0.        ,\n",
            "       0.        , 0.        , 0.        , 0.        , 0.        ,\n",
            "       0.        , 0.        , 0.        , 0.        , 0.        ,\n",
            "       0.        , 0.        , 0.        , 0.00251572, 0.        ,\n",
            "       0.        , 0.        , 0.        , 0.        , 0.        ,\n",
            "       0.        , 0.        , 0.        , 0.        , 0.        ,\n",
            "       0.        , 0.        , 0.        , 0.        , 0.        ]), 'rank_test_score': array([  1,   1,   1,   1,   1,   1,   1,   1,   1,   1,   1,   1,   1,\n",
            "         1,   1,   1,   1,   1,   1,   1,   1,   1,   1,   1,   1,   1,\n",
            "         1,   1,   1,   1,   1,   1,   1,   1,   1,   1,   1,   1,   1,\n",
            "         1,   1,   1,   1,   1,   1,   1,   1,   1,   1,   1,   1,   1,\n",
            "         1,   1,   1,   1,   1,   1,   1,   1,   1,   1,   1,   1,   1,\n",
            "         1,   1,   1,   1,   1,   1,   1,   1,   1,   1,   1,   1,   1,\n",
            "         1,   1,   1,   1,   1, 100,   1,   1,   1,   1,   1,   1,   1,\n",
            "         1,   1,   1,   1,   1,   1,   1,   1,   1], dtype=int32)}\n"
          ]
        }
      ]
    },
    {
      "cell_type": "code",
      "source": [
        "print('\\n Best estimator:')\n",
        "print(rf_randomcv.best_estimator_)"
      ],
      "metadata": {
        "colab": {
          "base_uri": "https://localhost:8080/"
        },
        "id": "WacScuSQFG-F",
        "outputId": "96134810-97ca-492a-ae0d-952e3e8c5557"
      },
      "execution_count": null,
      "outputs": [
        {
          "output_type": "stream",
          "name": "stdout",
          "text": [
            "\n",
            " Best estimator:\n",
            "RandomForestClassifier(criterion='entropy', max_depth=1000, max_features='sqrt',\n",
            "                       min_samples_leaf=2, n_estimators=200)\n"
          ]
        }
      ]
    },
    {
      "cell_type": "code",
      "source": [
        "print('\\n Best hyperparameters:')\n",
        "print(rf_randomcv.best_params_)"
      ],
      "metadata": {
        "colab": {
          "base_uri": "https://localhost:8080/"
        },
        "id": "3rgce-eYFKff",
        "outputId": "596a8b0a-cc35-46a4-8551-63cc2c1dd731"
      },
      "execution_count": null,
      "outputs": [
        {
          "output_type": "stream",
          "name": "stdout",
          "text": [
            "\n",
            " Best hyperparameters:\n",
            "{'n_estimators': 200, 'min_samples_split': 2, 'min_samples_leaf': 2, 'max_features': 'sqrt', 'max_depth': 1000, 'criterion': 'entropy'}\n"
          ]
        }
      ]
    },
    {
      "cell_type": "code",
      "source": [
        "from sklearn.ensemble import RandomForestClassifier\n",
        "rf = RandomForestClassifier(n_estimators = 200, min_samples_split = 2, min_samples_leaf = 2, max_features = 'sqrt', max_depth = 1000, criterion = 'entropy')\n",
        "rf.fit(X_train, y_train)"
      ],
      "metadata": {
        "colab": {
          "base_uri": "https://localhost:8080/"
        },
        "id": "6s66lTRWFNVh",
        "outputId": "2a8d66e7-4b89-4240-8732-6202ecca6bda"
      },
      "execution_count": null,
      "outputs": [
        {
          "output_type": "execute_result",
          "data": {
            "text/plain": [
              "RandomForestClassifier(criterion='entropy', max_depth=1000, max_features='sqrt',\n",
              "                       min_samples_leaf=2, n_estimators=200)"
            ]
          },
          "metadata": {},
          "execution_count": 72
        }
      ]
    },
    {
      "cell_type": "code",
      "source": [
        "y_pred_rf = rf.predict(X_test)\n",
        "model_report(y_test, y_pred_rf)"
      ],
      "metadata": {
        "colab": {
          "base_uri": "https://localhost:8080/"
        },
        "id": "ABokFmZoFRxY",
        "outputId": "06bbacea-0ae6-4946-bb9e-e04d9851de2b"
      },
      "execution_count": null,
      "outputs": [
        {
          "output_type": "stream",
          "name": "stdout",
          "text": [
            "Accuracy =  1.0\n",
            "Precision =  1.0\n",
            "Recall\\Sensitivity =  1.0\n",
            "Specificity =  1.0\n",
            "F1 Score =  1.0\n",
            "AUC Score = 1.0\n",
            "Kappa score =  1.0\n",
            "Log Loss =  9.992007221626413e-16 \n",
            "\n"
          ]
        }
      ]
    },
    {
      "cell_type": "code",
      "source": [
        "title = \"Learning Curves (RandomForestClassifier)\"                                        # fill this in\n",
        "cv = ShuffleSplit(n_splits=5, test_size=0.2, random_state=42)\n",
        "rf = RandomForestClassifier(n_estimators = 200, min_samples_split = 2, min_samples_leaf = 2, max_features = 'sqrt', max_depth = 1000, criterion = 'entropy')                             # fill this in\n",
        "plot_learning_curve(rf, title, X, y, ylim=(0.2, 1.25), cv=cv, n_jobs=4)\n",
        "plt.savefig('RF_curve.pdf', transparent=True, dpi=300)\n",
        "plt.savefig('RF_curve.eps', transparent=True, dpi=300)\n",
        "plt.show()"
      ],
      "metadata": {
        "colab": {
          "base_uri": "https://localhost:8080/",
          "height": 434
        },
        "id": "zQQKjqvQBTDs",
        "outputId": "457ae6b4-2fdb-4700-a793-56b509149e43"
      },
      "execution_count": null,
      "outputs": [
        {
          "output_type": "stream",
          "name": "stderr",
          "text": [
            "WARNING:matplotlib.backends.backend_ps:The PostScript backend does not support transparency; partially transparent artists will be rendered opaque.\n",
            "WARNING:matplotlib.backends.backend_ps:The PostScript backend does not support transparency; partially transparent artists will be rendered opaque.\n",
            "WARNING:matplotlib.backends.backend_ps:The PostScript backend does not support transparency; partially transparent artists will be rendered opaque.\n",
            "WARNING:matplotlib.backends.backend_ps:The PostScript backend does not support transparency; partially transparent artists will be rendered opaque.\n",
            "WARNING:matplotlib.backends.backend_ps:The PostScript backend does not support transparency; partially transparent artists will be rendered opaque.\n",
            "WARNING:matplotlib.backends.backend_ps:The PostScript backend does not support transparency; partially transparent artists will be rendered opaque.\n",
            "WARNING:matplotlib.backends.backend_ps:The PostScript backend does not support transparency; partially transparent artists will be rendered opaque.\n",
            "WARNING:matplotlib.backends.backend_ps:The PostScript backend does not support transparency; partially transparent artists will be rendered opaque.\n"
          ]
        },
        {
          "output_type": "display_data",
          "data": {
            "text/plain": [
              "<Figure size 432x288 with 1 Axes>"
            ],
            "image/png": "[encoded data removed]"
          },
          "metadata": {
            "needs_background": "light"
          }
        }
      ]
    },
    {
      "cell_type": "code",
      "source": [
        "from sklearn.metrics import confusion_matrix\n",
        "\n",
        "cm = confusion_matrix(y_test, y_pred_rf)\n",
        "plt.figure(figsize=(10, 8))\n",
        "ax = sns.heatmap(cm, cmap=plt.cm.Greens, annot=True, square=True, annot_kws={\"size\": 25})\n",
        "plt.title('Confusion Matrix', fontsize=20)\n",
        "ax.set_ylabel('Actual Label', fontsize=20)\n",
        "ax.set_xlabel('Predicted Label', fontsize=20)\n",
        "plt.savefig('RF_confusion.pdf', transparent=True, dpi=300)\n",
        "plt.savefig('RF_confusion.eps', transparent=True, dpi=300)"
      ],
      "metadata": {
        "colab": {
          "base_uri": "https://localhost:8080/",
          "height": 527
        },
        "id": "DYZ2HLVFEDiG",
        "outputId": "1c9988e6-8a91-4bb0-9beb-cc75e7153cd3"
      },
      "execution_count": null,
      "outputs": [
        {
          "output_type": "display_data",
          "data": {
            "text/plain": [
              "<Figure size 720x576 with 2 Axes>"
            ],
            "image/png": "[encoded data removed]"
          },
          "metadata": {
            "needs_background": "light"
          }
        }
      ]
    },
    {
      "cell_type": "markdown",
      "source": [
        "##DecisionTreeClassifier"
      ],
      "metadata": {
        "id": "VfKuf3qlBa16"
      }
    },
    {
      "cell_type": "code",
      "source": [
        "from sklearn.tree import DecisionTreeClassifier\n",
        "\n",
        "param_dict ={\n",
        "             \"criterion\":['gini','entropy'],\n",
        "             \"max_depth\":(150, 155, 160),\n",
        "             \"min_samples_split\":range(1,10),\n",
        "             \"min_samples_leaf\":range(1,5)\n",
        " }\n",
        "\n",
        "decision_tree = DecisionTreeClassifier(random_state=42)\n",
        "\n",
        "dt_decision_tree=RandomizedSearchCV(estimator=decision_tree, param_distributions=param_dict, n_iter=100, cv=5, verbose=2,\n",
        "                               random_state=100,n_jobs=-1)\n",
        "#fit the randomized model\n",
        "dt_decision_tree.fit(X_train,y_train)"
      ],
      "metadata": {
        "colab": {
          "base_uri": "https://localhost:8080/"
        },
        "id": "gq4GYnVO5OEd",
        "outputId": "f17dfd80-63de-4328-f319-ade957035a5b"
      },
      "execution_count": null,
      "outputs": [
        {
          "output_type": "stream",
          "name": "stdout",
          "text": [
            "Fitting 5 folds for each of 100 candidates, totalling 500 fits\n"
          ]
        },
        {
          "output_type": "execute_result",
          "data": {
            "text/plain": [
              "RandomizedSearchCV(cv=5, estimator=DecisionTreeClassifier(random_state=42),\n",
              "                   n_iter=100, n_jobs=-1,\n",
              "                   param_distributions={'criterion': ['gini', 'entropy'],\n",
              "                                        'max_depth': (150, 155, 160),\n",
              "                                        'min_samples_leaf': range(1, 5),\n",
              "                                        'min_samples_split': range(1, 10)},\n",
              "                   random_state=100, verbose=2)"
            ]
          },
          "metadata": {},
          "execution_count": 76
        }
      ]
    },
    {
      "cell_type": "code",
      "source": [
        "print('\\n All results:')\n",
        "print(dt_decision_tree.cv_results_)"
      ],
      "metadata": {
        "colab": {
          "base_uri": "https://localhost:8080/"
        },
        "id": "2_es0m4A6gLj",
        "outputId": "c05c8286-a915-4c5f-cc9f-dda61a6c3257"
      },
      "execution_count": null,
      "outputs": [
        {
          "output_type": "stream",
          "name": "stdout",
          "text": [
            "\n",
            " All results:\n",
            "{'mean_fit_time': array([0.00208249, 0.00165548, 0.00166178, 0.00175805, 0.00163879,\n",
            "       0.00181103, 0.00178375, 0.00166597, 0.00166173, 0.00171938,\n",
            "       0.00172739, 0.00343785, 0.00162611, 0.00333524, 0.00173211,\n",
            "       0.00412149, 0.00164628, 0.00130162, 0.00238991, 0.0017066 ,\n",
            "       0.00178442, 0.00177336, 0.00274458, 0.0029532 , 0.00209179,\n",
            "       0.00170069, 0.00450068, 0.00175724, 0.00171919, 0.00168252,\n",
            "       0.00170746, 0.00128121, 0.00184555, 0.00178008, 0.00158486,\n",
            "       0.00163546, 0.00169578, 0.00262647, 0.00291185, 0.00313797,\n",
            "       0.00172038, 0.00118914, 0.001756  , 0.00182009, 0.0016818 ,\n",
            "       0.00172296, 0.00174537, 0.00171824, 0.00166817, 0.00168934,\n",
            "       0.00170546, 0.00673599, 0.0017344 , 0.00167589, 0.00121746,\n",
            "       0.00363264, 0.00167565, 0.00163517, 0.00169711, 0.0017242 ,\n",
            "       0.0017168 , 0.00168543, 0.00171924, 0.00169191, 0.00128174,\n",
            "       0.00165811, 0.00241623, 0.00173788, 0.00228176, 0.00195951,\n",
            "       0.00160594, 0.0016469 , 0.00118308, 0.00171385, 0.00172458,\n",
            "       0.00172238, 0.00186753, 0.00123448, 0.00176291, 0.00223904,\n",
            "       0.00178661, 0.0026897 , 0.00294824, 0.00244489, 0.00175185,\n",
            "       0.00165687, 0.00219922, 0.00209756, 0.00220551, 0.00180449,\n",
            "       0.00217328, 0.0017355 , 0.00176678, 0.0020999 , 0.00272198,\n",
            "       0.00171056, 0.00173836, 0.00219226, 0.00277314, 0.0019032 ]), 'std_fit_time': array([3.61797899e-04, 6.52393746e-05, 1.48911824e-04, 9.49422657e-05,\n",
            "       2.34329472e-04, 1.94931532e-04, 2.59309843e-04, 8.47137950e-05,\n",
            "       3.93161996e-05, 5.01445003e-05, 5.31579125e-05, 2.40233435e-03,\n",
            "       4.28593058e-05, 2.49802253e-03, 1.03240586e-04, 3.91438037e-03,\n",
            "       6.31336719e-05, 4.96869353e-05, 1.30644062e-03, 3.63795815e-05,\n",
            "       1.23265643e-04, 1.05001664e-04, 2.09642347e-03, 2.52369439e-03,\n",
            "       7.79788581e-04, 2.72609100e-05, 3.61418883e-03, 6.98813925e-05,\n",
            "       4.03265557e-05, 5.75218607e-05, 5.46727853e-05, 7.57361526e-05,\n",
            "       5.94773650e-05, 6.68535899e-05, 9.58974653e-05, 5.82886569e-05,\n",
            "       2.47673645e-05, 1.72627145e-03, 2.43887724e-03, 2.85300200e-03,\n",
            "       9.67640418e-05, 4.68468180e-05, 9.20709952e-05, 6.01605244e-05,\n",
            "       7.11930812e-05, 1.20712341e-05, 3.50008219e-05, 2.62950510e-05,\n",
            "       4.13702336e-05, 5.31434104e-05, 5.96662965e-05, 5.86627844e-03,\n",
            "       9.59583808e-05, 3.43267781e-05, 4.22614939e-05, 1.99668953e-03,\n",
            "       3.70718735e-05, 5.90648239e-05, 7.67549949e-05, 3.28462243e-05,\n",
            "       4.86489357e-05, 3.45788814e-05, 5.04463516e-05, 7.03089235e-05,\n",
            "       6.71391121e-05, 6.59318723e-05, 1.33475638e-03, 7.44152320e-05,\n",
            "       4.29741049e-04, 2.23606907e-04, 2.46384118e-05, 1.77320603e-05,\n",
            "       4.58350402e-05, 3.02073988e-05, 6.58642447e-05, 3.11182921e-05,\n",
            "       1.77893942e-04, 3.01741860e-05, 4.89961260e-05, 1.15272398e-03,\n",
            "       1.94958918e-04, 1.00968926e-03, 8.91479675e-04, 1.24785151e-03,\n",
            "       4.83568835e-05, 2.74173488e-05, 1.00727433e-03, 7.76522064e-04,\n",
            "       1.01959701e-03, 2.02856447e-04, 8.65805751e-04, 1.69649681e-04,\n",
            "       3.88288940e-05, 3.70879534e-04, 1.77301405e-03, 1.01897278e-04,\n",
            "       8.55543935e-05, 1.04949754e-03, 1.81623761e-03, 4.27197412e-04]), 'mean_score_time': array([0.00058579, 0.00051255, 0.00052733, 0.00046692, 0.00050216,\n",
            "       0.00049329, 0.00050025, 0.00050602, 0.00048161, 0.00051017,\n",
            "       0.00049744, 0.00055723, 0.00096931, 0.00048041, 0.00046248,\n",
            "       0.00046668, 0.0005178 , 0.        , 0.00052447, 0.00051599,\n",
            "       0.00050645, 0.00049567, 0.00048122, 0.00049458, 0.00049486,\n",
            "       0.00192623, 0.00340052, 0.0004601 , 0.00049148, 0.00050888,\n",
            "       0.00054889, 0.        , 0.00053401, 0.00049663, 0.00045724,\n",
            "       0.00050664, 0.00051322, 0.00052419, 0.00165548, 0.001932  ,\n",
            "       0.00048046, 0.        , 0.00048909, 0.0028863 , 0.00049391,\n",
            "       0.00050044, 0.00049791, 0.0005033 , 0.00049515, 0.00050702,\n",
            "       0.00051527, 0.00050263, 0.00045686, 0.00098667, 0.        ,\n",
            "       0.        , 0.0004982 , 0.00047669, 0.00047359, 0.00047598,\n",
            "       0.00048971, 0.00048637, 0.00054464, 0.00052361, 0.        ,\n",
            "       0.00049496, 0.0004941 , 0.00054531, 0.00080466, 0.00059342,\n",
            "       0.00048399, 0.00047307, 0.        , 0.0005249 , 0.00048203,\n",
            "       0.0004859 , 0.00048923, 0.        , 0.00050349, 0.0004632 ,\n",
            "       0.00049968, 0.00086284, 0.00136447, 0.        , 0.00053067,\n",
            "       0.00047059, 0.00047712, 0.00084329, 0.00049791, 0.00048456,\n",
            "       0.00047832, 0.00121455, 0.00053401, 0.00198278, 0.00066075,\n",
            "       0.00048289, 0.00048862, 0.00061846, 0.        , 0.00046587]), 'std_score_time': array([4.25586179e-05, 9.27560917e-05, 6.22935143e-05, 2.31664354e-05,\n",
            "       2.81371906e-05, 4.83153942e-05, 1.58115923e-05, 2.95248851e-05,\n",
            "       3.13753777e-05, 6.41406067e-05, 3.50715594e-05, 1.49996736e-04,\n",
            "       9.68552871e-04, 6.43426329e-05, 3.40431009e-05, 3.42814414e-05,\n",
            "       2.53789382e-05, 0.00000000e+00, 1.75728564e-05, 3.27380572e-05,\n",
            "       3.34355686e-05, 3.69488804e-05, 2.49101667e-05, 3.80660032e-05,\n",
            "       3.85432522e-05, 2.81180070e-03, 2.48944377e-03, 2.64373417e-05,\n",
            "       2.30429306e-05, 3.18420844e-05, 4.95574452e-05, 0.00000000e+00,\n",
            "       4.00796878e-05, 3.81448864e-05, 3.40494454e-05, 4.23685311e-05,\n",
            "       1.14863331e-05, 2.48347486e-05, 2.32279990e-03, 2.88368563e-03,\n",
            "       2.77433185e-05, 0.00000000e+00, 2.03948108e-05, 4.80880874e-03,\n",
            "       2.04349063e-05, 1.77053689e-05, 2.17474340e-05, 3.39242076e-05,\n",
            "       3.91649671e-05, 3.03369631e-05, 5.43339988e-05, 5.96419027e-05,\n",
            "       3.77772414e-05, 9.31730065e-04, 0.00000000e+00, 0.00000000e+00,\n",
            "       8.58121428e-06, 1.69827681e-05, 1.97289609e-05, 1.80005869e-05,\n",
            "       2.71072593e-05, 2.91787719e-05, 2.62964344e-05, 3.40904888e-05,\n",
            "       0.00000000e+00, 3.84535983e-05, 3.28518309e-05, 9.50285613e-05,\n",
            "       2.91379226e-04, 1.94330595e-04, 1.64470806e-05, 1.98826801e-05,\n",
            "       0.00000000e+00, 9.59568880e-06, 2.84034088e-05, 2.62117347e-05,\n",
            "       3.06395240e-05, 0.00000000e+00, 5.37813129e-05, 1.63127100e-05,\n",
            "       4.87483852e-05, 3.20738800e-04, 7.94338003e-04, 0.00000000e+00,\n",
            "       4.41463144e-05, 8.95057768e-06, 2.34550571e-05, 7.38585926e-04,\n",
            "       1.66002349e-05, 4.21742452e-05, 2.88986136e-05, 1.20915090e-03,\n",
            "       3.77769405e-05, 2.56425419e-03, 2.25593600e-04, 2.54751563e-05,\n",
            "       2.60854769e-05, 3.48873077e-04, 0.00000000e+00, 2.19940332e-05]), 'param_min_samples_split': masked_array(data=[3, 6, 5, 6, 9, 2, 9, 9, 6, 3, 3, 8, 5, 4, 7, 7, 4, 1,\n",
            "                   8, 4, 8, 4, 8, 8, 8, 4, 8, 9, 2, 3, 6, 1, 6, 5, 5, 3,\n",
            "                   7, 7, 9, 7, 7, 1, 5, 2, 7, 3, 9, 4, 6, 8, 6, 3, 9, 7,\n",
            "                   1, 1, 2, 9, 4, 5, 8, 3, 3, 2, 1, 3, 5, 8, 7, 3, 2, 9,\n",
            "                   1, 4, 6, 6, 2, 1, 4, 2, 3, 4, 9, 1, 5, 6, 8, 9, 2, 3,\n",
            "                   2, 2, 4, 4, 8, 2, 9, 9, 1, 4],\n",
            "             mask=[False, False, False, False, False, False, False, False,\n",
            "                   False, False, False, False, False, False, False, False,\n",
            "                   False, False, False, False, False, False, False, False,\n",
            "                   False, False, False, False, False, False, False, False,\n",
            "                   False, False, False, False, False, False, False, False,\n",
            "                   False, False, False, False, False, False, False, False,\n",
            "                   False, False, False, False, False, False, False, False,\n",
            "                   False, False, False, False, False, False, False, False,\n",
            "                   False, False, False, False, False, False, False, False,\n",
            "                   False, False, False, False, False, False, False, False,\n",
            "                   False, False, False, False, False, False, False, False,\n",
            "                   False, False, False, False, False, False, False, False,\n",
            "                   False, False, False, False],\n",
            "       fill_value='?',\n",
            "            dtype=object), 'param_min_samples_leaf': masked_array(data=[3, 1, 4, 3, 1, 2, 2, 3, 1, 4, 1, 4, 4, 2, 4, 2, 3, 2,\n",
            "                   3, 1, 1, 1, 4, 2, 3, 4, 2, 1, 4, 1, 1, 4, 1, 1, 3, 2,\n",
            "                   2, 3, 3, 1, 1, 2, 4, 1, 4, 3, 3, 1, 3, 2, 4, 4, 3, 3,\n",
            "                   4, 2, 4, 4, 4, 2, 1, 4, 2, 4, 3, 4, 1, 3, 2, 4, 1, 1,\n",
            "                   3, 3, 4, 4, 3, 2, 1, 1, 3, 3, 1, 3, 2, 4, 2, 4, 2, 3,\n",
            "                   1, 2, 2, 2, 2, 2, 2, 2, 2, 2],\n",
            "             mask=[False, False, False, False, False, False, False, False,\n",
            "                   False, False, False, False, False, False, False, False,\n",
            "                   False, False, False, False, False, False, False, False,\n",
            "                   False, False, False, False, False, False, False, False,\n",
            "                   False, False, False, False, False, False, False, False,\n",
            "                   False, False, False, False, False, False, False, False,\n",
            "                   False, False, False, False, False, False, False, False,\n",
            "                   False, False, False, False, False, False, False, False,\n",
            "                   False, False, False, False, False, False, False, False,\n",
            "                   False, False, False, False, False, False, False, False,\n",
            "                   False, False, False, False, False, False, False, False,\n",
            "                   False, False, False, False, False, False, False, False,\n",
            "                   False, False, False, False],\n",
            "       fill_value='?',\n",
            "            dtype=object), 'param_max_depth': masked_array(data=[160, 160, 160, 155, 150, 155, 160, 160, 160, 155, 150,\n",
            "                   155, 150, 150, 155, 150, 155, 155, 155, 160, 150, 160,\n",
            "                   150, 155, 150, 160, 150, 160, 150, 160, 155, 155, 155,\n",
            "                   160, 150, 150, 150, 155, 150, 155, 155, 160, 150, 155,\n",
            "                   155, 155, 155, 150, 155, 160, 150, 150, 150, 160, 160,\n",
            "                   150, 155, 155, 155, 160, 150, 155, 160, 150, 160, 160,\n",
            "                   155, 160, 160, 160, 150, 155, 160, 160, 160, 150, 160,\n",
            "                   160, 150, 160, 150, 155, 155, 155, 160, 160, 155, 160,\n",
            "                   150, 150, 160, 160, 160, 150, 150, 150, 150, 160, 155,\n",
            "                   155],\n",
            "             mask=[False, False, False, False, False, False, False, False,\n",
            "                   False, False, False, False, False, False, False, False,\n",
            "                   False, False, False, False, False, False, False, False,\n",
            "                   False, False, False, False, False, False, False, False,\n",
            "                   False, False, False, False, False, False, False, False,\n",
            "                   False, False, False, False, False, False, False, False,\n",
            "                   False, False, False, False, False, False, False, False,\n",
            "                   False, False, False, False, False, False, False, False,\n",
            "                   False, False, False, False, False, False, False, False,\n",
            "                   False, False, False, False, False, False, False, False,\n",
            "                   False, False, False, False, False, False, False, False,\n",
            "                   False, False, False, False, False, False, False, False,\n",
            "                   False, False, False, False],\n",
            "       fill_value='?',\n",
            "            dtype=object), 'param_criterion': masked_array(data=['gini', 'gini', 'entropy', 'entropy', 'entropy',\n",
            "                   'gini', 'entropy', 'entropy', 'entropy', 'gini',\n",
            "                   'entropy', 'entropy', 'gini', 'entropy', 'gini',\n",
            "                   'entropy', 'entropy', 'entropy', 'entropy', 'gini',\n",
            "                   'entropy', 'entropy', 'entropy', 'gini', 'entropy',\n",
            "                   'entropy', 'entropy', 'entropy', 'entropy', 'gini',\n",
            "                   'gini', 'entropy', 'entropy', 'entropy', 'gini',\n",
            "                   'gini', 'gini', 'entropy', 'entropy', 'gini',\n",
            "                   'entropy', 'gini', 'entropy', 'entropy', 'entropy',\n",
            "                   'entropy', 'entropy', 'gini', 'gini', 'gini', 'gini',\n",
            "                   'gini', 'gini', 'gini', 'gini', 'entropy', 'gini',\n",
            "                   'entropy', 'entropy', 'gini', 'gini', 'entropy',\n",
            "                   'gini', 'gini', 'entropy', 'gini', 'gini', 'gini',\n",
            "                   'entropy', 'entropy', 'gini', 'entropy', 'gini',\n",
            "                   'entropy', 'gini', 'entropy', 'entropy', 'entropy',\n",
            "                   'entropy', 'gini', 'entropy', 'gini', 'gini',\n",
            "                   'entropy', 'entropy', 'entropy', 'entropy', 'entropy',\n",
            "                   'gini', 'gini', 'entropy', 'gini', 'entropy', 'gini',\n",
            "                   'gini', 'entropy', 'entropy', 'gini', 'gini',\n",
            "                   'entropy'],\n",
            "             mask=[False, False, False, False, False, False, False, False,\n",
            "                   False, False, False, False, False, False, False, False,\n",
            "                   False, False, False, False, False, False, False, False,\n",
            "                   False, False, False, False, False, False, False, False,\n",
            "                   False, False, False, False, False, False, False, False,\n",
            "                   False, False, False, False, False, False, False, False,\n",
            "                   False, False, False, False, False, False, False, False,\n",
            "                   False, False, False, False, False, False, False, False,\n",
            "                   False, False, False, False, False, False, False, False,\n",
            "                   False, False, False, False, False, False, False, False,\n",
            "                   False, False, False, False, False, False, False, False,\n",
            "                   False, False, False, False, False, False, False, False,\n",
            "                   False, False, False, False],\n",
            "       fill_value='?',\n",
            "            dtype=object), 'params': [{'min_samples_split': 3, 'min_samples_leaf': 3, 'max_depth': 160, 'criterion': 'gini'}, {'min_samples_split': 6, 'min_samples_leaf': 1, 'max_depth': 160, 'criterion': 'gini'}, {'min_samples_split': 5, 'min_samples_leaf': 4, 'max_depth': 160, 'criterion': 'entropy'}, {'min_samples_split': 6, 'min_samples_leaf': 3, 'max_depth': 155, 'criterion': 'entropy'}, {'min_samples_split': 9, 'min_samples_leaf': 1, 'max_depth': 150, 'criterion': 'entropy'}, {'min_samples_split': 2, 'min_samples_leaf': 2, 'max_depth': 155, 'criterion': 'gini'}, {'min_samples_split': 9, 'min_samples_leaf': 2, 'max_depth': 160, 'criterion': 'entropy'}, {'min_samples_split': 9, 'min_samples_leaf': 3, 'max_depth': 160, 'criterion': 'entropy'}, {'min_samples_split': 6, 'min_samples_leaf': 1, 'max_depth': 160, 'criterion': 'entropy'}, {'min_samples_split': 3, 'min_samples_leaf': 4, 'max_depth': 155, 'criterion': 'gini'}, {'min_samples_split': 3, 'min_samples_leaf': 1, 'max_depth': 150, 'criterion': 'entropy'}, {'min_samples_split': 8, 'min_samples_leaf': 4, 'max_depth': 155, 'criterion': 'entropy'}, {'min_samples_split': 5, 'min_samples_leaf': 4, 'max_depth': 150, 'criterion': 'gini'}, {'min_samples_split': 4, 'min_samples_leaf': 2, 'max_depth': 150, 'criterion': 'entropy'}, {'min_samples_split': 7, 'min_samples_leaf': 4, 'max_depth': 155, 'criterion': 'gini'}, {'min_samples_split': 7, 'min_samples_leaf': 2, 'max_depth': 150, 'criterion': 'entropy'}, {'min_samples_split': 4, 'min_samples_leaf': 3, 'max_depth': 155, 'criterion': 'entropy'}, {'min_samples_split': 1, 'min_samples_leaf': 2, 'max_depth': 155, 'criterion': 'entropy'}, {'min_samples_split': 8, 'min_samples_leaf': 3, 'max_depth': 155, 'criterion': 'entropy'}, {'min_samples_split': 4, 'min_samples_leaf': 1, 'max_depth': 160, 'criterion': 'gini'}, {'min_samples_split': 8, 'min_samples_leaf': 1, 'max_depth': 150, 'criterion': 'entropy'}, {'min_samples_split': 4, 'min_samples_leaf': 1, 'max_depth': 160, 'criterion': 'entropy'}, {'min_samples_split': 8, 'min_samples_leaf': 4, 'max_depth': 150, 'criterion': 'entropy'}, {'min_samples_split': 8, 'min_samples_leaf': 2, 'max_depth': 155, 'criterion': 'gini'}, {'min_samples_split': 8, 'min_samples_leaf': 3, 'max_depth': 150, 'criterion': 'entropy'}, {'min_samples_split': 4, 'min_samples_leaf': 4, 'max_depth': 160, 'criterion': 'entropy'}, {'min_samples_split': 8, 'min_samples_leaf': 2, 'max_depth': 150, 'criterion': 'entropy'}, {'min_samples_split': 9, 'min_samples_leaf': 1, 'max_depth': 160, 'criterion': 'entropy'}, {'min_samples_split': 2, 'min_samples_leaf': 4, 'max_depth': 150, 'criterion': 'entropy'}, {'min_samples_split': 3, 'min_samples_leaf': 1, 'max_depth': 160, 'criterion': 'gini'}, {'min_samples_split': 6, 'min_samples_leaf': 1, 'max_depth': 155, 'criterion': 'gini'}, {'min_samples_split': 1, 'min_samples_leaf': 4, 'max_depth': 155, 'criterion': 'entropy'}, {'min_samples_split': 6, 'min_samples_leaf': 1, 'max_depth': 155, 'criterion': 'entropy'}, {'min_samples_split': 5, 'min_samples_leaf': 1, 'max_depth': 160, 'criterion': 'entropy'}, {'min_samples_split': 5, 'min_samples_leaf': 3, 'max_depth': 150, 'criterion': 'gini'}, {'min_samples_split': 3, 'min_samples_leaf': 2, 'max_depth': 150, 'criterion': 'gini'}, {'min_samples_split': 7, 'min_samples_leaf': 2, 'max_depth': 150, 'criterion': 'gini'}, {'min_samples_split': 7, 'min_samples_leaf': 3, 'max_depth': 155, 'criterion': 'entropy'}, {'min_samples_split': 9, 'min_samples_leaf': 3, 'max_depth': 150, 'criterion': 'entropy'}, {'min_samples_split': 7, 'min_samples_leaf': 1, 'max_depth': 155, 'criterion': 'gini'}, {'min_samples_split': 7, 'min_samples_leaf': 1, 'max_depth': 155, 'criterion': 'entropy'}, {'min_samples_split': 1, 'min_samples_leaf': 2, 'max_depth': 160, 'criterion': 'gini'}, {'min_samples_split': 5, 'min_samples_leaf': 4, 'max_depth': 150, 'criterion': 'entropy'}, {'min_samples_split': 2, 'min_samples_leaf': 1, 'max_depth': 155, 'criterion': 'entropy'}, {'min_samples_split': 7, 'min_samples_leaf': 4, 'max_depth': 155, 'criterion': 'entropy'}, {'min_samples_split': 3, 'min_samples_leaf': 3, 'max_depth': 155, 'criterion': 'entropy'}, {'min_samples_split': 9, 'min_samples_leaf': 3, 'max_depth': 155, 'criterion': 'entropy'}, {'min_samples_split': 4, 'min_samples_leaf': 1, 'max_depth': 150, 'criterion': 'gini'}, {'min_samples_split': 6, 'min_samples_leaf': 3, 'max_depth': 155, 'criterion': 'gini'}, {'min_samples_split': 8, 'min_samples_leaf': 2, 'max_depth': 160, 'criterion': 'gini'}, {'min_samples_split': 6, 'min_samples_leaf': 4, 'max_depth': 150, 'criterion': 'gini'}, {'min_samples_split': 3, 'min_samples_leaf': 4, 'max_depth': 150, 'criterion': 'gini'}, {'min_samples_split': 9, 'min_samples_leaf': 3, 'max_depth': 150, 'criterion': 'gini'}, {'min_samples_split': 7, 'min_samples_leaf': 3, 'max_depth': 160, 'criterion': 'gini'}, {'min_samples_split': 1, 'min_samples_leaf': 4, 'max_depth': 160, 'criterion': 'gini'}, {'min_samples_split': 1, 'min_samples_leaf': 2, 'max_depth': 150, 'criterion': 'entropy'}, {'min_samples_split': 2, 'min_samples_leaf': 4, 'max_depth': 155, 'criterion': 'gini'}, {'min_samples_split': 9, 'min_samples_leaf': 4, 'max_depth': 155, 'criterion': 'entropy'}, {'min_samples_split': 4, 'min_samples_leaf': 4, 'max_depth': 155, 'criterion': 'entropy'}, {'min_samples_split': 5, 'min_samples_leaf': 2, 'max_depth': 160, 'criterion': 'gini'}, {'min_samples_split': 8, 'min_samples_leaf': 1, 'max_depth': 150, 'criterion': 'gini'}, {'min_samples_split': 3, 'min_samples_leaf': 4, 'max_depth': 155, 'criterion': 'entropy'}, {'min_samples_split': 3, 'min_samples_leaf': 2, 'max_depth': 160, 'criterion': 'gini'}, {'min_samples_split': 2, 'min_samples_leaf': 4, 'max_depth': 150, 'criterion': 'gini'}, {'min_samples_split': 1, 'min_samples_leaf': 3, 'max_depth': 160, 'criterion': 'entropy'}, {'min_samples_split': 3, 'min_samples_leaf': 4, 'max_depth': 160, 'criterion': 'gini'}, {'min_samples_split': 5, 'min_samples_leaf': 1, 'max_depth': 155, 'criterion': 'gini'}, {'min_samples_split': 8, 'min_samples_leaf': 3, 'max_depth': 160, 'criterion': 'gini'}, {'min_samples_split': 7, 'min_samples_leaf': 2, 'max_depth': 160, 'criterion': 'entropy'}, {'min_samples_split': 3, 'min_samples_leaf': 4, 'max_depth': 160, 'criterion': 'entropy'}, {'min_samples_split': 2, 'min_samples_leaf': 1, 'max_depth': 150, 'criterion': 'gini'}, {'min_samples_split': 9, 'min_samples_leaf': 1, 'max_depth': 155, 'criterion': 'entropy'}, {'min_samples_split': 1, 'min_samples_leaf': 3, 'max_depth': 160, 'criterion': 'gini'}, {'min_samples_split': 4, 'min_samples_leaf': 3, 'max_depth': 160, 'criterion': 'entropy'}, {'min_samples_split': 6, 'min_samples_leaf': 4, 'max_depth': 160, 'criterion': 'gini'}, {'min_samples_split': 6, 'min_samples_leaf': 4, 'max_depth': 150, 'criterion': 'entropy'}, {'min_samples_split': 2, 'min_samples_leaf': 3, 'max_depth': 160, 'criterion': 'entropy'}, {'min_samples_split': 1, 'min_samples_leaf': 2, 'max_depth': 160, 'criterion': 'entropy'}, {'min_samples_split': 4, 'min_samples_leaf': 1, 'max_depth': 150, 'criterion': 'entropy'}, {'min_samples_split': 2, 'min_samples_leaf': 1, 'max_depth': 160, 'criterion': 'gini'}, {'min_samples_split': 3, 'min_samples_leaf': 3, 'max_depth': 150, 'criterion': 'entropy'}, {'min_samples_split': 4, 'min_samples_leaf': 3, 'max_depth': 155, 'criterion': 'gini'}, {'min_samples_split': 9, 'min_samples_leaf': 1, 'max_depth': 155, 'criterion': 'gini'}, {'min_samples_split': 1, 'min_samples_leaf': 3, 'max_depth': 155, 'criterion': 'entropy'}, {'min_samples_split': 5, 'min_samples_leaf': 2, 'max_depth': 160, 'criterion': 'entropy'}, {'min_samples_split': 6, 'min_samples_leaf': 4, 'max_depth': 160, 'criterion': 'entropy'}, {'min_samples_split': 8, 'min_samples_leaf': 2, 'max_depth': 155, 'criterion': 'entropy'}, {'min_samples_split': 9, 'min_samples_leaf': 4, 'max_depth': 160, 'criterion': 'entropy'}, {'min_samples_split': 2, 'min_samples_leaf': 2, 'max_depth': 150, 'criterion': 'gini'}, {'min_samples_split': 3, 'min_samples_leaf': 3, 'max_depth': 150, 'criterion': 'gini'}, {'min_samples_split': 2, 'min_samples_leaf': 1, 'max_depth': 160, 'criterion': 'entropy'}, {'min_samples_split': 2, 'min_samples_leaf': 2, 'max_depth': 160, 'criterion': 'gini'}, {'min_samples_split': 4, 'min_samples_leaf': 2, 'max_depth': 160, 'criterion': 'entropy'}, {'min_samples_split': 4, 'min_samples_leaf': 2, 'max_depth': 150, 'criterion': 'gini'}, {'min_samples_split': 8, 'min_samples_leaf': 2, 'max_depth': 150, 'criterion': 'gini'}, {'min_samples_split': 2, 'min_samples_leaf': 2, 'max_depth': 150, 'criterion': 'entropy'}, {'min_samples_split': 9, 'min_samples_leaf': 2, 'max_depth': 150, 'criterion': 'entropy'}, {'min_samples_split': 9, 'min_samples_leaf': 2, 'max_depth': 160, 'criterion': 'gini'}, {'min_samples_split': 1, 'min_samples_leaf': 2, 'max_depth': 155, 'criterion': 'gini'}, {'min_samples_split': 4, 'min_samples_leaf': 2, 'max_depth': 155, 'criterion': 'entropy'}], 'split0_test_score': array([ 1.,  1.,  1.,  1.,  1.,  1.,  1.,  1.,  1.,  1.,  1.,  1.,  1.,\n",
            "        1.,  1.,  1.,  1., nan,  1.,  1.,  1.,  1.,  1.,  1.,  1.,  1.,\n",
            "        1.,  1.,  1.,  1.,  1., nan,  1.,  1.,  1.,  1.,  1.,  1.,  1.,\n",
            "        1.,  1., nan,  1.,  1.,  1.,  1.,  1.,  1.,  1.,  1.,  1.,  1.,\n",
            "        1.,  1., nan, nan,  1.,  1.,  1.,  1.,  1.,  1.,  1.,  1., nan,\n",
            "        1.,  1.,  1.,  1.,  1.,  1.,  1., nan,  1.,  1.,  1.,  1., nan,\n",
            "        1.,  1.,  1.,  1.,  1., nan,  1.,  1.,  1.,  1.,  1.,  1.,  1.,\n",
            "        1.,  1.,  1.,  1.,  1.,  1.,  1., nan,  1.]), 'split1_test_score': array([ 1.,  1.,  1.,  1.,  1.,  1.,  1.,  1.,  1.,  1.,  1.,  1.,  1.,\n",
            "        1.,  1.,  1.,  1., nan,  1.,  1.,  1.,  1.,  1.,  1.,  1.,  1.,\n",
            "        1.,  1.,  1.,  1.,  1., nan,  1.,  1.,  1.,  1.,  1.,  1.,  1.,\n",
            "        1.,  1., nan,  1.,  1.,  1.,  1.,  1.,  1.,  1.,  1.,  1.,  1.,\n",
            "        1.,  1., nan, nan,  1.,  1.,  1.,  1.,  1.,  1.,  1.,  1., nan,\n",
            "        1.,  1.,  1.,  1.,  1.,  1.,  1., nan,  1.,  1.,  1.,  1., nan,\n",
            "        1.,  1.,  1.,  1.,  1., nan,  1.,  1.,  1.,  1.,  1.,  1.,  1.,\n",
            "        1.,  1.,  1.,  1.,  1.,  1.,  1., nan,  1.]), 'split2_test_score': array([ 1.,  1.,  1.,  1.,  1.,  1.,  1.,  1.,  1.,  1.,  1.,  1.,  1.,\n",
            "        1.,  1.,  1.,  1., nan,  1.,  1.,  1.,  1.,  1.,  1.,  1.,  1.,\n",
            "        1.,  1.,  1.,  1.,  1., nan,  1.,  1.,  1.,  1.,  1.,  1.,  1.,\n",
            "        1.,  1., nan,  1.,  1.,  1.,  1.,  1.,  1.,  1.,  1.,  1.,  1.,\n",
            "        1.,  1., nan, nan,  1.,  1.,  1.,  1.,  1.,  1.,  1.,  1., nan,\n",
            "        1.,  1.,  1.,  1.,  1.,  1.,  1., nan,  1.,  1.,  1.,  1., nan,\n",
            "        1.,  1.,  1.,  1.,  1., nan,  1.,  1.,  1.,  1.,  1.,  1.,  1.,\n",
            "        1.,  1.,  1.,  1.,  1.,  1.,  1., nan,  1.]), 'split3_test_score': array([ 1.,  1.,  1.,  1.,  1.,  1.,  1.,  1.,  1.,  1.,  1.,  1.,  1.,\n",
            "        1.,  1.,  1.,  1., nan,  1.,  1.,  1.,  1.,  1.,  1.,  1.,  1.,\n",
            "        1.,  1.,  1.,  1.,  1., nan,  1.,  1.,  1.,  1.,  1.,  1.,  1.,\n",
            "        1.,  1., nan,  1.,  1.,  1.,  1.,  1.,  1.,  1.,  1.,  1.,  1.,\n",
            "        1.,  1., nan, nan,  1.,  1.,  1.,  1.,  1.,  1.,  1.,  1., nan,\n",
            "        1.,  1.,  1.,  1.,  1.,  1.,  1., nan,  1.,  1.,  1.,  1., nan,\n",
            "        1.,  1.,  1.,  1.,  1., nan,  1.,  1.,  1.,  1.,  1.,  1.,  1.,\n",
            "        1.,  1.,  1.,  1.,  1.,  1.,  1., nan,  1.]), 'split4_test_score': array([ 1.,  1.,  1.,  1.,  1.,  1.,  1.,  1.,  1.,  1.,  1.,  1.,  1.,\n",
            "        1.,  1.,  1.,  1., nan,  1.,  1.,  1.,  1.,  1.,  1.,  1.,  1.,\n",
            "        1.,  1.,  1.,  1.,  1., nan,  1.,  1.,  1.,  1.,  1.,  1.,  1.,\n",
            "        1.,  1., nan,  1.,  1.,  1.,  1.,  1.,  1.,  1.,  1.,  1.,  1.,\n",
            "        1.,  1., nan, nan,  1.,  1.,  1.,  1.,  1.,  1.,  1.,  1., nan,\n",
            "        1.,  1.,  1.,  1.,  1.,  1.,  1., nan,  1.,  1.,  1.,  1., nan,\n",
            "        1.,  1.,  1.,  1.,  1., nan,  1.,  1.,  1.,  1.,  1.,  1.,  1.,\n",
            "        1.,  1.,  1.,  1.,  1.,  1.,  1., nan,  1.]), 'mean_test_score': array([ 1.,  1.,  1.,  1.,  1.,  1.,  1.,  1.,  1.,  1.,  1.,  1.,  1.,\n",
            "        1.,  1.,  1.,  1., nan,  1.,  1.,  1.,  1.,  1.,  1.,  1.,  1.,\n",
            "        1.,  1.,  1.,  1.,  1., nan,  1.,  1.,  1.,  1.,  1.,  1.,  1.,\n",
            "        1.,  1., nan,  1.,  1.,  1.,  1.,  1.,  1.,  1.,  1.,  1.,  1.,\n",
            "        1.,  1., nan, nan,  1.,  1.,  1.,  1.,  1.,  1.,  1.,  1., nan,\n",
            "        1.,  1.,  1.,  1.,  1.,  1.,  1., nan,  1.,  1.,  1.,  1., nan,\n",
            "        1.,  1.,  1.,  1.,  1., nan,  1.,  1.,  1.,  1.,  1.,  1.,  1.,\n",
            "        1.,  1.,  1.,  1.,  1.,  1.,  1., nan,  1.]), 'std_test_score': array([ 0.,  0.,  0.,  0.,  0.,  0.,  0.,  0.,  0.,  0.,  0.,  0.,  0.,\n",
            "        0.,  0.,  0.,  0., nan,  0.,  0.,  0.,  0.,  0.,  0.,  0.,  0.,\n",
            "        0.,  0.,  0.,  0.,  0., nan,  0.,  0.,  0.,  0.,  0.,  0.,  0.,\n",
            "        0.,  0., nan,  0.,  0.,  0.,  0.,  0.,  0.,  0.,  0.,  0.,  0.,\n",
            "        0.,  0., nan, nan,  0.,  0.,  0.,  0.,  0.,  0.,  0.,  0., nan,\n",
            "        0.,  0.,  0.,  0.,  0.,  0.,  0., nan,  0.,  0.,  0.,  0., nan,\n",
            "        0.,  0.,  0.,  0.,  0., nan,  0.,  0.,  0.,  0.,  0.,  0.,  0.,\n",
            "        0.,  0.,  0.,  0.,  0.,  0.,  0., nan,  0.]), 'rank_test_score': array([  1,   1,   1,   1,   1,   1,   1,   1,   1,   1,   1,   1,   1,\n",
            "         1,   1,   1,   1,  92,   1,   1,   1,   1,   1,   1,   1,   1,\n",
            "         1,   1,   1,   1,   1,  91,   1,   1,   1,   1,   1,   1,   1,\n",
            "         1,   1,  97,   1,   1,   1,   1,   1,   1,   1,   1,   1,   1,\n",
            "         1,   1,  96,  95,   1,   1,   1,   1,   1,   1,   1,   1,  93,\n",
            "         1,   1,   1,   1,   1,   1,   1, 100,   1,   1,   1,   1,  94,\n",
            "         1,   1,   1,   1,   1,  99,   1,   1,   1,   1,   1,   1,   1,\n",
            "         1,   1,   1,   1,   1,   1,   1,  98,   1], dtype=int32)}\n"
          ]
        }
      ]
    },
    {
      "cell_type": "code",
      "source": [
        "print('\\n Best estimator:')\n",
        "print(dt_decision_tree.best_estimator_)"
      ],
      "metadata": {
        "colab": {
          "base_uri": "https://localhost:8080/"
        },
        "id": "jiYQrh2t6gSz",
        "outputId": "3e081494-a510-42e1-c28b-57d8eab0bc1e"
      },
      "execution_count": null,
      "outputs": [
        {
          "output_type": "stream",
          "name": "stdout",
          "text": [
            "\n",
            " Best estimator:\n",
            "DecisionTreeClassifier(max_depth=160, min_samples_leaf=3, min_samples_split=3,\n",
            "                       random_state=42)\n"
          ]
        }
      ]
    },
    {
      "cell_type": "code",
      "source": [
        "print('\\n Best hyperparameters:')\n",
        "print(dt_decision_tree.best_params_)"
      ],
      "metadata": {
        "colab": {
          "base_uri": "https://localhost:8080/"
        },
        "id": "4AlvK-kM6WmL",
        "outputId": "00983989-6d83-42df-f2b2-5879d9a28ba9"
      },
      "execution_count": null,
      "outputs": [
        {
          "output_type": "stream",
          "name": "stdout",
          "text": [
            "\n",
            " Best hyperparameters:\n",
            "{'min_samples_split': 3, 'min_samples_leaf': 3, 'max_depth': 160, 'criterion': 'gini'}\n"
          ]
        }
      ]
    },
    {
      "cell_type": "code",
      "source": [
        "from sklearn.ensemble import RandomForestClassifier\n",
        "dt = DecisionTreeClassifier(min_samples_split = 3, min_samples_leaf = 3, max_depth = 160, criterion = 'gini')\n",
        "dt.fit(X_train, y_train)"
      ],
      "metadata": {
        "colab": {
          "base_uri": "https://localhost:8080/"
        },
        "id": "NMxAB1P863uA",
        "outputId": "4723b86d-53d5-4740-828c-e766606eef00"
      },
      "execution_count": null,
      "outputs": [
        {
          "output_type": "execute_result",
          "data": {
            "text/plain": [
              "DecisionTreeClassifier(max_depth=160, min_samples_leaf=3, min_samples_split=3)"
            ]
          },
          "metadata": {},
          "execution_count": 80
        }
      ]
    },
    {
      "cell_type": "code",
      "source": [
        "y_pred_dt = dt.predict(X_test)\n",
        "model_report(y_test, y_pred_dt)"
      ],
      "metadata": {
        "colab": {
          "base_uri": "https://localhost:8080/"
        },
        "id": "-J7DDj1N7Qlk",
        "outputId": "b90bc307-85d9-465c-f895-ff4a34a4dea1"
      },
      "execution_count": null,
      "outputs": [
        {
          "output_type": "stream",
          "name": "stdout",
          "text": [
            "Accuracy =  1.0\n",
            "Precision =  1.0\n",
            "Recall\\Sensitivity =  1.0\n",
            "Specificity =  1.0\n",
            "F1 Score =  1.0\n",
            "AUC Score = 1.0\n",
            "Kappa score =  1.0\n",
            "Log Loss =  9.992007221626413e-16 \n",
            "\n"
          ]
        }
      ]
    },
    {
      "cell_type": "code",
      "source": [
        "title = \"Learning Curves (DecisionTreeClassifier)\"                                        # fill this in\n",
        "cv = ShuffleSplit(n_splits=5, test_size=0.2, random_state=42)\n",
        "dt = DecisionTreeClassifier(min_samples_split = 3, min_samples_leaf = 3, max_depth = 160, criterion = 'gini')                             # fill this in\n",
        "plot_learning_curve(dt, title, X, y, ylim=(0.2, 1.25), cv=cv, n_jobs=4)\n",
        "plt.savefig('DT_curve.pdf', transparent=True, dpi=300)\n",
        "plt.savefig('DT_curve.eps', transparent=True, dpi=300)\n",
        "plt.show()"
      ],
      "metadata": {
        "colab": {
          "base_uri": "https://localhost:8080/",
          "height": 434
        },
        "id": "CTwEv5WDD6BF",
        "outputId": "f1f5d16c-33de-49a0-ba03-587cd1ccda58"
      },
      "execution_count": null,
      "outputs": [
        {
          "output_type": "stream",
          "name": "stderr",
          "text": [
            "WARNING:matplotlib.backends.backend_ps:The PostScript backend does not support transparency; partially transparent artists will be rendered opaque.\n",
            "WARNING:matplotlib.backends.backend_ps:The PostScript backend does not support transparency; partially transparent artists will be rendered opaque.\n",
            "WARNING:matplotlib.backends.backend_ps:The PostScript backend does not support transparency; partially transparent artists will be rendered opaque.\n",
            "WARNING:matplotlib.backends.backend_ps:The PostScript backend does not support transparency; partially transparent artists will be rendered opaque.\n",
            "WARNING:matplotlib.backends.backend_ps:The PostScript backend does not support transparency; partially transparent artists will be rendered opaque.\n",
            "WARNING:matplotlib.backends.backend_ps:The PostScript backend does not support transparency; partially transparent artists will be rendered opaque.\n",
            "WARNING:matplotlib.backends.backend_ps:The PostScript backend does not support transparency; partially transparent artists will be rendered opaque.\n",
            "WARNING:matplotlib.backends.backend_ps:The PostScript backend does not support transparency; partially transparent artists will be rendered opaque.\n"
          ]
        },
        {
          "output_type": "display_data",
          "data": {
            "text/plain": [
              "<Figure size 432x288 with 1 Axes>"
            ],
            "image/png": "[encoded data removed]"
          },
          "metadata": {
            "needs_background": "light"
          }
        }
      ]
    },
    {
      "cell_type": "code",
      "source": [
        "from sklearn.metrics import confusion_matrix\n",
        "\n",
        "cm = confusion_matrix(y_test, y_pred_dt)\n",
        "plt.figure(figsize=(10, 8))\n",
        "ax = sns.heatmap(cm, cmap=plt.cm.Greens, annot=True, square=True, annot_kws={\"size\": 25})\n",
        "plt.title('Confusion Matrix', fontsize=20)\n",
        "ax.set_ylabel('Actual Label', fontsize=20)\n",
        "ax.set_xlabel('Predicted Label', fontsize=20)\n",
        "plt.savefig('DT_confusion.pdf', transparent=True, dpi=300)\n",
        "plt.savefig('DT_confusion.eps', transparent=True, dpi=300)"
      ],
      "metadata": {
        "colab": {
          "base_uri": "https://localhost:8080/",
          "height": 527
        },
        "id": "dX4x1yalEsY_",
        "outputId": "c1803156-91aa-4e8f-a247-e736f21f3a59"
      },
      "execution_count": null,
      "outputs": [
        {
          "output_type": "display_data",
          "data": {
            "text/plain": [
              "<Figure size 720x576 with 2 Axes>"
            ],
            "image/png": "[encoded data removed]"
          },
          "metadata": {
            "needs_background": "light"
          }
        }
      ]
    },
    {
      "cell_type": "markdown",
      "source": [
        "##XGBClassifier"
      ],
      "metadata": {
        "id": "-0Juv-1cBVaG"
      }
    },
    {
      "cell_type": "code",
      "source": [
        "from xgboost import XGBClassifier\n",
        "from sklearn.model_selection import RandomizedSearchCV\n",
        "\n",
        "estimator = XGBClassifier(\n",
        "    objective= 'binary:logistic',\n",
        "    nthread=4,\n",
        "    seed=42\n",
        ")\n",
        "\n",
        "parameters = {\n",
        "    'max_depth': range (2, 10, 1),\n",
        "    'n_estimators': range(60, 220, 40),\n",
        "    'learning_rate': [0.1, 0.01, 0.05]\n",
        "}\n",
        "\n",
        "xg_randomcv = RandomizedSearchCV(\n",
        "    estimator=estimator,\n",
        "    param_distributions=parameters,\n",
        "    scoring = 'roc_auc',\n",
        "    n_jobs = 10,\n",
        "    cv = 5,\n",
        "    verbose=True\n",
        ")\n",
        "\n",
        "#fit the randomized model\n",
        "xg_randomcv.fit(X_train,y_train)"
      ],
      "metadata": {
        "colab": {
          "base_uri": "https://localhost:8080/"
        },
        "id": "EfbxYtEs7YXI",
        "outputId": "e2b6c35a-bacb-482b-a879-27fbf6f453df"
      },
      "execution_count": null,
      "outputs": [
        {
          "output_type": "stream",
          "name": "stdout",
          "text": [
            "Fitting 5 folds for each of 10 candidates, totalling 50 fits\n"
          ]
        },
        {
          "output_type": "execute_result",
          "data": {
            "text/plain": [
              "RandomizedSearchCV(cv=5, estimator=XGBClassifier(nthread=4, seed=42), n_jobs=10,\n",
              "                   param_distributions={'learning_rate': [0.1, 0.01, 0.05],\n",
              "                                        'max_depth': range(2, 10),\n",
              "                                        'n_estimators': range(60, 220, 40)},\n",
              "                   scoring='roc_auc', verbose=True)"
            ]
          },
          "metadata": {},
          "execution_count": 84
        }
      ]
    },
    {
      "cell_type": "code",
      "source": [
        "print('\\n All results:')\n",
        "print(xg_randomcv.cv_results_)"
      ],
      "metadata": {
        "colab": {
          "base_uri": "https://localhost:8080/"
        },
        "id": "CyZQR5Aw8PJo",
        "outputId": "79b3c5b7-0131-4765-eea2-9a6ebae38faf"
      },
      "execution_count": null,
      "outputs": [
        {
          "output_type": "stream",
          "name": "stdout",
          "text": [
            "\n",
            " All results:\n",
            "{'mean_fit_time': array([2.43143582, 2.31252117, 1.20446506, 1.09324908, 0.76692462,\n",
            "       1.27500629, 1.05471907, 0.37913117, 1.24229503, 0.44243236]), 'std_fit_time': array([0.52591532, 0.28995372, 0.35634539, 0.2150903 , 0.14118355,\n",
            "       0.09480744, 0.10351045, 0.09983277, 0.14485708, 0.12394558]), 'mean_score_time': array([0.00954814, 0.00723038, 0.01469698, 0.01970053, 0.00767689,\n",
            "       0.00933032, 0.01207175, 0.01973376, 0.05099053, 0.01051116]), 'std_score_time': array([0.00272302, 0.00535194, 0.00536987, 0.01432987, 0.00309577,\n",
            "       0.0048705 , 0.00704842, 0.01403764, 0.02617368, 0.01053875]), 'param_n_estimators': masked_array(data=[140, 180, 180, 180, 100, 180, 140, 60, 140, 60],\n",
            "             mask=[False, False, False, False, False, False, False, False,\n",
            "                   False, False],\n",
            "       fill_value='?',\n",
            "            dtype=object), 'param_max_depth': masked_array(data=[4, 9, 7, 7, 6, 2, 2, 6, 5, 9],\n",
            "             mask=[False, False, False, False, False, False, False, False,\n",
            "                   False, False],\n",
            "       fill_value='?',\n",
            "            dtype=object), 'param_learning_rate': masked_array(data=[0.01, 0.01, 0.05, 0.01, 0.01, 0.01, 0.01, 0.1, 0.01,\n",
            "                   0.01],\n",
            "             mask=[False, False, False, False, False, False, False, False,\n",
            "                   False, False],\n",
            "       fill_value='?',\n",
            "            dtype=object), 'params': [{'n_estimators': 140, 'max_depth': 4, 'learning_rate': 0.01}, {'n_estimators': 180, 'max_depth': 9, 'learning_rate': 0.01}, {'n_estimators': 180, 'max_depth': 7, 'learning_rate': 0.05}, {'n_estimators': 180, 'max_depth': 7, 'learning_rate': 0.01}, {'n_estimators': 100, 'max_depth': 6, 'learning_rate': 0.01}, {'n_estimators': 180, 'max_depth': 2, 'learning_rate': 0.01}, {'n_estimators': 140, 'max_depth': 2, 'learning_rate': 0.01}, {'n_estimators': 60, 'max_depth': 6, 'learning_rate': 0.1}, {'n_estimators': 140, 'max_depth': 5, 'learning_rate': 0.01}, {'n_estimators': 60, 'max_depth': 9, 'learning_rate': 0.01}], 'split0_test_score': array([1., 1., 1., 1., 1., 1., 1., 1., 1., 1.]), 'split1_test_score': array([1., 1., 1., 1., 1., 1., 1., 1., 1., 1.]), 'split2_test_score': array([1., 1., 1., 1., 1., 1., 1., 1., 1., 1.]), 'split3_test_score': array([1., 1., 1., 1., 1., 1., 1., 1., 1., 1.]), 'split4_test_score': array([1., 1., 1., 1., 1., 1., 1., 1., 1., 1.]), 'mean_test_score': array([1., 1., 1., 1., 1., 1., 1., 1., 1., 1.]), 'std_test_score': array([0., 0., 0., 0., 0., 0., 0., 0., 0., 0.]), 'rank_test_score': array([1, 1, 1, 1, 1, 1, 1, 1, 1, 1], dtype=int32)}\n"
          ]
        }
      ]
    },
    {
      "cell_type": "code",
      "source": [
        "print('\\n Best estimator:')\n",
        "print(xg_randomcv.best_estimator_)"
      ],
      "metadata": {
        "colab": {
          "base_uri": "https://localhost:8080/"
        },
        "id": "W20TGI7L8R6x",
        "outputId": "c4ed5d7e-739d-442a-bbbf-dd1a0802ca18"
      },
      "execution_count": null,
      "outputs": [
        {
          "output_type": "stream",
          "name": "stdout",
          "text": [
            "\n",
            " Best estimator:\n",
            "XGBClassifier(learning_rate=0.01, max_depth=4, n_estimators=140, nthread=4,\n",
            "              seed=42)\n"
          ]
        }
      ]
    },
    {
      "cell_type": "code",
      "source": [
        "print('\\n Best hyperparameters:')\n",
        "print(xg_randomcv.best_params_)"
      ],
      "metadata": {
        "colab": {
          "base_uri": "https://localhost:8080/"
        },
        "id": "kPQFrGOS8bai",
        "outputId": "d18330e2-10a9-4436-a921-7a8bd659843f"
      },
      "execution_count": null,
      "outputs": [
        {
          "output_type": "stream",
          "name": "stdout",
          "text": [
            "\n",
            " Best hyperparameters:\n",
            "{'n_estimators': 140, 'max_depth': 4, 'learning_rate': 0.01}\n"
          ]
        }
      ]
    },
    {
      "cell_type": "code",
      "source": [
        "from xgboost import XGBClassifier\n",
        "xg = XGBClassifier(n_estimators = 140, max_depth = 4, learning_rate = 0.01)\n",
        "xg.fit(X_train, y_train)"
      ],
      "metadata": {
        "colab": {
          "base_uri": "https://localhost:8080/"
        },
        "id": "m8YBs3t18mXF",
        "outputId": "37b120a5-dcb6-4bcc-f807-a2ee3233e29a"
      },
      "execution_count": null,
      "outputs": [
        {
          "output_type": "execute_result",
          "data": {
            "text/plain": [
              "XGBClassifier(learning_rate=0.01, max_depth=4, n_estimators=140)"
            ]
          },
          "metadata": {},
          "execution_count": 88
        }
      ]
    },
    {
      "cell_type": "code",
      "source": [
        "y_pred_xg = xg.predict(X_test)\n",
        "model_report(y_test, y_pred_xg)"
      ],
      "metadata": {
        "colab": {
          "base_uri": "https://localhost:8080/"
        },
        "id": "rue7TUSC8tdl",
        "outputId": "56b469a8-9f7d-4f09-811e-72ff2045437d"
      },
      "execution_count": null,
      "outputs": [
        {
          "output_type": "stream",
          "name": "stdout",
          "text": [
            "Accuracy =  1.0\n",
            "Precision =  1.0\n",
            "Recall\\Sensitivity =  1.0\n",
            "Specificity =  1.0\n",
            "F1 Score =  1.0\n",
            "AUC Score = 1.0\n",
            "Kappa score =  1.0\n",
            "Log Loss =  9.992007221626413e-16 \n",
            "\n"
          ]
        }
      ]
    },
    {
      "cell_type": "code",
      "source": [
        "title = \"Learning Curves (XGBClassifier)\"                                        # fill this in\n",
        "cv = ShuffleSplit(n_splits=5, test_size=0.2, random_state=42)\n",
        "xg = XGBClassifier(n_estimators = 140, max_depth = 2, learning_rate = 0.01)                             # fill this in\n",
        "plot_learning_curve(xg, title, X, y, ylim=(0.2, 1.25), cv=cv, n_jobs=4)\n",
        "plt.savefig('XG_curve.pdf', transparent=True, dpi=300)\n",
        "plt.savefig('XG_curve.eps', transparent=True, dpi=300)\n",
        "plt.show()"
      ],
      "metadata": {
        "colab": {
          "base_uri": "https://localhost:8080/",
          "height": 434
        },
        "id": "sCgfpA-PGaLb",
        "outputId": "37e3c22b-f8eb-4466-a80f-99710cf44e8d"
      },
      "execution_count": null,
      "outputs": [
        {
          "output_type": "stream",
          "name": "stderr",
          "text": [
            "WARNING:matplotlib.backends.backend_ps:The PostScript backend does not support transparency; partially transparent artists will be rendered opaque.\n",
            "WARNING:matplotlib.backends.backend_ps:The PostScript backend does not support transparency; partially transparent artists will be rendered opaque.\n",
            "WARNING:matplotlib.backends.backend_ps:The PostScript backend does not support transparency; partially transparent artists will be rendered opaque.\n",
            "WARNING:matplotlib.backends.backend_ps:The PostScript backend does not support transparency; partially transparent artists will be rendered opaque.\n",
            "WARNING:matplotlib.backends.backend_ps:The PostScript backend does not support transparency; partially transparent artists will be rendered opaque.\n",
            "WARNING:matplotlib.backends.backend_ps:The PostScript backend does not support transparency; partially transparent artists will be rendered opaque.\n",
            "WARNING:matplotlib.backends.backend_ps:The PostScript backend does not support transparency; partially transparent artists will be rendered opaque.\n",
            "WARNING:matplotlib.backends.backend_ps:The PostScript backend does not support transparency; partially transparent artists will be rendered opaque.\n"
          ]
        },
        {
          "output_type": "display_data",
          "data": {
            "text/plain": [
              "<Figure size 432x288 with 1 Axes>"
            ],
            "image/png": "[encoded data removed]"
          },
          "metadata": {
            "needs_background": "light"
          }
        }
      ]
    },
    {
      "cell_type": "code",
      "source": [
        "from sklearn.metrics import confusion_matrix\n",
        "\n",
        "cm = confusion_matrix(y_test, y_pred_xg)\n",
        "plt.figure(figsize=(10, 8))\n",
        "ax = sns.heatmap(cm, cmap=plt.cm.Greens, annot=True, square=True, annot_kws={\"size\": 25})\n",
        "plt.title('Confusion Matrix', fontsize=20)\n",
        "ax.set_ylabel('Actual Label', fontsize=20)\n",
        "ax.set_xlabel('Predicted Label', fontsize=20)\n",
        "plt.savefig('XG_confusion.pdf', transparent=True, dpi=300)\n",
        "plt.savefig('XG_confusion.eps', transparent=True, dpi=300)"
      ],
      "metadata": {
        "colab": {
          "base_uri": "https://localhost:8080/",
          "height": 527
        },
        "id": "GDd_g0TWFQz2",
        "outputId": "85c14dc3-46af-41d9-cf4d-64874eb47d7f"
      },
      "execution_count": null,
      "outputs": [
        {
          "output_type": "display_data",
          "data": {
            "text/plain": [
              "<Figure size 720x576 with 2 Axes>"
            ],
            "image/png": "[encoded data removed]"
          },
          "metadata": {
            "needs_background": "light"
          }
        }
      ]
    },
    {
      "cell_type": "markdown",
      "source": [
        "##LogisticRegression"
      ],
      "metadata": {
        "id": "ivb-fQU5BQHK"
      }
    },
    {
      "cell_type": "code",
      "source": [
        "from sklearn.linear_model import LogisticRegression\n",
        "\n",
        "grid_values = {'penalty': ['l1','l2'], \n",
        "               'C': [0.001,0.01,0.1,1,10,100,1000]}\n",
        "lr=LogisticRegression(random_state=42)\n",
        "lr_randomcv = RandomizedSearchCV(lr, param_distributions=grid_values, cv=5)\n",
        "#fit the randomized model\n",
        "lr_randomcv.fit(X_train,y_train)"
      ],
      "metadata": {
        "colab": {
          "base_uri": "https://localhost:8080/"
        },
        "id": "jUHpz4eV9DcU",
        "outputId": "f7ebe51c-e72b-45b7-f758-f185c926c87d"
      },
      "execution_count": null,
      "outputs": [
        {
          "output_type": "execute_result",
          "data": {
            "text/plain": [
              "RandomizedSearchCV(cv=5, estimator=LogisticRegression(random_state=42),\n",
              "                   param_distributions={'C': [0.001, 0.01, 0.1, 1, 10, 100,\n",
              "                                              1000],\n",
              "                                        'penalty': ['l1', 'l2']})"
            ]
          },
          "metadata": {},
          "execution_count": 92
        }
      ]
    },
    {
      "cell_type": "code",
      "source": [
        "print('\\n All results:')\n",
        "print(lr_randomcv.cv_results_)"
      ],
      "metadata": {
        "colab": {
          "base_uri": "https://localhost:8080/"
        },
        "id": "Sp1kSYKn9siE",
        "outputId": "43d84e4a-0781-4b1e-ccc6-926e794149b7"
      },
      "execution_count": null,
      "outputs": [
        {
          "output_type": "stream",
          "name": "stdout",
          "text": [
            "\n",
            " All results:\n",
            "{'mean_fit_time': array([0.00031414, 0.00688887, 0.01032548, 0.00031176, 0.00031362,\n",
            "       0.01576538, 0.04151697, 0.00032754, 0.00027804, 0.02934823]), 'std_fit_time': array([1.36969895e-04, 1.65275391e-03, 2.30581628e-04, 3.97384770e-05,\n",
            "       3.92259358e-05, 1.12951553e-03, 3.58977071e-03, 3.15067784e-05,\n",
            "       8.73328264e-06, 9.31910938e-04]), 'mean_score_time': array([0.        , 0.00048404, 0.00047364, 0.        , 0.        ,\n",
            "       0.00045671, 0.00050077, 0.        , 0.        , 0.00050306]), 'std_score_time': array([0.00000000e+00, 4.94998313e-05, 4.04209434e-05, 0.00000000e+00,\n",
            "       0.00000000e+00, 1.35556007e-05, 3.14403874e-05, 0.00000000e+00,\n",
            "       0.00000000e+00, 1.31515457e-05]), 'param_penalty': masked_array(data=['l1', 'l2', 'l2', 'l1', 'l1', 'l2', 'l2', 'l1', 'l1',\n",
            "                   'l2'],\n",
            "             mask=[False, False, False, False, False, False, False, False,\n",
            "                   False, False],\n",
            "       fill_value='?',\n",
            "            dtype=object), 'param_C': masked_array(data=[0.01, 0.001, 0.1, 1000, 100, 1, 100, 0.001, 1, 10],\n",
            "             mask=[False, False, False, False, False, False, False, False,\n",
            "                   False, False],\n",
            "       fill_value='?',\n",
            "            dtype=object), 'params': [{'penalty': 'l1', 'C': 0.01}, {'penalty': 'l2', 'C': 0.001}, {'penalty': 'l2', 'C': 0.1}, {'penalty': 'l1', 'C': 1000}, {'penalty': 'l1', 'C': 100}, {'penalty': 'l2', 'C': 1}, {'penalty': 'l2', 'C': 100}, {'penalty': 'l1', 'C': 0.001}, {'penalty': 'l1', 'C': 1}, {'penalty': 'l2', 'C': 10}], 'split0_test_score': array([    nan, 0.675  , 0.99375,     nan,     nan, 1.     , 1.     ,\n",
            "           nan,     nan, 1.     ]), 'split1_test_score': array([       nan, 0.67295597, 0.98113208,        nan,        nan,\n",
            "       1.        , 1.        ,        nan,        nan, 1.        ]), 'split2_test_score': array([       nan, 0.67295597, 0.97484277,        nan,        nan,\n",
            "       1.        , 1.        ,        nan,        nan, 1.        ]), 'split3_test_score': array([       nan, 0.67295597, 0.99371069,        nan,        nan,\n",
            "       1.        , 1.        ,        nan,        nan, 1.        ]), 'split4_test_score': array([       nan, 0.67295597, 0.97484277,        nan,        nan,\n",
            "       0.99371069, 1.        ,        nan,        nan, 1.        ]), 'mean_test_score': array([       nan, 0.67336478, 0.98365566,        nan,        nan,\n",
            "       0.99874214, 1.        ,        nan,        nan, 1.        ]), 'std_test_score': array([       nan, 0.00081761, 0.00854052,        nan,        nan,\n",
            "       0.00251572, 0.        ,        nan,        nan, 0.        ]), 'rank_test_score': array([ 6,  5,  4,  7,  8,  3,  1,  9, 10,  1], dtype=int32)}\n"
          ]
        }
      ]
    },
    {
      "cell_type": "code",
      "source": [
        "print('\\n Best estimator:')\n",
        "print(lr_randomcv.best_estimator_)"
      ],
      "metadata": {
        "colab": {
          "base_uri": "https://localhost:8080/"
        },
        "id": "m1cNwoaW94TD",
        "outputId": "65aeb492-cea1-4fc0-ac40-9ced9311fda5"
      },
      "execution_count": null,
      "outputs": [
        {
          "output_type": "stream",
          "name": "stdout",
          "text": [
            "\n",
            " Best estimator:\n",
            "LogisticRegression(C=100, random_state=42)\n"
          ]
        }
      ]
    },
    {
      "cell_type": "code",
      "source": [
        "print('\\n Best hyperparameters:')\n",
        "print(lr_randomcv.best_params_)"
      ],
      "metadata": {
        "colab": {
          "base_uri": "https://localhost:8080/"
        },
        "id": "KgU7Jkjn-B2I",
        "outputId": "8b50e40e-44e2-428b-ca36-f8bf51880c55"
      },
      "execution_count": null,
      "outputs": [
        {
          "output_type": "stream",
          "name": "stdout",
          "text": [
            "\n",
            " Best hyperparameters:\n",
            "{'penalty': 'l2', 'C': 100}\n"
          ]
        }
      ]
    },
    {
      "cell_type": "code",
      "source": [
        "from sklearn.linear_model import LogisticRegression\n",
        "lr = LogisticRegression(penalty = 'l2', C = 100)\n",
        "lr.fit(X_train, y_train)"
      ],
      "metadata": {
        "colab": {
          "base_uri": "https://localhost:8080/"
        },
        "id": "WOeEsSXc-GnB",
        "outputId": "d00df58a-dbbf-4911-fb02-faf2f5ba27e3"
      },
      "execution_count": null,
      "outputs": [
        {
          "output_type": "execute_result",
          "data": {
            "text/plain": [
              "LogisticRegression(C=100)"
            ]
          },
          "metadata": {},
          "execution_count": 96
        }
      ]
    },
    {
      "cell_type": "code",
      "source": [
        "y_pred_lr = lr.predict(X_test)\n",
        "model_report(y_test, y_pred_lr)"
      ],
      "metadata": {
        "colab": {
          "base_uri": "https://localhost:8080/"
        },
        "id": "GrrOwv-MAcRP",
        "outputId": "1e77da70-3393-4d45-d8ec-4f8d956e4a1e"
      },
      "execution_count": null,
      "outputs": [
        {
          "output_type": "stream",
          "name": "stdout",
          "text": [
            "Accuracy =  1.0\n",
            "Precision =  1.0\n",
            "Recall\\Sensitivity =  1.0\n",
            "Specificity =  1.0\n",
            "F1 Score =  1.0\n",
            "AUC Score = 1.0\n",
            "Kappa score =  1.0\n",
            "Log Loss =  9.992007221626413e-16 \n",
            "\n"
          ]
        }
      ]
    },
    {
      "cell_type": "code",
      "source": [
        "title = \"Learning Curves (LogisticRegression)\"                                        # fill this in\n",
        "cv = ShuffleSplit(n_splits=5, test_size=0.2, random_state=42)\n",
        "lr = LogisticRegression(penalty = 'l2', C = 100)                            # fill this in\n",
        "plot_learning_curve(lr, title, X, y, ylim=(0.2, 1.25), cv=cv, n_jobs=4)\n",
        "plt.savefig('LR_curve.pdf', transparent=True, dpi=300)\n",
        "plt.savefig('LR_curve.eps', transparent=True, dpi=300)\n",
        "plt.show()"
      ],
      "metadata": {
        "colab": {
          "base_uri": "https://localhost:8080/",
          "height": 434
        },
        "id": "xHguqe64G2lV",
        "outputId": "be6a6266-66a6-4064-a4d8-9515fe85f52d"
      },
      "execution_count": null,
      "outputs": [
        {
          "output_type": "stream",
          "name": "stderr",
          "text": [
            "WARNING:matplotlib.backends.backend_ps:The PostScript backend does not support transparency; partially transparent artists will be rendered opaque.\n",
            "WARNING:matplotlib.backends.backend_ps:The PostScript backend does not support transparency; partially transparent artists will be rendered opaque.\n",
            "WARNING:matplotlib.backends.backend_ps:The PostScript backend does not support transparency; partially transparent artists will be rendered opaque.\n",
            "WARNING:matplotlib.backends.backend_ps:The PostScript backend does not support transparency; partially transparent artists will be rendered opaque.\n",
            "WARNING:matplotlib.backends.backend_ps:The PostScript backend does not support transparency; partially transparent artists will be rendered opaque.\n",
            "WARNING:matplotlib.backends.backend_ps:The PostScript backend does not support transparency; partially transparent artists will be rendered opaque.\n",
            "WARNING:matplotlib.backends.backend_ps:The PostScript backend does not support transparency; partially transparent artists will be rendered opaque.\n",
            "WARNING:matplotlib.backends.backend_ps:The PostScript backend does not support transparency; partially transparent artists will be rendered opaque.\n"
          ]
        },
        {
          "output_type": "display_data",
          "data": {
            "text/plain": [
              "<Figure size 432x288 with 1 Axes>"
            ],
            "image/png": "[encoded data removed]"
          },
          "metadata": {
            "needs_background": "light"
          }
        }
      ]
    },
    {
      "cell_type": "code",
      "source": [
        "from sklearn.metrics import confusion_matrix\n",
        "\n",
        "cm = confusion_matrix(y_test, y_pred_lr)\n",
        "plt.figure(figsize=(10, 8))\n",
        "ax = sns.heatmap(cm, cmap=plt.cm.Greens, annot=True, square=True, annot_kws={\"size\": 25})\n",
        "plt.title('Confusion Matrix', fontsize=20)\n",
        "ax.set_ylabel('Actual Label', fontsize=20)\n",
        "ax.set_xlabel('Predicted Label', fontsize=20)\n",
        "plt.savefig('LR_confusion.pdf', transparent=True, dpi=300)\n",
        "plt.savefig('LR_confusion.eps', transparent=True, dpi=300)"
      ],
      "metadata": {
        "colab": {
          "base_uri": "https://localhost:8080/",
          "height": 527
        },
        "id": "bAq4bukgAjA-",
        "outputId": "0d314da3-4f20-4fc2-bb00-e9ee76c33d23"
      },
      "execution_count": null,
      "outputs": [
        {
          "output_type": "display_data",
          "data": {
            "text/plain": [
              "<Figure size 720x576 with 2 Axes>"
            ],
            "image/png": "[encoded data removed]"
          },
          "metadata": {
            "needs_background": "light"
          }
        }
      ]
    },
    {
      "cell_type": "code",
      "source": [
        "from sklearn.metrics import roc_curve\n",
        "\n",
        "# Compute fpr, tpr, thresholds and roc auc\n",
        "fpr_DT, tpr_DT, thresholds = roc_curve(y_test, y_pred_dt)\n",
        "fpr_knn, tpr_knn, thresholds_knn = roc_curve(y_test, y_pred_knn)\n",
        "fpr_LR, tpr_LR, thresholds_LR = roc_curve(y_test, y_pred_lr)\n",
        "fpr_svc, tpr_svc, thresholds_svc = roc_curve(y_test, y_pred_svc)\n",
        "fpr_rf, tpr_rf, thresholds_rf = roc_curve(y_test, y_pred_rf)\n",
        "fpr_xg, tpr_xg, thresholds_xg = roc_curve(y_test, y_pred_xg)"
      ],
      "metadata": {
        "id": "ldxQ3z-EF4uG"
      },
      "execution_count": null,
      "outputs": []
    },
    {
      "cell_type": "code",
      "source": [
        "from sklearn.metrics import auc\n",
        "\n",
        "roc_auc_DT = auc(fpr_DT, tpr_DT)\n",
        "roc_auc_knn = auc(fpr_knn, tpr_knn)\n",
        "roc_auc_LR = auc(fpr_LR, tpr_LR)\n",
        "roc_auc_svc = auc(fpr_svc, tpr_svc)\n",
        "roc_auc_rf = auc(fpr_rf, tpr_rf)\n",
        "roc_auc_xg = auc(fpr_xg, tpr_xg)"
      ],
      "metadata": {
        "id": "V80-aLiWHnRa"
      },
      "execution_count": null,
      "outputs": []
    },
    {
      "cell_type": "code",
      "source": [
        "from sklearn.metrics import roc_curve\n",
        "from sklearn.metrics import auc\n",
        "\n",
        "# Compute fpr, tpr, thresholds and roc auc\n",
        "plt.figure(figsize = (7, 5))\n",
        "plt.plot(fpr_knn, tpr_knn, label='KNN ROC curve (area = %0.3f)' % roc_auc_knn)\n",
        "plt.plot(fpr_LR, tpr_LR, label='LR ROC curve (area = %0.3f)' % roc_auc_LR)\n",
        "plt.plot(fpr_svc, tpr_svc, label='SVM ROC curve (area = %0.3f)' % roc_auc_svc)\n",
        "plt.plot(fpr_DT, tpr_DT, label='DT ROC curve (area = %0.3f)' % roc_auc_DT)\n",
        "plt.plot(fpr_rf, tpr_rf, label='RF ROC curve (area = %0.3f)' % roc_auc_rf)\n",
        "plt.plot(fpr_xg, tpr_xg, label='XGB ROC curve (area = %0.3f)' % roc_auc_xg)\n",
        "plt.plot([0, 1], [0, 1], 'k--')\n",
        "plt.xlabel('False Positive Rate')\n",
        "plt.ylabel('True Positive Rate')\n",
        "plt.title('Receiver Operating Characteristic for 80%-20% Splitting')\n",
        "plt.legend(loc=\"lower right\")\n",
        "plt.savefig('all_roc.pdf', transparent=True, dpi=300)\n",
        "plt.savefig('all_roc.eps', transparent=True, dpi=300)\n",
        "plt.show()"
      ],
      "metadata": {
        "colab": {
          "base_uri": "https://localhost:8080/",
          "height": 385
        },
        "id": "4oOY-1soHaPz",
        "outputId": "0a44d0e1-b20f-40fe-b0f8-34a04384f7a7"
      },
      "execution_count": null,
      "outputs": [
        {
          "output_type": "stream",
          "name": "stderr",
          "text": [
            "WARNING:matplotlib.backends.backend_ps:The PostScript backend does not support transparency; partially transparent artists will be rendered opaque.\n",
            "WARNING:matplotlib.backends.backend_ps:The PostScript backend does not support transparency; partially transparent artists will be rendered opaque.\n"
          ]
        },
        {
          "output_type": "display_data",
          "data": {
            "text/plain": [
              "<Figure size 504x360 with 1 Axes>"
            ],
            "image/png": "[encoded data removed]"
          },
          "metadata": {
            "needs_background": "light"
          }
        }
      ]
    },
    {
      "cell_type": "code",
      "source": [
        "from sklearn.feature_selection import SelectKBest \n",
        "from sklearn.feature_selection import chi2  \n",
        "# 700 features with highest chi-squared statistics are selected \n",
        "chi2_features = SelectKBest(chi2,k=20)\n",
        "X = chi2_features.fit_transform(features, target)\n",
        "y = target\n",
        "\n",
        "from sklearn.ensemble import RandomForestClassifier\n",
        "\n",
        "model = RandomForestClassifier(random_state=0)\n",
        "model.fit(X_train, y_train)"
      ],
      "metadata": {
        "colab": {
          "base_uri": "https://localhost:8080/"
        },
        "id": "u7OqkAn4Norq",
        "outputId": "3cbb395c-e5b9-4b23-db13-db4a1ea4b605"
      },
      "execution_count": null,
      "outputs": [
        {
          "output_type": "execute_result",
          "data": {
            "text/plain": [
              "RandomForestClassifier(random_state=0)"
            ]
          },
          "metadata": {},
          "execution_count": 104
        }
      ]
    },
    {
      "cell_type": "code",
      "source": [
        "importance = pd.DataFrame(model.feature_importances_)\n",
        "columns = pd.DataFrame(features.columns)\n",
        "featureScores = pd.concat([columns,importance],axis=1)\n",
        "featureScores.columns = ['Features','importance']\n",
        "print(featureScores.nlargest(25,'importance')) "
      ],
      "metadata": {
        "colab": {
          "base_uri": "https://localhost:8080/"
        },
        "id": "5yd57TYiO27V",
        "outputId": "69540c88-e986-40b3-b414-3de2bb62c3f5"
      },
      "execution_count": null,
      "outputs": [
        {
          "output_type": "stream",
          "name": "stdout",
          "text": [
            "                    Features  importance\n",
            "10                  Age_Mons    0.447817\n",
            "8                   A9_Score    0.101977\n",
            "5                   A6_Score    0.066959\n",
            "3                   A4_Score    0.063047\n",
            "4                   A5_Score    0.062954\n",
            "2                   A3_Score    0.038519\n",
            "9                  A10_Score    0.034387\n",
            "6                   A7_Score    0.028024\n",
            "0                   A1_Score    0.025219\n",
            "1                   A2_Score    0.022008\n",
            "7                   A8_Score    0.016571\n",
            "70       contry_of_res_Italy    0.007587\n",
            "19          ethnicity_Others    0.006858\n",
            "74      contry_of_res_Kuwait    0.006547\n",
            "73  contry_of_res_Kazakhstan    0.005897\n",
            "43     contry_of_res_Bolivia    0.004387\n",
            "11                    result    0.004111\n",
            "21     ethnicity_South Asian    0.003782\n",
            "68     contry_of_res_Ireland    0.003503\n",
            "15           ethnicity_Black    0.003266\n",
            "56      contry_of_res_Europe    0.003257\n",
            "22         ethnicity_Turkish    0.003225\n",
            "12                  gender_f    0.003211\n",
            "20        ethnicity_Pasifika    0.002979\n",
            "32   contry_of_res_Argentina    0.002721\n"
          ]
        }
      ]
    },
    {
      "cell_type": "code",
      "source": [
        "plt.figure(figsize=(20,7))\n",
        "featureScores.nlargest(25,'importance').plot(kind='barh')\n",
        "plt.title('Feature Importance')\n",
        "plt.savefig('feature_im_combined.pdf', \n",
        "           transparent=True, dpi=300)\n",
        "plt.savefig('feature_im_combined.eps', \n",
        "           transparent=True, dpi=300)"
      ],
      "metadata": {
        "colab": {
          "base_uri": "https://localhost:8080/",
          "height": 333
        },
        "id": "CkN0JzU_akse",
        "outputId": "27d9c31d-8bf7-4350-dc18-779c3c38f954"
      },
      "execution_count": null,
      "outputs": [
        {
          "output_type": "stream",
          "name": "stderr",
          "text": [
            "WARNING:matplotlib.backends.backend_ps:The PostScript backend does not support transparency; partially transparent artists will be rendered opaque.\n",
            "WARNING:matplotlib.backends.backend_ps:The PostScript backend does not support transparency; partially transparent artists will be rendered opaque.\n"
          ]
        },
        {
          "output_type": "display_data",
          "data": {
            "text/plain": [
              "<Figure size 1440x504 with 0 Axes>"
            ]
          },
          "metadata": {}
        },
        {
          "output_type": "display_data",
          "data": {
            "text/plain": [
              "<Figure size 432x288 with 1 Axes>"
            ],
            "image/png": "[encoded data removed]"
          },
          "metadata": {
            "needs_background": "light"
          }
        }
      ]
    }
  ],
  "metadata": {
    "colab": {
      "collapsed_sections": [
        "_vaNN75RnATu",
        "TM9PCk6LxBVy",
        "9jsvcg8Sx7yu"
      ],
      "provenance": [],
      "include_colab_link": true
    },
    "kernelspec": {
      "display_name": "Python 3",
      "language": "python",
      "name": "python3"
    },
    "language_info": {
      "codemirror_mode": {
        "name": "ipython",
        "version": 3
      },
      "file_extension": ".py",
      "mimetype": "text/x-python",
      "name": "python",
      "nbconvert_exporter": "python",
      "pygments_lexer": "ipython3",
      "version": "3.8.8"
    },
    "accelerator": "GPU",
    "gpuClass": "standard"
  },
  "nbformat": 4,
  "nbformat_minor": 0
}