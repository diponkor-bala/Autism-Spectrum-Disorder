{
  "cells": [
    {
      "cell_type": "markdown",
      "metadata": {
        "id": "view-in-github",
        "colab_type": "text"
      },
      "source": [
        "<a href=\"https://colab.research.google.com/github/bsaha205/asd/blob/main/ASD_Detection_Adult.ipynb\" target=\"_parent\"><img src=\"https://colab.research.google.com/assets/colab-badge.svg\" alt=\"Open In Colab\"/></a>"
      ]
    },
    {
      "cell_type": "code",
      "execution_count": 17,
      "metadata": {
        "id": "mX0ekhHYE-5o",
        "colab": {
          "base_uri": "https://localhost:8080/"
        },
        "outputId": "e5e51c32-3a23-4a01-dcc1-a3a4a1a68a33"
      },
      "outputs": [
        {
          "output_type": "stream",
          "name": "stdout",
          "text": [
            "Drive already mounted at /content/drive/; to attempt to forcibly remount, call drive.mount(\"/content/drive/\", force_remount=True).\n"
          ]
        }
      ],
      "source": [
        "from google.colab import drive\n",
        "drive.mount('/content/drive/')"
      ]
    },
    {
      "cell_type": "code",
      "source": [
        "#necessary libraries\n",
        "import pandas as pd\n",
        "import numpy as np\n",
        "import seaborn as sns\n",
        "import matplotlib.pyplot as plt\n",
        "import plotly.express as px\n",
        "from plotly.subplots import make_subplots\n",
        "import plotly.graph_objects as go\n",
        "from sklearn.impute import SimpleImputer\n",
        "import warnings\n",
        "warnings.filterwarnings('ignore')"
      ],
      "metadata": {
        "id": "Ljb4krfFWtOl"
      },
      "execution_count": 18,
      "outputs": []
    },
    {
      "cell_type": "code",
      "execution_count": 19,
      "metadata": {
        "id": "ickOJDvTUibO"
      },
      "outputs": [],
      "source": [
        "#loading dataset\n",
        "adu = pd.read_csv(\"/content/drive/MyDrive/Research/ASD/Autism-Adult-Data.csv\",na_values=['?'])"
      ]
    },
    {
      "cell_type": "code",
      "execution_count": 20,
      "metadata": {
        "colab": {
          "base_uri": "https://localhost:8080/",
          "height": 382
        },
        "id": "5xTbex5RgyIS",
        "outputId": "9d6621d0-c8a8-4046-d4b1-34e630e14917"
      },
      "outputs": [
        {
          "output_type": "execute_result",
          "data": {
            "text/plain": [
              "      id  A1_Score  A2_Score  A3_Score  A4_Score  A5_Score  A6_Score  \\\n",
              "153  154         0         0         1         0         1         0   \n",
              "199  200         1         1         1         1         0         0   \n",
              "400  401         1         0         0         1         0         0   \n",
              "4      5         1         0         0         0         0         0   \n",
              "216  217         1         0         0         0         0         0   \n",
              "\n",
              "     A7_Score  A8_Score  A9_Score  ...  gender  ethnicity jundice austim  \\\n",
              "153         1         0         1  ...       m      Asian      no     no   \n",
              "199         0         0         0  ...       f   Pasifika      no    yes   \n",
              "400         1         1         0  ...       f        NaN      no     no   \n",
              "4           0         1         0  ...       f        NaN      no     no   \n",
              "216         1         1         0  ...       f        NaN     yes     no   \n",
              "\n",
              "            contry_of_res used_app_before result     age_desc  relation  \\\n",
              "153             Sri Lanka              no      5  18 and more      Self   \n",
              "199         United States              no      4  18 and more      Self   \n",
              "400  United Arab Emirates              no      5  18 and more       NaN   \n",
              "4                   Egypt              no      2  18 and more       NaN   \n",
              "216  United Arab Emirates              no      4  18 and more       NaN   \n",
              "\n",
              "    Class/ASD  \n",
              "153        NO  \n",
              "199        NO  \n",
              "400        NO  \n",
              "4          NO  \n",
              "216        NO  \n",
              "\n",
              "[5 rows x 22 columns]"
            ],
            "text/html": [
              "\n",
              "  <div id=\"df-6768d2c4-7e29-4389-b915-63758988d2bb\">\n",
              "    <div class=\"colab-df-container\">\n",
              "      <div>\n",
              "<style scoped>\n",
              "    .dataframe tbody tr th:only-of-type {\n",
              "        vertical-align: middle;\n",
              "    }\n",
              "\n",
              "    .dataframe tbody tr th {\n",
              "        vertical-align: top;\n",
              "    }\n",
              "\n",
              "    .dataframe thead th {\n",
              "        text-align: right;\n",
              "    }\n",
              "</style>\n",
              "<table border=\"1\" class=\"dataframe\">\n",
              "  <thead>\n",
              "    <tr style=\"text-align: right;\">\n",
              "      <th></th>\n",
              "      <th>id</th>\n",
              "      <th>A1_Score</th>\n",
              "      <th>A2_Score</th>\n",
              "      <th>A3_Score</th>\n",
              "      <th>A4_Score</th>\n",
              "      <th>A5_Score</th>\n",
              "      <th>A6_Score</th>\n",
              "      <th>A7_Score</th>\n",
              "      <th>A8_Score</th>\n",
              "      <th>A9_Score</th>\n",
              "      <th>...</th>\n",
              "      <th>gender</th>\n",
              "      <th>ethnicity</th>\n",
              "      <th>jundice</th>\n",
              "      <th>austim</th>\n",
              "      <th>contry_of_res</th>\n",
              "      <th>used_app_before</th>\n",
              "      <th>result</th>\n",
              "      <th>age_desc</th>\n",
              "      <th>relation</th>\n",
              "      <th>Class/ASD</th>\n",
              "    </tr>\n",
              "  </thead>\n",
              "  <tbody>\n",
              "    <tr>\n",
              "      <th>153</th>\n",
              "      <td>154</td>\n",
              "      <td>0</td>\n",
              "      <td>0</td>\n",
              "      <td>1</td>\n",
              "      <td>0</td>\n",
              "      <td>1</td>\n",
              "      <td>0</td>\n",
              "      <td>1</td>\n",
              "      <td>0</td>\n",
              "      <td>1</td>\n",
              "      <td>...</td>\n",
              "      <td>m</td>\n",
              "      <td>Asian</td>\n",
              "      <td>no</td>\n",
              "      <td>no</td>\n",
              "      <td>Sri Lanka</td>\n",
              "      <td>no</td>\n",
              "      <td>5</td>\n",
              "      <td>18 and more</td>\n",
              "      <td>Self</td>\n",
              "      <td>NO</td>\n",
              "    </tr>\n",
              "    <tr>\n",
              "      <th>199</th>\n",
              "      <td>200</td>\n",
              "      <td>1</td>\n",
              "      <td>1</td>\n",
              "      <td>1</td>\n",
              "      <td>1</td>\n",
              "      <td>0</td>\n",
              "      <td>0</td>\n",
              "      <td>0</td>\n",
              "      <td>0</td>\n",
              "      <td>0</td>\n",
              "      <td>...</td>\n",
              "      <td>f</td>\n",
              "      <td>Pasifika</td>\n",
              "      <td>no</td>\n",
              "      <td>yes</td>\n",
              "      <td>United States</td>\n",
              "      <td>no</td>\n",
              "      <td>4</td>\n",
              "      <td>18 and more</td>\n",
              "      <td>Self</td>\n",
              "      <td>NO</td>\n",
              "    </tr>\n",
              "    <tr>\n",
              "      <th>400</th>\n",
              "      <td>401</td>\n",
              "      <td>1</td>\n",
              "      <td>0</td>\n",
              "      <td>0</td>\n",
              "      <td>1</td>\n",
              "      <td>0</td>\n",
              "      <td>0</td>\n",
              "      <td>1</td>\n",
              "      <td>1</td>\n",
              "      <td>0</td>\n",
              "      <td>...</td>\n",
              "      <td>f</td>\n",
              "      <td>NaN</td>\n",
              "      <td>no</td>\n",
              "      <td>no</td>\n",
              "      <td>United Arab Emirates</td>\n",
              "      <td>no</td>\n",
              "      <td>5</td>\n",
              "      <td>18 and more</td>\n",
              "      <td>NaN</td>\n",
              "      <td>NO</td>\n",
              "    </tr>\n",
              "    <tr>\n",
              "      <th>4</th>\n",
              "      <td>5</td>\n",
              "      <td>1</td>\n",
              "      <td>0</td>\n",
              "      <td>0</td>\n",
              "      <td>0</td>\n",
              "      <td>0</td>\n",
              "      <td>0</td>\n",
              "      <td>0</td>\n",
              "      <td>1</td>\n",
              "      <td>0</td>\n",
              "      <td>...</td>\n",
              "      <td>f</td>\n",
              "      <td>NaN</td>\n",
              "      <td>no</td>\n",
              "      <td>no</td>\n",
              "      <td>Egypt</td>\n",
              "      <td>no</td>\n",
              "      <td>2</td>\n",
              "      <td>18 and more</td>\n",
              "      <td>NaN</td>\n",
              "      <td>NO</td>\n",
              "    </tr>\n",
              "    <tr>\n",
              "      <th>216</th>\n",
              "      <td>217</td>\n",
              "      <td>1</td>\n",
              "      <td>0</td>\n",
              "      <td>0</td>\n",
              "      <td>0</td>\n",
              "      <td>0</td>\n",
              "      <td>0</td>\n",
              "      <td>1</td>\n",
              "      <td>1</td>\n",
              "      <td>0</td>\n",
              "      <td>...</td>\n",
              "      <td>f</td>\n",
              "      <td>NaN</td>\n",
              "      <td>yes</td>\n",
              "      <td>no</td>\n",
              "      <td>United Arab Emirates</td>\n",
              "      <td>no</td>\n",
              "      <td>4</td>\n",
              "      <td>18 and more</td>\n",
              "      <td>NaN</td>\n",
              "      <td>NO</td>\n",
              "    </tr>\n",
              "  </tbody>\n",
              "</table>\n",
              "<p>5 rows × 22 columns</p>\n",
              "</div>\n",
              "      <button class=\"colab-df-convert\" onclick=\"convertToInteractive('df-6768d2c4-7e29-4389-b915-63758988d2bb')\"\n",
              "              title=\"Convert this dataframe to an interactive table.\"\n",
              "              style=\"display:none;\">\n",
              "        \n",
              "  <svg xmlns=\"http://www.w3.org/2000/svg\" height=\"24px\"viewBox=\"0 0 24 24\"\n",
              "       width=\"24px\">\n",
              "    <path d=\"M0 0h24v24H0V0z\" fill=\"none\"/>\n",
              "    <path d=\"M18.56 5.44l.94 2.06.94-2.06 2.06-.94-2.06-.94-.94-2.06-.94 2.06-2.06.94zm-11 1L8.5 8.5l.94-2.06 2.06-.94-2.06-.94L8.5 2.5l-.94 2.06-2.06.94zm10 10l.94 2.06.94-2.06 2.06-.94-2.06-.94-.94-2.06-.94 2.06-2.06.94z\"/><path d=\"M17.41 7.96l-1.37-1.37c-.4-.4-.92-.59-1.43-.59-.52 0-1.04.2-1.43.59L10.3 9.45l-7.72 7.72c-.78.78-.78 2.05 0 2.83L4 21.41c.39.39.9.59 1.41.59.51 0 1.02-.2 1.41-.59l7.78-7.78 2.81-2.81c.8-.78.8-2.07 0-2.86zM5.41 20L4 18.59l7.72-7.72 1.47 1.35L5.41 20z\"/>\n",
              "  </svg>\n",
              "      </button>\n",
              "      \n",
              "  <style>\n",
              "    .colab-df-container {\n",
              "      display:flex;\n",
              "      flex-wrap:wrap;\n",
              "      gap: 12px;\n",
              "    }\n",
              "\n",
              "    .colab-df-convert {\n",
              "      background-color: #E8F0FE;\n",
              "      border: none;\n",
              "      border-radius: 50%;\n",
              "      cursor: pointer;\n",
              "      display: none;\n",
              "      fill: #1967D2;\n",
              "      height: 32px;\n",
              "      padding: 0 0 0 0;\n",
              "      width: 32px;\n",
              "    }\n",
              "\n",
              "    .colab-df-convert:hover {\n",
              "      background-color: #E2EBFA;\n",
              "      box-shadow: 0px 1px 2px rgba(60, 64, 67, 0.3), 0px 1px 3px 1px rgba(60, 64, 67, 0.15);\n",
              "      fill: #174EA6;\n",
              "    }\n",
              "\n",
              "    [theme=dark] .colab-df-convert {\n",
              "      background-color: #3B4455;\n",
              "      fill: #D2E3FC;\n",
              "    }\n",
              "\n",
              "    [theme=dark] .colab-df-convert:hover {\n",
              "      background-color: #434B5C;\n",
              "      box-shadow: 0px 1px 3px 1px rgba(0, 0, 0, 0.15);\n",
              "      filter: drop-shadow(0px 1px 2px rgba(0, 0, 0, 0.3));\n",
              "      fill: #FFFFFF;\n",
              "    }\n",
              "  </style>\n",
              "\n",
              "      <script>\n",
              "        const buttonEl =\n",
              "          document.querySelector('#df-6768d2c4-7e29-4389-b915-63758988d2bb button.colab-df-convert');\n",
              "        buttonEl.style.display =\n",
              "          google.colab.kernel.accessAllowed ? 'block' : 'none';\n",
              "\n",
              "        async function convertToInteractive(key) {\n",
              "          const element = document.querySelector('#df-6768d2c4-7e29-4389-b915-63758988d2bb');\n",
              "          const dataTable =\n",
              "            await google.colab.kernel.invokeFunction('convertToInteractive',\n",
              "                                                     [key], {});\n",
              "          if (!dataTable) return;\n",
              "\n",
              "          const docLinkHtml = 'Like what you see? Visit the ' +\n",
              "            '<a target=\"_blank\" href=https://colab.research.google.com/notebooks/data_table.ipynb>data table notebook</a>'\n",
              "            + ' to learn more about interactive tables.';\n",
              "          element.innerHTML = '';\n",
              "          dataTable['output_type'] = 'display_data';\n",
              "          await google.colab.output.renderOutput(dataTable, element);\n",
              "          const docLink = document.createElement('div');\n",
              "          docLink.innerHTML = docLinkHtml;\n",
              "          element.appendChild(docLink);\n",
              "        }\n",
              "      </script>\n",
              "    </div>\n",
              "  </div>\n",
              "  "
            ]
          },
          "metadata": {},
          "execution_count": 20
        }
      ],
      "source": [
        "#Adults\n",
        "adu.sample(5)"
      ]
    },
    {
      "cell_type": "code",
      "execution_count": 21,
      "metadata": {
        "colab": {
          "base_uri": "https://localhost:8080/"
        },
        "id": "cosybTKdI3Ur",
        "outputId": "d63d437d-08a5-4e67-e652-f429985c94df"
      },
      "outputs": [
        {
          "output_type": "stream",
          "name": "stdout",
          "text": [
            "Adults      : (704, 22)\n"
          ]
        }
      ],
      "source": [
        "# Number of tuples and fields\n",
        "print(\"Adults      :\",adu.shape)"
      ]
    },
    {
      "cell_type": "code",
      "execution_count": 22,
      "metadata": {
        "colab": {
          "base_uri": "https://localhost:8080/"
        },
        "id": "MXGaYqaxiNA8",
        "outputId": "10f5682b-c904-4abe-b47d-567b5c25d184"
      },
      "outputs": [
        {
          "output_type": "stream",
          "name": "stdout",
          "text": [
            "<class 'pandas.core.frame.DataFrame'>\n",
            "RangeIndex: 704 entries, 0 to 703\n",
            "Data columns (total 22 columns):\n",
            " #   Column           Non-Null Count  Dtype  \n",
            "---  ------           --------------  -----  \n",
            " 0   id               704 non-null    int64  \n",
            " 1   A1_Score         704 non-null    int64  \n",
            " 2   A2_Score         704 non-null    int64  \n",
            " 3   A3_Score         704 non-null    int64  \n",
            " 4   A4_Score         704 non-null    int64  \n",
            " 5   A5_Score         704 non-null    int64  \n",
            " 6   A6_Score         704 non-null    int64  \n",
            " 7   A7_Score         704 non-null    int64  \n",
            " 8   A8_Score         704 non-null    int64  \n",
            " 9   A9_Score         704 non-null    int64  \n",
            " 10  A10_Score        704 non-null    int64  \n",
            " 11  age              702 non-null    float64\n",
            " 12  gender           704 non-null    object \n",
            " 13  ethnicity        609 non-null    object \n",
            " 14  jundice          704 non-null    object \n",
            " 15  austim           704 non-null    object \n",
            " 16  contry_of_res    704 non-null    object \n",
            " 17  used_app_before  704 non-null    object \n",
            " 18  result           704 non-null    int64  \n",
            " 19  age_desc         704 non-null    object \n",
            " 20  relation         609 non-null    object \n",
            " 21  Class/ASD        704 non-null    object \n",
            "dtypes: float64(1), int64(12), object(9)\n",
            "memory usage: 121.1+ KB\n"
          ]
        }
      ],
      "source": [
        "#Adults\n",
        "adu.info()"
      ]
    },
    {
      "cell_type": "code",
      "execution_count": 23,
      "metadata": {
        "colab": {
          "base_uri": "https://localhost:8080/",
          "height": 297
        },
        "id": "uydTWHqYxuuL",
        "outputId": "16008bef-b069-408d-b75f-0d7a8c357100"
      },
      "outputs": [
        {
          "output_type": "execute_result",
          "data": {
            "text/plain": [
              "               id    A1_Score    A2_Score    A3_Score    A4_Score    A5_Score  \\\n",
              "count  704.000000  704.000000  704.000000  704.000000  704.000000  704.000000   \n",
              "mean   352.500000    0.721591    0.453125    0.457386    0.495739    0.498580   \n",
              "std    203.371581    0.448535    0.498152    0.498535    0.500337    0.500353   \n",
              "min      1.000000    0.000000    0.000000    0.000000    0.000000    0.000000   \n",
              "25%    176.750000    0.000000    0.000000    0.000000    0.000000    0.000000   \n",
              "50%    352.500000    1.000000    0.000000    0.000000    0.000000    0.000000   \n",
              "75%    528.250000    1.000000    1.000000    1.000000    1.000000    1.000000   \n",
              "max    704.000000    1.000000    1.000000    1.000000    1.000000    1.000000   \n",
              "\n",
              "         A6_Score    A7_Score    A8_Score    A9_Score   A10_Score         age  \\\n",
              "count  704.000000  704.000000  704.000000  704.000000  704.000000  702.000000   \n",
              "mean     0.284091    0.417614    0.649148    0.323864    0.573864   29.698006   \n",
              "std      0.451301    0.493516    0.477576    0.468281    0.494866   16.507465   \n",
              "min      0.000000    0.000000    0.000000    0.000000    0.000000   17.000000   \n",
              "25%      0.000000    0.000000    0.000000    0.000000    0.000000   21.000000   \n",
              "50%      0.000000    0.000000    1.000000    0.000000    1.000000   27.000000   \n",
              "75%      1.000000    1.000000    1.000000    1.000000    1.000000   35.000000   \n",
              "max      1.000000    1.000000    1.000000    1.000000    1.000000  383.000000   \n",
              "\n",
              "           result  \n",
              "count  704.000000  \n",
              "mean     4.875000  \n",
              "std      2.501493  \n",
              "min      0.000000  \n",
              "25%      3.000000  \n",
              "50%      4.000000  \n",
              "75%      7.000000  \n",
              "max     10.000000  "
            ],
            "text/html": [
              "\n",
              "  <div id=\"df-6749a625-9713-4129-b9a1-0c44bc5d9bc4\">\n",
              "    <div class=\"colab-df-container\">\n",
              "      <div>\n",
              "<style scoped>\n",
              "    .dataframe tbody tr th:only-of-type {\n",
              "        vertical-align: middle;\n",
              "    }\n",
              "\n",
              "    .dataframe tbody tr th {\n",
              "        vertical-align: top;\n",
              "    }\n",
              "\n",
              "    .dataframe thead th {\n",
              "        text-align: right;\n",
              "    }\n",
              "</style>\n",
              "<table border=\"1\" class=\"dataframe\">\n",
              "  <thead>\n",
              "    <tr style=\"text-align: right;\">\n",
              "      <th></th>\n",
              "      <th>id</th>\n",
              "      <th>A1_Score</th>\n",
              "      <th>A2_Score</th>\n",
              "      <th>A3_Score</th>\n",
              "      <th>A4_Score</th>\n",
              "      <th>A5_Score</th>\n",
              "      <th>A6_Score</th>\n",
              "      <th>A7_Score</th>\n",
              "      <th>A8_Score</th>\n",
              "      <th>A9_Score</th>\n",
              "      <th>A10_Score</th>\n",
              "      <th>age</th>\n",
              "      <th>result</th>\n",
              "    </tr>\n",
              "  </thead>\n",
              "  <tbody>\n",
              "    <tr>\n",
              "      <th>count</th>\n",
              "      <td>704.000000</td>\n",
              "      <td>704.000000</td>\n",
              "      <td>704.000000</td>\n",
              "      <td>704.000000</td>\n",
              "      <td>704.000000</td>\n",
              "      <td>704.000000</td>\n",
              "      <td>704.000000</td>\n",
              "      <td>704.000000</td>\n",
              "      <td>704.000000</td>\n",
              "      <td>704.000000</td>\n",
              "      <td>704.000000</td>\n",
              "      <td>702.000000</td>\n",
              "      <td>704.000000</td>\n",
              "    </tr>\n",
              "    <tr>\n",
              "      <th>mean</th>\n",
              "      <td>352.500000</td>\n",
              "      <td>0.721591</td>\n",
              "      <td>0.453125</td>\n",
              "      <td>0.457386</td>\n",
              "      <td>0.495739</td>\n",
              "      <td>0.498580</td>\n",
              "      <td>0.284091</td>\n",
              "      <td>0.417614</td>\n",
              "      <td>0.649148</td>\n",
              "      <td>0.323864</td>\n",
              "      <td>0.573864</td>\n",
              "      <td>29.698006</td>\n",
              "      <td>4.875000</td>\n",
              "    </tr>\n",
              "    <tr>\n",
              "      <th>std</th>\n",
              "      <td>203.371581</td>\n",
              "      <td>0.448535</td>\n",
              "      <td>0.498152</td>\n",
              "      <td>0.498535</td>\n",
              "      <td>0.500337</td>\n",
              "      <td>0.500353</td>\n",
              "      <td>0.451301</td>\n",
              "      <td>0.493516</td>\n",
              "      <td>0.477576</td>\n",
              "      <td>0.468281</td>\n",
              "      <td>0.494866</td>\n",
              "      <td>16.507465</td>\n",
              "      <td>2.501493</td>\n",
              "    </tr>\n",
              "    <tr>\n",
              "      <th>min</th>\n",
              "      <td>1.000000</td>\n",
              "      <td>0.000000</td>\n",
              "      <td>0.000000</td>\n",
              "      <td>0.000000</td>\n",
              "      <td>0.000000</td>\n",
              "      <td>0.000000</td>\n",
              "      <td>0.000000</td>\n",
              "      <td>0.000000</td>\n",
              "      <td>0.000000</td>\n",
              "      <td>0.000000</td>\n",
              "      <td>0.000000</td>\n",
              "      <td>17.000000</td>\n",
              "      <td>0.000000</td>\n",
              "    </tr>\n",
              "    <tr>\n",
              "      <th>25%</th>\n",
              "      <td>176.750000</td>\n",
              "      <td>0.000000</td>\n",
              "      <td>0.000000</td>\n",
              "      <td>0.000000</td>\n",
              "      <td>0.000000</td>\n",
              "      <td>0.000000</td>\n",
              "      <td>0.000000</td>\n",
              "      <td>0.000000</td>\n",
              "      <td>0.000000</td>\n",
              "      <td>0.000000</td>\n",
              "      <td>0.000000</td>\n",
              "      <td>21.000000</td>\n",
              "      <td>3.000000</td>\n",
              "    </tr>\n",
              "    <tr>\n",
              "      <th>50%</th>\n",
              "      <td>352.500000</td>\n",
              "      <td>1.000000</td>\n",
              "      <td>0.000000</td>\n",
              "      <td>0.000000</td>\n",
              "      <td>0.000000</td>\n",
              "      <td>0.000000</td>\n",
              "      <td>0.000000</td>\n",
              "      <td>0.000000</td>\n",
              "      <td>1.000000</td>\n",
              "      <td>0.000000</td>\n",
              "      <td>1.000000</td>\n",
              "      <td>27.000000</td>\n",
              "      <td>4.000000</td>\n",
              "    </tr>\n",
              "    <tr>\n",
              "      <th>75%</th>\n",
              "      <td>528.250000</td>\n",
              "      <td>1.000000</td>\n",
              "      <td>1.000000</td>\n",
              "      <td>1.000000</td>\n",
              "      <td>1.000000</td>\n",
              "      <td>1.000000</td>\n",
              "      <td>1.000000</td>\n",
              "      <td>1.000000</td>\n",
              "      <td>1.000000</td>\n",
              "      <td>1.000000</td>\n",
              "      <td>1.000000</td>\n",
              "      <td>35.000000</td>\n",
              "      <td>7.000000</td>\n",
              "    </tr>\n",
              "    <tr>\n",
              "      <th>max</th>\n",
              "      <td>704.000000</td>\n",
              "      <td>1.000000</td>\n",
              "      <td>1.000000</td>\n",
              "      <td>1.000000</td>\n",
              "      <td>1.000000</td>\n",
              "      <td>1.000000</td>\n",
              "      <td>1.000000</td>\n",
              "      <td>1.000000</td>\n",
              "      <td>1.000000</td>\n",
              "      <td>1.000000</td>\n",
              "      <td>1.000000</td>\n",
              "      <td>383.000000</td>\n",
              "      <td>10.000000</td>\n",
              "    </tr>\n",
              "  </tbody>\n",
              "</table>\n",
              "</div>\n",
              "      <button class=\"colab-df-convert\" onclick=\"convertToInteractive('df-6749a625-9713-4129-b9a1-0c44bc5d9bc4')\"\n",
              "              title=\"Convert this dataframe to an interactive table.\"\n",
              "              style=\"display:none;\">\n",
              "        \n",
              "  <svg xmlns=\"http://www.w3.org/2000/svg\" height=\"24px\"viewBox=\"0 0 24 24\"\n",
              "       width=\"24px\">\n",
              "    <path d=\"M0 0h24v24H0V0z\" fill=\"none\"/>\n",
              "    <path d=\"M18.56 5.44l.94 2.06.94-2.06 2.06-.94-2.06-.94-.94-2.06-.94 2.06-2.06.94zm-11 1L8.5 8.5l.94-2.06 2.06-.94-2.06-.94L8.5 2.5l-.94 2.06-2.06.94zm10 10l.94 2.06.94-2.06 2.06-.94-2.06-.94-.94-2.06-.94 2.06-2.06.94z\"/><path d=\"M17.41 7.96l-1.37-1.37c-.4-.4-.92-.59-1.43-.59-.52 0-1.04.2-1.43.59L10.3 9.45l-7.72 7.72c-.78.78-.78 2.05 0 2.83L4 21.41c.39.39.9.59 1.41.59.51 0 1.02-.2 1.41-.59l7.78-7.78 2.81-2.81c.8-.78.8-2.07 0-2.86zM5.41 20L4 18.59l7.72-7.72 1.47 1.35L5.41 20z\"/>\n",
              "  </svg>\n",
              "      </button>\n",
              "      \n",
              "  <style>\n",
              "    .colab-df-container {\n",
              "      display:flex;\n",
              "      flex-wrap:wrap;\n",
              "      gap: 12px;\n",
              "    }\n",
              "\n",
              "    .colab-df-convert {\n",
              "      background-color: #E8F0FE;\n",
              "      border: none;\n",
              "      border-radius: 50%;\n",
              "      cursor: pointer;\n",
              "      display: none;\n",
              "      fill: #1967D2;\n",
              "      height: 32px;\n",
              "      padding: 0 0 0 0;\n",
              "      width: 32px;\n",
              "    }\n",
              "\n",
              "    .colab-df-convert:hover {\n",
              "      background-color: #E2EBFA;\n",
              "      box-shadow: 0px 1px 2px rgba(60, 64, 67, 0.3), 0px 1px 3px 1px rgba(60, 64, 67, 0.15);\n",
              "      fill: #174EA6;\n",
              "    }\n",
              "\n",
              "    [theme=dark] .colab-df-convert {\n",
              "      background-color: #3B4455;\n",
              "      fill: #D2E3FC;\n",
              "    }\n",
              "\n",
              "    [theme=dark] .colab-df-convert:hover {\n",
              "      background-color: #434B5C;\n",
              "      box-shadow: 0px 1px 3px 1px rgba(0, 0, 0, 0.15);\n",
              "      filter: drop-shadow(0px 1px 2px rgba(0, 0, 0, 0.3));\n",
              "      fill: #FFFFFF;\n",
              "    }\n",
              "  </style>\n",
              "\n",
              "      <script>\n",
              "        const buttonEl =\n",
              "          document.querySelector('#df-6749a625-9713-4129-b9a1-0c44bc5d9bc4 button.colab-df-convert');\n",
              "        buttonEl.style.display =\n",
              "          google.colab.kernel.accessAllowed ? 'block' : 'none';\n",
              "\n",
              "        async function convertToInteractive(key) {\n",
              "          const element = document.querySelector('#df-6749a625-9713-4129-b9a1-0c44bc5d9bc4');\n",
              "          const dataTable =\n",
              "            await google.colab.kernel.invokeFunction('convertToInteractive',\n",
              "                                                     [key], {});\n",
              "          if (!dataTable) return;\n",
              "\n",
              "          const docLinkHtml = 'Like what you see? Visit the ' +\n",
              "            '<a target=\"_blank\" href=https://colab.research.google.com/notebooks/data_table.ipynb>data table notebook</a>'\n",
              "            + ' to learn more about interactive tables.';\n",
              "          element.innerHTML = '';\n",
              "          dataTable['output_type'] = 'display_data';\n",
              "          await google.colab.output.renderOutput(dataTable, element);\n",
              "          const docLink = document.createElement('div');\n",
              "          docLink.innerHTML = docLinkHtml;\n",
              "          element.appendChild(docLink);\n",
              "        }\n",
              "      </script>\n",
              "    </div>\n",
              "  </div>\n",
              "  "
            ]
          },
          "metadata": {},
          "execution_count": 23
        }
      ],
      "source": [
        "#Adults\n",
        "adu.describe()"
      ]
    },
    {
      "cell_type": "code",
      "execution_count": 24,
      "metadata": {
        "colab": {
          "base_uri": "https://localhost:8080/"
        },
        "id": "1w-dVtFfyZiJ",
        "outputId": "62cf2cd1-b009-4a6c-c251-8005a4b10b9a"
      },
      "outputs": [
        {
          "output_type": "stream",
          "name": "stdout",
          "text": [
            "Total no. of missing values in Adults's dataset     :  192\n"
          ]
        }
      ],
      "source": [
        "#Total number of missing values in each dataset\n",
        "print(\"Total no. of missing values in Adults's dataset     : \",adu.isnull().sum().sum())"
      ]
    },
    {
      "cell_type": "code",
      "execution_count": 25,
      "metadata": {
        "colab": {
          "base_uri": "https://localhost:8080/"
        },
        "id": "ko79c2d0jI_9",
        "outputId": "7d8dd3a8-6d8e-428d-f748-53cdbe484dde"
      },
      "outputs": [
        {
          "output_type": "execute_result",
          "data": {
            "text/plain": [
              "id                  0\n",
              "A1_Score            0\n",
              "A2_Score            0\n",
              "A3_Score            0\n",
              "A4_Score            0\n",
              "A5_Score            0\n",
              "A6_Score            0\n",
              "A7_Score            0\n",
              "A8_Score            0\n",
              "A9_Score            0\n",
              "A10_Score           0\n",
              "age                 2\n",
              "gender              0\n",
              "ethnicity          95\n",
              "jundice             0\n",
              "austim              0\n",
              "contry_of_res       0\n",
              "used_app_before     0\n",
              "result              0\n",
              "age_desc            0\n",
              "relation           95\n",
              "Class/ASD           0\n",
              "dtype: int64"
            ]
          },
          "metadata": {},
          "execution_count": 25
        }
      ],
      "source": [
        "#Adults\n",
        "adu.isnull().sum()"
      ]
    },
    {
      "cell_type": "code",
      "execution_count": 26,
      "metadata": {
        "colab": {
          "base_uri": "https://localhost:8080/",
          "height": 369
        },
        "id": "oppclSaWI3m8",
        "outputId": "90c31c9b-ed79-478c-9a1d-a913abdcaa6b"
      },
      "outputs": [
        {
          "output_type": "display_data",
          "data": {
            "text/plain": [
              "<Figure size 396x360 with 1 Axes>"
            ],
            "image/png": "[encoded data removed]"
          },
          "metadata": {
            "needs_background": "light"
          }
        }
      ],
      "source": [
        "fig, ax = plt.subplots(figsize=(5.5,5))\n",
        "\n",
        "sns.heatmap(adu.isnull(),yticklabels=False,cbar=False,cmap='rocket',ax=ax)\n",
        "ax.set_title(\"Adults's dataset\",fontsize = 15)\n",
        "fig.tight_layout()\n",
        "plt.savefig('heatmap_adu.pdf', transparent=True, dpi=300)"
      ]
    },
    {
      "cell_type": "code",
      "execution_count": 27,
      "metadata": {
        "colab": {
          "base_uri": "https://localhost:8080/"
        },
        "id": "CkwWk_C2b3rd",
        "outputId": "54e19448-ea55-4966-eb40-d6b203be041a"
      },
      "outputs": [
        {
          "output_type": "stream",
          "name": "stdout",
          "text": [
            "\n",
            "No of adults diagonised with ASD =  189\n",
            "No of adults not diagonised with ASD =  515\n"
          ]
        }
      ],
      "source": [
        "#ASD or Not\n",
        "print(\"\\nNo of adults diagonised with ASD = \",len(adu[adu['Class/ASD'] == 'YES']))\n",
        "print(\"No of adults not diagonised with ASD = \",len(adu[adu['Class/ASD'] == 'NO']))"
      ]
    },
    {
      "cell_type": "code",
      "execution_count": 28,
      "metadata": {
        "id": "WBfvldgJGn4p"
      },
      "outputs": [],
      "source": [
        "# #Data distribution\n",
        "# fig, ax = plt.subplots(figsize=(5, 5))\n",
        "# sns.countplot(adu['Class/ASD'],ax=ax)\n",
        "# ax.set_title(\"Adults's dataset\",fontsize = 15)\n",
        "# fig.tight_layout()\n",
        "# plt.savefig('distribution_adu.pdf', transparent=True, dpi=300)"
      ]
    },
    {
      "cell_type": "code",
      "execution_count": 29,
      "metadata": {
        "colab": {
          "base_uri": "https://localhost:8080/",
          "height": 513
        },
        "id": "gGHFxQb9ePSv",
        "outputId": "41921f1b-a201-4643-c08b-69053fa036be"
      },
      "outputs": [
        {
          "output_type": "display_data",
          "data": {
            "text/plain": [
              "<Figure size 720x504 with 2 Axes>"
            ],
            "image/png": "[encoded data removed]"
          },
          "metadata": {
            "needs_background": "light"
          }
        }
      ],
      "source": [
        "#Correlation\n",
        "fig, ax = plt.subplots(figsize=(10,7))\n",
        "sns.heatmap(adu.corr(),annot=True,cmap='coolwarm',vmin=0, vmax=1,ax=ax)\n",
        "ax.set_title(\"Adults's dataset\",fontsize = 15)\n",
        "fig.tight_layout()\n",
        "plt.savefig('correlation_adu.pdf', transparent=True, dpi=300)"
      ]
    },
    {
      "cell_type": "code",
      "execution_count": 30,
      "metadata": {
        "colab": {
          "base_uri": "https://localhost:8080/"
        },
        "id": "emuIeb6o3ivZ",
        "outputId": "6d5086a6-b3ea-4843-9ff7-01fb640d55f5"
      },
      "outputs": [
        {
          "output_type": "stream",
          "name": "stdout",
          "text": [
            "No of missing values in Adults's dataset      =  192\n"
          ]
        }
      ],
      "source": [
        "#Number of missing values in each dataset\n",
        "print(\"No of missing values in Adults's dataset      = \",adu.isnull().sum().sum())"
      ]
    },
    {
      "cell_type": "code",
      "execution_count": 31,
      "metadata": {
        "id": "0MK70ZQ4oIcJ"
      },
      "outputs": [],
      "source": [
        "#Imputing missing values of categorical features with mode\n",
        "imputer_mode = SimpleImputer(missing_values=np.NaN, strategy='most_frequent')\n",
        "\n",
        "adu.ethnicity = imputer_mode.fit_transform(adu.ethnicity.values.reshape(-1,1))[:,0]\n",
        "adu.relation = imputer_mode.fit_transform(adu.relation.values.reshape(-1,1))[:,0]\n",
        "\n",
        "#Imputing missing values of numerical features with mean\n",
        "imputer_mode = SimpleImputer(missing_values=np.NaN, strategy='mean')\n",
        "adu.age = imputer_mode.fit_transform(adu.age.values.reshape(-1,1))[:,0]"
      ]
    },
    {
      "cell_type": "code",
      "execution_count": 32,
      "metadata": {
        "colab": {
          "base_uri": "https://localhost:8080/"
        },
        "id": "2J2wHBBvs2Je",
        "outputId": "965e2e2f-f3a1-4ac7-9480-86d6e759e7f9"
      },
      "outputs": [
        {
          "output_type": "stream",
          "name": "stdout",
          "text": [
            "After imputing,\n",
            "No of missing values in Adults's dataset      =  0\n"
          ]
        }
      ],
      "source": [
        "print(\"After imputing,\\nNo of missing values in Adults's dataset      = \",adu.isnull().sum().sum())"
      ]
    },
    {
      "cell_type": "code",
      "execution_count": 33,
      "metadata": {
        "id": "uoJbz1sQxwSP"
      },
      "outputs": [],
      "source": [
        "#Since age of toddlers are represented in months, age(in years) of adults is converted to age in months.\n",
        "adu.rename(columns = {'age':'Age_Mons'}, inplace = True)\n",
        "\n",
        "adu['Age_Mons'] = adu['Age_Mons']*12"
      ]
    },
    {
      "cell_type": "code",
      "execution_count": 34,
      "metadata": {
        "id": "4ulLZ6dRSmGV"
      },
      "outputs": [],
      "source": [
        "#Making classes of categorical variables same for all datasets\n",
        "adu['ethnicity'] = adu['ethnicity'].replace('Others','others')"
      ]
    },
    {
      "cell_type": "markdown",
      "metadata": {
        "id": "S3DzwzUrn3Qi"
      },
      "source": [
        "### **Model fitting**"
      ]
    },
    {
      "cell_type": "markdown",
      "metadata": {
        "id": "PRLEatQdt1EC"
      },
      "source": [
        "*Spliting dependent and independent features*\n"
      ]
    },
    {
      "cell_type": "code",
      "source": [
        "shuffled_data = adu.sample(frac=1,random_state=4)\n",
        "ASD_data = shuffled_data.loc[shuffled_data['Class/ASD'] == 'YES']\n",
        "non_ASD_data = shuffled_data.loc[shuffled_data['Class/ASD'] == 'NO'].sample(n=189)\n",
        "adu= pd.concat([ASD_data, non_ASD_data])"
      ],
      "metadata": {
        "id": "ty5oEvMBAyZh"
      },
      "execution_count": 35,
      "outputs": []
    },
    {
      "cell_type": "code",
      "execution_count": 36,
      "metadata": {
        "id": "vUVAqS8GgpyJ"
      },
      "outputs": [],
      "source": [
        "# Split the data into features and target label\n",
        "raw_target= adu['Class/ASD']\n",
        "raw_features = adu[['A1_Score','A2_Score','A3_Score','A4_Score','A5_Score','A6_Score','A7_Score','A8_Score','A9_Score','A10_Score','Age_Mons', 'gender', 'ethnicity', 'jundice', 'austim', 'contry_of_res', 'result','relation']]"
      ]
    },
    {
      "cell_type": "markdown",
      "metadata": {
        "id": "pLVEOpt2uT32"
      },
      "source": [
        "*Feature Scaling*"
      ]
    },
    {
      "cell_type": "code",
      "execution_count": 37,
      "metadata": {
        "id": "JAL4Z9Wsgp0O"
      },
      "outputs": [],
      "source": [
        "from sklearn.preprocessing import MinMaxScaler\n",
        "scaler = MinMaxScaler()\n",
        "num_features = ['Age_Mons', 'result']\n",
        "\n",
        "features_minmax_transform = pd.DataFrame(data = raw_features)\n",
        "features_minmax_transform[num_features] = scaler.fit_transform(raw_features[num_features])"
      ]
    },
    {
      "cell_type": "code",
      "execution_count": 38,
      "metadata": {
        "colab": {
          "base_uri": "https://localhost:8080/",
          "height": 285
        },
        "id": "FLnD_7lDiSaB",
        "outputId": "625c7d71-4356-4652-cfd5-0de4980b16af"
      },
      "outputs": [
        {
          "output_type": "execute_result",
          "data": {
            "text/plain": [
              "     A1_Score  A2_Score  A3_Score  A4_Score  A5_Score  A6_Score  A7_Score  \\\n",
              "146         1         0         1         1         1         1         1   \n",
              "169         1         1         1         1         1         0         0   \n",
              "641         1         0         1         1         1         0         1   \n",
              "681         1         1         0         1         1         1         1   \n",
              "696         1         1         1         1         1         1         0   \n",
              "\n",
              "     A8_Score  A9_Score  A10_Score  Age_Mons gender       ethnicity jundice  \\\n",
              "146         1         1          1  0.008197      m  White-European      no   \n",
              "169         1         1          1  0.051913      f          Latino      no   \n",
              "641         1         1          0  0.032787      m          Latino      no   \n",
              "681         1         1          1  0.087432      f        Hispanic      no   \n",
              "696         1         1          1  0.038251      m         Turkish      no   \n",
              "\n",
              "    austim  contry_of_res  result relation  \n",
              "146     no      Australia     0.9     Self  \n",
              "169    yes         Brazil     0.8     Self  \n",
              "641     no  United States     0.7     Self  \n",
              "681     no  United States     0.9     Self  \n",
              "696    yes      Australia     0.9     Self  "
            ],
            "text/html": [
              "\n",
              "  <div id=\"df-8cdcc47e-eecc-44cc-8b17-026f452f20bc\">\n",
              "    <div class=\"colab-df-container\">\n",
              "      <div>\n",
              "<style scoped>\n",
              "    .dataframe tbody tr th:only-of-type {\n",
              "        vertical-align: middle;\n",
              "    }\n",
              "\n",
              "    .dataframe tbody tr th {\n",
              "        vertical-align: top;\n",
              "    }\n",
              "\n",
              "    .dataframe thead th {\n",
              "        text-align: right;\n",
              "    }\n",
              "</style>\n",
              "<table border=\"1\" class=\"dataframe\">\n",
              "  <thead>\n",
              "    <tr style=\"text-align: right;\">\n",
              "      <th></th>\n",
              "      <th>A1_Score</th>\n",
              "      <th>A2_Score</th>\n",
              "      <th>A3_Score</th>\n",
              "      <th>A4_Score</th>\n",
              "      <th>A5_Score</th>\n",
              "      <th>A6_Score</th>\n",
              "      <th>A7_Score</th>\n",
              "      <th>A8_Score</th>\n",
              "      <th>A9_Score</th>\n",
              "      <th>A10_Score</th>\n",
              "      <th>Age_Mons</th>\n",
              "      <th>gender</th>\n",
              "      <th>ethnicity</th>\n",
              "      <th>jundice</th>\n",
              "      <th>austim</th>\n",
              "      <th>contry_of_res</th>\n",
              "      <th>result</th>\n",
              "      <th>relation</th>\n",
              "    </tr>\n",
              "  </thead>\n",
              "  <tbody>\n",
              "    <tr>\n",
              "      <th>146</th>\n",
              "      <td>1</td>\n",
              "      <td>0</td>\n",
              "      <td>1</td>\n",
              "      <td>1</td>\n",
              "      <td>1</td>\n",
              "      <td>1</td>\n",
              "      <td>1</td>\n",
              "      <td>1</td>\n",
              "      <td>1</td>\n",
              "      <td>1</td>\n",
              "      <td>0.008197</td>\n",
              "      <td>m</td>\n",
              "      <td>White-European</td>\n",
              "      <td>no</td>\n",
              "      <td>no</td>\n",
              "      <td>Australia</td>\n",
              "      <td>0.9</td>\n",
              "      <td>Self</td>\n",
              "    </tr>\n",
              "    <tr>\n",
              "      <th>169</th>\n",
              "      <td>1</td>\n",
              "      <td>1</td>\n",
              "      <td>1</td>\n",
              "      <td>1</td>\n",
              "      <td>1</td>\n",
              "      <td>0</td>\n",
              "      <td>0</td>\n",
              "      <td>1</td>\n",
              "      <td>1</td>\n",
              "      <td>1</td>\n",
              "      <td>0.051913</td>\n",
              "      <td>f</td>\n",
              "      <td>Latino</td>\n",
              "      <td>no</td>\n",
              "      <td>yes</td>\n",
              "      <td>Brazil</td>\n",
              "      <td>0.8</td>\n",
              "      <td>Self</td>\n",
              "    </tr>\n",
              "    <tr>\n",
              "      <th>641</th>\n",
              "      <td>1</td>\n",
              "      <td>0</td>\n",
              "      <td>1</td>\n",
              "      <td>1</td>\n",
              "      <td>1</td>\n",
              "      <td>0</td>\n",
              "      <td>1</td>\n",
              "      <td>1</td>\n",
              "      <td>1</td>\n",
              "      <td>0</td>\n",
              "      <td>0.032787</td>\n",
              "      <td>m</td>\n",
              "      <td>Latino</td>\n",
              "      <td>no</td>\n",
              "      <td>no</td>\n",
              "      <td>United States</td>\n",
              "      <td>0.7</td>\n",
              "      <td>Self</td>\n",
              "    </tr>\n",
              "    <tr>\n",
              "      <th>681</th>\n",
              "      <td>1</td>\n",
              "      <td>1</td>\n",
              "      <td>0</td>\n",
              "      <td>1</td>\n",
              "      <td>1</td>\n",
              "      <td>1</td>\n",
              "      <td>1</td>\n",
              "      <td>1</td>\n",
              "      <td>1</td>\n",
              "      <td>1</td>\n",
              "      <td>0.087432</td>\n",
              "      <td>f</td>\n",
              "      <td>Hispanic</td>\n",
              "      <td>no</td>\n",
              "      <td>no</td>\n",
              "      <td>United States</td>\n",
              "      <td>0.9</td>\n",
              "      <td>Self</td>\n",
              "    </tr>\n",
              "    <tr>\n",
              "      <th>696</th>\n",
              "      <td>1</td>\n",
              "      <td>1</td>\n",
              "      <td>1</td>\n",
              "      <td>1</td>\n",
              "      <td>1</td>\n",
              "      <td>1</td>\n",
              "      <td>0</td>\n",
              "      <td>1</td>\n",
              "      <td>1</td>\n",
              "      <td>1</td>\n",
              "      <td>0.038251</td>\n",
              "      <td>m</td>\n",
              "      <td>Turkish</td>\n",
              "      <td>no</td>\n",
              "      <td>yes</td>\n",
              "      <td>Australia</td>\n",
              "      <td>0.9</td>\n",
              "      <td>Self</td>\n",
              "    </tr>\n",
              "  </tbody>\n",
              "</table>\n",
              "</div>\n",
              "      <button class=\"colab-df-convert\" onclick=\"convertToInteractive('df-8cdcc47e-eecc-44cc-8b17-026f452f20bc')\"\n",
              "              title=\"Convert this dataframe to an interactive table.\"\n",
              "              style=\"display:none;\">\n",
              "        \n",
              "  <svg xmlns=\"http://www.w3.org/2000/svg\" height=\"24px\"viewBox=\"0 0 24 24\"\n",
              "       width=\"24px\">\n",
              "    <path d=\"M0 0h24v24H0V0z\" fill=\"none\"/>\n",
              "    <path d=\"M18.56 5.44l.94 2.06.94-2.06 2.06-.94-2.06-.94-.94-2.06-.94 2.06-2.06.94zm-11 1L8.5 8.5l.94-2.06 2.06-.94-2.06-.94L8.5 2.5l-.94 2.06-2.06.94zm10 10l.94 2.06.94-2.06 2.06-.94-2.06-.94-.94-2.06-.94 2.06-2.06.94z\"/><path d=\"M17.41 7.96l-1.37-1.37c-.4-.4-.92-.59-1.43-.59-.52 0-1.04.2-1.43.59L10.3 9.45l-7.72 7.72c-.78.78-.78 2.05 0 2.83L4 21.41c.39.39.9.59 1.41.59.51 0 1.02-.2 1.41-.59l7.78-7.78 2.81-2.81c.8-.78.8-2.07 0-2.86zM5.41 20L4 18.59l7.72-7.72 1.47 1.35L5.41 20z\"/>\n",
              "  </svg>\n",
              "      </button>\n",
              "      \n",
              "  <style>\n",
              "    .colab-df-container {\n",
              "      display:flex;\n",
              "      flex-wrap:wrap;\n",
              "      gap: 12px;\n",
              "    }\n",
              "\n",
              "    .colab-df-convert {\n",
              "      background-color: #E8F0FE;\n",
              "      border: none;\n",
              "      border-radius: 50%;\n",
              "      cursor: pointer;\n",
              "      display: none;\n",
              "      fill: #1967D2;\n",
              "      height: 32px;\n",
              "      padding: 0 0 0 0;\n",
              "      width: 32px;\n",
              "    }\n",
              "\n",
              "    .colab-df-convert:hover {\n",
              "      background-color: #E2EBFA;\n",
              "      box-shadow: 0px 1px 2px rgba(60, 64, 67, 0.3), 0px 1px 3px 1px rgba(60, 64, 67, 0.15);\n",
              "      fill: #174EA6;\n",
              "    }\n",
              "\n",
              "    [theme=dark] .colab-df-convert {\n",
              "      background-color: #3B4455;\n",
              "      fill: #D2E3FC;\n",
              "    }\n",
              "\n",
              "    [theme=dark] .colab-df-convert:hover {\n",
              "      background-color: #434B5C;\n",
              "      box-shadow: 0px 1px 3px 1px rgba(0, 0, 0, 0.15);\n",
              "      filter: drop-shadow(0px 1px 2px rgba(0, 0, 0, 0.3));\n",
              "      fill: #FFFFFF;\n",
              "    }\n",
              "  </style>\n",
              "\n",
              "      <script>\n",
              "        const buttonEl =\n",
              "          document.querySelector('#df-8cdcc47e-eecc-44cc-8b17-026f452f20bc button.colab-df-convert');\n",
              "        buttonEl.style.display =\n",
              "          google.colab.kernel.accessAllowed ? 'block' : 'none';\n",
              "\n",
              "        async function convertToInteractive(key) {\n",
              "          const element = document.querySelector('#df-8cdcc47e-eecc-44cc-8b17-026f452f20bc');\n",
              "          const dataTable =\n",
              "            await google.colab.kernel.invokeFunction('convertToInteractive',\n",
              "                                                     [key], {});\n",
              "          if (!dataTable) return;\n",
              "\n",
              "          const docLinkHtml = 'Like what you see? Visit the ' +\n",
              "            '<a target=\"_blank\" href=https://colab.research.google.com/notebooks/data_table.ipynb>data table notebook</a>'\n",
              "            + ' to learn more about interactive tables.';\n",
              "          element.innerHTML = '';\n",
              "          dataTable['output_type'] = 'display_data';\n",
              "          await google.colab.output.renderOutput(dataTable, element);\n",
              "          const docLink = document.createElement('div');\n",
              "          docLink.innerHTML = docLinkHtml;\n",
              "          element.appendChild(docLink);\n",
              "        }\n",
              "      </script>\n",
              "    </div>\n",
              "  </div>\n",
              "  "
            ]
          },
          "metadata": {},
          "execution_count": 38
        }
      ],
      "source": [
        "features_minmax_transform.head()"
      ]
    },
    {
      "cell_type": "markdown",
      "metadata": {
        "id": "WbB3cr5tuWFk"
      },
      "source": [
        "##Encoding Categorical variables"
      ]
    },
    {
      "cell_type": "code",
      "execution_count": 39,
      "metadata": {
        "id": "-3bzzF0_iU90"
      },
      "outputs": [],
      "source": [
        "features = pd.get_dummies(features_minmax_transform)"
      ]
    },
    {
      "cell_type": "code",
      "execution_count": 40,
      "metadata": {
        "id": "4iG6Q-QfiY2H"
      },
      "outputs": [],
      "source": [
        "from sklearn.preprocessing import LabelEncoder\n",
        "le = LabelEncoder()\n",
        "target = le.fit_transform(raw_target)"
      ]
    },
    {
      "cell_type": "markdown",
      "metadata": {
        "id": "QjHtc0BbuYMw"
      },
      "source": [
        "*Function for Evaluation*"
      ]
    },
    {
      "cell_type": "code",
      "execution_count": 41,
      "metadata": {
        "id": "0LgMP3gAiaBA"
      },
      "outputs": [],
      "source": [
        "def model_report(y_act, y_pred):\n",
        "    from sklearn import metrics\n",
        "    from sklearn.metrics import accuracy_score, f1_score, precision_score, recall_score, cohen_kappa_score, roc_curve, auc, log_loss\n",
        "    print(\"Accuracy = \", accuracy_score(y_act, y_pred))\n",
        "    print(\"Precision = \" ,precision_score(y_act, y_pred))\n",
        "    print(\"Recall\\Sensitivity = \" ,recall_score(y_act, y_pred))\n",
        "    confusion = metrics.confusion_matrix(y_act, y_pred)\n",
        "    #[row, column]\n",
        "    TP = confusion[1, 1]\n",
        "    TN = confusion[0, 0]\n",
        "    FP = confusion[0, 1]\n",
        "    FN = confusion[1, 0]\n",
        "    specificity = TN / (TN + FP)\n",
        "    print(\"Specificity = \" ,specificity)\n",
        "    print(\"F1 Score = \" ,f1_score(y_act, y_pred))\n",
        "    false_positive_rate, true_positive_rate, thresholds = roc_curve(y_act, y_pred)\n",
        "    print(\"AUC Score =\", auc(false_positive_rate, true_positive_rate))\n",
        "    print(\"Kappa score = \",cohen_kappa_score(y_act,y_pred))\n",
        "    print(\"Log Loss = \" ,log_loss(y_act, y_pred),\"\\n\")\n",
        "    pass\n"
      ]
    },
    {
      "cell_type": "code",
      "source": [
        "import numpy as np\n",
        "from sklearn.model_selection import learning_curve\n",
        "from sklearn.model_selection import ShuffleSplit\n",
        "\n",
        "def plot_learning_curve(estimator, title, X, y, ylim=None, cv=None, n_jobs=1, train_sizes=np.linspace(.1, 1.0, 5)):\n",
        "    plt.figure()\n",
        "    plt.title(title)\n",
        "    if ylim is not None:\n",
        "        plt.ylim(*ylim)\n",
        "    plt.xlabel(\"Training examples\")\n",
        "    plt.ylabel(\"AUC\")\n",
        "    train_sizes, train_scores, test_scores = learning_curve(\n",
        "        estimator, X, y, cv=cv, n_jobs=n_jobs, train_sizes=train_sizes, scoring = 'roc_auc')\n",
        "    train_scores_mean = np.mean(train_scores, axis=1)\n",
        "    train_scores_std = np.std(train_scores, axis=1)\n",
        "    test_scores_mean = np.mean(test_scores, axis=1)\n",
        "    test_scores_std = np.std(test_scores, axis=1)\n",
        "\n",
        "    plt.fill_between(train_sizes, train_scores_mean - train_scores_std,\n",
        "                     train_scores_mean + train_scores_std, alpha=0.1,\n",
        "                     color=\"r\")\n",
        "    plt.fill_between(train_sizes, test_scores_mean - test_scores_std,\n",
        "                     test_scores_mean + test_scores_std, alpha=0.1, color=\"b\")\n",
        "    plt.plot(train_sizes, train_scores_mean, 'o-', color=\"r\",\n",
        "             label=\"Training score\")\n",
        "    plt.plot(train_sizes, test_scores_mean, 'o-', color=\"b\",\n",
        "             label=\"Cross-validation score\")\n",
        "\n",
        "    plt.legend(loc=\"lower right\")\n",
        "    return plt"
      ],
      "metadata": {
        "id": "MBdG3uG_khlU"
      },
      "execution_count": 42,
      "outputs": []
    },
    {
      "cell_type": "markdown",
      "metadata": {
        "id": "rCEAS01AubVo"
      },
      "source": [
        "\n",
        "##Spliting Data\n"
      ]
    },
    {
      "cell_type": "code",
      "execution_count": null,
      "metadata": {
        "id": "7r1VSSq2iaDM"
      },
      "outputs": [],
      "source": [
        "X = features\n",
        "y = target\n",
        "\n",
        "print('X.shape:', X.shape)\n",
        "print('y.shape:', y.shape)\n",
        "print('X:', X)"
      ]
    },
    {
      "cell_type": "markdown",
      "source": [
        "## Feature Selection"
      ],
      "metadata": {
        "id": "hvDwWEOj_jt2"
      }
    },
    {
      "cell_type": "code",
      "source": [
        "from sklearn.feature_selection import SelectKBest \n",
        "from sklearn.feature_selection import chi2  \n",
        "chi2_features = SelectKBest(chi2,k=75)\n",
        "fit= chi2_features.fit(X, y)\n",
        "scores = pd.DataFrame(fit.scores_)\n",
        "columns = pd.DataFrame(features.columns)\n",
        "featureScores = pd.concat([columns,scores],axis=1)\n",
        "featureScores.columns = ['Features','Score']\n",
        "print(featureScores.nlargest(50,'Score')) "
      ],
      "metadata": {
        "colab": {
          "base_uri": "https://localhost:8080/"
        },
        "id": "r0CWIj02wYKT",
        "outputId": "1f13e61b-d08e-485f-e554-197fa007f0c9"
      },
      "execution_count": 44,
      "outputs": [
        {
          "output_type": "stream",
          "name": "stdout",
          "text": [
            "                              Features      Score\n",
            "8                             A9_Score  80.021505\n",
            "5                             A6_Score  75.588957\n",
            "2                             A3_Score  57.742574\n",
            "4                             A5_Score  52.547325\n",
            "3                             A4_Score  40.694915\n",
            "11                              result  31.067660\n",
            "9                            A10_Score  24.284047\n",
            "27                          austim_yes  24.019608\n",
            "68  contry_of_res_United Arab Emirates  22.090909\n",
            "45                 contry_of_res_India  17.789474\n",
            "6                             A7_Score  17.475728\n",
            "1                             A2_Score  16.655502\n",
            "70         contry_of_res_United States  16.055556\n",
            "14                     ethnicity_Asian  13.066667\n",
            "18           ethnicity_Middle Eastern   11.918919\n",
            "22            ethnicity_White-European  11.136842\n",
            "25                         jundice_yes   9.756757\n",
            "49                contry_of_res_Jordan   8.066667\n",
            "7                             A8_Score   7.472325\n",
            "37                contry_of_res_Canada   7.363636\n",
            "0                             A1_Score   7.148867\n",
            "20               ethnicity_South Asian   7.117647\n",
            "65             contry_of_res_Sri Lanka   5.000000\n",
            "56           contry_of_res_New Zealand   4.454545\n",
            "48                 contry_of_res_Italy   4.000000\n",
            "52              contry_of_res_Malaysia   4.000000\n",
            "17                    ethnicity_Latino   3.769231\n",
            "26                           austim_no   3.746177\n",
            "69        contry_of_res_United Kingdom   3.130435\n",
            "32               contry_of_res_Austria   3.000000\n",
            "46                  contry_of_res_Iran   3.000000\n",
            "19                  ethnicity_Pasifika   2.666667\n",
            "31             contry_of_res_Australia   2.000000\n",
            "58           contry_of_res_Philippines   2.000000\n",
            "63          contry_of_res_South Africa   2.000000\n",
            "66                contry_of_res_Sweden   2.000000\n",
            "76                   relation_Relative   1.923077\n",
            "53                contry_of_res_Mexico   1.800000\n",
            "15                     ethnicity_Black   1.689655\n",
            "36                contry_of_res_Brazil   1.285714\n",
            "24                          jundice_no   1.058651\n",
            "13                            gender_m   1.053763\n",
            "12                            gender_f   1.020833\n",
            "29         contry_of_res_AmericanSamoa   1.000000\n",
            "34            contry_of_res_Bangladesh   1.000000\n",
            "38                 contry_of_res_Chile   1.000000\n",
            "39                 contry_of_res_China   1.000000\n",
            "40                contry_of_res_Cyprus   1.000000\n",
            "41               contry_of_res_Ecuador   1.000000\n",
            "42               contry_of_res_Finland   1.000000\n"
          ]
        }
      ]
    },
    {
      "cell_type": "code",
      "source": [
        "from sklearn.feature_selection import SelectKBest \n",
        "from sklearn.feature_selection import chi2  \n",
        "# 700 features with highest chi-squared statistics are selected \n",
        "chi2_features = SelectKBest(chi2,k=75)\n",
        "X = chi2_features.fit_transform(X, y)\n",
        "y = target"
      ],
      "metadata": {
        "id": "-Qxwi13ewjMC"
      },
      "execution_count": 45,
      "outputs": []
    },
    {
      "cell_type": "code",
      "source": [
        "#Splitting the data into train test spit\n",
        "from sklearn.model_selection import train_test_split\n",
        "X_train, X_test, y_train, y_test = train_test_split(X, y, test_size = 0.20, random_state = 42)"
      ],
      "metadata": {
        "id": "3wKst1WOtWis"
      },
      "execution_count": 46,
      "outputs": []
    },
    {
      "cell_type": "markdown",
      "source": [
        "## Clustering"
      ],
      "metadata": {
        "id": "Pk3S-w_iH-sF"
      }
    },
    {
      "cell_type": "code",
      "source": [
        "print('X.shape:', X.shape)\n",
        "print('y.shape:', y.shape)\n",
        "print('X:', X)"
      ],
      "metadata": {
        "colab": {
          "base_uri": "https://localhost:8080/"
        },
        "id": "pB72Snd4IHhT",
        "outputId": "4543a4c4-baa1-4b9d-e56d-f815626f4d29"
      },
      "execution_count": 47,
      "outputs": [
        {
          "output_type": "stream",
          "name": "stdout",
          "text": [
            "X.shape: (378, 75)\n",
            "y.shape: (378,)\n",
            "X: [[1. 0. 1. ... 0. 0. 1.]\n",
            " [1. 1. 1. ... 0. 0. 1.]\n",
            " [1. 0. 1. ... 0. 0. 1.]\n",
            " ...\n",
            " [1. 0. 0. ... 0. 0. 1.]\n",
            " [1. 1. 0. ... 0. 0. 1.]\n",
            " [1. 1. 1. ... 0. 0. 1.]]\n"
          ]
        }
      ]
    },
    {
      "cell_type": "markdown",
      "source": [
        "##KNeighborsClassifier"
      ],
      "metadata": {
        "id": "LJtr3ZGNHAa5"
      }
    },
    {
      "cell_type": "code",
      "source": [
        "from sklearn.model_selection import RandomizedSearchCV\n",
        "\n",
        "n_neighbors = [int(x) for x in np.linspace(1,1000,10)]\n",
        "weights = ['uniform','distance']\n",
        "algorithm =['auto', 'ball_tree', 'kd_tree', 'brute']\n",
        "leaf_size = [int(x) for x in np.linspace(1,1000,10)]\n",
        "\n",
        "random_grid = {'n_neighbors':n_neighbors,\n",
        "               'weights':weights,\n",
        "               'algorithm':algorithm,\n",
        "               'leaf_size':leaf_size}\n",
        "print(random_grid)"
      ],
      "metadata": {
        "colab": {
          "base_uri": "https://localhost:8080/"
        },
        "id": "YsZl3WITDXUu",
        "outputId": "87690bae-eed9-4761-a6d1-886681b86152"
      },
      "execution_count": 48,
      "outputs": [
        {
          "output_type": "stream",
          "name": "stdout",
          "text": [
            "{'n_neighbors': [1, 112, 223, 334, 445, 556, 667, 778, 889, 1000], 'weights': ['uniform', 'distance'], 'algorithm': ['auto', 'ball_tree', 'kd_tree', 'brute'], 'leaf_size': [1, 112, 223, 334, 445, 556, 667, 778, 889, 1000]}\n"
          ]
        }
      ]
    },
    {
      "cell_type": "code",
      "source": [
        "from sklearn import neighbors\n",
        "\n",
        "knn = neighbors.KNeighborsClassifier()\n",
        "knn_randomcv=RandomizedSearchCV(estimator= knn, param_distributions=random_grid, n_iter=100, cv=5, verbose=2,\n",
        "                               random_state=100,n_jobs=-1)\n",
        "#fit the randomized model\n",
        "knn_randomcv.fit(X_train,y_train)"
      ],
      "metadata": {
        "colab": {
          "base_uri": "https://localhost:8080/",
          "height": 132
        },
        "id": "SOScqsrsDeTw",
        "outputId": "927982cf-e34f-41e6-a3dd-aa929983bd40"
      },
      "execution_count": 49,
      "outputs": [
        {
          "output_type": "stream",
          "name": "stdout",
          "text": [
            "Fitting 5 folds for each of 100 candidates, totalling 500 fits\n"
          ]
        },
        {
          "output_type": "execute_result",
          "data": {
            "text/plain": [
              "RandomizedSearchCV(cv=5, estimator=KNeighborsClassifier(), n_iter=100,\n",
              "                   n_jobs=-1,\n",
              "                   param_distributions={'algorithm': ['auto', 'ball_tree',\n",
              "                                                      'kd_tree', 'brute'],\n",
              "                                        'leaf_size': [1, 112, 223, 334, 445,\n",
              "                                                      556, 667, 778, 889,\n",
              "                                                      1000],\n",
              "                                        'n_neighbors': [1, 112, 223, 334, 445,\n",
              "                                                        556, 667, 778, 889,\n",
              "                                                        1000],\n",
              "                                        'weights': ['uniform', 'distance']},\n",
              "                   random_state=100, verbose=2)"
            ],
            "text/html": [
              "<style>#sk-container-id-1 {color: black;background-color: white;}#sk-container-id-1 pre{padding: 0;}#sk-container-id-1 div.sk-toggleable {background-color: white;}#sk-container-id-1 label.sk-toggleable__label {cursor: pointer;display: block;width: 100%;margin-bottom: 0;padding: 0.3em;box-sizing: border-box;text-align: center;}#sk-container-id-1 label.sk-toggleable__label-arrow:before {content: \"▸\";float: left;margin-right: 0.25em;color: #696969;}#sk-container-id-1 label.sk-toggleable__label-arrow:hover:before {color: black;}#sk-container-id-1 div.sk-estimator:hover label.sk-toggleable__label-arrow:before {color: black;}#sk-container-id-1 div.sk-toggleable__content {max-height: 0;max-width: 0;overflow: hidden;text-align: left;background-color: #f0f8ff;}#sk-container-id-1 div.sk-toggleable__content pre {margin: 0.2em;color: black;border-radius: 0.25em;background-color: #f0f8ff;}#sk-container-id-1 input.sk-toggleable__control:checked~div.sk-toggleable__content {max-height: 200px;max-width: 100%;overflow: auto;}#sk-container-id-1 input.sk-toggleable__control:checked~label.sk-toggleable__label-arrow:before {content: \"▾\";}#sk-container-id-1 div.sk-estimator input.sk-toggleable__control:checked~label.sk-toggleable__label {background-color: #d4ebff;}#sk-container-id-1 div.sk-label input.sk-toggleable__control:checked~label.sk-toggleable__label {background-color: #d4ebff;}#sk-container-id-1 input.sk-hidden--visually {border: 0;clip: rect(1px 1px 1px 1px);clip: rect(1px, 1px, 1px, 1px);height: 1px;margin: -1px;overflow: hidden;padding: 0;position: absolute;width: 1px;}#sk-container-id-1 div.sk-estimator {font-family: monospace;background-color: #f0f8ff;border: 1px dotted black;border-radius: 0.25em;box-sizing: border-box;margin-bottom: 0.5em;}#sk-container-id-1 div.sk-estimator:hover {background-color: #d4ebff;}#sk-container-id-1 div.sk-parallel-item::after {content: \"\";width: 100%;border-bottom: 1px solid gray;flex-grow: 1;}#sk-container-id-1 div.sk-label:hover label.sk-toggleable__label {background-color: #d4ebff;}#sk-container-id-1 div.sk-serial::before {content: \"\";position: absolute;border-left: 1px solid gray;box-sizing: border-box;top: 0;bottom: 0;left: 50%;z-index: 0;}#sk-container-id-1 div.sk-serial {display: flex;flex-direction: column;align-items: center;background-color: white;padding-right: 0.2em;padding-left: 0.2em;position: relative;}#sk-container-id-1 div.sk-item {position: relative;z-index: 1;}#sk-container-id-1 div.sk-parallel {display: flex;align-items: stretch;justify-content: center;background-color: white;position: relative;}#sk-container-id-1 div.sk-item::before, #sk-container-id-1 div.sk-parallel-item::before {content: \"\";position: absolute;border-left: 1px solid gray;box-sizing: border-box;top: 0;bottom: 0;left: 50%;z-index: -1;}#sk-container-id-1 div.sk-parallel-item {display: flex;flex-direction: column;z-index: 1;position: relative;background-color: white;}#sk-container-id-1 div.sk-parallel-item:first-child::after {align-self: flex-end;width: 50%;}#sk-container-id-1 div.sk-parallel-item:last-child::after {align-self: flex-start;width: 50%;}#sk-container-id-1 div.sk-parallel-item:only-child::after {width: 0;}#sk-container-id-1 div.sk-dashed-wrapped {border: 1px dashed gray;margin: 0 0.4em 0.5em 0.4em;box-sizing: border-box;padding-bottom: 0.4em;background-color: white;}#sk-container-id-1 div.sk-label label {font-family: monospace;font-weight: bold;display: inline-block;line-height: 1.2em;}#sk-container-id-1 div.sk-label-container {text-align: center;}#sk-container-id-1 div.sk-container {/* jupyter's `normalize.less` sets `[hidden] { display: none; }` but bootstrap.min.css set `[hidden] { display: none !important; }` so we also need the `!important` here to be able to override the default hidden behavior on the sphinx rendered scikit-learn.org. See: https://github.com/scikit-learn/scikit-learn/issues/21755 */display: inline-block !important;position: relative;}#sk-container-id-1 div.sk-text-repr-fallback {display: none;}</style><div id=\"sk-container-id-1\" class=\"sk-top-container\"><div class=\"sk-text-repr-fallback\"><pre>RandomizedSearchCV(cv=5, estimator=KNeighborsClassifier(), n_iter=100,\n",
              "                   n_jobs=-1,\n",
              "                   param_distributions={&#x27;algorithm&#x27;: [&#x27;auto&#x27;, &#x27;ball_tree&#x27;,\n",
              "                                                      &#x27;kd_tree&#x27;, &#x27;brute&#x27;],\n",
              "                                        &#x27;leaf_size&#x27;: [1, 112, 223, 334, 445,\n",
              "                                                      556, 667, 778, 889,\n",
              "                                                      1000],\n",
              "                                        &#x27;n_neighbors&#x27;: [1, 112, 223, 334, 445,\n",
              "                                                        556, 667, 778, 889,\n",
              "                                                        1000],\n",
              "                                        &#x27;weights&#x27;: [&#x27;uniform&#x27;, &#x27;distance&#x27;]},\n",
              "                   random_state=100, verbose=2)</pre><b>In a Jupyter environment, please rerun this cell to show the HTML representation or trust the notebook. <br />On GitHub, the HTML representation is unable to render, please try loading this page with nbviewer.org.</b></div><div class=\"sk-container\" hidden><div class=\"sk-item sk-dashed-wrapped\"><div class=\"sk-label-container\"><div class=\"sk-label sk-toggleable\"><input class=\"sk-toggleable__control sk-hidden--visually\" id=\"sk-estimator-id-1\" type=\"checkbox\" ><label for=\"sk-estimator-id-1\" class=\"sk-toggleable__label sk-toggleable__label-arrow\">RandomizedSearchCV</label><div class=\"sk-toggleable__content\"><pre>RandomizedSearchCV(cv=5, estimator=KNeighborsClassifier(), n_iter=100,\n",
              "                   n_jobs=-1,\n",
              "                   param_distributions={&#x27;algorithm&#x27;: [&#x27;auto&#x27;, &#x27;ball_tree&#x27;,\n",
              "                                                      &#x27;kd_tree&#x27;, &#x27;brute&#x27;],\n",
              "                                        &#x27;leaf_size&#x27;: [1, 112, 223, 334, 445,\n",
              "                                                      556, 667, 778, 889,\n",
              "                                                      1000],\n",
              "                                        &#x27;n_neighbors&#x27;: [1, 112, 223, 334, 445,\n",
              "                                                        556, 667, 778, 889,\n",
              "                                                        1000],\n",
              "                                        &#x27;weights&#x27;: [&#x27;uniform&#x27;, &#x27;distance&#x27;]},\n",
              "                   random_state=100, verbose=2)</pre></div></div></div><div class=\"sk-parallel\"><div class=\"sk-parallel-item\"><div class=\"sk-item\"><div class=\"sk-label-container\"><div class=\"sk-label sk-toggleable\"><input class=\"sk-toggleable__control sk-hidden--visually\" id=\"sk-estimator-id-2\" type=\"checkbox\" ><label for=\"sk-estimator-id-2\" class=\"sk-toggleable__label sk-toggleable__label-arrow\">estimator: KNeighborsClassifier</label><div class=\"sk-toggleable__content\"><pre>KNeighborsClassifier()</pre></div></div></div><div class=\"sk-serial\"><div class=\"sk-item\"><div class=\"sk-estimator sk-toggleable\"><input class=\"sk-toggleable__control sk-hidden--visually\" id=\"sk-estimator-id-3\" type=\"checkbox\" ><label for=\"sk-estimator-id-3\" class=\"sk-toggleable__label sk-toggleable__label-arrow\">KNeighborsClassifier</label><div class=\"sk-toggleable__content\"><pre>KNeighborsClassifier()</pre></div></div></div></div></div></div></div></div></div></div>"
            ]
          },
          "metadata": {},
          "execution_count": 49
        }
      ]
    },
    {
      "cell_type": "code",
      "source": [
        "print('\\n All results:')\n",
        "print(knn_randomcv.cv_results_)"
      ],
      "metadata": {
        "colab": {
          "base_uri": "https://localhost:8080/"
        },
        "id": "9u4Zc9WyDi8r",
        "outputId": "5b7cc956-ad14-46b0-f6b7-bc7f7fdcb1a3"
      },
      "execution_count": 50,
      "outputs": [
        {
          "output_type": "stream",
          "name": "stdout",
          "text": [
            "\n",
            " All results:\n",
            "{'mean_fit_time': array([0.00115614, 0.00431867, 0.00148668, 0.00068679, 0.00250244,\n",
            "       0.0008286 , 0.00107012, 0.00543079, 0.00221057, 0.0007565 ,\n",
            "       0.00067458, 0.00164995, 0.00139427, 0.00089869, 0.0014338 ,\n",
            "       0.00163708, 0.002947  , 0.00068665, 0.00101485, 0.00093875,\n",
            "       0.0010119 , 0.00064821, 0.00058393, 0.00088792, 0.00198455,\n",
            "       0.00092287, 0.00164132, 0.00062642, 0.00102882, 0.00065079,\n",
            "       0.00143557, 0.00268974, 0.00209727, 0.00529337, 0.00099225,\n",
            "       0.0015728 , 0.00120168, 0.00074468, 0.00115438, 0.00130191,\n",
            "       0.00650091, 0.00206451, 0.00136585, 0.00121846, 0.00108266,\n",
            "       0.0015101 , 0.00090041, 0.00123186, 0.00067472, 0.00193219,\n",
            "       0.00172529, 0.00214376, 0.00177441, 0.00096459, 0.00059943,\n",
            "       0.00198245, 0.00112939, 0.00164385, 0.00134468, 0.00062413,\n",
            "       0.00179782, 0.00170369, 0.0025557 , 0.00105391, 0.00131431,\n",
            "       0.01052794, 0.001371  , 0.00192213, 0.00436845, 0.00086126,\n",
            "       0.00189142, 0.00180969, 0.00163321, 0.00096121, 0.00145941,\n",
            "       0.00214119, 0.00197234, 0.00143595, 0.00196867, 0.00157042,\n",
            "       0.00154486, 0.0016932 , 0.00132594, 0.00191088, 0.00177298,\n",
            "       0.0022346 , 0.00108147, 0.00080714, 0.00125747, 0.00309448,\n",
            "       0.0054832 , 0.00173097, 0.0014699 , 0.00319672, 0.00130677,\n",
            "       0.00107069, 0.00139947, 0.00118804, 0.00072832, 0.00095592]), 'std_fit_time': array([1.97989736e-04, 1.82709526e-03, 1.01269811e-03, 7.55799080e-05,\n",
            "       2.00539966e-03, 9.36850448e-05, 1.09961647e-04, 2.81530707e-03,\n",
            "       1.57900211e-03, 4.47101906e-05, 3.11548774e-05, 1.95981566e-03,\n",
            "       1.33806842e-03, 7.78132791e-05, 1.60556269e-03, 2.00892715e-03,\n",
            "       1.40736654e-03, 3.95205674e-05, 2.12857384e-04, 2.61177080e-05,\n",
            "       3.54519368e-05, 4.95340405e-05, 2.24859942e-05, 6.89793035e-05,\n",
            "       1.31736278e-03, 4.67296435e-04, 9.25396331e-04, 2.76321270e-05,\n",
            "       3.49158304e-04, 7.26308617e-05, 7.55174633e-04, 2.03645510e-03,\n",
            "       1.24956020e-03, 3.34252316e-03, 6.79373419e-04, 8.98369576e-04,\n",
            "       4.88092467e-04, 7.09168599e-05, 8.05801940e-04, 4.68306980e-04,\n",
            "       3.53516555e-03, 8.34257514e-04, 3.61685288e-04, 4.67192010e-04,\n",
            "       7.41972837e-04, 9.41955236e-04, 4.58142501e-05, 1.20896011e-03,\n",
            "       3.63786440e-05, 1.65019635e-03, 2.00750891e-03, 2.42669319e-03,\n",
            "       9.87895162e-04, 1.14157385e-04, 3.36078537e-05, 2.42320815e-03,\n",
            "       3.38678606e-05, 1.69453609e-03, 6.67301992e-04, 7.93534112e-05,\n",
            "       2.39710852e-03, 1.62432263e-03, 2.36717143e-03, 4.30731880e-04,\n",
            "       6.89392466e-04, 2.25700512e-03, 4.72816203e-05, 2.42539333e-03,\n",
            "       1.63738302e-03, 3.62405733e-04, 1.57973289e-03, 2.07408276e-03,\n",
            "       2.02403809e-03, 8.05660936e-05, 1.13548564e-03, 1.21873603e-03,\n",
            "       9.74379562e-04, 6.61033204e-04, 1.65061090e-03, 1.53312859e-03,\n",
            "       1.00230840e-03, 5.89069472e-04, 8.48020086e-04, 2.13741337e-03,\n",
            "       4.85913643e-04, 1.74996061e-03, 5.41729825e-05, 6.08139575e-05,\n",
            "       1.94070697e-04, 2.51662500e-04, 2.54341412e-03, 5.10298695e-04,\n",
            "       8.11899364e-04, 1.07831338e-03, 9.42104576e-04, 6.90946559e-04,\n",
            "       4.69777330e-04, 6.08217020e-04, 5.53160700e-05, 5.78165005e-05]), 'mean_score_time': array([0.00717645, 0.00279298, 0.00033932, 0.00030899, 0.00034504,\n",
            "       0.0230834 , 0.0022017 , 0.000597  , 0.00059443, 0.00031614,\n",
            "       0.01116219, 0.0003325 , 0.00035748, 0.01195078, 0.01044741,\n",
            "       0.00032187, 0.0005661 , 0.00333924, 0.00319109, 0.00552349,\n",
            "       0.00527725, 0.00151348, 0.00868468, 0.00173836, 0.00724587,\n",
            "       0.00046496, 0.01262007, 0.00151277, 0.00865254, 0.00192647,\n",
            "       0.00509806, 0.00036073, 0.00032735, 0.01230927, 0.00769124,\n",
            "       0.00066018, 0.00049448, 0.00030413, 0.00831938, 0.01278601,\n",
            "       0.0057713 , 0.00056486, 0.00033817, 0.0002914 , 0.00071454,\n",
            "       0.00133443, 0.00072312, 0.00028052, 0.00130782, 0.00163708,\n",
            "       0.00028048, 0.00031056, 0.00126162, 0.01034255, 0.00630255,\n",
            "       0.00115895, 0.00398769, 0.00157399, 0.00036483, 0.00130129,\n",
            "       0.00029273, 0.00754333, 0.00034394, 0.00870161, 0.00562892,\n",
            "       0.0003756 , 0.0003675 , 0.00032787, 0.00033684, 0.00091777,\n",
            "       0.01273808, 0.01135821, 0.00028868, 0.00056796, 0.00037031,\n",
            "       0.0009438 , 0.00035014, 0.00135579, 0.00235796, 0.00078354,\n",
            "       0.00048332, 0.00039992, 0.00146222, 0.00035882, 0.0004643 ,\n",
            "       0.01894784, 0.00456386, 0.00261955, 0.00196204, 0.00073295,\n",
            "       0.01099286, 0.01147642, 0.00892086, 0.00167651, 0.00630808,\n",
            "       0.00928912, 0.00100265, 0.00141664, 0.00906858, 0.00067816]), 'std_score_time': array([5.58409120e-04, 3.80271505e-03, 1.54751107e-05, 4.78531688e-05,\n",
            "       4.52664907e-05, 1.92730027e-02, 1.65091706e-03, 2.44387999e-04,\n",
            "       2.77840880e-04, 2.22264434e-05, 1.66607234e-03, 4.98885621e-05,\n",
            "       5.42228220e-05, 5.45728682e-03, 3.68681339e-04, 4.35028656e-05,\n",
            "       3.88527420e-04, 1.59081224e-03, 2.05237464e-03, 5.12840467e-04,\n",
            "       3.03219559e-03, 8.99775418e-05, 4.33207792e-03, 3.71300943e-05,\n",
            "       2.37860918e-03, 3.08645108e-04, 5.03633498e-03, 5.89379369e-04,\n",
            "       3.35023929e-03, 1.04785672e-03, 1.66539477e-03, 6.51103635e-05,\n",
            "       2.36714952e-05, 4.09116895e-03, 1.18999768e-03, 4.78111472e-04,\n",
            "       2.94409317e-04, 3.49423068e-05, 6.45762182e-03, 5.25104292e-03,\n",
            "       6.96687892e-03, 3.21003233e-04, 5.28041124e-05, 1.58180621e-05,\n",
            "       8.69752767e-04, 2.04278541e-03, 8.30627719e-04, 1.02919532e-05,\n",
            "       2.01542669e-03, 1.72761616e-03, 2.07430193e-05, 2.28068775e-05,\n",
            "       1.90211635e-03, 4.60804227e-03, 1.07491955e-03, 1.71528531e-03,\n",
            "       1.31718127e-03, 2.43940167e-03, 4.08269523e-05, 2.00530429e-03,\n",
            "       1.35151163e-05, 2.55655601e-03, 3.55877088e-05, 1.85059284e-03,\n",
            "       9.72221651e-04, 2.80535097e-05, 3.60391114e-05, 5.08732735e-05,\n",
            "       1.11923748e-05, 8.18569499e-04, 1.47221098e-03, 2.85266996e-03,\n",
            "       8.43799696e-06, 4.62459465e-04, 1.19540841e-04, 1.21275632e-03,\n",
            "       2.53068042e-05, 2.01483843e-03, 1.67996043e-03, 8.20834492e-04,\n",
            "       2.41463736e-04, 3.20722530e-05, 1.37869703e-03, 2.21249358e-05,\n",
            "       9.21037355e-05, 3.34299903e-03, 8.15216980e-04, 1.13361602e-03,\n",
            "       2.91872375e-03, 2.87619162e-04, 3.81580391e-03, 3.62873525e-03,\n",
            "       2.28538933e-03, 6.42334209e-04, 2.96202073e-03, 3.24827043e-03,\n",
            "       4.86338362e-04, 1.02605977e-03, 2.13679126e-03, 5.93882133e-04]), 'param_weights': masked_array(data=['uniform', 'uniform', 'distance', 'uniform',\n",
            "                   'distance', 'uniform', 'uniform', 'uniform', 'uniform',\n",
            "                   'distance', 'uniform', 'distance', 'uniform',\n",
            "                   'uniform', 'uniform', 'uniform', 'distance',\n",
            "                   'distance', 'uniform', 'uniform', 'distance',\n",
            "                   'distance', 'uniform', 'distance', 'uniform',\n",
            "                   'distance', 'uniform', 'distance', 'distance',\n",
            "                   'distance', 'distance', 'distance', 'uniform',\n",
            "                   'uniform', 'distance', 'uniform', 'uniform',\n",
            "                   'distance', 'uniform', 'uniform', 'uniform', 'uniform',\n",
            "                   'uniform', 'distance', 'distance', 'distance',\n",
            "                   'uniform', 'uniform', 'uniform', 'distance',\n",
            "                   'distance', 'uniform', 'distance', 'uniform',\n",
            "                   'uniform', 'uniform', 'distance', 'uniform', 'uniform',\n",
            "                   'distance', 'distance', 'distance', 'uniform',\n",
            "                   'uniform', 'uniform', 'uniform', 'uniform', 'distance',\n",
            "                   'distance', 'distance', 'uniform', 'distance',\n",
            "                   'uniform', 'uniform', 'distance', 'distance',\n",
            "                   'distance', 'distance', 'distance', 'uniform',\n",
            "                   'distance', 'distance', 'distance', 'uniform',\n",
            "                   'distance', 'uniform', 'distance', 'distance',\n",
            "                   'uniform', 'distance', 'distance', 'uniform',\n",
            "                   'distance', 'distance', 'uniform', 'distance',\n",
            "                   'distance', 'distance', 'uniform', 'distance'],\n",
            "             mask=[False, False, False, False, False, False, False, False,\n",
            "                   False, False, False, False, False, False, False, False,\n",
            "                   False, False, False, False, False, False, False, False,\n",
            "                   False, False, False, False, False, False, False, False,\n",
            "                   False, False, False, False, False, False, False, False,\n",
            "                   False, False, False, False, False, False, False, False,\n",
            "                   False, False, False, False, False, False, False, False,\n",
            "                   False, False, False, False, False, False, False, False,\n",
            "                   False, False, False, False, False, False, False, False,\n",
            "                   False, False, False, False, False, False, False, False,\n",
            "                   False, False, False, False, False, False, False, False,\n",
            "                   False, False, False, False, False, False, False, False,\n",
            "                   False, False, False, False],\n",
            "       fill_value='?',\n",
            "            dtype=object), 'param_n_neighbors': masked_array(data=[223, 1000, 445, 889, 1000, 223, 556, 334, 889, 889, 1,\n",
            "                   556, 889, 223, 112, 445, 889, 1, 445, 1, 1, 1, 223,\n",
            "                   1000, 1, 556, 223, 778, 223, 1000, 1, 445, 667, 1, 223,\n",
            "                   445, 556, 667, 1, 1, 889, 778, 556, 778, 667, 889, 445,\n",
            "                   334, 1000, 889, 1000, 667, 778, 112, 223, 667, 1, 445,\n",
            "                   778, 667, 445, 112, 667, 1, 1, 667, 445, 667, 889, 445,\n",
            "                   1, 223, 556, 778, 889, 334, 667, 334, 667, 445, 334,\n",
            "                   1000, 1000, 556, 667, 223, 1, 556, 778, 667, 1, 112,\n",
            "                   223, 1000, 1, 223, 445, 889, 223, 556],\n",
            "             mask=[False, False, False, False, False, False, False, False,\n",
            "                   False, False, False, False, False, False, False, False,\n",
            "                   False, False, False, False, False, False, False, False,\n",
            "                   False, False, False, False, False, False, False, False,\n",
            "                   False, False, False, False, False, False, False, False,\n",
            "                   False, False, False, False, False, False, False, False,\n",
            "                   False, False, False, False, False, False, False, False,\n",
            "                   False, False, False, False, False, False, False, False,\n",
            "                   False, False, False, False, False, False, False, False,\n",
            "                   False, False, False, False, False, False, False, False,\n",
            "                   False, False, False, False, False, False, False, False,\n",
            "                   False, False, False, False, False, False, False, False,\n",
            "                   False, False, False, False],\n",
            "       fill_value='?',\n",
            "            dtype=object), 'param_leaf_size': masked_array(data=[445, 1, 1000, 889, 778, 334, 223, 1, 889, 1000, 445, 1,\n",
            "                   778, 334, 112, 223, 334, 556, 889, 667, 778, 223, 778,\n",
            "                   223, 889, 889, 1000, 1000, 778, 1, 556, 445, 667, 1,\n",
            "                   112, 334, 556, 889, 556, 778, 1, 667, 667, 889, 667,\n",
            "                   889, 445, 667, 445, 445, 1000, 223, 1000, 889, 1000,\n",
            "                   334, 112, 1000, 556, 334, 112, 556, 334, 223, 1000, 1,\n",
            "                   112, 334, 1, 778, 556, 667, 1, 889, 778, 334, 1000,\n",
            "                   223, 889, 889, 556, 112, 778, 112, 112, 223, 1000,\n",
            "                   1000, 778, 778, 1, 112, 667, 223, 889, 889, 334, 112,\n",
            "                   112, 778],\n",
            "             mask=[False, False, False, False, False, False, False, False,\n",
            "                   False, False, False, False, False, False, False, False,\n",
            "                   False, False, False, False, False, False, False, False,\n",
            "                   False, False, False, False, False, False, False, False,\n",
            "                   False, False, False, False, False, False, False, False,\n",
            "                   False, False, False, False, False, False, False, False,\n",
            "                   False, False, False, False, False, False, False, False,\n",
            "                   False, False, False, False, False, False, False, False,\n",
            "                   False, False, False, False, False, False, False, False,\n",
            "                   False, False, False, False, False, False, False, False,\n",
            "                   False, False, False, False, False, False, False, False,\n",
            "                   False, False, False, False, False, False, False, False,\n",
            "                   False, False, False, False],\n",
            "       fill_value='?',\n",
            "            dtype=object), 'param_algorithm': masked_array(data=['kd_tree', 'ball_tree', 'kd_tree', 'brute',\n",
            "                   'ball_tree', 'brute', 'kd_tree', 'ball_tree',\n",
            "                   'ball_tree', 'auto', 'brute', 'brute', 'auto',\n",
            "                   'ball_tree', 'brute', 'auto', 'ball_tree', 'auto',\n",
            "                   'kd_tree', 'ball_tree', 'kd_tree', 'auto', 'brute',\n",
            "                   'ball_tree', 'kd_tree', 'auto', 'ball_tree', 'auto',\n",
            "                   'kd_tree', 'auto', 'ball_tree', 'kd_tree', 'kd_tree',\n",
            "                   'ball_tree', 'brute', 'ball_tree', 'ball_tree', 'auto',\n",
            "                   'brute', 'kd_tree', 'ball_tree', 'ball_tree',\n",
            "                   'ball_tree', 'auto', 'auto', 'kd_tree', 'ball_tree',\n",
            "                   'brute', 'auto', 'auto', 'brute', 'ball_tree',\n",
            "                   'ball_tree', 'kd_tree', 'auto', 'auto', 'ball_tree',\n",
            "                   'brute', 'auto', 'brute', 'brute', 'kd_tree', 'brute',\n",
            "                   'auto', 'brute', 'kd_tree', 'kd_tree', 'auto',\n",
            "                   'ball_tree', 'auto', 'kd_tree', 'auto', 'auto',\n",
            "                   'kd_tree', 'auto', 'ball_tree', 'brute', 'kd_tree',\n",
            "                   'kd_tree', 'brute', 'brute', 'ball_tree', 'auto',\n",
            "                   'brute', 'ball_tree', 'brute', 'kd_tree', 'auto',\n",
            "                   'brute', 'auto', 'ball_tree', 'ball_tree', 'ball_tree',\n",
            "                   'kd_tree', 'auto', 'brute', 'kd_tree', 'brute', 'auto',\n",
            "                   'ball_tree'],\n",
            "             mask=[False, False, False, False, False, False, False, False,\n",
            "                   False, False, False, False, False, False, False, False,\n",
            "                   False, False, False, False, False, False, False, False,\n",
            "                   False, False, False, False, False, False, False, False,\n",
            "                   False, False, False, False, False, False, False, False,\n",
            "                   False, False, False, False, False, False, False, False,\n",
            "                   False, False, False, False, False, False, False, False,\n",
            "                   False, False, False, False, False, False, False, False,\n",
            "                   False, False, False, False, False, False, False, False,\n",
            "                   False, False, False, False, False, False, False, False,\n",
            "                   False, False, False, False, False, False, False, False,\n",
            "                   False, False, False, False, False, False, False, False,\n",
            "                   False, False, False, False],\n",
            "       fill_value='?',\n",
            "            dtype=object), 'params': [{'weights': 'uniform', 'n_neighbors': 223, 'leaf_size': 445, 'algorithm': 'kd_tree'}, {'weights': 'uniform', 'n_neighbors': 1000, 'leaf_size': 1, 'algorithm': 'ball_tree'}, {'weights': 'distance', 'n_neighbors': 445, 'leaf_size': 1000, 'algorithm': 'kd_tree'}, {'weights': 'uniform', 'n_neighbors': 889, 'leaf_size': 889, 'algorithm': 'brute'}, {'weights': 'distance', 'n_neighbors': 1000, 'leaf_size': 778, 'algorithm': 'ball_tree'}, {'weights': 'uniform', 'n_neighbors': 223, 'leaf_size': 334, 'algorithm': 'brute'}, {'weights': 'uniform', 'n_neighbors': 556, 'leaf_size': 223, 'algorithm': 'kd_tree'}, {'weights': 'uniform', 'n_neighbors': 334, 'leaf_size': 1, 'algorithm': 'ball_tree'}, {'weights': 'uniform', 'n_neighbors': 889, 'leaf_size': 889, 'algorithm': 'ball_tree'}, {'weights': 'distance', 'n_neighbors': 889, 'leaf_size': 1000, 'algorithm': 'auto'}, {'weights': 'uniform', 'n_neighbors': 1, 'leaf_size': 445, 'algorithm': 'brute'}, {'weights': 'distance', 'n_neighbors': 556, 'leaf_size': 1, 'algorithm': 'brute'}, {'weights': 'uniform', 'n_neighbors': 889, 'leaf_size': 778, 'algorithm': 'auto'}, {'weights': 'uniform', 'n_neighbors': 223, 'leaf_size': 334, 'algorithm': 'ball_tree'}, {'weights': 'uniform', 'n_neighbors': 112, 'leaf_size': 112, 'algorithm': 'brute'}, {'weights': 'uniform', 'n_neighbors': 445, 'leaf_size': 223, 'algorithm': 'auto'}, {'weights': 'distance', 'n_neighbors': 889, 'leaf_size': 334, 'algorithm': 'ball_tree'}, {'weights': 'distance', 'n_neighbors': 1, 'leaf_size': 556, 'algorithm': 'auto'}, {'weights': 'uniform', 'n_neighbors': 445, 'leaf_size': 889, 'algorithm': 'kd_tree'}, {'weights': 'uniform', 'n_neighbors': 1, 'leaf_size': 667, 'algorithm': 'ball_tree'}, {'weights': 'distance', 'n_neighbors': 1, 'leaf_size': 778, 'algorithm': 'kd_tree'}, {'weights': 'distance', 'n_neighbors': 1, 'leaf_size': 223, 'algorithm': 'auto'}, {'weights': 'uniform', 'n_neighbors': 223, 'leaf_size': 778, 'algorithm': 'brute'}, {'weights': 'distance', 'n_neighbors': 1000, 'leaf_size': 223, 'algorithm': 'ball_tree'}, {'weights': 'uniform', 'n_neighbors': 1, 'leaf_size': 889, 'algorithm': 'kd_tree'}, {'weights': 'distance', 'n_neighbors': 556, 'leaf_size': 889, 'algorithm': 'auto'}, {'weights': 'uniform', 'n_neighbors': 223, 'leaf_size': 1000, 'algorithm': 'ball_tree'}, {'weights': 'distance', 'n_neighbors': 778, 'leaf_size': 1000, 'algorithm': 'auto'}, {'weights': 'distance', 'n_neighbors': 223, 'leaf_size': 778, 'algorithm': 'kd_tree'}, {'weights': 'distance', 'n_neighbors': 1000, 'leaf_size': 1, 'algorithm': 'auto'}, {'weights': 'distance', 'n_neighbors': 1, 'leaf_size': 556, 'algorithm': 'ball_tree'}, {'weights': 'distance', 'n_neighbors': 445, 'leaf_size': 445, 'algorithm': 'kd_tree'}, {'weights': 'uniform', 'n_neighbors': 667, 'leaf_size': 667, 'algorithm': 'kd_tree'}, {'weights': 'uniform', 'n_neighbors': 1, 'leaf_size': 1, 'algorithm': 'ball_tree'}, {'weights': 'distance', 'n_neighbors': 223, 'leaf_size': 112, 'algorithm': 'brute'}, {'weights': 'uniform', 'n_neighbors': 445, 'leaf_size': 334, 'algorithm': 'ball_tree'}, {'weights': 'uniform', 'n_neighbors': 556, 'leaf_size': 556, 'algorithm': 'ball_tree'}, {'weights': 'distance', 'n_neighbors': 667, 'leaf_size': 889, 'algorithm': 'auto'}, {'weights': 'uniform', 'n_neighbors': 1, 'leaf_size': 556, 'algorithm': 'brute'}, {'weights': 'uniform', 'n_neighbors': 1, 'leaf_size': 778, 'algorithm': 'kd_tree'}, {'weights': 'uniform', 'n_neighbors': 889, 'leaf_size': 1, 'algorithm': 'ball_tree'}, {'weights': 'uniform', 'n_neighbors': 778, 'leaf_size': 667, 'algorithm': 'ball_tree'}, {'weights': 'uniform', 'n_neighbors': 556, 'leaf_size': 667, 'algorithm': 'ball_tree'}, {'weights': 'distance', 'n_neighbors': 778, 'leaf_size': 889, 'algorithm': 'auto'}, {'weights': 'distance', 'n_neighbors': 667, 'leaf_size': 667, 'algorithm': 'auto'}, {'weights': 'distance', 'n_neighbors': 889, 'leaf_size': 889, 'algorithm': 'kd_tree'}, {'weights': 'uniform', 'n_neighbors': 445, 'leaf_size': 445, 'algorithm': 'ball_tree'}, {'weights': 'uniform', 'n_neighbors': 334, 'leaf_size': 667, 'algorithm': 'brute'}, {'weights': 'uniform', 'n_neighbors': 1000, 'leaf_size': 445, 'algorithm': 'auto'}, {'weights': 'distance', 'n_neighbors': 889, 'leaf_size': 445, 'algorithm': 'auto'}, {'weights': 'distance', 'n_neighbors': 1000, 'leaf_size': 1000, 'algorithm': 'brute'}, {'weights': 'uniform', 'n_neighbors': 667, 'leaf_size': 223, 'algorithm': 'ball_tree'}, {'weights': 'distance', 'n_neighbors': 778, 'leaf_size': 1000, 'algorithm': 'ball_tree'}, {'weights': 'uniform', 'n_neighbors': 112, 'leaf_size': 889, 'algorithm': 'kd_tree'}, {'weights': 'uniform', 'n_neighbors': 223, 'leaf_size': 1000, 'algorithm': 'auto'}, {'weights': 'uniform', 'n_neighbors': 667, 'leaf_size': 334, 'algorithm': 'auto'}, {'weights': 'distance', 'n_neighbors': 1, 'leaf_size': 112, 'algorithm': 'ball_tree'}, {'weights': 'uniform', 'n_neighbors': 445, 'leaf_size': 1000, 'algorithm': 'brute'}, {'weights': 'uniform', 'n_neighbors': 778, 'leaf_size': 556, 'algorithm': 'auto'}, {'weights': 'distance', 'n_neighbors': 667, 'leaf_size': 334, 'algorithm': 'brute'}, {'weights': 'distance', 'n_neighbors': 445, 'leaf_size': 112, 'algorithm': 'brute'}, {'weights': 'distance', 'n_neighbors': 112, 'leaf_size': 556, 'algorithm': 'kd_tree'}, {'weights': 'uniform', 'n_neighbors': 667, 'leaf_size': 334, 'algorithm': 'brute'}, {'weights': 'uniform', 'n_neighbors': 1, 'leaf_size': 223, 'algorithm': 'auto'}, {'weights': 'uniform', 'n_neighbors': 1, 'leaf_size': 1000, 'algorithm': 'brute'}, {'weights': 'uniform', 'n_neighbors': 667, 'leaf_size': 1, 'algorithm': 'kd_tree'}, {'weights': 'uniform', 'n_neighbors': 445, 'leaf_size': 112, 'algorithm': 'kd_tree'}, {'weights': 'distance', 'n_neighbors': 667, 'leaf_size': 334, 'algorithm': 'auto'}, {'weights': 'distance', 'n_neighbors': 889, 'leaf_size': 1, 'algorithm': 'ball_tree'}, {'weights': 'distance', 'n_neighbors': 445, 'leaf_size': 778, 'algorithm': 'auto'}, {'weights': 'uniform', 'n_neighbors': 1, 'leaf_size': 556, 'algorithm': 'kd_tree'}, {'weights': 'distance', 'n_neighbors': 223, 'leaf_size': 667, 'algorithm': 'auto'}, {'weights': 'uniform', 'n_neighbors': 556, 'leaf_size': 1, 'algorithm': 'auto'}, {'weights': 'uniform', 'n_neighbors': 778, 'leaf_size': 889, 'algorithm': 'kd_tree'}, {'weights': 'distance', 'n_neighbors': 889, 'leaf_size': 778, 'algorithm': 'auto'}, {'weights': 'distance', 'n_neighbors': 334, 'leaf_size': 334, 'algorithm': 'ball_tree'}, {'weights': 'distance', 'n_neighbors': 667, 'leaf_size': 1000, 'algorithm': 'brute'}, {'weights': 'distance', 'n_neighbors': 334, 'leaf_size': 223, 'algorithm': 'kd_tree'}, {'weights': 'distance', 'n_neighbors': 667, 'leaf_size': 889, 'algorithm': 'kd_tree'}, {'weights': 'uniform', 'n_neighbors': 445, 'leaf_size': 889, 'algorithm': 'brute'}, {'weights': 'distance', 'n_neighbors': 334, 'leaf_size': 556, 'algorithm': 'brute'}, {'weights': 'distance', 'n_neighbors': 1000, 'leaf_size': 112, 'algorithm': 'ball_tree'}, {'weights': 'distance', 'n_neighbors': 1000, 'leaf_size': 778, 'algorithm': 'auto'}, {'weights': 'uniform', 'n_neighbors': 556, 'leaf_size': 112, 'algorithm': 'brute'}, {'weights': 'distance', 'n_neighbors': 667, 'leaf_size': 112, 'algorithm': 'ball_tree'}, {'weights': 'uniform', 'n_neighbors': 223, 'leaf_size': 223, 'algorithm': 'brute'}, {'weights': 'distance', 'n_neighbors': 1, 'leaf_size': 1000, 'algorithm': 'kd_tree'}, {'weights': 'distance', 'n_neighbors': 556, 'leaf_size': 1000, 'algorithm': 'auto'}, {'weights': 'uniform', 'n_neighbors': 778, 'leaf_size': 778, 'algorithm': 'brute'}, {'weights': 'distance', 'n_neighbors': 667, 'leaf_size': 778, 'algorithm': 'auto'}, {'weights': 'distance', 'n_neighbors': 1, 'leaf_size': 1, 'algorithm': 'ball_tree'}, {'weights': 'uniform', 'n_neighbors': 112, 'leaf_size': 112, 'algorithm': 'ball_tree'}, {'weights': 'distance', 'n_neighbors': 223, 'leaf_size': 667, 'algorithm': 'ball_tree'}, {'weights': 'distance', 'n_neighbors': 1000, 'leaf_size': 223, 'algorithm': 'kd_tree'}, {'weights': 'uniform', 'n_neighbors': 1, 'leaf_size': 889, 'algorithm': 'auto'}, {'weights': 'distance', 'n_neighbors': 223, 'leaf_size': 889, 'algorithm': 'brute'}, {'weights': 'distance', 'n_neighbors': 445, 'leaf_size': 334, 'algorithm': 'kd_tree'}, {'weights': 'distance', 'n_neighbors': 889, 'leaf_size': 112, 'algorithm': 'brute'}, {'weights': 'uniform', 'n_neighbors': 223, 'leaf_size': 112, 'algorithm': 'auto'}, {'weights': 'distance', 'n_neighbors': 556, 'leaf_size': 778, 'algorithm': 'ball_tree'}], 'split0_test_score': array([0.96721311,        nan,        nan,        nan,        nan,\n",
            "       0.96721311,        nan,        nan,        nan,        nan,\n",
            "       0.93442623,        nan,        nan, 0.96721311, 0.93442623,\n",
            "              nan,        nan, 0.93442623,        nan, 0.93442623,\n",
            "       0.93442623, 0.93442623, 0.96721311,        nan, 0.93442623,\n",
            "              nan, 0.96721311,        nan, 0.98360656,        nan,\n",
            "       0.93442623,        nan,        nan, 0.93442623, 0.98360656,\n",
            "              nan,        nan,        nan, 0.93442623, 0.93442623,\n",
            "              nan,        nan,        nan,        nan,        nan,\n",
            "              nan,        nan,        nan,        nan,        nan,\n",
            "              nan,        nan,        nan, 0.93442623, 0.96721311,\n",
            "              nan, 0.93442623,        nan,        nan,        nan,\n",
            "              nan, 0.91803279,        nan, 0.93442623, 0.93442623,\n",
            "              nan,        nan,        nan,        nan,        nan,\n",
            "       0.93442623, 0.98360656,        nan,        nan,        nan,\n",
            "              nan,        nan,        nan,        nan,        nan,\n",
            "              nan,        nan,        nan,        nan,        nan,\n",
            "       0.96721311, 0.93442623,        nan,        nan,        nan,\n",
            "       0.93442623, 0.93442623, 0.98360656,        nan, 0.93442623,\n",
            "       0.98360656,        nan,        nan, 0.96721311,        nan]), 'split1_test_score': array([0.93442623,        nan,        nan,        nan,        nan,\n",
            "       0.93442623,        nan,        nan,        nan,        nan,\n",
            "       0.96721311,        nan,        nan, 0.93442623, 1.        ,\n",
            "              nan,        nan, 0.96721311,        nan, 0.96721311,\n",
            "       0.96721311, 0.96721311, 0.93442623,        nan, 0.96721311,\n",
            "              nan, 0.93442623,        nan, 0.98360656,        nan,\n",
            "       0.96721311,        nan,        nan, 0.96721311, 0.98360656,\n",
            "              nan,        nan,        nan, 0.96721311, 0.96721311,\n",
            "              nan,        nan,        nan,        nan,        nan,\n",
            "              nan,        nan,        nan,        nan,        nan,\n",
            "              nan,        nan,        nan, 1.        , 0.93442623,\n",
            "              nan, 0.96721311,        nan,        nan,        nan,\n",
            "              nan, 1.        ,        nan, 0.96721311, 0.96721311,\n",
            "              nan,        nan,        nan,        nan,        nan,\n",
            "       0.96721311, 0.98360656,        nan,        nan,        nan,\n",
            "              nan,        nan,        nan,        nan,        nan,\n",
            "              nan,        nan,        nan,        nan,        nan,\n",
            "       0.93442623, 0.96721311,        nan,        nan,        nan,\n",
            "       0.96721311, 1.        , 0.98360656,        nan, 0.96721311,\n",
            "       0.98360656,        nan,        nan, 0.93442623,        nan]), 'split2_test_score': array([0.9       ,        nan,        nan,        nan,        nan,\n",
            "       0.9       ,        nan,        nan,        nan,        nan,\n",
            "       0.93333333,        nan,        nan, 0.9       , 0.98333333,\n",
            "              nan,        nan, 0.93333333,        nan, 0.93333333,\n",
            "       0.93333333, 0.93333333, 0.9       ,        nan, 0.93333333,\n",
            "              nan, 0.9       ,        nan, 0.96666667,        nan,\n",
            "       0.93333333,        nan,        nan, 0.93333333, 0.96666667,\n",
            "              nan,        nan,        nan, 0.93333333, 0.93333333,\n",
            "              nan,        nan,        nan,        nan,        nan,\n",
            "              nan,        nan,        nan,        nan,        nan,\n",
            "              nan,        nan,        nan, 0.98333333, 0.9       ,\n",
            "              nan, 0.93333333,        nan,        nan,        nan,\n",
            "              nan, 0.98333333,        nan, 0.93333333, 0.93333333,\n",
            "              nan,        nan,        nan,        nan,        nan,\n",
            "       0.93333333, 0.96666667,        nan,        nan,        nan,\n",
            "              nan,        nan,        nan,        nan,        nan,\n",
            "              nan,        nan,        nan,        nan,        nan,\n",
            "       0.9       , 0.93333333,        nan,        nan,        nan,\n",
            "       0.93333333, 0.98333333, 0.96666667,        nan, 0.93333333,\n",
            "       0.96666667,        nan,        nan, 0.9       ,        nan]), 'split3_test_score': array([0.9       ,        nan,        nan,        nan,        nan,\n",
            "       0.9       ,        nan,        nan,        nan,        nan,\n",
            "       0.88333333,        nan,        nan, 0.9       , 0.91666667,\n",
            "              nan,        nan, 0.88333333,        nan, 0.88333333,\n",
            "       0.88333333, 0.88333333, 0.9       ,        nan, 0.88333333,\n",
            "              nan, 0.9       ,        nan, 0.96666667,        nan,\n",
            "       0.88333333,        nan,        nan, 0.88333333, 0.96666667,\n",
            "              nan,        nan,        nan, 0.88333333, 0.88333333,\n",
            "              nan,        nan,        nan,        nan,        nan,\n",
            "              nan,        nan,        nan,        nan,        nan,\n",
            "              nan,        nan,        nan, 0.91666667, 0.9       ,\n",
            "              nan, 0.88333333,        nan,        nan,        nan,\n",
            "              nan, 0.91666667,        nan, 0.88333333, 0.88333333,\n",
            "              nan,        nan,        nan,        nan,        nan,\n",
            "       0.88333333, 0.96666667,        nan,        nan,        nan,\n",
            "              nan,        nan,        nan,        nan,        nan,\n",
            "              nan,        nan,        nan,        nan,        nan,\n",
            "       0.9       , 0.88333333,        nan,        nan,        nan,\n",
            "       0.88333333, 0.91666667, 0.96666667,        nan, 0.88333333,\n",
            "       0.96666667,        nan,        nan, 0.9       ,        nan]), 'split4_test_score': array([0.9       ,        nan,        nan,        nan,        nan,\n",
            "       0.9       ,        nan,        nan,        nan,        nan,\n",
            "       0.91666667,        nan,        nan, 0.9       , 0.91666667,\n",
            "              nan,        nan, 0.91666667,        nan, 0.91666667,\n",
            "       0.91666667, 0.91666667, 0.9       ,        nan, 0.91666667,\n",
            "              nan, 0.9       ,        nan, 0.88333333,        nan,\n",
            "       0.91666667,        nan,        nan, 0.91666667, 0.88333333,\n",
            "              nan,        nan,        nan, 0.91666667, 0.91666667,\n",
            "              nan,        nan,        nan,        nan,        nan,\n",
            "              nan,        nan,        nan,        nan,        nan,\n",
            "              nan,        nan,        nan, 0.91666667, 0.9       ,\n",
            "              nan, 0.91666667,        nan,        nan,        nan,\n",
            "              nan, 0.93333333,        nan, 0.91666667, 0.91666667,\n",
            "              nan,        nan,        nan,        nan,        nan,\n",
            "       0.91666667, 0.88333333,        nan,        nan,        nan,\n",
            "              nan,        nan,        nan,        nan,        nan,\n",
            "              nan,        nan,        nan,        nan,        nan,\n",
            "       0.9       , 0.91666667,        nan,        nan,        nan,\n",
            "       0.91666667, 0.91666667, 0.88333333,        nan, 0.91666667,\n",
            "       0.88333333,        nan,        nan, 0.9       ,        nan]), 'mean_test_score': array([0.92032787,        nan,        nan,        nan,        nan,\n",
            "       0.92032787,        nan,        nan,        nan,        nan,\n",
            "       0.92699454,        nan,        nan, 0.92032787, 0.95021858,\n",
            "              nan,        nan, 0.92699454,        nan, 0.92699454,\n",
            "       0.92699454, 0.92699454, 0.92032787,        nan, 0.92699454,\n",
            "              nan, 0.92032787,        nan, 0.95677596,        nan,\n",
            "       0.92699454,        nan,        nan, 0.92699454, 0.95677596,\n",
            "              nan,        nan,        nan, 0.92699454, 0.92699454,\n",
            "              nan,        nan,        nan,        nan,        nan,\n",
            "              nan,        nan,        nan,        nan,        nan,\n",
            "              nan,        nan,        nan, 0.95021858, 0.92032787,\n",
            "              nan, 0.92699454,        nan,        nan,        nan,\n",
            "              nan, 0.95027322,        nan, 0.92699454, 0.92699454,\n",
            "              nan,        nan,        nan,        nan,        nan,\n",
            "       0.92699454, 0.95677596,        nan,        nan,        nan,\n",
            "              nan,        nan,        nan,        nan,        nan,\n",
            "              nan,        nan,        nan,        nan,        nan,\n",
            "       0.92032787, 0.92699454,        nan,        nan,        nan,\n",
            "       0.92699454, 0.95021858, 0.95677596,        nan, 0.92699454,\n",
            "       0.95677596,        nan,        nan, 0.92032787,        nan]), 'std_test_score': array([0.02696908,        nan,        nan,        nan,        nan,\n",
            "       0.02696908,        nan,        nan,        nan,        nan,\n",
            "       0.02729802,        nan,        nan, 0.02696908, 0.03485868,\n",
            "              nan,        nan, 0.02729802,        nan, 0.02729802,\n",
            "       0.02729802, 0.02729802, 0.02696908,        nan, 0.02729802,\n",
            "              nan, 0.02696908,        nan, 0.03749462,        nan,\n",
            "       0.02729802,        nan,        nan, 0.02729802, 0.03749462,\n",
            "              nan,        nan,        nan, 0.02729802, 0.02729802,\n",
            "              nan,        nan,        nan,        nan,        nan,\n",
            "              nan,        nan,        nan,        nan,        nan,\n",
            "              nan,        nan,        nan, 0.03485868, 0.02696908,\n",
            "              nan, 0.02729802,        nan,        nan,        nan,\n",
            "              nan, 0.03470311,        nan, 0.02729802, 0.02729802,\n",
            "              nan,        nan,        nan,        nan,        nan,\n",
            "       0.02729802, 0.03749462,        nan,        nan,        nan,\n",
            "              nan,        nan,        nan,        nan,        nan,\n",
            "              nan,        nan,        nan,        nan,        nan,\n",
            "       0.02696908, 0.02729802,        nan,        nan,        nan,\n",
            "       0.02729802, 0.03485868, 0.03749462,        nan, 0.02729802,\n",
            "       0.03749462,        nan,        nan, 0.02696908,        nan]), 'rank_test_score': array([27, 35, 35, 35, 35, 27, 35, 35, 35, 35, 10, 35, 35, 27,  7, 35, 35,\n",
            "       10, 35, 10, 10, 10, 27, 35, 10, 35, 27, 35,  1, 35, 10, 35, 35, 10,\n",
            "        1, 35, 35, 35, 10, 10, 35, 35, 35, 35, 35, 35, 35, 35, 35, 35, 35,\n",
            "       35, 35,  7, 27, 35, 10, 35, 35, 35, 35,  6, 35, 10, 10, 35, 35, 35,\n",
            "       35, 35, 10,  1, 35, 35, 35, 35, 35, 35, 35, 35, 35, 35, 35, 35, 35,\n",
            "       27, 10, 35, 35, 35, 10,  7,  1, 35, 10,  1, 35, 35, 27, 35],\n",
            "      dtype=int32)}\n"
          ]
        }
      ]
    },
    {
      "cell_type": "code",
      "source": [
        "print('\\n Best estimator:')\n",
        "print(knn_randomcv.best_estimator_)"
      ],
      "metadata": {
        "colab": {
          "base_uri": "https://localhost:8080/"
        },
        "id": "26m4c2f3Dsj3",
        "outputId": "672695e5-9b95-47ae-d246-9766a1b47680"
      },
      "execution_count": 51,
      "outputs": [
        {
          "output_type": "stream",
          "name": "stdout",
          "text": [
            "\n",
            " Best estimator:\n",
            "KNeighborsClassifier(algorithm='kd_tree', leaf_size=778, n_neighbors=223,\n",
            "                     weights='distance')\n"
          ]
        }
      ]
    },
    {
      "cell_type": "code",
      "source": [
        "print('\\n Best hyperparameters:')\n",
        "print(knn_randomcv.best_params_)"
      ],
      "metadata": {
        "colab": {
          "base_uri": "https://localhost:8080/"
        },
        "id": "RU089NMDD2i7",
        "outputId": "4ece15ef-8d33-4d54-a8aa-d95477209af7"
      },
      "execution_count": 52,
      "outputs": [
        {
          "output_type": "stream",
          "name": "stdout",
          "text": [
            "\n",
            " Best hyperparameters:\n",
            "{'weights': 'distance', 'n_neighbors': 223, 'leaf_size': 778, 'algorithm': 'kd_tree'}\n"
          ]
        }
      ]
    },
    {
      "cell_type": "code",
      "source": [
        "from sklearn import neighbors\n",
        "\n",
        "knn = neighbors.KNeighborsClassifier(weights='distance', n_neighbors= 223, leaf_size=778, algorithm='kd_tree')\n",
        "knn.fit(X_train,y_train)"
      ],
      "metadata": {
        "colab": {
          "base_uri": "https://localhost:8080/",
          "height": 91
        },
        "id": "um3AkranD4u-",
        "outputId": "0eb6353a-538b-4363-8842-9667694db57c"
      },
      "execution_count": 53,
      "outputs": [
        {
          "output_type": "execute_result",
          "data": {
            "text/plain": [
              "KNeighborsClassifier(algorithm='kd_tree', leaf_size=778, n_neighbors=223,\n",
              "                     weights='distance')"
            ],
            "text/html": [
              "<style>#sk-container-id-2 {color: black;background-color: white;}#sk-container-id-2 pre{padding: 0;}#sk-container-id-2 div.sk-toggleable {background-color: white;}#sk-container-id-2 label.sk-toggleable__label {cursor: pointer;display: block;width: 100%;margin-bottom: 0;padding: 0.3em;box-sizing: border-box;text-align: center;}#sk-container-id-2 label.sk-toggleable__label-arrow:before {content: \"▸\";float: left;margin-right: 0.25em;color: #696969;}#sk-container-id-2 label.sk-toggleable__label-arrow:hover:before {color: black;}#sk-container-id-2 div.sk-estimator:hover label.sk-toggleable__label-arrow:before {color: black;}#sk-container-id-2 div.sk-toggleable__content {max-height: 0;max-width: 0;overflow: hidden;text-align: left;background-color: #f0f8ff;}#sk-container-id-2 div.sk-toggleable__content pre {margin: 0.2em;color: black;border-radius: 0.25em;background-color: #f0f8ff;}#sk-container-id-2 input.sk-toggleable__control:checked~div.sk-toggleable__content {max-height: 200px;max-width: 100%;overflow: auto;}#sk-container-id-2 input.sk-toggleable__control:checked~label.sk-toggleable__label-arrow:before {content: \"▾\";}#sk-container-id-2 div.sk-estimator input.sk-toggleable__control:checked~label.sk-toggleable__label {background-color: #d4ebff;}#sk-container-id-2 div.sk-label input.sk-toggleable__control:checked~label.sk-toggleable__label {background-color: #d4ebff;}#sk-container-id-2 input.sk-hidden--visually {border: 0;clip: rect(1px 1px 1px 1px);clip: rect(1px, 1px, 1px, 1px);height: 1px;margin: -1px;overflow: hidden;padding: 0;position: absolute;width: 1px;}#sk-container-id-2 div.sk-estimator {font-family: monospace;background-color: #f0f8ff;border: 1px dotted black;border-radius: 0.25em;box-sizing: border-box;margin-bottom: 0.5em;}#sk-container-id-2 div.sk-estimator:hover {background-color: #d4ebff;}#sk-container-id-2 div.sk-parallel-item::after {content: \"\";width: 100%;border-bottom: 1px solid gray;flex-grow: 1;}#sk-container-id-2 div.sk-label:hover label.sk-toggleable__label {background-color: #d4ebff;}#sk-container-id-2 div.sk-serial::before {content: \"\";position: absolute;border-left: 1px solid gray;box-sizing: border-box;top: 0;bottom: 0;left: 50%;z-index: 0;}#sk-container-id-2 div.sk-serial {display: flex;flex-direction: column;align-items: center;background-color: white;padding-right: 0.2em;padding-left: 0.2em;position: relative;}#sk-container-id-2 div.sk-item {position: relative;z-index: 1;}#sk-container-id-2 div.sk-parallel {display: flex;align-items: stretch;justify-content: center;background-color: white;position: relative;}#sk-container-id-2 div.sk-item::before, #sk-container-id-2 div.sk-parallel-item::before {content: \"\";position: absolute;border-left: 1px solid gray;box-sizing: border-box;top: 0;bottom: 0;left: 50%;z-index: -1;}#sk-container-id-2 div.sk-parallel-item {display: flex;flex-direction: column;z-index: 1;position: relative;background-color: white;}#sk-container-id-2 div.sk-parallel-item:first-child::after {align-self: flex-end;width: 50%;}#sk-container-id-2 div.sk-parallel-item:last-child::after {align-self: flex-start;width: 50%;}#sk-container-id-2 div.sk-parallel-item:only-child::after {width: 0;}#sk-container-id-2 div.sk-dashed-wrapped {border: 1px dashed gray;margin: 0 0.4em 0.5em 0.4em;box-sizing: border-box;padding-bottom: 0.4em;background-color: white;}#sk-container-id-2 div.sk-label label {font-family: monospace;font-weight: bold;display: inline-block;line-height: 1.2em;}#sk-container-id-2 div.sk-label-container {text-align: center;}#sk-container-id-2 div.sk-container {/* jupyter's `normalize.less` sets `[hidden] { display: none; }` but bootstrap.min.css set `[hidden] { display: none !important; }` so we also need the `!important` here to be able to override the default hidden behavior on the sphinx rendered scikit-learn.org. See: https://github.com/scikit-learn/scikit-learn/issues/21755 */display: inline-block !important;position: relative;}#sk-container-id-2 div.sk-text-repr-fallback {display: none;}</style><div id=\"sk-container-id-2\" class=\"sk-top-container\"><div class=\"sk-text-repr-fallback\"><pre>KNeighborsClassifier(algorithm=&#x27;kd_tree&#x27;, leaf_size=778, n_neighbors=223,\n",
              "                     weights=&#x27;distance&#x27;)</pre><b>In a Jupyter environment, please rerun this cell to show the HTML representation or trust the notebook. <br />On GitHub, the HTML representation is unable to render, please try loading this page with nbviewer.org.</b></div><div class=\"sk-container\" hidden><div class=\"sk-item\"><div class=\"sk-estimator sk-toggleable\"><input class=\"sk-toggleable__control sk-hidden--visually\" id=\"sk-estimator-id-4\" type=\"checkbox\" checked><label for=\"sk-estimator-id-4\" class=\"sk-toggleable__label sk-toggleable__label-arrow\">KNeighborsClassifier</label><div class=\"sk-toggleable__content\"><pre>KNeighborsClassifier(algorithm=&#x27;kd_tree&#x27;, leaf_size=778, n_neighbors=223,\n",
              "                     weights=&#x27;distance&#x27;)</pre></div></div></div></div></div>"
            ]
          },
          "metadata": {},
          "execution_count": 53
        }
      ]
    },
    {
      "cell_type": "code",
      "source": [
        "y_pred_knn = knn.predict(X_test)\n",
        "model_report(y_test, y_pred_knn)"
      ],
      "metadata": {
        "colab": {
          "base_uri": "https://localhost:8080/"
        },
        "id": "u-J4PhjREEUG",
        "outputId": "14812e09-ce3a-405e-c07d-b55edbef457f"
      },
      "execution_count": 54,
      "outputs": [
        {
          "output_type": "stream",
          "name": "stdout",
          "text": [
            "Accuracy =  0.9605263157894737\n",
            "Precision =  0.9361702127659575\n",
            "Recall\\Sensitivity =  1.0\n",
            "Specificity =  0.90625\n",
            "F1 Score =  0.967032967032967\n",
            "AUC Score = 0.953125\n",
            "Kappa score =  0.9179856115107914\n",
            "Log Loss =  1.4227757916756774 \n",
            "\n"
          ]
        }
      ]
    },
    {
      "cell_type": "code",
      "source": [
        "title = \"Learning Curves (KNeighborsClassifier)\"                                        # fill this in\n",
        "cv = ShuffleSplit(n_splits=5, test_size=0.2, random_state=42)\n",
        "knn = neighbors.KNeighborsClassifier(weights='distance', n_neighbors= 223, leaf_size=778, algorithm='kd_tree')                                 # fill this in\n",
        "plot_learning_curve(knn, title, X, y, ylim=(0.2, 1.25), cv=cv, n_jobs=4)\n",
        "plt.savefig('KNN_curve.pdf', transparent=True, dpi=300)\n",
        "plt.savefig('KNN_curve.eps', transparent=True, dpi=300)\n",
        "plt.show()"
      ],
      "metadata": {
        "colab": {
          "base_uri": "https://localhost:8080/",
          "height": 312
        },
        "id": "Z_54FOHfAAsm",
        "outputId": "c7161f57-ed82-4d0f-b9fb-15f4b5dd6808"
      },
      "execution_count": 55,
      "outputs": [
        {
          "output_type": "stream",
          "name": "stderr",
          "text": [
            "WARNING:matplotlib.backends.backend_ps:The PostScript backend does not support transparency; partially transparent artists will be rendered opaque.\n"
          ]
        },
        {
          "output_type": "display_data",
          "data": {
            "text/plain": [
              "<Figure size 432x288 with 1 Axes>"
            ],
            "image/png": "[encoded data removed]"
          },
          "metadata": {
            "needs_background": "light"
          }
        }
      ]
    },
    {
      "cell_type": "code",
      "source": [
        "from sklearn.metrics import confusion_matrix\n",
        "\n",
        "cm = confusion_matrix(y_test, y_pred_knn)\n",
        "plt.figure(figsize=(10, 8))\n",
        "ax = sns.heatmap(cm, cmap=plt.cm.Greens, annot=True, square=True, annot_kws={\"size\": 25})\n",
        "plt.title('Confusion Matrix', fontsize=20)\n",
        "ax.set_ylabel('Actual Label', fontsize=20)\n",
        "ax.set_xlabel('Predicted Label', fontsize=20)\n",
        "plt.savefig('KNN_confusion.pdf', transparent=True, dpi=300)\n",
        "plt.savefig('KNN_confusion.eps', transparent=True, dpi=300)"
      ],
      "metadata": {
        "colab": {
          "base_uri": "https://localhost:8080/",
          "height": 527
        },
        "id": "xMRDIUAMBuuS",
        "outputId": "eaf7ad93-a977-4084-93f0-cbdcf3835bb4"
      },
      "execution_count": 56,
      "outputs": [
        {
          "output_type": "display_data",
          "data": {
            "text/plain": [
              "<Figure size 720x576 with 2 Axes>"
            ],
            "image/png": "[encoded data removed]"
          },
          "metadata": {
            "needs_background": "light"
          }
        }
      ]
    },
    {
      "cell_type": "markdown",
      "source": [
        "##SVM Classifier"
      ],
      "metadata": {
        "id": "Rr-jJ-D1G1I1"
      }
    },
    {
      "cell_type": "code",
      "source": [
        "from sklearn.model_selection import RandomizedSearchCV\n",
        "\n",
        "C = [int(x) for x in np.linspace(start = 1, stop = 20, num = 10)]\n",
        "kernel = ['linear', 'poly', 'rbf', 'sigmoid']\n",
        "degree = [int(x) for x in np.linspace(start = 1, stop = 10, num = 10)]\n",
        "\n",
        "random_grid = {'C':C,\n",
        "               'kernel':kernel,\n",
        "               'degree':degree}\n",
        "print(random_grid)"
      ],
      "metadata": {
        "colab": {
          "base_uri": "https://localhost:8080/"
        },
        "id": "zXVwGuQXEX42",
        "outputId": "fa6e0923-ce9c-4958-9532-b14ca600944b"
      },
      "execution_count": 57,
      "outputs": [
        {
          "output_type": "stream",
          "name": "stdout",
          "text": [
            "{'C': [1, 3, 5, 7, 9, 11, 13, 15, 17, 20], 'kernel': ['linear', 'poly', 'rbf', 'sigmoid'], 'degree': [1, 2, 3, 4, 5, 6, 7, 8, 9, 10]}\n"
          ]
        }
      ]
    },
    {
      "cell_type": "code",
      "source": [
        "from sklearn.svm import SVC\n",
        "svc = SVC()\n",
        "svc_randomcv=RandomizedSearchCV(estimator= svc, param_distributions=random_grid, n_iter=100, cv=5, verbose=2,\n",
        "                               random_state=100,n_jobs=-1)\n",
        "#fit the randomized model\n",
        "svc_randomcv.fit(X_train,y_train)"
      ],
      "metadata": {
        "colab": {
          "base_uri": "https://localhost:8080/",
          "height": 132
        },
        "id": "kPu0W_hDEbut",
        "outputId": "e58e929b-7eb7-4b9d-9b7b-6686a10b1390"
      },
      "execution_count": 58,
      "outputs": [
        {
          "output_type": "stream",
          "name": "stdout",
          "text": [
            "Fitting 5 folds for each of 100 candidates, totalling 500 fits\n"
          ]
        },
        {
          "output_type": "execute_result",
          "data": {
            "text/plain": [
              "RandomizedSearchCV(cv=5, estimator=SVC(), n_iter=100, n_jobs=-1,\n",
              "                   param_distributions={'C': [1, 3, 5, 7, 9, 11, 13, 15, 17,\n",
              "                                              20],\n",
              "                                        'degree': [1, 2, 3, 4, 5, 6, 7, 8, 9,\n",
              "                                                   10],\n",
              "                                        'kernel': ['linear', 'poly', 'rbf',\n",
              "                                                   'sigmoid']},\n",
              "                   random_state=100, verbose=2)"
            ],
            "text/html": [
              "<style>#sk-container-id-3 {color: black;background-color: white;}#sk-container-id-3 pre{padding: 0;}#sk-container-id-3 div.sk-toggleable {background-color: white;}#sk-container-id-3 label.sk-toggleable__label {cursor: pointer;display: block;width: 100%;margin-bottom: 0;padding: 0.3em;box-sizing: border-box;text-align: center;}#sk-container-id-3 label.sk-toggleable__label-arrow:before {content: \"▸\";float: left;margin-right: 0.25em;color: #696969;}#sk-container-id-3 label.sk-toggleable__label-arrow:hover:before {color: black;}#sk-container-id-3 div.sk-estimator:hover label.sk-toggleable__label-arrow:before {color: black;}#sk-container-id-3 div.sk-toggleable__content {max-height: 0;max-width: 0;overflow: hidden;text-align: left;background-color: #f0f8ff;}#sk-container-id-3 div.sk-toggleable__content pre {margin: 0.2em;color: black;border-radius: 0.25em;background-color: #f0f8ff;}#sk-container-id-3 input.sk-toggleable__control:checked~div.sk-toggleable__content {max-height: 200px;max-width: 100%;overflow: auto;}#sk-container-id-3 input.sk-toggleable__control:checked~label.sk-toggleable__label-arrow:before {content: \"▾\";}#sk-container-id-3 div.sk-estimator input.sk-toggleable__control:checked~label.sk-toggleable__label {background-color: #d4ebff;}#sk-container-id-3 div.sk-label input.sk-toggleable__control:checked~label.sk-toggleable__label {background-color: #d4ebff;}#sk-container-id-3 input.sk-hidden--visually {border: 0;clip: rect(1px 1px 1px 1px);clip: rect(1px, 1px, 1px, 1px);height: 1px;margin: -1px;overflow: hidden;padding: 0;position: absolute;width: 1px;}#sk-container-id-3 div.sk-estimator {font-family: monospace;background-color: #f0f8ff;border: 1px dotted black;border-radius: 0.25em;box-sizing: border-box;margin-bottom: 0.5em;}#sk-container-id-3 div.sk-estimator:hover {background-color: #d4ebff;}#sk-container-id-3 div.sk-parallel-item::after {content: \"\";width: 100%;border-bottom: 1px solid gray;flex-grow: 1;}#sk-container-id-3 div.sk-label:hover label.sk-toggleable__label {background-color: #d4ebff;}#sk-container-id-3 div.sk-serial::before {content: \"\";position: absolute;border-left: 1px solid gray;box-sizing: border-box;top: 0;bottom: 0;left: 50%;z-index: 0;}#sk-container-id-3 div.sk-serial {display: flex;flex-direction: column;align-items: center;background-color: white;padding-right: 0.2em;padding-left: 0.2em;position: relative;}#sk-container-id-3 div.sk-item {position: relative;z-index: 1;}#sk-container-id-3 div.sk-parallel {display: flex;align-items: stretch;justify-content: center;background-color: white;position: relative;}#sk-container-id-3 div.sk-item::before, #sk-container-id-3 div.sk-parallel-item::before {content: \"\";position: absolute;border-left: 1px solid gray;box-sizing: border-box;top: 0;bottom: 0;left: 50%;z-index: -1;}#sk-container-id-3 div.sk-parallel-item {display: flex;flex-direction: column;z-index: 1;position: relative;background-color: white;}#sk-container-id-3 div.sk-parallel-item:first-child::after {align-self: flex-end;width: 50%;}#sk-container-id-3 div.sk-parallel-item:last-child::after {align-self: flex-start;width: 50%;}#sk-container-id-3 div.sk-parallel-item:only-child::after {width: 0;}#sk-container-id-3 div.sk-dashed-wrapped {border: 1px dashed gray;margin: 0 0.4em 0.5em 0.4em;box-sizing: border-box;padding-bottom: 0.4em;background-color: white;}#sk-container-id-3 div.sk-label label {font-family: monospace;font-weight: bold;display: inline-block;line-height: 1.2em;}#sk-container-id-3 div.sk-label-container {text-align: center;}#sk-container-id-3 div.sk-container {/* jupyter's `normalize.less` sets `[hidden] { display: none; }` but bootstrap.min.css set `[hidden] { display: none !important; }` so we also need the `!important` here to be able to override the default hidden behavior on the sphinx rendered scikit-learn.org. See: https://github.com/scikit-learn/scikit-learn/issues/21755 */display: inline-block !important;position: relative;}#sk-container-id-3 div.sk-text-repr-fallback {display: none;}</style><div id=\"sk-container-id-3\" class=\"sk-top-container\"><div class=\"sk-text-repr-fallback\"><pre>RandomizedSearchCV(cv=5, estimator=SVC(), n_iter=100, n_jobs=-1,\n",
              "                   param_distributions={&#x27;C&#x27;: [1, 3, 5, 7, 9, 11, 13, 15, 17,\n",
              "                                              20],\n",
              "                                        &#x27;degree&#x27;: [1, 2, 3, 4, 5, 6, 7, 8, 9,\n",
              "                                                   10],\n",
              "                                        &#x27;kernel&#x27;: [&#x27;linear&#x27;, &#x27;poly&#x27;, &#x27;rbf&#x27;,\n",
              "                                                   &#x27;sigmoid&#x27;]},\n",
              "                   random_state=100, verbose=2)</pre><b>In a Jupyter environment, please rerun this cell to show the HTML representation or trust the notebook. <br />On GitHub, the HTML representation is unable to render, please try loading this page with nbviewer.org.</b></div><div class=\"sk-container\" hidden><div class=\"sk-item sk-dashed-wrapped\"><div class=\"sk-label-container\"><div class=\"sk-label sk-toggleable\"><input class=\"sk-toggleable__control sk-hidden--visually\" id=\"sk-estimator-id-5\" type=\"checkbox\" ><label for=\"sk-estimator-id-5\" class=\"sk-toggleable__label sk-toggleable__label-arrow\">RandomizedSearchCV</label><div class=\"sk-toggleable__content\"><pre>RandomizedSearchCV(cv=5, estimator=SVC(), n_iter=100, n_jobs=-1,\n",
              "                   param_distributions={&#x27;C&#x27;: [1, 3, 5, 7, 9, 11, 13, 15, 17,\n",
              "                                              20],\n",
              "                                        &#x27;degree&#x27;: [1, 2, 3, 4, 5, 6, 7, 8, 9,\n",
              "                                                   10],\n",
              "                                        &#x27;kernel&#x27;: [&#x27;linear&#x27;, &#x27;poly&#x27;, &#x27;rbf&#x27;,\n",
              "                                                   &#x27;sigmoid&#x27;]},\n",
              "                   random_state=100, verbose=2)</pre></div></div></div><div class=\"sk-parallel\"><div class=\"sk-parallel-item\"><div class=\"sk-item\"><div class=\"sk-label-container\"><div class=\"sk-label sk-toggleable\"><input class=\"sk-toggleable__control sk-hidden--visually\" id=\"sk-estimator-id-6\" type=\"checkbox\" ><label for=\"sk-estimator-id-6\" class=\"sk-toggleable__label sk-toggleable__label-arrow\">estimator: SVC</label><div class=\"sk-toggleable__content\"><pre>SVC()</pre></div></div></div><div class=\"sk-serial\"><div class=\"sk-item\"><div class=\"sk-estimator sk-toggleable\"><input class=\"sk-toggleable__control sk-hidden--visually\" id=\"sk-estimator-id-7\" type=\"checkbox\" ><label for=\"sk-estimator-id-7\" class=\"sk-toggleable__label sk-toggleable__label-arrow\">SVC</label><div class=\"sk-toggleable__content\"><pre>SVC()</pre></div></div></div></div></div></div></div></div></div></div>"
            ]
          },
          "metadata": {},
          "execution_count": 58
        }
      ]
    },
    {
      "cell_type": "code",
      "source": [
        "print('\\n All results:')\n",
        "print(svc_randomcv.cv_results_)"
      ],
      "metadata": {
        "colab": {
          "base_uri": "https://localhost:8080/"
        },
        "id": "IAMf8GENEddK",
        "outputId": "0847363e-fd61-4b0f-a773-e476ed8732ef"
      },
      "execution_count": 59,
      "outputs": [
        {
          "output_type": "stream",
          "name": "stdout",
          "text": [
            "\n",
            " All results:\n",
            "{'mean_fit_time': array([0.00522876, 0.0043077 , 0.0033998 , 0.00345421, 0.00343561,\n",
            "       0.00448265, 0.00294943, 0.00410504, 0.00683455, 0.00288982,\n",
            "       0.0039741 , 0.00291061, 0.00358481, 0.00489116, 0.00354929,\n",
            "       0.00356483, 0.00288687, 0.00374203, 0.00334525, 0.00708847,\n",
            "       0.0040381 , 0.00342889, 0.00364394, 0.00313134, 0.00324512,\n",
            "       0.00439076, 0.00625916, 0.00415597, 0.00301776, 0.00633979,\n",
            "       0.00370903, 0.00376387, 0.00381503, 0.00325885, 0.00321674,\n",
            "       0.00448351, 0.0064599 , 0.00456233, 0.00296073, 0.00793796,\n",
            "       0.00332088, 0.00444069, 0.00494919, 0.00281715, 0.0035727 ,\n",
            "       0.00345726, 0.00574117, 0.00391726, 0.00359626, 0.00364757,\n",
            "       0.00418758, 0.00440402, 0.0056869 , 0.00733023, 0.00357528,\n",
            "       0.00349493, 0.00516376, 0.00479541, 0.00321913, 0.00589137,\n",
            "       0.00304942, 0.00276799, 0.00395832, 0.00427809, 0.00385971,\n",
            "       0.00454192, 0.00399675, 0.00290403, 0.00387545, 0.00355625,\n",
            "       0.004182  , 0.00337639, 0.00293064, 0.00397744, 0.00298085,\n",
            "       0.00388741, 0.00388374, 0.00530834, 0.00384798, 0.00536404,\n",
            "       0.00363822, 0.00353465, 0.00381241, 0.00449414, 0.00335832,\n",
            "       0.00774875, 0.00433235, 0.00407448, 0.00530581, 0.01224432,\n",
            "       0.00369754, 0.00442405, 0.00557132, 0.00437899, 0.00593123,\n",
            "       0.00361285, 0.00649796, 0.00774131, 0.00535955, 0.00546007]), 'std_fit_time': array([3.10586858e-03, 5.23781676e-04, 1.07028158e-04, 9.18840223e-04,\n",
            "       1.21368804e-03, 7.61964780e-04, 5.29095391e-04, 8.05919456e-04,\n",
            "       5.06646156e-03, 1.67487407e-04, 1.60294034e-03, 4.73550989e-04,\n",
            "       1.35283450e-04, 6.29668712e-04, 6.43870374e-05, 1.51165276e-04,\n",
            "       5.24809922e-04, 2.23737330e-04, 9.85754387e-04, 4.21397650e-03,\n",
            "       7.92188774e-04, 2.22020696e-04, 3.35742882e-04, 6.69482535e-04,\n",
            "       1.06343193e-03, 2.72687091e-04, 2.40750611e-03, 2.22112550e-04,\n",
            "       1.45358519e-04, 4.99570642e-04, 1.63448858e-04, 2.71595386e-04,\n",
            "       1.07945823e-04, 7.03135359e-04, 4.89677472e-04, 4.97776414e-04,\n",
            "       7.11684904e-04, 8.46739311e-04, 2.36175110e-04, 3.89034276e-03,\n",
            "       6.91250147e-04, 5.48296647e-04, 2.97349382e-04, 1.64348552e-04,\n",
            "       1.64719875e-04, 9.99249866e-04, 3.52371096e-03, 8.29642522e-04,\n",
            "       9.43158586e-05, 9.21611636e-05, 1.59548459e-04, 3.69194735e-04,\n",
            "       3.40826886e-03, 5.97164131e-03, 1.83185818e-04, 1.78568825e-04,\n",
            "       1.62832294e-03, 1.03721457e-03, 4.61066618e-04, 2.87391515e-03,\n",
            "       5.71913613e-04, 1.68240381e-04, 1.93796594e-04, 1.03464275e-03,\n",
            "       1.49399664e-04, 2.61454007e-03, 3.59760462e-04, 4.87179174e-04,\n",
            "       2.63104010e-04, 1.47189907e-04, 2.92734468e-04, 5.68705282e-04,\n",
            "       1.53032712e-04, 1.42443208e-04, 2.88307379e-04, 6.52749229e-04,\n",
            "       5.82998329e-04, 3.25759001e-03, 1.85534734e-04, 1.45123180e-03,\n",
            "       1.25156847e-04, 1.26104507e-04, 3.52066560e-04, 2.00509921e-03,\n",
            "       8.22665045e-04, 3.96045160e-03, 2.45993909e-03, 2.21850383e-04,\n",
            "       8.84749193e-04, 3.34911787e-03, 8.45178167e-04, 2.87011371e-03,\n",
            "       2.80931336e-03, 9.52900267e-04, 3.73555475e-03, 9.97451879e-04,\n",
            "       3.37288817e-03, 5.09257652e-03, 2.21656028e-03, 1.99158893e-03]), 'mean_score_time': array([0.00102611, 0.00160236, 0.00118656, 0.00108919, 0.00094228,\n",
            "       0.00138488, 0.00088   , 0.00206184, 0.00178638, 0.00106158,\n",
            "       0.00206585, 0.00099025, 0.00145907, 0.00170174, 0.00130763,\n",
            "       0.00150571, 0.00087652, 0.00124202, 0.00089383, 0.00149226,\n",
            "       0.00257158, 0.00121942, 0.00152197, 0.00091724, 0.00089755,\n",
            "       0.00139933, 0.00259624, 0.00127702, 0.00107274, 0.00183258,\n",
            "       0.00144773, 0.0015759 , 0.00163903, 0.0009913 , 0.00097342,\n",
            "       0.00129747, 0.00183802, 0.00127482, 0.0010498 , 0.00243306,\n",
            "       0.00095572, 0.00170159, 0.001475  , 0.00104566, 0.00175018,\n",
            "       0.00092735, 0.00173488, 0.00146365, 0.00126276, 0.00146613,\n",
            "       0.00138836, 0.0013092 , 0.00235567, 0.00216684, 0.00143514,\n",
            "       0.00141263, 0.001196  , 0.00188637, 0.00096331, 0.00131712,\n",
            "       0.00089474, 0.00106487, 0.0011806 , 0.00155602, 0.00164666,\n",
            "       0.00122705, 0.00135641, 0.00093431, 0.00154386, 0.00141153,\n",
            "       0.00125566, 0.0009553 , 0.00099287, 0.00150328, 0.00114861,\n",
            "       0.00142775, 0.00144997, 0.00154252, 0.00127039, 0.00194101,\n",
            "       0.00170054, 0.00141964, 0.00156736, 0.00121889, 0.00097342,\n",
            "       0.00125837, 0.00112844, 0.0012774 , 0.0014421 , 0.00172353,\n",
            "       0.00230765, 0.00109229, 0.00293298, 0.00319576, 0.00089846,\n",
            "       0.00091085, 0.00157347, 0.00152407, 0.00148339, 0.00388656]), 'std_score_time': array([1.98790855e-04, 1.69189686e-04, 2.33749446e-05, 3.05028969e-05,\n",
            "       3.47729717e-05, 2.24730758e-04, 3.95162522e-05, 1.11704383e-03,\n",
            "       8.26617790e-04, 8.33678011e-05, 1.61923957e-03, 9.86955702e-05,\n",
            "       8.54445620e-05, 6.64261316e-04, 2.48168890e-05, 1.52338734e-04,\n",
            "       4.34326675e-05, 4.70439430e-05, 3.67514332e-05, 1.00863515e-04,\n",
            "       2.05681794e-03, 2.50684863e-05, 8.50103970e-05, 3.38683305e-05,\n",
            "       4.38637316e-05, 5.85280270e-05, 2.39684396e-03, 5.63504518e-05,\n",
            "       3.14931360e-05, 8.40782502e-05, 1.11955983e-04, 1.69040044e-04,\n",
            "       1.10316830e-04, 6.48350208e-05, 1.76754215e-05, 8.55451709e-05,\n",
            "       9.83526084e-05, 7.14686485e-05, 4.07282581e-05, 1.89522303e-03,\n",
            "       9.85439798e-05, 2.82882011e-04, 8.50629378e-05, 3.96218109e-05,\n",
            "       5.84654382e-04, 2.09573050e-05, 1.63250292e-03, 4.07007819e-05,\n",
            "       9.25598040e-05, 5.88913388e-05, 1.40845896e-04, 1.04482997e-04,\n",
            "       2.22782320e-03, 1.87112470e-03, 3.97797798e-04, 4.67886363e-05,\n",
            "       2.41175920e-05, 5.34417061e-04, 4.16343559e-05, 1.02301920e-04,\n",
            "       9.77029214e-05, 4.36488619e-05, 6.64207632e-05, 2.15983158e-04,\n",
            "       1.23153810e-04, 1.26712295e-04, 8.04943495e-05, 5.34511697e-05,\n",
            "       1.08885387e-04, 3.42094024e-05, 2.94716997e-05, 3.64134410e-05,\n",
            "       3.09410369e-05, 4.39081598e-04, 4.19588522e-05, 5.21679465e-05,\n",
            "       5.27629742e-05, 1.31316434e-04, 3.42024228e-05, 5.73528138e-04,\n",
            "       4.41417447e-04, 4.41306543e-05, 8.68936783e-05, 6.95362981e-05,\n",
            "       6.04258989e-05, 5.94026959e-05, 4.69729378e-05, 6.48002926e-05,\n",
            "       8.63029942e-05, 5.71451088e-05, 1.74922524e-03, 4.26284168e-04,\n",
            "       3.25943027e-03, 3.79633688e-03, 3.63938288e-05, 6.21592673e-05,\n",
            "       5.18508143e-04, 1.99112581e-04, 1.64193695e-04, 3.11590953e-03]), 'param_kernel': masked_array(data=['linear', 'rbf', 'poly', 'poly', 'linear', 'sigmoid',\n",
            "                   'linear', 'rbf', 'sigmoid', 'poly', 'poly', 'linear',\n",
            "                   'rbf', 'sigmoid', 'rbf', 'rbf', 'linear', 'sigmoid',\n",
            "                   'linear', 'sigmoid', 'rbf', 'poly', 'rbf', 'linear',\n",
            "                   'linear', 'poly', 'sigmoid', 'sigmoid', 'linear',\n",
            "                   'sigmoid', 'rbf', 'rbf', 'rbf', 'poly', 'linear',\n",
            "                   'sigmoid', 'sigmoid', 'sigmoid', 'poly', 'rbf',\n",
            "                   'linear', 'rbf', 'sigmoid', 'poly', 'rbf', 'linear',\n",
            "                   'linear', 'rbf', 'poly', 'rbf', 'poly', 'sigmoid',\n",
            "                   'poly', 'poly', 'poly', 'rbf', 'sigmoid', 'poly',\n",
            "                   'linear', 'poly', 'linear', 'poly', 'sigmoid', 'rbf',\n",
            "                   'rbf', 'poly', 'sigmoid', 'linear', 'rbf', 'rbf',\n",
            "                   'sigmoid', 'linear', 'linear', 'poly', 'poly', 'rbf',\n",
            "                   'rbf', 'rbf', 'sigmoid', 'poly', 'rbf', 'rbf', 'rbf',\n",
            "                   'poly', 'poly', 'sigmoid', 'poly', 'sigmoid', 'poly',\n",
            "                   'sigmoid', 'poly', 'linear', 'sigmoid', 'sigmoid',\n",
            "                   'linear', 'linear', 'sigmoid', 'rbf', 'rbf', 'rbf'],\n",
            "             mask=[False, False, False, False, False, False, False, False,\n",
            "                   False, False, False, False, False, False, False, False,\n",
            "                   False, False, False, False, False, False, False, False,\n",
            "                   False, False, False, False, False, False, False, False,\n",
            "                   False, False, False, False, False, False, False, False,\n",
            "                   False, False, False, False, False, False, False, False,\n",
            "                   False, False, False, False, False, False, False, False,\n",
            "                   False, False, False, False, False, False, False, False,\n",
            "                   False, False, False, False, False, False, False, False,\n",
            "                   False, False, False, False, False, False, False, False,\n",
            "                   False, False, False, False, False, False, False, False,\n",
            "                   False, False, False, False, False, False, False, False,\n",
            "                   False, False, False, False],\n",
            "       fill_value='?',\n",
            "            dtype=object), 'param_degree': masked_array(data=[3, 10, 4, 2, 7, 9, 2, 1, 8, 3, 2, 5, 6, 6, 3, 10, 10,\n",
            "                   9, 5, 1, 9, 5, 10, 6, 9, 9, 2, 9, 5, 6, 5, 1, 5, 1, 4,\n",
            "                   8, 2, 6, 3, 10, 5, 4, 9, 3, 5, 8, 3, 4, 7, 2, 9, 8, 5,\n",
            "                   1, 6, 9, 7, 6, 3, 9, 6, 2, 7, 4, 10, 4, 7, 2, 5, 6, 7,\n",
            "                   2, 7, 8, 2, 10, 2, 10, 7, 8, 8, 2, 3, 5, 1, 9, 4, 8,\n",
            "                   10, 7, 1, 8, 10, 4, 7, 6, 8, 8, 3, 2],\n",
            "             mask=[False, False, False, False, False, False, False, False,\n",
            "                   False, False, False, False, False, False, False, False,\n",
            "                   False, False, False, False, False, False, False, False,\n",
            "                   False, False, False, False, False, False, False, False,\n",
            "                   False, False, False, False, False, False, False, False,\n",
            "                   False, False, False, False, False, False, False, False,\n",
            "                   False, False, False, False, False, False, False, False,\n",
            "                   False, False, False, False, False, False, False, False,\n",
            "                   False, False, False, False, False, False, False, False,\n",
            "                   False, False, False, False, False, False, False, False,\n",
            "                   False, False, False, False, False, False, False, False,\n",
            "                   False, False, False, False, False, False, False, False,\n",
            "                   False, False, False, False],\n",
            "       fill_value='?',\n",
            "            dtype=object), 'param_C': masked_array(data=[13, 15, 9, 15, 9, 11, 7, 15, 7, 9, 7, 15, 17, 5, 20,\n",
            "                   13, 11, 15, 5, 3, 15, 5, 3, 7, 13, 7, 7, 13, 3, 1, 5,\n",
            "                   13, 1, 11, 15, 13, 1, 13, 7, 5, 7, 3, 3, 20, 13, 1, 11,\n",
            "                   7, 11, 11, 1, 11, 11, 1, 20, 20, 17, 1, 15, 20, 13, 11,\n",
            "                   20, 9, 7, 17, 15, 13, 9, 15, 9, 17, 3, 7, 1, 17, 9, 9,\n",
            "                   13, 3, 9, 3, 3, 20, 7, 9, 7, 9, 9, 1, 13, 17, 13, 17,\n",
            "                   17, 20, 15, 5, 5, 1],\n",
            "             mask=[False, False, False, False, False, False, False, False,\n",
            "                   False, False, False, False, False, False, False, False,\n",
            "                   False, False, False, False, False, False, False, False,\n",
            "                   False, False, False, False, False, False, False, False,\n",
            "                   False, False, False, False, False, False, False, False,\n",
            "                   False, False, False, False, False, False, False, False,\n",
            "                   False, False, False, False, False, False, False, False,\n",
            "                   False, False, False, False, False, False, False, False,\n",
            "                   False, False, False, False, False, False, False, False,\n",
            "                   False, False, False, False, False, False, False, False,\n",
            "                   False, False, False, False, False, False, False, False,\n",
            "                   False, False, False, False, False, False, False, False,\n",
            "                   False, False, False, False],\n",
            "       fill_value='?',\n",
            "            dtype=object), 'params': [{'kernel': 'linear', 'degree': 3, 'C': 13}, {'kernel': 'rbf', 'degree': 10, 'C': 15}, {'kernel': 'poly', 'degree': 4, 'C': 9}, {'kernel': 'poly', 'degree': 2, 'C': 15}, {'kernel': 'linear', 'degree': 7, 'C': 9}, {'kernel': 'sigmoid', 'degree': 9, 'C': 11}, {'kernel': 'linear', 'degree': 2, 'C': 7}, {'kernel': 'rbf', 'degree': 1, 'C': 15}, {'kernel': 'sigmoid', 'degree': 8, 'C': 7}, {'kernel': 'poly', 'degree': 3, 'C': 9}, {'kernel': 'poly', 'degree': 2, 'C': 7}, {'kernel': 'linear', 'degree': 5, 'C': 15}, {'kernel': 'rbf', 'degree': 6, 'C': 17}, {'kernel': 'sigmoid', 'degree': 6, 'C': 5}, {'kernel': 'rbf', 'degree': 3, 'C': 20}, {'kernel': 'rbf', 'degree': 10, 'C': 13}, {'kernel': 'linear', 'degree': 10, 'C': 11}, {'kernel': 'sigmoid', 'degree': 9, 'C': 15}, {'kernel': 'linear', 'degree': 5, 'C': 5}, {'kernel': 'sigmoid', 'degree': 1, 'C': 3}, {'kernel': 'rbf', 'degree': 9, 'C': 15}, {'kernel': 'poly', 'degree': 5, 'C': 5}, {'kernel': 'rbf', 'degree': 10, 'C': 3}, {'kernel': 'linear', 'degree': 6, 'C': 7}, {'kernel': 'linear', 'degree': 9, 'C': 13}, {'kernel': 'poly', 'degree': 9, 'C': 7}, {'kernel': 'sigmoid', 'degree': 2, 'C': 7}, {'kernel': 'sigmoid', 'degree': 9, 'C': 13}, {'kernel': 'linear', 'degree': 5, 'C': 3}, {'kernel': 'sigmoid', 'degree': 6, 'C': 1}, {'kernel': 'rbf', 'degree': 5, 'C': 5}, {'kernel': 'rbf', 'degree': 1, 'C': 13}, {'kernel': 'rbf', 'degree': 5, 'C': 1}, {'kernel': 'poly', 'degree': 1, 'C': 11}, {'kernel': 'linear', 'degree': 4, 'C': 15}, {'kernel': 'sigmoid', 'degree': 8, 'C': 13}, {'kernel': 'sigmoid', 'degree': 2, 'C': 1}, {'kernel': 'sigmoid', 'degree': 6, 'C': 13}, {'kernel': 'poly', 'degree': 3, 'C': 7}, {'kernel': 'rbf', 'degree': 10, 'C': 5}, {'kernel': 'linear', 'degree': 5, 'C': 7}, {'kernel': 'rbf', 'degree': 4, 'C': 3}, {'kernel': 'sigmoid', 'degree': 9, 'C': 3}, {'kernel': 'poly', 'degree': 3, 'C': 20}, {'kernel': 'rbf', 'degree': 5, 'C': 13}, {'kernel': 'linear', 'degree': 8, 'C': 1}, {'kernel': 'linear', 'degree': 3, 'C': 11}, {'kernel': 'rbf', 'degree': 4, 'C': 7}, {'kernel': 'poly', 'degree': 7, 'C': 11}, {'kernel': 'rbf', 'degree': 2, 'C': 11}, {'kernel': 'poly', 'degree': 9, 'C': 1}, {'kernel': 'sigmoid', 'degree': 8, 'C': 11}, {'kernel': 'poly', 'degree': 5, 'C': 11}, {'kernel': 'poly', 'degree': 1, 'C': 1}, {'kernel': 'poly', 'degree': 6, 'C': 20}, {'kernel': 'rbf', 'degree': 9, 'C': 20}, {'kernel': 'sigmoid', 'degree': 7, 'C': 17}, {'kernel': 'poly', 'degree': 6, 'C': 1}, {'kernel': 'linear', 'degree': 3, 'C': 15}, {'kernel': 'poly', 'degree': 9, 'C': 20}, {'kernel': 'linear', 'degree': 6, 'C': 13}, {'kernel': 'poly', 'degree': 2, 'C': 11}, {'kernel': 'sigmoid', 'degree': 7, 'C': 20}, {'kernel': 'rbf', 'degree': 4, 'C': 9}, {'kernel': 'rbf', 'degree': 10, 'C': 7}, {'kernel': 'poly', 'degree': 4, 'C': 17}, {'kernel': 'sigmoid', 'degree': 7, 'C': 15}, {'kernel': 'linear', 'degree': 2, 'C': 13}, {'kernel': 'rbf', 'degree': 5, 'C': 9}, {'kernel': 'rbf', 'degree': 6, 'C': 15}, {'kernel': 'sigmoid', 'degree': 7, 'C': 9}, {'kernel': 'linear', 'degree': 2, 'C': 17}, {'kernel': 'linear', 'degree': 7, 'C': 3}, {'kernel': 'poly', 'degree': 8, 'C': 7}, {'kernel': 'poly', 'degree': 2, 'C': 1}, {'kernel': 'rbf', 'degree': 10, 'C': 17}, {'kernel': 'rbf', 'degree': 2, 'C': 9}, {'kernel': 'rbf', 'degree': 10, 'C': 9}, {'kernel': 'sigmoid', 'degree': 7, 'C': 13}, {'kernel': 'poly', 'degree': 8, 'C': 3}, {'kernel': 'rbf', 'degree': 8, 'C': 9}, {'kernel': 'rbf', 'degree': 2, 'C': 3}, {'kernel': 'rbf', 'degree': 3, 'C': 3}, {'kernel': 'poly', 'degree': 5, 'C': 20}, {'kernel': 'poly', 'degree': 1, 'C': 7}, {'kernel': 'sigmoid', 'degree': 9, 'C': 9}, {'kernel': 'poly', 'degree': 4, 'C': 7}, {'kernel': 'sigmoid', 'degree': 8, 'C': 9}, {'kernel': 'poly', 'degree': 10, 'C': 9}, {'kernel': 'sigmoid', 'degree': 7, 'C': 1}, {'kernel': 'poly', 'degree': 1, 'C': 13}, {'kernel': 'linear', 'degree': 8, 'C': 17}, {'kernel': 'sigmoid', 'degree': 10, 'C': 13}, {'kernel': 'sigmoid', 'degree': 4, 'C': 17}, {'kernel': 'linear', 'degree': 7, 'C': 17}, {'kernel': 'linear', 'degree': 6, 'C': 20}, {'kernel': 'sigmoid', 'degree': 8, 'C': 15}, {'kernel': 'rbf', 'degree': 8, 'C': 5}, {'kernel': 'rbf', 'degree': 3, 'C': 5}, {'kernel': 'rbf', 'degree': 2, 'C': 1}], 'split0_test_score': array([0.98360656, 0.98360656, 0.98360656, 0.98360656, 0.98360656,\n",
            "       0.91803279, 0.98360656, 0.98360656, 0.91803279, 0.98360656,\n",
            "       0.98360656, 0.98360656, 0.98360656, 0.91803279, 0.98360656,\n",
            "       0.98360656, 0.98360656, 0.90163934, 0.98360656, 0.91803279,\n",
            "       0.98360656, 0.98360656, 0.96721311, 0.98360656, 0.98360656,\n",
            "       0.90163934, 0.91803279, 0.91803279, 0.98360656, 0.90163934,\n",
            "       0.98360656, 0.98360656, 0.98360656, 0.98360656, 0.98360656,\n",
            "       0.91803279, 0.90163934, 0.91803279, 0.98360656, 0.98360656,\n",
            "       0.98360656, 0.96721311, 0.91803279, 0.98360656, 0.98360656,\n",
            "       0.98360656, 0.98360656, 0.98360656, 0.95081967, 0.98360656,\n",
            "       0.90163934, 0.91803279, 0.98360656, 0.98360656, 0.93442623,\n",
            "       0.98360656, 0.91803279, 0.93442623, 0.98360656, 0.90163934,\n",
            "       0.98360656, 0.98360656, 0.91803279, 0.98360656, 0.98360656,\n",
            "       0.98360656, 0.90163934, 0.98360656, 0.98360656, 0.98360656,\n",
            "       0.91803279, 0.98360656, 0.98360656, 0.93442623, 0.98360656,\n",
            "       0.98360656, 0.98360656, 0.98360656, 0.91803279, 0.93442623,\n",
            "       0.98360656, 0.96721311, 0.96721311, 0.98360656, 0.98360656,\n",
            "       0.91803279, 0.98360656, 0.91803279, 0.85245902, 0.90163934,\n",
            "       0.98360656, 0.98360656, 0.91803279, 0.91803279, 0.98360656,\n",
            "       0.98360656, 0.90163934, 0.98360656, 0.98360656, 0.98360656]), 'split1_test_score': array([1.        , 1.        , 1.        , 1.        , 1.        ,\n",
            "       0.93442623, 1.        , 1.        , 0.95081967, 1.        ,\n",
            "       1.        , 1.        , 1.        , 0.95081967, 1.        ,\n",
            "       1.        , 1.        , 0.91803279, 1.        , 1.        ,\n",
            "       1.        , 0.98360656, 1.        , 1.        , 1.        ,\n",
            "       0.95081967, 0.95081967, 0.91803279, 1.        , 0.91803279,\n",
            "       1.        , 1.        , 0.98360656, 0.98360656, 1.        ,\n",
            "       0.91803279, 0.91803279, 0.91803279, 1.        , 1.        ,\n",
            "       1.        , 1.        , 1.        , 1.        , 1.        ,\n",
            "       0.98360656, 1.        , 1.        , 0.96721311, 1.        ,\n",
            "       0.95081967, 0.93442623, 0.98360656, 0.98360656, 0.98360656,\n",
            "       1.        , 0.90163934, 0.98360656, 1.        , 0.95081967,\n",
            "       1.        , 1.        , 0.90163934, 1.        , 1.        ,\n",
            "       1.        , 0.91803279, 1.        , 1.        , 1.        ,\n",
            "       0.95081967, 1.        , 1.        , 0.96721311, 1.        ,\n",
            "       1.        , 1.        , 1.        , 0.91803279, 0.96721311,\n",
            "       1.        , 1.        , 1.        , 0.98360656, 0.98360656,\n",
            "       0.95081967, 1.        , 0.95081967, 0.95081967, 0.91803279,\n",
            "       0.98360656, 1.        , 0.91803279, 0.90163934, 1.        ,\n",
            "       1.        , 0.91803279, 1.        , 1.        , 0.98360656]), 'split2_test_score': array([0.98333333, 0.96666667, 0.98333333, 0.98333333, 0.98333333,\n",
            "       0.88333333, 0.98333333, 0.96666667, 0.9       , 0.98333333,\n",
            "       0.98333333, 0.98333333, 0.96666667, 0.93333333, 0.96666667,\n",
            "       0.96666667, 0.98333333, 0.86666667, 0.96666667, 0.95      ,\n",
            "       0.96666667, 0.98333333, 0.96666667, 0.98333333, 0.98333333,\n",
            "       0.91666667, 0.9       , 0.85      , 0.96666667, 0.93333333,\n",
            "       0.96666667, 0.96666667, 0.98333333, 0.96666667, 0.98333333,\n",
            "       0.85      , 0.93333333, 0.85      , 0.98333333, 0.96666667,\n",
            "       0.98333333, 0.96666667, 0.95      , 0.98333333, 0.96666667,\n",
            "       0.96666667, 0.98333333, 0.96666667, 0.95      , 0.96666667,\n",
            "       0.91666667, 0.88333333, 0.98333333, 0.98333333, 0.98333333,\n",
            "       0.96666667, 0.88333333, 0.98333333, 0.98333333, 0.91666667,\n",
            "       0.98333333, 0.98333333, 0.88333333, 0.96666667, 0.96666667,\n",
            "       0.98333333, 0.86666667, 0.98333333, 0.96666667, 0.96666667,\n",
            "       0.88333333, 0.98333333, 0.96666667, 0.95      , 1.        ,\n",
            "       0.96666667, 0.96666667, 0.96666667, 0.85      , 0.95      ,\n",
            "       0.96666667, 0.96666667, 0.96666667, 0.98333333, 0.96666667,\n",
            "       0.88333333, 0.98333333, 0.88333333, 0.85      , 0.93333333,\n",
            "       0.96666667, 0.98333333, 0.85      , 0.88333333, 0.98333333,\n",
            "       0.98333333, 0.86666667, 0.96666667, 0.96666667, 0.98333333]), 'split3_test_score': array([0.96666667, 0.95      , 0.95      , 0.96666667, 0.96666667,\n",
            "       0.9       , 0.96666667, 0.95      , 0.9       , 0.98333333,\n",
            "       0.98333333, 0.96666667, 0.95      , 0.9       , 0.95      ,\n",
            "       0.95      , 0.96666667, 0.86666667, 0.96666667, 0.88333333,\n",
            "       0.95      , 0.96666667, 0.95      , 0.96666667, 0.96666667,\n",
            "       0.93333333, 0.9       , 0.85      , 0.96666667, 0.9       ,\n",
            "       0.95      , 0.95      , 0.93333333, 0.96666667, 0.96666667,\n",
            "       0.85      , 0.9       , 0.85      , 0.98333333, 0.95      ,\n",
            "       0.96666667, 0.95      , 0.88333333, 0.98333333, 0.95      ,\n",
            "       0.95      , 0.96666667, 0.95      , 0.95      , 0.95      ,\n",
            "       0.93333333, 0.9       , 0.96666667, 0.95      , 0.95      ,\n",
            "       0.95      , 0.88333333, 0.95      , 0.96666667, 0.93333333,\n",
            "       0.96666667, 0.96666667, 0.85      , 0.95      , 0.95      ,\n",
            "       0.95      , 0.86666667, 0.96666667, 0.95      , 0.95      ,\n",
            "       0.88333333, 0.96666667, 0.96666667, 0.93333333, 0.98333333,\n",
            "       0.95      , 0.95      , 0.95      , 0.85      , 0.93333333,\n",
            "       0.95      , 0.95      , 0.95      , 0.96666667, 0.95      ,\n",
            "       0.88333333, 0.95      , 0.88333333, 0.88333333, 0.9       ,\n",
            "       0.96666667, 0.96666667, 0.85      , 0.88333333, 0.96666667,\n",
            "       0.96666667, 0.86666667, 0.95      , 0.95      , 0.93333333]), 'split4_test_score': array([0.98333333, 0.96666667, 0.98333333, 0.98333333, 0.98333333,\n",
            "       0.81666667, 0.98333333, 0.96666667, 0.9       , 0.98333333,\n",
            "       0.98333333, 0.98333333, 0.96666667, 0.9       , 0.96666667,\n",
            "       0.96666667, 0.98333333, 0.81666667, 0.98333333, 0.91666667,\n",
            "       0.96666667, 0.98333333, 0.98333333, 0.98333333, 0.98333333,\n",
            "       0.85      , 0.9       , 0.85      , 0.98333333, 0.88333333,\n",
            "       0.98333333, 0.96666667, 0.93333333, 0.98333333, 0.98333333,\n",
            "       0.85      , 0.88333333, 0.85      , 0.98333333, 0.98333333,\n",
            "       0.98333333, 0.98333333, 0.91666667, 0.98333333, 0.96666667,\n",
            "       0.98333333, 0.98333333, 0.96666667, 0.91666667, 0.96666667,\n",
            "       0.85      , 0.81666667, 0.98333333, 0.95      , 0.95      ,\n",
            "       0.96666667, 0.81666667, 0.95      , 0.98333333, 0.85      ,\n",
            "       0.98333333, 0.98333333, 0.81666667, 0.96666667, 0.96666667,\n",
            "       0.98333333, 0.81666667, 0.98333333, 0.96666667, 0.96666667,\n",
            "       0.83333333, 0.98333333, 0.98333333, 0.9       , 0.96666667,\n",
            "       0.96666667, 0.96666667, 0.96666667, 0.85      , 0.9       ,\n",
            "       0.96666667, 0.98333333, 0.98333333, 0.98333333, 0.96666667,\n",
            "       0.83333333, 0.98333333, 0.83333333, 0.85      , 0.88333333,\n",
            "       0.98333333, 0.98333333, 0.85      , 0.81666667, 0.98333333,\n",
            "       0.98333333, 0.81666667, 0.98333333, 0.98333333, 0.93333333]), 'mean_test_score': array([0.98338798, 0.97338798, 0.98005464, 0.98338798, 0.98338798,\n",
            "       0.8904918 , 0.98338798, 0.97338798, 0.91377049, 0.98672131,\n",
            "       0.98672131, 0.98338798, 0.97338798, 0.92043716, 0.97338798,\n",
            "       0.97338798, 0.98338798, 0.87393443, 0.98005464, 0.93360656,\n",
            "       0.97338798, 0.98010929, 0.97344262, 0.98338798, 0.98338798,\n",
            "       0.9104918 , 0.91377049, 0.87721311, 0.98005464, 0.90726776,\n",
            "       0.97672131, 0.97338798, 0.96344262, 0.97677596, 0.98338798,\n",
            "       0.87721311, 0.90726776, 0.87721311, 0.98672131, 0.97672131,\n",
            "       0.98338798, 0.97344262, 0.93360656, 0.98672131, 0.97338798,\n",
            "       0.97344262, 0.98338798, 0.97338798, 0.94693989, 0.97338798,\n",
            "       0.9104918 , 0.8904918 , 0.98010929, 0.97010929, 0.96027322,\n",
            "       0.97338798, 0.88060109, 0.96027322, 0.98338798, 0.9104918 ,\n",
            "       0.98338798, 0.98338798, 0.87393443, 0.97338798, 0.97338798,\n",
            "       0.98005464, 0.87393443, 0.98338798, 0.97338798, 0.97338798,\n",
            "       0.89377049, 0.98338798, 0.98005464, 0.93699454, 0.98672131,\n",
            "       0.97338798, 0.97338798, 0.97338798, 0.87721311, 0.93699454,\n",
            "       0.97338798, 0.97344262, 0.97344262, 0.98010929, 0.97010929,\n",
            "       0.89377049, 0.98005464, 0.89377049, 0.8773224 , 0.90726776,\n",
            "       0.97677596, 0.98338798, 0.87721311, 0.88060109, 0.98338798,\n",
            "       0.98338798, 0.87393443, 0.97672131, 0.97672131, 0.96344262]), 'std_test_score': array([0.01054149, 0.0170292 , 0.01634145, 0.01054149, 0.01054149,\n",
            "       0.04069531, 0.01054149, 0.0170292 , 0.01979742, 0.00664019,\n",
            "       0.00664019, 0.01054149, 0.0170292 , 0.01964965, 0.0170292 ,\n",
            "       0.0170292 , 0.01054149, 0.03492124, 0.01248727, 0.0393287 ,\n",
            "       0.0170292 , 0.00672242, 0.01695522, 0.01054149, 0.01054149,\n",
            "       0.03442042, 0.01979742, 0.03332912, 0.01248727, 0.01704498,\n",
            "       0.0170185 , 0.0170292 , 0.02458433, 0.0082548 , 0.01054149,\n",
            "       0.03332912, 0.01704498, 0.03332912, 0.00664019, 0.0170185 ,\n",
            "       0.01054149, 0.01695522, 0.0393287 , 0.00664019, 0.0170292 ,\n",
            "       0.01341572, 0.01054149, 0.0170292 , 0.01650002, 0.0170292 ,\n",
            "       0.03442042, 0.04069531, 0.00672242, 0.01641947, 0.01977553,\n",
            "       0.0170292 , 0.03448559, 0.01977553, 0.01054149, 0.03442042,\n",
            "       0.01054149, 0.01054149, 0.03647745, 0.0170292 , 0.0170292 ,\n",
            "       0.01634145, 0.03492124, 0.01054149, 0.0170292 , 0.0170292 ,\n",
            "       0.03927795, 0.01054149, 0.01248727, 0.02223016, 0.01245806,\n",
            "       0.0170292 , 0.0170292 , 0.0170292 , 0.03332912, 0.02223016,\n",
            "       0.0170292 , 0.01695522, 0.01695522, 0.00672242, 0.0125892 ,\n",
            "       0.03927795, 0.01634145, 0.03927795, 0.03885665, 0.01704498,\n",
            "       0.0082548 , 0.01054149, 0.03332912, 0.03448559, 0.01054149,\n",
            "       0.01054149, 0.03492124, 0.0170185 , 0.0170185 , 0.02458433]), 'rank_test_score': array([ 6, 45, 28,  6,  6, 87,  6, 45, 76,  2,  2,  6, 45, 75, 45, 45,  6,\n",
            "       97, 28, 73, 45, 25, 40,  6,  6, 78, 76, 92, 28, 81, 36, 45, 66, 34,\n",
            "        6, 92, 81, 92,  2, 36,  6, 40, 73,  2, 45, 40,  6, 45, 70, 45, 78,\n",
            "       87, 25, 64, 68, 45, 89, 68,  6, 78,  6,  6, 97, 45, 45, 28, 97,  6,\n",
            "       45, 45, 84,  6, 28, 71,  1, 45, 45, 45, 92, 71, 45, 40, 40, 25, 64,\n",
            "       84, 28, 84, 91, 81, 34,  6, 92, 89,  6,  6, 97, 36, 36, 66],\n",
            "      dtype=int32)}\n"
          ]
        }
      ]
    },
    {
      "cell_type": "code",
      "source": [
        "print('\\n Best estimator:')\n",
        "print(svc_randomcv.best_estimator_)"
      ],
      "metadata": {
        "colab": {
          "base_uri": "https://localhost:8080/"
        },
        "id": "EzDNzlL6EiX2",
        "outputId": "27ae378a-8a15-42d1-d0a9-1aad2392d898"
      },
      "execution_count": 60,
      "outputs": [
        {
          "output_type": "stream",
          "name": "stdout",
          "text": [
            "\n",
            " Best estimator:\n",
            "SVC(C=1, degree=2, kernel='poly')\n"
          ]
        }
      ]
    },
    {
      "cell_type": "code",
      "source": [
        "print('\\n Best hyperparameters:')\n",
        "print(svc_randomcv.best_params_)"
      ],
      "metadata": {
        "colab": {
          "base_uri": "https://localhost:8080/"
        },
        "id": "BR8M-33YEmmc",
        "outputId": "4d9eadf6-4c7c-4201-b6ed-149836fc2d49"
      },
      "execution_count": 61,
      "outputs": [
        {
          "output_type": "stream",
          "name": "stdout",
          "text": [
            "\n",
            " Best hyperparameters:\n",
            "{'kernel': 'poly', 'degree': 2, 'C': 1}\n"
          ]
        }
      ]
    },
    {
      "cell_type": "code",
      "source": [
        "svc = SVC(kernel='linear',degree=3, C=13)\n",
        "svc.fit(X_train,y_train)"
      ],
      "metadata": {
        "colab": {
          "base_uri": "https://localhost:8080/",
          "height": 74
        },
        "id": "qIDAKfL0Ertc",
        "outputId": "e26495e5-799c-433d-8a38-465de5b53129"
      },
      "execution_count": 62,
      "outputs": [
        {
          "output_type": "execute_result",
          "data": {
            "text/plain": [
              "SVC(C=13, kernel='linear')"
            ],
            "text/html": [
              "<style>#sk-container-id-4 {color: black;background-color: white;}#sk-container-id-4 pre{padding: 0;}#sk-container-id-4 div.sk-toggleable {background-color: white;}#sk-container-id-4 label.sk-toggleable__label {cursor: pointer;display: block;width: 100%;margin-bottom: 0;padding: 0.3em;box-sizing: border-box;text-align: center;}#sk-container-id-4 label.sk-toggleable__label-arrow:before {content: \"▸\";float: left;margin-right: 0.25em;color: #696969;}#sk-container-id-4 label.sk-toggleable__label-arrow:hover:before {color: black;}#sk-container-id-4 div.sk-estimator:hover label.sk-toggleable__label-arrow:before {color: black;}#sk-container-id-4 div.sk-toggleable__content {max-height: 0;max-width: 0;overflow: hidden;text-align: left;background-color: #f0f8ff;}#sk-container-id-4 div.sk-toggleable__content pre {margin: 0.2em;color: black;border-radius: 0.25em;background-color: #f0f8ff;}#sk-container-id-4 input.sk-toggleable__control:checked~div.sk-toggleable__content {max-height: 200px;max-width: 100%;overflow: auto;}#sk-container-id-4 input.sk-toggleable__control:checked~label.sk-toggleable__label-arrow:before {content: \"▾\";}#sk-container-id-4 div.sk-estimator input.sk-toggleable__control:checked~label.sk-toggleable__label {background-color: #d4ebff;}#sk-container-id-4 div.sk-label input.sk-toggleable__control:checked~label.sk-toggleable__label {background-color: #d4ebff;}#sk-container-id-4 input.sk-hidden--visually {border: 0;clip: rect(1px 1px 1px 1px);clip: rect(1px, 1px, 1px, 1px);height: 1px;margin: -1px;overflow: hidden;padding: 0;position: absolute;width: 1px;}#sk-container-id-4 div.sk-estimator {font-family: monospace;background-color: #f0f8ff;border: 1px dotted black;border-radius: 0.25em;box-sizing: border-box;margin-bottom: 0.5em;}#sk-container-id-4 div.sk-estimator:hover {background-color: #d4ebff;}#sk-container-id-4 div.sk-parallel-item::after {content: \"\";width: 100%;border-bottom: 1px solid gray;flex-grow: 1;}#sk-container-id-4 div.sk-label:hover label.sk-toggleable__label {background-color: #d4ebff;}#sk-container-id-4 div.sk-serial::before {content: \"\";position: absolute;border-left: 1px solid gray;box-sizing: border-box;top: 0;bottom: 0;left: 50%;z-index: 0;}#sk-container-id-4 div.sk-serial {display: flex;flex-direction: column;align-items: center;background-color: white;padding-right: 0.2em;padding-left: 0.2em;position: relative;}#sk-container-id-4 div.sk-item {position: relative;z-index: 1;}#sk-container-id-4 div.sk-parallel {display: flex;align-items: stretch;justify-content: center;background-color: white;position: relative;}#sk-container-id-4 div.sk-item::before, #sk-container-id-4 div.sk-parallel-item::before {content: \"\";position: absolute;border-left: 1px solid gray;box-sizing: border-box;top: 0;bottom: 0;left: 50%;z-index: -1;}#sk-container-id-4 div.sk-parallel-item {display: flex;flex-direction: column;z-index: 1;position: relative;background-color: white;}#sk-container-id-4 div.sk-parallel-item:first-child::after {align-self: flex-end;width: 50%;}#sk-container-id-4 div.sk-parallel-item:last-child::after {align-self: flex-start;width: 50%;}#sk-container-id-4 div.sk-parallel-item:only-child::after {width: 0;}#sk-container-id-4 div.sk-dashed-wrapped {border: 1px dashed gray;margin: 0 0.4em 0.5em 0.4em;box-sizing: border-box;padding-bottom: 0.4em;background-color: white;}#sk-container-id-4 div.sk-label label {font-family: monospace;font-weight: bold;display: inline-block;line-height: 1.2em;}#sk-container-id-4 div.sk-label-container {text-align: center;}#sk-container-id-4 div.sk-container {/* jupyter's `normalize.less` sets `[hidden] { display: none; }` but bootstrap.min.css set `[hidden] { display: none !important; }` so we also need the `!important` here to be able to override the default hidden behavior on the sphinx rendered scikit-learn.org. See: https://github.com/scikit-learn/scikit-learn/issues/21755 */display: inline-block !important;position: relative;}#sk-container-id-4 div.sk-text-repr-fallback {display: none;}</style><div id=\"sk-container-id-4\" class=\"sk-top-container\"><div class=\"sk-text-repr-fallback\"><pre>SVC(C=13, kernel=&#x27;linear&#x27;)</pre><b>In a Jupyter environment, please rerun this cell to show the HTML representation or trust the notebook. <br />On GitHub, the HTML representation is unable to render, please try loading this page with nbviewer.org.</b></div><div class=\"sk-container\" hidden><div class=\"sk-item\"><div class=\"sk-estimator sk-toggleable\"><input class=\"sk-toggleable__control sk-hidden--visually\" id=\"sk-estimator-id-8\" type=\"checkbox\" checked><label for=\"sk-estimator-id-8\" class=\"sk-toggleable__label sk-toggleable__label-arrow\">SVC</label><div class=\"sk-toggleable__content\"><pre>SVC(C=13, kernel=&#x27;linear&#x27;)</pre></div></div></div></div></div>"
            ]
          },
          "metadata": {},
          "execution_count": 62
        }
      ]
    },
    {
      "cell_type": "code",
      "source": [
        "y_pred_svc = svc.predict(X_test)\n",
        "model_report(y_test, y_pred_svc)"
      ],
      "metadata": {
        "colab": {
          "base_uri": "https://localhost:8080/"
        },
        "id": "qo8dzsKQEtCl",
        "outputId": "f0bcde18-bfca-4e5f-9e53-299516e3740b"
      },
      "execution_count": 63,
      "outputs": [
        {
          "output_type": "stream",
          "name": "stdout",
          "text": [
            "Accuracy =  1.0\n",
            "Precision =  1.0\n",
            "Recall\\Sensitivity =  1.0\n",
            "Specificity =  1.0\n",
            "F1 Score =  1.0\n",
            "AUC Score = 1.0\n",
            "Kappa score =  1.0\n",
            "Log Loss =  2.2204460492503136e-16 \n",
            "\n"
          ]
        }
      ]
    },
    {
      "cell_type": "code",
      "source": [
        "title = \"Learning Curves (SVM)\"                                        # fill this in\n",
        "cv = ShuffleSplit(n_splits=5, test_size=0.2, random_state=42)\n",
        "svc = SVC(kernel='linear',degree=3, C=13)                               # fill this in\n",
        "plot_learning_curve(svc, title, X, y, ylim=(0.2, 1.25), cv=cv, n_jobs=4)\n",
        "plt.savefig('SVM_curve.pdf', transparent=True, dpi=300)\n",
        "plt.savefig('SVM_curve.eps', transparent=True, dpi=300)\n",
        "plt.show()"
      ],
      "metadata": {
        "colab": {
          "base_uri": "https://localhost:8080/",
          "height": 312
        },
        "id": "JOSE6Hz4Axe8",
        "outputId": "26bfb8e7-1393-4f80-e717-df6702adf4e4"
      },
      "execution_count": 64,
      "outputs": [
        {
          "output_type": "stream",
          "name": "stderr",
          "text": [
            "WARNING:matplotlib.backends.backend_ps:The PostScript backend does not support transparency; partially transparent artists will be rendered opaque.\n"
          ]
        },
        {
          "output_type": "display_data",
          "data": {
            "text/plain": [
              "<Figure size 432x288 with 1 Axes>"
            ],
            "image/png": "[encoded data removed]"
          },
          "metadata": {
            "needs_background": "light"
          }
        }
      ]
    },
    {
      "cell_type": "code",
      "source": [
        "from sklearn.metrics import confusion_matrix\n",
        "\n",
        "cm = confusion_matrix(y_test, y_pred_svc)\n",
        "plt.figure(figsize=(10, 8))\n",
        "ax = sns.heatmap(cm, cmap=plt.cm.Greens, annot=True, square=True, annot_kws={\"size\": 25})\n",
        "plt.title('Confusion Matrix', fontsize=20)\n",
        "ax.set_ylabel('Actual Label', fontsize=20)\n",
        "ax.set_xlabel('Predicted Label', fontsize=20)\n",
        "plt.savefig('SVC_confusion.pdf', transparent=True, dpi=300)\n",
        "plt.savefig('SVC_confusion.eps', transparent=True, dpi=300)"
      ],
      "metadata": {
        "colab": {
          "base_uri": "https://localhost:8080/",
          "height": 527
        },
        "id": "6gY818yoDbsY",
        "outputId": "4e083665-25db-4626-fae3-333ca019cd13"
      },
      "execution_count": 65,
      "outputs": [
        {
          "output_type": "display_data",
          "data": {
            "text/plain": [
              "<Figure size 720x576 with 2 Axes>"
            ],
            "image/png": "[encoded data removed]"
          },
          "metadata": {
            "needs_background": "light"
          }
        }
      ]
    },
    {
      "cell_type": "markdown",
      "source": [
        "##Random Forest Classifier"
      ],
      "metadata": {
        "id": "KDNHvuFcGqmO"
      }
    },
    {
      "cell_type": "code",
      "source": [
        "from sklearn.model_selection import RandomizedSearchCV\n",
        "\n",
        "# Number of trees in random forest\n",
        "n_estimators = [int(x) for x in np.linspace(start = 200, stop = 2000, num = 10)]\n",
        "# Number of features to consider at every split\n",
        "max_features = ['auto', 'sqrt','log2']\n",
        "# Maximum number of levels in tree\n",
        "max_depth = [int(x) for x in np.linspace(10, 1000,10)]\n",
        "# Minimum number of samples required to split a node\n",
        "min_samples_split = [2, 5, 10,14]\n",
        "# Minimum number of samples required at each leaf node\n",
        "min_samples_leaf = [1, 2, 4,6,8]\n",
        "#criterion used in trees\n",
        "criterion = ['entropy','gini']\n",
        "\n",
        "# Create the random grid\n",
        "random_grid = {'n_estimators': n_estimators,\n",
        "               'max_features': max_features,\n",
        "               'max_depth': max_depth,\n",
        "               'min_samples_split': min_samples_split,\n",
        "               'min_samples_leaf': min_samples_leaf,\n",
        "              'criterion':criterion}\n",
        "              \n",
        "print(random_grid)"
      ],
      "metadata": {
        "colab": {
          "base_uri": "https://localhost:8080/"
        },
        "id": "z_5fLVfUE6Fv",
        "outputId": "f8343116-c933-4544-f79e-1dfddac312ca"
      },
      "execution_count": 66,
      "outputs": [
        {
          "output_type": "stream",
          "name": "stdout",
          "text": [
            "{'n_estimators': [200, 400, 600, 800, 1000, 1200, 1400, 1600, 1800, 2000], 'max_features': ['auto', 'sqrt', 'log2'], 'max_depth': [10, 120, 230, 340, 450, 560, 670, 780, 890, 1000], 'min_samples_split': [2, 5, 10, 14], 'min_samples_leaf': [1, 2, 4, 6, 8], 'criterion': ['entropy', 'gini']}\n"
          ]
        }
      ]
    },
    {
      "cell_type": "code",
      "source": [
        "from sklearn.ensemble import RandomForestClassifier\n",
        "rf = RandomForestClassifier()\n",
        "rf_randomcv=RandomizedSearchCV(estimator=rf, param_distributions=random_grid, n_iter=100, cv=5, verbose=2,\n",
        "                               random_state=100, n_jobs=-1)\n",
        "#fit the randomized model\n",
        "rf_randomcv.fit(X_train,y_train)"
      ],
      "metadata": {
        "colab": {
          "base_uri": "https://localhost:8080/"
        },
        "id": "fVIlDeIhE8u2",
        "outputId": "9304fdc2-843d-4902-f0a0-52aeee7ab3c4"
      },
      "execution_count": null,
      "outputs": [
        {
          "output_type": "stream",
          "name": "stdout",
          "text": [
            "Fitting 5 folds for each of 100 candidates, totalling 500 fits\n"
          ]
        }
      ]
    },
    {
      "cell_type": "code",
      "source": [
        "print('\\n All results:')\n",
        "print(rf_randomcv.cv_results_)"
      ],
      "metadata": {
        "id": "1Sf4jS0MFC3e"
      },
      "execution_count": null,
      "outputs": []
    },
    {
      "cell_type": "code",
      "source": [
        "print('\\n Best estimator:')\n",
        "print(rf_randomcv.best_estimator_)"
      ],
      "metadata": {
        "id": "WacScuSQFG-F"
      },
      "execution_count": null,
      "outputs": []
    },
    {
      "cell_type": "code",
      "source": [
        "print('\\n Best hyperparameters:')\n",
        "print(rf_randomcv.best_params_)"
      ],
      "metadata": {
        "id": "3rgce-eYFKff"
      },
      "execution_count": null,
      "outputs": []
    },
    {
      "cell_type": "code",
      "source": [
        "from sklearn.ensemble import RandomForestClassifier\n",
        "rf = RandomForestClassifier(n_estimators = 200, min_samples_split = 2, min_samples_leaf = 2, max_features = 'sqrt', max_depth = 1000, criterion = 'entropy')\n",
        "rf.fit(X_train, y_train)"
      ],
      "metadata": {
        "id": "6s66lTRWFNVh"
      },
      "execution_count": null,
      "outputs": []
    },
    {
      "cell_type": "code",
      "source": [
        "y_pred_rf = rf.predict(X_test)\n",
        "model_report(y_test, y_pred_rf)"
      ],
      "metadata": {
        "id": "ABokFmZoFRxY"
      },
      "execution_count": null,
      "outputs": []
    },
    {
      "cell_type": "code",
      "source": [
        "title = \"Learning Curves (RandomForestClassifier)\"                                        # fill this in\n",
        "cv = ShuffleSplit(n_splits=5, test_size=0.2, random_state=42)\n",
        "rf = RandomForestClassifier(n_estimators = 200, min_samples_split = 2, min_samples_leaf = 2, max_features = 'sqrt', max_depth = 1000, criterion = 'entropy')                             # fill this in\n",
        "plot_learning_curve(rf, title, X, y, ylim=(0.2, 1.25), cv=cv, n_jobs=4)\n",
        "plt.savefig('RF_curve.pdf', transparent=True, dpi=300)\n",
        "plt.savefig('RF_curve.eps', transparent=True, dpi=300)\n",
        "plt.show()"
      ],
      "metadata": {
        "id": "zQQKjqvQBTDs"
      },
      "execution_count": null,
      "outputs": []
    },
    {
      "cell_type": "code",
      "source": [
        "from sklearn.metrics import confusion_matrix\n",
        "\n",
        "cm = confusion_matrix(y_test, y_pred_rf)\n",
        "plt.figure(figsize=(10, 8))\n",
        "ax = sns.heatmap(cm, cmap=plt.cm.Greens, annot=True, square=True, annot_kws={\"size\": 25})\n",
        "plt.title('Confusion Matrix', fontsize=20)\n",
        "ax.set_ylabel('Actual Label', fontsize=20)\n",
        "ax.set_xlabel('Predicted Label', fontsize=20)\n",
        "plt.savefig('RF_confusion.pdf', transparent=True, dpi=300)\n",
        "plt.savefig('RF_confusion.eps', transparent=True, dpi=300)"
      ],
      "metadata": {
        "id": "DYZ2HLVFEDiG"
      },
      "execution_count": null,
      "outputs": []
    },
    {
      "cell_type": "markdown",
      "source": [
        "##DecisionTreeClassifier"
      ],
      "metadata": {
        "id": "VfKuf3qlBa16"
      }
    },
    {
      "cell_type": "code",
      "source": [
        "from sklearn.tree import DecisionTreeClassifier\n",
        "\n",
        "param_dict ={\n",
        "             \"criterion\":['gini','entropy'],\n",
        "             \"max_depth\":(150, 155, 160),\n",
        "             \"min_samples_split\":range(1,10),\n",
        "             \"min_samples_leaf\":range(1,5)\n",
        " }\n",
        "\n",
        "decision_tree = DecisionTreeClassifier(random_state=42)\n",
        "\n",
        "dt_decision_tree=RandomizedSearchCV(estimator=decision_tree, param_distributions=param_dict, n_iter=100, cv=5, verbose=2,\n",
        "                               random_state=100,n_jobs=-1)\n",
        "#fit the randomized model\n",
        "dt_decision_tree.fit(X_train,y_train)"
      ],
      "metadata": {
        "id": "gq4GYnVO5OEd"
      },
      "execution_count": null,
      "outputs": []
    },
    {
      "cell_type": "code",
      "source": [
        "print('\\n All results:')\n",
        "print(dt_decision_tree.cv_results_)"
      ],
      "metadata": {
        "id": "2_es0m4A6gLj"
      },
      "execution_count": null,
      "outputs": []
    },
    {
      "cell_type": "code",
      "source": [
        "print('\\n Best estimator:')\n",
        "print(dt_decision_tree.best_estimator_)"
      ],
      "metadata": {
        "id": "jiYQrh2t6gSz"
      },
      "execution_count": null,
      "outputs": []
    },
    {
      "cell_type": "code",
      "source": [
        "print('\\n Best hyperparameters:')\n",
        "print(dt_decision_tree.best_params_)"
      ],
      "metadata": {
        "id": "4AlvK-kM6WmL"
      },
      "execution_count": null,
      "outputs": []
    },
    {
      "cell_type": "code",
      "source": [
        "from sklearn.ensemble import RandomForestClassifier\n",
        "dt = DecisionTreeClassifier(min_samples_split = 3, min_samples_leaf = 3, max_depth = 160, criterion = 'gini')\n",
        "dt.fit(X_train, y_train)"
      ],
      "metadata": {
        "id": "NMxAB1P863uA"
      },
      "execution_count": null,
      "outputs": []
    },
    {
      "cell_type": "code",
      "source": [
        "y_pred_dt = dt.predict(X_test)\n",
        "model_report(y_test, y_pred_dt)"
      ],
      "metadata": {
        "id": "-J7DDj1N7Qlk"
      },
      "execution_count": null,
      "outputs": []
    },
    {
      "cell_type": "code",
      "source": [
        "title = \"Learning Curves (DecisionTreeClassifier)\"                                        # fill this in\n",
        "cv = ShuffleSplit(n_splits=5, test_size=0.2, random_state=42)\n",
        "dt = DecisionTreeClassifier(min_samples_split = 3, min_samples_leaf = 3, max_depth = 160, criterion = 'gini')                             # fill this in\n",
        "plot_learning_curve(dt, title, X, y, ylim=(0.2, 1.25), cv=cv, n_jobs=4)\n",
        "plt.savefig('DT_curve.pdf', transparent=True, dpi=300)\n",
        "plt.savefig('DT_curve.eps', transparent=True, dpi=300)\n",
        "plt.show()"
      ],
      "metadata": {
        "id": "CTwEv5WDD6BF"
      },
      "execution_count": null,
      "outputs": []
    },
    {
      "cell_type": "code",
      "source": [
        "from sklearn.metrics import confusion_matrix\n",
        "\n",
        "cm = confusion_matrix(y_test, y_pred_dt)\n",
        "plt.figure(figsize=(10, 8))\n",
        "ax = sns.heatmap(cm, cmap=plt.cm.Greens, annot=True, square=True, annot_kws={\"size\": 25})\n",
        "plt.title('Confusion Matrix', fontsize=20)\n",
        "ax.set_ylabel('Actual Label', fontsize=20)\n",
        "ax.set_xlabel('Predicted Label', fontsize=20)\n",
        "plt.savefig('DT_confusion.pdf', transparent=True, dpi=300)\n",
        "plt.savefig('DT_confusion.eps', transparent=True, dpi=300)"
      ],
      "metadata": {
        "id": "dX4x1yalEsY_"
      },
      "execution_count": null,
      "outputs": []
    },
    {
      "cell_type": "markdown",
      "source": [
        "##XGBClassifier"
      ],
      "metadata": {
        "id": "-0Juv-1cBVaG"
      }
    },
    {
      "cell_type": "code",
      "source": [
        "from xgboost import XGBClassifier\n",
        "from sklearn.model_selection import RandomizedSearchCV\n",
        "\n",
        "estimator = XGBClassifier(\n",
        "    objective= 'binary:logistic',\n",
        "    nthread=4,\n",
        "    seed=42\n",
        ")\n",
        "\n",
        "parameters = {\n",
        "    'max_depth': range (2, 10, 1),\n",
        "    'n_estimators': range(60, 220, 40),\n",
        "    'learning_rate': [0.1, 0.01, 0.05]\n",
        "}\n",
        "\n",
        "xg_randomcv = RandomizedSearchCV(\n",
        "    estimator=estimator,\n",
        "    param_distributions=parameters,\n",
        "    scoring = 'roc_auc',\n",
        "    n_jobs = 10,\n",
        "    cv = 5,\n",
        "    verbose=True\n",
        ")\n",
        "\n",
        "#fit the randomized model\n",
        "xg_randomcv.fit(X_train,y_train)"
      ],
      "metadata": {
        "id": "EfbxYtEs7YXI"
      },
      "execution_count": null,
      "outputs": []
    },
    {
      "cell_type": "code",
      "source": [
        "print('\\n All results:')\n",
        "print(xg_randomcv.cv_results_)"
      ],
      "metadata": {
        "id": "CyZQR5Aw8PJo"
      },
      "execution_count": null,
      "outputs": []
    },
    {
      "cell_type": "code",
      "source": [
        "print('\\n Best estimator:')\n",
        "print(xg_randomcv.best_estimator_)"
      ],
      "metadata": {
        "id": "W20TGI7L8R6x"
      },
      "execution_count": null,
      "outputs": []
    },
    {
      "cell_type": "code",
      "source": [
        "print('\\n Best hyperparameters:')\n",
        "print(xg_randomcv.best_params_)"
      ],
      "metadata": {
        "id": "kPQFrGOS8bai"
      },
      "execution_count": null,
      "outputs": []
    },
    {
      "cell_type": "code",
      "source": [
        "from xgboost import XGBClassifier\n",
        "xg = XGBClassifier(n_estimators = 140, max_depth = 2, learning_rate = 0.01)\n",
        "xg.fit(X_train, y_train)"
      ],
      "metadata": {
        "id": "m8YBs3t18mXF"
      },
      "execution_count": null,
      "outputs": []
    },
    {
      "cell_type": "code",
      "source": [
        "y_pred_xg = xg.predict(X_test)\n",
        "model_report(y_test, y_pred_xg)"
      ],
      "metadata": {
        "id": "rue7TUSC8tdl"
      },
      "execution_count": null,
      "outputs": []
    },
    {
      "cell_type": "code",
      "source": [
        "title = \"Learning Curves (XGBClassifier)\"                                        # fill this in\n",
        "cv = ShuffleSplit(n_splits=5, test_size=0.2, random_state=42)\n",
        "xg = XGBClassifier(n_estimators = 140, max_depth = 2, learning_rate = 0.01)                             # fill this in\n",
        "plot_learning_curve(xg, title, X, y, ylim=(0.2, 1.25), cv=cv, n_jobs=4)\n",
        "plt.savefig('XG_curve.pdf', transparent=True, dpi=300)\n",
        "plt.savefig('XG_curve.eps', transparent=True, dpi=300)\n",
        "plt.show()"
      ],
      "metadata": {
        "id": "sCgfpA-PGaLb"
      },
      "execution_count": null,
      "outputs": []
    },
    {
      "cell_type": "code",
      "source": [
        "from sklearn.metrics import confusion_matrix\n",
        "\n",
        "cm = confusion_matrix(y_test, y_pred_xg)\n",
        "plt.figure(figsize=(10, 8))\n",
        "ax = sns.heatmap(cm, cmap=plt.cm.Greens, annot=True, square=True, annot_kws={\"size\": 25})\n",
        "plt.title('Confusion Matrix', fontsize=20)\n",
        "ax.set_ylabel('Actual Label', fontsize=20)\n",
        "ax.set_xlabel('Predicted Label', fontsize=20)\n",
        "plt.savefig('XG_confusion.pdf', transparent=True, dpi=300)\n",
        "plt.savefig('XG_confusion.eps', transparent=True, dpi=300)"
      ],
      "metadata": {
        "id": "GDd_g0TWFQz2"
      },
      "execution_count": null,
      "outputs": []
    },
    {
      "cell_type": "markdown",
      "source": [
        "##LogisticRegression"
      ],
      "metadata": {
        "id": "ivb-fQU5BQHK"
      }
    },
    {
      "cell_type": "code",
      "source": [
        "from sklearn.linear_model import LogisticRegression\n",
        "\n",
        "grid_values = {'penalty': ['l1','l2'], \n",
        "               'C': [0.001,0.01,0.1,1,10,100,1000]}\n",
        "lr=LogisticRegression(random_state=42)\n",
        "lr_randomcv = RandomizedSearchCV(lr, param_distributions=grid_values, cv=5)\n",
        "#fit the randomized model\n",
        "lr_randomcv.fit(X_train,y_train)"
      ],
      "metadata": {
        "id": "jUHpz4eV9DcU"
      },
      "execution_count": null,
      "outputs": []
    },
    {
      "cell_type": "code",
      "source": [
        "print('\\n All results:')\n",
        "print(lr_randomcv.cv_results_)"
      ],
      "metadata": {
        "id": "Sp1kSYKn9siE"
      },
      "execution_count": null,
      "outputs": []
    },
    {
      "cell_type": "code",
      "source": [
        "print('\\n Best estimator:')\n",
        "print(lr_randomcv.best_estimator_)"
      ],
      "metadata": {
        "id": "m1cNwoaW94TD"
      },
      "execution_count": null,
      "outputs": []
    },
    {
      "cell_type": "code",
      "source": [
        "print('\\n Best hyperparameters:')\n",
        "print(lr_randomcv.best_params_)"
      ],
      "metadata": {
        "id": "KgU7Jkjn-B2I"
      },
      "execution_count": null,
      "outputs": []
    },
    {
      "cell_type": "code",
      "source": [
        "from sklearn.linear_model import LogisticRegression\n",
        "lr = LogisticRegression(penalty = 'l2', C = 1000)\n",
        "lr.fit(X_train, y_train)"
      ],
      "metadata": {
        "id": "WOeEsSXc-GnB"
      },
      "execution_count": null,
      "outputs": []
    },
    {
      "cell_type": "code",
      "source": [
        "y_pred_lr = lr.predict(X_test)\n",
        "model_report(y_test, y_pred_lr)"
      ],
      "metadata": {
        "id": "GrrOwv-MAcRP"
      },
      "execution_count": null,
      "outputs": []
    },
    {
      "cell_type": "code",
      "source": [
        "title = \"Learning Curves (LogisticRegression)\"                                        # fill this in\n",
        "cv = ShuffleSplit(n_splits=5, test_size=0.2, random_state=42)\n",
        "lr = LogisticRegression(penalty = 'l2', C = 1000)                            # fill this in\n",
        "plot_learning_curve(lr, title, X, y, ylim=(0.2, 1.25), cv=cv, n_jobs=4)\n",
        "plt.savefig('LR_curve.pdf', transparent=True, dpi=300)\n",
        "plt.savefig('LR_curve.eps', transparent=True, dpi=300)\n",
        "plt.show()"
      ],
      "metadata": {
        "id": "xHguqe64G2lV"
      },
      "execution_count": null,
      "outputs": []
    },
    {
      "cell_type": "code",
      "source": [
        "from sklearn.metrics import confusion_matrix\n",
        "\n",
        "cm = confusion_matrix(y_test, y_pred_lr)\n",
        "plt.figure(figsize=(10, 8))\n",
        "ax = sns.heatmap(cm, cmap=plt.cm.Greens, annot=True, square=True, annot_kws={\"size\": 25})\n",
        "plt.title('Confusion Matrix', fontsize=20)\n",
        "ax.set_ylabel('Actual Label', fontsize=20)\n",
        "ax.set_xlabel('Predicted Label', fontsize=20)\n",
        "plt.savefig('LR_confusion.pdf', transparent=True, dpi=300)\n",
        "plt.savefig('LR_confusion.eps', transparent=True, dpi=300)"
      ],
      "metadata": {
        "id": "bAq4bukgAjA-"
      },
      "execution_count": null,
      "outputs": []
    },
    {
      "cell_type": "code",
      "source": [
        "from sklearn.metrics import roc_curve\n",
        "\n",
        "# Compute fpr, tpr, thresholds and roc auc\n",
        "fpr_DT, tpr_DT, thresholds = roc_curve(y_test, y_pred_dt)\n",
        "fpr_knn, tpr_knn, thresholds_knn = roc_curve(y_test, y_pred_knn)\n",
        "fpr_LR, tpr_LR, thresholds_LR = roc_curve(y_test, y_pred_lr)\n",
        "fpr_svc, tpr_svc, thresholds_svc = roc_curve(y_test, y_pred_svc)\n",
        "fpr_rf, tpr_rf, thresholds_rf = roc_curve(y_test, y_pred_rf)\n",
        "fpr_xg, tpr_xg, thresholds_xg = roc_curve(y_test, y_pred_xg)"
      ],
      "metadata": {
        "id": "ldxQ3z-EF4uG"
      },
      "execution_count": null,
      "outputs": []
    },
    {
      "cell_type": "code",
      "source": [
        "from sklearn.metrics import auc\n",
        "\n",
        "roc_auc_DT = auc(fpr_DT, tpr_DT)\n",
        "roc_auc_knn = auc(fpr_knn, tpr_knn)\n",
        "roc_auc_LR = auc(fpr_LR, tpr_LR)\n",
        "roc_auc_svc = auc(fpr_svc, tpr_svc)\n",
        "roc_auc_rf = auc(fpr_rf, tpr_rf)\n",
        "roc_auc_xg = auc(fpr_xg, tpr_xg)"
      ],
      "metadata": {
        "id": "V80-aLiWHnRa"
      },
      "execution_count": null,
      "outputs": []
    },
    {
      "cell_type": "code",
      "source": [
        "from sklearn.metrics import roc_curve\n",
        "from sklearn.metrics import auc\n",
        "\n",
        "# Compute fpr, tpr, thresholds and roc auc\n",
        "plt.figure(figsize = (7, 5))\n",
        "plt.plot(fpr_knn, tpr_knn, label='KNN ROC curve (area = %0.3f)' % roc_auc_knn)\n",
        "plt.plot(fpr_LR, tpr_LR, label='LR ROC curve (area = %0.3f)' % roc_auc_LR)\n",
        "plt.plot(fpr_svc, tpr_svc, label='SVM ROC curve (area = %0.3f)' % roc_auc_svc)\n",
        "plt.plot(fpr_DT, tpr_DT, label='DT ROC curve (area = %0.3f)' % roc_auc_DT)\n",
        "plt.plot(fpr_rf, tpr_rf, label='RF ROC curve (area = %0.3f)' % roc_auc_rf)\n",
        "plt.plot(fpr_xg, tpr_xg, label='XGB ROC curve (area = %0.3f)' % roc_auc_xg)\n",
        "plt.plot([0, 1], [0, 1], 'k--')\n",
        "plt.xlabel('False Positive Rate')\n",
        "plt.ylabel('True Positive Rate')\n",
        "plt.title('Receiver Operating Characteristic for 80%-20% Splitting')\n",
        "plt.legend(loc=\"lower right\")\n",
        "plt.savefig('all_roc.pdf', transparent=True, dpi=300)\n",
        "plt.savefig('all_roc.eps', transparent=True, dpi=300)\n",
        "plt.show()"
      ],
      "metadata": {
        "id": "4oOY-1soHaPz"
      },
      "execution_count": null,
      "outputs": []
    },
    {
      "cell_type": "code",
      "source": [
        "from sklearn.feature_selection import SelectKBest \n",
        "from sklearn.feature_selection import chi2  \n",
        "# 700 features with highest chi-squared statistics are selected \n",
        "chi2_features = SelectKBest(chi2,k=20)\n",
        "X = chi2_features.fit_transform(features, target)\n",
        "y = target\n",
        "\n",
        "from sklearn.ensemble import RandomForestClassifier\n",
        "\n",
        "model = RandomForestClassifier(random_state=0)\n",
        "model.fit(X_train, y_train)"
      ],
      "metadata": {
        "id": "u7OqkAn4Norq"
      },
      "execution_count": null,
      "outputs": []
    },
    {
      "cell_type": "code",
      "source": [
        "importance = pd.DataFrame(model.feature_importances_)\n",
        "columns = pd.DataFrame(features.columns)\n",
        "featureScores = pd.concat([columns,importance],axis=1)\n",
        "featureScores.columns = ['Features','importance']\n",
        "print(featureScores.nlargest(25,'importance')) "
      ],
      "metadata": {
        "id": "5yd57TYiO27V"
      },
      "execution_count": null,
      "outputs": []
    },
    {
      "cell_type": "code",
      "source": [
        "plt.figure(figsize=(20,7))\n",
        "featureScores.nlargest(25,'importance').plot(kind='barh')\n",
        "plt.title('Feature Importance')\n",
        "plt.savefig('feature_im_adult.pdf', \n",
        "           transparent=True, dpi=300)\n",
        "plt.savefig('feature_im_adult.eps', \n",
        "           transparent=True, dpi=300)"
      ],
      "metadata": {
        "id": "CkN0JzU_akse"
      },
      "execution_count": null,
      "outputs": []
    }
  ],
  "metadata": {
    "colab": {
      "collapsed_sections": [
        "_vaNN75RnATu",
        "TM9PCk6LxBVy",
        "9jsvcg8Sx7yu"
      ],
      "provenance": [],
      "toc_visible": true,
      "include_colab_link": true
    },
    "kernelspec": {
      "display_name": "Python 3",
      "language": "python",
      "name": "python3"
    },
    "language_info": {
      "codemirror_mode": {
        "name": "ipython",
        "version": 3
      },
      "file_extension": ".py",
      "mimetype": "text/x-python",
      "name": "python",
      "nbconvert_exporter": "python",
      "pygments_lexer": "ipython3",
      "version": "3.8.8"
    },
    "accelerator": "GPU",
    "gpuClass": "standard"
  },
  "nbformat": 4,
  "nbformat_minor": 0
}