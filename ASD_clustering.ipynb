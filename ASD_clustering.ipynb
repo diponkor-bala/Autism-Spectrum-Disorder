{
  "cells": [
    {
      "cell_type": "markdown",
      "metadata": {
        "id": "view-in-github",
        "colab_type": "text"
      },
      "source": [
        "<a href=\"https://colab.research.google.com/github/bsaha205/asd/blob/main/ASD_clustering.ipynb\" target=\"_parent\"><img src=\"https://colab.research.google.com/assets/colab-badge.svg\" alt=\"Open In Colab\"/></a>"
      ]
    },
    {
      "cell_type": "code",
      "execution_count": 153,
      "metadata": {
        "id": "mX0ekhHYE-5o",
        "colab": {
          "base_uri": "https://localhost:8080/"
        },
        "outputId": "7c7fcda1-8367-4cc5-bff0-8db12894b6bc"
      },
      "outputs": [
        {
          "output_type": "stream",
          "name": "stdout",
          "text": [
            "Drive already mounted at /content/drive/; to attempt to forcibly remount, call drive.mount(\"/content/drive/\", force_remount=True).\n"
          ]
        }
      ],
      "source": [
        "from google.colab import drive\n",
        "drive.mount('/content/drive/')"
      ]
    },
    {
      "cell_type": "code",
      "source": [
        "#necessary libraries\n",
        "import pandas as pd\n",
        "import numpy as np\n",
        "import seaborn as sns\n",
        "import matplotlib.pyplot as plt\n",
        "import plotly.express as px\n",
        "from plotly.subplots import make_subplots\n",
        "import plotly.graph_objects as go\n",
        "from sklearn.impute import SimpleImputer\n",
        "import warnings\n",
        "warnings.filterwarnings('ignore')"
      ],
      "metadata": {
        "id": "Ljb4krfFWtOl"
      },
      "execution_count": 154,
      "outputs": []
    },
    {
      "cell_type": "code",
      "execution_count": 155,
      "metadata": {
        "id": "ickOJDvTUibO"
      },
      "outputs": [],
      "source": [
        "#loading dataset\n",
        "adu = pd.read_csv(\"/content/drive/MyDrive/Research/ASD/Autism-Adult-Data.csv\",na_values=['?'])"
      ]
    },
    {
      "cell_type": "code",
      "execution_count": 156,
      "metadata": {
        "colab": {
          "base_uri": "https://localhost:8080/",
          "height": 382
        },
        "id": "5xTbex5RgyIS",
        "outputId": "84d9ad47-3f8b-4c57-835e-ab15c93b51a2"
      },
      "outputs": [
        {
          "output_type": "execute_result",
          "data": {
            "text/plain": [
              "      id  A1_Score  A2_Score  A3_Score  A4_Score  A5_Score  A6_Score  \\\n",
              "26    27         0         0         0         0         0         0   \n",
              "252  253         0         0         0         1         0         0   \n",
              "551  552         1         0         0         0         1         0   \n",
              "592  593         1         1         1         1         1         1   \n",
              "517  518         1         0         1         1         1         0   \n",
              "\n",
              "     A7_Score  A8_Score  A9_Score  ...  gender       ethnicity jundice austim  \\\n",
              "26          0         1         0  ...       m        Pasifika     yes    yes   \n",
              "252         0         1         0  ...       m           Asian      no     no   \n",
              "551         0         0         0  ...       f  White-European      no    yes   \n",
              "592         1         1         1  ...       m  White-European     yes     no   \n",
              "517         1         0         1  ...       m           Black      no     no   \n",
              "\n",
              "            contry_of_res used_app_before result     age_desc  relation  \\\n",
              "26   United Arab Emirates              no      1  18 and more      Self   \n",
              "252                 India              no      2  18 and more      Self   \n",
              "551             Australia              no      3  18 and more      Self   \n",
              "592        United Kingdom              no     10  18 and more      Self   \n",
              "517         AmericanSamoa              no      7  18 and more      Self   \n",
              "\n",
              "    Class/ASD  \n",
              "26         NO  \n",
              "252        NO  \n",
              "551        NO  \n",
              "592       YES  \n",
              "517       YES  \n",
              "\n",
              "[5 rows x 22 columns]"
            ],
            "text/html": [
              "\n",
              "  <div id=\"df-655f2514-e71d-4d45-a962-a07f96f6e6a6\">\n",
              "    <div class=\"colab-df-container\">\n",
              "      <div>\n",
              "<style scoped>\n",
              "    .dataframe tbody tr th:only-of-type {\n",
              "        vertical-align: middle;\n",
              "    }\n",
              "\n",
              "    .dataframe tbody tr th {\n",
              "        vertical-align: top;\n",
              "    }\n",
              "\n",
              "    .dataframe thead th {\n",
              "        text-align: right;\n",
              "    }\n",
              "</style>\n",
              "<table border=\"1\" class=\"dataframe\">\n",
              "  <thead>\n",
              "    <tr style=\"text-align: right;\">\n",
              "      <th></th>\n",
              "      <th>id</th>\n",
              "      <th>A1_Score</th>\n",
              "      <th>A2_Score</th>\n",
              "      <th>A3_Score</th>\n",
              "      <th>A4_Score</th>\n",
              "      <th>A5_Score</th>\n",
              "      <th>A6_Score</th>\n",
              "      <th>A7_Score</th>\n",
              "      <th>A8_Score</th>\n",
              "      <th>A9_Score</th>\n",
              "      <th>...</th>\n",
              "      <th>gender</th>\n",
              "      <th>ethnicity</th>\n",
              "      <th>jundice</th>\n",
              "      <th>austim</th>\n",
              "      <th>contry_of_res</th>\n",
              "      <th>used_app_before</th>\n",
              "      <th>result</th>\n",
              "      <th>age_desc</th>\n",
              "      <th>relation</th>\n",
              "      <th>Class/ASD</th>\n",
              "    </tr>\n",
              "  </thead>\n",
              "  <tbody>\n",
              "    <tr>\n",
              "      <th>26</th>\n",
              "      <td>27</td>\n",
              "      <td>0</td>\n",
              "      <td>0</td>\n",
              "      <td>0</td>\n",
              "      <td>0</td>\n",
              "      <td>0</td>\n",
              "      <td>0</td>\n",
              "      <td>0</td>\n",
              "      <td>1</td>\n",
              "      <td>0</td>\n",
              "      <td>...</td>\n",
              "      <td>m</td>\n",
              "      <td>Pasifika</td>\n",
              "      <td>yes</td>\n",
              "      <td>yes</td>\n",
              "      <td>United Arab Emirates</td>\n",
              "      <td>no</td>\n",
              "      <td>1</td>\n",
              "      <td>18 and more</td>\n",
              "      <td>Self</td>\n",
              "      <td>NO</td>\n",
              "    </tr>\n",
              "    <tr>\n",
              "      <th>252</th>\n",
              "      <td>253</td>\n",
              "      <td>0</td>\n",
              "      <td>0</td>\n",
              "      <td>0</td>\n",
              "      <td>1</td>\n",
              "      <td>0</td>\n",
              "      <td>0</td>\n",
              "      <td>0</td>\n",
              "      <td>1</td>\n",
              "      <td>0</td>\n",
              "      <td>...</td>\n",
              "      <td>m</td>\n",
              "      <td>Asian</td>\n",
              "      <td>no</td>\n",
              "      <td>no</td>\n",
              "      <td>India</td>\n",
              "      <td>no</td>\n",
              "      <td>2</td>\n",
              "      <td>18 and more</td>\n",
              "      <td>Self</td>\n",
              "      <td>NO</td>\n",
              "    </tr>\n",
              "    <tr>\n",
              "      <th>551</th>\n",
              "      <td>552</td>\n",
              "      <td>1</td>\n",
              "      <td>0</td>\n",
              "      <td>0</td>\n",
              "      <td>0</td>\n",
              "      <td>1</td>\n",
              "      <td>0</td>\n",
              "      <td>0</td>\n",
              "      <td>0</td>\n",
              "      <td>0</td>\n",
              "      <td>...</td>\n",
              "      <td>f</td>\n",
              "      <td>White-European</td>\n",
              "      <td>no</td>\n",
              "      <td>yes</td>\n",
              "      <td>Australia</td>\n",
              "      <td>no</td>\n",
              "      <td>3</td>\n",
              "      <td>18 and more</td>\n",
              "      <td>Self</td>\n",
              "      <td>NO</td>\n",
              "    </tr>\n",
              "    <tr>\n",
              "      <th>592</th>\n",
              "      <td>593</td>\n",
              "      <td>1</td>\n",
              "      <td>1</td>\n",
              "      <td>1</td>\n",
              "      <td>1</td>\n",
              "      <td>1</td>\n",
              "      <td>1</td>\n",
              "      <td>1</td>\n",
              "      <td>1</td>\n",
              "      <td>1</td>\n",
              "      <td>...</td>\n",
              "      <td>m</td>\n",
              "      <td>White-European</td>\n",
              "      <td>yes</td>\n",
              "      <td>no</td>\n",
              "      <td>United Kingdom</td>\n",
              "      <td>no</td>\n",
              "      <td>10</td>\n",
              "      <td>18 and more</td>\n",
              "      <td>Self</td>\n",
              "      <td>YES</td>\n",
              "    </tr>\n",
              "    <tr>\n",
              "      <th>517</th>\n",
              "      <td>518</td>\n",
              "      <td>1</td>\n",
              "      <td>0</td>\n",
              "      <td>1</td>\n",
              "      <td>1</td>\n",
              "      <td>1</td>\n",
              "      <td>0</td>\n",
              "      <td>1</td>\n",
              "      <td>0</td>\n",
              "      <td>1</td>\n",
              "      <td>...</td>\n",
              "      <td>m</td>\n",
              "      <td>Black</td>\n",
              "      <td>no</td>\n",
              "      <td>no</td>\n",
              "      <td>AmericanSamoa</td>\n",
              "      <td>no</td>\n",
              "      <td>7</td>\n",
              "      <td>18 and more</td>\n",
              "      <td>Self</td>\n",
              "      <td>YES</td>\n",
              "    </tr>\n",
              "  </tbody>\n",
              "</table>\n",
              "<p>5 rows × 22 columns</p>\n",
              "</div>\n",
              "      <button class=\"colab-df-convert\" onclick=\"convertToInteractive('df-655f2514-e71d-4d45-a962-a07f96f6e6a6')\"\n",
              "              title=\"Convert this dataframe to an interactive table.\"\n",
              "              style=\"display:none;\">\n",
              "        \n",
              "  <svg xmlns=\"http://www.w3.org/2000/svg\" height=\"24px\"viewBox=\"0 0 24 24\"\n",
              "       width=\"24px\">\n",
              "    <path d=\"M0 0h24v24H0V0z\" fill=\"none\"/>\n",
              "    <path d=\"M18.56 5.44l.94 2.06.94-2.06 2.06-.94-2.06-.94-.94-2.06-.94 2.06-2.06.94zm-11 1L8.5 8.5l.94-2.06 2.06-.94-2.06-.94L8.5 2.5l-.94 2.06-2.06.94zm10 10l.94 2.06.94-2.06 2.06-.94-2.06-.94-.94-2.06-.94 2.06-2.06.94z\"/><path d=\"M17.41 7.96l-1.37-1.37c-.4-.4-.92-.59-1.43-.59-.52 0-1.04.2-1.43.59L10.3 9.45l-7.72 7.72c-.78.78-.78 2.05 0 2.83L4 21.41c.39.39.9.59 1.41.59.51 0 1.02-.2 1.41-.59l7.78-7.78 2.81-2.81c.8-.78.8-2.07 0-2.86zM5.41 20L4 18.59l7.72-7.72 1.47 1.35L5.41 20z\"/>\n",
              "  </svg>\n",
              "      </button>\n",
              "      \n",
              "  <style>\n",
              "    .colab-df-container {\n",
              "      display:flex;\n",
              "      flex-wrap:wrap;\n",
              "      gap: 12px;\n",
              "    }\n",
              "\n",
              "    .colab-df-convert {\n",
              "      background-color: #E8F0FE;\n",
              "      border: none;\n",
              "      border-radius: 50%;\n",
              "      cursor: pointer;\n",
              "      display: none;\n",
              "      fill: #1967D2;\n",
              "      height: 32px;\n",
              "      padding: 0 0 0 0;\n",
              "      width: 32px;\n",
              "    }\n",
              "\n",
              "    .colab-df-convert:hover {\n",
              "      background-color: #E2EBFA;\n",
              "      box-shadow: 0px 1px 2px rgba(60, 64, 67, 0.3), 0px 1px 3px 1px rgba(60, 64, 67, 0.15);\n",
              "      fill: #174EA6;\n",
              "    }\n",
              "\n",
              "    [theme=dark] .colab-df-convert {\n",
              "      background-color: #3B4455;\n",
              "      fill: #D2E3FC;\n",
              "    }\n",
              "\n",
              "    [theme=dark] .colab-df-convert:hover {\n",
              "      background-color: #434B5C;\n",
              "      box-shadow: 0px 1px 3px 1px rgba(0, 0, 0, 0.15);\n",
              "      filter: drop-shadow(0px 1px 2px rgba(0, 0, 0, 0.3));\n",
              "      fill: #FFFFFF;\n",
              "    }\n",
              "  </style>\n",
              "\n",
              "      <script>\n",
              "        const buttonEl =\n",
              "          document.querySelector('#df-655f2514-e71d-4d45-a962-a07f96f6e6a6 button.colab-df-convert');\n",
              "        buttonEl.style.display =\n",
              "          google.colab.kernel.accessAllowed ? 'block' : 'none';\n",
              "\n",
              "        async function convertToInteractive(key) {\n",
              "          const element = document.querySelector('#df-655f2514-e71d-4d45-a962-a07f96f6e6a6');\n",
              "          const dataTable =\n",
              "            await google.colab.kernel.invokeFunction('convertToInteractive',\n",
              "                                                     [key], {});\n",
              "          if (!dataTable) return;\n",
              "\n",
              "          const docLinkHtml = 'Like what you see? Visit the ' +\n",
              "            '<a target=\"_blank\" href=https://colab.research.google.com/notebooks/data_table.ipynb>data table notebook</a>'\n",
              "            + ' to learn more about interactive tables.';\n",
              "          element.innerHTML = '';\n",
              "          dataTable['output_type'] = 'display_data';\n",
              "          await google.colab.output.renderOutput(dataTable, element);\n",
              "          const docLink = document.createElement('div');\n",
              "          docLink.innerHTML = docLinkHtml;\n",
              "          element.appendChild(docLink);\n",
              "        }\n",
              "      </script>\n",
              "    </div>\n",
              "  </div>\n",
              "  "
            ]
          },
          "metadata": {},
          "execution_count": 156
        }
      ],
      "source": [
        "#Adults\n",
        "adu.sample(5)"
      ]
    },
    {
      "cell_type": "code",
      "execution_count": 157,
      "metadata": {
        "colab": {
          "base_uri": "https://localhost:8080/"
        },
        "id": "cosybTKdI3Ur",
        "outputId": "ba9d4b62-7e93-4a97-c187-22cce5434dd7"
      },
      "outputs": [
        {
          "output_type": "stream",
          "name": "stdout",
          "text": [
            "Adults      : (704, 22)\n"
          ]
        }
      ],
      "source": [
        "# Number of tuples and fields\n",
        "print(\"Adults      :\",adu.shape)"
      ]
    },
    {
      "cell_type": "code",
      "execution_count": 158,
      "metadata": {
        "colab": {
          "base_uri": "https://localhost:8080/"
        },
        "id": "MXGaYqaxiNA8",
        "outputId": "d2bf8d7d-f8af-43b8-e010-db0df16b57c9"
      },
      "outputs": [
        {
          "output_type": "stream",
          "name": "stdout",
          "text": [
            "<class 'pandas.core.frame.DataFrame'>\n",
            "RangeIndex: 704 entries, 0 to 703\n",
            "Data columns (total 22 columns):\n",
            " #   Column           Non-Null Count  Dtype  \n",
            "---  ------           --------------  -----  \n",
            " 0   id               704 non-null    int64  \n",
            " 1   A1_Score         704 non-null    int64  \n",
            " 2   A2_Score         704 non-null    int64  \n",
            " 3   A3_Score         704 non-null    int64  \n",
            " 4   A4_Score         704 non-null    int64  \n",
            " 5   A5_Score         704 non-null    int64  \n",
            " 6   A6_Score         704 non-null    int64  \n",
            " 7   A7_Score         704 non-null    int64  \n",
            " 8   A8_Score         704 non-null    int64  \n",
            " 9   A9_Score         704 non-null    int64  \n",
            " 10  A10_Score        704 non-null    int64  \n",
            " 11  age              702 non-null    float64\n",
            " 12  gender           704 non-null    object \n",
            " 13  ethnicity        609 non-null    object \n",
            " 14  jundice          704 non-null    object \n",
            " 15  austim           704 non-null    object \n",
            " 16  contry_of_res    704 non-null    object \n",
            " 17  used_app_before  704 non-null    object \n",
            " 18  result           704 non-null    int64  \n",
            " 19  age_desc         704 non-null    object \n",
            " 20  relation         609 non-null    object \n",
            " 21  Class/ASD        704 non-null    object \n",
            "dtypes: float64(1), int64(12), object(9)\n",
            "memory usage: 121.1+ KB\n"
          ]
        }
      ],
      "source": [
        "#Adults\n",
        "adu.info()"
      ]
    },
    {
      "cell_type": "code",
      "execution_count": 159,
      "metadata": {
        "colab": {
          "base_uri": "https://localhost:8080/",
          "height": 297
        },
        "id": "uydTWHqYxuuL",
        "outputId": "2fdc9672-c990-43dd-e1bf-150fe0039fd2"
      },
      "outputs": [
        {
          "output_type": "execute_result",
          "data": {
            "text/plain": [
              "               id    A1_Score    A2_Score    A3_Score    A4_Score    A5_Score  \\\n",
              "count  704.000000  704.000000  704.000000  704.000000  704.000000  704.000000   \n",
              "mean   352.500000    0.721591    0.453125    0.457386    0.495739    0.498580   \n",
              "std    203.371581    0.448535    0.498152    0.498535    0.500337    0.500353   \n",
              "min      1.000000    0.000000    0.000000    0.000000    0.000000    0.000000   \n",
              "25%    176.750000    0.000000    0.000000    0.000000    0.000000    0.000000   \n",
              "50%    352.500000    1.000000    0.000000    0.000000    0.000000    0.000000   \n",
              "75%    528.250000    1.000000    1.000000    1.000000    1.000000    1.000000   \n",
              "max    704.000000    1.000000    1.000000    1.000000    1.000000    1.000000   \n",
              "\n",
              "         A6_Score    A7_Score    A8_Score    A9_Score   A10_Score         age  \\\n",
              "count  704.000000  704.000000  704.000000  704.000000  704.000000  702.000000   \n",
              "mean     0.284091    0.417614    0.649148    0.323864    0.573864   29.698006   \n",
              "std      0.451301    0.493516    0.477576    0.468281    0.494866   16.507465   \n",
              "min      0.000000    0.000000    0.000000    0.000000    0.000000   17.000000   \n",
              "25%      0.000000    0.000000    0.000000    0.000000    0.000000   21.000000   \n",
              "50%      0.000000    0.000000    1.000000    0.000000    1.000000   27.000000   \n",
              "75%      1.000000    1.000000    1.000000    1.000000    1.000000   35.000000   \n",
              "max      1.000000    1.000000    1.000000    1.000000    1.000000  383.000000   \n",
              "\n",
              "           result  \n",
              "count  704.000000  \n",
              "mean     4.875000  \n",
              "std      2.501493  \n",
              "min      0.000000  \n",
              "25%      3.000000  \n",
              "50%      4.000000  \n",
              "75%      7.000000  \n",
              "max     10.000000  "
            ],
            "text/html": [
              "\n",
              "  <div id=\"df-70545ef1-5e87-493a-aac9-dffcd09c6d9a\">\n",
              "    <div class=\"colab-df-container\">\n",
              "      <div>\n",
              "<style scoped>\n",
              "    .dataframe tbody tr th:only-of-type {\n",
              "        vertical-align: middle;\n",
              "    }\n",
              "\n",
              "    .dataframe tbody tr th {\n",
              "        vertical-align: top;\n",
              "    }\n",
              "\n",
              "    .dataframe thead th {\n",
              "        text-align: right;\n",
              "    }\n",
              "</style>\n",
              "<table border=\"1\" class=\"dataframe\">\n",
              "  <thead>\n",
              "    <tr style=\"text-align: right;\">\n",
              "      <th></th>\n",
              "      <th>id</th>\n",
              "      <th>A1_Score</th>\n",
              "      <th>A2_Score</th>\n",
              "      <th>A3_Score</th>\n",
              "      <th>A4_Score</th>\n",
              "      <th>A5_Score</th>\n",
              "      <th>A6_Score</th>\n",
              "      <th>A7_Score</th>\n",
              "      <th>A8_Score</th>\n",
              "      <th>A9_Score</th>\n",
              "      <th>A10_Score</th>\n",
              "      <th>age</th>\n",
              "      <th>result</th>\n",
              "    </tr>\n",
              "  </thead>\n",
              "  <tbody>\n",
              "    <tr>\n",
              "      <th>count</th>\n",
              "      <td>704.000000</td>\n",
              "      <td>704.000000</td>\n",
              "      <td>704.000000</td>\n",
              "      <td>704.000000</td>\n",
              "      <td>704.000000</td>\n",
              "      <td>704.000000</td>\n",
              "      <td>704.000000</td>\n",
              "      <td>704.000000</td>\n",
              "      <td>704.000000</td>\n",
              "      <td>704.000000</td>\n",
              "      <td>704.000000</td>\n",
              "      <td>702.000000</td>\n",
              "      <td>704.000000</td>\n",
              "    </tr>\n",
              "    <tr>\n",
              "      <th>mean</th>\n",
              "      <td>352.500000</td>\n",
              "      <td>0.721591</td>\n",
              "      <td>0.453125</td>\n",
              "      <td>0.457386</td>\n",
              "      <td>0.495739</td>\n",
              "      <td>0.498580</td>\n",
              "      <td>0.284091</td>\n",
              "      <td>0.417614</td>\n",
              "      <td>0.649148</td>\n",
              "      <td>0.323864</td>\n",
              "      <td>0.573864</td>\n",
              "      <td>29.698006</td>\n",
              "      <td>4.875000</td>\n",
              "    </tr>\n",
              "    <tr>\n",
              "      <th>std</th>\n",
              "      <td>203.371581</td>\n",
              "      <td>0.448535</td>\n",
              "      <td>0.498152</td>\n",
              "      <td>0.498535</td>\n",
              "      <td>0.500337</td>\n",
              "      <td>0.500353</td>\n",
              "      <td>0.451301</td>\n",
              "      <td>0.493516</td>\n",
              "      <td>0.477576</td>\n",
              "      <td>0.468281</td>\n",
              "      <td>0.494866</td>\n",
              "      <td>16.507465</td>\n",
              "      <td>2.501493</td>\n",
              "    </tr>\n",
              "    <tr>\n",
              "      <th>min</th>\n",
              "      <td>1.000000</td>\n",
              "      <td>0.000000</td>\n",
              "      <td>0.000000</td>\n",
              "      <td>0.000000</td>\n",
              "      <td>0.000000</td>\n",
              "      <td>0.000000</td>\n",
              "      <td>0.000000</td>\n",
              "      <td>0.000000</td>\n",
              "      <td>0.000000</td>\n",
              "      <td>0.000000</td>\n",
              "      <td>0.000000</td>\n",
              "      <td>17.000000</td>\n",
              "      <td>0.000000</td>\n",
              "    </tr>\n",
              "    <tr>\n",
              "      <th>25%</th>\n",
              "      <td>176.750000</td>\n",
              "      <td>0.000000</td>\n",
              "      <td>0.000000</td>\n",
              "      <td>0.000000</td>\n",
              "      <td>0.000000</td>\n",
              "      <td>0.000000</td>\n",
              "      <td>0.000000</td>\n",
              "      <td>0.000000</td>\n",
              "      <td>0.000000</td>\n",
              "      <td>0.000000</td>\n",
              "      <td>0.000000</td>\n",
              "      <td>21.000000</td>\n",
              "      <td>3.000000</td>\n",
              "    </tr>\n",
              "    <tr>\n",
              "      <th>50%</th>\n",
              "      <td>352.500000</td>\n",
              "      <td>1.000000</td>\n",
              "      <td>0.000000</td>\n",
              "      <td>0.000000</td>\n",
              "      <td>0.000000</td>\n",
              "      <td>0.000000</td>\n",
              "      <td>0.000000</td>\n",
              "      <td>0.000000</td>\n",
              "      <td>1.000000</td>\n",
              "      <td>0.000000</td>\n",
              "      <td>1.000000</td>\n",
              "      <td>27.000000</td>\n",
              "      <td>4.000000</td>\n",
              "    </tr>\n",
              "    <tr>\n",
              "      <th>75%</th>\n",
              "      <td>528.250000</td>\n",
              "      <td>1.000000</td>\n",
              "      <td>1.000000</td>\n",
              "      <td>1.000000</td>\n",
              "      <td>1.000000</td>\n",
              "      <td>1.000000</td>\n",
              "      <td>1.000000</td>\n",
              "      <td>1.000000</td>\n",
              "      <td>1.000000</td>\n",
              "      <td>1.000000</td>\n",
              "      <td>1.000000</td>\n",
              "      <td>35.000000</td>\n",
              "      <td>7.000000</td>\n",
              "    </tr>\n",
              "    <tr>\n",
              "      <th>max</th>\n",
              "      <td>704.000000</td>\n",
              "      <td>1.000000</td>\n",
              "      <td>1.000000</td>\n",
              "      <td>1.000000</td>\n",
              "      <td>1.000000</td>\n",
              "      <td>1.000000</td>\n",
              "      <td>1.000000</td>\n",
              "      <td>1.000000</td>\n",
              "      <td>1.000000</td>\n",
              "      <td>1.000000</td>\n",
              "      <td>1.000000</td>\n",
              "      <td>383.000000</td>\n",
              "      <td>10.000000</td>\n",
              "    </tr>\n",
              "  </tbody>\n",
              "</table>\n",
              "</div>\n",
              "      <button class=\"colab-df-convert\" onclick=\"convertToInteractive('df-70545ef1-5e87-493a-aac9-dffcd09c6d9a')\"\n",
              "              title=\"Convert this dataframe to an interactive table.\"\n",
              "              style=\"display:none;\">\n",
              "        \n",
              "  <svg xmlns=\"http://www.w3.org/2000/svg\" height=\"24px\"viewBox=\"0 0 24 24\"\n",
              "       width=\"24px\">\n",
              "    <path d=\"M0 0h24v24H0V0z\" fill=\"none\"/>\n",
              "    <path d=\"M18.56 5.44l.94 2.06.94-2.06 2.06-.94-2.06-.94-.94-2.06-.94 2.06-2.06.94zm-11 1L8.5 8.5l.94-2.06 2.06-.94-2.06-.94L8.5 2.5l-.94 2.06-2.06.94zm10 10l.94 2.06.94-2.06 2.06-.94-2.06-.94-.94-2.06-.94 2.06-2.06.94z\"/><path d=\"M17.41 7.96l-1.37-1.37c-.4-.4-.92-.59-1.43-.59-.52 0-1.04.2-1.43.59L10.3 9.45l-7.72 7.72c-.78.78-.78 2.05 0 2.83L4 21.41c.39.39.9.59 1.41.59.51 0 1.02-.2 1.41-.59l7.78-7.78 2.81-2.81c.8-.78.8-2.07 0-2.86zM5.41 20L4 18.59l7.72-7.72 1.47 1.35L5.41 20z\"/>\n",
              "  </svg>\n",
              "      </button>\n",
              "      \n",
              "  <style>\n",
              "    .colab-df-container {\n",
              "      display:flex;\n",
              "      flex-wrap:wrap;\n",
              "      gap: 12px;\n",
              "    }\n",
              "\n",
              "    .colab-df-convert {\n",
              "      background-color: #E8F0FE;\n",
              "      border: none;\n",
              "      border-radius: 50%;\n",
              "      cursor: pointer;\n",
              "      display: none;\n",
              "      fill: #1967D2;\n",
              "      height: 32px;\n",
              "      padding: 0 0 0 0;\n",
              "      width: 32px;\n",
              "    }\n",
              "\n",
              "    .colab-df-convert:hover {\n",
              "      background-color: #E2EBFA;\n",
              "      box-shadow: 0px 1px 2px rgba(60, 64, 67, 0.3), 0px 1px 3px 1px rgba(60, 64, 67, 0.15);\n",
              "      fill: #174EA6;\n",
              "    }\n",
              "\n",
              "    [theme=dark] .colab-df-convert {\n",
              "      background-color: #3B4455;\n",
              "      fill: #D2E3FC;\n",
              "    }\n",
              "\n",
              "    [theme=dark] .colab-df-convert:hover {\n",
              "      background-color: #434B5C;\n",
              "      box-shadow: 0px 1px 3px 1px rgba(0, 0, 0, 0.15);\n",
              "      filter: drop-shadow(0px 1px 2px rgba(0, 0, 0, 0.3));\n",
              "      fill: #FFFFFF;\n",
              "    }\n",
              "  </style>\n",
              "\n",
              "      <script>\n",
              "        const buttonEl =\n",
              "          document.querySelector('#df-70545ef1-5e87-493a-aac9-dffcd09c6d9a button.colab-df-convert');\n",
              "        buttonEl.style.display =\n",
              "          google.colab.kernel.accessAllowed ? 'block' : 'none';\n",
              "\n",
              "        async function convertToInteractive(key) {\n",
              "          const element = document.querySelector('#df-70545ef1-5e87-493a-aac9-dffcd09c6d9a');\n",
              "          const dataTable =\n",
              "            await google.colab.kernel.invokeFunction('convertToInteractive',\n",
              "                                                     [key], {});\n",
              "          if (!dataTable) return;\n",
              "\n",
              "          const docLinkHtml = 'Like what you see? Visit the ' +\n",
              "            '<a target=\"_blank\" href=https://colab.research.google.com/notebooks/data_table.ipynb>data table notebook</a>'\n",
              "            + ' to learn more about interactive tables.';\n",
              "          element.innerHTML = '';\n",
              "          dataTable['output_type'] = 'display_data';\n",
              "          await google.colab.output.renderOutput(dataTable, element);\n",
              "          const docLink = document.createElement('div');\n",
              "          docLink.innerHTML = docLinkHtml;\n",
              "          element.appendChild(docLink);\n",
              "        }\n",
              "      </script>\n",
              "    </div>\n",
              "  </div>\n",
              "  "
            ]
          },
          "metadata": {},
          "execution_count": 159
        }
      ],
      "source": [
        "#Adults\n",
        "adu.describe()"
      ]
    },
    {
      "cell_type": "code",
      "execution_count": 160,
      "metadata": {
        "colab": {
          "base_uri": "https://localhost:8080/"
        },
        "id": "1w-dVtFfyZiJ",
        "outputId": "853600ec-8791-4880-8666-72daf12191f1"
      },
      "outputs": [
        {
          "output_type": "stream",
          "name": "stdout",
          "text": [
            "Total no. of missing values in Adults's dataset     :  192\n"
          ]
        }
      ],
      "source": [
        "#Total number of missing values in each dataset\n",
        "print(\"Total no. of missing values in Adults's dataset     : \",adu.isnull().sum().sum())"
      ]
    },
    {
      "cell_type": "code",
      "execution_count": 161,
      "metadata": {
        "colab": {
          "base_uri": "https://localhost:8080/"
        },
        "id": "ko79c2d0jI_9",
        "outputId": "7947a7b7-9ef2-4fa1-c64f-f686a29f3ae1"
      },
      "outputs": [
        {
          "output_type": "execute_result",
          "data": {
            "text/plain": [
              "id                  0\n",
              "A1_Score            0\n",
              "A2_Score            0\n",
              "A3_Score            0\n",
              "A4_Score            0\n",
              "A5_Score            0\n",
              "A6_Score            0\n",
              "A7_Score            0\n",
              "A8_Score            0\n",
              "A9_Score            0\n",
              "A10_Score           0\n",
              "age                 2\n",
              "gender              0\n",
              "ethnicity          95\n",
              "jundice             0\n",
              "austim              0\n",
              "contry_of_res       0\n",
              "used_app_before     0\n",
              "result              0\n",
              "age_desc            0\n",
              "relation           95\n",
              "Class/ASD           0\n",
              "dtype: int64"
            ]
          },
          "metadata": {},
          "execution_count": 161
        }
      ],
      "source": [
        "#Adults\n",
        "adu.isnull().sum()"
      ]
    },
    {
      "cell_type": "code",
      "execution_count": 162,
      "metadata": {
        "colab": {
          "base_uri": "https://localhost:8080/",
          "height": 369
        },
        "id": "oppclSaWI3m8",
        "outputId": "9b2d726f-0837-4030-cbda-a1caa9a6d62b"
      },
      "outputs": [
        {
          "output_type": "display_data",
          "data": {
            "text/plain": [
              "<Figure size 396x360 with 1 Axes>"
            ],
            "image/png": "[encoded data removed]"
          },
          "metadata": {
            "needs_background": "light"
          }
        }
      ],
      "source": [
        "fig, ax = plt.subplots(figsize=(5.5,5))\n",
        "\n",
        "sns.heatmap(adu.isnull(),yticklabels=False,cbar=False,cmap='rocket',ax=ax)\n",
        "ax.set_title(\"Adults's dataset\",fontsize = 15)\n",
        "fig.tight_layout()\n",
        "plt.savefig('heatmap_adu.pdf', transparent=True, dpi=300)"
      ]
    },
    {
      "cell_type": "code",
      "execution_count": 163,
      "metadata": {
        "colab": {
          "base_uri": "https://localhost:8080/"
        },
        "id": "CkwWk_C2b3rd",
        "outputId": "42b4413f-1bd5-4818-acc9-3f358456cd39"
      },
      "outputs": [
        {
          "output_type": "stream",
          "name": "stdout",
          "text": [
            "\n",
            "No of adults diagonised with ASD =  189\n",
            "No of adults not diagonised with ASD =  515\n"
          ]
        }
      ],
      "source": [
        "#ASD or Not\n",
        "print(\"\\nNo of adults diagonised with ASD = \",len(adu[adu['Class/ASD'] == 'YES']))\n",
        "print(\"No of adults not diagonised with ASD = \",len(adu[adu['Class/ASD'] == 'NO']))"
      ]
    },
    {
      "cell_type": "code",
      "execution_count": 164,
      "metadata": {
        "id": "WBfvldgJGn4p"
      },
      "outputs": [],
      "source": [
        "# #Data distribution\n",
        "# fig, ax = plt.subplots(figsize=(5, 5))\n",
        "# sns.countplot(adu['Class/ASD'],ax=ax)\n",
        "# ax.set_title(\"Adults's dataset\",fontsize = 15)\n",
        "# fig.tight_layout()\n",
        "# plt.savefig('distribution_adu.pdf', transparent=True, dpi=300)"
      ]
    },
    {
      "cell_type": "code",
      "execution_count": 165,
      "metadata": {
        "colab": {
          "base_uri": "https://localhost:8080/",
          "height": 513
        },
        "id": "gGHFxQb9ePSv",
        "outputId": "d46428d9-2788-49b2-c0fd-646d5573b420"
      },
      "outputs": [
        {
          "output_type": "display_data",
          "data": {
            "text/plain": [
              "<Figure size 720x504 with 2 Axes>"
            ],
            "image/png": "[encoded data removed]"
          },
          "metadata": {
            "needs_background": "light"
          }
        }
      ],
      "source": [
        "#Correlation\n",
        "fig, ax = plt.subplots(figsize=(10,7))\n",
        "sns.heatmap(adu.corr(),annot=True,cmap='coolwarm',vmin=0, vmax=1,ax=ax)\n",
        "ax.set_title(\"Adults's dataset\",fontsize = 15)\n",
        "fig.tight_layout()\n",
        "plt.savefig('correlation_adu.pdf', transparent=True, dpi=300)"
      ]
    },
    {
      "cell_type": "code",
      "execution_count": 166,
      "metadata": {
        "colab": {
          "base_uri": "https://localhost:8080/"
        },
        "id": "emuIeb6o3ivZ",
        "outputId": "c16cdafe-3535-4aa6-f0a4-3d81f7347ceb"
      },
      "outputs": [
        {
          "output_type": "stream",
          "name": "stdout",
          "text": [
            "No of missing values in Adults's dataset      =  192\n"
          ]
        }
      ],
      "source": [
        "#Number of missing values in each dataset\n",
        "print(\"No of missing values in Adults's dataset      = \",adu.isnull().sum().sum())"
      ]
    },
    {
      "cell_type": "code",
      "execution_count": 167,
      "metadata": {
        "id": "0MK70ZQ4oIcJ"
      },
      "outputs": [],
      "source": [
        "#Imputing missing values of categorical features with mode\n",
        "imputer_mode = SimpleImputer(missing_values=np.NaN, strategy='most_frequent')\n",
        "\n",
        "adu.ethnicity = imputer_mode.fit_transform(adu.ethnicity.values.reshape(-1,1))[:,0]\n",
        "adu.relation = imputer_mode.fit_transform(adu.relation.values.reshape(-1,1))[:,0]\n",
        "\n",
        "#Imputing missing values of numerical features with mean\n",
        "imputer_mode = SimpleImputer(missing_values=np.NaN, strategy='mean')\n",
        "adu.age = imputer_mode.fit_transform(adu.age.values.reshape(-1,1))[:,0]"
      ]
    },
    {
      "cell_type": "code",
      "execution_count": 168,
      "metadata": {
        "colab": {
          "base_uri": "https://localhost:8080/"
        },
        "id": "2J2wHBBvs2Je",
        "outputId": "1bac4774-504f-4825-9f89-edb33d712b77"
      },
      "outputs": [
        {
          "output_type": "stream",
          "name": "stdout",
          "text": [
            "After imputing,\n",
            "No of missing values in Adults's dataset      =  0\n"
          ]
        }
      ],
      "source": [
        "print(\"After imputing,\\nNo of missing values in Adults's dataset      = \",adu.isnull().sum().sum())"
      ]
    },
    {
      "cell_type": "code",
      "execution_count": 169,
      "metadata": {
        "id": "uoJbz1sQxwSP"
      },
      "outputs": [],
      "source": [
        "#Since age of toddlers are represented in months, age(in years) of adults is converted to age in months.\n",
        "adu.rename(columns = {'age':'Age_Mons'}, inplace = True)\n",
        "\n",
        "adu['Age_Mons'] = adu['Age_Mons']*12"
      ]
    },
    {
      "cell_type": "code",
      "execution_count": 170,
      "metadata": {
        "id": "4ulLZ6dRSmGV"
      },
      "outputs": [],
      "source": [
        "#Making classes of categorical variables same for all datasets\n",
        "adu['ethnicity'] = adu['ethnicity'].replace('Others','others')"
      ]
    },
    {
      "cell_type": "markdown",
      "metadata": {
        "id": "S3DzwzUrn3Qi"
      },
      "source": [
        "### **Model fitting**"
      ]
    },
    {
      "cell_type": "markdown",
      "metadata": {
        "id": "PRLEatQdt1EC"
      },
      "source": [
        "*Spliting dependent and independent features*\n"
      ]
    },
    {
      "cell_type": "code",
      "source": [
        "shuffled_data = adu.sample(frac=1,random_state=4)\n",
        "ASD_data = shuffled_data.loc[shuffled_data['Class/ASD'] == 'YES']\n",
        "non_ASD_data = shuffled_data.loc[shuffled_data['Class/ASD'] == 'NO'].sample(n=189)\n",
        "adu= pd.concat([ASD_data, non_ASD_data])"
      ],
      "metadata": {
        "id": "ty5oEvMBAyZh"
      },
      "execution_count": 171,
      "outputs": []
    },
    {
      "cell_type": "code",
      "execution_count": 172,
      "metadata": {
        "id": "vUVAqS8GgpyJ"
      },
      "outputs": [],
      "source": [
        "# Split the data into features and target label\n",
        "raw_target= adu['Class/ASD']\n",
        "raw_features = adu[['A1_Score','A2_Score','A3_Score','A4_Score','A5_Score','A6_Score','A7_Score','A8_Score','A9_Score','A10_Score','Age_Mons', 'gender', 'ethnicity', 'jundice', 'austim', 'contry_of_res', 'result','relation']]"
      ]
    },
    {
      "cell_type": "markdown",
      "metadata": {
        "id": "pLVEOpt2uT32"
      },
      "source": [
        "*Feature Scaling*"
      ]
    },
    {
      "cell_type": "code",
      "execution_count": 173,
      "metadata": {
        "id": "JAL4Z9Wsgp0O"
      },
      "outputs": [],
      "source": [
        "from sklearn.preprocessing import MinMaxScaler\n",
        "scaler = MinMaxScaler()\n",
        "num_features = ['Age_Mons', 'result']\n",
        "\n",
        "features_minmax_transform = pd.DataFrame(data = raw_features)\n",
        "features_minmax_transform[num_features] = scaler.fit_transform(raw_features[num_features])"
      ]
    },
    {
      "cell_type": "code",
      "execution_count": 174,
      "metadata": {
        "colab": {
          "base_uri": "https://localhost:8080/",
          "height": 285
        },
        "id": "FLnD_7lDiSaB",
        "outputId": "87da850b-6a24-486b-8d8e-93492786762c"
      },
      "outputs": [
        {
          "output_type": "execute_result",
          "data": {
            "text/plain": [
              "     A1_Score  A2_Score  A3_Score  A4_Score  A5_Score  A6_Score  A7_Score  \\\n",
              "146         1         0         1         1         1         1         1   \n",
              "169         1         1         1         1         1         0         0   \n",
              "641         1         0         1         1         1         0         1   \n",
              "681         1         1         0         1         1         1         1   \n",
              "696         1         1         1         1         1         1         0   \n",
              "\n",
              "     A8_Score  A9_Score  A10_Score  Age_Mons gender       ethnicity jundice  \\\n",
              "146         1         1          1  0.008197      m  White-European      no   \n",
              "169         1         1          1  0.051913      f          Latino      no   \n",
              "641         1         1          0  0.032787      m          Latino      no   \n",
              "681         1         1          1  0.087432      f        Hispanic      no   \n",
              "696         1         1          1  0.038251      m         Turkish      no   \n",
              "\n",
              "    austim  contry_of_res  result relation  \n",
              "146     no      Australia     0.9     Self  \n",
              "169    yes         Brazil     0.8     Self  \n",
              "641     no  United States     0.7     Self  \n",
              "681     no  United States     0.9     Self  \n",
              "696    yes      Australia     0.9     Self  "
            ],
            "text/html": [
              "\n",
              "  <div id=\"df-05cc82c5-b2e5-42e6-adb0-bbb1c6a7a7af\">\n",
              "    <div class=\"colab-df-container\">\n",
              "      <div>\n",
              "<style scoped>\n",
              "    .dataframe tbody tr th:only-of-type {\n",
              "        vertical-align: middle;\n",
              "    }\n",
              "\n",
              "    .dataframe tbody tr th {\n",
              "        vertical-align: top;\n",
              "    }\n",
              "\n",
              "    .dataframe thead th {\n",
              "        text-align: right;\n",
              "    }\n",
              "</style>\n",
              "<table border=\"1\" class=\"dataframe\">\n",
              "  <thead>\n",
              "    <tr style=\"text-align: right;\">\n",
              "      <th></th>\n",
              "      <th>A1_Score</th>\n",
              "      <th>A2_Score</th>\n",
              "      <th>A3_Score</th>\n",
              "      <th>A4_Score</th>\n",
              "      <th>A5_Score</th>\n",
              "      <th>A6_Score</th>\n",
              "      <th>A7_Score</th>\n",
              "      <th>A8_Score</th>\n",
              "      <th>A9_Score</th>\n",
              "      <th>A10_Score</th>\n",
              "      <th>Age_Mons</th>\n",
              "      <th>gender</th>\n",
              "      <th>ethnicity</th>\n",
              "      <th>jundice</th>\n",
              "      <th>austim</th>\n",
              "      <th>contry_of_res</th>\n",
              "      <th>result</th>\n",
              "      <th>relation</th>\n",
              "    </tr>\n",
              "  </thead>\n",
              "  <tbody>\n",
              "    <tr>\n",
              "      <th>146</th>\n",
              "      <td>1</td>\n",
              "      <td>0</td>\n",
              "      <td>1</td>\n",
              "      <td>1</td>\n",
              "      <td>1</td>\n",
              "      <td>1</td>\n",
              "      <td>1</td>\n",
              "      <td>1</td>\n",
              "      <td>1</td>\n",
              "      <td>1</td>\n",
              "      <td>0.008197</td>\n",
              "      <td>m</td>\n",
              "      <td>White-European</td>\n",
              "      <td>no</td>\n",
              "      <td>no</td>\n",
              "      <td>Australia</td>\n",
              "      <td>0.9</td>\n",
              "      <td>Self</td>\n",
              "    </tr>\n",
              "    <tr>\n",
              "      <th>169</th>\n",
              "      <td>1</td>\n",
              "      <td>1</td>\n",
              "      <td>1</td>\n",
              "      <td>1</td>\n",
              "      <td>1</td>\n",
              "      <td>0</td>\n",
              "      <td>0</td>\n",
              "      <td>1</td>\n",
              "      <td>1</td>\n",
              "      <td>1</td>\n",
              "      <td>0.051913</td>\n",
              "      <td>f</td>\n",
              "      <td>Latino</td>\n",
              "      <td>no</td>\n",
              "      <td>yes</td>\n",
              "      <td>Brazil</td>\n",
              "      <td>0.8</td>\n",
              "      <td>Self</td>\n",
              "    </tr>\n",
              "    <tr>\n",
              "      <th>641</th>\n",
              "      <td>1</td>\n",
              "      <td>0</td>\n",
              "      <td>1</td>\n",
              "      <td>1</td>\n",
              "      <td>1</td>\n",
              "      <td>0</td>\n",
              "      <td>1</td>\n",
              "      <td>1</td>\n",
              "      <td>1</td>\n",
              "      <td>0</td>\n",
              "      <td>0.032787</td>\n",
              "      <td>m</td>\n",
              "      <td>Latino</td>\n",
              "      <td>no</td>\n",
              "      <td>no</td>\n",
              "      <td>United States</td>\n",
              "      <td>0.7</td>\n",
              "      <td>Self</td>\n",
              "    </tr>\n",
              "    <tr>\n",
              "      <th>681</th>\n",
              "      <td>1</td>\n",
              "      <td>1</td>\n",
              "      <td>0</td>\n",
              "      <td>1</td>\n",
              "      <td>1</td>\n",
              "      <td>1</td>\n",
              "      <td>1</td>\n",
              "      <td>1</td>\n",
              "      <td>1</td>\n",
              "      <td>1</td>\n",
              "      <td>0.087432</td>\n",
              "      <td>f</td>\n",
              "      <td>Hispanic</td>\n",
              "      <td>no</td>\n",
              "      <td>no</td>\n",
              "      <td>United States</td>\n",
              "      <td>0.9</td>\n",
              "      <td>Self</td>\n",
              "    </tr>\n",
              "    <tr>\n",
              "      <th>696</th>\n",
              "      <td>1</td>\n",
              "      <td>1</td>\n",
              "      <td>1</td>\n",
              "      <td>1</td>\n",
              "      <td>1</td>\n",
              "      <td>1</td>\n",
              "      <td>0</td>\n",
              "      <td>1</td>\n",
              "      <td>1</td>\n",
              "      <td>1</td>\n",
              "      <td>0.038251</td>\n",
              "      <td>m</td>\n",
              "      <td>Turkish</td>\n",
              "      <td>no</td>\n",
              "      <td>yes</td>\n",
              "      <td>Australia</td>\n",
              "      <td>0.9</td>\n",
              "      <td>Self</td>\n",
              "    </tr>\n",
              "  </tbody>\n",
              "</table>\n",
              "</div>\n",
              "      <button class=\"colab-df-convert\" onclick=\"convertToInteractive('df-05cc82c5-b2e5-42e6-adb0-bbb1c6a7a7af')\"\n",
              "              title=\"Convert this dataframe to an interactive table.\"\n",
              "              style=\"display:none;\">\n",
              "        \n",
              "  <svg xmlns=\"http://www.w3.org/2000/svg\" height=\"24px\"viewBox=\"0 0 24 24\"\n",
              "       width=\"24px\">\n",
              "    <path d=\"M0 0h24v24H0V0z\" fill=\"none\"/>\n",
              "    <path d=\"M18.56 5.44l.94 2.06.94-2.06 2.06-.94-2.06-.94-.94-2.06-.94 2.06-2.06.94zm-11 1L8.5 8.5l.94-2.06 2.06-.94-2.06-.94L8.5 2.5l-.94 2.06-2.06.94zm10 10l.94 2.06.94-2.06 2.06-.94-2.06-.94-.94-2.06-.94 2.06-2.06.94z\"/><path d=\"M17.41 7.96l-1.37-1.37c-.4-.4-.92-.59-1.43-.59-.52 0-1.04.2-1.43.59L10.3 9.45l-7.72 7.72c-.78.78-.78 2.05 0 2.83L4 21.41c.39.39.9.59 1.41.59.51 0 1.02-.2 1.41-.59l7.78-7.78 2.81-2.81c.8-.78.8-2.07 0-2.86zM5.41 20L4 18.59l7.72-7.72 1.47 1.35L5.41 20z\"/>\n",
              "  </svg>\n",
              "      </button>\n",
              "      \n",
              "  <style>\n",
              "    .colab-df-container {\n",
              "      display:flex;\n",
              "      flex-wrap:wrap;\n",
              "      gap: 12px;\n",
              "    }\n",
              "\n",
              "    .colab-df-convert {\n",
              "      background-color: #E8F0FE;\n",
              "      border: none;\n",
              "      border-radius: 50%;\n",
              "      cursor: pointer;\n",
              "      display: none;\n",
              "      fill: #1967D2;\n",
              "      height: 32px;\n",
              "      padding: 0 0 0 0;\n",
              "      width: 32px;\n",
              "    }\n",
              "\n",
              "    .colab-df-convert:hover {\n",
              "      background-color: #E2EBFA;\n",
              "      box-shadow: 0px 1px 2px rgba(60, 64, 67, 0.3), 0px 1px 3px 1px rgba(60, 64, 67, 0.15);\n",
              "      fill: #174EA6;\n",
              "    }\n",
              "\n",
              "    [theme=dark] .colab-df-convert {\n",
              "      background-color: #3B4455;\n",
              "      fill: #D2E3FC;\n",
              "    }\n",
              "\n",
              "    [theme=dark] .colab-df-convert:hover {\n",
              "      background-color: #434B5C;\n",
              "      box-shadow: 0px 1px 3px 1px rgba(0, 0, 0, 0.15);\n",
              "      filter: drop-shadow(0px 1px 2px rgba(0, 0, 0, 0.3));\n",
              "      fill: #FFFFFF;\n",
              "    }\n",
              "  </style>\n",
              "\n",
              "      <script>\n",
              "        const buttonEl =\n",
              "          document.querySelector('#df-05cc82c5-b2e5-42e6-adb0-bbb1c6a7a7af button.colab-df-convert');\n",
              "        buttonEl.style.display =\n",
              "          google.colab.kernel.accessAllowed ? 'block' : 'none';\n",
              "\n",
              "        async function convertToInteractive(key) {\n",
              "          const element = document.querySelector('#df-05cc82c5-b2e5-42e6-adb0-bbb1c6a7a7af');\n",
              "          const dataTable =\n",
              "            await google.colab.kernel.invokeFunction('convertToInteractive',\n",
              "                                                     [key], {});\n",
              "          if (!dataTable) return;\n",
              "\n",
              "          const docLinkHtml = 'Like what you see? Visit the ' +\n",
              "            '<a target=\"_blank\" href=https://colab.research.google.com/notebooks/data_table.ipynb>data table notebook</a>'\n",
              "            + ' to learn more about interactive tables.';\n",
              "          element.innerHTML = '';\n",
              "          dataTable['output_type'] = 'display_data';\n",
              "          await google.colab.output.renderOutput(dataTable, element);\n",
              "          const docLink = document.createElement('div');\n",
              "          docLink.innerHTML = docLinkHtml;\n",
              "          element.appendChild(docLink);\n",
              "        }\n",
              "      </script>\n",
              "    </div>\n",
              "  </div>\n",
              "  "
            ]
          },
          "metadata": {},
          "execution_count": 174
        }
      ],
      "source": [
        "features_minmax_transform.head()"
      ]
    },
    {
      "cell_type": "markdown",
      "metadata": {
        "id": "WbB3cr5tuWFk"
      },
      "source": [
        "##Encoding Categorical variables"
      ]
    },
    {
      "cell_type": "code",
      "execution_count": 175,
      "metadata": {
        "id": "-3bzzF0_iU90",
        "colab": {
          "base_uri": "https://localhost:8080/"
        },
        "outputId": "b40be8cf-2541-4197-94fb-05f71165217a"
      },
      "outputs": [
        {
          "output_type": "stream",
          "name": "stdout",
          "text": [
            "features.shape: (378, 87)\n"
          ]
        }
      ],
      "source": [
        "features = pd.get_dummies(features_minmax_transform)\n",
        "print('features.shape:', features.shape)"
      ]
    },
    {
      "cell_type": "code",
      "execution_count": 176,
      "metadata": {
        "id": "4iG6Q-QfiY2H",
        "colab": {
          "base_uri": "https://localhost:8080/"
        },
        "outputId": "089c2323-4464-4558-ce6c-de8c6a28061b"
      },
      "outputs": [
        {
          "output_type": "stream",
          "name": "stdout",
          "text": [
            "target.shape: (378,)\n"
          ]
        }
      ],
      "source": [
        "from sklearn.preprocessing import LabelEncoder\n",
        "le = LabelEncoder()\n",
        "target = le.fit_transform(raw_target)\n",
        "print('target.shape:', target.shape)"
      ]
    },
    {
      "cell_type": "markdown",
      "metadata": {
        "id": "QjHtc0BbuYMw"
      },
      "source": [
        "*Function for Evaluation*"
      ]
    },
    {
      "cell_type": "code",
      "execution_count": 177,
      "metadata": {
        "id": "0LgMP3gAiaBA"
      },
      "outputs": [],
      "source": [
        "from sklearn import metrics\n",
        "from sklearn.metrics import accuracy_score, f1_score, precision_score, recall_score, cohen_kappa_score, roc_curve, auc, log_loss\n",
        "\n",
        "def model_report(y_act, y_pred):\n",
        "    print(\"Accuracy = \", accuracy_score(y_act, y_pred))\n",
        "    print(\"Precision = \" ,precision_score(y_act, y_pred))\n",
        "    print(\"Recall\\Sensitivity = \" ,recall_score(y_act, y_pred))\n",
        "    confusion = metrics.confusion_matrix(y_act, y_pred)\n",
        "    #[row, column]\n",
        "    TP = confusion[1, 1]\n",
        "    TN = confusion[0, 0]\n",
        "    FP = confusion[0, 1]\n",
        "    FN = confusion[1, 0]\n",
        "    specificity = TN / (TN + FP)\n",
        "    print(\"Specificity = \" ,specificity)\n",
        "    print(\"F1 Score = \" ,f1_score(y_act, y_pred))\n",
        "    \n",
        "    false_positive_rate, true_positive_rate, thresholds = roc_curve(y_act, y_pred)\n",
        "    print(\"AUC Score =\", auc(false_positive_rate, true_positive_rate))\n",
        "    print(\"Kappa score = \",cohen_kappa_score(y_act,y_pred))\n",
        "    print(\"Log Loss = \" ,log_loss(y_act, y_pred),\"\\n\")\n"
      ]
    },
    {
      "cell_type": "code",
      "source": [
        "import numpy as np\n",
        "from sklearn.model_selection import learning_curve\n",
        "from sklearn.model_selection import ShuffleSplit\n",
        "\n",
        "def plot_learning_curve(estimator, title, X, y, ylim=None, cv=None, n_jobs=1, train_sizes=np.linspace(.1, 1.0, 5)):\n",
        "    plt.figure()\n",
        "    plt.title(title)\n",
        "    if ylim is not None:\n",
        "        plt.ylim(*ylim)\n",
        "    plt.xlabel(\"Training examples\")\n",
        "    plt.ylabel(\"AUC\")\n",
        "    train_sizes, train_scores, test_scores = learning_curve(\n",
        "        estimator, X, y, cv=cv, n_jobs=n_jobs, train_sizes=train_sizes, scoring = 'roc_auc')\n",
        "    train_scores_mean = np.mean(train_scores, axis=1)\n",
        "    train_scores_std = np.std(train_scores, axis=1)\n",
        "    test_scores_mean = np.mean(test_scores, axis=1)\n",
        "    test_scores_std = np.std(test_scores, axis=1)\n",
        "\n",
        "    plt.fill_between(train_sizes, train_scores_mean - train_scores_std,\n",
        "                     train_scores_mean + train_scores_std, alpha=0.1,\n",
        "                     color=\"r\")\n",
        "    plt.fill_between(train_sizes, test_scores_mean - test_scores_std,\n",
        "                     test_scores_mean + test_scores_std, alpha=0.1, color=\"b\")\n",
        "    plt.plot(train_sizes, train_scores_mean, 'o-', color=\"r\",\n",
        "             label=\"Training score\")\n",
        "    plt.plot(train_sizes, test_scores_mean, 'o-', color=\"b\",\n",
        "             label=\"Cross-validation score\")\n",
        "\n",
        "    plt.legend(loc=\"lower right\")\n",
        "    return plt"
      ],
      "metadata": {
        "id": "MBdG3uG_khlU"
      },
      "execution_count": 178,
      "outputs": []
    },
    {
      "cell_type": "markdown",
      "metadata": {
        "id": "rCEAS01AubVo"
      },
      "source": [
        "\n",
        "##Spliting Data\n"
      ]
    },
    {
      "cell_type": "code",
      "execution_count": 179,
      "metadata": {
        "id": "7r1VSSq2iaDM",
        "colab": {
          "base_uri": "https://localhost:8080/"
        },
        "outputId": "80ab01b0-1667-4536-bbbd-171e3480362d"
      },
      "outputs": [
        {
          "output_type": "stream",
          "name": "stdout",
          "text": [
            "X.shape: (378, 87)\n",
            "y.shape: (378,)\n"
          ]
        }
      ],
      "source": [
        "X = features\n",
        "y = target\n",
        "\n",
        "print('X.shape:', X.shape)\n",
        "print('y.shape:', y.shape)\n",
        "# print('X:', X)"
      ]
    },
    {
      "cell_type": "markdown",
      "source": [
        "## Feature Selection"
      ],
      "metadata": {
        "id": "hvDwWEOj_jt2"
      }
    },
    {
      "cell_type": "code",
      "source": [
        "from sklearn.feature_selection import SelectKBest \n",
        "from sklearn.feature_selection import chi2  \n",
        "chi2_features = SelectKBest(chi2,k=75)\n",
        "fit= chi2_features.fit(X, y)\n",
        "scores = pd.DataFrame(fit.scores_)\n",
        "columns = pd.DataFrame(features.columns)\n",
        "featureScores = pd.concat([columns,scores],axis=1)\n",
        "featureScores.columns = ['Features','Score']\n",
        "print(featureScores.nlargest(50,'Score')) "
      ],
      "metadata": {
        "colab": {
          "base_uri": "https://localhost:8080/"
        },
        "id": "r0CWIj02wYKT",
        "outputId": "f2536f75-1581-4807-c938-33d476bdc071"
      },
      "execution_count": 180,
      "outputs": [
        {
          "output_type": "stream",
          "name": "stdout",
          "text": [
            "                              Features       Score\n",
            "8                             A9_Score  105.346821\n",
            "5                             A6_Score   79.310559\n",
            "4                             A5_Score   53.702479\n",
            "3                             A4_Score   47.026087\n",
            "2                             A3_Score   45.301887\n",
            "11                              result   35.265832\n",
            "6                             A7_Score   28.520833\n",
            "9                            A10_Score   27.229249\n",
            "1                             A2_Score   25.588832\n",
            "77  contry_of_res_United Arab Emirates   21.125000\n",
            "79         contry_of_res_United States   18.514286\n",
            "18           ethnicity_Middle Eastern    16.953488\n",
            "57                contry_of_res_Jordan   15.695652\n",
            "51                 contry_of_res_India   14.235294\n",
            "14                     ethnicity_Asian   10.964912\n",
            "22            ethnicity_White-European    9.580311\n",
            "27                          austim_yes    9.290323\n",
            "0                             A1_Score    8.169935\n",
            "7                             A8_Score    7.837037\n",
            "15                     ethnicity_Black    7.347826\n",
            "78        contry_of_res_United Kingdom    6.095238\n",
            "41                contry_of_res_Canada    5.333333\n",
            "25                         jundice_yes    4.666667\n",
            "20               ethnicity_South Asian    4.571429\n",
            "64           contry_of_res_New Zealand    3.930233\n",
            "12                            gender_f    3.453039\n",
            "13                            gender_m    3.172589\n",
            "34               contry_of_res_Austria    3.000000\n",
            "39                contry_of_res_Brazil    2.666667\n",
            "17                    ethnicity_Latino    2.571429\n",
            "68           contry_of_res_Philippines    2.000000\n",
            "73          contry_of_res_South Africa    2.000000\n",
            "74                 contry_of_res_Spain    2.000000\n",
            "75             contry_of_res_Sri Lanka    2.000000\n",
            "76                contry_of_res_Sweden    2.000000\n",
            "26                           austim_no    1.822785\n",
            "19                  ethnicity_Pasifika    1.800000\n",
            "56                 contry_of_res_Italy    1.800000\n",
            "60              contry_of_res_Malaysia    1.800000\n",
            "48                contry_of_res_France    1.285714\n",
            "30                contry_of_res_Angola    1.000000\n",
            "31             contry_of_res_Argentina    1.000000\n",
            "32               contry_of_res_Armenia    1.000000\n",
            "35               contry_of_res_Bahamas    1.000000\n",
            "36            contry_of_res_Bangladesh    1.000000\n",
            "37               contry_of_res_Belgium    1.000000\n",
            "38               contry_of_res_Bolivia    1.000000\n",
            "40               contry_of_res_Burundi    1.000000\n",
            "42                 contry_of_res_China    1.000000\n",
            "43                contry_of_res_Cyprus    1.000000\n"
          ]
        }
      ]
    },
    {
      "cell_type": "code",
      "source": [
        "from sklearn.feature_selection import SelectKBest \n",
        "from sklearn.feature_selection import chi2  \n",
        "# 700 features with highest chi-squared statistics are selected \n",
        "chi2_features = SelectKBest(chi2,k=75)\n",
        "X = chi2_features.fit_transform(X, y)\n",
        "y = target"
      ],
      "metadata": {
        "id": "-Qxwi13ewjMC"
      },
      "execution_count": 181,
      "outputs": []
    },
    {
      "cell_type": "code",
      "source": [
        "#Splitting the data into train test spit\n",
        "from sklearn.model_selection import train_test_split\n",
        "X_train, X_test, y_train, y_test = train_test_split(X, y, test_size = 0.20, random_state = 42)"
      ],
      "metadata": {
        "id": "3wKst1WOtWis"
      },
      "execution_count": 182,
      "outputs": []
    },
    {
      "cell_type": "markdown",
      "source": [
        "## Clustering"
      ],
      "metadata": {
        "id": "Pk3S-w_iH-sF"
      }
    },
    {
      "cell_type": "code",
      "source": [
        "# TSNE Plot\n",
        "from sklearn.manifold import TSNE\n",
        "\n",
        "def plotTSNE(data, label):\n",
        "  # Perform t-SNE with 2 components\n",
        "  tsne = TSNE(n_components=2)\n",
        "  data_tsne = tsne.fit_transform(data)\n",
        "\n",
        "  # Plot the t-SNE results with true labels\n",
        "  plt.scatter(data_tsne[label==0, 0], data_tsne[label==0, 1], label='Label 0')\n",
        "  plt.scatter(data_tsne[label==1, 0], data_tsne[label==1, 1], label='Label 1')\n",
        "  plt.xlabel('t-SNE Component 1')\n",
        "  plt.ylabel('t-SNE Component 2')\n",
        "  plt.legend()\n",
        "  plt.show()\n"
      ],
      "metadata": {
        "id": "P8FsNpSlwEae"
      },
      "execution_count": 183,
      "outputs": []
    },
    {
      "cell_type": "code",
      "source": [
        "# calculate clustering metrices\n",
        "from sklearn.metrics.cluster import normalized_mutual_info_score\n",
        "from sklearn.metrics.cluster import adjusted_rand_score\n",
        "from sklearn.metrics.cluster import rand_score\n",
        "from sklearn.metrics import cohen_kappa_score\n",
        "from sklearn.metrics import silhouette_score\n",
        "\n",
        "def calculate_scores(data, label_true, label_pred, algo):\n",
        "  # Calculate SC, NMI & ARI\n",
        "  sc_euclidean = silhouette_score(data, label_pred, metric='euclidean')\n",
        "  nmi = normalized_mutual_info_score(label_true, label_pred),\n",
        "  ari = adjusted_rand_score(label_true, label_pred)\n",
        "\n",
        "  print(algo, ':: NMI:', nmi, ' ARI:', ari, ' SC:', sc_euclidean)\n"
      ],
      "metadata": {
        "id": "-qwXZzGxwafz"
      },
      "execution_count": 184,
      "outputs": []
    },
    {
      "cell_type": "code",
      "source": [
        "from sklearn.cluster import KMeans, AgglomerativeClustering, DBSCAN, SpectralClustering, AffinityPropagation, MeanShift, Birch\n",
        "from sklearn.mixture import GaussianMixture\n",
        "from sklearn.cluster import OPTICS, cluster_optics_dbscan\n",
        "\n",
        "# Perform K-Means clustering with 2 clusters\n",
        "kmeans = KMeans(n_clusters=2)\n",
        "kmeans.fit(X_train)\n",
        "kmeans_labels = kmeans.predict(X_test)\n",
        "\n",
        "\n",
        "# Perform Agglomerative clustering with 2 clusters\n",
        "agglo = AgglomerativeClustering(n_clusters=2)\n",
        "agglo.fit(X_train)\n",
        "agglo_labels = agglo.fit_predict(X_test)\n",
        "\n",
        "# # Perform DBSCAN clustering\n",
        "# dbscan = DBSCAN(eps=1, min_samples=2)\n",
        "# dbscan.fit(X_train)\n",
        "# dbscan_labels = dbscan.fit_predict(X_test)\n",
        "\n",
        "# Perform Gaussian Mixture Model clustering with 2 components\n",
        "gmm = GaussianMixture(n_components=2)\n",
        "gmm.fit(X_train)\n",
        "gmm_labels = gmm.predict(X_test)\n",
        "\n",
        "# Perform Spectral Clustering with 2 clusters\n",
        "spectral = SpectralClustering(n_clusters=2, affinity='nearest_neighbors')\n",
        "spectral.fit(X_train)\n",
        "spectral_labels = spectral.fit_predict(X_test)\n",
        "\n",
        "# # Perform Affinity Propagation clustering\n",
        "# affprop = AffinityPropagation()\n",
        "# affprop.fit(X_train)\n",
        "# affprop_labels = affprop.predict(X_test)\n",
        "\n",
        "# # Perform Mean Shift clustering\n",
        "# ms = MeanShift()\n",
        "# ms.fit(X_train)\n",
        "# ms_labels = ms.predict(X_test)\n",
        "\n",
        "# Perform Birch clustering with 2 clusters\n",
        "birch = Birch(n_clusters=2)\n",
        "birch.fit(X_train)\n",
        "birch_labels = birch.predict(X_test)\n",
        "\n",
        "# # Perform  clusteriOPTICSng\n",
        "# optics = OPTICS(min_samples=10, xi=.05, min_cluster_size=.05)\n",
        "# optics.fit(X_train)\n",
        "# optics_labels = optics.fit_predict(X_test)\n",
        "\n",
        "# # Perform HDBSCAN clustering\n",
        "# hdbscan_labels = hdbscan.HDBSCAN(min_samples=2).fit_predict(X)\n",
        "\n",
        "# Visualize the clustering results\n",
        "labels_list = [kmeans_labels, agglo_labels, gmm_labels, spectral_labels, birch_labels]\n",
        "titles_list = ['K-Means', 'Agglomerative', 'GMM', 'Spectral', 'Birch']\n",
        "\n",
        "for i in range(len(labels_list)):\n",
        "    labels = labels_list[i]\n",
        "    algo = titles_list[i]\n",
        "    calculate_scores(X_test, y_test, labels, algo)\n",
        "    model_report(y_test, labels)\n",
        "\n",
        "    # plt.scatter(X[:,0], X[:,1], c=labels)\n",
        "    # plt.title(title)\n",
        "    # plt.xlabel('Feature 1')\n",
        "    # plt.ylabel('Feature 2')\n",
        "    # plt.show()\n",
        "\n",
        "# # Clculate clustering metrices\n",
        "# calculate_scores(X, label)\n",
        "\n",
        "# # Plot TSNE with original label\n",
        "# plotTSNE(X, y)\n",
        "\n",
        "# # Plot TSNE with predicted label\n",
        "# plotTSNE(X, label)"
      ],
      "metadata": {
        "colab": {
          "base_uri": "https://localhost:8080/"
        },
        "id": "pB72Snd4IHhT",
        "outputId": "f5f3e8f8-984a-40e0-c37f-56ac73ff59f1"
      },
      "execution_count": 187,
      "outputs": [
        {
          "output_type": "stream",
          "name": "stdout",
          "text": [
            "K-Means :: NMI: (0.7059367855162894,)  ARI: 0.7978185687682895  SC: 0.15902742105264225\n",
            "Accuracy =  0.9473684210526315\n",
            "Precision =  0.9347826086956522\n",
            "Recall\\Sensitivity =  0.9772727272727273\n",
            "Specificity =  0.90625\n",
            "F1 Score =  0.9555555555555557\n",
            "AUC Score = 0.9417613636363636\n",
            "Kappa score =  0.8911174785100286\n",
            "Log Loss =  1.897034388900903 \n",
            "\n",
            "Agglomerative :: NMI: (0.43073181749317274,)  ARI: 0.5367761789181692  SC: 0.15503422548905418\n",
            "Accuracy =  0.13157894736842105\n",
            "Precision =  0.15625\n",
            "Recall\\Sensitivity =  0.11363636363636363\n",
            "Specificity =  0.15625\n",
            "F1 Score =  0.13157894736842105\n",
            "AUC Score = 0.1349431818181818\n",
            "Kappa score =  -0.6945945945945946\n",
            "Log Loss =  31.301067416864885 \n",
            "\n",
            "GMM :: NMI: (0.10166820357612269,)  ARI: 0.017581844087156052  SC: 0.011310036550740893\n",
            "Accuracy =  0.5921052631578947\n",
            "Precision =  0.8823529411764706\n",
            "Recall\\Sensitivity =  0.3409090909090909\n",
            "Specificity =  0.9375\n",
            "F1 Score =  0.4918032786885246\n",
            "AUC Score = 0.6392045454545454\n",
            "Kappa score =  0.24968152866242033\n",
            "Log Loss =  14.702016513981999 \n",
            "\n",
            "Spectral :: NMI: (0.5077963256902386,)  ARI: 0.6181912747446728  SC: 0.16434558430030913\n",
            "Accuracy =  0.8947368421052632\n",
            "Precision =  0.9090909090909091\n",
            "Recall\\Sensitivity =  0.9090909090909091\n",
            "Specificity =  0.875\n",
            "F1 Score =  0.9090909090909091\n",
            "AUC Score = 0.8920454545454545\n",
            "Kappa score =  0.7840909090909091\n",
            "Log Loss =  3.794068777801806 \n",
            "\n",
            "Birch :: NMI: (0.5995461533975205,)  ARI: 0.7051520794537555  SC: 0.15147353992513998\n",
            "Accuracy =  0.9210526315789473\n",
            "Precision =  0.9130434782608695\n",
            "Recall\\Sensitivity =  0.9545454545454546\n",
            "Specificity =  0.875\n",
            "F1 Score =  0.9333333333333332\n",
            "AUC Score = 0.9147727272727273\n",
            "Kappa score =  0.836676217765043\n",
            "Log Loss =  2.8455515833513543 \n",
            "\n"
          ]
        }
      ]
    }
  ],
  "metadata": {
    "colab": {
      "collapsed_sections": [
        "_vaNN75RnATu",
        "TM9PCk6LxBVy",
        "9jsvcg8Sx7yu"
      ],
      "provenance": [],
      "toc_visible": true,
      "include_colab_link": true
    },
    "kernelspec": {
      "display_name": "Python 3",
      "language": "python",
      "name": "python3"
    },
    "language_info": {
      "codemirror_mode": {
        "name": "ipython",
        "version": 3
      },
      "file_extension": ".py",
      "mimetype": "text/x-python",
      "name": "python",
      "nbconvert_exporter": "python",
      "pygments_lexer": "ipython3",
      "version": "3.8.8"
    },
    "accelerator": "GPU",
    "gpuClass": "standard"
  },
  "nbformat": 4,
  "nbformat_minor": 0
}