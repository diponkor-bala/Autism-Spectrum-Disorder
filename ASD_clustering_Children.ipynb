{
  "cells": [
    {
      "cell_type": "markdown",
      "metadata": {
        "id": "view-in-github",
        "colab_type": "text"
      },
      "source": [
        "<a href=\"https://colab.research.google.com/github/bsaha205/asd/blob/main/ASD_clustering_Children.ipynb\" target=\"_parent\"><img src=\"https://colab.research.google.com/assets/colab-badge.svg\" alt=\"Open In Colab\"/></a>"
      ]
    },
    {
      "cell_type": "code",
      "execution_count": 345,
      "metadata": {
        "id": "mX0ekhHYE-5o",
        "colab": {
          "base_uri": "https://localhost:8080/"
        },
        "outputId": "7731144d-6ce7-448f-f400-c1fb2bc24d01"
      },
      "outputs": [
        {
          "output_type": "stream",
          "name": "stdout",
          "text": [
            "Drive already mounted at /content/drive/; to attempt to forcibly remount, call drive.mount(\"/content/drive/\", force_remount=True).\n"
          ]
        }
      ],
      "source": [
        "from google.colab import drive\n",
        "drive.mount('/content/drive/')"
      ]
    },
    {
      "cell_type": "code",
      "source": [
        "#necessary libraries\n",
        "import pandas as pd\n",
        "import numpy as np\n",
        "import seaborn as sns\n",
        "import matplotlib.pyplot as plt\n",
        "import plotly.express as px\n",
        "from plotly.subplots import make_subplots\n",
        "import plotly.graph_objects as go\n",
        "from sklearn.impute import SimpleImputer\n",
        "import warnings\n",
        "warnings.filterwarnings('ignore')"
      ],
      "metadata": {
        "id": "Ljb4krfFWtOl"
      },
      "execution_count": 346,
      "outputs": []
    },
    {
      "cell_type": "code",
      "execution_count": 347,
      "metadata": {
        "id": "ickOJDvTUibO"
      },
      "outputs": [],
      "source": [
        "#loading dataset\n",
        "adu = pd.read_csv(\"/content/drive/MyDrive/Research/ASD/Autism-Child-Data.csv\",na_values=['?'])"
      ]
    },
    {
      "cell_type": "code",
      "execution_count": 348,
      "metadata": {
        "colab": {
          "base_uri": "https://localhost:8080/",
          "height": 348
        },
        "id": "5xTbex5RgyIS",
        "outputId": "fee910ce-5e3b-430e-80fa-42b35b4577b4"
      },
      "outputs": [
        {
          "output_type": "execute_result",
          "data": {
            "text/plain": [
              "      id  A1_Score  A2_Score  A3_Score  A4_Score  A5_Score  A6_Score  \\\n",
              "195  196         1         1         1         0         0         0   \n",
              "130  131         1         1         1         1         1         1   \n",
              "78    79         1         1         1         1         1         1   \n",
              "280  281         0         0         1         0         0         0   \n",
              "158  159         0         1         0         1         1         1   \n",
              "\n",
              "     A7_Score  A8_Score  A9_Score  ...  gender       ethnicity jundice austim  \\\n",
              "195         0         0         0  ...       m  White-European      no     no   \n",
              "130         1         0         1  ...       m  White-European      no     no   \n",
              "78          1         0         1  ...       m          Latino      no    yes   \n",
              "280         0         0         0  ...       m           Black      no    yes   \n",
              "158         1         0         1  ...       m  White-European      no    yes   \n",
              "\n",
              "             contry_of_res used_app_before result    age_desc  relation  \\\n",
              "195  U.S. Outlying Islands              no      3  4-11 years    Parent   \n",
              "130            New Zealand             yes      9  4-11 years    Parent   \n",
              "78                  Brazil              no      9  4-11 years    Parent   \n",
              "280                  India              no      2  4-11 years    Parent   \n",
              "158         United Kingdom              no      7  4-11 years    Parent   \n",
              "\n",
              "    Class/ASD  \n",
              "195        NO  \n",
              "130       YES  \n",
              "78        YES  \n",
              "280        NO  \n",
              "158       YES  \n",
              "\n",
              "[5 rows x 22 columns]"
            ],
            "text/html": [
              "\n",
              "  <div id=\"df-d89174f2-e851-4bed-8f99-5a95453cea93\">\n",
              "    <div class=\"colab-df-container\">\n",
              "      <div>\n",
              "<style scoped>\n",
              "    .dataframe tbody tr th:only-of-type {\n",
              "        vertical-align: middle;\n",
              "    }\n",
              "\n",
              "    .dataframe tbody tr th {\n",
              "        vertical-align: top;\n",
              "    }\n",
              "\n",
              "    .dataframe thead th {\n",
              "        text-align: right;\n",
              "    }\n",
              "</style>\n",
              "<table border=\"1\" class=\"dataframe\">\n",
              "  <thead>\n",
              "    <tr style=\"text-align: right;\">\n",
              "      <th></th>\n",
              "      <th>id</th>\n",
              "      <th>A1_Score</th>\n",
              "      <th>A2_Score</th>\n",
              "      <th>A3_Score</th>\n",
              "      <th>A4_Score</th>\n",
              "      <th>A5_Score</th>\n",
              "      <th>A6_Score</th>\n",
              "      <th>A7_Score</th>\n",
              "      <th>A8_Score</th>\n",
              "      <th>A9_Score</th>\n",
              "      <th>...</th>\n",
              "      <th>gender</th>\n",
              "      <th>ethnicity</th>\n",
              "      <th>jundice</th>\n",
              "      <th>austim</th>\n",
              "      <th>contry_of_res</th>\n",
              "      <th>used_app_before</th>\n",
              "      <th>result</th>\n",
              "      <th>age_desc</th>\n",
              "      <th>relation</th>\n",
              "      <th>Class/ASD</th>\n",
              "    </tr>\n",
              "  </thead>\n",
              "  <tbody>\n",
              "    <tr>\n",
              "      <th>195</th>\n",
              "      <td>196</td>\n",
              "      <td>1</td>\n",
              "      <td>1</td>\n",
              "      <td>1</td>\n",
              "      <td>0</td>\n",
              "      <td>0</td>\n",
              "      <td>0</td>\n",
              "      <td>0</td>\n",
              "      <td>0</td>\n",
              "      <td>0</td>\n",
              "      <td>...</td>\n",
              "      <td>m</td>\n",
              "      <td>White-European</td>\n",
              "      <td>no</td>\n",
              "      <td>no</td>\n",
              "      <td>U.S. Outlying Islands</td>\n",
              "      <td>no</td>\n",
              "      <td>3</td>\n",
              "      <td>4-11 years</td>\n",
              "      <td>Parent</td>\n",
              "      <td>NO</td>\n",
              "    </tr>\n",
              "    <tr>\n",
              "      <th>130</th>\n",
              "      <td>131</td>\n",
              "      <td>1</td>\n",
              "      <td>1</td>\n",
              "      <td>1</td>\n",
              "      <td>1</td>\n",
              "      <td>1</td>\n",
              "      <td>1</td>\n",
              "      <td>1</td>\n",
              "      <td>0</td>\n",
              "      <td>1</td>\n",
              "      <td>...</td>\n",
              "      <td>m</td>\n",
              "      <td>White-European</td>\n",
              "      <td>no</td>\n",
              "      <td>no</td>\n",
              "      <td>New Zealand</td>\n",
              "      <td>yes</td>\n",
              "      <td>9</td>\n",
              "      <td>4-11 years</td>\n",
              "      <td>Parent</td>\n",
              "      <td>YES</td>\n",
              "    </tr>\n",
              "    <tr>\n",
              "      <th>78</th>\n",
              "      <td>79</td>\n",
              "      <td>1</td>\n",
              "      <td>1</td>\n",
              "      <td>1</td>\n",
              "      <td>1</td>\n",
              "      <td>1</td>\n",
              "      <td>1</td>\n",
              "      <td>1</td>\n",
              "      <td>0</td>\n",
              "      <td>1</td>\n",
              "      <td>...</td>\n",
              "      <td>m</td>\n",
              "      <td>Latino</td>\n",
              "      <td>no</td>\n",
              "      <td>yes</td>\n",
              "      <td>Brazil</td>\n",
              "      <td>no</td>\n",
              "      <td>9</td>\n",
              "      <td>4-11 years</td>\n",
              "      <td>Parent</td>\n",
              "      <td>YES</td>\n",
              "    </tr>\n",
              "    <tr>\n",
              "      <th>280</th>\n",
              "      <td>281</td>\n",
              "      <td>0</td>\n",
              "      <td>0</td>\n",
              "      <td>1</td>\n",
              "      <td>0</td>\n",
              "      <td>0</td>\n",
              "      <td>0</td>\n",
              "      <td>0</td>\n",
              "      <td>0</td>\n",
              "      <td>0</td>\n",
              "      <td>...</td>\n",
              "      <td>m</td>\n",
              "      <td>Black</td>\n",
              "      <td>no</td>\n",
              "      <td>yes</td>\n",
              "      <td>India</td>\n",
              "      <td>no</td>\n",
              "      <td>2</td>\n",
              "      <td>4-11 years</td>\n",
              "      <td>Parent</td>\n",
              "      <td>NO</td>\n",
              "    </tr>\n",
              "    <tr>\n",
              "      <th>158</th>\n",
              "      <td>159</td>\n",
              "      <td>0</td>\n",
              "      <td>1</td>\n",
              "      <td>0</td>\n",
              "      <td>1</td>\n",
              "      <td>1</td>\n",
              "      <td>1</td>\n",
              "      <td>1</td>\n",
              "      <td>0</td>\n",
              "      <td>1</td>\n",
              "      <td>...</td>\n",
              "      <td>m</td>\n",
              "      <td>White-European</td>\n",
              "      <td>no</td>\n",
              "      <td>yes</td>\n",
              "      <td>United Kingdom</td>\n",
              "      <td>no</td>\n",
              "      <td>7</td>\n",
              "      <td>4-11 years</td>\n",
              "      <td>Parent</td>\n",
              "      <td>YES</td>\n",
              "    </tr>\n",
              "  </tbody>\n",
              "</table>\n",
              "<p>5 rows × 22 columns</p>\n",
              "</div>\n",
              "      <button class=\"colab-df-convert\" onclick=\"convertToInteractive('df-d89174f2-e851-4bed-8f99-5a95453cea93')\"\n",
              "              title=\"Convert this dataframe to an interactive table.\"\n",
              "              style=\"display:none;\">\n",
              "        \n",
              "  <svg xmlns=\"http://www.w3.org/2000/svg\" height=\"24px\"viewBox=\"0 0 24 24\"\n",
              "       width=\"24px\">\n",
              "    <path d=\"M0 0h24v24H0V0z\" fill=\"none\"/>\n",
              "    <path d=\"M18.56 5.44l.94 2.06.94-2.06 2.06-.94-2.06-.94-.94-2.06-.94 2.06-2.06.94zm-11 1L8.5 8.5l.94-2.06 2.06-.94-2.06-.94L8.5 2.5l-.94 2.06-2.06.94zm10 10l.94 2.06.94-2.06 2.06-.94-2.06-.94-.94-2.06-.94 2.06-2.06.94z\"/><path d=\"M17.41 7.96l-1.37-1.37c-.4-.4-.92-.59-1.43-.59-.52 0-1.04.2-1.43.59L10.3 9.45l-7.72 7.72c-.78.78-.78 2.05 0 2.83L4 21.41c.39.39.9.59 1.41.59.51 0 1.02-.2 1.41-.59l7.78-7.78 2.81-2.81c.8-.78.8-2.07 0-2.86zM5.41 20L4 18.59l7.72-7.72 1.47 1.35L5.41 20z\"/>\n",
              "  </svg>\n",
              "      </button>\n",
              "      \n",
              "  <style>\n",
              "    .colab-df-container {\n",
              "      display:flex;\n",
              "      flex-wrap:wrap;\n",
              "      gap: 12px;\n",
              "    }\n",
              "\n",
              "    .colab-df-convert {\n",
              "      background-color: #E8F0FE;\n",
              "      border: none;\n",
              "      border-radius: 50%;\n",
              "      cursor: pointer;\n",
              "      display: none;\n",
              "      fill: #1967D2;\n",
              "      height: 32px;\n",
              "      padding: 0 0 0 0;\n",
              "      width: 32px;\n",
              "    }\n",
              "\n",
              "    .colab-df-convert:hover {\n",
              "      background-color: #E2EBFA;\n",
              "      box-shadow: 0px 1px 2px rgba(60, 64, 67, 0.3), 0px 1px 3px 1px rgba(60, 64, 67, 0.15);\n",
              "      fill: #174EA6;\n",
              "    }\n",
              "\n",
              "    [theme=dark] .colab-df-convert {\n",
              "      background-color: #3B4455;\n",
              "      fill: #D2E3FC;\n",
              "    }\n",
              "\n",
              "    [theme=dark] .colab-df-convert:hover {\n",
              "      background-color: #434B5C;\n",
              "      box-shadow: 0px 1px 3px 1px rgba(0, 0, 0, 0.15);\n",
              "      filter: drop-shadow(0px 1px 2px rgba(0, 0, 0, 0.3));\n",
              "      fill: #FFFFFF;\n",
              "    }\n",
              "  </style>\n",
              "\n",
              "      <script>\n",
              "        const buttonEl =\n",
              "          document.querySelector('#df-d89174f2-e851-4bed-8f99-5a95453cea93 button.colab-df-convert');\n",
              "        buttonEl.style.display =\n",
              "          google.colab.kernel.accessAllowed ? 'block' : 'none';\n",
              "\n",
              "        async function convertToInteractive(key) {\n",
              "          const element = document.querySelector('#df-d89174f2-e851-4bed-8f99-5a95453cea93');\n",
              "          const dataTable =\n",
              "            await google.colab.kernel.invokeFunction('convertToInteractive',\n",
              "                                                     [key], {});\n",
              "          if (!dataTable) return;\n",
              "\n",
              "          const docLinkHtml = 'Like what you see? Visit the ' +\n",
              "            '<a target=\"_blank\" href=https://colab.research.google.com/notebooks/data_table.ipynb>data table notebook</a>'\n",
              "            + ' to learn more about interactive tables.';\n",
              "          element.innerHTML = '';\n",
              "          dataTable['output_type'] = 'display_data';\n",
              "          await google.colab.output.renderOutput(dataTable, element);\n",
              "          const docLink = document.createElement('div');\n",
              "          docLink.innerHTML = docLinkHtml;\n",
              "          element.appendChild(docLink);\n",
              "        }\n",
              "      </script>\n",
              "    </div>\n",
              "  </div>\n",
              "  "
            ]
          },
          "metadata": {},
          "execution_count": 348
        }
      ],
      "source": [
        "#Adults\n",
        "adu.sample(5)"
      ]
    },
    {
      "cell_type": "code",
      "execution_count": 349,
      "metadata": {
        "colab": {
          "base_uri": "https://localhost:8080/"
        },
        "id": "cosybTKdI3Ur",
        "outputId": "e9ce130e-cecf-465e-d6d6-73ca59c08033"
      },
      "outputs": [
        {
          "output_type": "stream",
          "name": "stdout",
          "text": [
            "Adults      : (292, 22)\n"
          ]
        }
      ],
      "source": [
        "# Number of tuples and fields\n",
        "print(\"Adults      :\",adu.shape)"
      ]
    },
    {
      "cell_type": "code",
      "execution_count": 350,
      "metadata": {
        "colab": {
          "base_uri": "https://localhost:8080/"
        },
        "id": "MXGaYqaxiNA8",
        "outputId": "17e08aee-e2e3-424b-99cc-57665d5c7517"
      },
      "outputs": [
        {
          "output_type": "stream",
          "name": "stdout",
          "text": [
            "<class 'pandas.core.frame.DataFrame'>\n",
            "RangeIndex: 292 entries, 0 to 291\n",
            "Data columns (total 22 columns):\n",
            " #   Column           Non-Null Count  Dtype  \n",
            "---  ------           --------------  -----  \n",
            " 0   id               292 non-null    int64  \n",
            " 1   A1_Score         292 non-null    int64  \n",
            " 2   A2_Score         292 non-null    int64  \n",
            " 3   A3_Score         292 non-null    int64  \n",
            " 4   A4_Score         292 non-null    int64  \n",
            " 5   A5_Score         292 non-null    int64  \n",
            " 6   A6_Score         292 non-null    int64  \n",
            " 7   A7_Score         292 non-null    int64  \n",
            " 8   A8_Score         292 non-null    int64  \n",
            " 9   A9_Score         292 non-null    int64  \n",
            " 10  A10_Score        292 non-null    int64  \n",
            " 11  age              288 non-null    float64\n",
            " 12  gender           292 non-null    object \n",
            " 13  ethnicity        249 non-null    object \n",
            " 14  jundice          292 non-null    object \n",
            " 15  austim           292 non-null    object \n",
            " 16  contry_of_res    292 non-null    object \n",
            " 17  used_app_before  292 non-null    object \n",
            " 18  result           292 non-null    int64  \n",
            " 19  age_desc         292 non-null    object \n",
            " 20  relation         249 non-null    object \n",
            " 21  Class/ASD        292 non-null    object \n",
            "dtypes: float64(1), int64(12), object(9)\n",
            "memory usage: 50.3+ KB\n"
          ]
        }
      ],
      "source": [
        "#Adults\n",
        "adu.info()"
      ]
    },
    {
      "cell_type": "code",
      "execution_count": 351,
      "metadata": {
        "colab": {
          "base_uri": "https://localhost:8080/",
          "height": 297
        },
        "id": "uydTWHqYxuuL",
        "outputId": "99618211-e286-4978-c8b3-5da4a581fb52"
      },
      "outputs": [
        {
          "output_type": "execute_result",
          "data": {
            "text/plain": [
              "               id    A1_Score    A2_Score    A3_Score    A4_Score    A5_Score  \\\n",
              "count  292.000000  292.000000  292.000000  292.000000  292.000000  292.000000   \n",
              "mean   146.500000    0.633562    0.534247    0.743151    0.551370    0.743151   \n",
              "std     84.437354    0.482658    0.499682    0.437646    0.498208    0.437646   \n",
              "min      1.000000    0.000000    0.000000    0.000000    0.000000    0.000000   \n",
              "25%     73.750000    0.000000    0.000000    0.000000    0.000000    0.000000   \n",
              "50%    146.500000    1.000000    1.000000    1.000000    1.000000    1.000000   \n",
              "75%    219.250000    1.000000    1.000000    1.000000    1.000000    1.000000   \n",
              "max    292.000000    1.000000    1.000000    1.000000    1.000000    1.000000   \n",
              "\n",
              "         A6_Score    A7_Score    A8_Score    A9_Score   A10_Score         age  \\\n",
              "count  292.000000  292.000000  292.000000  292.000000  292.000000  288.000000   \n",
              "mean     0.712329    0.606164    0.496575    0.493151    0.726027    6.354167   \n",
              "std      0.453454    0.489438    0.500847    0.500811    0.446761    2.365456   \n",
              "min      0.000000    0.000000    0.000000    0.000000    0.000000    4.000000   \n",
              "25%      0.000000    0.000000    0.000000    0.000000    0.000000    4.000000   \n",
              "50%      1.000000    1.000000    0.000000    0.000000    1.000000    6.000000   \n",
              "75%      1.000000    1.000000    1.000000    1.000000    1.000000    8.000000   \n",
              "max      1.000000    1.000000    1.000000    1.000000    1.000000   11.000000   \n",
              "\n",
              "           result  \n",
              "count  292.000000  \n",
              "mean     6.239726  \n",
              "std      2.284882  \n",
              "min      0.000000  \n",
              "25%      5.000000  \n",
              "50%      6.000000  \n",
              "75%      8.000000  \n",
              "max     10.000000  "
            ],
            "text/html": [
              "\n",
              "  <div id=\"df-beea5264-08dd-44d0-a0c7-2727b382b0ad\">\n",
              "    <div class=\"colab-df-container\">\n",
              "      <div>\n",
              "<style scoped>\n",
              "    .dataframe tbody tr th:only-of-type {\n",
              "        vertical-align: middle;\n",
              "    }\n",
              "\n",
              "    .dataframe tbody tr th {\n",
              "        vertical-align: top;\n",
              "    }\n",
              "\n",
              "    .dataframe thead th {\n",
              "        text-align: right;\n",
              "    }\n",
              "</style>\n",
              "<table border=\"1\" class=\"dataframe\">\n",
              "  <thead>\n",
              "    <tr style=\"text-align: right;\">\n",
              "      <th></th>\n",
              "      <th>id</th>\n",
              "      <th>A1_Score</th>\n",
              "      <th>A2_Score</th>\n",
              "      <th>A3_Score</th>\n",
              "      <th>A4_Score</th>\n",
              "      <th>A5_Score</th>\n",
              "      <th>A6_Score</th>\n",
              "      <th>A7_Score</th>\n",
              "      <th>A8_Score</th>\n",
              "      <th>A9_Score</th>\n",
              "      <th>A10_Score</th>\n",
              "      <th>age</th>\n",
              "      <th>result</th>\n",
              "    </tr>\n",
              "  </thead>\n",
              "  <tbody>\n",
              "    <tr>\n",
              "      <th>count</th>\n",
              "      <td>292.000000</td>\n",
              "      <td>292.000000</td>\n",
              "      <td>292.000000</td>\n",
              "      <td>292.000000</td>\n",
              "      <td>292.000000</td>\n",
              "      <td>292.000000</td>\n",
              "      <td>292.000000</td>\n",
              "      <td>292.000000</td>\n",
              "      <td>292.000000</td>\n",
              "      <td>292.000000</td>\n",
              "      <td>292.000000</td>\n",
              "      <td>288.000000</td>\n",
              "      <td>292.000000</td>\n",
              "    </tr>\n",
              "    <tr>\n",
              "      <th>mean</th>\n",
              "      <td>146.500000</td>\n",
              "      <td>0.633562</td>\n",
              "      <td>0.534247</td>\n",
              "      <td>0.743151</td>\n",
              "      <td>0.551370</td>\n",
              "      <td>0.743151</td>\n",
              "      <td>0.712329</td>\n",
              "      <td>0.606164</td>\n",
              "      <td>0.496575</td>\n",
              "      <td>0.493151</td>\n",
              "      <td>0.726027</td>\n",
              "      <td>6.354167</td>\n",
              "      <td>6.239726</td>\n",
              "    </tr>\n",
              "    <tr>\n",
              "      <th>std</th>\n",
              "      <td>84.437354</td>\n",
              "      <td>0.482658</td>\n",
              "      <td>0.499682</td>\n",
              "      <td>0.437646</td>\n",
              "      <td>0.498208</td>\n",
              "      <td>0.437646</td>\n",
              "      <td>0.453454</td>\n",
              "      <td>0.489438</td>\n",
              "      <td>0.500847</td>\n",
              "      <td>0.500811</td>\n",
              "      <td>0.446761</td>\n",
              "      <td>2.365456</td>\n",
              "      <td>2.284882</td>\n",
              "    </tr>\n",
              "    <tr>\n",
              "      <th>min</th>\n",
              "      <td>1.000000</td>\n",
              "      <td>0.000000</td>\n",
              "      <td>0.000000</td>\n",
              "      <td>0.000000</td>\n",
              "      <td>0.000000</td>\n",
              "      <td>0.000000</td>\n",
              "      <td>0.000000</td>\n",
              "      <td>0.000000</td>\n",
              "      <td>0.000000</td>\n",
              "      <td>0.000000</td>\n",
              "      <td>0.000000</td>\n",
              "      <td>4.000000</td>\n",
              "      <td>0.000000</td>\n",
              "    </tr>\n",
              "    <tr>\n",
              "      <th>25%</th>\n",
              "      <td>73.750000</td>\n",
              "      <td>0.000000</td>\n",
              "      <td>0.000000</td>\n",
              "      <td>0.000000</td>\n",
              "      <td>0.000000</td>\n",
              "      <td>0.000000</td>\n",
              "      <td>0.000000</td>\n",
              "      <td>0.000000</td>\n",
              "      <td>0.000000</td>\n",
              "      <td>0.000000</td>\n",
              "      <td>0.000000</td>\n",
              "      <td>4.000000</td>\n",
              "      <td>5.000000</td>\n",
              "    </tr>\n",
              "    <tr>\n",
              "      <th>50%</th>\n",
              "      <td>146.500000</td>\n",
              "      <td>1.000000</td>\n",
              "      <td>1.000000</td>\n",
              "      <td>1.000000</td>\n",
              "      <td>1.000000</td>\n",
              "      <td>1.000000</td>\n",
              "      <td>1.000000</td>\n",
              "      <td>1.000000</td>\n",
              "      <td>0.000000</td>\n",
              "      <td>0.000000</td>\n",
              "      <td>1.000000</td>\n",
              "      <td>6.000000</td>\n",
              "      <td>6.000000</td>\n",
              "    </tr>\n",
              "    <tr>\n",
              "      <th>75%</th>\n",
              "      <td>219.250000</td>\n",
              "      <td>1.000000</td>\n",
              "      <td>1.000000</td>\n",
              "      <td>1.000000</td>\n",
              "      <td>1.000000</td>\n",
              "      <td>1.000000</td>\n",
              "      <td>1.000000</td>\n",
              "      <td>1.000000</td>\n",
              "      <td>1.000000</td>\n",
              "      <td>1.000000</td>\n",
              "      <td>1.000000</td>\n",
              "      <td>8.000000</td>\n",
              "      <td>8.000000</td>\n",
              "    </tr>\n",
              "    <tr>\n",
              "      <th>max</th>\n",
              "      <td>292.000000</td>\n",
              "      <td>1.000000</td>\n",
              "      <td>1.000000</td>\n",
              "      <td>1.000000</td>\n",
              "      <td>1.000000</td>\n",
              "      <td>1.000000</td>\n",
              "      <td>1.000000</td>\n",
              "      <td>1.000000</td>\n",
              "      <td>1.000000</td>\n",
              "      <td>1.000000</td>\n",
              "      <td>1.000000</td>\n",
              "      <td>11.000000</td>\n",
              "      <td>10.000000</td>\n",
              "    </tr>\n",
              "  </tbody>\n",
              "</table>\n",
              "</div>\n",
              "      <button class=\"colab-df-convert\" onclick=\"convertToInteractive('df-beea5264-08dd-44d0-a0c7-2727b382b0ad')\"\n",
              "              title=\"Convert this dataframe to an interactive table.\"\n",
              "              style=\"display:none;\">\n",
              "        \n",
              "  <svg xmlns=\"http://www.w3.org/2000/svg\" height=\"24px\"viewBox=\"0 0 24 24\"\n",
              "       width=\"24px\">\n",
              "    <path d=\"M0 0h24v24H0V0z\" fill=\"none\"/>\n",
              "    <path d=\"M18.56 5.44l.94 2.06.94-2.06 2.06-.94-2.06-.94-.94-2.06-.94 2.06-2.06.94zm-11 1L8.5 8.5l.94-2.06 2.06-.94-2.06-.94L8.5 2.5l-.94 2.06-2.06.94zm10 10l.94 2.06.94-2.06 2.06-.94-2.06-.94-.94-2.06-.94 2.06-2.06.94z\"/><path d=\"M17.41 7.96l-1.37-1.37c-.4-.4-.92-.59-1.43-.59-.52 0-1.04.2-1.43.59L10.3 9.45l-7.72 7.72c-.78.78-.78 2.05 0 2.83L4 21.41c.39.39.9.59 1.41.59.51 0 1.02-.2 1.41-.59l7.78-7.78 2.81-2.81c.8-.78.8-2.07 0-2.86zM5.41 20L4 18.59l7.72-7.72 1.47 1.35L5.41 20z\"/>\n",
              "  </svg>\n",
              "      </button>\n",
              "      \n",
              "  <style>\n",
              "    .colab-df-container {\n",
              "      display:flex;\n",
              "      flex-wrap:wrap;\n",
              "      gap: 12px;\n",
              "    }\n",
              "\n",
              "    .colab-df-convert {\n",
              "      background-color: #E8F0FE;\n",
              "      border: none;\n",
              "      border-radius: 50%;\n",
              "      cursor: pointer;\n",
              "      display: none;\n",
              "      fill: #1967D2;\n",
              "      height: 32px;\n",
              "      padding: 0 0 0 0;\n",
              "      width: 32px;\n",
              "    }\n",
              "\n",
              "    .colab-df-convert:hover {\n",
              "      background-color: #E2EBFA;\n",
              "      box-shadow: 0px 1px 2px rgba(60, 64, 67, 0.3), 0px 1px 3px 1px rgba(60, 64, 67, 0.15);\n",
              "      fill: #174EA6;\n",
              "    }\n",
              "\n",
              "    [theme=dark] .colab-df-convert {\n",
              "      background-color: #3B4455;\n",
              "      fill: #D2E3FC;\n",
              "    }\n",
              "\n",
              "    [theme=dark] .colab-df-convert:hover {\n",
              "      background-color: #434B5C;\n",
              "      box-shadow: 0px 1px 3px 1px rgba(0, 0, 0, 0.15);\n",
              "      filter: drop-shadow(0px 1px 2px rgba(0, 0, 0, 0.3));\n",
              "      fill: #FFFFFF;\n",
              "    }\n",
              "  </style>\n",
              "\n",
              "      <script>\n",
              "        const buttonEl =\n",
              "          document.querySelector('#df-beea5264-08dd-44d0-a0c7-2727b382b0ad button.colab-df-convert');\n",
              "        buttonEl.style.display =\n",
              "          google.colab.kernel.accessAllowed ? 'block' : 'none';\n",
              "\n",
              "        async function convertToInteractive(key) {\n",
              "          const element = document.querySelector('#df-beea5264-08dd-44d0-a0c7-2727b382b0ad');\n",
              "          const dataTable =\n",
              "            await google.colab.kernel.invokeFunction('convertToInteractive',\n",
              "                                                     [key], {});\n",
              "          if (!dataTable) return;\n",
              "\n",
              "          const docLinkHtml = 'Like what you see? Visit the ' +\n",
              "            '<a target=\"_blank\" href=https://colab.research.google.com/notebooks/data_table.ipynb>data table notebook</a>'\n",
              "            + ' to learn more about interactive tables.';\n",
              "          element.innerHTML = '';\n",
              "          dataTable['output_type'] = 'display_data';\n",
              "          await google.colab.output.renderOutput(dataTable, element);\n",
              "          const docLink = document.createElement('div');\n",
              "          docLink.innerHTML = docLinkHtml;\n",
              "          element.appendChild(docLink);\n",
              "        }\n",
              "      </script>\n",
              "    </div>\n",
              "  </div>\n",
              "  "
            ]
          },
          "metadata": {},
          "execution_count": 351
        }
      ],
      "source": [
        "#Adults\n",
        "adu.describe()"
      ]
    },
    {
      "cell_type": "code",
      "execution_count": 352,
      "metadata": {
        "colab": {
          "base_uri": "https://localhost:8080/"
        },
        "id": "1w-dVtFfyZiJ",
        "outputId": "add056b3-8895-4985-f17e-95d44a852ba5"
      },
      "outputs": [
        {
          "output_type": "stream",
          "name": "stdout",
          "text": [
            "Total no. of missing values in Adults's dataset     :  90\n"
          ]
        }
      ],
      "source": [
        "#Total number of missing values in each dataset\n",
        "print(\"Total no. of missing values in Adults's dataset     : \",adu.isnull().sum().sum())"
      ]
    },
    {
      "cell_type": "code",
      "execution_count": 353,
      "metadata": {
        "colab": {
          "base_uri": "https://localhost:8080/"
        },
        "id": "ko79c2d0jI_9",
        "outputId": "cc2cefa6-bff0-478b-e175-cc151d473d49"
      },
      "outputs": [
        {
          "output_type": "execute_result",
          "data": {
            "text/plain": [
              "id                  0\n",
              "A1_Score            0\n",
              "A2_Score            0\n",
              "A3_Score            0\n",
              "A4_Score            0\n",
              "A5_Score            0\n",
              "A6_Score            0\n",
              "A7_Score            0\n",
              "A8_Score            0\n",
              "A9_Score            0\n",
              "A10_Score           0\n",
              "age                 4\n",
              "gender              0\n",
              "ethnicity          43\n",
              "jundice             0\n",
              "austim              0\n",
              "contry_of_res       0\n",
              "used_app_before     0\n",
              "result              0\n",
              "age_desc            0\n",
              "relation           43\n",
              "Class/ASD           0\n",
              "dtype: int64"
            ]
          },
          "metadata": {},
          "execution_count": 353
        }
      ],
      "source": [
        "#Adults\n",
        "adu.isnull().sum()"
      ]
    },
    {
      "cell_type": "code",
      "execution_count": 354,
      "metadata": {
        "colab": {
          "base_uri": "https://localhost:8080/",
          "height": 506
        },
        "id": "oppclSaWI3m8",
        "outputId": "a57b7759-525e-4a90-cc91-add6ac2f7d71"
      },
      "outputs": [
        {
          "output_type": "display_data",
          "data": {
            "text/plain": [
              "<Figure size 550x500 with 1 Axes>"
            ],
            "image/png": "[encoded data removed]"
          },
          "metadata": {}
        }
      ],
      "source": [
        "fig, ax = plt.subplots(figsize=(5.5,5))\n",
        "\n",
        "sns.heatmap(adu.isnull(),yticklabels=False,cbar=False,cmap='rocket',ax=ax)\n",
        "ax.set_title(\"Adults's dataset\",fontsize = 15)\n",
        "fig.tight_layout()\n",
        "plt.savefig('heatmap_adu.pdf', transparent=True, dpi=300)"
      ]
    },
    {
      "cell_type": "code",
      "execution_count": 355,
      "metadata": {
        "colab": {
          "base_uri": "https://localhost:8080/"
        },
        "id": "CkwWk_C2b3rd",
        "outputId": "4b06d58c-d5c6-4708-f913-58e7f0e835c0"
      },
      "outputs": [
        {
          "output_type": "stream",
          "name": "stdout",
          "text": [
            "\n",
            "No of adults diagonised with ASD =  141\n",
            "No of adults not diagonised with ASD =  151\n"
          ]
        }
      ],
      "source": [
        "#ASD or Not\n",
        "print(\"\\nNo of adults diagonised with ASD = \",len(adu[adu['Class/ASD'] == 'YES']))\n",
        "print(\"No of adults not diagonised with ASD = \",len(adu[adu['Class/ASD'] == 'NO']))"
      ]
    },
    {
      "cell_type": "code",
      "execution_count": 356,
      "metadata": {
        "id": "WBfvldgJGn4p"
      },
      "outputs": [],
      "source": [
        "# #Data distribution\n",
        "# fig, ax = plt.subplots(figsize=(5, 5))\n",
        "# sns.countplot(adu['Class/ASD'],ax=ax)\n",
        "# ax.set_title(\"Adults's dataset\",fontsize = 15)\n",
        "# fig.tight_layout()\n",
        "# plt.savefig('distribution_adu.pdf', transparent=True, dpi=300)"
      ]
    },
    {
      "cell_type": "code",
      "execution_count": 357,
      "metadata": {
        "colab": {
          "base_uri": "https://localhost:8080/",
          "height": 707
        },
        "id": "gGHFxQb9ePSv",
        "outputId": "82a19749-7a2c-4123-999e-fb3c864a5613"
      },
      "outputs": [
        {
          "output_type": "display_data",
          "data": {
            "text/plain": [
              "<Figure size 1000x700 with 2 Axes>"
            ],
            "image/png": "[encoded data removed]"
          },
          "metadata": {}
        }
      ],
      "source": [
        "#Correlation\n",
        "fig, ax = plt.subplots(figsize=(10,7))\n",
        "sns.heatmap(adu.corr(),annot=True,cmap='coolwarm',vmin=0, vmax=1,ax=ax)\n",
        "ax.set_title(\"Adults's dataset\",fontsize = 15)\n",
        "fig.tight_layout()\n",
        "plt.savefig('correlation_adu.pdf', transparent=True, dpi=300)"
      ]
    },
    {
      "cell_type": "code",
      "execution_count": 358,
      "metadata": {
        "colab": {
          "base_uri": "https://localhost:8080/"
        },
        "id": "emuIeb6o3ivZ",
        "outputId": "7107bc58-66d6-4d3c-ccf3-76ff7c891275"
      },
      "outputs": [
        {
          "output_type": "stream",
          "name": "stdout",
          "text": [
            "No of missing values in Adults's dataset      =  90\n"
          ]
        }
      ],
      "source": [
        "#Number of missing values in each dataset\n",
        "print(\"No of missing values in Adults's dataset      = \",adu.isnull().sum().sum())"
      ]
    },
    {
      "cell_type": "code",
      "execution_count": 359,
      "metadata": {
        "id": "0MK70ZQ4oIcJ"
      },
      "outputs": [],
      "source": [
        "#Imputing missing values of categorical features with mode\n",
        "imputer_mode = SimpleImputer(missing_values=np.NaN, strategy='most_frequent')\n",
        "\n",
        "adu.ethnicity = imputer_mode.fit_transform(adu.ethnicity.values.reshape(-1,1))[:,0]\n",
        "adu.relation = imputer_mode.fit_transform(adu.relation.values.reshape(-1,1))[:,0]\n",
        "\n",
        "#Imputing missing values of numerical features with mean\n",
        "imputer_mode = SimpleImputer(missing_values=np.NaN, strategy='mean')\n",
        "adu.age = imputer_mode.fit_transform(adu.age.values.reshape(-1,1))[:,0]"
      ]
    },
    {
      "cell_type": "code",
      "execution_count": 360,
      "metadata": {
        "colab": {
          "base_uri": "https://localhost:8080/"
        },
        "id": "2J2wHBBvs2Je",
        "outputId": "f52a1d90-2ed7-4cd7-b01c-132276f755cb"
      },
      "outputs": [
        {
          "output_type": "stream",
          "name": "stdout",
          "text": [
            "After imputing,\n",
            "No of missing values in Adults's dataset      =  0\n"
          ]
        }
      ],
      "source": [
        "print(\"After imputing,\\nNo of missing values in Adults's dataset      = \",adu.isnull().sum().sum())"
      ]
    },
    {
      "cell_type": "code",
      "execution_count": 361,
      "metadata": {
        "id": "uoJbz1sQxwSP"
      },
      "outputs": [],
      "source": [
        "#Since age of toddlers are represented in months, age(in years) of adults is converted to age in months.\n",
        "adu.rename(columns = {'age':'Age_Mons'}, inplace = True)\n",
        "\n",
        "adu['Age_Mons'] = adu['Age_Mons']*12"
      ]
    },
    {
      "cell_type": "code",
      "execution_count": 362,
      "metadata": {
        "id": "4ulLZ6dRSmGV"
      },
      "outputs": [],
      "source": [
        "#Making classes of categorical variables same for all datasets\n",
        "adu['ethnicity'] = adu['ethnicity'].replace('Others','others')"
      ]
    },
    {
      "cell_type": "markdown",
      "metadata": {
        "id": "S3DzwzUrn3Qi"
      },
      "source": [
        "### **Model fitting**"
      ]
    },
    {
      "cell_type": "markdown",
      "metadata": {
        "id": "PRLEatQdt1EC"
      },
      "source": [
        "*Spliting dependent and independent features*\n"
      ]
    },
    {
      "cell_type": "code",
      "source": [
        "shuffled_data = adu.sample(frac=1,random_state=4)\n",
        "ASD_data = shuffled_data.loc[shuffled_data['Class/ASD'] == 'YES']\n",
        "non_ASD_data = shuffled_data.loc[shuffled_data['Class/ASD'] == 'NO'].sample(n=151)\n",
        "adu= pd.concat([ASD_data, non_ASD_data])"
      ],
      "metadata": {
        "id": "ty5oEvMBAyZh"
      },
      "execution_count": 363,
      "outputs": []
    },
    {
      "cell_type": "code",
      "execution_count": 364,
      "metadata": {
        "id": "vUVAqS8GgpyJ"
      },
      "outputs": [],
      "source": [
        "# Split the data into features and target label\n",
        "raw_target= adu['Class/ASD']\n",
        "raw_features = adu[['A1_Score','A2_Score','A3_Score','A4_Score','A5_Score','A6_Score','A7_Score','A8_Score','A9_Score','A10_Score','Age_Mons', 'gender', 'ethnicity', 'jundice', 'austim', 'contry_of_res', 'result','relation']]"
      ]
    },
    {
      "cell_type": "markdown",
      "metadata": {
        "id": "pLVEOpt2uT32"
      },
      "source": [
        "*Feature Scaling*"
      ]
    },
    {
      "cell_type": "code",
      "execution_count": 365,
      "metadata": {
        "id": "JAL4Z9Wsgp0O"
      },
      "outputs": [],
      "source": [
        "from sklearn.preprocessing import MinMaxScaler\n",
        "scaler = MinMaxScaler()\n",
        "num_features = ['Age_Mons', 'result']\n",
        "\n",
        "features_minmax_transform = pd.DataFrame(data = raw_features)\n",
        "features_minmax_transform[num_features] = scaler.fit_transform(raw_features[num_features])"
      ]
    },
    {
      "cell_type": "code",
      "execution_count": 366,
      "metadata": {
        "colab": {
          "base_uri": "https://localhost:8080/",
          "height": 336
        },
        "id": "FLnD_7lDiSaB",
        "outputId": "15998a36-c6d6-4bb6-edde-11a98cc0c1c6"
      },
      "outputs": [
        {
          "output_type": "execute_result",
          "data": {
            "text/plain": [
              "     A1_Score  A2_Score  A3_Score  A4_Score  A5_Score  A6_Score  A7_Score  \\\n",
              "253         1         0         1         1         1         1         1   \n",
              "101         1         1         1         1         0         1         1   \n",
              "169         1         0         1         1         1         1         1   \n",
              "6           1         0         1         1         1         1         0   \n",
              "233         0         1         1         1         1         1         0   \n",
              "\n",
              "     A8_Score  A9_Score  A10_Score  Age_Mons gender        ethnicity jundice  \\\n",
              "253         1         0          1  0.714286      f  Middle Eastern       no   \n",
              "101         0         0          1  0.285714      f            Asian      no   \n",
              "169         1         1          1  1.000000      f   White-European      no   \n",
              "6           1         0          1  0.142857      m   White-European      no   \n",
              "233         1         1          1  0.142857      m   White-European      no   \n",
              "\n",
              "    austim   contry_of_res  result relation  \n",
              "253     no           Egypt     0.8   Parent  \n",
              "101     no     Philippines     0.7   Parent  \n",
              "169     no         Austria     0.9   Parent  \n",
              "6       no  United Kingdom     0.7   Parent  \n",
              "233     no          Russia     0.8   Parent  "
            ],
            "text/html": [
              "\n",
              "  <div id=\"df-67d4c51a-5556-4eca-bb87-5ebccf01e02a\">\n",
              "    <div class=\"colab-df-container\">\n",
              "      <div>\n",
              "<style scoped>\n",
              "    .dataframe tbody tr th:only-of-type {\n",
              "        vertical-align: middle;\n",
              "    }\n",
              "\n",
              "    .dataframe tbody tr th {\n",
              "        vertical-align: top;\n",
              "    }\n",
              "\n",
              "    .dataframe thead th {\n",
              "        text-align: right;\n",
              "    }\n",
              "</style>\n",
              "<table border=\"1\" class=\"dataframe\">\n",
              "  <thead>\n",
              "    <tr style=\"text-align: right;\">\n",
              "      <th></th>\n",
              "      <th>A1_Score</th>\n",
              "      <th>A2_Score</th>\n",
              "      <th>A3_Score</th>\n",
              "      <th>A4_Score</th>\n",
              "      <th>A5_Score</th>\n",
              "      <th>A6_Score</th>\n",
              "      <th>A7_Score</th>\n",
              "      <th>A8_Score</th>\n",
              "      <th>A9_Score</th>\n",
              "      <th>A10_Score</th>\n",
              "      <th>Age_Mons</th>\n",
              "      <th>gender</th>\n",
              "      <th>ethnicity</th>\n",
              "      <th>jundice</th>\n",
              "      <th>austim</th>\n",
              "      <th>contry_of_res</th>\n",
              "      <th>result</th>\n",
              "      <th>relation</th>\n",
              "    </tr>\n",
              "  </thead>\n",
              "  <tbody>\n",
              "    <tr>\n",
              "      <th>253</th>\n",
              "      <td>1</td>\n",
              "      <td>0</td>\n",
              "      <td>1</td>\n",
              "      <td>1</td>\n",
              "      <td>1</td>\n",
              "      <td>1</td>\n",
              "      <td>1</td>\n",
              "      <td>1</td>\n",
              "      <td>0</td>\n",
              "      <td>1</td>\n",
              "      <td>0.714286</td>\n",
              "      <td>f</td>\n",
              "      <td>Middle Eastern</td>\n",
              "      <td>no</td>\n",
              "      <td>no</td>\n",
              "      <td>Egypt</td>\n",
              "      <td>0.8</td>\n",
              "      <td>Parent</td>\n",
              "    </tr>\n",
              "    <tr>\n",
              "      <th>101</th>\n",
              "      <td>1</td>\n",
              "      <td>1</td>\n",
              "      <td>1</td>\n",
              "      <td>1</td>\n",
              "      <td>0</td>\n",
              "      <td>1</td>\n",
              "      <td>1</td>\n",
              "      <td>0</td>\n",
              "      <td>0</td>\n",
              "      <td>1</td>\n",
              "      <td>0.285714</td>\n",
              "      <td>f</td>\n",
              "      <td>Asian</td>\n",
              "      <td>no</td>\n",
              "      <td>no</td>\n",
              "      <td>Philippines</td>\n",
              "      <td>0.7</td>\n",
              "      <td>Parent</td>\n",
              "    </tr>\n",
              "    <tr>\n",
              "      <th>169</th>\n",
              "      <td>1</td>\n",
              "      <td>0</td>\n",
              "      <td>1</td>\n",
              "      <td>1</td>\n",
              "      <td>1</td>\n",
              "      <td>1</td>\n",
              "      <td>1</td>\n",
              "      <td>1</td>\n",
              "      <td>1</td>\n",
              "      <td>1</td>\n",
              "      <td>1.000000</td>\n",
              "      <td>f</td>\n",
              "      <td>White-European</td>\n",
              "      <td>no</td>\n",
              "      <td>no</td>\n",
              "      <td>Austria</td>\n",
              "      <td>0.9</td>\n",
              "      <td>Parent</td>\n",
              "    </tr>\n",
              "    <tr>\n",
              "      <th>6</th>\n",
              "      <td>1</td>\n",
              "      <td>0</td>\n",
              "      <td>1</td>\n",
              "      <td>1</td>\n",
              "      <td>1</td>\n",
              "      <td>1</td>\n",
              "      <td>0</td>\n",
              "      <td>1</td>\n",
              "      <td>0</td>\n",
              "      <td>1</td>\n",
              "      <td>0.142857</td>\n",
              "      <td>m</td>\n",
              "      <td>White-European</td>\n",
              "      <td>no</td>\n",
              "      <td>no</td>\n",
              "      <td>United Kingdom</td>\n",
              "      <td>0.7</td>\n",
              "      <td>Parent</td>\n",
              "    </tr>\n",
              "    <tr>\n",
              "      <th>233</th>\n",
              "      <td>0</td>\n",
              "      <td>1</td>\n",
              "      <td>1</td>\n",
              "      <td>1</td>\n",
              "      <td>1</td>\n",
              "      <td>1</td>\n",
              "      <td>0</td>\n",
              "      <td>1</td>\n",
              "      <td>1</td>\n",
              "      <td>1</td>\n",
              "      <td>0.142857</td>\n",
              "      <td>m</td>\n",
              "      <td>White-European</td>\n",
              "      <td>no</td>\n",
              "      <td>no</td>\n",
              "      <td>Russia</td>\n",
              "      <td>0.8</td>\n",
              "      <td>Parent</td>\n",
              "    </tr>\n",
              "  </tbody>\n",
              "</table>\n",
              "</div>\n",
              "      <button class=\"colab-df-convert\" onclick=\"convertToInteractive('df-67d4c51a-5556-4eca-bb87-5ebccf01e02a')\"\n",
              "              title=\"Convert this dataframe to an interactive table.\"\n",
              "              style=\"display:none;\">\n",
              "        \n",
              "  <svg xmlns=\"http://www.w3.org/2000/svg\" height=\"24px\"viewBox=\"0 0 24 24\"\n",
              "       width=\"24px\">\n",
              "    <path d=\"M0 0h24v24H0V0z\" fill=\"none\"/>\n",
              "    <path d=\"M18.56 5.44l.94 2.06.94-2.06 2.06-.94-2.06-.94-.94-2.06-.94 2.06-2.06.94zm-11 1L8.5 8.5l.94-2.06 2.06-.94-2.06-.94L8.5 2.5l-.94 2.06-2.06.94zm10 10l.94 2.06.94-2.06 2.06-.94-2.06-.94-.94-2.06-.94 2.06-2.06.94z\"/><path d=\"M17.41 7.96l-1.37-1.37c-.4-.4-.92-.59-1.43-.59-.52 0-1.04.2-1.43.59L10.3 9.45l-7.72 7.72c-.78.78-.78 2.05 0 2.83L4 21.41c.39.39.9.59 1.41.59.51 0 1.02-.2 1.41-.59l7.78-7.78 2.81-2.81c.8-.78.8-2.07 0-2.86zM5.41 20L4 18.59l7.72-7.72 1.47 1.35L5.41 20z\"/>\n",
              "  </svg>\n",
              "      </button>\n",
              "      \n",
              "  <style>\n",
              "    .colab-df-container {\n",
              "      display:flex;\n",
              "      flex-wrap:wrap;\n",
              "      gap: 12px;\n",
              "    }\n",
              "\n",
              "    .colab-df-convert {\n",
              "      background-color: #E8F0FE;\n",
              "      border: none;\n",
              "      border-radius: 50%;\n",
              "      cursor: pointer;\n",
              "      display: none;\n",
              "      fill: #1967D2;\n",
              "      height: 32px;\n",
              "      padding: 0 0 0 0;\n",
              "      width: 32px;\n",
              "    }\n",
              "\n",
              "    .colab-df-convert:hover {\n",
              "      background-color: #E2EBFA;\n",
              "      box-shadow: 0px 1px 2px rgba(60, 64, 67, 0.3), 0px 1px 3px 1px rgba(60, 64, 67, 0.15);\n",
              "      fill: #174EA6;\n",
              "    }\n",
              "\n",
              "    [theme=dark] .colab-df-convert {\n",
              "      background-color: #3B4455;\n",
              "      fill: #D2E3FC;\n",
              "    }\n",
              "\n",
              "    [theme=dark] .colab-df-convert:hover {\n",
              "      background-color: #434B5C;\n",
              "      box-shadow: 0px 1px 3px 1px rgba(0, 0, 0, 0.15);\n",
              "      filter: drop-shadow(0px 1px 2px rgba(0, 0, 0, 0.3));\n",
              "      fill: #FFFFFF;\n",
              "    }\n",
              "  </style>\n",
              "\n",
              "      <script>\n",
              "        const buttonEl =\n",
              "          document.querySelector('#df-67d4c51a-5556-4eca-bb87-5ebccf01e02a button.colab-df-convert');\n",
              "        buttonEl.style.display =\n",
              "          google.colab.kernel.accessAllowed ? 'block' : 'none';\n",
              "\n",
              "        async function convertToInteractive(key) {\n",
              "          const element = document.querySelector('#df-67d4c51a-5556-4eca-bb87-5ebccf01e02a');\n",
              "          const dataTable =\n",
              "            await google.colab.kernel.invokeFunction('convertToInteractive',\n",
              "                                                     [key], {});\n",
              "          if (!dataTable) return;\n",
              "\n",
              "          const docLinkHtml = 'Like what you see? Visit the ' +\n",
              "            '<a target=\"_blank\" href=https://colab.research.google.com/notebooks/data_table.ipynb>data table notebook</a>'\n",
              "            + ' to learn more about interactive tables.';\n",
              "          element.innerHTML = '';\n",
              "          dataTable['output_type'] = 'display_data';\n",
              "          await google.colab.output.renderOutput(dataTable, element);\n",
              "          const docLink = document.createElement('div');\n",
              "          docLink.innerHTML = docLinkHtml;\n",
              "          element.appendChild(docLink);\n",
              "        }\n",
              "      </script>\n",
              "    </div>\n",
              "  </div>\n",
              "  "
            ]
          },
          "metadata": {},
          "execution_count": 366
        }
      ],
      "source": [
        "features_minmax_transform.head()"
      ]
    },
    {
      "cell_type": "markdown",
      "metadata": {
        "id": "WbB3cr5tuWFk"
      },
      "source": [
        "##Encoding Categorical variables"
      ]
    },
    {
      "cell_type": "code",
      "execution_count": 367,
      "metadata": {
        "id": "-3bzzF0_iU90",
        "colab": {
          "base_uri": "https://localhost:8080/"
        },
        "outputId": "daa22364-9199-4023-a857-e961f9c180aa"
      },
      "outputs": [
        {
          "output_type": "stream",
          "name": "stdout",
          "text": [
            "features.shape: (292, 85)\n"
          ]
        }
      ],
      "source": [
        "features = pd.get_dummies(features_minmax_transform)\n",
        "print('features.shape:', features.shape)"
      ]
    },
    {
      "cell_type": "code",
      "execution_count": 368,
      "metadata": {
        "id": "4iG6Q-QfiY2H",
        "colab": {
          "base_uri": "https://localhost:8080/"
        },
        "outputId": "d8118e9b-e450-4008-a3a9-334e07cc736c"
      },
      "outputs": [
        {
          "output_type": "stream",
          "name": "stdout",
          "text": [
            "target.shape: (292,)\n"
          ]
        }
      ],
      "source": [
        "from sklearn.preprocessing import LabelEncoder\n",
        "le = LabelEncoder()\n",
        "target = le.fit_transform(raw_target)\n",
        "print('target.shape:', target.shape)"
      ]
    },
    {
      "cell_type": "markdown",
      "metadata": {
        "id": "QjHtc0BbuYMw"
      },
      "source": [
        "*Function for Evaluation*"
      ]
    },
    {
      "cell_type": "code",
      "execution_count": 369,
      "metadata": {
        "id": "0LgMP3gAiaBA"
      },
      "outputs": [],
      "source": [
        "from sklearn import metrics\n",
        "from sklearn.metrics import accuracy_score, f1_score, precision_score, recall_score, cohen_kappa_score, roc_curve, auc, log_loss\n",
        "\n",
        "def model_report(y_act, y_pred):\n",
        "    print(\"Accuracy = \", accuracy_score(y_act, y_pred))\n",
        "    print(\"Precision = \" ,precision_score(y_act, y_pred))\n",
        "    print(\"Recall\\Sensitivity = \" ,recall_score(y_act, y_pred))\n",
        "    confusion = metrics.confusion_matrix(y_act, y_pred)\n",
        "    #[row, column]\n",
        "    TP = confusion[1, 1]\n",
        "    TN = confusion[0, 0]\n",
        "    FP = confusion[0, 1]\n",
        "    FN = confusion[1, 0]\n",
        "    specificity = TN / (TN + FP)\n",
        "    print(\"Specificity = \" ,specificity)\n",
        "    print(\"F1 Score = \" ,f1_score(y_act, y_pred))\n",
        "    \n",
        "    false_positive_rate, true_positive_rate, thresholds = roc_curve(y_act, y_pred)\n",
        "    print(\"AUC Score =\", auc(false_positive_rate, true_positive_rate))\n",
        "    print(\"Kappa score = \",cohen_kappa_score(y_act,y_pred))\n",
        "    print(\"Log Loss = \" ,log_loss(y_act, y_pred),\"\\n\")\n"
      ]
    },
    {
      "cell_type": "code",
      "source": [
        "import numpy as np\n",
        "from sklearn.model_selection import learning_curve\n",
        "from sklearn.model_selection import ShuffleSplit\n",
        "\n",
        "def plot_learning_curve(estimator, title, X, y, ylim=None, cv=None, n_jobs=1, train_sizes=np.linspace(.1, 1.0, 5)):\n",
        "    plt.figure()\n",
        "    plt.title(title)\n",
        "    if ylim is not None:\n",
        "        plt.ylim(*ylim)\n",
        "    plt.xlabel(\"Training examples\")\n",
        "    plt.ylabel(\"AUC\")\n",
        "    train_sizes, train_scores, test_scores = learning_curve(\n",
        "        estimator, X, y, cv=cv, n_jobs=n_jobs, train_sizes=train_sizes, scoring = 'roc_auc')\n",
        "    train_scores_mean = np.mean(train_scores, axis=1)\n",
        "    train_scores_std = np.std(train_scores, axis=1)\n",
        "    test_scores_mean = np.mean(test_scores, axis=1)\n",
        "    test_scores_std = np.std(test_scores, axis=1)\n",
        "\n",
        "    plt.fill_between(train_sizes, train_scores_mean - train_scores_std,\n",
        "                     train_scores_mean + train_scores_std, alpha=0.1,\n",
        "                     color=\"r\")\n",
        "    plt.fill_between(train_sizes, test_scores_mean - test_scores_std,\n",
        "                     test_scores_mean + test_scores_std, alpha=0.1, color=\"b\")\n",
        "    plt.plot(train_sizes, train_scores_mean, 'o-', color=\"r\",\n",
        "             label=\"Training score\")\n",
        "    plt.plot(train_sizes, test_scores_mean, 'o-', color=\"b\",\n",
        "             label=\"Cross-validation score\")\n",
        "\n",
        "    plt.legend(loc=\"lower right\")\n",
        "    return plt"
      ],
      "metadata": {
        "id": "MBdG3uG_khlU"
      },
      "execution_count": 370,
      "outputs": []
    },
    {
      "cell_type": "markdown",
      "metadata": {
        "id": "rCEAS01AubVo"
      },
      "source": [
        "\n",
        "##Spliting Data\n"
      ]
    },
    {
      "cell_type": "code",
      "execution_count": 371,
      "metadata": {
        "id": "7r1VSSq2iaDM",
        "colab": {
          "base_uri": "https://localhost:8080/"
        },
        "outputId": "89d42d27-f2bc-4035-d1b3-4417fc6ef882"
      },
      "outputs": [
        {
          "output_type": "stream",
          "name": "stdout",
          "text": [
            "X.shape: (292, 85)\n",
            "y.shape: (292,)\n"
          ]
        }
      ],
      "source": [
        "X = features\n",
        "y = target\n",
        "\n",
        "print('X.shape:', X.shape)\n",
        "print('y.shape:', y.shape)\n",
        "# print('X:', X)"
      ]
    },
    {
      "cell_type": "markdown",
      "source": [
        "## Feature Selection"
      ],
      "metadata": {
        "id": "hvDwWEOj_jt2"
      }
    },
    {
      "cell_type": "code",
      "source": [
        "from sklearn.feature_selection import SelectKBest \n",
        "from sklearn.feature_selection import chi2  \n",
        "chi2_features = SelectKBest(chi2,k=75)\n",
        "fit= chi2_features.fit(X, y)\n",
        "scores = pd.DataFrame(fit.scores_)\n",
        "columns = pd.DataFrame(features.columns)\n",
        "featureScores = pd.concat([columns,scores],axis=1)\n",
        "featureScores.columns = ['Features','Score']\n",
        "print(featureScores.nlargest(50,'Score')) "
      ],
      "metadata": {
        "colab": {
          "base_uri": "https://localhost:8080/"
        },
        "id": "r0CWIj02wYKT",
        "outputId": "388a511f-c1c5-421d-c872-2ffb2fb4497c"
      },
      "execution_count": 372,
      "outputs": [
        {
          "output_type": "stream",
          "name": "stdout",
          "text": [
            "                              Features      Score\n",
            "3                             A4_Score  42.338541\n",
            "8                             A9_Score  34.980461\n",
            "7                             A8_Score  28.251186\n",
            "11                              result  17.011055\n",
            "0                             A1_Score  16.570951\n",
            "9                            A10_Score  15.483910\n",
            "5                             A6_Score  14.625696\n",
            "2                             A3_Score  11.734209\n",
            "79         contry_of_res_United States  10.955781\n",
            "4                             A5_Score  10.821959\n",
            "6                             A7_Score   8.630529\n",
            "1                             A2_Score   7.134778\n",
            "77  contry_of_res_United Arab Emirates   6.536424\n",
            "52                contry_of_res_Jordan   4.343619\n",
            "16                  ethnicity_Hispanic   3.926709\n",
            "18           ethnicity_Middle Eastern    3.764138\n",
            "30               contry_of_res_Armenia   3.212766\n",
            "47                  contry_of_res_Iraq   2.801325\n",
            "67                 contry_of_res_Qatar   2.801325\n",
            "82                   relation_Relative   2.425684\n",
            "33               contry_of_res_Bahrain   2.141844\n",
            "36                contry_of_res_Brazil   2.141844\n",
            "71          contry_of_res_South Africa   2.141844\n",
            "21                   ethnicity_Turkish   1.867550\n",
            "28           contry_of_res_Afghanistan   1.867550\n",
            "50                 contry_of_res_Italy   1.867550\n",
            "57              contry_of_res_Malaysia   1.867550\n",
            "75                contry_of_res_Turkey   1.867550\n",
            "38                contry_of_res_Canada   1.501164\n",
            "15                     ethnicity_Black   1.434932\n",
            "41                 contry_of_res_Egypt   1.217463\n",
            "66           contry_of_res_Philippines   1.143018\n",
            "35                contry_of_res_Bhutan   1.070922\n",
            "37              contry_of_res_Bulgaria   1.070922\n",
            "39                 contry_of_res_China   1.070922\n",
            "42                contry_of_res_Europe   1.070922\n",
            "44               contry_of_res_Germany   1.070922\n",
            "48               contry_of_res_Ireland   1.070922\n",
            "49           contry_of_res_Isle of Man   1.070922\n",
            "58                 contry_of_res_Malta   1.070922\n",
            "60                 contry_of_res_Nepal   1.070922\n",
            "63               contry_of_res_Nigeria   1.070922\n",
            "73                contry_of_res_Sweden   1.070922\n",
            "84                       relation_self   1.070922\n",
            "46                 contry_of_res_India   1.026327\n",
            "29             contry_of_res_Argentina   0.933775\n",
            "40            contry_of_res_Costa Rica   0.933775\n",
            "45                 contry_of_res_Ghana   0.933775\n",
            "51                 contry_of_res_Japan   0.933775\n",
            "53                contry_of_res_Kuwait   0.933775\n"
          ]
        }
      ]
    },
    {
      "cell_type": "code",
      "source": [
        "from sklearn.feature_selection import SelectKBest \n",
        "from sklearn.feature_selection import chi2  \n",
        "# 700 features with highest chi-squared statistics are selected \n",
        "chi2_features = SelectKBest(chi2,k=75)\n",
        "X = chi2_features.fit_transform(X, y)\n",
        "y = target"
      ],
      "metadata": {
        "id": "-Qxwi13ewjMC"
      },
      "execution_count": 373,
      "outputs": []
    },
    {
      "cell_type": "code",
      "source": [
        "#Splitting the data into train test spit\n",
        "from sklearn.model_selection import train_test_split\n",
        "X_train, X_test, y_train, y_test = train_test_split(X, y, test_size = 0.20, random_state = 42)"
      ],
      "metadata": {
        "id": "3wKst1WOtWis"
      },
      "execution_count": 374,
      "outputs": []
    },
    {
      "cell_type": "markdown",
      "source": [
        "## Clustering"
      ],
      "metadata": {
        "id": "Pk3S-w_iH-sF"
      }
    },
    {
      "cell_type": "code",
      "source": [
        "# TSNE Plot\n",
        "from sklearn.manifold import TSNE\n",
        "\n",
        "def plotTSNE(data, label):\n",
        "  # Perform t-SNE with 2 components\n",
        "  tsne = TSNE(n_components=2)\n",
        "  data_tsne = tsne.fit_transform(data)\n",
        "\n",
        "  # Plot the t-SNE results with true labels\n",
        "  plt.scatter(data_tsne[label==0, 0], data_tsne[label==0, 1], label='Label 0')\n",
        "  plt.scatter(data_tsne[label==1, 0], data_tsne[label==1, 1], label='Label 1')\n",
        "  plt.xlabel('t-SNE Component 1')\n",
        "  plt.ylabel('t-SNE Component 2')\n",
        "  plt.legend()\n",
        "  plt.show()\n"
      ],
      "metadata": {
        "id": "P8FsNpSlwEae"
      },
      "execution_count": 375,
      "outputs": []
    },
    {
      "cell_type": "code",
      "source": [
        "# calculate clustering metrices\n",
        "from sklearn.metrics.cluster import normalized_mutual_info_score\n",
        "from sklearn.metrics.cluster import adjusted_rand_score\n",
        "from sklearn.metrics.cluster import rand_score\n",
        "from sklearn.metrics import cohen_kappa_score\n",
        "from sklearn.metrics import silhouette_score\n",
        "\n",
        "def calculate_scores(data, label_true, label_pred, algo):\n",
        "  # Calculate SC, NMI & ARI\n",
        "  sc_euclidean = silhouette_score(data, label_pred, metric='euclidean')\n",
        "  nmi = normalized_mutual_info_score(label_true, label_pred),\n",
        "  ari = adjusted_rand_score(label_true, label_pred)\n",
        "\n",
        "  print(algo, ':: NMI:', nmi, ' ARI:', ari, ' SC:', sc_euclidean)\n"
      ],
      "metadata": {
        "id": "-qwXZzGxwafz"
      },
      "execution_count": 376,
      "outputs": []
    },
    {
      "cell_type": "code",
      "source": [
        "# Perform K-Means clustering with 2 clusters\n",
        "# Define the parameter grid\n",
        "param_dist = {'n_clusters': [2],\n",
        "              'init': ['k-means++', 'random'],\n",
        "              'n_init': [10, 20, 50],\n",
        "              'max_iter': [300, 500, 1000],\n",
        "              'algorithm': ['lloyd', 'auto', 'full', 'elkan']}\n",
        "\n",
        "# Create a KMeans instance\n",
        "kmeans = KMeans()\n",
        "\n",
        "# Create a RandomizedSearchCV object\n",
        "random_search = RandomizedSearchCV(kmeans, param_distributions=param_dist, cv=5, n_iter=100, n_jobs=-1, verbose=2, random_state=42, scoring=silhouette_score)\n",
        "\n",
        "# Fit the RandomizedSearchCV object to the data\n",
        "random_search.fit(X_train)\n",
        "\n",
        "# Extract the best parameters and score\n",
        "best_params = random_search.best_params_\n",
        "best_score = random_search.best_score_\n",
        "print('best_params:', best_params)\n",
        "print('best_score:', best_score)\n",
        "\n",
        "# Create a new KMeans instance with the best parameters\n",
        "best_kmeans = KMeans(n_clusters=best_params['n_clusters'], init=best_params['init'], n_init=best_params['n_init'], max_iter=best_params['max_iter'], algorithm=best_params['algorithm'])\n",
        "\n",
        "# Fit the best KMeans model to the data\n",
        "best_kmeans.fit(X_train)\n",
        "\n",
        "# Predict the cluster labels for the data\n",
        "labels = best_kmeans.predict(X_test)\n",
        "\n",
        "calculate_scores(X_test, y_test, labels, 'Kmeans')\n",
        "# model_report(y_test, labels)"
      ],
      "metadata": {
        "colab": {
          "base_uri": "https://localhost:8080/"
        },
        "id": "pB72Snd4IHhT",
        "outputId": "c1d10ed5-60ce-4a00-d64a-704dfb558891"
      },
      "execution_count": 377,
      "outputs": [
        {
          "output_type": "stream",
          "name": "stdout",
          "text": [
            "Fitting 5 folds for each of 72 candidates, totalling 360 fits\n",
            "best_params: {'n_init': 10, 'n_clusters': 2, 'max_iter': 300, 'init': 'k-means++', 'algorithm': 'lloyd'}\n",
            "best_score: nan\n",
            "Kmeans :: NMI: (0.6155224288307527,)  ARI: 0.6284016636957813  SC: 0.11342309237734108\n"
          ]
        }
      ]
    },
    {
      "cell_type": "code",
      "source": [
        "# Perform Agglomerative clustering with 2 clusters\n",
        "# Define the parameter grid\n",
        "param_grid = {'n_clusters': [2],\n",
        "              'linkage': ['ward', 'complete', 'average'],\n",
        "              'affinity': ['euclidean', 'l1', 'l2', 'manhattan']}\n",
        "\n",
        "# Create a KMeans instance\n",
        "agglo = AgglomerativeClustering()\n",
        "\n",
        "# Create a GridSearchCV object\n",
        "random_search = RandomizedSearchCV(agglo, param_distributions=param_grid, n_iter=100, cv=5, verbose=2,\n",
        "                               random_state=43,n_jobs=-1, scoring=silhouette_score)\n",
        "\n",
        "# Fit the grid search to the data\n",
        "random_search.fit(X_train)\n",
        "\n",
        "# Extract the best parameters and score\n",
        "best_params = random_search.best_params_\n",
        "best_score = random_search.best_score_\n",
        "print('best_params:', best_params)\n",
        "print('best_score:', best_score)\n",
        "\n",
        "# Create a new KMeans instance with the best parameters\n",
        "best_agglo = AgglomerativeClustering(n_clusters=best_params['n_clusters'], linkage=best_params['linkage'], affinity=best_params['affinity'])\n",
        "\n",
        "# Fit the best KMeans model to the data\n",
        "best_agglo.fit(X_train)\n",
        "\n",
        "# Predict the cluster labels for the data\n",
        "labels = best_agglo.fit_predict(X_test)\n",
        "\n",
        "calculate_scores(X_test, y_test, labels, 'Agglo')\n",
        "# model_report(y_test, labels)"
      ],
      "metadata": {
        "colab": {
          "base_uri": "https://localhost:8080/"
        },
        "id": "VDLAXBH6OXrA",
        "outputId": "09598044-6f19-462f-b9ad-1f94dab498ce"
      },
      "execution_count": 378,
      "outputs": [
        {
          "output_type": "stream",
          "name": "stdout",
          "text": [
            "Fitting 5 folds for each of 12 candidates, totalling 60 fits\n",
            "best_params: {'n_clusters': 2, 'linkage': 'ward', 'affinity': 'euclidean'}\n",
            "best_score: nan\n",
            "Agglo :: NMI: (0.27312367187872183,)  ARI: 0.3406253715372726  SC: 0.07713217025452204\n"
          ]
        }
      ]
    },
    {
      "cell_type": "code",
      "source": [
        "# Perform Gaussian Mixture Model clustering with 2 components\n",
        "# Define the parameter grid\n",
        "param_grid = {'n_components': [2],\n",
        "              'covariance_type': ['full', 'tied', 'diag', 'spherical']}\n",
        "\n",
        "# Create a KMeans instance\n",
        "gmm = GaussianMixture()\n",
        "\n",
        "# Create a GridSearchCV object\n",
        "random_search = RandomizedSearchCV(gmm, param_distributions=param_grid, n_iter=100, cv=5, verbose=2,\n",
        "                               random_state=42,n_jobs=-1, scoring=silhouette_score)\n",
        "\n",
        "# Fit the grid search to the data\n",
        "random_search.fit(X_train)\n",
        "\n",
        "# Extract the best parameters and score\n",
        "best_params = random_search.best_params_\n",
        "best_score = random_search.best_score_\n",
        "print('best_params:', best_params)\n",
        "print('best_score:', best_score)\n",
        "\n",
        "# Create a new KMeans instance with the best parameters\n",
        "best_model = GaussianMixture(n_components=best_params['n_components'], covariance_type=best_params['covariance_type'])\n",
        "\n",
        "# Fit the best KMeans model to the data\n",
        "best_model.fit(X_train)\n",
        "\n",
        "# Predict the cluster labels for the data\n",
        "labels = best_model.predict(X_test)\n",
        "\n",
        "calculate_scores(X_test, y_test, labels, 'GMM')\n",
        "# model_report(y_test, labels)"
      ],
      "metadata": {
        "colab": {
          "base_uri": "https://localhost:8080/"
        },
        "id": "_l4FFhUQFv2B",
        "outputId": "3169504d-eb0e-4bda-d194-8bfb62ebe43e"
      },
      "execution_count": 379,
      "outputs": [
        {
          "output_type": "stream",
          "name": "stdout",
          "text": [
            "Fitting 5 folds for each of 4 candidates, totalling 20 fits\n",
            "best_params: {'n_components': 2, 'covariance_type': 'full'}\n",
            "best_score: nan\n",
            "GMM :: NMI: (0.16562165376501178,)  ARI: 0.14067495559502663  SC: 0.01671906055221412\n"
          ]
        }
      ]
    },
    {
      "cell_type": "code",
      "source": [
        "# Perform Spectral clustering with 2 components\n",
        "# Define the parameter grid\n",
        "param_grid = {'n_clusters': [2],\n",
        "              'affinity': ['nearest_neighbors', 'rbf'],\n",
        "              'gamma': [0.001, 0.01, .1, 1, 10, 100]}\n",
        "\n",
        "# Create a KMeans instance\n",
        "spectral = SpectralClustering()\n",
        "\n",
        "# Create a GridSearchCV object\n",
        "random_search = RandomizedSearchCV(spectral, param_distributions=param_grid, n_iter=100, cv=5, verbose=2,\n",
        "                               random_state=42, n_jobs=-1, scoring=silhouette_score)\n",
        "\n",
        "# Fit the grid search to the data\n",
        "random_search.fit(X_train)\n",
        "\n",
        "# Extract the best parameters and score\n",
        "best_params = random_search.best_params_\n",
        "best_score = random_search.best_score_\n",
        "print('best_params:', best_params)\n",
        "print('best_score:', best_score)\n",
        "\n",
        "# Create a new KMeans instance with the best parameters\n",
        "best_model = SpectralClustering(n_clusters=best_params['n_clusters'], affinity=best_params['affinity'], gamma=best_params['gamma'])\n",
        "\n",
        "# Fit the best KMeans model to the data\n",
        "best_model.fit(X_train)\n",
        "\n",
        "# Predict the cluster labels for the data\n",
        "labels = best_model.fit_predict(X_test)\n",
        "\n",
        "calculate_scores(X_test, y_test, labels, 'Spectral')\n",
        "# model_report(y_test, labels)"
      ],
      "metadata": {
        "colab": {
          "base_uri": "https://localhost:8080/"
        },
        "id": "dbysrdAjHKUO",
        "outputId": "ace9c865-7764-4476-89a9-5f8e21cbf391"
      },
      "execution_count": 380,
      "outputs": [
        {
          "output_type": "stream",
          "name": "stdout",
          "text": [
            "Fitting 5 folds for each of 12 candidates, totalling 60 fits\n",
            "best_params: {'n_clusters': 2, 'gamma': 0.001, 'affinity': 'nearest_neighbors'}\n",
            "best_score: nan\n",
            "Spectral :: NMI: (0.34048259536938613,)  ARI: 0.23149792776791  SC: 0.13087693869420372\n"
          ]
        }
      ]
    },
    {
      "cell_type": "code",
      "source": [
        "# Perform Birch clustering with 2 components\n",
        "# Define the parameter grid\n",
        "param_grid = {'n_clusters': [2],\n",
        "              'threshold': [.001, 0.01, .05, 0.1, 0.5, 1],\n",
        "              'branching_factor': [20, 50, 100, 200]}\n",
        "\n",
        "# Create a KMeans instance\n",
        "birch = Birch()\n",
        "\n",
        "# Create a GridSearchCV object\n",
        "random_search = RandomizedSearchCV(birch, param_distributions=param_grid, n_iter=100, cv=5, verbose=2,\n",
        "                               random_state=42, n_jobs=-1, scoring=silhouette_score)\n",
        "\n",
        "# Fit the grid search to the data\n",
        "random_search.fit(X_train)\n",
        "\n",
        "# Extract the best parameters and score\n",
        "best_params = random_search.best_params_\n",
        "best_score = random_search.best_score_\n",
        "print('best_params:', best_params)\n",
        "print('best_score:', best_score)\n",
        "\n",
        "# Create a new KMeans instance with the best parameters\n",
        "best_model = Birch(n_clusters=best_params['n_clusters'], threshold=best_params['threshold'], branching_factor=best_params['branching_factor'])\n",
        "\n",
        "# Fit the best KMeans model to the data\n",
        "best_model.fit(X_train)\n",
        "\n",
        "# Predict the cluster labels for the data\n",
        "labels = best_model.fit_predict(X_test)\n",
        "\n",
        "calculate_scores(X_test, y_test, labels, 'Birch')\n",
        "# model_report(y_test, labels)"
      ],
      "metadata": {
        "colab": {
          "base_uri": "https://localhost:8080/"
        },
        "id": "99FNKEveI7eK",
        "outputId": "184d165b-3014-474c-db79-088984740429"
      },
      "execution_count": 381,
      "outputs": [
        {
          "output_type": "stream",
          "name": "stdout",
          "text": [
            "Fitting 5 folds for each of 24 candidates, totalling 120 fits\n",
            "best_params: {'threshold': 0.001, 'n_clusters': 2, 'branching_factor': 20}\n",
            "best_score: nan\n",
            "Birch :: NMI: (0.27312367187872183,)  ARI: 0.3406253715372726  SC: 0.07713217025452204\n"
          ]
        }
      ]
    }
  ],
  "metadata": {
    "colab": {
      "provenance": [],
      "toc_visible": true,
      "include_colab_link": true
    },
    "kernelspec": {
      "display_name": "Python 3",
      "language": "python",
      "name": "python3"
    },
    "language_info": {
      "codemirror_mode": {
        "name": "ipython",
        "version": 3
      },
      "file_extension": ".py",
      "mimetype": "text/x-python",
      "name": "python",
      "nbconvert_exporter": "python",
      "pygments_lexer": "ipython3",
      "version": "3.8.8"
    },
    "accelerator": "GPU",
    "gpuClass": "standard"
  },
  "nbformat": 4,
  "nbformat_minor": 0
}